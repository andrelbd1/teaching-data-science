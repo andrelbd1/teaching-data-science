{
 "cells": [
  {
   "cell_type": "markdown",
   "id": "e17893ad",
   "metadata": {},
   "source": [
    "## <font color=green> Series"
   ]
  },
  {
   "cell_type": "code",
   "execution_count": 1,
   "id": "f2c85443",
   "metadata": {},
   "outputs": [],
   "source": [
    "import pandas as pd\n",
    "\n",
    "import warnings\n",
    "warnings.filterwarnings('ignore')\n",
    "\n",
    "# Comando para exibir todas as colunas do arquivo\n",
    "# pd.set_option('display.max_columns', None)\n",
    "# pd.set_option('display.max_rows', None)"
   ]
  },
  {
   "cell_type": "markdown",
   "id": "f99b330c",
   "metadata": {},
   "source": [
    "- Series são objetos unidimensionais contendo dados e labels (ou index)\n",
    "- Formas de criação de Series"
   ]
  },
  {
   "cell_type": "code",
   "execution_count": 2,
   "id": "cc2b20ce",
   "metadata": {},
   "outputs": [
    {
     "data": {
      "application/vnd.microsoft.datawrangler.viewer.v0+json": {
       "columns": [
        {
         "name": "index",
         "rawType": "int64",
         "type": "integer"
        },
        {
         "name": "0",
         "rawType": "object",
         "type": "string"
        }
       ],
       "ref": "a99be527-4451-412e-8d11-88934e2183af",
       "rows": [
        [
         "0",
         "a"
        ],
        [
         "1",
         "b"
        ],
        [
         "2",
         "c"
        ],
        [
         "3",
         "d"
        ],
        [
         "4",
         "e"
        ],
        [
         "5",
         "f"
        ]
       ],
       "shape": {
        "columns": 1,
        "rows": 6
       }
      },
      "text/plain": [
       "0    a\n",
       "1    b\n",
       "2    c\n",
       "3    d\n",
       "4    e\n",
       "5    f\n",
       "dtype: object"
      ]
     },
     "execution_count": 2,
     "metadata": {},
     "output_type": "execute_result"
    }
   ],
   "source": [
    "s = pd.Series(list('abcdef'))\n",
    "s"
   ]
  },
  {
   "cell_type": "code",
   "execution_count": 3,
   "id": "dabc6a54",
   "metadata": {},
   "outputs": [
    {
     "data": {
      "application/vnd.microsoft.datawrangler.viewer.v0+json": {
       "columns": [
        {
         "name": "index",
         "rawType": "int64",
         "type": "integer"
        },
        {
         "name": "0",
         "rawType": "int64",
         "type": "integer"
        }
       ],
       "ref": "39762240-1f5a-424f-a5c2-785338cca104",
       "rows": [
        [
         "0",
         "2"
        ],
        [
         "1",
         "4"
        ],
        [
         "2",
         "6"
        ],
        [
         "3",
         "8"
        ]
       ],
       "shape": {
        "columns": 1,
        "rows": 4
       }
      },
      "text/plain": [
       "0    2\n",
       "1    4\n",
       "2    6\n",
       "3    8\n",
       "dtype: int64"
      ]
     },
     "execution_count": 3,
     "metadata": {},
     "output_type": "execute_result"
    }
   ],
   "source": [
    "s = pd.Series([2, 4, 6, 8])\n",
    "s"
   ]
  },
  {
   "cell_type": "markdown",
   "id": "1f156f93",
   "metadata": {},
   "source": [
    "- O index pode ser especificado"
   ]
  },
  {
   "cell_type": "code",
   "execution_count": 4,
   "id": "f5b469ee",
   "metadata": {},
   "outputs": [
    {
     "data": {
      "application/vnd.microsoft.datawrangler.viewer.v0+json": {
       "columns": [
        {
         "name": "index",
         "rawType": "object",
         "type": "string"
        },
        {
         "name": "0",
         "rawType": "int64",
         "type": "integer"
        }
       ],
       "ref": "0b9b968c-4ec6-4cdd-b7db-639eef35a2a7",
       "rows": [
        [
         "f",
         "2"
        ],
        [
         "a",
         "4"
        ],
        [
         "c",
         "6"
        ],
        [
         "e",
         "8"
        ]
       ],
       "shape": {
        "columns": 1,
        "rows": 4
       }
      },
      "text/plain": [
       "f    2\n",
       "a    4\n",
       "c    6\n",
       "e    8\n",
       "dtype: int64"
      ]
     },
     "execution_count": 4,
     "metadata": {},
     "output_type": "execute_result"
    }
   ],
   "source": [
    "s = pd.Series([2, 4, 6, 8], index = ['f', 'a', 'c', 'e'])\n",
    "s"
   ]
  },
  {
   "cell_type": "markdown",
   "id": "d2578907",
   "metadata": {},
   "source": [
    "- O valor pode ser selecionado pelo seu index"
   ]
  },
  {
   "cell_type": "code",
   "execution_count": 5,
   "id": "6034a84e",
   "metadata": {},
   "outputs": [
    {
     "data": {
      "text/plain": [
       "np.int64(4)"
      ]
     },
     "execution_count": 5,
     "metadata": {},
     "output_type": "execute_result"
    }
   ],
   "source": [
    "s['a']"
   ]
  },
  {
   "cell_type": "markdown",
   "id": "7bd13384",
   "metadata": {},
   "source": [
    "- Assim como múltiplos valores também podem ser selecionados"
   ]
  },
  {
   "cell_type": "code",
   "execution_count": 6,
   "id": "051c5045",
   "metadata": {},
   "outputs": [
    {
     "data": {
      "application/vnd.microsoft.datawrangler.viewer.v0+json": {
       "columns": [
        {
         "name": "index",
         "rawType": "object",
         "type": "string"
        },
        {
         "name": "0",
         "rawType": "int64",
         "type": "integer"
        }
       ],
       "ref": "7667abe0-c8f0-4271-a67d-b3b126b7627d",
       "rows": [
        [
         "a",
         "4"
        ],
        [
         "c",
         "6"
        ]
       ],
       "shape": {
        "columns": 1,
        "rows": 2
       }
      },
      "text/plain": [
       "a    4\n",
       "c    6\n",
       "dtype: int64"
      ]
     },
     "execution_count": 6,
     "metadata": {},
     "output_type": "execute_result"
    }
   ],
   "source": [
    "s[['a','c']]"
   ]
  },
  {
   "cell_type": "markdown",
   "id": "6d5146c0",
   "metadata": {},
   "source": [
    "- Os indices não precisam ser valores únicos"
   ]
  },
  {
   "cell_type": "code",
   "execution_count": 7,
   "id": "defd3c65",
   "metadata": {},
   "outputs": [
    {
     "data": {
      "application/vnd.microsoft.datawrangler.viewer.v0+json": {
       "columns": [
        {
         "name": "index",
         "rawType": "object",
         "type": "string"
        },
        {
         "name": "0",
         "rawType": "int64",
         "type": "integer"
        }
       ],
       "ref": "563a8482-2c7c-4828-8860-e245c5991cd6",
       "rows": [
        [
         "a",
         "0"
        ],
        [
         "b",
         "1"
        ],
        [
         "a",
         "2"
        ],
        [
         "b",
         "3"
        ]
       ],
       "shape": {
        "columns": 1,
        "rows": 4
       }
      },
      "text/plain": [
       "a    0\n",
       "b    1\n",
       "a    2\n",
       "b    3\n",
       "dtype: int64"
      ]
     },
     "execution_count": 7,
     "metadata": {},
     "output_type": "execute_result"
    }
   ],
   "source": [
    "s2 = pd.Series(range(4), index = list('abab'))\n",
    "s2"
   ]
  },
  {
   "cell_type": "code",
   "execution_count": 8,
   "id": "4052fbbe",
   "metadata": {},
   "outputs": [
    {
     "data": {
      "application/vnd.microsoft.datawrangler.viewer.v0+json": {
       "columns": [
        {
         "name": "index",
         "rawType": "object",
         "type": "string"
        },
        {
         "name": "0",
         "rawType": "int64",
         "type": "integer"
        }
       ],
       "ref": "161eea3a-1d56-4b60-8e51-88116ac2af5a",
       "rows": [
        [
         "a",
         "0"
        ],
        [
         "a",
         "2"
        ]
       ],
       "shape": {
        "columns": 1,
        "rows": 2
       }
      },
      "text/plain": [
       "a    0\n",
       "a    2\n",
       "dtype: int64"
      ]
     },
     "execution_count": 8,
     "metadata": {},
     "output_type": "execute_result"
    }
   ],
   "source": [
    "s2['a']"
   ]
  },
  {
   "cell_type": "code",
   "execution_count": 9,
   "id": "dda5ca0a",
   "metadata": {},
   "outputs": [
    {
     "data": {
      "text/plain": [
       "np.int64(2)"
      ]
     },
     "execution_count": 9,
     "metadata": {},
     "output_type": "execute_result"
    }
   ],
   "source": [
    "s2['a'][1]"
   ]
  },
  {
   "cell_type": "markdown",
   "id": "16979fa3",
   "metadata": {},
   "source": [
    "- Series suportam operações de filtragem"
   ]
  },
  {
   "cell_type": "code",
   "execution_count": 10,
   "id": "e434cad5",
   "metadata": {},
   "outputs": [
    {
     "data": {
      "application/vnd.microsoft.datawrangler.viewer.v0+json": {
       "columns": [
        {
         "name": "index",
         "rawType": "object",
         "type": "string"
        },
        {
         "name": "0",
         "rawType": "int64",
         "type": "integer"
        }
       ],
       "ref": "3f668c28-4487-4fd9-825f-3cad52192d19",
       "rows": [
        [
         "f",
         "2"
        ],
        [
         "a",
         "4"
        ],
        [
         "c",
         "6"
        ],
        [
         "e",
         "8"
        ]
       ],
       "shape": {
        "columns": 1,
        "rows": 4
       }
      },
      "text/plain": [
       "f    2\n",
       "a    4\n",
       "c    6\n",
       "e    8\n",
       "dtype: int64"
      ]
     },
     "execution_count": 10,
     "metadata": {},
     "output_type": "execute_result"
    }
   ],
   "source": [
    "s"
   ]
  },
  {
   "cell_type": "code",
   "execution_count": 11,
   "id": "e3d0c120",
   "metadata": {},
   "outputs": [
    {
     "data": {
      "application/vnd.microsoft.datawrangler.viewer.v0+json": {
       "columns": [
        {
         "name": "index",
         "rawType": "object",
         "type": "string"
        },
        {
         "name": "0",
         "rawType": "int64",
         "type": "integer"
        }
       ],
       "ref": "eb2d133e-6a95-4c75-bc13-3729ee297d6c",
       "rows": [
        [
         "c",
         "6"
        ],
        [
         "e",
         "8"
        ]
       ],
       "shape": {
        "columns": 1,
        "rows": 2
       }
      },
      "text/plain": [
       "c    6\n",
       "e    8\n",
       "dtype: int64"
      ]
     },
     "execution_count": 11,
     "metadata": {},
     "output_type": "execute_result"
    }
   ],
   "source": [
    "s[s>4]"
   ]
  },
  {
   "cell_type": "code",
   "execution_count": 12,
   "id": "fc61953e",
   "metadata": {},
   "outputs": [
    {
     "data": {
      "application/vnd.microsoft.datawrangler.viewer.v0+json": {
       "columns": [
        {
         "name": "index",
         "rawType": "object",
         "type": "string"
        },
        {
         "name": "0",
         "rawType": "bool",
         "type": "boolean"
        }
       ],
       "ref": "4f66d790-56aa-4161-8315-bef0d5e37d2e",
       "rows": [
        [
         "f",
         "False"
        ],
        [
         "a",
         "False"
        ],
        [
         "c",
         "True"
        ],
        [
         "e",
         "True"
        ]
       ],
       "shape": {
        "columns": 1,
        "rows": 4
       }
      },
      "text/plain": [
       "f    False\n",
       "a    False\n",
       "c     True\n",
       "e     True\n",
       "dtype: bool"
      ]
     },
     "execution_count": 12,
     "metadata": {},
     "output_type": "execute_result"
    }
   ],
   "source": [
    "s>4"
   ]
  },
  {
   "cell_type": "markdown",
   "id": "933470f6",
   "metadata": {},
   "source": [
    "- Podemos realizar também operações aritméticas\n"
   ]
  },
  {
   "cell_type": "code",
   "execution_count": 13,
   "id": "83b49e10",
   "metadata": {},
   "outputs": [
    {
     "data": {
      "application/vnd.microsoft.datawrangler.viewer.v0+json": {
       "columns": [
        {
         "name": "index",
         "rawType": "object",
         "type": "string"
        },
        {
         "name": "0",
         "rawType": "int64",
         "type": "integer"
        }
       ],
       "ref": "0fd3da0c-e7ad-4e1e-96e1-edd2c37c9157",
       "rows": [
        [
         "f",
         "6"
        ],
        [
         "a",
         "8"
        ],
        [
         "c",
         "10"
        ],
        [
         "e",
         "12"
        ]
       ],
       "shape": {
        "columns": 1,
        "rows": 4
       }
      },
      "text/plain": [
       "f     6\n",
       "a     8\n",
       "c    10\n",
       "e    12\n",
       "dtype: int64"
      ]
     },
     "execution_count": 13,
     "metadata": {},
     "output_type": "execute_result"
    }
   ],
   "source": [
    "s+4"
   ]
  },
  {
   "cell_type": "code",
   "execution_count": 14,
   "id": "cd0b8174",
   "metadata": {},
   "outputs": [
    {
     "data": {
      "application/vnd.microsoft.datawrangler.viewer.v0+json": {
       "columns": [
        {
         "name": "index",
         "rawType": "object",
         "type": "string"
        },
        {
         "name": "0",
         "rawType": "int64",
         "type": "integer"
        }
       ],
       "ref": "7aa066c4-6a73-431d-a7d9-c626cfe57d08",
       "rows": [
        [
         "f",
         "8"
        ],
        [
         "a",
         "16"
        ],
        [
         "c",
         "24"
        ],
        [
         "e",
         "32"
        ]
       ],
       "shape": {
        "columns": 1,
        "rows": 4
       }
      },
      "text/plain": [
       "f     8\n",
       "a    16\n",
       "c    24\n",
       "e    32\n",
       "dtype: int64"
      ]
     },
     "execution_count": 14,
     "metadata": {},
     "output_type": "execute_result"
    }
   ],
   "source": [
    "s*4"
   ]
  },
  {
   "cell_type": "markdown",
   "id": "4ef7f131",
   "metadata": {},
   "source": [
    "- Series suportam variáveis nulas"
   ]
  },
  {
   "cell_type": "code",
   "execution_count": 15,
   "id": "6456571a",
   "metadata": {},
   "outputs": [
    {
     "data": {
      "application/vnd.microsoft.datawrangler.viewer.v0+json": {
       "columns": [
        {
         "name": "index",
         "rawType": "object",
         "type": "string"
        },
        {
         "name": "0",
         "rawType": "int64",
         "type": "integer"
        }
       ],
       "ref": "97644905-92f0-42fa-b40f-9baa3b66a725",
       "rows": [
        [
         "b",
         "100"
        ],
        [
         "c",
         "150"
        ],
        [
         "d",
         "200"
        ]
       ],
       "shape": {
        "columns": 1,
        "rows": 3
       }
      },
      "text/plain": [
       "b    100\n",
       "c    150\n",
       "d    200\n",
       "dtype: int64"
      ]
     },
     "execution_count": 15,
     "metadata": {},
     "output_type": "execute_result"
    }
   ],
   "source": [
    "sdata = {'b': 100, 'c': 150, 'd': 200}\n",
    "s = pd.Series(sdata)\n",
    "s"
   ]
  },
  {
   "cell_type": "code",
   "execution_count": 16,
   "id": "8e655166",
   "metadata": {},
   "outputs": [
    {
     "data": {
      "application/vnd.microsoft.datawrangler.viewer.v0+json": {
       "columns": [
        {
         "name": "index",
         "rawType": "object",
         "type": "string"
        },
        {
         "name": "0",
         "rawType": "float64",
         "type": "float"
        }
       ],
       "ref": "f136ff09-76a5-494d-a11d-df7d503da9e3",
       "rows": [
        [
         "a",
         null
        ],
        [
         "b",
         "100.0"
        ],
        [
         "c",
         "150.0"
        ],
        [
         "d",
         "200.0"
        ]
       ],
       "shape": {
        "columns": 1,
        "rows": 4
       }
      },
      "text/plain": [
       "a      NaN\n",
       "b    100.0\n",
       "c    150.0\n",
       "d    200.0\n",
       "dtype: float64"
      ]
     },
     "execution_count": 16,
     "metadata": {},
     "output_type": "execute_result"
    }
   ],
   "source": [
    "s = pd.Series(sdata, list('abcd'))\n",
    "s"
   ]
  },
  {
   "cell_type": "markdown",
   "id": "ccdb7b1c",
   "metadata": {},
   "source": [
    "- É possível realizar também operações aritméticas entre duas séries"
   ]
  },
  {
   "cell_type": "code",
   "execution_count": 17,
   "id": "e3fb4156",
   "metadata": {},
   "outputs": [
    {
     "data": {
      "application/vnd.microsoft.datawrangler.viewer.v0+json": {
       "columns": [
        {
         "name": "index",
         "rawType": "object",
         "type": "string"
        },
        {
         "name": "0",
         "rawType": "int64",
         "type": "integer"
        }
       ],
       "ref": "4bfd955e-c0e1-4636-bfe9-0b9e9f6d63e8",
       "rows": [
        [
         "c",
         "1"
        ],
        [
         "b",
         "2"
        ],
        [
         "a",
         "3"
        ]
       ],
       "shape": {
        "columns": 1,
        "rows": 3
       }
      },
      "text/plain": [
       "c    1\n",
       "b    2\n",
       "a    3\n",
       "dtype: int64"
      ]
     },
     "execution_count": 17,
     "metadata": {},
     "output_type": "execute_result"
    }
   ],
   "source": [
    "s2 = pd.Series([1,2,3], index = ['c','b','a'])\n",
    "s2"
   ]
  },
  {
   "cell_type": "code",
   "execution_count": 18,
   "id": "758877fa",
   "metadata": {},
   "outputs": [
    {
     "data": {
      "application/vnd.microsoft.datawrangler.viewer.v0+json": {
       "columns": [
        {
         "name": "index",
         "rawType": "object",
         "type": "string"
        },
        {
         "name": "0",
         "rawType": "float64",
         "type": "float"
        }
       ],
       "ref": "5c75ff61-eccb-4253-ae9a-a21299fe8fbf",
       "rows": [
        [
         "a",
         null
        ],
        [
         "b",
         "200.0"
        ],
        [
         "c",
         "150.0"
        ],
        [
         "d",
         null
        ]
       ],
       "shape": {
        "columns": 1,
        "rows": 4
       }
      },
      "text/plain": [
       "a      NaN\n",
       "b    200.0\n",
       "c    150.0\n",
       "d      NaN\n",
       "dtype: float64"
      ]
     },
     "execution_count": 18,
     "metadata": {},
     "output_type": "execute_result"
    }
   ],
   "source": [
    "s*s2"
   ]
  },
  {
   "cell_type": "markdown",
   "id": "9184beb2",
   "metadata": {},
   "source": [
    "## <font color=green> DataFrame"
   ]
  },
  {
   "cell_type": "markdown",
   "id": "4f9d622f",
   "metadata": {},
   "source": [
    "- DataFrames são como planilhas, uma estrutura de dados contendo uma coleção de colunas.\n",
    "- Possui linhas e colunas"
   ]
  },
  {
   "cell_type": "code",
   "execution_count": 19,
   "id": "2ba98050",
   "metadata": {},
   "outputs": [
    {
     "data": {
      "application/vnd.microsoft.datawrangler.viewer.v0+json": {
       "columns": [
        {
         "name": "index",
         "rawType": "int64",
         "type": "integer"
        },
        {
         "name": "pontuação",
         "rawType": "int64",
         "type": "integer"
        },
        {
         "name": "time",
         "rawType": "object",
         "type": "string"
        },
        {
         "name": "ano",
         "rawType": "int64",
         "type": "integer"
        }
       ],
       "ref": "25d8cac8-2e4e-4629-805b-cd1fc42a91df",
       "rows": [
        [
         "0",
         "81",
         "Corinthians",
         "2015"
        ],
        [
         "1",
         "80",
         "Palmeiras",
         "2016"
        ],
        [
         "2",
         "72",
         "Corinthians",
         "2017"
        ],
        [
         "3",
         "80",
         "Palmeiras",
         "2018"
        ],
        [
         "4",
         "90",
         "Flamengo",
         "2019"
        ],
        [
         "5",
         "71",
         "Flamengo",
         "2020"
        ]
       ],
       "shape": {
        "columns": 3,
        "rows": 6
       }
      },
      "text/html": [
       "<div>\n",
       "<style scoped>\n",
       "    .dataframe tbody tr th:only-of-type {\n",
       "        vertical-align: middle;\n",
       "    }\n",
       "\n",
       "    .dataframe tbody tr th {\n",
       "        vertical-align: top;\n",
       "    }\n",
       "\n",
       "    .dataframe thead th {\n",
       "        text-align: right;\n",
       "    }\n",
       "</style>\n",
       "<table border=\"1\" class=\"dataframe\">\n",
       "  <thead>\n",
       "    <tr style=\"text-align: right;\">\n",
       "      <th></th>\n",
       "      <th>pontuação</th>\n",
       "      <th>time</th>\n",
       "      <th>ano</th>\n",
       "    </tr>\n",
       "  </thead>\n",
       "  <tbody>\n",
       "    <tr>\n",
       "      <th>0</th>\n",
       "      <td>81</td>\n",
       "      <td>Corinthians</td>\n",
       "      <td>2015</td>\n",
       "    </tr>\n",
       "    <tr>\n",
       "      <th>1</th>\n",
       "      <td>80</td>\n",
       "      <td>Palmeiras</td>\n",
       "      <td>2016</td>\n",
       "    </tr>\n",
       "    <tr>\n",
       "      <th>2</th>\n",
       "      <td>72</td>\n",
       "      <td>Corinthians</td>\n",
       "      <td>2017</td>\n",
       "    </tr>\n",
       "    <tr>\n",
       "      <th>3</th>\n",
       "      <td>80</td>\n",
       "      <td>Palmeiras</td>\n",
       "      <td>2018</td>\n",
       "    </tr>\n",
       "    <tr>\n",
       "      <th>4</th>\n",
       "      <td>90</td>\n",
       "      <td>Flamengo</td>\n",
       "      <td>2019</td>\n",
       "    </tr>\n",
       "    <tr>\n",
       "      <th>5</th>\n",
       "      <td>71</td>\n",
       "      <td>Flamengo</td>\n",
       "      <td>2020</td>\n",
       "    </tr>\n",
       "  </tbody>\n",
       "</table>\n",
       "</div>"
      ],
      "text/plain": [
       "   pontuação         time   ano\n",
       "0         81  Corinthians  2015\n",
       "1         80    Palmeiras  2016\n",
       "2         72  Corinthians  2017\n",
       "3         80    Palmeiras  2018\n",
       "4         90     Flamengo  2019\n",
       "5         71     Flamengo  2020"
      ]
     },
     "execution_count": 19,
     "metadata": {},
     "output_type": "execute_result"
    }
   ],
   "source": [
    "data = {'pontuação':[81,80,72,80,90,71],\n",
    "        'time':['Corinthians','Palmeiras','Corinthians','Palmeiras','Flamengo','Flamengo'],\n",
    "        'ano':[2015,2016,2017,2018,2019,2020]}\n",
    "frame = pd.DataFrame(data)\n",
    "frame"
   ]
  },
  {
   "cell_type": "code",
   "execution_count": 20,
   "id": "1dee30b5",
   "metadata": {},
   "outputs": [
    {
     "data": {
      "application/vnd.microsoft.datawrangler.viewer.v0+json": {
       "columns": [
        {
         "name": "index",
         "rawType": "int64",
         "type": "integer"
        },
        {
         "name": "Corinthians",
         "rawType": "float64",
         "type": "float"
        },
        {
         "name": "Palmeiras",
         "rawType": "float64",
         "type": "float"
        },
        {
         "name": "Flamengo",
         "rawType": "float64",
         "type": "float"
        }
       ],
       "ref": "9d8aaf39-abaa-4770-bb3e-00331ff222c7",
       "rows": [
        [
         "2015",
         "81.0",
         null,
         null
        ],
        [
         "2017",
         "72.0",
         null,
         null
        ],
        [
         "2016",
         null,
         "80.0",
         null
        ],
        [
         "2018",
         null,
         "80.0",
         null
        ],
        [
         "2019",
         null,
         null,
         "90.0"
        ],
        [
         "2020",
         null,
         null,
         "71.0"
        ]
       ],
       "shape": {
        "columns": 3,
        "rows": 6
       }
      },
      "text/html": [
       "<div>\n",
       "<style scoped>\n",
       "    .dataframe tbody tr th:only-of-type {\n",
       "        vertical-align: middle;\n",
       "    }\n",
       "\n",
       "    .dataframe tbody tr th {\n",
       "        vertical-align: top;\n",
       "    }\n",
       "\n",
       "    .dataframe thead th {\n",
       "        text-align: right;\n",
       "    }\n",
       "</style>\n",
       "<table border=\"1\" class=\"dataframe\">\n",
       "  <thead>\n",
       "    <tr style=\"text-align: right;\">\n",
       "      <th></th>\n",
       "      <th>Corinthians</th>\n",
       "      <th>Palmeiras</th>\n",
       "      <th>Flamengo</th>\n",
       "    </tr>\n",
       "  </thead>\n",
       "  <tbody>\n",
       "    <tr>\n",
       "      <th>2015</th>\n",
       "      <td>81.0</td>\n",
       "      <td>NaN</td>\n",
       "      <td>NaN</td>\n",
       "    </tr>\n",
       "    <tr>\n",
       "      <th>2017</th>\n",
       "      <td>72.0</td>\n",
       "      <td>NaN</td>\n",
       "      <td>NaN</td>\n",
       "    </tr>\n",
       "    <tr>\n",
       "      <th>2016</th>\n",
       "      <td>NaN</td>\n",
       "      <td>80.0</td>\n",
       "      <td>NaN</td>\n",
       "    </tr>\n",
       "    <tr>\n",
       "      <th>2018</th>\n",
       "      <td>NaN</td>\n",
       "      <td>80.0</td>\n",
       "      <td>NaN</td>\n",
       "    </tr>\n",
       "    <tr>\n",
       "      <th>2019</th>\n",
       "      <td>NaN</td>\n",
       "      <td>NaN</td>\n",
       "      <td>90.0</td>\n",
       "    </tr>\n",
       "    <tr>\n",
       "      <th>2020</th>\n",
       "      <td>NaN</td>\n",
       "      <td>NaN</td>\n",
       "      <td>71.0</td>\n",
       "    </tr>\n",
       "  </tbody>\n",
       "</table>\n",
       "</div>"
      ],
      "text/plain": [
       "      Corinthians  Palmeiras  Flamengo\n",
       "2015         81.0        NaN       NaN\n",
       "2017         72.0        NaN       NaN\n",
       "2016          NaN       80.0       NaN\n",
       "2018          NaN       80.0       NaN\n",
       "2019          NaN        NaN      90.0\n",
       "2020          NaN        NaN      71.0"
      ]
     },
     "execution_count": 20,
     "metadata": {},
     "output_type": "execute_result"
    }
   ],
   "source": [
    "pop_data = {'Corinthians': {2015:81, 2017:72},\n",
    "        'Palmeiras': {2016:80, 2018:80},\n",
    "        'Flamengo': {2019:90,2020:71}        \n",
    "        }\n",
    "        \n",
    "pop = pd.DataFrame(pop_data)\n",
    "pop"
   ]
  },
  {
   "cell_type": "markdown",
   "id": "9b5c093f",
   "metadata": {},
   "source": [
    "- As colunas podem ser retornadas como uma série"
   ]
  },
  {
   "cell_type": "code",
   "execution_count": 21,
   "id": "e2ebce59",
   "metadata": {},
   "outputs": [
    {
     "data": {
      "application/vnd.microsoft.datawrangler.viewer.v0+json": {
       "columns": [
        {
         "name": "index",
         "rawType": "int64",
         "type": "integer"
        },
        {
         "name": "time",
         "rawType": "object",
         "type": "string"
        }
       ],
       "ref": "4ab7eb71-bd27-451d-8d16-5da059cffb9f",
       "rows": [
        [
         "0",
         "Corinthians"
        ],
        [
         "1",
         "Palmeiras"
        ],
        [
         "2",
         "Corinthians"
        ],
        [
         "3",
         "Palmeiras"
        ],
        [
         "4",
         "Flamengo"
        ],
        [
         "5",
         "Flamengo"
        ]
       ],
       "shape": {
        "columns": 1,
        "rows": 6
       }
      },
      "text/plain": [
       "0    Corinthians\n",
       "1      Palmeiras\n",
       "2    Corinthians\n",
       "3      Palmeiras\n",
       "4       Flamengo\n",
       "5       Flamengo\n",
       "Name: time, dtype: object"
      ]
     },
     "execution_count": 21,
     "metadata": {},
     "output_type": "execute_result"
    }
   ],
   "source": [
    "frame['time']"
   ]
  },
  {
   "cell_type": "markdown",
   "id": "8757ae31",
   "metadata": {},
   "source": [
    "- O atributo values retorna os dados contidos no DataFrame como um array bidimensional"
   ]
  },
  {
   "cell_type": "code",
   "execution_count": 22,
   "id": "258f7e25",
   "metadata": {},
   "outputs": [
    {
     "data": {
      "text/plain": [
       "array([[81., nan, nan],\n",
       "       [72., nan, nan],\n",
       "       [nan, 80., nan],\n",
       "       [nan, 80., nan],\n",
       "       [nan, nan, 90.],\n",
       "       [nan, nan, 71.]])"
      ]
     },
     "execution_count": 22,
     "metadata": {},
     "output_type": "execute_result"
    }
   ],
   "source": [
    "pop.values"
   ]
  },
  {
   "cell_type": "code",
   "execution_count": 23,
   "id": "7003bfde",
   "metadata": {},
   "outputs": [
    {
     "data": {
      "text/plain": [
       "array([nan, nan, nan, nan, 90., 71.])"
      ]
     },
     "execution_count": 23,
     "metadata": {},
     "output_type": "execute_result"
    }
   ],
   "source": [
    "pop['Flamengo'].values"
   ]
  },
  {
   "cell_type": "markdown",
   "id": "0c4bc00f",
   "metadata": {},
   "source": [
    "- Novas linhas podem ser adicionadas"
   ]
  },
  {
   "cell_type": "code",
   "execution_count": 24,
   "id": "87975f65",
   "metadata": {},
   "outputs": [
    {
     "data": {
      "application/vnd.microsoft.datawrangler.viewer.v0+json": {
       "columns": [
        {
         "name": "index",
         "rawType": "int64",
         "type": "integer"
        },
        {
         "name": "pontuação",
         "rawType": "int64",
         "type": "integer"
        },
        {
         "name": "time",
         "rawType": "object",
         "type": "string"
        },
        {
         "name": "ano",
         "rawType": "int64",
         "type": "integer"
        }
       ],
       "ref": "527950b1-a50a-42dc-b6de-e67c4f9b4fbf",
       "rows": [
        [
         "0",
         "81",
         "Corinthians",
         "2015"
        ],
        [
         "1",
         "80",
         "Palmeiras",
         "2016"
        ],
        [
         "2",
         "72",
         "Corinthians",
         "2017"
        ],
        [
         "3",
         "80",
         "Palmeiras",
         "2018"
        ],
        [
         "4",
         "90",
         "Flamengo",
         "2019"
        ],
        [
         "5",
         "71",
         "Flamengo",
         "2020"
        ]
       ],
       "shape": {
        "columns": 3,
        "rows": 6
       }
      },
      "text/html": [
       "<div>\n",
       "<style scoped>\n",
       "    .dataframe tbody tr th:only-of-type {\n",
       "        vertical-align: middle;\n",
       "    }\n",
       "\n",
       "    .dataframe tbody tr th {\n",
       "        vertical-align: top;\n",
       "    }\n",
       "\n",
       "    .dataframe thead th {\n",
       "        text-align: right;\n",
       "    }\n",
       "</style>\n",
       "<table border=\"1\" class=\"dataframe\">\n",
       "  <thead>\n",
       "    <tr style=\"text-align: right;\">\n",
       "      <th></th>\n",
       "      <th>pontuação</th>\n",
       "      <th>time</th>\n",
       "      <th>ano</th>\n",
       "    </tr>\n",
       "  </thead>\n",
       "  <tbody>\n",
       "    <tr>\n",
       "      <th>0</th>\n",
       "      <td>81</td>\n",
       "      <td>Corinthians</td>\n",
       "      <td>2015</td>\n",
       "    </tr>\n",
       "    <tr>\n",
       "      <th>1</th>\n",
       "      <td>80</td>\n",
       "      <td>Palmeiras</td>\n",
       "      <td>2016</td>\n",
       "    </tr>\n",
       "    <tr>\n",
       "      <th>2</th>\n",
       "      <td>72</td>\n",
       "      <td>Corinthians</td>\n",
       "      <td>2017</td>\n",
       "    </tr>\n",
       "    <tr>\n",
       "      <th>3</th>\n",
       "      <td>80</td>\n",
       "      <td>Palmeiras</td>\n",
       "      <td>2018</td>\n",
       "    </tr>\n",
       "    <tr>\n",
       "      <th>4</th>\n",
       "      <td>90</td>\n",
       "      <td>Flamengo</td>\n",
       "      <td>2019</td>\n",
       "    </tr>\n",
       "    <tr>\n",
       "      <th>5</th>\n",
       "      <td>71</td>\n",
       "      <td>Flamengo</td>\n",
       "      <td>2020</td>\n",
       "    </tr>\n",
       "  </tbody>\n",
       "</table>\n",
       "</div>"
      ],
      "text/plain": [
       "   pontuação         time   ano\n",
       "0         81  Corinthians  2015\n",
       "1         80    Palmeiras  2016\n",
       "2         72  Corinthians  2017\n",
       "3         80    Palmeiras  2018\n",
       "4         90     Flamengo  2019\n",
       "5         71     Flamengo  2020"
      ]
     },
     "execution_count": 24,
     "metadata": {},
     "output_type": "execute_result"
    }
   ],
   "source": [
    "frame"
   ]
  },
  {
   "cell_type": "code",
   "execution_count": 25,
   "id": "04ec5f48",
   "metadata": {},
   "outputs": [
    {
     "data": {
      "application/vnd.microsoft.datawrangler.viewer.v0+json": {
       "columns": [
        {
         "name": "index",
         "rawType": "int64",
         "type": "integer"
        },
        {
         "name": "pontuação",
         "rawType": "int64",
         "type": "integer"
        },
        {
         "name": "time",
         "rawType": "object",
         "type": "string"
        },
        {
         "name": "ano",
         "rawType": "int64",
         "type": "integer"
        }
       ],
       "ref": "2e1d1ece-8a75-4caa-8f86-5ecb66a5022b",
       "rows": [
        [
         "0",
         "81",
         "Corinthians",
         "2015"
        ],
        [
         "1",
         "80",
         "Palmeiras",
         "2016"
        ],
        [
         "2",
         "72",
         "Corinthians",
         "2017"
        ],
        [
         "3",
         "80",
         "Palmeiras",
         "2018"
        ],
        [
         "4",
         "90",
         "Flamengo",
         "2019"
        ],
        [
         "5",
         "71",
         "Flamengo",
         "2020"
        ],
        [
         "6",
         "84",
         "Atlético Mineiro",
         "2021"
        ]
       ],
       "shape": {
        "columns": 3,
        "rows": 7
       }
      },
      "text/html": [
       "<div>\n",
       "<style scoped>\n",
       "    .dataframe tbody tr th:only-of-type {\n",
       "        vertical-align: middle;\n",
       "    }\n",
       "\n",
       "    .dataframe tbody tr th {\n",
       "        vertical-align: top;\n",
       "    }\n",
       "\n",
       "    .dataframe thead th {\n",
       "        text-align: right;\n",
       "    }\n",
       "</style>\n",
       "<table border=\"1\" class=\"dataframe\">\n",
       "  <thead>\n",
       "    <tr style=\"text-align: right;\">\n",
       "      <th></th>\n",
       "      <th>pontuação</th>\n",
       "      <th>time</th>\n",
       "      <th>ano</th>\n",
       "    </tr>\n",
       "  </thead>\n",
       "  <tbody>\n",
       "    <tr>\n",
       "      <th>0</th>\n",
       "      <td>81</td>\n",
       "      <td>Corinthians</td>\n",
       "      <td>2015</td>\n",
       "    </tr>\n",
       "    <tr>\n",
       "      <th>1</th>\n",
       "      <td>80</td>\n",
       "      <td>Palmeiras</td>\n",
       "      <td>2016</td>\n",
       "    </tr>\n",
       "    <tr>\n",
       "      <th>2</th>\n",
       "      <td>72</td>\n",
       "      <td>Corinthians</td>\n",
       "      <td>2017</td>\n",
       "    </tr>\n",
       "    <tr>\n",
       "      <th>3</th>\n",
       "      <td>80</td>\n",
       "      <td>Palmeiras</td>\n",
       "      <td>2018</td>\n",
       "    </tr>\n",
       "    <tr>\n",
       "      <th>4</th>\n",
       "      <td>90</td>\n",
       "      <td>Flamengo</td>\n",
       "      <td>2019</td>\n",
       "    </tr>\n",
       "    <tr>\n",
       "      <th>5</th>\n",
       "      <td>71</td>\n",
       "      <td>Flamengo</td>\n",
       "      <td>2020</td>\n",
       "    </tr>\n",
       "    <tr>\n",
       "      <th>6</th>\n",
       "      <td>84</td>\n",
       "      <td>Atlético Mineiro</td>\n",
       "      <td>2021</td>\n",
       "    </tr>\n",
       "  </tbody>\n",
       "</table>\n",
       "</div>"
      ],
      "text/plain": [
       "   pontuação              time   ano\n",
       "0         81       Corinthians  2015\n",
       "1         80         Palmeiras  2016\n",
       "2         72       Corinthians  2017\n",
       "3         80         Palmeiras  2018\n",
       "4         90          Flamengo  2019\n",
       "5         71          Flamengo  2020\n",
       "6         84  Atlético Mineiro  2021"
      ]
     },
     "execution_count": 25,
     "metadata": {},
     "output_type": "execute_result"
    }
   ],
   "source": [
    "new_line = {'pontuação': 84, 'time': 'Atlético Mineiro', 'ano': 2021}\n",
    "frame = pd.concat([frame, pd.DataFrame([new_line])], ignore_index=True)\n",
    "frame"
   ]
  },
  {
   "cell_type": "markdown",
   "id": "69e126bc",
   "metadata": {},
   "source": [
    "- Novas colunas podem ser adicionadas (por cálculo aritmético ou atribuição direta)"
   ]
  },
  {
   "cell_type": "code",
   "execution_count": 26,
   "id": "0c04426c",
   "metadata": {},
   "outputs": [],
   "source": [
    "import numpy as np"
   ]
  },
  {
   "cell_type": "code",
   "execution_count": 27,
   "id": "fe816acb",
   "metadata": {},
   "outputs": [
    {
     "data": {
      "application/vnd.microsoft.datawrangler.viewer.v0+json": {
       "columns": [
        {
         "name": "index",
         "rawType": "int64",
         "type": "integer"
        },
        {
         "name": "pontuação",
         "rawType": "int64",
         "type": "integer"
        },
        {
         "name": "time",
         "rawType": "object",
         "type": "string"
        },
        {
         "name": "ano",
         "rawType": "int64",
         "type": "integer"
        },
        {
         "name": "nova coluna",
         "rawType": "float64",
         "type": "float"
        }
       ],
       "ref": "2a4b397c-cd67-4562-8366-b98b201d08a8",
       "rows": [
        [
         "0",
         "81",
         "Corinthians",
         "2015",
         null
        ],
        [
         "1",
         "80",
         "Palmeiras",
         "2016",
         null
        ],
        [
         "2",
         "72",
         "Corinthians",
         "2017",
         null
        ],
        [
         "3",
         "80",
         "Palmeiras",
         "2018",
         null
        ],
        [
         "4",
         "90",
         "Flamengo",
         "2019",
         null
        ],
        [
         "5",
         "71",
         "Flamengo",
         "2020",
         null
        ],
        [
         "6",
         "84",
         "Atlético Mineiro",
         "2021",
         null
        ]
       ],
       "shape": {
        "columns": 4,
        "rows": 7
       }
      },
      "text/html": [
       "<div>\n",
       "<style scoped>\n",
       "    .dataframe tbody tr th:only-of-type {\n",
       "        vertical-align: middle;\n",
       "    }\n",
       "\n",
       "    .dataframe tbody tr th {\n",
       "        vertical-align: top;\n",
       "    }\n",
       "\n",
       "    .dataframe thead th {\n",
       "        text-align: right;\n",
       "    }\n",
       "</style>\n",
       "<table border=\"1\" class=\"dataframe\">\n",
       "  <thead>\n",
       "    <tr style=\"text-align: right;\">\n",
       "      <th></th>\n",
       "      <th>pontuação</th>\n",
       "      <th>time</th>\n",
       "      <th>ano</th>\n",
       "      <th>nova coluna</th>\n",
       "    </tr>\n",
       "  </thead>\n",
       "  <tbody>\n",
       "    <tr>\n",
       "      <th>0</th>\n",
       "      <td>81</td>\n",
       "      <td>Corinthians</td>\n",
       "      <td>2015</td>\n",
       "      <td>NaN</td>\n",
       "    </tr>\n",
       "    <tr>\n",
       "      <th>1</th>\n",
       "      <td>80</td>\n",
       "      <td>Palmeiras</td>\n",
       "      <td>2016</td>\n",
       "      <td>NaN</td>\n",
       "    </tr>\n",
       "    <tr>\n",
       "      <th>2</th>\n",
       "      <td>72</td>\n",
       "      <td>Corinthians</td>\n",
       "      <td>2017</td>\n",
       "      <td>NaN</td>\n",
       "    </tr>\n",
       "    <tr>\n",
       "      <th>3</th>\n",
       "      <td>80</td>\n",
       "      <td>Palmeiras</td>\n",
       "      <td>2018</td>\n",
       "      <td>NaN</td>\n",
       "    </tr>\n",
       "    <tr>\n",
       "      <th>4</th>\n",
       "      <td>90</td>\n",
       "      <td>Flamengo</td>\n",
       "      <td>2019</td>\n",
       "      <td>NaN</td>\n",
       "    </tr>\n",
       "    <tr>\n",
       "      <th>5</th>\n",
       "      <td>71</td>\n",
       "      <td>Flamengo</td>\n",
       "      <td>2020</td>\n",
       "      <td>NaN</td>\n",
       "    </tr>\n",
       "    <tr>\n",
       "      <th>6</th>\n",
       "      <td>84</td>\n",
       "      <td>Atlético Mineiro</td>\n",
       "      <td>2021</td>\n",
       "      <td>NaN</td>\n",
       "    </tr>\n",
       "  </tbody>\n",
       "</table>\n",
       "</div>"
      ],
      "text/plain": [
       "   pontuação              time   ano  nova coluna\n",
       "0         81       Corinthians  2015          NaN\n",
       "1         80         Palmeiras  2016          NaN\n",
       "2         72       Corinthians  2017          NaN\n",
       "3         80         Palmeiras  2018          NaN\n",
       "4         90          Flamengo  2019          NaN\n",
       "5         71          Flamengo  2020          NaN\n",
       "6         84  Atlético Mineiro  2021          NaN"
      ]
     },
     "execution_count": 27,
     "metadata": {},
     "output_type": "execute_result"
    }
   ],
   "source": [
    "frame['nova coluna'] = np.nan\n",
    "frame"
   ]
  },
  {
   "cell_type": "code",
   "execution_count": 28,
   "id": "0f6036f7",
   "metadata": {},
   "outputs": [
    {
     "data": {
      "application/vnd.microsoft.datawrangler.viewer.v0+json": {
       "columns": [
        {
         "name": "index",
         "rawType": "int64",
         "type": "integer"
        },
        {
         "name": "pontuação",
         "rawType": "int64",
         "type": "integer"
        },
        {
         "name": "time",
         "rawType": "object",
         "type": "string"
        },
        {
         "name": "ano",
         "rawType": "int64",
         "type": "integer"
        },
        {
         "name": "nova coluna",
         "rawType": "float64",
         "type": "float"
        },
        {
         "name": "processada",
         "rawType": "int64",
         "type": "integer"
        }
       ],
       "ref": "f9734463-e66f-4126-9edd-bcebacf2ae2b",
       "rows": [
        [
         "0",
         "81",
         "Corinthians",
         "2015",
         null,
         "162"
        ],
        [
         "1",
         "80",
         "Palmeiras",
         "2016",
         null,
         "160"
        ],
        [
         "2",
         "72",
         "Corinthians",
         "2017",
         null,
         "144"
        ],
        [
         "3",
         "80",
         "Palmeiras",
         "2018",
         null,
         "160"
        ],
        [
         "4",
         "90",
         "Flamengo",
         "2019",
         null,
         "180"
        ],
        [
         "5",
         "71",
         "Flamengo",
         "2020",
         null,
         "142"
        ],
        [
         "6",
         "84",
         "Atlético Mineiro",
         "2021",
         null,
         "168"
        ]
       ],
       "shape": {
        "columns": 5,
        "rows": 7
       }
      },
      "text/html": [
       "<div>\n",
       "<style scoped>\n",
       "    .dataframe tbody tr th:only-of-type {\n",
       "        vertical-align: middle;\n",
       "    }\n",
       "\n",
       "    .dataframe tbody tr th {\n",
       "        vertical-align: top;\n",
       "    }\n",
       "\n",
       "    .dataframe thead th {\n",
       "        text-align: right;\n",
       "    }\n",
       "</style>\n",
       "<table border=\"1\" class=\"dataframe\">\n",
       "  <thead>\n",
       "    <tr style=\"text-align: right;\">\n",
       "      <th></th>\n",
       "      <th>pontuação</th>\n",
       "      <th>time</th>\n",
       "      <th>ano</th>\n",
       "      <th>nova coluna</th>\n",
       "      <th>processada</th>\n",
       "    </tr>\n",
       "  </thead>\n",
       "  <tbody>\n",
       "    <tr>\n",
       "      <th>0</th>\n",
       "      <td>81</td>\n",
       "      <td>Corinthians</td>\n",
       "      <td>2015</td>\n",
       "      <td>NaN</td>\n",
       "      <td>162</td>\n",
       "    </tr>\n",
       "    <tr>\n",
       "      <th>1</th>\n",
       "      <td>80</td>\n",
       "      <td>Palmeiras</td>\n",
       "      <td>2016</td>\n",
       "      <td>NaN</td>\n",
       "      <td>160</td>\n",
       "    </tr>\n",
       "    <tr>\n",
       "      <th>2</th>\n",
       "      <td>72</td>\n",
       "      <td>Corinthians</td>\n",
       "      <td>2017</td>\n",
       "      <td>NaN</td>\n",
       "      <td>144</td>\n",
       "    </tr>\n",
       "    <tr>\n",
       "      <th>3</th>\n",
       "      <td>80</td>\n",
       "      <td>Palmeiras</td>\n",
       "      <td>2018</td>\n",
       "      <td>NaN</td>\n",
       "      <td>160</td>\n",
       "    </tr>\n",
       "    <tr>\n",
       "      <th>4</th>\n",
       "      <td>90</td>\n",
       "      <td>Flamengo</td>\n",
       "      <td>2019</td>\n",
       "      <td>NaN</td>\n",
       "      <td>180</td>\n",
       "    </tr>\n",
       "    <tr>\n",
       "      <th>5</th>\n",
       "      <td>71</td>\n",
       "      <td>Flamengo</td>\n",
       "      <td>2020</td>\n",
       "      <td>NaN</td>\n",
       "      <td>142</td>\n",
       "    </tr>\n",
       "    <tr>\n",
       "      <th>6</th>\n",
       "      <td>84</td>\n",
       "      <td>Atlético Mineiro</td>\n",
       "      <td>2021</td>\n",
       "      <td>NaN</td>\n",
       "      <td>168</td>\n",
       "    </tr>\n",
       "  </tbody>\n",
       "</table>\n",
       "</div>"
      ],
      "text/plain": [
       "   pontuação              time   ano  nova coluna  processada\n",
       "0         81       Corinthians  2015          NaN         162\n",
       "1         80         Palmeiras  2016          NaN         160\n",
       "2         72       Corinthians  2017          NaN         144\n",
       "3         80         Palmeiras  2018          NaN         160\n",
       "4         90          Flamengo  2019          NaN         180\n",
       "5         71          Flamengo  2020          NaN         142\n",
       "6         84  Atlético Mineiro  2021          NaN         168"
      ]
     },
     "execution_count": 28,
     "metadata": {},
     "output_type": "execute_result"
    }
   ],
   "source": [
    "frame['processada'] = frame['pontuação'] * 2\n",
    "frame"
   ]
  },
  {
   "cell_type": "markdown",
   "id": "c1283f70",
   "metadata": {},
   "source": [
    "- DataFrames permitem trocar linhas por colunas"
   ]
  },
  {
   "cell_type": "code",
   "execution_count": 29,
   "id": "01ec2d1d",
   "metadata": {},
   "outputs": [
    {
     "data": {
      "application/vnd.microsoft.datawrangler.viewer.v0+json": {
       "columns": [
        {
         "name": "index",
         "rawType": "object",
         "type": "string"
        },
        {
         "name": "2015",
         "rawType": "float64",
         "type": "float"
        },
        {
         "name": "2017",
         "rawType": "float64",
         "type": "float"
        },
        {
         "name": "2016",
         "rawType": "float64",
         "type": "float"
        },
        {
         "name": "2018",
         "rawType": "float64",
         "type": "float"
        },
        {
         "name": "2019",
         "rawType": "float64",
         "type": "float"
        },
        {
         "name": "2020",
         "rawType": "float64",
         "type": "float"
        }
       ],
       "ref": "9d73a08f-d68f-48c8-a206-74dd8639ded8",
       "rows": [
        [
         "Corinthians",
         "81.0",
         "72.0",
         null,
         null,
         null,
         null
        ],
        [
         "Palmeiras",
         null,
         null,
         "80.0",
         "80.0",
         null,
         null
        ],
        [
         "Flamengo",
         null,
         null,
         null,
         null,
         "90.0",
         "71.0"
        ]
       ],
       "shape": {
        "columns": 6,
        "rows": 3
       }
      },
      "text/html": [
       "<div>\n",
       "<style scoped>\n",
       "    .dataframe tbody tr th:only-of-type {\n",
       "        vertical-align: middle;\n",
       "    }\n",
       "\n",
       "    .dataframe tbody tr th {\n",
       "        vertical-align: top;\n",
       "    }\n",
       "\n",
       "    .dataframe thead th {\n",
       "        text-align: right;\n",
       "    }\n",
       "</style>\n",
       "<table border=\"1\" class=\"dataframe\">\n",
       "  <thead>\n",
       "    <tr style=\"text-align: right;\">\n",
       "      <th></th>\n",
       "      <th>2015</th>\n",
       "      <th>2017</th>\n",
       "      <th>2016</th>\n",
       "      <th>2018</th>\n",
       "      <th>2019</th>\n",
       "      <th>2020</th>\n",
       "    </tr>\n",
       "  </thead>\n",
       "  <tbody>\n",
       "    <tr>\n",
       "      <th>Corinthians</th>\n",
       "      <td>81.0</td>\n",
       "      <td>72.0</td>\n",
       "      <td>NaN</td>\n",
       "      <td>NaN</td>\n",
       "      <td>NaN</td>\n",
       "      <td>NaN</td>\n",
       "    </tr>\n",
       "    <tr>\n",
       "      <th>Palmeiras</th>\n",
       "      <td>NaN</td>\n",
       "      <td>NaN</td>\n",
       "      <td>80.0</td>\n",
       "      <td>80.0</td>\n",
       "      <td>NaN</td>\n",
       "      <td>NaN</td>\n",
       "    </tr>\n",
       "    <tr>\n",
       "      <th>Flamengo</th>\n",
       "      <td>NaN</td>\n",
       "      <td>NaN</td>\n",
       "      <td>NaN</td>\n",
       "      <td>NaN</td>\n",
       "      <td>90.0</td>\n",
       "      <td>71.0</td>\n",
       "    </tr>\n",
       "  </tbody>\n",
       "</table>\n",
       "</div>"
      ],
      "text/plain": [
       "             2015  2017  2016  2018  2019  2020\n",
       "Corinthians  81.0  72.0   NaN   NaN   NaN   NaN\n",
       "Palmeiras     NaN   NaN  80.0  80.0   NaN   NaN\n",
       "Flamengo      NaN   NaN   NaN   NaN  90.0  71.0"
      ]
     },
     "execution_count": 29,
     "metadata": {},
     "output_type": "execute_result"
    }
   ],
   "source": [
    "pop.T"
   ]
  },
  {
   "cell_type": "markdown",
   "id": "0f3b499e",
   "metadata": {},
   "source": [
    "- DataFrame tem suporte a funções descritivas e estatísticas"
   ]
  },
  {
   "cell_type": "code",
   "execution_count": 30,
   "id": "48f59d95",
   "metadata": {},
   "outputs": [
    {
     "data": {
      "application/vnd.microsoft.datawrangler.viewer.v0+json": {
       "columns": [
        {
         "name": "index",
         "rawType": "int64",
         "type": "integer"
        },
        {
         "name": "Corinthians",
         "rawType": "float64",
         "type": "float"
        },
        {
         "name": "Palmeiras",
         "rawType": "float64",
         "type": "float"
        },
        {
         "name": "Flamengo",
         "rawType": "float64",
         "type": "float"
        }
       ],
       "ref": "1626d769-4a18-4a79-96f7-e49e43431ed0",
       "rows": [
        [
         "2015",
         "81.0",
         null,
         null
        ],
        [
         "2017",
         "72.0",
         null,
         null
        ],
        [
         "2016",
         null,
         "80.0",
         null
        ],
        [
         "2018",
         null,
         "80.0",
         null
        ],
        [
         "2019",
         null,
         null,
         "90.0"
        ],
        [
         "2020",
         null,
         null,
         "71.0"
        ]
       ],
       "shape": {
        "columns": 3,
        "rows": 6
       }
      },
      "text/html": [
       "<div>\n",
       "<style scoped>\n",
       "    .dataframe tbody tr th:only-of-type {\n",
       "        vertical-align: middle;\n",
       "    }\n",
       "\n",
       "    .dataframe tbody tr th {\n",
       "        vertical-align: top;\n",
       "    }\n",
       "\n",
       "    .dataframe thead th {\n",
       "        text-align: right;\n",
       "    }\n",
       "</style>\n",
       "<table border=\"1\" class=\"dataframe\">\n",
       "  <thead>\n",
       "    <tr style=\"text-align: right;\">\n",
       "      <th></th>\n",
       "      <th>Corinthians</th>\n",
       "      <th>Palmeiras</th>\n",
       "      <th>Flamengo</th>\n",
       "    </tr>\n",
       "  </thead>\n",
       "  <tbody>\n",
       "    <tr>\n",
       "      <th>2015</th>\n",
       "      <td>81.0</td>\n",
       "      <td>NaN</td>\n",
       "      <td>NaN</td>\n",
       "    </tr>\n",
       "    <tr>\n",
       "      <th>2017</th>\n",
       "      <td>72.0</td>\n",
       "      <td>NaN</td>\n",
       "      <td>NaN</td>\n",
       "    </tr>\n",
       "    <tr>\n",
       "      <th>2016</th>\n",
       "      <td>NaN</td>\n",
       "      <td>80.0</td>\n",
       "      <td>NaN</td>\n",
       "    </tr>\n",
       "    <tr>\n",
       "      <th>2018</th>\n",
       "      <td>NaN</td>\n",
       "      <td>80.0</td>\n",
       "      <td>NaN</td>\n",
       "    </tr>\n",
       "    <tr>\n",
       "      <th>2019</th>\n",
       "      <td>NaN</td>\n",
       "      <td>NaN</td>\n",
       "      <td>90.0</td>\n",
       "    </tr>\n",
       "    <tr>\n",
       "      <th>2020</th>\n",
       "      <td>NaN</td>\n",
       "      <td>NaN</td>\n",
       "      <td>71.0</td>\n",
       "    </tr>\n",
       "  </tbody>\n",
       "</table>\n",
       "</div>"
      ],
      "text/plain": [
       "      Corinthians  Palmeiras  Flamengo\n",
       "2015         81.0        NaN       NaN\n",
       "2017         72.0        NaN       NaN\n",
       "2016          NaN       80.0       NaN\n",
       "2018          NaN       80.0       NaN\n",
       "2019          NaN        NaN      90.0\n",
       "2020          NaN        NaN      71.0"
      ]
     },
     "execution_count": 30,
     "metadata": {},
     "output_type": "execute_result"
    }
   ],
   "source": [
    "pop"
   ]
  },
  {
   "cell_type": "markdown",
   "id": "6f93989b",
   "metadata": {},
   "source": [
    "- Describe gera vários dados estatísticos de resumo de uma só vez"
   ]
  },
  {
   "cell_type": "code",
   "execution_count": 31,
   "id": "4da35b28",
   "metadata": {},
   "outputs": [
    {
     "data": {
      "application/vnd.microsoft.datawrangler.viewer.v0+json": {
       "columns": [
        {
         "name": "index",
         "rawType": "object",
         "type": "string"
        },
        {
         "name": "Corinthians",
         "rawType": "float64",
         "type": "float"
        },
        {
         "name": "Palmeiras",
         "rawType": "float64",
         "type": "float"
        },
        {
         "name": "Flamengo",
         "rawType": "float64",
         "type": "float"
        }
       ],
       "ref": "d211777d-4f45-4705-8948-1173c339fa94",
       "rows": [
        [
         "count",
         "2.0",
         "2.0",
         "2.0"
        ],
        [
         "mean",
         "76.5",
         "80.0",
         "80.5"
        ],
        [
         "std",
         "6.363961030678928",
         "0.0",
         "13.435028842544403"
        ],
        [
         "min",
         "72.0",
         "80.0",
         "71.0"
        ],
        [
         "25%",
         "74.25",
         "80.0",
         "75.75"
        ],
        [
         "50%",
         "76.5",
         "80.0",
         "80.5"
        ],
        [
         "75%",
         "78.75",
         "80.0",
         "85.25"
        ],
        [
         "max",
         "81.0",
         "80.0",
         "90.0"
        ]
       ],
       "shape": {
        "columns": 3,
        "rows": 8
       }
      },
      "text/html": [
       "<div>\n",
       "<style scoped>\n",
       "    .dataframe tbody tr th:only-of-type {\n",
       "        vertical-align: middle;\n",
       "    }\n",
       "\n",
       "    .dataframe tbody tr th {\n",
       "        vertical-align: top;\n",
       "    }\n",
       "\n",
       "    .dataframe thead th {\n",
       "        text-align: right;\n",
       "    }\n",
       "</style>\n",
       "<table border=\"1\" class=\"dataframe\">\n",
       "  <thead>\n",
       "    <tr style=\"text-align: right;\">\n",
       "      <th></th>\n",
       "      <th>Corinthians</th>\n",
       "      <th>Palmeiras</th>\n",
       "      <th>Flamengo</th>\n",
       "    </tr>\n",
       "  </thead>\n",
       "  <tbody>\n",
       "    <tr>\n",
       "      <th>count</th>\n",
       "      <td>2.000000</td>\n",
       "      <td>2.0</td>\n",
       "      <td>2.000000</td>\n",
       "    </tr>\n",
       "    <tr>\n",
       "      <th>mean</th>\n",
       "      <td>76.500000</td>\n",
       "      <td>80.0</td>\n",
       "      <td>80.500000</td>\n",
       "    </tr>\n",
       "    <tr>\n",
       "      <th>std</th>\n",
       "      <td>6.363961</td>\n",
       "      <td>0.0</td>\n",
       "      <td>13.435029</td>\n",
       "    </tr>\n",
       "    <tr>\n",
       "      <th>min</th>\n",
       "      <td>72.000000</td>\n",
       "      <td>80.0</td>\n",
       "      <td>71.000000</td>\n",
       "    </tr>\n",
       "    <tr>\n",
       "      <th>25%</th>\n",
       "      <td>74.250000</td>\n",
       "      <td>80.0</td>\n",
       "      <td>75.750000</td>\n",
       "    </tr>\n",
       "    <tr>\n",
       "      <th>50%</th>\n",
       "      <td>76.500000</td>\n",
       "      <td>80.0</td>\n",
       "      <td>80.500000</td>\n",
       "    </tr>\n",
       "    <tr>\n",
       "      <th>75%</th>\n",
       "      <td>78.750000</td>\n",
       "      <td>80.0</td>\n",
       "      <td>85.250000</td>\n",
       "    </tr>\n",
       "    <tr>\n",
       "      <th>max</th>\n",
       "      <td>81.000000</td>\n",
       "      <td>80.0</td>\n",
       "      <td>90.000000</td>\n",
       "    </tr>\n",
       "  </tbody>\n",
       "</table>\n",
       "</div>"
      ],
      "text/plain": [
       "       Corinthians  Palmeiras   Flamengo\n",
       "count     2.000000        2.0   2.000000\n",
       "mean     76.500000       80.0  80.500000\n",
       "std       6.363961        0.0  13.435029\n",
       "min      72.000000       80.0  71.000000\n",
       "25%      74.250000       80.0  75.750000\n",
       "50%      76.500000       80.0  80.500000\n",
       "75%      78.750000       80.0  85.250000\n",
       "max      81.000000       80.0  90.000000"
      ]
     },
     "execution_count": 31,
     "metadata": {},
     "output_type": "execute_result"
    }
   ],
   "source": [
    "pop.describe()"
   ]
  },
  {
   "cell_type": "markdown",
   "id": "9f815d2d",
   "metadata": {},
   "source": [
    "- Info retorna o número de valores não nulos e o tipo por coluna"
   ]
  },
  {
   "cell_type": "code",
   "execution_count": 32,
   "id": "a15b98c5",
   "metadata": {},
   "outputs": [
    {
     "name": "stdout",
     "output_type": "stream",
     "text": [
      "<class 'pandas.core.frame.DataFrame'>\n",
      "Index: 6 entries, 2015 to 2020\n",
      "Data columns (total 3 columns):\n",
      " #   Column       Non-Null Count  Dtype  \n",
      "---  ------       --------------  -----  \n",
      " 0   Corinthians  2 non-null      float64\n",
      " 1   Palmeiras    2 non-null      float64\n",
      " 2   Flamengo     2 non-null      float64\n",
      "dtypes: float64(3)\n",
      "memory usage: 364.0 bytes\n"
     ]
    }
   ],
   "source": [
    "pop.info()"
   ]
  },
  {
   "cell_type": "markdown",
   "id": "9b56fa3d",
   "metadata": {},
   "source": [
    "- Chamar o método sum de DataFrame devolve uma Series contendo as soma das colunas"
   ]
  },
  {
   "cell_type": "code",
   "execution_count": 33,
   "id": "caa82032",
   "metadata": {},
   "outputs": [
    {
     "data": {
      "application/vnd.microsoft.datawrangler.viewer.v0+json": {
       "columns": [
        {
         "name": "index",
         "rawType": "object",
         "type": "string"
        },
        {
         "name": "0",
         "rawType": "float64",
         "type": "float"
        }
       ],
       "ref": "50d8bcad-5189-4c23-ab6e-64d74b470235",
       "rows": [
        [
         "Corinthians",
         "153.0"
        ],
        [
         "Palmeiras",
         "160.0"
        ],
        [
         "Flamengo",
         "161.0"
        ]
       ],
       "shape": {
        "columns": 1,
        "rows": 3
       }
      },
      "text/plain": [
       "Corinthians    153.0\n",
       "Palmeiras      160.0\n",
       "Flamengo       161.0\n",
       "dtype: float64"
      ]
     },
     "execution_count": 33,
     "metadata": {},
     "output_type": "execute_result"
    }
   ],
   "source": [
    "pop.sum()"
   ]
  },
  {
   "cell_type": "markdown",
   "id": "b3f576ab",
   "metadata": {},
   "source": [
    "- Passar axis='columns' faz a soma pelas colunas"
   ]
  },
  {
   "cell_type": "code",
   "execution_count": 34,
   "id": "9d4d8f44",
   "metadata": {},
   "outputs": [
    {
     "data": {
      "application/vnd.microsoft.datawrangler.viewer.v0+json": {
       "columns": [
        {
         "name": "index",
         "rawType": "int64",
         "type": "integer"
        },
        {
         "name": "0",
         "rawType": "float64",
         "type": "float"
        }
       ],
       "ref": "40c5bc05-579f-40d1-ac5f-460b9c07085a",
       "rows": [
        [
         "2015",
         "81.0"
        ],
        [
         "2017",
         "72.0"
        ],
        [
         "2016",
         "80.0"
        ],
        [
         "2018",
         "80.0"
        ],
        [
         "2019",
         "90.0"
        ],
        [
         "2020",
         "71.0"
        ]
       ],
       "shape": {
        "columns": 1,
        "rows": 6
       }
      },
      "text/plain": [
       "2015    81.0\n",
       "2017    72.0\n",
       "2016    80.0\n",
       "2018    80.0\n",
       "2019    90.0\n",
       "2020    71.0\n",
       "dtype: float64"
      ]
     },
     "execution_count": 34,
     "metadata": {},
     "output_type": "execute_result"
    }
   ],
   "source": [
    "pop.sum(axis='columns')"
   ]
  },
  {
   "cell_type": "markdown",
   "id": "b02255ff",
   "metadata": {},
   "source": [
    "- Mean retorna a média dos valores"
   ]
  },
  {
   "cell_type": "code",
   "execution_count": 35,
   "id": "bf38fc02",
   "metadata": {},
   "outputs": [
    {
     "data": {
      "application/vnd.microsoft.datawrangler.viewer.v0+json": {
       "columns": [
        {
         "name": "index",
         "rawType": "object",
         "type": "string"
        },
        {
         "name": "0",
         "rawType": "float64",
         "type": "float"
        }
       ],
       "ref": "49d84167-b73e-4680-97d0-a82c56ee3983",
       "rows": [
        [
         "Corinthians",
         "76.5"
        ],
        [
         "Palmeiras",
         "80.0"
        ],
        [
         "Flamengo",
         "80.5"
        ]
       ],
       "shape": {
        "columns": 1,
        "rows": 3
       }
      },
      "text/plain": [
       "Corinthians    76.5\n",
       "Palmeiras      80.0\n",
       "Flamengo       80.5\n",
       "dtype: float64"
      ]
     },
     "execution_count": 35,
     "metadata": {},
     "output_type": "execute_result"
    }
   ],
   "source": [
    "pop.mean()"
   ]
  },
  {
   "cell_type": "markdown",
   "id": "1aa9ec91",
   "metadata": {},
   "source": [
    "- Median retorna a mediana dos valores"
   ]
  },
  {
   "cell_type": "code",
   "execution_count": 36,
   "id": "f322ae30",
   "metadata": {},
   "outputs": [
    {
     "data": {
      "application/vnd.microsoft.datawrangler.viewer.v0+json": {
       "columns": [
        {
         "name": "index",
         "rawType": "object",
         "type": "string"
        },
        {
         "name": "0",
         "rawType": "float64",
         "type": "float"
        }
       ],
       "ref": "0c783b70-e485-405b-b632-0eab2fab3ed9",
       "rows": [
        [
         "Corinthians",
         "76.5"
        ],
        [
         "Palmeiras",
         "80.0"
        ],
        [
         "Flamengo",
         "80.5"
        ]
       ],
       "shape": {
        "columns": 1,
        "rows": 3
       }
      },
      "text/plain": [
       "Corinthians    76.5\n",
       "Palmeiras      80.0\n",
       "Flamengo       80.5\n",
       "dtype: float64"
      ]
     },
     "execution_count": 36,
     "metadata": {},
     "output_type": "execute_result"
    }
   ],
   "source": [
    "pop.median()"
   ]
  },
  {
   "cell_type": "markdown",
   "id": "347184fd",
   "metadata": {},
   "source": [
    "- min e max calcula os valores mínimo e máximo"
   ]
  },
  {
   "cell_type": "code",
   "execution_count": 37,
   "id": "317cbd46",
   "metadata": {},
   "outputs": [
    {
     "data": {
      "application/vnd.microsoft.datawrangler.viewer.v0+json": {
       "columns": [
        {
         "name": "index",
         "rawType": "object",
         "type": "string"
        },
        {
         "name": "0",
         "rawType": "float64",
         "type": "float"
        }
       ],
       "ref": "aa2a594b-0af1-402b-9af8-6e1f3335aa51",
       "rows": [
        [
         "Corinthians",
         "72.0"
        ],
        [
         "Palmeiras",
         "80.0"
        ],
        [
         "Flamengo",
         "71.0"
        ]
       ],
       "shape": {
        "columns": 1,
        "rows": 3
       }
      },
      "text/plain": [
       "Corinthians    72.0\n",
       "Palmeiras      80.0\n",
       "Flamengo       71.0\n",
       "dtype: float64"
      ]
     },
     "execution_count": 37,
     "metadata": {},
     "output_type": "execute_result"
    }
   ],
   "source": [
    "pop.min()"
   ]
  },
  {
   "cell_type": "code",
   "execution_count": 38,
   "id": "fad67a18",
   "metadata": {},
   "outputs": [
    {
     "data": {
      "application/vnd.microsoft.datawrangler.viewer.v0+json": {
       "columns": [
        {
         "name": "index",
         "rawType": "object",
         "type": "string"
        },
        {
         "name": "0",
         "rawType": "float64",
         "type": "float"
        }
       ],
       "ref": "dea70d58-b70c-4993-aa7a-6207d37286f1",
       "rows": [
        [
         "Corinthians",
         "81.0"
        ],
        [
         "Palmeiras",
         "80.0"
        ],
        [
         "Flamengo",
         "90.0"
        ]
       ],
       "shape": {
        "columns": 1,
        "rows": 3
       }
      },
      "text/plain": [
       "Corinthians    81.0\n",
       "Palmeiras      80.0\n",
       "Flamengo       90.0\n",
       "dtype: float64"
      ]
     },
     "execution_count": 38,
     "metadata": {},
     "output_type": "execute_result"
    }
   ],
   "source": [
    "pop.max()"
   ]
  },
  {
   "cell_type": "markdown",
   "id": "14ce7a31",
   "metadata": {},
   "source": [
    "- cumsum calcula a soma cumulativa"
   ]
  },
  {
   "cell_type": "code",
   "execution_count": 39,
   "id": "93385225",
   "metadata": {},
   "outputs": [
    {
     "data": {
      "application/vnd.microsoft.datawrangler.viewer.v0+json": {
       "columns": [
        {
         "name": "index",
         "rawType": "int64",
         "type": "integer"
        },
        {
         "name": "Date",
         "rawType": "object",
         "type": "string"
        },
        {
         "name": "Total Sales",
         "rawType": "int64",
         "type": "integer"
        }
       ],
       "ref": "b7f1934c-9655-4bb7-b9ce-509809b921b2",
       "rows": [
        [
         "0",
         "2022-08-01",
         "2000"
        ],
        [
         "1",
         "2022-08-02",
         "3000"
        ],
        [
         "2",
         "2022-08-03",
         "2500"
        ],
        [
         "3",
         "2022-08-04",
         "4000"
        ],
        [
         "4",
         "2022-08-05",
         "3000"
        ],
        [
         "5",
         "2022-08-06",
         "2000"
        ]
       ],
       "shape": {
        "columns": 2,
        "rows": 6
       }
      },
      "text/html": [
       "<div>\n",
       "<style scoped>\n",
       "    .dataframe tbody tr th:only-of-type {\n",
       "        vertical-align: middle;\n",
       "    }\n",
       "\n",
       "    .dataframe tbody tr th {\n",
       "        vertical-align: top;\n",
       "    }\n",
       "\n",
       "    .dataframe thead th {\n",
       "        text-align: right;\n",
       "    }\n",
       "</style>\n",
       "<table border=\"1\" class=\"dataframe\">\n",
       "  <thead>\n",
       "    <tr style=\"text-align: right;\">\n",
       "      <th></th>\n",
       "      <th>Date</th>\n",
       "      <th>Total Sales</th>\n",
       "    </tr>\n",
       "  </thead>\n",
       "  <tbody>\n",
       "    <tr>\n",
       "      <th>0</th>\n",
       "      <td>2022-08-01</td>\n",
       "      <td>2000</td>\n",
       "    </tr>\n",
       "    <tr>\n",
       "      <th>1</th>\n",
       "      <td>2022-08-02</td>\n",
       "      <td>3000</td>\n",
       "    </tr>\n",
       "    <tr>\n",
       "      <th>2</th>\n",
       "      <td>2022-08-03</td>\n",
       "      <td>2500</td>\n",
       "    </tr>\n",
       "    <tr>\n",
       "      <th>3</th>\n",
       "      <td>2022-08-04</td>\n",
       "      <td>4000</td>\n",
       "    </tr>\n",
       "    <tr>\n",
       "      <th>4</th>\n",
       "      <td>2022-08-05</td>\n",
       "      <td>3000</td>\n",
       "    </tr>\n",
       "    <tr>\n",
       "      <th>5</th>\n",
       "      <td>2022-08-06</td>\n",
       "      <td>2000</td>\n",
       "    </tr>\n",
       "  </tbody>\n",
       "</table>\n",
       "</div>"
      ],
      "text/plain": [
       "         Date  Total Sales\n",
       "0  2022-08-01         2000\n",
       "1  2022-08-02         3000\n",
       "2  2022-08-03         2500\n",
       "3  2022-08-04         4000\n",
       "4  2022-08-05         3000\n",
       "5  2022-08-06         2000"
      ]
     },
     "execution_count": 39,
     "metadata": {},
     "output_type": "execute_result"
    }
   ],
   "source": [
    "sales = pd.DataFrame({'Date':['2022-08-01','2022-08-02','2022-08-03','2022-08-04','2022-08-05','2022-08-06'],\n",
    "                   'Total Sales':[2000,3000,2500,4000,3000,2000]\n",
    "                   })\n",
    "sales"
   ]
  },
  {
   "cell_type": "code",
   "execution_count": 40,
   "id": "2f40984d",
   "metadata": {},
   "outputs": [
    {
     "data": {
      "application/vnd.microsoft.datawrangler.viewer.v0+json": {
       "columns": [
        {
         "name": "index",
         "rawType": "int64",
         "type": "integer"
        },
        {
         "name": "Date",
         "rawType": "object",
         "type": "string"
        },
        {
         "name": "Total Sales",
         "rawType": "int64",
         "type": "integer"
        },
        {
         "name": "Cummulative Sales",
         "rawType": "int64",
         "type": "integer"
        }
       ],
       "ref": "81fd5257-3cf1-49dd-b37b-faaef1693bee",
       "rows": [
        [
         "0",
         "2022-08-01",
         "2000",
         "2000"
        ],
        [
         "1",
         "2022-08-02",
         "3000",
         "5000"
        ],
        [
         "2",
         "2022-08-03",
         "2500",
         "7500"
        ],
        [
         "3",
         "2022-08-04",
         "4000",
         "11500"
        ],
        [
         "4",
         "2022-08-05",
         "3000",
         "14500"
        ],
        [
         "5",
         "2022-08-06",
         "2000",
         "16500"
        ]
       ],
       "shape": {
        "columns": 3,
        "rows": 6
       }
      },
      "text/html": [
       "<div>\n",
       "<style scoped>\n",
       "    .dataframe tbody tr th:only-of-type {\n",
       "        vertical-align: middle;\n",
       "    }\n",
       "\n",
       "    .dataframe tbody tr th {\n",
       "        vertical-align: top;\n",
       "    }\n",
       "\n",
       "    .dataframe thead th {\n",
       "        text-align: right;\n",
       "    }\n",
       "</style>\n",
       "<table border=\"1\" class=\"dataframe\">\n",
       "  <thead>\n",
       "    <tr style=\"text-align: right;\">\n",
       "      <th></th>\n",
       "      <th>Date</th>\n",
       "      <th>Total Sales</th>\n",
       "      <th>Cummulative Sales</th>\n",
       "    </tr>\n",
       "  </thead>\n",
       "  <tbody>\n",
       "    <tr>\n",
       "      <th>0</th>\n",
       "      <td>2022-08-01</td>\n",
       "      <td>2000</td>\n",
       "      <td>2000</td>\n",
       "    </tr>\n",
       "    <tr>\n",
       "      <th>1</th>\n",
       "      <td>2022-08-02</td>\n",
       "      <td>3000</td>\n",
       "      <td>5000</td>\n",
       "    </tr>\n",
       "    <tr>\n",
       "      <th>2</th>\n",
       "      <td>2022-08-03</td>\n",
       "      <td>2500</td>\n",
       "      <td>7500</td>\n",
       "    </tr>\n",
       "    <tr>\n",
       "      <th>3</th>\n",
       "      <td>2022-08-04</td>\n",
       "      <td>4000</td>\n",
       "      <td>11500</td>\n",
       "    </tr>\n",
       "    <tr>\n",
       "      <th>4</th>\n",
       "      <td>2022-08-05</td>\n",
       "      <td>3000</td>\n",
       "      <td>14500</td>\n",
       "    </tr>\n",
       "    <tr>\n",
       "      <th>5</th>\n",
       "      <td>2022-08-06</td>\n",
       "      <td>2000</td>\n",
       "      <td>16500</td>\n",
       "    </tr>\n",
       "  </tbody>\n",
       "</table>\n",
       "</div>"
      ],
      "text/plain": [
       "         Date  Total Sales  Cummulative Sales\n",
       "0  2022-08-01         2000               2000\n",
       "1  2022-08-02         3000               5000\n",
       "2  2022-08-03         2500               7500\n",
       "3  2022-08-04         4000              11500\n",
       "4  2022-08-05         3000              14500\n",
       "5  2022-08-06         2000              16500"
      ]
     },
     "execution_count": 40,
     "metadata": {},
     "output_type": "execute_result"
    }
   ],
   "source": [
    "sales['Cummulative Sales'] = sales['Total Sales'].cumsum()\n",
    "sales"
   ]
  },
  {
   "cell_type": "markdown",
   "id": "8c77284e",
   "metadata": {},
   "source": [
    "- melt transforma um DataFrame de várias colunas para várias linhas"
   ]
  },
  {
   "cell_type": "code",
   "execution_count": 41,
   "id": "55e58763",
   "metadata": {},
   "outputs": [
    {
     "data": {
      "application/vnd.microsoft.datawrangler.viewer.v0+json": {
       "columns": [
        {
         "name": "index",
         "rawType": "int64",
         "type": "integer"
        },
        {
         "name": "fruit",
         "rawType": "object",
         "type": "string"
        },
        {
         "name": "Aldi",
         "rawType": "int64",
         "type": "integer"
        },
        {
         "name": "Costco",
         "rawType": "int64",
         "type": "integer"
        },
        {
         "name": "Target",
         "rawType": "int64",
         "type": "integer"
        },
        {
         "name": "Walmart",
         "rawType": "int64",
         "type": "integer"
        }
       ],
       "ref": "f79c48f2-af50-4877-a3c5-b36a0e8a9636",
       "rows": [
        [
         "0",
         "apple",
         "4",
         "1",
         "3",
         "6"
        ],
        [
         "1",
         "banana",
         "5",
         "2",
         "4",
         "7"
        ],
        [
         "2",
         "orange",
         "6",
         "3",
         "5",
         "8"
        ]
       ],
       "shape": {
        "columns": 5,
        "rows": 3
       }
      },
      "text/html": [
       "<div>\n",
       "<style scoped>\n",
       "    .dataframe tbody tr th:only-of-type {\n",
       "        vertical-align: middle;\n",
       "    }\n",
       "\n",
       "    .dataframe tbody tr th {\n",
       "        vertical-align: top;\n",
       "    }\n",
       "\n",
       "    .dataframe thead th {\n",
       "        text-align: right;\n",
       "    }\n",
       "</style>\n",
       "<table border=\"1\" class=\"dataframe\">\n",
       "  <thead>\n",
       "    <tr style=\"text-align: right;\">\n",
       "      <th></th>\n",
       "      <th>fruit</th>\n",
       "      <th>Aldi</th>\n",
       "      <th>Costco</th>\n",
       "      <th>Target</th>\n",
       "      <th>Walmart</th>\n",
       "    </tr>\n",
       "  </thead>\n",
       "  <tbody>\n",
       "    <tr>\n",
       "      <th>0</th>\n",
       "      <td>apple</td>\n",
       "      <td>4</td>\n",
       "      <td>1</td>\n",
       "      <td>3</td>\n",
       "      <td>6</td>\n",
       "    </tr>\n",
       "    <tr>\n",
       "      <th>1</th>\n",
       "      <td>banana</td>\n",
       "      <td>5</td>\n",
       "      <td>2</td>\n",
       "      <td>4</td>\n",
       "      <td>7</td>\n",
       "    </tr>\n",
       "    <tr>\n",
       "      <th>2</th>\n",
       "      <td>orange</td>\n",
       "      <td>6</td>\n",
       "      <td>3</td>\n",
       "      <td>5</td>\n",
       "      <td>8</td>\n",
       "    </tr>\n",
       "  </tbody>\n",
       "</table>\n",
       "</div>"
      ],
      "text/plain": [
       "    fruit  Aldi  Costco  Target  Walmart\n",
       "0   apple     4       1       3        6\n",
       "1  banana     5       2       4        7\n",
       "2  orange     6       3       5        8"
      ]
     },
     "execution_count": 41,
     "metadata": {},
     "output_type": "execute_result"
    }
   ],
   "source": [
    "df_fruits = pd.DataFrame({\n",
    "    \"fruit\": [\"apple\", \"banana\", \"orange\"],\n",
    "    \"Aldi\": [4, 5, 6],\n",
    "    \"Costco\": [1, 2, 3],\n",
    "    \"Target\": [3, 4, 5],\n",
    "    \"Walmart\": [6, 7, 8]\n",
    "})\n",
    "\n",
    "df_fruits"
   ]
  },
  {
   "cell_type": "code",
   "execution_count": 42,
   "id": "2858cce5",
   "metadata": {},
   "outputs": [
    {
     "data": {
      "application/vnd.microsoft.datawrangler.viewer.v0+json": {
       "columns": [
        {
         "name": "index",
         "rawType": "int64",
         "type": "integer"
        },
        {
         "name": "fruit",
         "rawType": "object",
         "type": "string"
        },
        {
         "name": "store",
         "rawType": "object",
         "type": "string"
        },
        {
         "name": "value",
         "rawType": "int64",
         "type": "integer"
        }
       ],
       "ref": "82f04b7f-71dd-45e9-b419-34fc39b1fcae",
       "rows": [
        [
         "0",
         "apple",
         "Aldi",
         "4"
        ],
        [
         "1",
         "banana",
         "Aldi",
         "5"
        ],
        [
         "2",
         "orange",
         "Aldi",
         "6"
        ],
        [
         "3",
         "apple",
         "Costco",
         "1"
        ],
        [
         "4",
         "banana",
         "Costco",
         "2"
        ],
        [
         "5",
         "orange",
         "Costco",
         "3"
        ],
        [
         "6",
         "apple",
         "Target",
         "3"
        ],
        [
         "7",
         "banana",
         "Target",
         "4"
        ],
        [
         "8",
         "orange",
         "Target",
         "5"
        ],
        [
         "9",
         "apple",
         "Walmart",
         "6"
        ],
        [
         "10",
         "banana",
         "Walmart",
         "7"
        ],
        [
         "11",
         "orange",
         "Walmart",
         "8"
        ]
       ],
       "shape": {
        "columns": 3,
        "rows": 12
       }
      },
      "text/html": [
       "<div>\n",
       "<style scoped>\n",
       "    .dataframe tbody tr th:only-of-type {\n",
       "        vertical-align: middle;\n",
       "    }\n",
       "\n",
       "    .dataframe tbody tr th {\n",
       "        vertical-align: top;\n",
       "    }\n",
       "\n",
       "    .dataframe thead th {\n",
       "        text-align: right;\n",
       "    }\n",
       "</style>\n",
       "<table border=\"1\" class=\"dataframe\">\n",
       "  <thead>\n",
       "    <tr style=\"text-align: right;\">\n",
       "      <th></th>\n",
       "      <th>fruit</th>\n",
       "      <th>store</th>\n",
       "      <th>value</th>\n",
       "    </tr>\n",
       "  </thead>\n",
       "  <tbody>\n",
       "    <tr>\n",
       "      <th>0</th>\n",
       "      <td>apple</td>\n",
       "      <td>Aldi</td>\n",
       "      <td>4</td>\n",
       "    </tr>\n",
       "    <tr>\n",
       "      <th>1</th>\n",
       "      <td>banana</td>\n",
       "      <td>Aldi</td>\n",
       "      <td>5</td>\n",
       "    </tr>\n",
       "    <tr>\n",
       "      <th>2</th>\n",
       "      <td>orange</td>\n",
       "      <td>Aldi</td>\n",
       "      <td>6</td>\n",
       "    </tr>\n",
       "    <tr>\n",
       "      <th>3</th>\n",
       "      <td>apple</td>\n",
       "      <td>Costco</td>\n",
       "      <td>1</td>\n",
       "    </tr>\n",
       "    <tr>\n",
       "      <th>4</th>\n",
       "      <td>banana</td>\n",
       "      <td>Costco</td>\n",
       "      <td>2</td>\n",
       "    </tr>\n",
       "    <tr>\n",
       "      <th>5</th>\n",
       "      <td>orange</td>\n",
       "      <td>Costco</td>\n",
       "      <td>3</td>\n",
       "    </tr>\n",
       "    <tr>\n",
       "      <th>6</th>\n",
       "      <td>apple</td>\n",
       "      <td>Target</td>\n",
       "      <td>3</td>\n",
       "    </tr>\n",
       "    <tr>\n",
       "      <th>7</th>\n",
       "      <td>banana</td>\n",
       "      <td>Target</td>\n",
       "      <td>4</td>\n",
       "    </tr>\n",
       "    <tr>\n",
       "      <th>8</th>\n",
       "      <td>orange</td>\n",
       "      <td>Target</td>\n",
       "      <td>5</td>\n",
       "    </tr>\n",
       "    <tr>\n",
       "      <th>9</th>\n",
       "      <td>apple</td>\n",
       "      <td>Walmart</td>\n",
       "      <td>6</td>\n",
       "    </tr>\n",
       "    <tr>\n",
       "      <th>10</th>\n",
       "      <td>banana</td>\n",
       "      <td>Walmart</td>\n",
       "      <td>7</td>\n",
       "    </tr>\n",
       "    <tr>\n",
       "      <th>11</th>\n",
       "      <td>orange</td>\n",
       "      <td>Walmart</td>\n",
       "      <td>8</td>\n",
       "    </tr>\n",
       "  </tbody>\n",
       "</table>\n",
       "</div>"
      ],
      "text/plain": [
       "     fruit    store  value\n",
       "0    apple     Aldi      4\n",
       "1   banana     Aldi      5\n",
       "2   orange     Aldi      6\n",
       "3    apple   Costco      1\n",
       "4   banana   Costco      2\n",
       "5   orange   Costco      3\n",
       "6    apple   Target      3\n",
       "7   banana   Target      4\n",
       "8   orange   Target      5\n",
       "9    apple  Walmart      6\n",
       "10  banana  Walmart      7\n",
       "11  orange  Walmart      8"
      ]
     },
     "execution_count": 42,
     "metadata": {},
     "output_type": "execute_result"
    }
   ],
   "source": [
    "df_fruits.melt(id_vars=[\"fruit\"],\n",
    "        value_vars=[\"Aldi\", \"Costco\", \"Target\", \"Walmart\"],\n",
    "        var_name='store')"
   ]
  },
  {
   "cell_type": "markdown",
   "id": "56a07040",
   "metadata": {},
   "source": [
    "- Pandas carrega vários tipos de dados como csv, json, xml, html, excel"
   ]
  },
  {
   "cell_type": "code",
   "execution_count": 43,
   "id": "aa6240f2",
   "metadata": {},
   "outputs": [
    {
     "data": {
      "application/vnd.microsoft.datawrangler.viewer.v0+json": {
       "columns": [
        {
         "name": "index",
         "rawType": "int64",
         "type": "integer"
        },
        {
         "name": "Store",
         "rawType": "int64",
         "type": "integer"
        },
        {
         "name": "Date",
         "rawType": "object",
         "type": "string"
        },
        {
         "name": "Weekly_Sales",
         "rawType": "float64",
         "type": "float"
        },
        {
         "name": "Holiday_Flag",
         "rawType": "int64",
         "type": "integer"
        },
        {
         "name": "Temperature",
         "rawType": "float64",
         "type": "float"
        },
        {
         "name": "Fuel_Price",
         "rawType": "float64",
         "type": "float"
        },
        {
         "name": "CPI",
         "rawType": "float64",
         "type": "float"
        },
        {
         "name": "Unemployment",
         "rawType": "float64",
         "type": "float"
        }
       ],
       "ref": "1e8cae98-4843-4a9c-bfa1-976f2edb62fe",
       "rows": [
        [
         "0",
         "1",
         "05-02-2010",
         "1643690.9",
         "0",
         "42.31",
         "2.572",
         "211.0963582",
         "8.106"
        ],
        [
         "1",
         "1",
         "12-02-2010",
         "1641957.44",
         "1",
         "38.51",
         "2.548",
         "211.2421698",
         "8.106"
        ],
        [
         "2",
         "1",
         "19-02-2010",
         "1611968.17",
         "0",
         "39.93",
         "2.514",
         "211.2891429",
         "8.106"
        ],
        [
         "3",
         "1",
         "26-02-2010",
         "1409727.59",
         "0",
         "46.63",
         "2.561",
         "211.3196429",
         "8.106"
        ],
        [
         "4",
         "1",
         "05-03-2010",
         "1554806.68",
         "0",
         "46.5",
         "2.625",
         "211.3501429",
         "8.106"
        ],
        [
         "5",
         "1",
         "12-03-2010",
         "1439541.59",
         "0",
         "57.79",
         "2.667",
         "211.3806429",
         "8.106"
        ],
        [
         "6",
         "1",
         "19-03-2010",
         "1472515.79",
         "0",
         "54.58",
         "2.72",
         "211.215635",
         "8.106"
        ],
        [
         "7",
         "1",
         "26-03-2010",
         "1404429.92",
         "0",
         "51.45",
         "2.732",
         "211.0180424",
         "8.106"
        ],
        [
         "8",
         "1",
         "02-04-2010",
         "1594968.28",
         "0",
         "62.27",
         "2.719",
         "210.8204499",
         "7.808"
        ],
        [
         "9",
         "1",
         "09-04-2010",
         "1545418.53",
         "0",
         "65.86",
         "2.77",
         "210.6228574",
         "7.808"
        ],
        [
         "10",
         "1",
         "16-04-2010",
         "1466058.28",
         "0",
         "66.32",
         "2.808",
         "210.4887",
         "7.808"
        ],
        [
         "11",
         "1",
         "23-04-2010",
         "1391256.12",
         "0",
         "64.84",
         "2.795",
         "210.4391228",
         "7.808"
        ],
        [
         "12",
         "1",
         "30-04-2010",
         "1425100.71",
         "0",
         "67.41",
         "2.78",
         "210.3895456",
         "7.808"
        ],
        [
         "13",
         "1",
         "07-05-2010",
         "1603955.12",
         "0",
         "72.55",
         "2.835",
         "210.3399684",
         "7.808"
        ],
        [
         "14",
         "1",
         "14-05-2010",
         "1494251.5",
         "0",
         "74.78",
         "2.854",
         "210.3374261",
         "7.808"
        ],
        [
         "15",
         "1",
         "21-05-2010",
         "1399662.07",
         "0",
         "76.44",
         "2.826",
         "210.6170934",
         "7.808"
        ],
        [
         "16",
         "1",
         "28-05-2010",
         "1432069.95",
         "0",
         "80.44",
         "2.759",
         "210.8967606",
         "7.808"
        ],
        [
         "17",
         "1",
         "04-06-2010",
         "1615524.71",
         "0",
         "80.69",
         "2.705",
         "211.1764278",
         "7.808"
        ],
        [
         "18",
         "1",
         "11-06-2010",
         "1542561.09",
         "0",
         "80.43",
         "2.668",
         "211.4560951",
         "7.808"
        ],
        [
         "19",
         "1",
         "18-06-2010",
         "1503284.06",
         "0",
         "84.11",
         "2.637",
         "211.4537719",
         "7.808"
        ],
        [
         "20",
         "1",
         "25-06-2010",
         "1422711.6",
         "0",
         "84.34",
         "2.653",
         "211.3386526",
         "7.808"
        ],
        [
         "21",
         "1",
         "02-07-2010",
         "1492418.14",
         "0",
         "80.91",
         "2.669",
         "211.2235333",
         "7.787"
        ],
        [
         "22",
         "1",
         "09-07-2010",
         "1546074.18",
         "0",
         "80.48",
         "2.642",
         "211.108414",
         "7.787"
        ],
        [
         "23",
         "1",
         "16-07-2010",
         "1448938.92",
         "0",
         "83.15",
         "2.623",
         "211.1003854",
         "7.787"
        ],
        [
         "24",
         "1",
         "23-07-2010",
         "1385065.2",
         "0",
         "83.36",
         "2.608",
         "211.2351443",
         "7.787"
        ],
        [
         "25",
         "1",
         "30-07-2010",
         "1371986.6",
         "0",
         "81.84",
         "2.64",
         "211.3699032",
         "7.787"
        ],
        [
         "26",
         "1",
         "06-08-2010",
         "1605491.78",
         "0",
         "87.16",
         "2.627",
         "211.5046621",
         "7.787"
        ],
        [
         "27",
         "1",
         "13-08-2010",
         "1508237.76",
         "0",
         "87.0",
         "2.692",
         "211.6394211",
         "7.787"
        ],
        [
         "28",
         "1",
         "20-08-2010",
         "1513080.49",
         "0",
         "86.65",
         "2.664",
         "211.6033633",
         "7.787"
        ],
        [
         "29",
         "1",
         "27-08-2010",
         "1449142.92",
         "0",
         "85.22",
         "2.619",
         "211.5673056",
         "7.787"
        ],
        [
         "30",
         "1",
         "03-09-2010",
         "1540163.53",
         "0",
         "81.21",
         "2.577",
         "211.5312479",
         "7.787"
        ],
        [
         "31",
         "1",
         "10-09-2010",
         "1507460.69",
         "1",
         "78.69",
         "2.565",
         "211.4951902",
         "7.787"
        ],
        [
         "32",
         "1",
         "17-09-2010",
         "1430378.67",
         "0",
         "82.11",
         "2.582",
         "211.5224596",
         "7.787"
        ],
        [
         "33",
         "1",
         "24-09-2010",
         "1351791.03",
         "0",
         "80.94",
         "2.624",
         "211.5972246",
         "7.787"
        ],
        [
         "34",
         "1",
         "01-10-2010",
         "1453329.5",
         "0",
         "71.89",
         "2.603",
         "211.6719895",
         "7.838"
        ],
        [
         "35",
         "1",
         "08-10-2010",
         "1508239.93",
         "0",
         "63.93",
         "2.633",
         "211.7467544",
         "7.838"
        ],
        [
         "36",
         "1",
         "15-10-2010",
         "1459409.1",
         "0",
         "67.18",
         "2.72",
         "211.8137436",
         "7.838"
        ],
        [
         "37",
         "1",
         "22-10-2010",
         "1345454.0",
         "0",
         "69.86",
         "2.725",
         "211.8612937",
         "7.838"
        ],
        [
         "38",
         "1",
         "29-10-2010",
         "1384209.22",
         "0",
         "69.64",
         "2.716",
         "211.9088438",
         "7.838"
        ],
        [
         "39",
         "1",
         "05-11-2010",
         "1551659.28",
         "0",
         "58.74",
         "2.689",
         "211.9563939",
         "7.838"
        ],
        [
         "40",
         "1",
         "12-11-2010",
         "1494479.49",
         "0",
         "59.61",
         "2.728",
         "212.003944",
         "7.838"
        ],
        [
         "41",
         "1",
         "19-11-2010",
         "1483784.18",
         "0",
         "51.41",
         "2.771",
         "211.8896737",
         "7.838"
        ],
        [
         "42",
         "1",
         "26-11-2010",
         "1955624.11",
         "1",
         "64.52",
         "2.735",
         "211.7484333",
         "7.838"
        ],
        [
         "43",
         "1",
         "03-12-2010",
         "1548033.78",
         "0",
         "49.27",
         "2.708",
         "211.607193",
         "7.838"
        ],
        [
         "44",
         "1",
         "10-12-2010",
         "1682614.26",
         "0",
         "46.33",
         "2.843",
         "211.4659526",
         "7.838"
        ],
        [
         "45",
         "1",
         "17-12-2010",
         "1891034.93",
         "0",
         "49.84",
         "2.869",
         "211.4053124",
         "7.838"
        ],
        [
         "46",
         "1",
         "24-12-2010",
         "2387950.2",
         "0",
         "52.33",
         "2.886",
         "211.4051222",
         "7.838"
        ],
        [
         "47",
         "1",
         "31-12-2010",
         "1367320.01",
         "1",
         "48.43",
         "2.943",
         "211.4049321",
         "7.838"
        ],
        [
         "48",
         "1",
         "07-01-2011",
         "1444732.28",
         "0",
         "48.27",
         "2.976",
         "211.4047419",
         "7.742"
        ],
        [
         "49",
         "1",
         "14-01-2011",
         "1391013.96",
         "0",
         "35.4",
         "2.983",
         "211.4574109",
         "7.742"
        ]
       ],
       "shape": {
        "columns": 8,
        "rows": 6435
       }
      },
      "text/html": [
       "<div>\n",
       "<style scoped>\n",
       "    .dataframe tbody tr th:only-of-type {\n",
       "        vertical-align: middle;\n",
       "    }\n",
       "\n",
       "    .dataframe tbody tr th {\n",
       "        vertical-align: top;\n",
       "    }\n",
       "\n",
       "    .dataframe thead th {\n",
       "        text-align: right;\n",
       "    }\n",
       "</style>\n",
       "<table border=\"1\" class=\"dataframe\">\n",
       "  <thead>\n",
       "    <tr style=\"text-align: right;\">\n",
       "      <th></th>\n",
       "      <th>Store</th>\n",
       "      <th>Date</th>\n",
       "      <th>Weekly_Sales</th>\n",
       "      <th>Holiday_Flag</th>\n",
       "      <th>Temperature</th>\n",
       "      <th>Fuel_Price</th>\n",
       "      <th>CPI</th>\n",
       "      <th>Unemployment</th>\n",
       "    </tr>\n",
       "  </thead>\n",
       "  <tbody>\n",
       "    <tr>\n",
       "      <th>0</th>\n",
       "      <td>1</td>\n",
       "      <td>05-02-2010</td>\n",
       "      <td>1643690.90</td>\n",
       "      <td>0</td>\n",
       "      <td>42.31</td>\n",
       "      <td>2.572</td>\n",
       "      <td>211.096358</td>\n",
       "      <td>8.106</td>\n",
       "    </tr>\n",
       "    <tr>\n",
       "      <th>1</th>\n",
       "      <td>1</td>\n",
       "      <td>12-02-2010</td>\n",
       "      <td>1641957.44</td>\n",
       "      <td>1</td>\n",
       "      <td>38.51</td>\n",
       "      <td>2.548</td>\n",
       "      <td>211.242170</td>\n",
       "      <td>8.106</td>\n",
       "    </tr>\n",
       "    <tr>\n",
       "      <th>2</th>\n",
       "      <td>1</td>\n",
       "      <td>19-02-2010</td>\n",
       "      <td>1611968.17</td>\n",
       "      <td>0</td>\n",
       "      <td>39.93</td>\n",
       "      <td>2.514</td>\n",
       "      <td>211.289143</td>\n",
       "      <td>8.106</td>\n",
       "    </tr>\n",
       "    <tr>\n",
       "      <th>3</th>\n",
       "      <td>1</td>\n",
       "      <td>26-02-2010</td>\n",
       "      <td>1409727.59</td>\n",
       "      <td>0</td>\n",
       "      <td>46.63</td>\n",
       "      <td>2.561</td>\n",
       "      <td>211.319643</td>\n",
       "      <td>8.106</td>\n",
       "    </tr>\n",
       "    <tr>\n",
       "      <th>4</th>\n",
       "      <td>1</td>\n",
       "      <td>05-03-2010</td>\n",
       "      <td>1554806.68</td>\n",
       "      <td>0</td>\n",
       "      <td>46.50</td>\n",
       "      <td>2.625</td>\n",
       "      <td>211.350143</td>\n",
       "      <td>8.106</td>\n",
       "    </tr>\n",
       "    <tr>\n",
       "      <th>...</th>\n",
       "      <td>...</td>\n",
       "      <td>...</td>\n",
       "      <td>...</td>\n",
       "      <td>...</td>\n",
       "      <td>...</td>\n",
       "      <td>...</td>\n",
       "      <td>...</td>\n",
       "      <td>...</td>\n",
       "    </tr>\n",
       "    <tr>\n",
       "      <th>6430</th>\n",
       "      <td>45</td>\n",
       "      <td>28-09-2012</td>\n",
       "      <td>713173.95</td>\n",
       "      <td>0</td>\n",
       "      <td>64.88</td>\n",
       "      <td>3.997</td>\n",
       "      <td>192.013558</td>\n",
       "      <td>8.684</td>\n",
       "    </tr>\n",
       "    <tr>\n",
       "      <th>6431</th>\n",
       "      <td>45</td>\n",
       "      <td>05-10-2012</td>\n",
       "      <td>733455.07</td>\n",
       "      <td>0</td>\n",
       "      <td>64.89</td>\n",
       "      <td>3.985</td>\n",
       "      <td>192.170412</td>\n",
       "      <td>8.667</td>\n",
       "    </tr>\n",
       "    <tr>\n",
       "      <th>6432</th>\n",
       "      <td>45</td>\n",
       "      <td>12-10-2012</td>\n",
       "      <td>734464.36</td>\n",
       "      <td>0</td>\n",
       "      <td>54.47</td>\n",
       "      <td>4.000</td>\n",
       "      <td>192.327265</td>\n",
       "      <td>8.667</td>\n",
       "    </tr>\n",
       "    <tr>\n",
       "      <th>6433</th>\n",
       "      <td>45</td>\n",
       "      <td>19-10-2012</td>\n",
       "      <td>718125.53</td>\n",
       "      <td>0</td>\n",
       "      <td>56.47</td>\n",
       "      <td>3.969</td>\n",
       "      <td>192.330854</td>\n",
       "      <td>8.667</td>\n",
       "    </tr>\n",
       "    <tr>\n",
       "      <th>6434</th>\n",
       "      <td>45</td>\n",
       "      <td>26-10-2012</td>\n",
       "      <td>760281.43</td>\n",
       "      <td>0</td>\n",
       "      <td>58.85</td>\n",
       "      <td>3.882</td>\n",
       "      <td>192.308899</td>\n",
       "      <td>8.667</td>\n",
       "    </tr>\n",
       "  </tbody>\n",
       "</table>\n",
       "<p>6435 rows × 8 columns</p>\n",
       "</div>"
      ],
      "text/plain": [
       "      Store        Date  Weekly_Sales  Holiday_Flag  Temperature  Fuel_Price  \\\n",
       "0         1  05-02-2010    1643690.90             0        42.31       2.572   \n",
       "1         1  12-02-2010    1641957.44             1        38.51       2.548   \n",
       "2         1  19-02-2010    1611968.17             0        39.93       2.514   \n",
       "3         1  26-02-2010    1409727.59             0        46.63       2.561   \n",
       "4         1  05-03-2010    1554806.68             0        46.50       2.625   \n",
       "...     ...         ...           ...           ...          ...         ...   \n",
       "6430     45  28-09-2012     713173.95             0        64.88       3.997   \n",
       "6431     45  05-10-2012     733455.07             0        64.89       3.985   \n",
       "6432     45  12-10-2012     734464.36             0        54.47       4.000   \n",
       "6433     45  19-10-2012     718125.53             0        56.47       3.969   \n",
       "6434     45  26-10-2012     760281.43             0        58.85       3.882   \n",
       "\n",
       "             CPI  Unemployment  \n",
       "0     211.096358         8.106  \n",
       "1     211.242170         8.106  \n",
       "2     211.289143         8.106  \n",
       "3     211.319643         8.106  \n",
       "4     211.350143         8.106  \n",
       "...          ...           ...  \n",
       "6430  192.013558         8.684  \n",
       "6431  192.170412         8.667  \n",
       "6432  192.327265         8.667  \n",
       "6433  192.330854         8.667  \n",
       "6434  192.308899         8.667  \n",
       "\n",
       "[6435 rows x 8 columns]"
      ]
     },
     "execution_count": 43,
     "metadata": {},
     "output_type": "execute_result"
    }
   ],
   "source": [
    "walmart = pd.read_csv('datasets/Walmart_Store_sales.csv')\n",
    "walmart"
   ]
  },
  {
   "cell_type": "markdown",
   "id": "25371d9e",
   "metadata": {},
   "source": [
    "- É possível filtrar as colunas ao carregar o dataset"
   ]
  },
  {
   "cell_type": "code",
   "execution_count": 44,
   "id": "e97bf526",
   "metadata": {},
   "outputs": [
    {
     "data": {
      "application/vnd.microsoft.datawrangler.viewer.v0+json": {
       "columns": [
        {
         "name": "index",
         "rawType": "int64",
         "type": "integer"
        },
        {
         "name": "Store",
         "rawType": "int64",
         "type": "integer"
        },
        {
         "name": "Date",
         "rawType": "object",
         "type": "string"
        },
        {
         "name": "Weekly_Sales",
         "rawType": "float64",
         "type": "float"
        }
       ],
       "ref": "9ee41b44-d56a-41c9-a482-f441cc155ac6",
       "rows": [
        [
         "0",
         "1",
         "05-02-2010",
         "1643690.9"
        ],
        [
         "1",
         "1",
         "12-02-2010",
         "1641957.44"
        ],
        [
         "2",
         "1",
         "19-02-2010",
         "1611968.17"
        ],
        [
         "3",
         "1",
         "26-02-2010",
         "1409727.59"
        ],
        [
         "4",
         "1",
         "05-03-2010",
         "1554806.68"
        ],
        [
         "5",
         "1",
         "12-03-2010",
         "1439541.59"
        ],
        [
         "6",
         "1",
         "19-03-2010",
         "1472515.79"
        ],
        [
         "7",
         "1",
         "26-03-2010",
         "1404429.92"
        ],
        [
         "8",
         "1",
         "02-04-2010",
         "1594968.28"
        ],
        [
         "9",
         "1",
         "09-04-2010",
         "1545418.53"
        ],
        [
         "10",
         "1",
         "16-04-2010",
         "1466058.28"
        ],
        [
         "11",
         "1",
         "23-04-2010",
         "1391256.12"
        ],
        [
         "12",
         "1",
         "30-04-2010",
         "1425100.71"
        ],
        [
         "13",
         "1",
         "07-05-2010",
         "1603955.12"
        ],
        [
         "14",
         "1",
         "14-05-2010",
         "1494251.5"
        ],
        [
         "15",
         "1",
         "21-05-2010",
         "1399662.07"
        ],
        [
         "16",
         "1",
         "28-05-2010",
         "1432069.95"
        ],
        [
         "17",
         "1",
         "04-06-2010",
         "1615524.71"
        ],
        [
         "18",
         "1",
         "11-06-2010",
         "1542561.09"
        ],
        [
         "19",
         "1",
         "18-06-2010",
         "1503284.06"
        ],
        [
         "20",
         "1",
         "25-06-2010",
         "1422711.6"
        ],
        [
         "21",
         "1",
         "02-07-2010",
         "1492418.14"
        ],
        [
         "22",
         "1",
         "09-07-2010",
         "1546074.18"
        ],
        [
         "23",
         "1",
         "16-07-2010",
         "1448938.92"
        ],
        [
         "24",
         "1",
         "23-07-2010",
         "1385065.2"
        ],
        [
         "25",
         "1",
         "30-07-2010",
         "1371986.6"
        ],
        [
         "26",
         "1",
         "06-08-2010",
         "1605491.78"
        ],
        [
         "27",
         "1",
         "13-08-2010",
         "1508237.76"
        ],
        [
         "28",
         "1",
         "20-08-2010",
         "1513080.49"
        ],
        [
         "29",
         "1",
         "27-08-2010",
         "1449142.92"
        ],
        [
         "30",
         "1",
         "03-09-2010",
         "1540163.53"
        ],
        [
         "31",
         "1",
         "10-09-2010",
         "1507460.69"
        ],
        [
         "32",
         "1",
         "17-09-2010",
         "1430378.67"
        ],
        [
         "33",
         "1",
         "24-09-2010",
         "1351791.03"
        ],
        [
         "34",
         "1",
         "01-10-2010",
         "1453329.5"
        ],
        [
         "35",
         "1",
         "08-10-2010",
         "1508239.93"
        ],
        [
         "36",
         "1",
         "15-10-2010",
         "1459409.1"
        ],
        [
         "37",
         "1",
         "22-10-2010",
         "1345454.0"
        ],
        [
         "38",
         "1",
         "29-10-2010",
         "1384209.22"
        ],
        [
         "39",
         "1",
         "05-11-2010",
         "1551659.28"
        ],
        [
         "40",
         "1",
         "12-11-2010",
         "1494479.49"
        ],
        [
         "41",
         "1",
         "19-11-2010",
         "1483784.18"
        ],
        [
         "42",
         "1",
         "26-11-2010",
         "1955624.11"
        ],
        [
         "43",
         "1",
         "03-12-2010",
         "1548033.78"
        ],
        [
         "44",
         "1",
         "10-12-2010",
         "1682614.26"
        ],
        [
         "45",
         "1",
         "17-12-2010",
         "1891034.93"
        ],
        [
         "46",
         "1",
         "24-12-2010",
         "2387950.2"
        ],
        [
         "47",
         "1",
         "31-12-2010",
         "1367320.01"
        ],
        [
         "48",
         "1",
         "07-01-2011",
         "1444732.28"
        ],
        [
         "49",
         "1",
         "14-01-2011",
         "1391013.96"
        ]
       ],
       "shape": {
        "columns": 3,
        "rows": 6435
       }
      },
      "text/html": [
       "<div>\n",
       "<style scoped>\n",
       "    .dataframe tbody tr th:only-of-type {\n",
       "        vertical-align: middle;\n",
       "    }\n",
       "\n",
       "    .dataframe tbody tr th {\n",
       "        vertical-align: top;\n",
       "    }\n",
       "\n",
       "    .dataframe thead th {\n",
       "        text-align: right;\n",
       "    }\n",
       "</style>\n",
       "<table border=\"1\" class=\"dataframe\">\n",
       "  <thead>\n",
       "    <tr style=\"text-align: right;\">\n",
       "      <th></th>\n",
       "      <th>Store</th>\n",
       "      <th>Date</th>\n",
       "      <th>Weekly_Sales</th>\n",
       "    </tr>\n",
       "  </thead>\n",
       "  <tbody>\n",
       "    <tr>\n",
       "      <th>0</th>\n",
       "      <td>1</td>\n",
       "      <td>05-02-2010</td>\n",
       "      <td>1643690.90</td>\n",
       "    </tr>\n",
       "    <tr>\n",
       "      <th>1</th>\n",
       "      <td>1</td>\n",
       "      <td>12-02-2010</td>\n",
       "      <td>1641957.44</td>\n",
       "    </tr>\n",
       "    <tr>\n",
       "      <th>2</th>\n",
       "      <td>1</td>\n",
       "      <td>19-02-2010</td>\n",
       "      <td>1611968.17</td>\n",
       "    </tr>\n",
       "    <tr>\n",
       "      <th>3</th>\n",
       "      <td>1</td>\n",
       "      <td>26-02-2010</td>\n",
       "      <td>1409727.59</td>\n",
       "    </tr>\n",
       "    <tr>\n",
       "      <th>4</th>\n",
       "      <td>1</td>\n",
       "      <td>05-03-2010</td>\n",
       "      <td>1554806.68</td>\n",
       "    </tr>\n",
       "    <tr>\n",
       "      <th>...</th>\n",
       "      <td>...</td>\n",
       "      <td>...</td>\n",
       "      <td>...</td>\n",
       "    </tr>\n",
       "    <tr>\n",
       "      <th>6430</th>\n",
       "      <td>45</td>\n",
       "      <td>28-09-2012</td>\n",
       "      <td>713173.95</td>\n",
       "    </tr>\n",
       "    <tr>\n",
       "      <th>6431</th>\n",
       "      <td>45</td>\n",
       "      <td>05-10-2012</td>\n",
       "      <td>733455.07</td>\n",
       "    </tr>\n",
       "    <tr>\n",
       "      <th>6432</th>\n",
       "      <td>45</td>\n",
       "      <td>12-10-2012</td>\n",
       "      <td>734464.36</td>\n",
       "    </tr>\n",
       "    <tr>\n",
       "      <th>6433</th>\n",
       "      <td>45</td>\n",
       "      <td>19-10-2012</td>\n",
       "      <td>718125.53</td>\n",
       "    </tr>\n",
       "    <tr>\n",
       "      <th>6434</th>\n",
       "      <td>45</td>\n",
       "      <td>26-10-2012</td>\n",
       "      <td>760281.43</td>\n",
       "    </tr>\n",
       "  </tbody>\n",
       "</table>\n",
       "<p>6435 rows × 3 columns</p>\n",
       "</div>"
      ],
      "text/plain": [
       "      Store        Date  Weekly_Sales\n",
       "0         1  05-02-2010    1643690.90\n",
       "1         1  12-02-2010    1641957.44\n",
       "2         1  19-02-2010    1611968.17\n",
       "3         1  26-02-2010    1409727.59\n",
       "4         1  05-03-2010    1554806.68\n",
       "...     ...         ...           ...\n",
       "6430     45  28-09-2012     713173.95\n",
       "6431     45  05-10-2012     733455.07\n",
       "6432     45  12-10-2012     734464.36\n",
       "6433     45  19-10-2012     718125.53\n",
       "6434     45  26-10-2012     760281.43\n",
       "\n",
       "[6435 rows x 3 columns]"
      ]
     },
     "execution_count": 44,
     "metadata": {},
     "output_type": "execute_result"
    }
   ],
   "source": [
    "pd.read_csv(\"datasets/Walmart_Store_sales.csv\", usecols=[\"Store\", \"Date\", \"Weekly_Sales\"])"
   ]
  },
  {
   "cell_type": "markdown",
   "id": "5aa355d3",
   "metadata": {},
   "source": [
    "- É possível especificar o tipo da coluna ao carregar o dataset"
   ]
  },
  {
   "cell_type": "code",
   "execution_count": 45,
   "id": "9b17f2e3",
   "metadata": {},
   "outputs": [
    {
     "data": {
      "application/vnd.microsoft.datawrangler.viewer.v0+json": {
       "columns": [
        {
         "name": "index",
         "rawType": "int64",
         "type": "integer"
        },
        {
         "name": "Store",
         "rawType": "category",
         "type": "unknown"
        },
        {
         "name": "Date",
         "rawType": "object",
         "type": "string"
        },
        {
         "name": "Weekly_Sales",
         "rawType": "float64",
         "type": "float"
        },
        {
         "name": "Holiday_Flag",
         "rawType": "int64",
         "type": "integer"
        },
        {
         "name": "Temperature",
         "rawType": "float64",
         "type": "float"
        },
        {
         "name": "Fuel_Price",
         "rawType": "float64",
         "type": "float"
        },
        {
         "name": "CPI",
         "rawType": "float64",
         "type": "float"
        },
        {
         "name": "Unemployment",
         "rawType": "float64",
         "type": "float"
        }
       ],
       "ref": "ea577604-b6b7-45aa-8d14-a650099be49a",
       "rows": [
        [
         "0",
         "1",
         "05-02-2010",
         "1643690.9",
         "0",
         "42.31",
         "2.572",
         "211.0963582",
         "8.106"
        ],
        [
         "1",
         "1",
         "12-02-2010",
         "1641957.44",
         "1",
         "38.51",
         "2.548",
         "211.2421698",
         "8.106"
        ],
        [
         "2",
         "1",
         "19-02-2010",
         "1611968.17",
         "0",
         "39.93",
         "2.514",
         "211.2891429",
         "8.106"
        ],
        [
         "3",
         "1",
         "26-02-2010",
         "1409727.59",
         "0",
         "46.63",
         "2.561",
         "211.3196429",
         "8.106"
        ],
        [
         "4",
         "1",
         "05-03-2010",
         "1554806.68",
         "0",
         "46.5",
         "2.625",
         "211.3501429",
         "8.106"
        ],
        [
         "5",
         "1",
         "12-03-2010",
         "1439541.59",
         "0",
         "57.79",
         "2.667",
         "211.3806429",
         "8.106"
        ],
        [
         "6",
         "1",
         "19-03-2010",
         "1472515.79",
         "0",
         "54.58",
         "2.72",
         "211.215635",
         "8.106"
        ],
        [
         "7",
         "1",
         "26-03-2010",
         "1404429.92",
         "0",
         "51.45",
         "2.732",
         "211.0180424",
         "8.106"
        ],
        [
         "8",
         "1",
         "02-04-2010",
         "1594968.28",
         "0",
         "62.27",
         "2.719",
         "210.8204499",
         "7.808"
        ],
        [
         "9",
         "1",
         "09-04-2010",
         "1545418.53",
         "0",
         "65.86",
         "2.77",
         "210.6228574",
         "7.808"
        ],
        [
         "10",
         "1",
         "16-04-2010",
         "1466058.28",
         "0",
         "66.32",
         "2.808",
         "210.4887",
         "7.808"
        ],
        [
         "11",
         "1",
         "23-04-2010",
         "1391256.12",
         "0",
         "64.84",
         "2.795",
         "210.4391228",
         "7.808"
        ],
        [
         "12",
         "1",
         "30-04-2010",
         "1425100.71",
         "0",
         "67.41",
         "2.78",
         "210.3895456",
         "7.808"
        ],
        [
         "13",
         "1",
         "07-05-2010",
         "1603955.12",
         "0",
         "72.55",
         "2.835",
         "210.3399684",
         "7.808"
        ],
        [
         "14",
         "1",
         "14-05-2010",
         "1494251.5",
         "0",
         "74.78",
         "2.854",
         "210.3374261",
         "7.808"
        ],
        [
         "15",
         "1",
         "21-05-2010",
         "1399662.07",
         "0",
         "76.44",
         "2.826",
         "210.6170934",
         "7.808"
        ],
        [
         "16",
         "1",
         "28-05-2010",
         "1432069.95",
         "0",
         "80.44",
         "2.759",
         "210.8967606",
         "7.808"
        ],
        [
         "17",
         "1",
         "04-06-2010",
         "1615524.71",
         "0",
         "80.69",
         "2.705",
         "211.1764278",
         "7.808"
        ],
        [
         "18",
         "1",
         "11-06-2010",
         "1542561.09",
         "0",
         "80.43",
         "2.668",
         "211.4560951",
         "7.808"
        ],
        [
         "19",
         "1",
         "18-06-2010",
         "1503284.06",
         "0",
         "84.11",
         "2.637",
         "211.4537719",
         "7.808"
        ],
        [
         "20",
         "1",
         "25-06-2010",
         "1422711.6",
         "0",
         "84.34",
         "2.653",
         "211.3386526",
         "7.808"
        ],
        [
         "21",
         "1",
         "02-07-2010",
         "1492418.14",
         "0",
         "80.91",
         "2.669",
         "211.2235333",
         "7.787"
        ],
        [
         "22",
         "1",
         "09-07-2010",
         "1546074.18",
         "0",
         "80.48",
         "2.642",
         "211.108414",
         "7.787"
        ],
        [
         "23",
         "1",
         "16-07-2010",
         "1448938.92",
         "0",
         "83.15",
         "2.623",
         "211.1003854",
         "7.787"
        ],
        [
         "24",
         "1",
         "23-07-2010",
         "1385065.2",
         "0",
         "83.36",
         "2.608",
         "211.2351443",
         "7.787"
        ],
        [
         "25",
         "1",
         "30-07-2010",
         "1371986.6",
         "0",
         "81.84",
         "2.64",
         "211.3699032",
         "7.787"
        ],
        [
         "26",
         "1",
         "06-08-2010",
         "1605491.78",
         "0",
         "87.16",
         "2.627",
         "211.5046621",
         "7.787"
        ],
        [
         "27",
         "1",
         "13-08-2010",
         "1508237.76",
         "0",
         "87.0",
         "2.692",
         "211.6394211",
         "7.787"
        ],
        [
         "28",
         "1",
         "20-08-2010",
         "1513080.49",
         "0",
         "86.65",
         "2.664",
         "211.6033633",
         "7.787"
        ],
        [
         "29",
         "1",
         "27-08-2010",
         "1449142.92",
         "0",
         "85.22",
         "2.619",
         "211.5673056",
         "7.787"
        ],
        [
         "30",
         "1",
         "03-09-2010",
         "1540163.53",
         "0",
         "81.21",
         "2.577",
         "211.5312479",
         "7.787"
        ],
        [
         "31",
         "1",
         "10-09-2010",
         "1507460.69",
         "1",
         "78.69",
         "2.565",
         "211.4951902",
         "7.787"
        ],
        [
         "32",
         "1",
         "17-09-2010",
         "1430378.67",
         "0",
         "82.11",
         "2.582",
         "211.5224596",
         "7.787"
        ],
        [
         "33",
         "1",
         "24-09-2010",
         "1351791.03",
         "0",
         "80.94",
         "2.624",
         "211.5972246",
         "7.787"
        ],
        [
         "34",
         "1",
         "01-10-2010",
         "1453329.5",
         "0",
         "71.89",
         "2.603",
         "211.6719895",
         "7.838"
        ],
        [
         "35",
         "1",
         "08-10-2010",
         "1508239.93",
         "0",
         "63.93",
         "2.633",
         "211.7467544",
         "7.838"
        ],
        [
         "36",
         "1",
         "15-10-2010",
         "1459409.1",
         "0",
         "67.18",
         "2.72",
         "211.8137436",
         "7.838"
        ],
        [
         "37",
         "1",
         "22-10-2010",
         "1345454.0",
         "0",
         "69.86",
         "2.725",
         "211.8612937",
         "7.838"
        ],
        [
         "38",
         "1",
         "29-10-2010",
         "1384209.22",
         "0",
         "69.64",
         "2.716",
         "211.9088438",
         "7.838"
        ],
        [
         "39",
         "1",
         "05-11-2010",
         "1551659.28",
         "0",
         "58.74",
         "2.689",
         "211.9563939",
         "7.838"
        ],
        [
         "40",
         "1",
         "12-11-2010",
         "1494479.49",
         "0",
         "59.61",
         "2.728",
         "212.003944",
         "7.838"
        ],
        [
         "41",
         "1",
         "19-11-2010",
         "1483784.18",
         "0",
         "51.41",
         "2.771",
         "211.8896737",
         "7.838"
        ],
        [
         "42",
         "1",
         "26-11-2010",
         "1955624.11",
         "1",
         "64.52",
         "2.735",
         "211.7484333",
         "7.838"
        ],
        [
         "43",
         "1",
         "03-12-2010",
         "1548033.78",
         "0",
         "49.27",
         "2.708",
         "211.607193",
         "7.838"
        ],
        [
         "44",
         "1",
         "10-12-2010",
         "1682614.26",
         "0",
         "46.33",
         "2.843",
         "211.4659526",
         "7.838"
        ],
        [
         "45",
         "1",
         "17-12-2010",
         "1891034.93",
         "0",
         "49.84",
         "2.869",
         "211.4053124",
         "7.838"
        ],
        [
         "46",
         "1",
         "24-12-2010",
         "2387950.2",
         "0",
         "52.33",
         "2.886",
         "211.4051222",
         "7.838"
        ],
        [
         "47",
         "1",
         "31-12-2010",
         "1367320.01",
         "1",
         "48.43",
         "2.943",
         "211.4049321",
         "7.838"
        ],
        [
         "48",
         "1",
         "07-01-2011",
         "1444732.28",
         "0",
         "48.27",
         "2.976",
         "211.4047419",
         "7.742"
        ],
        [
         "49",
         "1",
         "14-01-2011",
         "1391013.96",
         "0",
         "35.4",
         "2.983",
         "211.4574109",
         "7.742"
        ]
       ],
       "shape": {
        "columns": 8,
        "rows": 6435
       }
      },
      "text/html": [
       "<div>\n",
       "<style scoped>\n",
       "    .dataframe tbody tr th:only-of-type {\n",
       "        vertical-align: middle;\n",
       "    }\n",
       "\n",
       "    .dataframe tbody tr th {\n",
       "        vertical-align: top;\n",
       "    }\n",
       "\n",
       "    .dataframe thead th {\n",
       "        text-align: right;\n",
       "    }\n",
       "</style>\n",
       "<table border=\"1\" class=\"dataframe\">\n",
       "  <thead>\n",
       "    <tr style=\"text-align: right;\">\n",
       "      <th></th>\n",
       "      <th>Store</th>\n",
       "      <th>Date</th>\n",
       "      <th>Weekly_Sales</th>\n",
       "      <th>Holiday_Flag</th>\n",
       "      <th>Temperature</th>\n",
       "      <th>Fuel_Price</th>\n",
       "      <th>CPI</th>\n",
       "      <th>Unemployment</th>\n",
       "    </tr>\n",
       "  </thead>\n",
       "  <tbody>\n",
       "    <tr>\n",
       "      <th>0</th>\n",
       "      <td>1</td>\n",
       "      <td>05-02-2010</td>\n",
       "      <td>1643690.90</td>\n",
       "      <td>0</td>\n",
       "      <td>42.31</td>\n",
       "      <td>2.572</td>\n",
       "      <td>211.096358</td>\n",
       "      <td>8.106</td>\n",
       "    </tr>\n",
       "    <tr>\n",
       "      <th>1</th>\n",
       "      <td>1</td>\n",
       "      <td>12-02-2010</td>\n",
       "      <td>1641957.44</td>\n",
       "      <td>1</td>\n",
       "      <td>38.51</td>\n",
       "      <td>2.548</td>\n",
       "      <td>211.242170</td>\n",
       "      <td>8.106</td>\n",
       "    </tr>\n",
       "    <tr>\n",
       "      <th>2</th>\n",
       "      <td>1</td>\n",
       "      <td>19-02-2010</td>\n",
       "      <td>1611968.17</td>\n",
       "      <td>0</td>\n",
       "      <td>39.93</td>\n",
       "      <td>2.514</td>\n",
       "      <td>211.289143</td>\n",
       "      <td>8.106</td>\n",
       "    </tr>\n",
       "    <tr>\n",
       "      <th>3</th>\n",
       "      <td>1</td>\n",
       "      <td>26-02-2010</td>\n",
       "      <td>1409727.59</td>\n",
       "      <td>0</td>\n",
       "      <td>46.63</td>\n",
       "      <td>2.561</td>\n",
       "      <td>211.319643</td>\n",
       "      <td>8.106</td>\n",
       "    </tr>\n",
       "    <tr>\n",
       "      <th>4</th>\n",
       "      <td>1</td>\n",
       "      <td>05-03-2010</td>\n",
       "      <td>1554806.68</td>\n",
       "      <td>0</td>\n",
       "      <td>46.50</td>\n",
       "      <td>2.625</td>\n",
       "      <td>211.350143</td>\n",
       "      <td>8.106</td>\n",
       "    </tr>\n",
       "    <tr>\n",
       "      <th>...</th>\n",
       "      <td>...</td>\n",
       "      <td>...</td>\n",
       "      <td>...</td>\n",
       "      <td>...</td>\n",
       "      <td>...</td>\n",
       "      <td>...</td>\n",
       "      <td>...</td>\n",
       "      <td>...</td>\n",
       "    </tr>\n",
       "    <tr>\n",
       "      <th>6430</th>\n",
       "      <td>45</td>\n",
       "      <td>28-09-2012</td>\n",
       "      <td>713173.95</td>\n",
       "      <td>0</td>\n",
       "      <td>64.88</td>\n",
       "      <td>3.997</td>\n",
       "      <td>192.013558</td>\n",
       "      <td>8.684</td>\n",
       "    </tr>\n",
       "    <tr>\n",
       "      <th>6431</th>\n",
       "      <td>45</td>\n",
       "      <td>05-10-2012</td>\n",
       "      <td>733455.07</td>\n",
       "      <td>0</td>\n",
       "      <td>64.89</td>\n",
       "      <td>3.985</td>\n",
       "      <td>192.170412</td>\n",
       "      <td>8.667</td>\n",
       "    </tr>\n",
       "    <tr>\n",
       "      <th>6432</th>\n",
       "      <td>45</td>\n",
       "      <td>12-10-2012</td>\n",
       "      <td>734464.36</td>\n",
       "      <td>0</td>\n",
       "      <td>54.47</td>\n",
       "      <td>4.000</td>\n",
       "      <td>192.327265</td>\n",
       "      <td>8.667</td>\n",
       "    </tr>\n",
       "    <tr>\n",
       "      <th>6433</th>\n",
       "      <td>45</td>\n",
       "      <td>19-10-2012</td>\n",
       "      <td>718125.53</td>\n",
       "      <td>0</td>\n",
       "      <td>56.47</td>\n",
       "      <td>3.969</td>\n",
       "      <td>192.330854</td>\n",
       "      <td>8.667</td>\n",
       "    </tr>\n",
       "    <tr>\n",
       "      <th>6434</th>\n",
       "      <td>45</td>\n",
       "      <td>26-10-2012</td>\n",
       "      <td>760281.43</td>\n",
       "      <td>0</td>\n",
       "      <td>58.85</td>\n",
       "      <td>3.882</td>\n",
       "      <td>192.308899</td>\n",
       "      <td>8.667</td>\n",
       "    </tr>\n",
       "  </tbody>\n",
       "</table>\n",
       "<p>6435 rows × 8 columns</p>\n",
       "</div>"
      ],
      "text/plain": [
       "     Store        Date  Weekly_Sales  Holiday_Flag  Temperature  Fuel_Price  \\\n",
       "0        1  05-02-2010    1643690.90             0        42.31       2.572   \n",
       "1        1  12-02-2010    1641957.44             1        38.51       2.548   \n",
       "2        1  19-02-2010    1611968.17             0        39.93       2.514   \n",
       "3        1  26-02-2010    1409727.59             0        46.63       2.561   \n",
       "4        1  05-03-2010    1554806.68             0        46.50       2.625   \n",
       "...    ...         ...           ...           ...          ...         ...   \n",
       "6430    45  28-09-2012     713173.95             0        64.88       3.997   \n",
       "6431    45  05-10-2012     733455.07             0        64.89       3.985   \n",
       "6432    45  12-10-2012     734464.36             0        54.47       4.000   \n",
       "6433    45  19-10-2012     718125.53             0        56.47       3.969   \n",
       "6434    45  26-10-2012     760281.43             0        58.85       3.882   \n",
       "\n",
       "             CPI  Unemployment  \n",
       "0     211.096358         8.106  \n",
       "1     211.242170         8.106  \n",
       "2     211.289143         8.106  \n",
       "3     211.319643         8.106  \n",
       "4     211.350143         8.106  \n",
       "...          ...           ...  \n",
       "6430  192.013558         8.684  \n",
       "6431  192.170412         8.667  \n",
       "6432  192.327265         8.667  \n",
       "6433  192.330854         8.667  \n",
       "6434  192.308899         8.667  \n",
       "\n",
       "[6435 rows x 8 columns]"
      ]
     },
     "execution_count": 45,
     "metadata": {},
     "output_type": "execute_result"
    }
   ],
   "source": [
    "pd.read_csv(\"datasets/Walmart_Store_sales.csv\", dtype={\"Store\": \"category\"})"
   ]
  },
  {
   "cell_type": "markdown",
   "id": "ec8ebef9",
   "metadata": {},
   "source": [
    "- É possível especificar uma coluna como data ao carregar o dataset"
   ]
  },
  {
   "cell_type": "code",
   "execution_count": 46,
   "id": "8a8aab28",
   "metadata": {},
   "outputs": [
    {
     "data": {
      "application/vnd.microsoft.datawrangler.viewer.v0+json": {
       "columns": [
        {
         "name": "index",
         "rawType": "int64",
         "type": "integer"
        },
        {
         "name": "Store",
         "rawType": "int64",
         "type": "integer"
        },
        {
         "name": "Date",
         "rawType": "object",
         "type": "string"
        },
        {
         "name": "Weekly_Sales",
         "rawType": "float64",
         "type": "float"
        },
        {
         "name": "Holiday_Flag",
         "rawType": "int64",
         "type": "integer"
        },
        {
         "name": "Temperature",
         "rawType": "float64",
         "type": "float"
        },
        {
         "name": "Fuel_Price",
         "rawType": "float64",
         "type": "float"
        },
        {
         "name": "CPI",
         "rawType": "float64",
         "type": "float"
        },
        {
         "name": "Unemployment",
         "rawType": "float64",
         "type": "float"
        }
       ],
       "ref": "55c6ec26-1e90-4be0-87fd-9b89c9d3c33c",
       "rows": [
        [
         "0",
         "1",
         "05-02-2010",
         "1643690.9",
         "0",
         "42.31",
         "2.572",
         "211.0963582",
         "8.106"
        ],
        [
         "1",
         "1",
         "12-02-2010",
         "1641957.44",
         "1",
         "38.51",
         "2.548",
         "211.2421698",
         "8.106"
        ],
        [
         "2",
         "1",
         "19-02-2010",
         "1611968.17",
         "0",
         "39.93",
         "2.514",
         "211.2891429",
         "8.106"
        ],
        [
         "3",
         "1",
         "26-02-2010",
         "1409727.59",
         "0",
         "46.63",
         "2.561",
         "211.3196429",
         "8.106"
        ],
        [
         "4",
         "1",
         "05-03-2010",
         "1554806.68",
         "0",
         "46.5",
         "2.625",
         "211.3501429",
         "8.106"
        ],
        [
         "5",
         "1",
         "12-03-2010",
         "1439541.59",
         "0",
         "57.79",
         "2.667",
         "211.3806429",
         "8.106"
        ],
        [
         "6",
         "1",
         "19-03-2010",
         "1472515.79",
         "0",
         "54.58",
         "2.72",
         "211.215635",
         "8.106"
        ],
        [
         "7",
         "1",
         "26-03-2010",
         "1404429.92",
         "0",
         "51.45",
         "2.732",
         "211.0180424",
         "8.106"
        ],
        [
         "8",
         "1",
         "02-04-2010",
         "1594968.28",
         "0",
         "62.27",
         "2.719",
         "210.8204499",
         "7.808"
        ],
        [
         "9",
         "1",
         "09-04-2010",
         "1545418.53",
         "0",
         "65.86",
         "2.77",
         "210.6228574",
         "7.808"
        ],
        [
         "10",
         "1",
         "16-04-2010",
         "1466058.28",
         "0",
         "66.32",
         "2.808",
         "210.4887",
         "7.808"
        ],
        [
         "11",
         "1",
         "23-04-2010",
         "1391256.12",
         "0",
         "64.84",
         "2.795",
         "210.4391228",
         "7.808"
        ],
        [
         "12",
         "1",
         "30-04-2010",
         "1425100.71",
         "0",
         "67.41",
         "2.78",
         "210.3895456",
         "7.808"
        ],
        [
         "13",
         "1",
         "07-05-2010",
         "1603955.12",
         "0",
         "72.55",
         "2.835",
         "210.3399684",
         "7.808"
        ],
        [
         "14",
         "1",
         "14-05-2010",
         "1494251.5",
         "0",
         "74.78",
         "2.854",
         "210.3374261",
         "7.808"
        ],
        [
         "15",
         "1",
         "21-05-2010",
         "1399662.07",
         "0",
         "76.44",
         "2.826",
         "210.6170934",
         "7.808"
        ],
        [
         "16",
         "1",
         "28-05-2010",
         "1432069.95",
         "0",
         "80.44",
         "2.759",
         "210.8967606",
         "7.808"
        ],
        [
         "17",
         "1",
         "04-06-2010",
         "1615524.71",
         "0",
         "80.69",
         "2.705",
         "211.1764278",
         "7.808"
        ],
        [
         "18",
         "1",
         "11-06-2010",
         "1542561.09",
         "0",
         "80.43",
         "2.668",
         "211.4560951",
         "7.808"
        ],
        [
         "19",
         "1",
         "18-06-2010",
         "1503284.06",
         "0",
         "84.11",
         "2.637",
         "211.4537719",
         "7.808"
        ],
        [
         "20",
         "1",
         "25-06-2010",
         "1422711.6",
         "0",
         "84.34",
         "2.653",
         "211.3386526",
         "7.808"
        ],
        [
         "21",
         "1",
         "02-07-2010",
         "1492418.14",
         "0",
         "80.91",
         "2.669",
         "211.2235333",
         "7.787"
        ],
        [
         "22",
         "1",
         "09-07-2010",
         "1546074.18",
         "0",
         "80.48",
         "2.642",
         "211.108414",
         "7.787"
        ],
        [
         "23",
         "1",
         "16-07-2010",
         "1448938.92",
         "0",
         "83.15",
         "2.623",
         "211.1003854",
         "7.787"
        ],
        [
         "24",
         "1",
         "23-07-2010",
         "1385065.2",
         "0",
         "83.36",
         "2.608",
         "211.2351443",
         "7.787"
        ],
        [
         "25",
         "1",
         "30-07-2010",
         "1371986.6",
         "0",
         "81.84",
         "2.64",
         "211.3699032",
         "7.787"
        ],
        [
         "26",
         "1",
         "06-08-2010",
         "1605491.78",
         "0",
         "87.16",
         "2.627",
         "211.5046621",
         "7.787"
        ],
        [
         "27",
         "1",
         "13-08-2010",
         "1508237.76",
         "0",
         "87.0",
         "2.692",
         "211.6394211",
         "7.787"
        ],
        [
         "28",
         "1",
         "20-08-2010",
         "1513080.49",
         "0",
         "86.65",
         "2.664",
         "211.6033633",
         "7.787"
        ],
        [
         "29",
         "1",
         "27-08-2010",
         "1449142.92",
         "0",
         "85.22",
         "2.619",
         "211.5673056",
         "7.787"
        ],
        [
         "30",
         "1",
         "03-09-2010",
         "1540163.53",
         "0",
         "81.21",
         "2.577",
         "211.5312479",
         "7.787"
        ],
        [
         "31",
         "1",
         "10-09-2010",
         "1507460.69",
         "1",
         "78.69",
         "2.565",
         "211.4951902",
         "7.787"
        ],
        [
         "32",
         "1",
         "17-09-2010",
         "1430378.67",
         "0",
         "82.11",
         "2.582",
         "211.5224596",
         "7.787"
        ],
        [
         "33",
         "1",
         "24-09-2010",
         "1351791.03",
         "0",
         "80.94",
         "2.624",
         "211.5972246",
         "7.787"
        ],
        [
         "34",
         "1",
         "01-10-2010",
         "1453329.5",
         "0",
         "71.89",
         "2.603",
         "211.6719895",
         "7.838"
        ],
        [
         "35",
         "1",
         "08-10-2010",
         "1508239.93",
         "0",
         "63.93",
         "2.633",
         "211.7467544",
         "7.838"
        ],
        [
         "36",
         "1",
         "15-10-2010",
         "1459409.1",
         "0",
         "67.18",
         "2.72",
         "211.8137436",
         "7.838"
        ],
        [
         "37",
         "1",
         "22-10-2010",
         "1345454.0",
         "0",
         "69.86",
         "2.725",
         "211.8612937",
         "7.838"
        ],
        [
         "38",
         "1",
         "29-10-2010",
         "1384209.22",
         "0",
         "69.64",
         "2.716",
         "211.9088438",
         "7.838"
        ],
        [
         "39",
         "1",
         "05-11-2010",
         "1551659.28",
         "0",
         "58.74",
         "2.689",
         "211.9563939",
         "7.838"
        ],
        [
         "40",
         "1",
         "12-11-2010",
         "1494479.49",
         "0",
         "59.61",
         "2.728",
         "212.003944",
         "7.838"
        ],
        [
         "41",
         "1",
         "19-11-2010",
         "1483784.18",
         "0",
         "51.41",
         "2.771",
         "211.8896737",
         "7.838"
        ],
        [
         "42",
         "1",
         "26-11-2010",
         "1955624.11",
         "1",
         "64.52",
         "2.735",
         "211.7484333",
         "7.838"
        ],
        [
         "43",
         "1",
         "03-12-2010",
         "1548033.78",
         "0",
         "49.27",
         "2.708",
         "211.607193",
         "7.838"
        ],
        [
         "44",
         "1",
         "10-12-2010",
         "1682614.26",
         "0",
         "46.33",
         "2.843",
         "211.4659526",
         "7.838"
        ],
        [
         "45",
         "1",
         "17-12-2010",
         "1891034.93",
         "0",
         "49.84",
         "2.869",
         "211.4053124",
         "7.838"
        ],
        [
         "46",
         "1",
         "24-12-2010",
         "2387950.2",
         "0",
         "52.33",
         "2.886",
         "211.4051222",
         "7.838"
        ],
        [
         "47",
         "1",
         "31-12-2010",
         "1367320.01",
         "1",
         "48.43",
         "2.943",
         "211.4049321",
         "7.838"
        ],
        [
         "48",
         "1",
         "07-01-2011",
         "1444732.28",
         "0",
         "48.27",
         "2.976",
         "211.4047419",
         "7.742"
        ],
        [
         "49",
         "1",
         "14-01-2011",
         "1391013.96",
         "0",
         "35.4",
         "2.983",
         "211.4574109",
         "7.742"
        ]
       ],
       "shape": {
        "columns": 8,
        "rows": 6435
       }
      },
      "text/html": [
       "<div>\n",
       "<style scoped>\n",
       "    .dataframe tbody tr th:only-of-type {\n",
       "        vertical-align: middle;\n",
       "    }\n",
       "\n",
       "    .dataframe tbody tr th {\n",
       "        vertical-align: top;\n",
       "    }\n",
       "\n",
       "    .dataframe thead th {\n",
       "        text-align: right;\n",
       "    }\n",
       "</style>\n",
       "<table border=\"1\" class=\"dataframe\">\n",
       "  <thead>\n",
       "    <tr style=\"text-align: right;\">\n",
       "      <th></th>\n",
       "      <th>Store</th>\n",
       "      <th>Date</th>\n",
       "      <th>Weekly_Sales</th>\n",
       "      <th>Holiday_Flag</th>\n",
       "      <th>Temperature</th>\n",
       "      <th>Fuel_Price</th>\n",
       "      <th>CPI</th>\n",
       "      <th>Unemployment</th>\n",
       "    </tr>\n",
       "  </thead>\n",
       "  <tbody>\n",
       "    <tr>\n",
       "      <th>0</th>\n",
       "      <td>1</td>\n",
       "      <td>05-02-2010</td>\n",
       "      <td>1643690.90</td>\n",
       "      <td>0</td>\n",
       "      <td>42.31</td>\n",
       "      <td>2.572</td>\n",
       "      <td>211.096358</td>\n",
       "      <td>8.106</td>\n",
       "    </tr>\n",
       "    <tr>\n",
       "      <th>1</th>\n",
       "      <td>1</td>\n",
       "      <td>12-02-2010</td>\n",
       "      <td>1641957.44</td>\n",
       "      <td>1</td>\n",
       "      <td>38.51</td>\n",
       "      <td>2.548</td>\n",
       "      <td>211.242170</td>\n",
       "      <td>8.106</td>\n",
       "    </tr>\n",
       "    <tr>\n",
       "      <th>2</th>\n",
       "      <td>1</td>\n",
       "      <td>19-02-2010</td>\n",
       "      <td>1611968.17</td>\n",
       "      <td>0</td>\n",
       "      <td>39.93</td>\n",
       "      <td>2.514</td>\n",
       "      <td>211.289143</td>\n",
       "      <td>8.106</td>\n",
       "    </tr>\n",
       "    <tr>\n",
       "      <th>3</th>\n",
       "      <td>1</td>\n",
       "      <td>26-02-2010</td>\n",
       "      <td>1409727.59</td>\n",
       "      <td>0</td>\n",
       "      <td>46.63</td>\n",
       "      <td>2.561</td>\n",
       "      <td>211.319643</td>\n",
       "      <td>8.106</td>\n",
       "    </tr>\n",
       "    <tr>\n",
       "      <th>4</th>\n",
       "      <td>1</td>\n",
       "      <td>05-03-2010</td>\n",
       "      <td>1554806.68</td>\n",
       "      <td>0</td>\n",
       "      <td>46.50</td>\n",
       "      <td>2.625</td>\n",
       "      <td>211.350143</td>\n",
       "      <td>8.106</td>\n",
       "    </tr>\n",
       "    <tr>\n",
       "      <th>...</th>\n",
       "      <td>...</td>\n",
       "      <td>...</td>\n",
       "      <td>...</td>\n",
       "      <td>...</td>\n",
       "      <td>...</td>\n",
       "      <td>...</td>\n",
       "      <td>...</td>\n",
       "      <td>...</td>\n",
       "    </tr>\n",
       "    <tr>\n",
       "      <th>6430</th>\n",
       "      <td>45</td>\n",
       "      <td>28-09-2012</td>\n",
       "      <td>713173.95</td>\n",
       "      <td>0</td>\n",
       "      <td>64.88</td>\n",
       "      <td>3.997</td>\n",
       "      <td>192.013558</td>\n",
       "      <td>8.684</td>\n",
       "    </tr>\n",
       "    <tr>\n",
       "      <th>6431</th>\n",
       "      <td>45</td>\n",
       "      <td>05-10-2012</td>\n",
       "      <td>733455.07</td>\n",
       "      <td>0</td>\n",
       "      <td>64.89</td>\n",
       "      <td>3.985</td>\n",
       "      <td>192.170412</td>\n",
       "      <td>8.667</td>\n",
       "    </tr>\n",
       "    <tr>\n",
       "      <th>6432</th>\n",
       "      <td>45</td>\n",
       "      <td>12-10-2012</td>\n",
       "      <td>734464.36</td>\n",
       "      <td>0</td>\n",
       "      <td>54.47</td>\n",
       "      <td>4.000</td>\n",
       "      <td>192.327265</td>\n",
       "      <td>8.667</td>\n",
       "    </tr>\n",
       "    <tr>\n",
       "      <th>6433</th>\n",
       "      <td>45</td>\n",
       "      <td>19-10-2012</td>\n",
       "      <td>718125.53</td>\n",
       "      <td>0</td>\n",
       "      <td>56.47</td>\n",
       "      <td>3.969</td>\n",
       "      <td>192.330854</td>\n",
       "      <td>8.667</td>\n",
       "    </tr>\n",
       "    <tr>\n",
       "      <th>6434</th>\n",
       "      <td>45</td>\n",
       "      <td>26-10-2012</td>\n",
       "      <td>760281.43</td>\n",
       "      <td>0</td>\n",
       "      <td>58.85</td>\n",
       "      <td>3.882</td>\n",
       "      <td>192.308899</td>\n",
       "      <td>8.667</td>\n",
       "    </tr>\n",
       "  </tbody>\n",
       "</table>\n",
       "<p>6435 rows × 8 columns</p>\n",
       "</div>"
      ],
      "text/plain": [
       "      Store        Date  Weekly_Sales  Holiday_Flag  Temperature  Fuel_Price  \\\n",
       "0         1  05-02-2010    1643690.90             0        42.31       2.572   \n",
       "1         1  12-02-2010    1641957.44             1        38.51       2.548   \n",
       "2         1  19-02-2010    1611968.17             0        39.93       2.514   \n",
       "3         1  26-02-2010    1409727.59             0        46.63       2.561   \n",
       "4         1  05-03-2010    1554806.68             0        46.50       2.625   \n",
       "...     ...         ...           ...           ...          ...         ...   \n",
       "6430     45  28-09-2012     713173.95             0        64.88       3.997   \n",
       "6431     45  05-10-2012     733455.07             0        64.89       3.985   \n",
       "6432     45  12-10-2012     734464.36             0        54.47       4.000   \n",
       "6433     45  19-10-2012     718125.53             0        56.47       3.969   \n",
       "6434     45  26-10-2012     760281.43             0        58.85       3.882   \n",
       "\n",
       "             CPI  Unemployment  \n",
       "0     211.096358         8.106  \n",
       "1     211.242170         8.106  \n",
       "2     211.289143         8.106  \n",
       "3     211.319643         8.106  \n",
       "4     211.350143         8.106  \n",
       "...          ...           ...  \n",
       "6430  192.013558         8.684  \n",
       "6431  192.170412         8.667  \n",
       "6432  192.327265         8.667  \n",
       "6433  192.330854         8.667  \n",
       "6434  192.308899         8.667  \n",
       "\n",
       "[6435 rows x 8 columns]"
      ]
     },
     "execution_count": 46,
     "metadata": {},
     "output_type": "execute_result"
    }
   ],
   "source": [
    "pd.read_csv(\"datasets/Walmart_Store_sales.csv\", parse_dates=[\"Date\"])"
   ]
  },
  {
   "cell_type": "markdown",
   "id": "4e55b6da",
   "metadata": {},
   "source": [
    "- Especificar uma coluna como index ao carregar o dataset"
   ]
  },
  {
   "cell_type": "code",
   "execution_count": 47,
   "id": "b7ddb1c7",
   "metadata": {},
   "outputs": [
    {
     "data": {
      "application/vnd.microsoft.datawrangler.viewer.v0+json": {
       "columns": [
        {
         "name": "Date",
         "rawType": "object",
         "type": "string"
        },
        {
         "name": "Store",
         "rawType": "int64",
         "type": "integer"
        },
        {
         "name": "Weekly_Sales",
         "rawType": "float64",
         "type": "float"
        },
        {
         "name": "Holiday_Flag",
         "rawType": "int64",
         "type": "integer"
        },
        {
         "name": "Temperature",
         "rawType": "float64",
         "type": "float"
        },
        {
         "name": "Fuel_Price",
         "rawType": "float64",
         "type": "float"
        },
        {
         "name": "CPI",
         "rawType": "float64",
         "type": "float"
        },
        {
         "name": "Unemployment",
         "rawType": "float64",
         "type": "float"
        }
       ],
       "ref": "44bc660c-44dc-4d4f-9914-889c78c5e4a2",
       "rows": [
        [
         "05-02-2010",
         "1",
         "1643690.9",
         "0",
         "42.31",
         "2.572",
         "211.0963582",
         "8.106"
        ],
        [
         "12-02-2010",
         "1",
         "1641957.44",
         "1",
         "38.51",
         "2.548",
         "211.2421698",
         "8.106"
        ],
        [
         "19-02-2010",
         "1",
         "1611968.17",
         "0",
         "39.93",
         "2.514",
         "211.2891429",
         "8.106"
        ],
        [
         "26-02-2010",
         "1",
         "1409727.59",
         "0",
         "46.63",
         "2.561",
         "211.3196429",
         "8.106"
        ],
        [
         "05-03-2010",
         "1",
         "1554806.68",
         "0",
         "46.5",
         "2.625",
         "211.3501429",
         "8.106"
        ],
        [
         "12-03-2010",
         "1",
         "1439541.59",
         "0",
         "57.79",
         "2.667",
         "211.3806429",
         "8.106"
        ],
        [
         "19-03-2010",
         "1",
         "1472515.79",
         "0",
         "54.58",
         "2.72",
         "211.215635",
         "8.106"
        ],
        [
         "26-03-2010",
         "1",
         "1404429.92",
         "0",
         "51.45",
         "2.732",
         "211.0180424",
         "8.106"
        ],
        [
         "02-04-2010",
         "1",
         "1594968.28",
         "0",
         "62.27",
         "2.719",
         "210.8204499",
         "7.808"
        ],
        [
         "09-04-2010",
         "1",
         "1545418.53",
         "0",
         "65.86",
         "2.77",
         "210.6228574",
         "7.808"
        ],
        [
         "16-04-2010",
         "1",
         "1466058.28",
         "0",
         "66.32",
         "2.808",
         "210.4887",
         "7.808"
        ],
        [
         "23-04-2010",
         "1",
         "1391256.12",
         "0",
         "64.84",
         "2.795",
         "210.4391228",
         "7.808"
        ],
        [
         "30-04-2010",
         "1",
         "1425100.71",
         "0",
         "67.41",
         "2.78",
         "210.3895456",
         "7.808"
        ],
        [
         "07-05-2010",
         "1",
         "1603955.12",
         "0",
         "72.55",
         "2.835",
         "210.3399684",
         "7.808"
        ],
        [
         "14-05-2010",
         "1",
         "1494251.5",
         "0",
         "74.78",
         "2.854",
         "210.3374261",
         "7.808"
        ],
        [
         "21-05-2010",
         "1",
         "1399662.07",
         "0",
         "76.44",
         "2.826",
         "210.6170934",
         "7.808"
        ],
        [
         "28-05-2010",
         "1",
         "1432069.95",
         "0",
         "80.44",
         "2.759",
         "210.8967606",
         "7.808"
        ],
        [
         "04-06-2010",
         "1",
         "1615524.71",
         "0",
         "80.69",
         "2.705",
         "211.1764278",
         "7.808"
        ],
        [
         "11-06-2010",
         "1",
         "1542561.09",
         "0",
         "80.43",
         "2.668",
         "211.4560951",
         "7.808"
        ],
        [
         "18-06-2010",
         "1",
         "1503284.06",
         "0",
         "84.11",
         "2.637",
         "211.4537719",
         "7.808"
        ],
        [
         "25-06-2010",
         "1",
         "1422711.6",
         "0",
         "84.34",
         "2.653",
         "211.3386526",
         "7.808"
        ],
        [
         "02-07-2010",
         "1",
         "1492418.14",
         "0",
         "80.91",
         "2.669",
         "211.2235333",
         "7.787"
        ],
        [
         "09-07-2010",
         "1",
         "1546074.18",
         "0",
         "80.48",
         "2.642",
         "211.108414",
         "7.787"
        ],
        [
         "16-07-2010",
         "1",
         "1448938.92",
         "0",
         "83.15",
         "2.623",
         "211.1003854",
         "7.787"
        ],
        [
         "23-07-2010",
         "1",
         "1385065.2",
         "0",
         "83.36",
         "2.608",
         "211.2351443",
         "7.787"
        ],
        [
         "30-07-2010",
         "1",
         "1371986.6",
         "0",
         "81.84",
         "2.64",
         "211.3699032",
         "7.787"
        ],
        [
         "06-08-2010",
         "1",
         "1605491.78",
         "0",
         "87.16",
         "2.627",
         "211.5046621",
         "7.787"
        ],
        [
         "13-08-2010",
         "1",
         "1508237.76",
         "0",
         "87.0",
         "2.692",
         "211.6394211",
         "7.787"
        ],
        [
         "20-08-2010",
         "1",
         "1513080.49",
         "0",
         "86.65",
         "2.664",
         "211.6033633",
         "7.787"
        ],
        [
         "27-08-2010",
         "1",
         "1449142.92",
         "0",
         "85.22",
         "2.619",
         "211.5673056",
         "7.787"
        ],
        [
         "03-09-2010",
         "1",
         "1540163.53",
         "0",
         "81.21",
         "2.577",
         "211.5312479",
         "7.787"
        ],
        [
         "10-09-2010",
         "1",
         "1507460.69",
         "1",
         "78.69",
         "2.565",
         "211.4951902",
         "7.787"
        ],
        [
         "17-09-2010",
         "1",
         "1430378.67",
         "0",
         "82.11",
         "2.582",
         "211.5224596",
         "7.787"
        ],
        [
         "24-09-2010",
         "1",
         "1351791.03",
         "0",
         "80.94",
         "2.624",
         "211.5972246",
         "7.787"
        ],
        [
         "01-10-2010",
         "1",
         "1453329.5",
         "0",
         "71.89",
         "2.603",
         "211.6719895",
         "7.838"
        ],
        [
         "08-10-2010",
         "1",
         "1508239.93",
         "0",
         "63.93",
         "2.633",
         "211.7467544",
         "7.838"
        ],
        [
         "15-10-2010",
         "1",
         "1459409.1",
         "0",
         "67.18",
         "2.72",
         "211.8137436",
         "7.838"
        ],
        [
         "22-10-2010",
         "1",
         "1345454.0",
         "0",
         "69.86",
         "2.725",
         "211.8612937",
         "7.838"
        ],
        [
         "29-10-2010",
         "1",
         "1384209.22",
         "0",
         "69.64",
         "2.716",
         "211.9088438",
         "7.838"
        ],
        [
         "05-11-2010",
         "1",
         "1551659.28",
         "0",
         "58.74",
         "2.689",
         "211.9563939",
         "7.838"
        ],
        [
         "12-11-2010",
         "1",
         "1494479.49",
         "0",
         "59.61",
         "2.728",
         "212.003944",
         "7.838"
        ],
        [
         "19-11-2010",
         "1",
         "1483784.18",
         "0",
         "51.41",
         "2.771",
         "211.8896737",
         "7.838"
        ],
        [
         "26-11-2010",
         "1",
         "1955624.11",
         "1",
         "64.52",
         "2.735",
         "211.7484333",
         "7.838"
        ],
        [
         "03-12-2010",
         "1",
         "1548033.78",
         "0",
         "49.27",
         "2.708",
         "211.607193",
         "7.838"
        ],
        [
         "10-12-2010",
         "1",
         "1682614.26",
         "0",
         "46.33",
         "2.843",
         "211.4659526",
         "7.838"
        ],
        [
         "17-12-2010",
         "1",
         "1891034.93",
         "0",
         "49.84",
         "2.869",
         "211.4053124",
         "7.838"
        ],
        [
         "24-12-2010",
         "1",
         "2387950.2",
         "0",
         "52.33",
         "2.886",
         "211.4051222",
         "7.838"
        ],
        [
         "31-12-2010",
         "1",
         "1367320.01",
         "1",
         "48.43",
         "2.943",
         "211.4049321",
         "7.838"
        ],
        [
         "07-01-2011",
         "1",
         "1444732.28",
         "0",
         "48.27",
         "2.976",
         "211.4047419",
         "7.742"
        ],
        [
         "14-01-2011",
         "1",
         "1391013.96",
         "0",
         "35.4",
         "2.983",
         "211.4574109",
         "7.742"
        ]
       ],
       "shape": {
        "columns": 7,
        "rows": 6435
       }
      },
      "text/html": [
       "<div>\n",
       "<style scoped>\n",
       "    .dataframe tbody tr th:only-of-type {\n",
       "        vertical-align: middle;\n",
       "    }\n",
       "\n",
       "    .dataframe tbody tr th {\n",
       "        vertical-align: top;\n",
       "    }\n",
       "\n",
       "    .dataframe thead th {\n",
       "        text-align: right;\n",
       "    }\n",
       "</style>\n",
       "<table border=\"1\" class=\"dataframe\">\n",
       "  <thead>\n",
       "    <tr style=\"text-align: right;\">\n",
       "      <th></th>\n",
       "      <th>Store</th>\n",
       "      <th>Weekly_Sales</th>\n",
       "      <th>Holiday_Flag</th>\n",
       "      <th>Temperature</th>\n",
       "      <th>Fuel_Price</th>\n",
       "      <th>CPI</th>\n",
       "      <th>Unemployment</th>\n",
       "    </tr>\n",
       "    <tr>\n",
       "      <th>Date</th>\n",
       "      <th></th>\n",
       "      <th></th>\n",
       "      <th></th>\n",
       "      <th></th>\n",
       "      <th></th>\n",
       "      <th></th>\n",
       "      <th></th>\n",
       "    </tr>\n",
       "  </thead>\n",
       "  <tbody>\n",
       "    <tr>\n",
       "      <th>05-02-2010</th>\n",
       "      <td>1</td>\n",
       "      <td>1643690.90</td>\n",
       "      <td>0</td>\n",
       "      <td>42.31</td>\n",
       "      <td>2.572</td>\n",
       "      <td>211.096358</td>\n",
       "      <td>8.106</td>\n",
       "    </tr>\n",
       "    <tr>\n",
       "      <th>12-02-2010</th>\n",
       "      <td>1</td>\n",
       "      <td>1641957.44</td>\n",
       "      <td>1</td>\n",
       "      <td>38.51</td>\n",
       "      <td>2.548</td>\n",
       "      <td>211.242170</td>\n",
       "      <td>8.106</td>\n",
       "    </tr>\n",
       "    <tr>\n",
       "      <th>19-02-2010</th>\n",
       "      <td>1</td>\n",
       "      <td>1611968.17</td>\n",
       "      <td>0</td>\n",
       "      <td>39.93</td>\n",
       "      <td>2.514</td>\n",
       "      <td>211.289143</td>\n",
       "      <td>8.106</td>\n",
       "    </tr>\n",
       "    <tr>\n",
       "      <th>26-02-2010</th>\n",
       "      <td>1</td>\n",
       "      <td>1409727.59</td>\n",
       "      <td>0</td>\n",
       "      <td>46.63</td>\n",
       "      <td>2.561</td>\n",
       "      <td>211.319643</td>\n",
       "      <td>8.106</td>\n",
       "    </tr>\n",
       "    <tr>\n",
       "      <th>05-03-2010</th>\n",
       "      <td>1</td>\n",
       "      <td>1554806.68</td>\n",
       "      <td>0</td>\n",
       "      <td>46.50</td>\n",
       "      <td>2.625</td>\n",
       "      <td>211.350143</td>\n",
       "      <td>8.106</td>\n",
       "    </tr>\n",
       "    <tr>\n",
       "      <th>...</th>\n",
       "      <td>...</td>\n",
       "      <td>...</td>\n",
       "      <td>...</td>\n",
       "      <td>...</td>\n",
       "      <td>...</td>\n",
       "      <td>...</td>\n",
       "      <td>...</td>\n",
       "    </tr>\n",
       "    <tr>\n",
       "      <th>28-09-2012</th>\n",
       "      <td>45</td>\n",
       "      <td>713173.95</td>\n",
       "      <td>0</td>\n",
       "      <td>64.88</td>\n",
       "      <td>3.997</td>\n",
       "      <td>192.013558</td>\n",
       "      <td>8.684</td>\n",
       "    </tr>\n",
       "    <tr>\n",
       "      <th>05-10-2012</th>\n",
       "      <td>45</td>\n",
       "      <td>733455.07</td>\n",
       "      <td>0</td>\n",
       "      <td>64.89</td>\n",
       "      <td>3.985</td>\n",
       "      <td>192.170412</td>\n",
       "      <td>8.667</td>\n",
       "    </tr>\n",
       "    <tr>\n",
       "      <th>12-10-2012</th>\n",
       "      <td>45</td>\n",
       "      <td>734464.36</td>\n",
       "      <td>0</td>\n",
       "      <td>54.47</td>\n",
       "      <td>4.000</td>\n",
       "      <td>192.327265</td>\n",
       "      <td>8.667</td>\n",
       "    </tr>\n",
       "    <tr>\n",
       "      <th>19-10-2012</th>\n",
       "      <td>45</td>\n",
       "      <td>718125.53</td>\n",
       "      <td>0</td>\n",
       "      <td>56.47</td>\n",
       "      <td>3.969</td>\n",
       "      <td>192.330854</td>\n",
       "      <td>8.667</td>\n",
       "    </tr>\n",
       "    <tr>\n",
       "      <th>26-10-2012</th>\n",
       "      <td>45</td>\n",
       "      <td>760281.43</td>\n",
       "      <td>0</td>\n",
       "      <td>58.85</td>\n",
       "      <td>3.882</td>\n",
       "      <td>192.308899</td>\n",
       "      <td>8.667</td>\n",
       "    </tr>\n",
       "  </tbody>\n",
       "</table>\n",
       "<p>6435 rows × 7 columns</p>\n",
       "</div>"
      ],
      "text/plain": [
       "            Store  Weekly_Sales  Holiday_Flag  Temperature  Fuel_Price  \\\n",
       "Date                                                                     \n",
       "05-02-2010      1    1643690.90             0        42.31       2.572   \n",
       "12-02-2010      1    1641957.44             1        38.51       2.548   \n",
       "19-02-2010      1    1611968.17             0        39.93       2.514   \n",
       "26-02-2010      1    1409727.59             0        46.63       2.561   \n",
       "05-03-2010      1    1554806.68             0        46.50       2.625   \n",
       "...           ...           ...           ...          ...         ...   \n",
       "28-09-2012     45     713173.95             0        64.88       3.997   \n",
       "05-10-2012     45     733455.07             0        64.89       3.985   \n",
       "12-10-2012     45     734464.36             0        54.47       4.000   \n",
       "19-10-2012     45     718125.53             0        56.47       3.969   \n",
       "26-10-2012     45     760281.43             0        58.85       3.882   \n",
       "\n",
       "                   CPI  Unemployment  \n",
       "Date                                  \n",
       "05-02-2010  211.096358         8.106  \n",
       "12-02-2010  211.242170         8.106  \n",
       "19-02-2010  211.289143         8.106  \n",
       "26-02-2010  211.319643         8.106  \n",
       "05-03-2010  211.350143         8.106  \n",
       "...                ...           ...  \n",
       "28-09-2012  192.013558         8.684  \n",
       "05-10-2012  192.170412         8.667  \n",
       "12-10-2012  192.327265         8.667  \n",
       "19-10-2012  192.330854         8.667  \n",
       "26-10-2012  192.308899         8.667  \n",
       "\n",
       "[6435 rows x 7 columns]"
      ]
     },
     "execution_count": 47,
     "metadata": {},
     "output_type": "execute_result"
    }
   ],
   "source": [
    "pd.read_csv(\"datasets/Walmart_Store_sales.csv\", index_col=[\"Date\"])"
   ]
  },
  {
   "cell_type": "markdown",
   "id": "c89e93b5",
   "metadata": {},
   "source": [
    "- Especificar o número de linhas a serem carregadas"
   ]
  },
  {
   "cell_type": "code",
   "execution_count": 48,
   "id": "e92beead",
   "metadata": {},
   "outputs": [
    {
     "data": {
      "application/vnd.microsoft.datawrangler.viewer.v0+json": {
       "columns": [
        {
         "name": "index",
         "rawType": "int64",
         "type": "integer"
        },
        {
         "name": "Store",
         "rawType": "int64",
         "type": "integer"
        },
        {
         "name": "Date",
         "rawType": "object",
         "type": "string"
        },
        {
         "name": "Weekly_Sales",
         "rawType": "float64",
         "type": "float"
        },
        {
         "name": "Holiday_Flag",
         "rawType": "int64",
         "type": "integer"
        },
        {
         "name": "Temperature",
         "rawType": "float64",
         "type": "float"
        },
        {
         "name": "Fuel_Price",
         "rawType": "float64",
         "type": "float"
        },
        {
         "name": "CPI",
         "rawType": "float64",
         "type": "float"
        },
        {
         "name": "Unemployment",
         "rawType": "float64",
         "type": "float"
        }
       ],
       "ref": "41bdb524-672d-4b7a-bb5d-dd917f3cd7d0",
       "rows": [
        [
         "0",
         "1",
         "05-02-2010",
         "1643690.9",
         "0",
         "42.31",
         "2.572",
         "211.0963582",
         "8.106"
        ],
        [
         "1",
         "1",
         "12-02-2010",
         "1641957.44",
         "1",
         "38.51",
         "2.548",
         "211.2421698",
         "8.106"
        ],
        [
         "2",
         "1",
         "19-02-2010",
         "1611968.17",
         "0",
         "39.93",
         "2.514",
         "211.2891429",
         "8.106"
        ],
        [
         "3",
         "1",
         "26-02-2010",
         "1409727.59",
         "0",
         "46.63",
         "2.561",
         "211.3196429",
         "8.106"
        ],
        [
         "4",
         "1",
         "05-03-2010",
         "1554806.68",
         "0",
         "46.5",
         "2.625",
         "211.3501429",
         "8.106"
        ]
       ],
       "shape": {
        "columns": 8,
        "rows": 5
       }
      },
      "text/html": [
       "<div>\n",
       "<style scoped>\n",
       "    .dataframe tbody tr th:only-of-type {\n",
       "        vertical-align: middle;\n",
       "    }\n",
       "\n",
       "    .dataframe tbody tr th {\n",
       "        vertical-align: top;\n",
       "    }\n",
       "\n",
       "    .dataframe thead th {\n",
       "        text-align: right;\n",
       "    }\n",
       "</style>\n",
       "<table border=\"1\" class=\"dataframe\">\n",
       "  <thead>\n",
       "    <tr style=\"text-align: right;\">\n",
       "      <th></th>\n",
       "      <th>Store</th>\n",
       "      <th>Date</th>\n",
       "      <th>Weekly_Sales</th>\n",
       "      <th>Holiday_Flag</th>\n",
       "      <th>Temperature</th>\n",
       "      <th>Fuel_Price</th>\n",
       "      <th>CPI</th>\n",
       "      <th>Unemployment</th>\n",
       "    </tr>\n",
       "  </thead>\n",
       "  <tbody>\n",
       "    <tr>\n",
       "      <th>0</th>\n",
       "      <td>1</td>\n",
       "      <td>05-02-2010</td>\n",
       "      <td>1643690.90</td>\n",
       "      <td>0</td>\n",
       "      <td>42.31</td>\n",
       "      <td>2.572</td>\n",
       "      <td>211.096358</td>\n",
       "      <td>8.106</td>\n",
       "    </tr>\n",
       "    <tr>\n",
       "      <th>1</th>\n",
       "      <td>1</td>\n",
       "      <td>12-02-2010</td>\n",
       "      <td>1641957.44</td>\n",
       "      <td>1</td>\n",
       "      <td>38.51</td>\n",
       "      <td>2.548</td>\n",
       "      <td>211.242170</td>\n",
       "      <td>8.106</td>\n",
       "    </tr>\n",
       "    <tr>\n",
       "      <th>2</th>\n",
       "      <td>1</td>\n",
       "      <td>19-02-2010</td>\n",
       "      <td>1611968.17</td>\n",
       "      <td>0</td>\n",
       "      <td>39.93</td>\n",
       "      <td>2.514</td>\n",
       "      <td>211.289143</td>\n",
       "      <td>8.106</td>\n",
       "    </tr>\n",
       "    <tr>\n",
       "      <th>3</th>\n",
       "      <td>1</td>\n",
       "      <td>26-02-2010</td>\n",
       "      <td>1409727.59</td>\n",
       "      <td>0</td>\n",
       "      <td>46.63</td>\n",
       "      <td>2.561</td>\n",
       "      <td>211.319643</td>\n",
       "      <td>8.106</td>\n",
       "    </tr>\n",
       "    <tr>\n",
       "      <th>4</th>\n",
       "      <td>1</td>\n",
       "      <td>05-03-2010</td>\n",
       "      <td>1554806.68</td>\n",
       "      <td>0</td>\n",
       "      <td>46.50</td>\n",
       "      <td>2.625</td>\n",
       "      <td>211.350143</td>\n",
       "      <td>8.106</td>\n",
       "    </tr>\n",
       "  </tbody>\n",
       "</table>\n",
       "</div>"
      ],
      "text/plain": [
       "   Store        Date  Weekly_Sales  Holiday_Flag  Temperature  Fuel_Price  \\\n",
       "0      1  05-02-2010    1643690.90             0        42.31       2.572   \n",
       "1      1  12-02-2010    1641957.44             1        38.51       2.548   \n",
       "2      1  19-02-2010    1611968.17             0        39.93       2.514   \n",
       "3      1  26-02-2010    1409727.59             0        46.63       2.561   \n",
       "4      1  05-03-2010    1554806.68             0        46.50       2.625   \n",
       "\n",
       "          CPI  Unemployment  \n",
       "0  211.096358         8.106  \n",
       "1  211.242170         8.106  \n",
       "2  211.289143         8.106  \n",
       "3  211.319643         8.106  \n",
       "4  211.350143         8.106  "
      ]
     },
     "execution_count": 48,
     "metadata": {},
     "output_type": "execute_result"
    }
   ],
   "source": [
    "pd.read_csv(\"datasets/Walmart_Store_sales.csv\", nrows=5)"
   ]
  },
  {
   "cell_type": "markdown",
   "id": "14c6b94d",
   "metadata": {},
   "source": [
    "- Especificar linhas a não serem carregadas"
   ]
  },
  {
   "cell_type": "code",
   "execution_count": 49,
   "id": "023c703c",
   "metadata": {},
   "outputs": [
    {
     "data": {
      "application/vnd.microsoft.datawrangler.viewer.v0+json": {
       "columns": [
        {
         "name": "index",
         "rawType": "int64",
         "type": "integer"
        },
        {
         "name": "1",
         "rawType": "int64",
         "type": "integer"
        },
        {
         "name": "30-12-2011",
         "rawType": "object",
         "type": "string"
        },
        {
         "name": "1497462.72",
         "rawType": "float64",
         "type": "float"
        },
        {
         "name": "1.1",
         "rawType": "int64",
         "type": "integer"
        },
        {
         "name": "44.55",
         "rawType": "float64",
         "type": "float"
        },
        {
         "name": "3.129",
         "rawType": "float64",
         "type": "float"
        },
        {
         "name": "219.5359898",
         "rawType": "float64",
         "type": "float"
        },
        {
         "name": "7.866",
         "rawType": "float64",
         "type": "float"
        }
       ],
       "ref": "a212e513-edd0-41fe-a5d7-399e9ac27bc4",
       "rows": [
        [
         "0",
         "1",
         "06-01-2012",
         "1550369.92",
         "0",
         "49.01",
         "3.157",
         "219.7142581",
         "7.348"
        ],
        [
         "1",
         "1",
         "13-01-2012",
         "1459601.17",
         "0",
         "48.53",
         "3.261",
         "219.8925263",
         "7.348"
        ],
        [
         "2",
         "1",
         "20-01-2012",
         "1394393.84",
         "0",
         "54.11",
         "3.268",
         "219.9856893",
         "7.348"
        ],
        [
         "3",
         "1",
         "27-01-2012",
         "1319325.59",
         "0",
         "54.26",
         "3.29",
         "220.0788523",
         "7.348"
        ],
        [
         "4",
         "1",
         "03-02-2012",
         "1636339.65",
         "0",
         "56.55",
         "3.36",
         "220.1720153",
         "7.348"
        ],
        [
         "5",
         "1",
         "10-02-2012",
         "1802477.43",
         "1",
         "48.02",
         "3.409",
         "220.2651783",
         "7.348"
        ],
        [
         "6",
         "1",
         "17-02-2012",
         "1819870.0",
         "0",
         "45.32",
         "3.51",
         "220.4257586",
         "7.348"
        ],
        [
         "7",
         "1",
         "24-02-2012",
         "1539387.83",
         "0",
         "57.25",
         "3.555",
         "220.636902",
         "7.348"
        ],
        [
         "8",
         "1",
         "02-03-2012",
         "1688420.76",
         "0",
         "60.96",
         "3.63",
         "220.8480454",
         "7.348"
        ],
        [
         "9",
         "1",
         "09-03-2012",
         "1675431.16",
         "0",
         "58.76",
         "3.669",
         "221.0591887",
         "7.348"
        ],
        [
         "10",
         "1",
         "16-03-2012",
         "1677472.78",
         "0",
         "64.74",
         "3.734",
         "221.2118132",
         "7.348"
        ],
        [
         "11",
         "1",
         "23-03-2012",
         "1511068.07",
         "0",
         "65.93",
         "3.787",
         "221.2864126",
         "7.348"
        ],
        [
         "12",
         "1",
         "30-03-2012",
         "1649604.63",
         "0",
         "67.61",
         "3.845",
         "221.3610119",
         "7.348"
        ],
        [
         "13",
         "1",
         "06-04-2012",
         "1899676.88",
         "0",
         "70.43",
         "3.891",
         "221.4356112",
         "7.143"
        ],
        [
         "14",
         "1",
         "13-04-2012",
         "1621031.7",
         "0",
         "69.07",
         "3.891",
         "221.5102105",
         "7.143"
        ],
        [
         "15",
         "1",
         "20-04-2012",
         "1521577.87",
         "0",
         "66.76",
         "3.877",
         "221.5640737",
         "7.143"
        ],
        [
         "16",
         "1",
         "27-04-2012",
         "1468928.37",
         "0",
         "67.23",
         "3.814",
         "221.6179368",
         "7.143"
        ],
        [
         "17",
         "1",
         "04-05-2012",
         "1684519.99",
         "0",
         "75.55",
         "3.749",
         "221.6718",
         "7.143"
        ],
        [
         "18",
         "1",
         "11-05-2012",
         "1611096.05",
         "0",
         "73.77",
         "3.688",
         "221.7256632",
         "7.143"
        ],
        [
         "19",
         "1",
         "18-05-2012",
         "1595901.87",
         "0",
         "70.33",
         "3.63",
         "221.742674",
         "7.143"
        ],
        [
         "20",
         "1",
         "25-05-2012",
         "1555444.55",
         "0",
         "77.22",
         "3.561",
         "221.744944",
         "7.143"
        ],
        [
         "21",
         "1",
         "01-06-2012",
         "1624477.58",
         "0",
         "77.95",
         "3.501",
         "221.7472139",
         "7.143"
        ],
        [
         "22",
         "1",
         "08-06-2012",
         "1697230.96",
         "0",
         "78.3",
         "3.452",
         "221.7494839",
         "7.143"
        ],
        [
         "23",
         "1",
         "15-06-2012",
         "1630607.0",
         "0",
         "79.35",
         "3.393",
         "221.7626421",
         "7.143"
        ],
        [
         "24",
         "1",
         "22-06-2012",
         "1527845.81",
         "0",
         "78.39",
         "3.346",
         "221.8030211",
         "7.143"
        ],
        [
         "25",
         "1",
         "29-06-2012",
         "1540421.49",
         "0",
         "84.88",
         "3.286",
         "221.8434",
         "7.143"
        ],
        [
         "26",
         "1",
         "06-07-2012",
         "1769854.16",
         "0",
         "81.57",
         "3.227",
         "221.8837789",
         "6.908"
        ],
        [
         "27",
         "1",
         "13-07-2012",
         "1527014.04",
         "0",
         "77.12",
         "3.256",
         "221.9241579",
         "6.908"
        ],
        [
         "28",
         "1",
         "20-07-2012",
         "1497954.76",
         "0",
         "80.42",
         "3.311",
         "221.9327267",
         "6.908"
        ],
        [
         "29",
         "1",
         "27-07-2012",
         "1439123.71",
         "0",
         "82.66",
         "3.407",
         "221.9412954",
         "6.908"
        ],
        [
         "30",
         "1",
         "03-08-2012",
         "1631135.79",
         "0",
         "86.11",
         "3.417",
         "221.9498642",
         "6.908"
        ],
        [
         "31",
         "1",
         "10-08-2012",
         "1592409.97",
         "0",
         "85.05",
         "3.494",
         "221.9584329",
         "6.908"
        ],
        [
         "32",
         "1",
         "17-08-2012",
         "1597868.05",
         "0",
         "84.85",
         "3.571",
         "222.0384109",
         "6.908"
        ],
        [
         "33",
         "1",
         "24-08-2012",
         "1494122.38",
         "0",
         "77.66",
         "3.62",
         "222.1719457",
         "6.908"
        ],
        [
         "34",
         "1",
         "31-08-2012",
         "1582083.4",
         "0",
         "80.49",
         "3.638",
         "222.3054805",
         "6.908"
        ],
        [
         "35",
         "1",
         "07-09-2012",
         "1661767.33",
         "1",
         "83.96",
         "3.73",
         "222.4390153",
         "6.908"
        ],
        [
         "36",
         "1",
         "14-09-2012",
         "1517428.87",
         "0",
         "74.97",
         "3.717",
         "222.5820193",
         "6.908"
        ],
        [
         "37",
         "1",
         "21-09-2012",
         "1506126.06",
         "0",
         "69.87",
         "3.721",
         "222.7818386",
         "6.908"
        ],
        [
         "38",
         "1",
         "28-09-2012",
         "1437059.26",
         "0",
         "76.08",
         "3.666",
         "222.9816579",
         "6.908"
        ],
        [
         "39",
         "1",
         "05-10-2012",
         "1670785.97",
         "0",
         "68.55",
         "3.617",
         "223.1814772",
         "6.573"
        ],
        [
         "40",
         "1",
         "12-10-2012",
         "1573072.81",
         "0",
         "62.99",
         "3.601",
         "223.3812965",
         "6.573"
        ],
        [
         "41",
         "1",
         "19-10-2012",
         "1508068.77",
         "0",
         "67.97",
         "3.594",
         "223.4257233",
         "6.573"
        ],
        [
         "42",
         "1",
         "26-10-2012",
         "1493659.74",
         "0",
         "69.16",
         "3.506",
         "223.4442513",
         "6.573"
        ],
        [
         "43",
         "2",
         "05-02-2010",
         "2136989.46",
         "0",
         "40.19",
         "2.572",
         "210.7526053",
         "8.324"
        ],
        [
         "44",
         "2",
         "12-02-2010",
         "2137809.5",
         "1",
         "38.49",
         "2.548",
         "210.8979935",
         "8.324"
        ],
        [
         "45",
         "2",
         "19-02-2010",
         "2124451.54",
         "0",
         "39.69",
         "2.514",
         "210.9451605",
         "8.324"
        ],
        [
         "46",
         "2",
         "26-02-2010",
         "1865097.27",
         "0",
         "46.1",
         "2.561",
         "210.9759573",
         "8.324"
        ],
        [
         "47",
         "2",
         "05-03-2010",
         "1991013.13",
         "0",
         "47.17",
         "2.625",
         "211.0067542",
         "8.324"
        ],
        [
         "48",
         "2",
         "12-03-2010",
         "1990483.78",
         "0",
         "57.56",
         "2.667",
         "211.037551",
         "8.324"
        ],
        [
         "49",
         "2",
         "19-03-2010",
         "1946070.88",
         "0",
         "54.52",
         "2.72",
         "210.8733316",
         "8.324"
        ]
       ],
       "shape": {
        "columns": 8,
        "rows": 6335
       }
      },
      "text/html": [
       "<div>\n",
       "<style scoped>\n",
       "    .dataframe tbody tr th:only-of-type {\n",
       "        vertical-align: middle;\n",
       "    }\n",
       "\n",
       "    .dataframe tbody tr th {\n",
       "        vertical-align: top;\n",
       "    }\n",
       "\n",
       "    .dataframe thead th {\n",
       "        text-align: right;\n",
       "    }\n",
       "</style>\n",
       "<table border=\"1\" class=\"dataframe\">\n",
       "  <thead>\n",
       "    <tr style=\"text-align: right;\">\n",
       "      <th></th>\n",
       "      <th>1</th>\n",
       "      <th>30-12-2011</th>\n",
       "      <th>1497462.72</th>\n",
       "      <th>1.1</th>\n",
       "      <th>44.55</th>\n",
       "      <th>3.129</th>\n",
       "      <th>219.5359898</th>\n",
       "      <th>7.866</th>\n",
       "    </tr>\n",
       "  </thead>\n",
       "  <tbody>\n",
       "    <tr>\n",
       "      <th>0</th>\n",
       "      <td>1</td>\n",
       "      <td>06-01-2012</td>\n",
       "      <td>1550369.92</td>\n",
       "      <td>0</td>\n",
       "      <td>49.01</td>\n",
       "      <td>3.157</td>\n",
       "      <td>219.714258</td>\n",
       "      <td>7.348</td>\n",
       "    </tr>\n",
       "    <tr>\n",
       "      <th>1</th>\n",
       "      <td>1</td>\n",
       "      <td>13-01-2012</td>\n",
       "      <td>1459601.17</td>\n",
       "      <td>0</td>\n",
       "      <td>48.53</td>\n",
       "      <td>3.261</td>\n",
       "      <td>219.892526</td>\n",
       "      <td>7.348</td>\n",
       "    </tr>\n",
       "    <tr>\n",
       "      <th>2</th>\n",
       "      <td>1</td>\n",
       "      <td>20-01-2012</td>\n",
       "      <td>1394393.84</td>\n",
       "      <td>0</td>\n",
       "      <td>54.11</td>\n",
       "      <td>3.268</td>\n",
       "      <td>219.985689</td>\n",
       "      <td>7.348</td>\n",
       "    </tr>\n",
       "    <tr>\n",
       "      <th>3</th>\n",
       "      <td>1</td>\n",
       "      <td>27-01-2012</td>\n",
       "      <td>1319325.59</td>\n",
       "      <td>0</td>\n",
       "      <td>54.26</td>\n",
       "      <td>3.290</td>\n",
       "      <td>220.078852</td>\n",
       "      <td>7.348</td>\n",
       "    </tr>\n",
       "    <tr>\n",
       "      <th>4</th>\n",
       "      <td>1</td>\n",
       "      <td>03-02-2012</td>\n",
       "      <td>1636339.65</td>\n",
       "      <td>0</td>\n",
       "      <td>56.55</td>\n",
       "      <td>3.360</td>\n",
       "      <td>220.172015</td>\n",
       "      <td>7.348</td>\n",
       "    </tr>\n",
       "    <tr>\n",
       "      <th>...</th>\n",
       "      <td>...</td>\n",
       "      <td>...</td>\n",
       "      <td>...</td>\n",
       "      <td>...</td>\n",
       "      <td>...</td>\n",
       "      <td>...</td>\n",
       "      <td>...</td>\n",
       "      <td>...</td>\n",
       "    </tr>\n",
       "    <tr>\n",
       "      <th>6330</th>\n",
       "      <td>45</td>\n",
       "      <td>28-09-2012</td>\n",
       "      <td>713173.95</td>\n",
       "      <td>0</td>\n",
       "      <td>64.88</td>\n",
       "      <td>3.997</td>\n",
       "      <td>192.013558</td>\n",
       "      <td>8.684</td>\n",
       "    </tr>\n",
       "    <tr>\n",
       "      <th>6331</th>\n",
       "      <td>45</td>\n",
       "      <td>05-10-2012</td>\n",
       "      <td>733455.07</td>\n",
       "      <td>0</td>\n",
       "      <td>64.89</td>\n",
       "      <td>3.985</td>\n",
       "      <td>192.170412</td>\n",
       "      <td>8.667</td>\n",
       "    </tr>\n",
       "    <tr>\n",
       "      <th>6332</th>\n",
       "      <td>45</td>\n",
       "      <td>12-10-2012</td>\n",
       "      <td>734464.36</td>\n",
       "      <td>0</td>\n",
       "      <td>54.47</td>\n",
       "      <td>4.000</td>\n",
       "      <td>192.327265</td>\n",
       "      <td>8.667</td>\n",
       "    </tr>\n",
       "    <tr>\n",
       "      <th>6333</th>\n",
       "      <td>45</td>\n",
       "      <td>19-10-2012</td>\n",
       "      <td>718125.53</td>\n",
       "      <td>0</td>\n",
       "      <td>56.47</td>\n",
       "      <td>3.969</td>\n",
       "      <td>192.330854</td>\n",
       "      <td>8.667</td>\n",
       "    </tr>\n",
       "    <tr>\n",
       "      <th>6334</th>\n",
       "      <td>45</td>\n",
       "      <td>26-10-2012</td>\n",
       "      <td>760281.43</td>\n",
       "      <td>0</td>\n",
       "      <td>58.85</td>\n",
       "      <td>3.882</td>\n",
       "      <td>192.308899</td>\n",
       "      <td>8.667</td>\n",
       "    </tr>\n",
       "  </tbody>\n",
       "</table>\n",
       "<p>6335 rows × 8 columns</p>\n",
       "</div>"
      ],
      "text/plain": [
       "       1  30-12-2011  1497462.72  1.1  44.55  3.129  219.5359898  7.866\n",
       "0      1  06-01-2012  1550369.92    0  49.01  3.157   219.714258  7.348\n",
       "1      1  13-01-2012  1459601.17    0  48.53  3.261   219.892526  7.348\n",
       "2      1  20-01-2012  1394393.84    0  54.11  3.268   219.985689  7.348\n",
       "3      1  27-01-2012  1319325.59    0  54.26  3.290   220.078852  7.348\n",
       "4      1  03-02-2012  1636339.65    0  56.55  3.360   220.172015  7.348\n",
       "...   ..         ...         ...  ...    ...    ...          ...    ...\n",
       "6330  45  28-09-2012   713173.95    0  64.88  3.997   192.013558  8.684\n",
       "6331  45  05-10-2012   733455.07    0  64.89  3.985   192.170412  8.667\n",
       "6332  45  12-10-2012   734464.36    0  54.47  4.000   192.327265  8.667\n",
       "6333  45  19-10-2012   718125.53    0  56.47  3.969   192.330854  8.667\n",
       "6334  45  26-10-2012   760281.43    0  58.85  3.882   192.308899  8.667\n",
       "\n",
       "[6335 rows x 8 columns]"
      ]
     },
     "execution_count": 49,
     "metadata": {},
     "output_type": "execute_result"
    }
   ],
   "source": [
    "pd.read_csv(\"datasets/Walmart_Store_sales.csv\", skiprows=100)  # skips the first 100 lines"
   ]
  },
  {
   "cell_type": "code",
   "execution_count": 50,
   "id": "40493928",
   "metadata": {},
   "outputs": [
    {
     "data": {
      "application/vnd.microsoft.datawrangler.viewer.v0+json": {
       "columns": [
        {
         "name": "index",
         "rawType": "int64",
         "type": "integer"
        },
        {
         "name": "Store",
         "rawType": "int64",
         "type": "integer"
        },
        {
         "name": "Date",
         "rawType": "object",
         "type": "string"
        },
        {
         "name": "Weekly_Sales",
         "rawType": "float64",
         "type": "float"
        },
        {
         "name": "Holiday_Flag",
         "rawType": "int64",
         "type": "integer"
        },
        {
         "name": "Temperature",
         "rawType": "float64",
         "type": "float"
        },
        {
         "name": "Fuel_Price",
         "rawType": "float64",
         "type": "float"
        },
        {
         "name": "CPI",
         "rawType": "float64",
         "type": "float"
        },
        {
         "name": "Unemployment",
         "rawType": "float64",
         "type": "float"
        }
       ],
       "ref": "26b14dbc-07f9-4ef3-a95c-21706894659b",
       "rows": [
        [
         "0",
         "1",
         "12-02-2010",
         "1641957.44",
         "1",
         "38.51",
         "2.548",
         "211.2421698",
         "8.106"
        ],
        [
         "1",
         "1",
         "19-02-2010",
         "1611968.17",
         "0",
         "39.93",
         "2.514",
         "211.2891429",
         "8.106"
        ],
        [
         "2",
         "1",
         "26-02-2010",
         "1409727.59",
         "0",
         "46.63",
         "2.561",
         "211.3196429",
         "8.106"
        ],
        [
         "3",
         "1",
         "12-03-2010",
         "1439541.59",
         "0",
         "57.79",
         "2.667",
         "211.3806429",
         "8.106"
        ],
        [
         "4",
         "1",
         "19-03-2010",
         "1472515.79",
         "0",
         "54.58",
         "2.72",
         "211.215635",
         "8.106"
        ],
        [
         "5",
         "1",
         "26-03-2010",
         "1404429.92",
         "0",
         "51.45",
         "2.732",
         "211.0180424",
         "8.106"
        ],
        [
         "6",
         "1",
         "02-04-2010",
         "1594968.28",
         "0",
         "62.27",
         "2.719",
         "210.8204499",
         "7.808"
        ],
        [
         "7",
         "1",
         "09-04-2010",
         "1545418.53",
         "0",
         "65.86",
         "2.77",
         "210.6228574",
         "7.808"
        ],
        [
         "8",
         "1",
         "16-04-2010",
         "1466058.28",
         "0",
         "66.32",
         "2.808",
         "210.4887",
         "7.808"
        ],
        [
         "9",
         "1",
         "23-04-2010",
         "1391256.12",
         "0",
         "64.84",
         "2.795",
         "210.4391228",
         "7.808"
        ],
        [
         "10",
         "1",
         "30-04-2010",
         "1425100.71",
         "0",
         "67.41",
         "2.78",
         "210.3895456",
         "7.808"
        ],
        [
         "11",
         "1",
         "07-05-2010",
         "1603955.12",
         "0",
         "72.55",
         "2.835",
         "210.3399684",
         "7.808"
        ],
        [
         "12",
         "1",
         "14-05-2010",
         "1494251.5",
         "0",
         "74.78",
         "2.854",
         "210.3374261",
         "7.808"
        ],
        [
         "13",
         "1",
         "21-05-2010",
         "1399662.07",
         "0",
         "76.44",
         "2.826",
         "210.6170934",
         "7.808"
        ],
        [
         "14",
         "1",
         "28-05-2010",
         "1432069.95",
         "0",
         "80.44",
         "2.759",
         "210.8967606",
         "7.808"
        ],
        [
         "15",
         "1",
         "04-06-2010",
         "1615524.71",
         "0",
         "80.69",
         "2.705",
         "211.1764278",
         "7.808"
        ],
        [
         "16",
         "1",
         "11-06-2010",
         "1542561.09",
         "0",
         "80.43",
         "2.668",
         "211.4560951",
         "7.808"
        ],
        [
         "17",
         "1",
         "18-06-2010",
         "1503284.06",
         "0",
         "84.11",
         "2.637",
         "211.4537719",
         "7.808"
        ],
        [
         "18",
         "1",
         "25-06-2010",
         "1422711.6",
         "0",
         "84.34",
         "2.653",
         "211.3386526",
         "7.808"
        ],
        [
         "19",
         "1",
         "02-07-2010",
         "1492418.14",
         "0",
         "80.91",
         "2.669",
         "211.2235333",
         "7.787"
        ],
        [
         "20",
         "1",
         "09-07-2010",
         "1546074.18",
         "0",
         "80.48",
         "2.642",
         "211.108414",
         "7.787"
        ],
        [
         "21",
         "1",
         "16-07-2010",
         "1448938.92",
         "0",
         "83.15",
         "2.623",
         "211.1003854",
         "7.787"
        ],
        [
         "22",
         "1",
         "23-07-2010",
         "1385065.2",
         "0",
         "83.36",
         "2.608",
         "211.2351443",
         "7.787"
        ],
        [
         "23",
         "1",
         "30-07-2010",
         "1371986.6",
         "0",
         "81.84",
         "2.64",
         "211.3699032",
         "7.787"
        ],
        [
         "24",
         "1",
         "06-08-2010",
         "1605491.78",
         "0",
         "87.16",
         "2.627",
         "211.5046621",
         "7.787"
        ],
        [
         "25",
         "1",
         "13-08-2010",
         "1508237.76",
         "0",
         "87.0",
         "2.692",
         "211.6394211",
         "7.787"
        ],
        [
         "26",
         "1",
         "20-08-2010",
         "1513080.49",
         "0",
         "86.65",
         "2.664",
         "211.6033633",
         "7.787"
        ],
        [
         "27",
         "1",
         "27-08-2010",
         "1449142.92",
         "0",
         "85.22",
         "2.619",
         "211.5673056",
         "7.787"
        ],
        [
         "28",
         "1",
         "03-09-2010",
         "1540163.53",
         "0",
         "81.21",
         "2.577",
         "211.5312479",
         "7.787"
        ],
        [
         "29",
         "1",
         "10-09-2010",
         "1507460.69",
         "1",
         "78.69",
         "2.565",
         "211.4951902",
         "7.787"
        ],
        [
         "30",
         "1",
         "17-09-2010",
         "1430378.67",
         "0",
         "82.11",
         "2.582",
         "211.5224596",
         "7.787"
        ],
        [
         "31",
         "1",
         "24-09-2010",
         "1351791.03",
         "0",
         "80.94",
         "2.624",
         "211.5972246",
         "7.787"
        ],
        [
         "32",
         "1",
         "01-10-2010",
         "1453329.5",
         "0",
         "71.89",
         "2.603",
         "211.6719895",
         "7.838"
        ],
        [
         "33",
         "1",
         "08-10-2010",
         "1508239.93",
         "0",
         "63.93",
         "2.633",
         "211.7467544",
         "7.838"
        ],
        [
         "34",
         "1",
         "15-10-2010",
         "1459409.1",
         "0",
         "67.18",
         "2.72",
         "211.8137436",
         "7.838"
        ],
        [
         "35",
         "1",
         "22-10-2010",
         "1345454.0",
         "0",
         "69.86",
         "2.725",
         "211.8612937",
         "7.838"
        ],
        [
         "36",
         "1",
         "29-10-2010",
         "1384209.22",
         "0",
         "69.64",
         "2.716",
         "211.9088438",
         "7.838"
        ],
        [
         "37",
         "1",
         "05-11-2010",
         "1551659.28",
         "0",
         "58.74",
         "2.689",
         "211.9563939",
         "7.838"
        ],
        [
         "38",
         "1",
         "12-11-2010",
         "1494479.49",
         "0",
         "59.61",
         "2.728",
         "212.003944",
         "7.838"
        ],
        [
         "39",
         "1",
         "19-11-2010",
         "1483784.18",
         "0",
         "51.41",
         "2.771",
         "211.8896737",
         "7.838"
        ],
        [
         "40",
         "1",
         "26-11-2010",
         "1955624.11",
         "1",
         "64.52",
         "2.735",
         "211.7484333",
         "7.838"
        ],
        [
         "41",
         "1",
         "03-12-2010",
         "1548033.78",
         "0",
         "49.27",
         "2.708",
         "211.607193",
         "7.838"
        ],
        [
         "42",
         "1",
         "10-12-2010",
         "1682614.26",
         "0",
         "46.33",
         "2.843",
         "211.4659526",
         "7.838"
        ],
        [
         "43",
         "1",
         "17-12-2010",
         "1891034.93",
         "0",
         "49.84",
         "2.869",
         "211.4053124",
         "7.838"
        ],
        [
         "44",
         "1",
         "24-12-2010",
         "2387950.2",
         "0",
         "52.33",
         "2.886",
         "211.4051222",
         "7.838"
        ],
        [
         "45",
         "1",
         "31-12-2010",
         "1367320.01",
         "1",
         "48.43",
         "2.943",
         "211.4049321",
         "7.838"
        ],
        [
         "46",
         "1",
         "07-01-2011",
         "1444732.28",
         "0",
         "48.27",
         "2.976",
         "211.4047419",
         "7.742"
        ],
        [
         "47",
         "1",
         "14-01-2011",
         "1391013.96",
         "0",
         "35.4",
         "2.983",
         "211.4574109",
         "7.742"
        ],
        [
         "48",
         "1",
         "21-01-2011",
         "1327405.42",
         "0",
         "44.04",
         "3.016",
         "211.8272343",
         "7.742"
        ],
        [
         "49",
         "1",
         "28-01-2011",
         "1316899.31",
         "0",
         "43.83",
         "3.01",
         "212.1970577",
         "7.742"
        ]
       ],
       "shape": {
        "columns": 8,
        "rows": 6433
       }
      },
      "text/html": [
       "<div>\n",
       "<style scoped>\n",
       "    .dataframe tbody tr th:only-of-type {\n",
       "        vertical-align: middle;\n",
       "    }\n",
       "\n",
       "    .dataframe tbody tr th {\n",
       "        vertical-align: top;\n",
       "    }\n",
       "\n",
       "    .dataframe thead th {\n",
       "        text-align: right;\n",
       "    }\n",
       "</style>\n",
       "<table border=\"1\" class=\"dataframe\">\n",
       "  <thead>\n",
       "    <tr style=\"text-align: right;\">\n",
       "      <th></th>\n",
       "      <th>Store</th>\n",
       "      <th>Date</th>\n",
       "      <th>Weekly_Sales</th>\n",
       "      <th>Holiday_Flag</th>\n",
       "      <th>Temperature</th>\n",
       "      <th>Fuel_Price</th>\n",
       "      <th>CPI</th>\n",
       "      <th>Unemployment</th>\n",
       "    </tr>\n",
       "  </thead>\n",
       "  <tbody>\n",
       "    <tr>\n",
       "      <th>0</th>\n",
       "      <td>1</td>\n",
       "      <td>12-02-2010</td>\n",
       "      <td>1641957.44</td>\n",
       "      <td>1</td>\n",
       "      <td>38.51</td>\n",
       "      <td>2.548</td>\n",
       "      <td>211.242170</td>\n",
       "      <td>8.106</td>\n",
       "    </tr>\n",
       "    <tr>\n",
       "      <th>1</th>\n",
       "      <td>1</td>\n",
       "      <td>19-02-2010</td>\n",
       "      <td>1611968.17</td>\n",
       "      <td>0</td>\n",
       "      <td>39.93</td>\n",
       "      <td>2.514</td>\n",
       "      <td>211.289143</td>\n",
       "      <td>8.106</td>\n",
       "    </tr>\n",
       "    <tr>\n",
       "      <th>2</th>\n",
       "      <td>1</td>\n",
       "      <td>26-02-2010</td>\n",
       "      <td>1409727.59</td>\n",
       "      <td>0</td>\n",
       "      <td>46.63</td>\n",
       "      <td>2.561</td>\n",
       "      <td>211.319643</td>\n",
       "      <td>8.106</td>\n",
       "    </tr>\n",
       "    <tr>\n",
       "      <th>3</th>\n",
       "      <td>1</td>\n",
       "      <td>12-03-2010</td>\n",
       "      <td>1439541.59</td>\n",
       "      <td>0</td>\n",
       "      <td>57.79</td>\n",
       "      <td>2.667</td>\n",
       "      <td>211.380643</td>\n",
       "      <td>8.106</td>\n",
       "    </tr>\n",
       "    <tr>\n",
       "      <th>4</th>\n",
       "      <td>1</td>\n",
       "      <td>19-03-2010</td>\n",
       "      <td>1472515.79</td>\n",
       "      <td>0</td>\n",
       "      <td>54.58</td>\n",
       "      <td>2.720</td>\n",
       "      <td>211.215635</td>\n",
       "      <td>8.106</td>\n",
       "    </tr>\n",
       "    <tr>\n",
       "      <th>...</th>\n",
       "      <td>...</td>\n",
       "      <td>...</td>\n",
       "      <td>...</td>\n",
       "      <td>...</td>\n",
       "      <td>...</td>\n",
       "      <td>...</td>\n",
       "      <td>...</td>\n",
       "      <td>...</td>\n",
       "    </tr>\n",
       "    <tr>\n",
       "      <th>6428</th>\n",
       "      <td>45</td>\n",
       "      <td>28-09-2012</td>\n",
       "      <td>713173.95</td>\n",
       "      <td>0</td>\n",
       "      <td>64.88</td>\n",
       "      <td>3.997</td>\n",
       "      <td>192.013558</td>\n",
       "      <td>8.684</td>\n",
       "    </tr>\n",
       "    <tr>\n",
       "      <th>6429</th>\n",
       "      <td>45</td>\n",
       "      <td>05-10-2012</td>\n",
       "      <td>733455.07</td>\n",
       "      <td>0</td>\n",
       "      <td>64.89</td>\n",
       "      <td>3.985</td>\n",
       "      <td>192.170412</td>\n",
       "      <td>8.667</td>\n",
       "    </tr>\n",
       "    <tr>\n",
       "      <th>6430</th>\n",
       "      <td>45</td>\n",
       "      <td>12-10-2012</td>\n",
       "      <td>734464.36</td>\n",
       "      <td>0</td>\n",
       "      <td>54.47</td>\n",
       "      <td>4.000</td>\n",
       "      <td>192.327265</td>\n",
       "      <td>8.667</td>\n",
       "    </tr>\n",
       "    <tr>\n",
       "      <th>6431</th>\n",
       "      <td>45</td>\n",
       "      <td>19-10-2012</td>\n",
       "      <td>718125.53</td>\n",
       "      <td>0</td>\n",
       "      <td>56.47</td>\n",
       "      <td>3.969</td>\n",
       "      <td>192.330854</td>\n",
       "      <td>8.667</td>\n",
       "    </tr>\n",
       "    <tr>\n",
       "      <th>6432</th>\n",
       "      <td>45</td>\n",
       "      <td>26-10-2012</td>\n",
       "      <td>760281.43</td>\n",
       "      <td>0</td>\n",
       "      <td>58.85</td>\n",
       "      <td>3.882</td>\n",
       "      <td>192.308899</td>\n",
       "      <td>8.667</td>\n",
       "    </tr>\n",
       "  </tbody>\n",
       "</table>\n",
       "<p>6433 rows × 8 columns</p>\n",
       "</div>"
      ],
      "text/plain": [
       "      Store        Date  Weekly_Sales  Holiday_Flag  Temperature  Fuel_Price  \\\n",
       "0         1  12-02-2010    1641957.44             1        38.51       2.548   \n",
       "1         1  19-02-2010    1611968.17             0        39.93       2.514   \n",
       "2         1  26-02-2010    1409727.59             0        46.63       2.561   \n",
       "3         1  12-03-2010    1439541.59             0        57.79       2.667   \n",
       "4         1  19-03-2010    1472515.79             0        54.58       2.720   \n",
       "...     ...         ...           ...           ...          ...         ...   \n",
       "6428     45  28-09-2012     713173.95             0        64.88       3.997   \n",
       "6429     45  05-10-2012     733455.07             0        64.89       3.985   \n",
       "6430     45  12-10-2012     734464.36             0        54.47       4.000   \n",
       "6431     45  19-10-2012     718125.53             0        56.47       3.969   \n",
       "6432     45  26-10-2012     760281.43             0        58.85       3.882   \n",
       "\n",
       "             CPI  Unemployment  \n",
       "0     211.242170         8.106  \n",
       "1     211.289143         8.106  \n",
       "2     211.319643         8.106  \n",
       "3     211.380643         8.106  \n",
       "4     211.215635         8.106  \n",
       "...          ...           ...  \n",
       "6428  192.013558         8.684  \n",
       "6429  192.170412         8.667  \n",
       "6430  192.327265         8.667  \n",
       "6431  192.330854         8.667  \n",
       "6432  192.308899         8.667  \n",
       "\n",
       "[6433 rows x 8 columns]"
      ]
     },
     "execution_count": 50,
     "metadata": {},
     "output_type": "execute_result"
    }
   ],
   "source": [
    "pd.read_csv(\"datasets/Walmart_Store_sales.csv\", skiprows=[1, 5])  # skips line 1 and 5"
   ]
  },
  {
   "cell_type": "markdown",
   "id": "40d07202",
   "metadata": {},
   "source": [
    "- É possível alterar os tipos das colunas"
   ]
  },
  {
   "cell_type": "code",
   "execution_count": 51,
   "id": "471d8a92",
   "metadata": {},
   "outputs": [
    {
     "name": "stdout",
     "output_type": "stream",
     "text": [
      "<class 'pandas.core.frame.DataFrame'>\n",
      "RangeIndex: 6435 entries, 0 to 6434\n",
      "Data columns (total 8 columns):\n",
      " #   Column        Non-Null Count  Dtype  \n",
      "---  ------        --------------  -----  \n",
      " 0   Store         6435 non-null   int64  \n",
      " 1   Date          6435 non-null   object \n",
      " 2   Weekly_Sales  6435 non-null   float64\n",
      " 3   Holiday_Flag  6435 non-null   int64  \n",
      " 4   Temperature   6435 non-null   float64\n",
      " 5   Fuel_Price    6435 non-null   float64\n",
      " 6   CPI           6435 non-null   float64\n",
      " 7   Unemployment  6435 non-null   float64\n",
      "dtypes: float64(5), int64(2), object(1)\n",
      "memory usage: 402.3+ KB\n"
     ]
    }
   ],
   "source": [
    "walmart.info()"
   ]
  },
  {
   "cell_type": "code",
   "execution_count": 52,
   "id": "4e7b1f8c",
   "metadata": {},
   "outputs": [
    {
     "name": "stdout",
     "output_type": "stream",
     "text": [
      "<class 'pandas.core.frame.DataFrame'>\n",
      "RangeIndex: 6435 entries, 0 to 6434\n",
      "Data columns (total 8 columns):\n",
      " #   Column        Non-Null Count  Dtype         \n",
      "---  ------        --------------  -----         \n",
      " 0   Store         6435 non-null   category      \n",
      " 1   Date          6435 non-null   datetime64[ns]\n",
      " 2   Weekly_Sales  6435 non-null   float64       \n",
      " 3   Holiday_Flag  6435 non-null   bool          \n",
      " 4   Temperature   6435 non-null   float64       \n",
      " 5   Fuel_Price    6435 non-null   float64       \n",
      " 6   CPI           6435 non-null   float64       \n",
      " 7   Unemployment  6435 non-null   float64       \n",
      "dtypes: bool(1), category(1), datetime64[ns](1), float64(5)\n",
      "memory usage: 315.7 KB\n"
     ]
    }
   ],
   "source": [
    "walmart = walmart.astype(\n",
    "    {\n",
    "        \"Date\": \"datetime64[ns]\",\n",
    "        \"Holiday_Flag\": \"bool\",\n",
    "        \"Store\": \"category\",\n",
    "    }\n",
    ")\n",
    "walmart.info()"
   ]
  },
  {
   "cell_type": "code",
   "execution_count": 53,
   "id": "8dfdf193",
   "metadata": {},
   "outputs": [
    {
     "data": {
      "application/vnd.microsoft.datawrangler.viewer.v0+json": {
       "columns": [
        {
         "name": "index",
         "rawType": "int64",
         "type": "integer"
        },
        {
         "name": "Store",
         "rawType": "category",
         "type": "unknown"
        },
        {
         "name": "Date",
         "rawType": "datetime64[ns]",
         "type": "datetime"
        },
        {
         "name": "Weekly_Sales",
         "rawType": "float64",
         "type": "float"
        },
        {
         "name": "Holiday_Flag",
         "rawType": "bool",
         "type": "boolean"
        },
        {
         "name": "Temperature",
         "rawType": "float64",
         "type": "float"
        },
        {
         "name": "Fuel_Price",
         "rawType": "float64",
         "type": "float"
        },
        {
         "name": "CPI",
         "rawType": "float64",
         "type": "float"
        },
        {
         "name": "Unemployment",
         "rawType": "float64",
         "type": "float"
        }
       ],
       "ref": "b7d691bc-8e80-4cef-9179-ce73faa42168",
       "rows": [
        [
         "0",
         "1",
         "2010-05-02 00:00:00",
         "1643690.9",
         "False",
         "42.31",
         "2.572",
         "211.0963582",
         "8.106"
        ],
        [
         "1",
         "1",
         "2010-12-02 00:00:00",
         "1641957.44",
         "True",
         "38.51",
         "2.548",
         "211.2421698",
         "8.106"
        ],
        [
         "2",
         "1",
         "2010-02-19 00:00:00",
         "1611968.17",
         "False",
         "39.93",
         "2.514",
         "211.2891429",
         "8.106"
        ],
        [
         "3",
         "1",
         "2010-02-26 00:00:00",
         "1409727.59",
         "False",
         "46.63",
         "2.561",
         "211.3196429",
         "8.106"
        ],
        [
         "4",
         "1",
         "2010-05-03 00:00:00",
         "1554806.68",
         "False",
         "46.5",
         "2.625",
         "211.3501429",
         "8.106"
        ],
        [
         "5",
         "1",
         "2010-12-03 00:00:00",
         "1439541.59",
         "False",
         "57.79",
         "2.667",
         "211.3806429",
         "8.106"
        ],
        [
         "6",
         "1",
         "2010-03-19 00:00:00",
         "1472515.79",
         "False",
         "54.58",
         "2.72",
         "211.215635",
         "8.106"
        ],
        [
         "7",
         "1",
         "2010-03-26 00:00:00",
         "1404429.92",
         "False",
         "51.45",
         "2.732",
         "211.0180424",
         "8.106"
        ],
        [
         "8",
         "1",
         "2010-02-04 00:00:00",
         "1594968.28",
         "False",
         "62.27",
         "2.719",
         "210.8204499",
         "7.808"
        ],
        [
         "9",
         "1",
         "2010-09-04 00:00:00",
         "1545418.53",
         "False",
         "65.86",
         "2.77",
         "210.6228574",
         "7.808"
        ],
        [
         "10",
         "1",
         "2010-04-16 00:00:00",
         "1466058.28",
         "False",
         "66.32",
         "2.808",
         "210.4887",
         "7.808"
        ],
        [
         "11",
         "1",
         "2010-04-23 00:00:00",
         "1391256.12",
         "False",
         "64.84",
         "2.795",
         "210.4391228",
         "7.808"
        ],
        [
         "12",
         "1",
         "2010-04-30 00:00:00",
         "1425100.71",
         "False",
         "67.41",
         "2.78",
         "210.3895456",
         "7.808"
        ],
        [
         "13",
         "1",
         "2010-07-05 00:00:00",
         "1603955.12",
         "False",
         "72.55",
         "2.835",
         "210.3399684",
         "7.808"
        ],
        [
         "14",
         "1",
         "2010-05-14 00:00:00",
         "1494251.5",
         "False",
         "74.78",
         "2.854",
         "210.3374261",
         "7.808"
        ],
        [
         "15",
         "1",
         "2010-05-21 00:00:00",
         "1399662.07",
         "False",
         "76.44",
         "2.826",
         "210.6170934",
         "7.808"
        ],
        [
         "16",
         "1",
         "2010-05-28 00:00:00",
         "1432069.95",
         "False",
         "80.44",
         "2.759",
         "210.8967606",
         "7.808"
        ],
        [
         "17",
         "1",
         "2010-04-06 00:00:00",
         "1615524.71",
         "False",
         "80.69",
         "2.705",
         "211.1764278",
         "7.808"
        ],
        [
         "18",
         "1",
         "2010-11-06 00:00:00",
         "1542561.09",
         "False",
         "80.43",
         "2.668",
         "211.4560951",
         "7.808"
        ],
        [
         "19",
         "1",
         "2010-06-18 00:00:00",
         "1503284.06",
         "False",
         "84.11",
         "2.637",
         "211.4537719",
         "7.808"
        ],
        [
         "20",
         "1",
         "2010-06-25 00:00:00",
         "1422711.6",
         "False",
         "84.34",
         "2.653",
         "211.3386526",
         "7.808"
        ],
        [
         "21",
         "1",
         "2010-02-07 00:00:00",
         "1492418.14",
         "False",
         "80.91",
         "2.669",
         "211.2235333",
         "7.787"
        ],
        [
         "22",
         "1",
         "2010-09-07 00:00:00",
         "1546074.18",
         "False",
         "80.48",
         "2.642",
         "211.108414",
         "7.787"
        ],
        [
         "23",
         "1",
         "2010-07-16 00:00:00",
         "1448938.92",
         "False",
         "83.15",
         "2.623",
         "211.1003854",
         "7.787"
        ],
        [
         "24",
         "1",
         "2010-07-23 00:00:00",
         "1385065.2",
         "False",
         "83.36",
         "2.608",
         "211.2351443",
         "7.787"
        ],
        [
         "25",
         "1",
         "2010-07-30 00:00:00",
         "1371986.6",
         "False",
         "81.84",
         "2.64",
         "211.3699032",
         "7.787"
        ],
        [
         "26",
         "1",
         "2010-06-08 00:00:00",
         "1605491.78",
         "False",
         "87.16",
         "2.627",
         "211.5046621",
         "7.787"
        ],
        [
         "27",
         "1",
         "2010-08-13 00:00:00",
         "1508237.76",
         "False",
         "87.0",
         "2.692",
         "211.6394211",
         "7.787"
        ],
        [
         "28",
         "1",
         "2010-08-20 00:00:00",
         "1513080.49",
         "False",
         "86.65",
         "2.664",
         "211.6033633",
         "7.787"
        ],
        [
         "29",
         "1",
         "2010-08-27 00:00:00",
         "1449142.92",
         "False",
         "85.22",
         "2.619",
         "211.5673056",
         "7.787"
        ],
        [
         "30",
         "1",
         "2010-03-09 00:00:00",
         "1540163.53",
         "False",
         "81.21",
         "2.577",
         "211.5312479",
         "7.787"
        ],
        [
         "31",
         "1",
         "2010-10-09 00:00:00",
         "1507460.69",
         "True",
         "78.69",
         "2.565",
         "211.4951902",
         "7.787"
        ],
        [
         "32",
         "1",
         "2010-09-17 00:00:00",
         "1430378.67",
         "False",
         "82.11",
         "2.582",
         "211.5224596",
         "7.787"
        ],
        [
         "33",
         "1",
         "2010-09-24 00:00:00",
         "1351791.03",
         "False",
         "80.94",
         "2.624",
         "211.5972246",
         "7.787"
        ],
        [
         "34",
         "1",
         "2010-01-10 00:00:00",
         "1453329.5",
         "False",
         "71.89",
         "2.603",
         "211.6719895",
         "7.838"
        ],
        [
         "35",
         "1",
         "2010-08-10 00:00:00",
         "1508239.93",
         "False",
         "63.93",
         "2.633",
         "211.7467544",
         "7.838"
        ],
        [
         "36",
         "1",
         "2010-10-15 00:00:00",
         "1459409.1",
         "False",
         "67.18",
         "2.72",
         "211.8137436",
         "7.838"
        ],
        [
         "37",
         "1",
         "2010-10-22 00:00:00",
         "1345454.0",
         "False",
         "69.86",
         "2.725",
         "211.8612937",
         "7.838"
        ],
        [
         "38",
         "1",
         "2010-10-29 00:00:00",
         "1384209.22",
         "False",
         "69.64",
         "2.716",
         "211.9088438",
         "7.838"
        ],
        [
         "39",
         "1",
         "2010-05-11 00:00:00",
         "1551659.28",
         "False",
         "58.74",
         "2.689",
         "211.9563939",
         "7.838"
        ],
        [
         "40",
         "1",
         "2010-12-11 00:00:00",
         "1494479.49",
         "False",
         "59.61",
         "2.728",
         "212.003944",
         "7.838"
        ],
        [
         "41",
         "1",
         "2010-11-19 00:00:00",
         "1483784.18",
         "False",
         "51.41",
         "2.771",
         "211.8896737",
         "7.838"
        ],
        [
         "42",
         "1",
         "2010-11-26 00:00:00",
         "1955624.11",
         "True",
         "64.52",
         "2.735",
         "211.7484333",
         "7.838"
        ],
        [
         "43",
         "1",
         "2010-03-12 00:00:00",
         "1548033.78",
         "False",
         "49.27",
         "2.708",
         "211.607193",
         "7.838"
        ],
        [
         "44",
         "1",
         "2010-10-12 00:00:00",
         "1682614.26",
         "False",
         "46.33",
         "2.843",
         "211.4659526",
         "7.838"
        ],
        [
         "45",
         "1",
         "2010-12-17 00:00:00",
         "1891034.93",
         "False",
         "49.84",
         "2.869",
         "211.4053124",
         "7.838"
        ],
        [
         "46",
         "1",
         "2010-12-24 00:00:00",
         "2387950.2",
         "False",
         "52.33",
         "2.886",
         "211.4051222",
         "7.838"
        ],
        [
         "47",
         "1",
         "2010-12-31 00:00:00",
         "1367320.01",
         "True",
         "48.43",
         "2.943",
         "211.4049321",
         "7.838"
        ],
        [
         "48",
         "1",
         "2011-07-01 00:00:00",
         "1444732.28",
         "False",
         "48.27",
         "2.976",
         "211.4047419",
         "7.742"
        ],
        [
         "49",
         "1",
         "2011-01-14 00:00:00",
         "1391013.96",
         "False",
         "35.4",
         "2.983",
         "211.4574109",
         "7.742"
        ]
       ],
       "shape": {
        "columns": 8,
        "rows": 6435
       }
      },
      "text/html": [
       "<div>\n",
       "<style scoped>\n",
       "    .dataframe tbody tr th:only-of-type {\n",
       "        vertical-align: middle;\n",
       "    }\n",
       "\n",
       "    .dataframe tbody tr th {\n",
       "        vertical-align: top;\n",
       "    }\n",
       "\n",
       "    .dataframe thead th {\n",
       "        text-align: right;\n",
       "    }\n",
       "</style>\n",
       "<table border=\"1\" class=\"dataframe\">\n",
       "  <thead>\n",
       "    <tr style=\"text-align: right;\">\n",
       "      <th></th>\n",
       "      <th>Store</th>\n",
       "      <th>Date</th>\n",
       "      <th>Weekly_Sales</th>\n",
       "      <th>Holiday_Flag</th>\n",
       "      <th>Temperature</th>\n",
       "      <th>Fuel_Price</th>\n",
       "      <th>CPI</th>\n",
       "      <th>Unemployment</th>\n",
       "    </tr>\n",
       "  </thead>\n",
       "  <tbody>\n",
       "    <tr>\n",
       "      <th>0</th>\n",
       "      <td>1</td>\n",
       "      <td>2010-05-02</td>\n",
       "      <td>1643690.90</td>\n",
       "      <td>False</td>\n",
       "      <td>42.31</td>\n",
       "      <td>2.572</td>\n",
       "      <td>211.096358</td>\n",
       "      <td>8.106</td>\n",
       "    </tr>\n",
       "    <tr>\n",
       "      <th>1</th>\n",
       "      <td>1</td>\n",
       "      <td>2010-12-02</td>\n",
       "      <td>1641957.44</td>\n",
       "      <td>True</td>\n",
       "      <td>38.51</td>\n",
       "      <td>2.548</td>\n",
       "      <td>211.242170</td>\n",
       "      <td>8.106</td>\n",
       "    </tr>\n",
       "    <tr>\n",
       "      <th>2</th>\n",
       "      <td>1</td>\n",
       "      <td>2010-02-19</td>\n",
       "      <td>1611968.17</td>\n",
       "      <td>False</td>\n",
       "      <td>39.93</td>\n",
       "      <td>2.514</td>\n",
       "      <td>211.289143</td>\n",
       "      <td>8.106</td>\n",
       "    </tr>\n",
       "    <tr>\n",
       "      <th>3</th>\n",
       "      <td>1</td>\n",
       "      <td>2010-02-26</td>\n",
       "      <td>1409727.59</td>\n",
       "      <td>False</td>\n",
       "      <td>46.63</td>\n",
       "      <td>2.561</td>\n",
       "      <td>211.319643</td>\n",
       "      <td>8.106</td>\n",
       "    </tr>\n",
       "    <tr>\n",
       "      <th>4</th>\n",
       "      <td>1</td>\n",
       "      <td>2010-05-03</td>\n",
       "      <td>1554806.68</td>\n",
       "      <td>False</td>\n",
       "      <td>46.50</td>\n",
       "      <td>2.625</td>\n",
       "      <td>211.350143</td>\n",
       "      <td>8.106</td>\n",
       "    </tr>\n",
       "    <tr>\n",
       "      <th>...</th>\n",
       "      <td>...</td>\n",
       "      <td>...</td>\n",
       "      <td>...</td>\n",
       "      <td>...</td>\n",
       "      <td>...</td>\n",
       "      <td>...</td>\n",
       "      <td>...</td>\n",
       "      <td>...</td>\n",
       "    </tr>\n",
       "    <tr>\n",
       "      <th>6430</th>\n",
       "      <td>45</td>\n",
       "      <td>2012-09-28</td>\n",
       "      <td>713173.95</td>\n",
       "      <td>False</td>\n",
       "      <td>64.88</td>\n",
       "      <td>3.997</td>\n",
       "      <td>192.013558</td>\n",
       "      <td>8.684</td>\n",
       "    </tr>\n",
       "    <tr>\n",
       "      <th>6431</th>\n",
       "      <td>45</td>\n",
       "      <td>2012-05-10</td>\n",
       "      <td>733455.07</td>\n",
       "      <td>False</td>\n",
       "      <td>64.89</td>\n",
       "      <td>3.985</td>\n",
       "      <td>192.170412</td>\n",
       "      <td>8.667</td>\n",
       "    </tr>\n",
       "    <tr>\n",
       "      <th>6432</th>\n",
       "      <td>45</td>\n",
       "      <td>2012-12-10</td>\n",
       "      <td>734464.36</td>\n",
       "      <td>False</td>\n",
       "      <td>54.47</td>\n",
       "      <td>4.000</td>\n",
       "      <td>192.327265</td>\n",
       "      <td>8.667</td>\n",
       "    </tr>\n",
       "    <tr>\n",
       "      <th>6433</th>\n",
       "      <td>45</td>\n",
       "      <td>2012-10-19</td>\n",
       "      <td>718125.53</td>\n",
       "      <td>False</td>\n",
       "      <td>56.47</td>\n",
       "      <td>3.969</td>\n",
       "      <td>192.330854</td>\n",
       "      <td>8.667</td>\n",
       "    </tr>\n",
       "    <tr>\n",
       "      <th>6434</th>\n",
       "      <td>45</td>\n",
       "      <td>2012-10-26</td>\n",
       "      <td>760281.43</td>\n",
       "      <td>False</td>\n",
       "      <td>58.85</td>\n",
       "      <td>3.882</td>\n",
       "      <td>192.308899</td>\n",
       "      <td>8.667</td>\n",
       "    </tr>\n",
       "  </tbody>\n",
       "</table>\n",
       "<p>6435 rows × 8 columns</p>\n",
       "</div>"
      ],
      "text/plain": [
       "     Store       Date  Weekly_Sales  Holiday_Flag  Temperature  Fuel_Price  \\\n",
       "0        1 2010-05-02    1643690.90         False        42.31       2.572   \n",
       "1        1 2010-12-02    1641957.44          True        38.51       2.548   \n",
       "2        1 2010-02-19    1611968.17         False        39.93       2.514   \n",
       "3        1 2010-02-26    1409727.59         False        46.63       2.561   \n",
       "4        1 2010-05-03    1554806.68         False        46.50       2.625   \n",
       "...    ...        ...           ...           ...          ...         ...   \n",
       "6430    45 2012-09-28     713173.95         False        64.88       3.997   \n",
       "6431    45 2012-05-10     733455.07         False        64.89       3.985   \n",
       "6432    45 2012-12-10     734464.36         False        54.47       4.000   \n",
       "6433    45 2012-10-19     718125.53         False        56.47       3.969   \n",
       "6434    45 2012-10-26     760281.43         False        58.85       3.882   \n",
       "\n",
       "             CPI  Unemployment  \n",
       "0     211.096358         8.106  \n",
       "1     211.242170         8.106  \n",
       "2     211.289143         8.106  \n",
       "3     211.319643         8.106  \n",
       "4     211.350143         8.106  \n",
       "...          ...           ...  \n",
       "6430  192.013558         8.684  \n",
       "6431  192.170412         8.667  \n",
       "6432  192.327265         8.667  \n",
       "6433  192.330854         8.667  \n",
       "6434  192.308899         8.667  \n",
       "\n",
       "[6435 rows x 8 columns]"
      ]
     },
     "execution_count": 53,
     "metadata": {},
     "output_type": "execute_result"
    }
   ],
   "source": [
    "walmart"
   ]
  },
  {
   "cell_type": "markdown",
   "id": "91d8664c",
   "metadata": {},
   "source": [
    "- É possível realizar consultas por coluna e por index"
   ]
  },
  {
   "cell_type": "code",
   "execution_count": 54,
   "id": "33035bff",
   "metadata": {},
   "outputs": [
    {
     "data": {
      "application/vnd.microsoft.datawrangler.viewer.v0+json": {
       "columns": [
        {
         "name": "index",
         "rawType": "int64",
         "type": "integer"
        },
        {
         "name": "Store",
         "rawType": "category",
         "type": "unknown"
        },
        {
         "name": "Date",
         "rawType": "datetime64[ns]",
         "type": "datetime"
        },
        {
         "name": "Weekly_Sales",
         "rawType": "float64",
         "type": "float"
        },
        {
         "name": "Holiday_Flag",
         "rawType": "bool",
         "type": "boolean"
        },
        {
         "name": "Temperature",
         "rawType": "float64",
         "type": "float"
        },
        {
         "name": "Fuel_Price",
         "rawType": "float64",
         "type": "float"
        },
        {
         "name": "CPI",
         "rawType": "float64",
         "type": "float"
        },
        {
         "name": "Unemployment",
         "rawType": "float64",
         "type": "float"
        }
       ],
       "ref": "3d2900e9-27b9-426b-b569-295fd1efb04d",
       "rows": [
        [
         "1",
         "1",
         "2010-12-02 00:00:00",
         "1641957.44",
         "True",
         "38.51",
         "2.548",
         "211.2421698",
         "8.106"
        ],
        [
         "31",
         "1",
         "2010-10-09 00:00:00",
         "1507460.69",
         "True",
         "78.69",
         "2.565",
         "211.4951902",
         "7.787"
        ],
        [
         "42",
         "1",
         "2010-11-26 00:00:00",
         "1955624.11",
         "True",
         "64.52",
         "2.735",
         "211.7484333",
         "7.838"
        ],
        [
         "47",
         "1",
         "2010-12-31 00:00:00",
         "1367320.01",
         "True",
         "48.43",
         "2.943",
         "211.4049321",
         "7.838"
        ],
        [
         "53",
         "1",
         "2011-11-02 00:00:00",
         "1649614.93",
         "True",
         "36.39",
         "3.022",
         "212.9367046",
         "7.742"
        ],
        [
         "83",
         "1",
         "2011-09-09 00:00:00",
         "1540471.24",
         "True",
         "76.0",
         "3.546",
         "215.861056",
         "7.962"
        ],
        [
         "94",
         "1",
         "2011-11-25 00:00:00",
         "2033320.66",
         "True",
         "60.14",
         "3.236",
         "218.4676211",
         "7.866"
        ],
        [
         "99",
         "1",
         "2011-12-30 00:00:00",
         "1497462.72",
         "True",
         "44.55",
         "3.129",
         "219.5359898",
         "7.866"
        ],
        [
         "105",
         "1",
         "2012-10-02 00:00:00",
         "1802477.43",
         "True",
         "48.02",
         "3.409",
         "220.2651783",
         "7.348"
        ],
        [
         "135",
         "1",
         "2012-07-09 00:00:00",
         "1661767.33",
         "True",
         "83.96",
         "3.73",
         "222.4390153",
         "6.908"
        ],
        [
         "144",
         "2",
         "2010-12-02 00:00:00",
         "2137809.5",
         "True",
         "38.49",
         "2.548",
         "210.8979935",
         "8.324"
        ],
        [
         "174",
         "2",
         "2010-10-09 00:00:00",
         "1839128.83",
         "True",
         "79.09",
         "2.565",
         "211.1532104",
         "8.099"
        ],
        [
         "185",
         "2",
         "2010-11-26 00:00:00",
         "2658725.29",
         "True",
         "62.98",
         "2.735",
         "211.4062867",
         "8.163"
        ],
        [
         "190",
         "2",
         "2010-12-31 00:00:00",
         "1750434.55",
         "True",
         "47.3",
         "2.943",
         "211.064774",
         "8.163"
        ],
        [
         "196",
         "2",
         "2011-11-02 00:00:00",
         "2168041.61",
         "True",
         "33.19",
         "3.022",
         "212.5928624",
         "8.028"
        ],
        [
         "226",
         "2",
         "2011-09-09 00:00:00",
         "1748000.65",
         "True",
         "77.97",
         "3.546",
         "215.5148295",
         "7.852"
        ],
        [
         "237",
         "2",
         "2011-11-25 00:00:00",
         "2614202.3",
         "True",
         "56.36",
         "3.236",
         "218.1130269",
         "7.441"
        ],
        [
         "242",
         "2",
         "2011-12-30 00:00:00",
         "1874226.52",
         "True",
         "44.57",
         "3.129",
         "219.1773063",
         "7.441"
        ],
        [
         "248",
         "2",
         "2012-10-02 00:00:00",
         "2103322.68",
         "True",
         "46.98",
         "3.409",
         "219.9049073",
         "7.057"
        ],
        [
         "278",
         "2",
         "2012-07-09 00:00:00",
         "1898777.07",
         "True",
         "87.65",
         "3.73",
         "222.0747635",
         "6.565"
        ],
        [
         "287",
         "3",
         "2010-12-02 00:00:00",
         "420728.96",
         "True",
         "47.93",
         "2.548",
         "214.5747916",
         "7.368"
        ],
        [
         "317",
         "3",
         "2010-10-09 00:00:00",
         "352260.97",
         "True",
         "80.84",
         "2.565",
         "214.8065431",
         "7.346"
        ],
        [
         "328",
         "3",
         "2010-11-26 00:00:00",
         "565567.84",
         "True",
         "68.71",
         "2.735",
         "215.0614025",
         "7.564"
        ],
        [
         "333",
         "3",
         "2010-12-31 00:00:00",
         "382677.76",
         "True",
         "53.2",
         "2.943",
         "214.6986466",
         "7.564"
        ],
        [
         "339",
         "3",
         "2011-11-02 00:00:00",
         "430526.21",
         "True",
         "43.57",
         "3.022",
         "216.2660913",
         "7.551"
        ],
        [
         "369",
         "3",
         "2011-09-09 00:00:00",
         "377347.49",
         "True",
         "81.72",
         "3.546",
         "219.2135305",
         "7.567"
        ],
        [
         "380",
         "3",
         "2011-11-25 00:00:00",
         "556925.19",
         "True",
         "68.0",
         "3.236",
         "221.9011185",
         "7.197"
        ],
        [
         "385",
         "3",
         "2011-12-30 00:00:00",
         "410553.88",
         "True",
         "48.29",
         "3.129",
         "223.0090839",
         "7.197"
        ],
        [
         "391",
         "3",
         "2012-10-02 00:00:00",
         "473292.47",
         "True",
         "51.65",
         "3.409",
         "223.753643",
         "6.833"
        ],
        [
         "421",
         "3",
         "2012-07-09 00:00:00",
         "408229.73",
         "True",
         "84.99",
         "3.73",
         "225.9660263",
         "6.334"
        ],
        [
         "430",
         "4",
         "2010-12-02 00:00:00",
         "2188307.39",
         "True",
         "28.84",
         "2.573",
         "126.4962581",
         "8.623"
        ],
        [
         "460",
         "4",
         "2010-10-09 00:00:00",
         "1865820.81",
         "True",
         "73.54",
         "2.574",
         "126.1145806",
         "7.372"
        ],
        [
         "471",
         "4",
         "2010-11-26 00:00:00",
         "2789469.45",
         "True",
         "48.08",
         "2.752",
         "126.6692667",
         "7.127"
        ],
        [
         "476",
         "4",
         "2010-12-31 00:00:00",
         "1794868.74",
         "True",
         "38.09",
         "2.955",
         "127.0876774",
         "7.127"
        ],
        [
         "482",
         "4",
         "2011-11-02 00:00:00",
         "2187847.29",
         "True",
         "33.29",
         "3.033",
         "127.859129",
         "6.51"
        ],
        [
         "512",
         "4",
         "2011-09-09 00:00:00",
         "2093139.01",
         "True",
         "73.34",
         "3.554",
         "129.3686129",
         "5.644"
        ],
        [
         "523",
         "4",
         "2011-11-25 00:00:00",
         "3004702.33",
         "True",
         "47.96",
         "3.225",
         "129.8364",
         "5.143"
        ],
        [
         "528",
         "4",
         "2011-12-30 00:00:00",
         "2007105.86",
         "True",
         "36.89",
         "3.119",
         "130.0710323",
         "5.143"
        ],
        [
         "534",
         "4",
         "2012-10-02 00:00:00",
         "2374660.64",
         "True",
         "33.0",
         "3.411",
         "130.3849032",
         "4.607"
        ],
        [
         "564",
         "4",
         "2012-07-09 00:00:00",
         "2125104.72",
         "True",
         "82.09",
         "3.709",
         "130.9325484",
         "4.077"
        ],
        [
         "573",
         "5",
         "2010-12-02 00:00:00",
         "311825.7",
         "True",
         "39.81",
         "2.548",
         "211.8004698",
         "6.566"
        ],
        [
         "603",
         "5",
         "2010-10-09 00:00:00",
         "306533.08",
         "True",
         "79.86",
         "2.565",
         "212.0499271",
         "6.496"
        ],
        [
         "614",
         "5",
         "2010-11-26 00:00:00",
         "488362.61",
         "True",
         "66.15",
         "2.735",
         "212.303441",
         "6.768"
        ],
        [
         "619",
         "5",
         "2010-12-31 00:00:00",
         "298180.18",
         "True",
         "49.79",
         "2.943",
         "211.9567142",
         "6.768"
        ],
        [
         "625",
         "5",
         "2011-11-02 00:00:00",
         "311590.54",
         "True",
         "38.25",
         "3.022",
         "213.4944627",
         "6.634"
        ],
        [
         "655",
         "5",
         "2011-09-09 00:00:00",
         "321110.22",
         "True",
         "79.04",
         "3.546",
         "216.4226819",
         "6.529"
        ],
        [
         "666",
         "5",
         "2011-11-25 00:00:00",
         "507900.07",
         "True",
         "61.93",
         "3.236",
         "219.0428204",
         "6.3"
        ],
        [
         "671",
         "5",
         "2011-12-30 00:00:00",
         "349624.88",
         "True",
         "45.62",
         "3.129",
         "220.1178226",
         "6.3"
        ],
        [
         "677",
         "5",
         "2012-10-02 00:00:00",
         "349239.88",
         "True",
         "48.57",
         "3.409",
         "220.849586",
         "5.943"
        ],
        [
         "707",
         "5",
         "2012-07-09 00:00:00",
         "350648.91",
         "True",
         "86.3",
         "3.73",
         "223.0298805",
         "5.603"
        ]
       ],
       "shape": {
        "columns": 8,
        "rows": 450
       }
      },
      "text/html": [
       "<div>\n",
       "<style scoped>\n",
       "    .dataframe tbody tr th:only-of-type {\n",
       "        vertical-align: middle;\n",
       "    }\n",
       "\n",
       "    .dataframe tbody tr th {\n",
       "        vertical-align: top;\n",
       "    }\n",
       "\n",
       "    .dataframe thead th {\n",
       "        text-align: right;\n",
       "    }\n",
       "</style>\n",
       "<table border=\"1\" class=\"dataframe\">\n",
       "  <thead>\n",
       "    <tr style=\"text-align: right;\">\n",
       "      <th></th>\n",
       "      <th>Store</th>\n",
       "      <th>Date</th>\n",
       "      <th>Weekly_Sales</th>\n",
       "      <th>Holiday_Flag</th>\n",
       "      <th>Temperature</th>\n",
       "      <th>Fuel_Price</th>\n",
       "      <th>CPI</th>\n",
       "      <th>Unemployment</th>\n",
       "    </tr>\n",
       "  </thead>\n",
       "  <tbody>\n",
       "    <tr>\n",
       "      <th>1</th>\n",
       "      <td>1</td>\n",
       "      <td>2010-12-02</td>\n",
       "      <td>1641957.44</td>\n",
       "      <td>True</td>\n",
       "      <td>38.51</td>\n",
       "      <td>2.548</td>\n",
       "      <td>211.242170</td>\n",
       "      <td>8.106</td>\n",
       "    </tr>\n",
       "    <tr>\n",
       "      <th>31</th>\n",
       "      <td>1</td>\n",
       "      <td>2010-10-09</td>\n",
       "      <td>1507460.69</td>\n",
       "      <td>True</td>\n",
       "      <td>78.69</td>\n",
       "      <td>2.565</td>\n",
       "      <td>211.495190</td>\n",
       "      <td>7.787</td>\n",
       "    </tr>\n",
       "    <tr>\n",
       "      <th>42</th>\n",
       "      <td>1</td>\n",
       "      <td>2010-11-26</td>\n",
       "      <td>1955624.11</td>\n",
       "      <td>True</td>\n",
       "      <td>64.52</td>\n",
       "      <td>2.735</td>\n",
       "      <td>211.748433</td>\n",
       "      <td>7.838</td>\n",
       "    </tr>\n",
       "    <tr>\n",
       "      <th>47</th>\n",
       "      <td>1</td>\n",
       "      <td>2010-12-31</td>\n",
       "      <td>1367320.01</td>\n",
       "      <td>True</td>\n",
       "      <td>48.43</td>\n",
       "      <td>2.943</td>\n",
       "      <td>211.404932</td>\n",
       "      <td>7.838</td>\n",
       "    </tr>\n",
       "    <tr>\n",
       "      <th>53</th>\n",
       "      <td>1</td>\n",
       "      <td>2011-11-02</td>\n",
       "      <td>1649614.93</td>\n",
       "      <td>True</td>\n",
       "      <td>36.39</td>\n",
       "      <td>3.022</td>\n",
       "      <td>212.936705</td>\n",
       "      <td>7.742</td>\n",
       "    </tr>\n",
       "    <tr>\n",
       "      <th>...</th>\n",
       "      <td>...</td>\n",
       "      <td>...</td>\n",
       "      <td>...</td>\n",
       "      <td>...</td>\n",
       "      <td>...</td>\n",
       "      <td>...</td>\n",
       "      <td>...</td>\n",
       "      <td>...</td>\n",
       "    </tr>\n",
       "    <tr>\n",
       "      <th>6375</th>\n",
       "      <td>45</td>\n",
       "      <td>2011-09-09</td>\n",
       "      <td>746129.56</td>\n",
       "      <td>True</td>\n",
       "      <td>71.48</td>\n",
       "      <td>3.738</td>\n",
       "      <td>186.673738</td>\n",
       "      <td>8.625</td>\n",
       "    </tr>\n",
       "    <tr>\n",
       "      <th>6386</th>\n",
       "      <td>45</td>\n",
       "      <td>2011-11-25</td>\n",
       "      <td>1170672.94</td>\n",
       "      <td>True</td>\n",
       "      <td>48.71</td>\n",
       "      <td>3.492</td>\n",
       "      <td>188.350400</td>\n",
       "      <td>8.523</td>\n",
       "    </tr>\n",
       "    <tr>\n",
       "      <th>6391</th>\n",
       "      <td>45</td>\n",
       "      <td>2011-12-30</td>\n",
       "      <td>869403.63</td>\n",
       "      <td>True</td>\n",
       "      <td>37.79</td>\n",
       "      <td>3.389</td>\n",
       "      <td>189.062016</td>\n",
       "      <td>8.523</td>\n",
       "    </tr>\n",
       "    <tr>\n",
       "      <th>6397</th>\n",
       "      <td>45</td>\n",
       "      <td>2012-10-02</td>\n",
       "      <td>803657.12</td>\n",
       "      <td>True</td>\n",
       "      <td>37.00</td>\n",
       "      <td>3.640</td>\n",
       "      <td>189.707605</td>\n",
       "      <td>8.424</td>\n",
       "    </tr>\n",
       "    <tr>\n",
       "      <th>6427</th>\n",
       "      <td>45</td>\n",
       "      <td>2012-07-09</td>\n",
       "      <td>766512.66</td>\n",
       "      <td>True</td>\n",
       "      <td>75.70</td>\n",
       "      <td>3.911</td>\n",
       "      <td>191.577676</td>\n",
       "      <td>8.684</td>\n",
       "    </tr>\n",
       "  </tbody>\n",
       "</table>\n",
       "<p>450 rows × 8 columns</p>\n",
       "</div>"
      ],
      "text/plain": [
       "     Store       Date  Weekly_Sales  Holiday_Flag  Temperature  Fuel_Price  \\\n",
       "1        1 2010-12-02    1641957.44          True        38.51       2.548   \n",
       "31       1 2010-10-09    1507460.69          True        78.69       2.565   \n",
       "42       1 2010-11-26    1955624.11          True        64.52       2.735   \n",
       "47       1 2010-12-31    1367320.01          True        48.43       2.943   \n",
       "53       1 2011-11-02    1649614.93          True        36.39       3.022   \n",
       "...    ...        ...           ...           ...          ...         ...   \n",
       "6375    45 2011-09-09     746129.56          True        71.48       3.738   \n",
       "6386    45 2011-11-25    1170672.94          True        48.71       3.492   \n",
       "6391    45 2011-12-30     869403.63          True        37.79       3.389   \n",
       "6397    45 2012-10-02     803657.12          True        37.00       3.640   \n",
       "6427    45 2012-07-09     766512.66          True        75.70       3.911   \n",
       "\n",
       "             CPI  Unemployment  \n",
       "1     211.242170         8.106  \n",
       "31    211.495190         7.787  \n",
       "42    211.748433         7.838  \n",
       "47    211.404932         7.838  \n",
       "53    212.936705         7.742  \n",
       "...          ...           ...  \n",
       "6375  186.673738         8.625  \n",
       "6386  188.350400         8.523  \n",
       "6391  189.062016         8.523  \n",
       "6397  189.707605         8.424  \n",
       "6427  191.577676         8.684  \n",
       "\n",
       "[450 rows x 8 columns]"
      ]
     },
     "execution_count": 54,
     "metadata": {},
     "output_type": "execute_result"
    }
   ],
   "source": [
    "walmart.query('Holiday_Flag == 1')"
   ]
  },
  {
   "cell_type": "code",
   "execution_count": 55,
   "id": "8ae5aecb",
   "metadata": {},
   "outputs": [
    {
     "data": {
      "application/vnd.microsoft.datawrangler.viewer.v0+json": {
       "columns": [
        {
         "name": "index",
         "rawType": "int64",
         "type": "integer"
        },
        {
         "name": "Store",
         "rawType": "category",
         "type": "unknown"
        },
        {
         "name": "Date",
         "rawType": "datetime64[ns]",
         "type": "datetime"
        },
        {
         "name": "Weekly_Sales",
         "rawType": "float64",
         "type": "float"
        },
        {
         "name": "Holiday_Flag",
         "rawType": "bool",
         "type": "boolean"
        },
        {
         "name": "Temperature",
         "rawType": "float64",
         "type": "float"
        },
        {
         "name": "Fuel_Price",
         "rawType": "float64",
         "type": "float"
        },
        {
         "name": "CPI",
         "rawType": "float64",
         "type": "float"
        },
        {
         "name": "Unemployment",
         "rawType": "float64",
         "type": "float"
        }
       ],
       "ref": "4007acfc-4a2d-45b6-af16-fa1c776e44a5",
       "rows": [
        [
         "189",
         "2",
         "2010-12-24 00:00:00",
         "3436007.68",
         "False",
         "49.97",
         "2.886",
         "211.0646599",
         "8.163"
        ],
        [
         "241",
         "2",
         "2011-12-23 00:00:00",
         "3224369.8",
         "False",
         "46.66",
         "3.112",
         "218.9995495",
         "7.441"
        ],
        [
         "475",
         "4",
         "2010-12-24 00:00:00",
         "3526713.39",
         "False",
         "43.21",
         "2.887",
         "126.9835806",
         "7.127"
        ],
        [
         "527",
         "4",
         "2011-12-23 00:00:00",
         "3676388.98",
         "False",
         "35.92",
         "3.103",
         "129.9845484",
         "5.143"
        ],
        [
         "1333",
         "10",
         "2010-12-24 00:00:00",
         "3749057.69",
         "False",
         "57.06",
         "3.236",
         "126.9835806",
         "9.003"
        ],
        [
         "1385",
         "10",
         "2011-12-23 00:00:00",
         "3487986.89",
         "False",
         "48.36",
         "3.541",
         "129.9845484",
         "7.874"
        ],
        [
         "1762",
         "13",
         "2010-12-24 00:00:00",
         "3595903.2",
         "False",
         "34.9",
         "2.846",
         "126.9835806",
         "7.795"
        ],
        [
         "1814",
         "13",
         "2011-12-23 00:00:00",
         "3556766.03",
         "False",
         "24.76",
         "3.186",
         "129.9845484",
         "6.392"
        ],
        [
         "1905",
         "14",
         "2010-12-24 00:00:00",
         "3818686.45",
         "False",
         "30.59",
         "3.141",
         "182.54459",
         "8.724"
        ],
        [
         "1957",
         "14",
         "2011-12-23 00:00:00",
         "3369068.99",
         "False",
         "42.27",
         "3.389",
         "188.9299752",
         "8.523"
        ],
        [
         "2763",
         "20",
         "2010-12-24 00:00:00",
         "3766687.43",
         "False",
         "25.17",
         "3.141",
         "204.6376731",
         "7.484"
        ],
        [
         "2815",
         "20",
         "2011-12-23 00:00:00",
         "3555371.03",
         "False",
         "40.19",
         "3.389",
         "212.2360401",
         "7.082"
        ],
        [
         "3764",
         "27",
         "2010-12-24 00:00:00",
         "3078162.08",
         "False",
         "31.34",
         "3.309",
         "136.597273",
         "8.021"
        ]
       ],
       "shape": {
        "columns": 8,
        "rows": 13
       }
      },
      "text/html": [
       "<div>\n",
       "<style scoped>\n",
       "    .dataframe tbody tr th:only-of-type {\n",
       "        vertical-align: middle;\n",
       "    }\n",
       "\n",
       "    .dataframe tbody tr th {\n",
       "        vertical-align: top;\n",
       "    }\n",
       "\n",
       "    .dataframe thead th {\n",
       "        text-align: right;\n",
       "    }\n",
       "</style>\n",
       "<table border=\"1\" class=\"dataframe\">\n",
       "  <thead>\n",
       "    <tr style=\"text-align: right;\">\n",
       "      <th></th>\n",
       "      <th>Store</th>\n",
       "      <th>Date</th>\n",
       "      <th>Weekly_Sales</th>\n",
       "      <th>Holiday_Flag</th>\n",
       "      <th>Temperature</th>\n",
       "      <th>Fuel_Price</th>\n",
       "      <th>CPI</th>\n",
       "      <th>Unemployment</th>\n",
       "    </tr>\n",
       "  </thead>\n",
       "  <tbody>\n",
       "    <tr>\n",
       "      <th>189</th>\n",
       "      <td>2</td>\n",
       "      <td>2010-12-24</td>\n",
       "      <td>3436007.68</td>\n",
       "      <td>False</td>\n",
       "      <td>49.97</td>\n",
       "      <td>2.886</td>\n",
       "      <td>211.064660</td>\n",
       "      <td>8.163</td>\n",
       "    </tr>\n",
       "    <tr>\n",
       "      <th>241</th>\n",
       "      <td>2</td>\n",
       "      <td>2011-12-23</td>\n",
       "      <td>3224369.80</td>\n",
       "      <td>False</td>\n",
       "      <td>46.66</td>\n",
       "      <td>3.112</td>\n",
       "      <td>218.999550</td>\n",
       "      <td>7.441</td>\n",
       "    </tr>\n",
       "    <tr>\n",
       "      <th>475</th>\n",
       "      <td>4</td>\n",
       "      <td>2010-12-24</td>\n",
       "      <td>3526713.39</td>\n",
       "      <td>False</td>\n",
       "      <td>43.21</td>\n",
       "      <td>2.887</td>\n",
       "      <td>126.983581</td>\n",
       "      <td>7.127</td>\n",
       "    </tr>\n",
       "    <tr>\n",
       "      <th>527</th>\n",
       "      <td>4</td>\n",
       "      <td>2011-12-23</td>\n",
       "      <td>3676388.98</td>\n",
       "      <td>False</td>\n",
       "      <td>35.92</td>\n",
       "      <td>3.103</td>\n",
       "      <td>129.984548</td>\n",
       "      <td>5.143</td>\n",
       "    </tr>\n",
       "    <tr>\n",
       "      <th>1333</th>\n",
       "      <td>10</td>\n",
       "      <td>2010-12-24</td>\n",
       "      <td>3749057.69</td>\n",
       "      <td>False</td>\n",
       "      <td>57.06</td>\n",
       "      <td>3.236</td>\n",
       "      <td>126.983581</td>\n",
       "      <td>9.003</td>\n",
       "    </tr>\n",
       "    <tr>\n",
       "      <th>1385</th>\n",
       "      <td>10</td>\n",
       "      <td>2011-12-23</td>\n",
       "      <td>3487986.89</td>\n",
       "      <td>False</td>\n",
       "      <td>48.36</td>\n",
       "      <td>3.541</td>\n",
       "      <td>129.984548</td>\n",
       "      <td>7.874</td>\n",
       "    </tr>\n",
       "    <tr>\n",
       "      <th>1762</th>\n",
       "      <td>13</td>\n",
       "      <td>2010-12-24</td>\n",
       "      <td>3595903.20</td>\n",
       "      <td>False</td>\n",
       "      <td>34.90</td>\n",
       "      <td>2.846</td>\n",
       "      <td>126.983581</td>\n",
       "      <td>7.795</td>\n",
       "    </tr>\n",
       "    <tr>\n",
       "      <th>1814</th>\n",
       "      <td>13</td>\n",
       "      <td>2011-12-23</td>\n",
       "      <td>3556766.03</td>\n",
       "      <td>False</td>\n",
       "      <td>24.76</td>\n",
       "      <td>3.186</td>\n",
       "      <td>129.984548</td>\n",
       "      <td>6.392</td>\n",
       "    </tr>\n",
       "    <tr>\n",
       "      <th>1905</th>\n",
       "      <td>14</td>\n",
       "      <td>2010-12-24</td>\n",
       "      <td>3818686.45</td>\n",
       "      <td>False</td>\n",
       "      <td>30.59</td>\n",
       "      <td>3.141</td>\n",
       "      <td>182.544590</td>\n",
       "      <td>8.724</td>\n",
       "    </tr>\n",
       "    <tr>\n",
       "      <th>1957</th>\n",
       "      <td>14</td>\n",
       "      <td>2011-12-23</td>\n",
       "      <td>3369068.99</td>\n",
       "      <td>False</td>\n",
       "      <td>42.27</td>\n",
       "      <td>3.389</td>\n",
       "      <td>188.929975</td>\n",
       "      <td>8.523</td>\n",
       "    </tr>\n",
       "    <tr>\n",
       "      <th>2763</th>\n",
       "      <td>20</td>\n",
       "      <td>2010-12-24</td>\n",
       "      <td>3766687.43</td>\n",
       "      <td>False</td>\n",
       "      <td>25.17</td>\n",
       "      <td>3.141</td>\n",
       "      <td>204.637673</td>\n",
       "      <td>7.484</td>\n",
       "    </tr>\n",
       "    <tr>\n",
       "      <th>2815</th>\n",
       "      <td>20</td>\n",
       "      <td>2011-12-23</td>\n",
       "      <td>3555371.03</td>\n",
       "      <td>False</td>\n",
       "      <td>40.19</td>\n",
       "      <td>3.389</td>\n",
       "      <td>212.236040</td>\n",
       "      <td>7.082</td>\n",
       "    </tr>\n",
       "    <tr>\n",
       "      <th>3764</th>\n",
       "      <td>27</td>\n",
       "      <td>2010-12-24</td>\n",
       "      <td>3078162.08</td>\n",
       "      <td>False</td>\n",
       "      <td>31.34</td>\n",
       "      <td>3.309</td>\n",
       "      <td>136.597273</td>\n",
       "      <td>8.021</td>\n",
       "    </tr>\n",
       "  </tbody>\n",
       "</table>\n",
       "</div>"
      ],
      "text/plain": [
       "     Store       Date  Weekly_Sales  Holiday_Flag  Temperature  Fuel_Price  \\\n",
       "189      2 2010-12-24    3436007.68         False        49.97       2.886   \n",
       "241      2 2011-12-23    3224369.80         False        46.66       3.112   \n",
       "475      4 2010-12-24    3526713.39         False        43.21       2.887   \n",
       "527      4 2011-12-23    3676388.98         False        35.92       3.103   \n",
       "1333    10 2010-12-24    3749057.69         False        57.06       3.236   \n",
       "1385    10 2011-12-23    3487986.89         False        48.36       3.541   \n",
       "1762    13 2010-12-24    3595903.20         False        34.90       2.846   \n",
       "1814    13 2011-12-23    3556766.03         False        24.76       3.186   \n",
       "1905    14 2010-12-24    3818686.45         False        30.59       3.141   \n",
       "1957    14 2011-12-23    3369068.99         False        42.27       3.389   \n",
       "2763    20 2010-12-24    3766687.43         False        25.17       3.141   \n",
       "2815    20 2011-12-23    3555371.03         False        40.19       3.389   \n",
       "3764    27 2010-12-24    3078162.08         False        31.34       3.309   \n",
       "\n",
       "             CPI  Unemployment  \n",
       "189   211.064660         8.163  \n",
       "241   218.999550         7.441  \n",
       "475   126.983581         7.127  \n",
       "527   129.984548         5.143  \n",
       "1333  126.983581         9.003  \n",
       "1385  129.984548         7.874  \n",
       "1762  126.983581         7.795  \n",
       "1814  129.984548         6.392  \n",
       "1905  182.544590         8.724  \n",
       "1957  188.929975         8.523  \n",
       "2763  204.637673         7.484  \n",
       "2815  212.236040         7.082  \n",
       "3764  136.597273         8.021  "
      ]
     },
     "execution_count": 55,
     "metadata": {},
     "output_type": "execute_result"
    }
   ],
   "source": [
    "val = 3049614.93\n",
    "walmart.query('Weekly_Sales > @val')"
   ]
  },
  {
   "cell_type": "code",
   "execution_count": 56,
   "id": "933d923d",
   "metadata": {},
   "outputs": [
    {
     "data": {
      "application/vnd.microsoft.datawrangler.viewer.v0+json": {
       "columns": [
        {
         "name": "index",
         "rawType": "int64",
         "type": "integer"
        },
        {
         "name": "Store",
         "rawType": "category",
         "type": "unknown"
        },
        {
         "name": "Date",
         "rawType": "datetime64[ns]",
         "type": "datetime"
        },
        {
         "name": "Weekly_Sales",
         "rawType": "float64",
         "type": "float"
        },
        {
         "name": "Holiday_Flag",
         "rawType": "bool",
         "type": "boolean"
        },
        {
         "name": "Temperature",
         "rawType": "float64",
         "type": "float"
        },
        {
         "name": "Fuel_Price",
         "rawType": "float64",
         "type": "float"
        },
        {
         "name": "CPI",
         "rawType": "float64",
         "type": "float"
        },
        {
         "name": "Unemployment",
         "rawType": "float64",
         "type": "float"
        }
       ],
       "ref": "32e1f219-a8fb-4413-8da6-822d0bedd6df",
       "rows": [
        [
         "1",
         "1",
         "2010-12-02 00:00:00",
         "1641957.44",
         "True",
         "38.51",
         "2.548",
         "211.2421698",
         "8.106"
        ],
        [
         "2",
         "1",
         "2010-02-19 00:00:00",
         "1611968.17",
         "False",
         "39.93",
         "2.514",
         "211.2891429",
         "8.106"
        ],
        [
         "3",
         "1",
         "2010-02-26 00:00:00",
         "1409727.59",
         "False",
         "46.63",
         "2.561",
         "211.3196429",
         "8.106"
        ],
        [
         "4",
         "1",
         "2010-05-03 00:00:00",
         "1554806.68",
         "False",
         "46.5",
         "2.625",
         "211.3501429",
         "8.106"
        ],
        [
         "5",
         "1",
         "2010-12-03 00:00:00",
         "1439541.59",
         "False",
         "57.79",
         "2.667",
         "211.3806429",
         "8.106"
        ],
        [
         "6",
         "1",
         "2010-03-19 00:00:00",
         "1472515.79",
         "False",
         "54.58",
         "2.72",
         "211.215635",
         "8.106"
        ]
       ],
       "shape": {
        "columns": 8,
        "rows": 6
       }
      },
      "text/html": [
       "<div>\n",
       "<style scoped>\n",
       "    .dataframe tbody tr th:only-of-type {\n",
       "        vertical-align: middle;\n",
       "    }\n",
       "\n",
       "    .dataframe tbody tr th {\n",
       "        vertical-align: top;\n",
       "    }\n",
       "\n",
       "    .dataframe thead th {\n",
       "        text-align: right;\n",
       "    }\n",
       "</style>\n",
       "<table border=\"1\" class=\"dataframe\">\n",
       "  <thead>\n",
       "    <tr style=\"text-align: right;\">\n",
       "      <th></th>\n",
       "      <th>Store</th>\n",
       "      <th>Date</th>\n",
       "      <th>Weekly_Sales</th>\n",
       "      <th>Holiday_Flag</th>\n",
       "      <th>Temperature</th>\n",
       "      <th>Fuel_Price</th>\n",
       "      <th>CPI</th>\n",
       "      <th>Unemployment</th>\n",
       "    </tr>\n",
       "  </thead>\n",
       "  <tbody>\n",
       "    <tr>\n",
       "      <th>1</th>\n",
       "      <td>1</td>\n",
       "      <td>2010-12-02</td>\n",
       "      <td>1641957.44</td>\n",
       "      <td>True</td>\n",
       "      <td>38.51</td>\n",
       "      <td>2.548</td>\n",
       "      <td>211.242170</td>\n",
       "      <td>8.106</td>\n",
       "    </tr>\n",
       "    <tr>\n",
       "      <th>2</th>\n",
       "      <td>1</td>\n",
       "      <td>2010-02-19</td>\n",
       "      <td>1611968.17</td>\n",
       "      <td>False</td>\n",
       "      <td>39.93</td>\n",
       "      <td>2.514</td>\n",
       "      <td>211.289143</td>\n",
       "      <td>8.106</td>\n",
       "    </tr>\n",
       "    <tr>\n",
       "      <th>3</th>\n",
       "      <td>1</td>\n",
       "      <td>2010-02-26</td>\n",
       "      <td>1409727.59</td>\n",
       "      <td>False</td>\n",
       "      <td>46.63</td>\n",
       "      <td>2.561</td>\n",
       "      <td>211.319643</td>\n",
       "      <td>8.106</td>\n",
       "    </tr>\n",
       "    <tr>\n",
       "      <th>4</th>\n",
       "      <td>1</td>\n",
       "      <td>2010-05-03</td>\n",
       "      <td>1554806.68</td>\n",
       "      <td>False</td>\n",
       "      <td>46.50</td>\n",
       "      <td>2.625</td>\n",
       "      <td>211.350143</td>\n",
       "      <td>8.106</td>\n",
       "    </tr>\n",
       "    <tr>\n",
       "      <th>5</th>\n",
       "      <td>1</td>\n",
       "      <td>2010-12-03</td>\n",
       "      <td>1439541.59</td>\n",
       "      <td>False</td>\n",
       "      <td>57.79</td>\n",
       "      <td>2.667</td>\n",
       "      <td>211.380643</td>\n",
       "      <td>8.106</td>\n",
       "    </tr>\n",
       "    <tr>\n",
       "      <th>6</th>\n",
       "      <td>1</td>\n",
       "      <td>2010-03-19</td>\n",
       "      <td>1472515.79</td>\n",
       "      <td>False</td>\n",
       "      <td>54.58</td>\n",
       "      <td>2.720</td>\n",
       "      <td>211.215635</td>\n",
       "      <td>8.106</td>\n",
       "    </tr>\n",
       "  </tbody>\n",
       "</table>\n",
       "</div>"
      ],
      "text/plain": [
       "  Store       Date  Weekly_Sales  Holiday_Flag  Temperature  Fuel_Price  \\\n",
       "1     1 2010-12-02    1641957.44          True        38.51       2.548   \n",
       "2     1 2010-02-19    1611968.17         False        39.93       2.514   \n",
       "3     1 2010-02-26    1409727.59         False        46.63       2.561   \n",
       "4     1 2010-05-03    1554806.68         False        46.50       2.625   \n",
       "5     1 2010-12-03    1439541.59         False        57.79       2.667   \n",
       "6     1 2010-03-19    1472515.79         False        54.58       2.720   \n",
       "\n",
       "          CPI  Unemployment  \n",
       "1  211.242170         8.106  \n",
       "2  211.289143         8.106  \n",
       "3  211.319643         8.106  \n",
       "4  211.350143         8.106  \n",
       "5  211.380643         8.106  \n",
       "6  211.215635         8.106  "
      ]
     },
     "execution_count": 56,
     "metadata": {},
     "output_type": "execute_result"
    }
   ],
   "source": [
    "walmart.query('1 <= index < 7')"
   ]
  },
  {
   "cell_type": "code",
   "execution_count": 57,
   "id": "b103a0ea",
   "metadata": {},
   "outputs": [
    {
     "data": {
      "application/vnd.microsoft.datawrangler.viewer.v0+json": {
       "columns": [
        {
         "name": "index",
         "rawType": "int64",
         "type": "integer"
        },
        {
         "name": "Store",
         "rawType": "category",
         "type": "unknown"
        },
        {
         "name": "Date",
         "rawType": "datetime64[ns]",
         "type": "datetime"
        },
        {
         "name": "Weekly_Sales",
         "rawType": "float64",
         "type": "float"
        },
        {
         "name": "Holiday_Flag",
         "rawType": "bool",
         "type": "boolean"
        },
        {
         "name": "Temperature",
         "rawType": "float64",
         "type": "float"
        },
        {
         "name": "Fuel_Price",
         "rawType": "float64",
         "type": "float"
        },
        {
         "name": "CPI",
         "rawType": "float64",
         "type": "float"
        },
        {
         "name": "Unemployment",
         "rawType": "float64",
         "type": "float"
        }
       ],
       "ref": "f4321751-31a3-4ca8-b825-f65eb1721479",
       "rows": [
        [
         "0",
         "1",
         "2010-05-02 00:00:00",
         "1643690.9",
         "False",
         "42.31",
         "2.572",
         "211.0963582",
         "8.106"
        ],
        [
         "1",
         "1",
         "2010-12-02 00:00:00",
         "1641957.44",
         "True",
         "38.51",
         "2.548",
         "211.2421698",
         "8.106"
        ],
        [
         "2",
         "1",
         "2010-02-19 00:00:00",
         "1611968.17",
         "False",
         "39.93",
         "2.514",
         "211.2891429",
         "8.106"
        ],
        [
         "3",
         "1",
         "2010-02-26 00:00:00",
         "1409727.59",
         "False",
         "46.63",
         "2.561",
         "211.3196429",
         "8.106"
        ],
        [
         "4",
         "1",
         "2010-05-03 00:00:00",
         "1554806.68",
         "False",
         "46.5",
         "2.625",
         "211.3501429",
         "8.106"
        ],
        [
         "5",
         "1",
         "2010-12-03 00:00:00",
         "1439541.59",
         "False",
         "57.79",
         "2.667",
         "211.3806429",
         "8.106"
        ],
        [
         "6",
         "1",
         "2010-03-19 00:00:00",
         "1472515.79",
         "False",
         "54.58",
         "2.72",
         "211.215635",
         "8.106"
        ],
        [
         "7",
         "1",
         "2010-03-26 00:00:00",
         "1404429.92",
         "False",
         "51.45",
         "2.732",
         "211.0180424",
         "8.106"
        ],
        [
         "8",
         "1",
         "2010-02-04 00:00:00",
         "1594968.28",
         "False",
         "62.27",
         "2.719",
         "210.8204499",
         "7.808"
        ],
        [
         "9",
         "1",
         "2010-09-04 00:00:00",
         "1545418.53",
         "False",
         "65.86",
         "2.77",
         "210.6228574",
         "7.808"
        ],
        [
         "10",
         "1",
         "2010-04-16 00:00:00",
         "1466058.28",
         "False",
         "66.32",
         "2.808",
         "210.4887",
         "7.808"
        ],
        [
         "11",
         "1",
         "2010-04-23 00:00:00",
         "1391256.12",
         "False",
         "64.84",
         "2.795",
         "210.4391228",
         "7.808"
        ],
        [
         "12",
         "1",
         "2010-04-30 00:00:00",
         "1425100.71",
         "False",
         "67.41",
         "2.78",
         "210.3895456",
         "7.808"
        ],
        [
         "13",
         "1",
         "2010-07-05 00:00:00",
         "1603955.12",
         "False",
         "72.55",
         "2.835",
         "210.3399684",
         "7.808"
        ],
        [
         "14",
         "1",
         "2010-05-14 00:00:00",
         "1494251.5",
         "False",
         "74.78",
         "2.854",
         "210.3374261",
         "7.808"
        ],
        [
         "15",
         "1",
         "2010-05-21 00:00:00",
         "1399662.07",
         "False",
         "76.44",
         "2.826",
         "210.6170934",
         "7.808"
        ],
        [
         "16",
         "1",
         "2010-05-28 00:00:00",
         "1432069.95",
         "False",
         "80.44",
         "2.759",
         "210.8967606",
         "7.808"
        ],
        [
         "17",
         "1",
         "2010-04-06 00:00:00",
         "1615524.71",
         "False",
         "80.69",
         "2.705",
         "211.1764278",
         "7.808"
        ],
        [
         "18",
         "1",
         "2010-11-06 00:00:00",
         "1542561.09",
         "False",
         "80.43",
         "2.668",
         "211.4560951",
         "7.808"
        ],
        [
         "19",
         "1",
         "2010-06-18 00:00:00",
         "1503284.06",
         "False",
         "84.11",
         "2.637",
         "211.4537719",
         "7.808"
        ],
        [
         "20",
         "1",
         "2010-06-25 00:00:00",
         "1422711.6",
         "False",
         "84.34",
         "2.653",
         "211.3386526",
         "7.808"
        ],
        [
         "21",
         "1",
         "2010-02-07 00:00:00",
         "1492418.14",
         "False",
         "80.91",
         "2.669",
         "211.2235333",
         "7.787"
        ],
        [
         "22",
         "1",
         "2010-09-07 00:00:00",
         "1546074.18",
         "False",
         "80.48",
         "2.642",
         "211.108414",
         "7.787"
        ],
        [
         "23",
         "1",
         "2010-07-16 00:00:00",
         "1448938.92",
         "False",
         "83.15",
         "2.623",
         "211.1003854",
         "7.787"
        ],
        [
         "24",
         "1",
         "2010-07-23 00:00:00",
         "1385065.2",
         "False",
         "83.36",
         "2.608",
         "211.2351443",
         "7.787"
        ],
        [
         "25",
         "1",
         "2010-07-30 00:00:00",
         "1371986.6",
         "False",
         "81.84",
         "2.64",
         "211.3699032",
         "7.787"
        ],
        [
         "26",
         "1",
         "2010-06-08 00:00:00",
         "1605491.78",
         "False",
         "87.16",
         "2.627",
         "211.5046621",
         "7.787"
        ],
        [
         "27",
         "1",
         "2010-08-13 00:00:00",
         "1508237.76",
         "False",
         "87.0",
         "2.692",
         "211.6394211",
         "7.787"
        ],
        [
         "28",
         "1",
         "2010-08-20 00:00:00",
         "1513080.49",
         "False",
         "86.65",
         "2.664",
         "211.6033633",
         "7.787"
        ],
        [
         "29",
         "1",
         "2010-08-27 00:00:00",
         "1449142.92",
         "False",
         "85.22",
         "2.619",
         "211.5673056",
         "7.787"
        ],
        [
         "30",
         "1",
         "2010-03-09 00:00:00",
         "1540163.53",
         "False",
         "81.21",
         "2.577",
         "211.5312479",
         "7.787"
        ],
        [
         "31",
         "1",
         "2010-10-09 00:00:00",
         "1507460.69",
         "True",
         "78.69",
         "2.565",
         "211.4951902",
         "7.787"
        ],
        [
         "32",
         "1",
         "2010-09-17 00:00:00",
         "1430378.67",
         "False",
         "82.11",
         "2.582",
         "211.5224596",
         "7.787"
        ],
        [
         "33",
         "1",
         "2010-09-24 00:00:00",
         "1351791.03",
         "False",
         "80.94",
         "2.624",
         "211.5972246",
         "7.787"
        ],
        [
         "34",
         "1",
         "2010-01-10 00:00:00",
         "1453329.5",
         "False",
         "71.89",
         "2.603",
         "211.6719895",
         "7.838"
        ],
        [
         "35",
         "1",
         "2010-08-10 00:00:00",
         "1508239.93",
         "False",
         "63.93",
         "2.633",
         "211.7467544",
         "7.838"
        ],
        [
         "36",
         "1",
         "2010-10-15 00:00:00",
         "1459409.1",
         "False",
         "67.18",
         "2.72",
         "211.8137436",
         "7.838"
        ],
        [
         "37",
         "1",
         "2010-10-22 00:00:00",
         "1345454.0",
         "False",
         "69.86",
         "2.725",
         "211.8612937",
         "7.838"
        ],
        [
         "38",
         "1",
         "2010-10-29 00:00:00",
         "1384209.22",
         "False",
         "69.64",
         "2.716",
         "211.9088438",
         "7.838"
        ],
        [
         "39",
         "1",
         "2010-05-11 00:00:00",
         "1551659.28",
         "False",
         "58.74",
         "2.689",
         "211.9563939",
         "7.838"
        ],
        [
         "40",
         "1",
         "2010-12-11 00:00:00",
         "1494479.49",
         "False",
         "59.61",
         "2.728",
         "212.003944",
         "7.838"
        ],
        [
         "41",
         "1",
         "2010-11-19 00:00:00",
         "1483784.18",
         "False",
         "51.41",
         "2.771",
         "211.8896737",
         "7.838"
        ],
        [
         "42",
         "1",
         "2010-11-26 00:00:00",
         "1955624.11",
         "True",
         "64.52",
         "2.735",
         "211.7484333",
         "7.838"
        ],
        [
         "43",
         "1",
         "2010-03-12 00:00:00",
         "1548033.78",
         "False",
         "49.27",
         "2.708",
         "211.607193",
         "7.838"
        ],
        [
         "44",
         "1",
         "2010-10-12 00:00:00",
         "1682614.26",
         "False",
         "46.33",
         "2.843",
         "211.4659526",
         "7.838"
        ],
        [
         "45",
         "1",
         "2010-12-17 00:00:00",
         "1891034.93",
         "False",
         "49.84",
         "2.869",
         "211.4053124",
         "7.838"
        ],
        [
         "46",
         "1",
         "2010-12-24 00:00:00",
         "2387950.2",
         "False",
         "52.33",
         "2.886",
         "211.4051222",
         "7.838"
        ],
        [
         "47",
         "1",
         "2010-12-31 00:00:00",
         "1367320.01",
         "True",
         "48.43",
         "2.943",
         "211.4049321",
         "7.838"
        ],
        [
         "48",
         "1",
         "2011-07-01 00:00:00",
         "1444732.28",
         "False",
         "48.27",
         "2.976",
         "211.4047419",
         "7.742"
        ],
        [
         "49",
         "1",
         "2011-01-14 00:00:00",
         "1391013.96",
         "False",
         "35.4",
         "2.983",
         "211.4574109",
         "7.742"
        ]
       ],
       "shape": {
        "columns": 8,
        "rows": 286
       }
      },
      "text/html": [
       "<div>\n",
       "<style scoped>\n",
       "    .dataframe tbody tr th:only-of-type {\n",
       "        vertical-align: middle;\n",
       "    }\n",
       "\n",
       "    .dataframe tbody tr th {\n",
       "        vertical-align: top;\n",
       "    }\n",
       "\n",
       "    .dataframe thead th {\n",
       "        text-align: right;\n",
       "    }\n",
       "</style>\n",
       "<table border=\"1\" class=\"dataframe\">\n",
       "  <thead>\n",
       "    <tr style=\"text-align: right;\">\n",
       "      <th></th>\n",
       "      <th>Store</th>\n",
       "      <th>Date</th>\n",
       "      <th>Weekly_Sales</th>\n",
       "      <th>Holiday_Flag</th>\n",
       "      <th>Temperature</th>\n",
       "      <th>Fuel_Price</th>\n",
       "      <th>CPI</th>\n",
       "      <th>Unemployment</th>\n",
       "    </tr>\n",
       "  </thead>\n",
       "  <tbody>\n",
       "    <tr>\n",
       "      <th>0</th>\n",
       "      <td>1</td>\n",
       "      <td>2010-05-02</td>\n",
       "      <td>1643690.90</td>\n",
       "      <td>False</td>\n",
       "      <td>42.31</td>\n",
       "      <td>2.572</td>\n",
       "      <td>211.096358</td>\n",
       "      <td>8.106</td>\n",
       "    </tr>\n",
       "    <tr>\n",
       "      <th>1</th>\n",
       "      <td>1</td>\n",
       "      <td>2010-12-02</td>\n",
       "      <td>1641957.44</td>\n",
       "      <td>True</td>\n",
       "      <td>38.51</td>\n",
       "      <td>2.548</td>\n",
       "      <td>211.242170</td>\n",
       "      <td>8.106</td>\n",
       "    </tr>\n",
       "    <tr>\n",
       "      <th>2</th>\n",
       "      <td>1</td>\n",
       "      <td>2010-02-19</td>\n",
       "      <td>1611968.17</td>\n",
       "      <td>False</td>\n",
       "      <td>39.93</td>\n",
       "      <td>2.514</td>\n",
       "      <td>211.289143</td>\n",
       "      <td>8.106</td>\n",
       "    </tr>\n",
       "    <tr>\n",
       "      <th>3</th>\n",
       "      <td>1</td>\n",
       "      <td>2010-02-26</td>\n",
       "      <td>1409727.59</td>\n",
       "      <td>False</td>\n",
       "      <td>46.63</td>\n",
       "      <td>2.561</td>\n",
       "      <td>211.319643</td>\n",
       "      <td>8.106</td>\n",
       "    </tr>\n",
       "    <tr>\n",
       "      <th>4</th>\n",
       "      <td>1</td>\n",
       "      <td>2010-05-03</td>\n",
       "      <td>1554806.68</td>\n",
       "      <td>False</td>\n",
       "      <td>46.50</td>\n",
       "      <td>2.625</td>\n",
       "      <td>211.350143</td>\n",
       "      <td>8.106</td>\n",
       "    </tr>\n",
       "    <tr>\n",
       "      <th>...</th>\n",
       "      <td>...</td>\n",
       "      <td>...</td>\n",
       "      <td>...</td>\n",
       "      <td>...</td>\n",
       "      <td>...</td>\n",
       "      <td>...</td>\n",
       "      <td>...</td>\n",
       "      <td>...</td>\n",
       "    </tr>\n",
       "    <tr>\n",
       "      <th>281</th>\n",
       "      <td>2</td>\n",
       "      <td>2012-09-28</td>\n",
       "      <td>1746470.56</td>\n",
       "      <td>False</td>\n",
       "      <td>79.45</td>\n",
       "      <td>3.666</td>\n",
       "      <td>222.616433</td>\n",
       "      <td>6.565</td>\n",
       "    </tr>\n",
       "    <tr>\n",
       "      <th>282</th>\n",
       "      <td>2</td>\n",
       "      <td>2012-05-10</td>\n",
       "      <td>1998321.04</td>\n",
       "      <td>False</td>\n",
       "      <td>70.27</td>\n",
       "      <td>3.617</td>\n",
       "      <td>222.815930</td>\n",
       "      <td>6.170</td>\n",
       "    </tr>\n",
       "    <tr>\n",
       "      <th>283</th>\n",
       "      <td>2</td>\n",
       "      <td>2012-12-10</td>\n",
       "      <td>1900745.13</td>\n",
       "      <td>False</td>\n",
       "      <td>60.97</td>\n",
       "      <td>3.601</td>\n",
       "      <td>223.015426</td>\n",
       "      <td>6.170</td>\n",
       "    </tr>\n",
       "    <tr>\n",
       "      <th>284</th>\n",
       "      <td>2</td>\n",
       "      <td>2012-10-19</td>\n",
       "      <td>1847990.41</td>\n",
       "      <td>False</td>\n",
       "      <td>68.08</td>\n",
       "      <td>3.594</td>\n",
       "      <td>223.059808</td>\n",
       "      <td>6.170</td>\n",
       "    </tr>\n",
       "    <tr>\n",
       "      <th>285</th>\n",
       "      <td>2</td>\n",
       "      <td>2012-10-26</td>\n",
       "      <td>1834458.35</td>\n",
       "      <td>False</td>\n",
       "      <td>69.79</td>\n",
       "      <td>3.506</td>\n",
       "      <td>223.078337</td>\n",
       "      <td>6.170</td>\n",
       "    </tr>\n",
       "  </tbody>\n",
       "</table>\n",
       "<p>286 rows × 8 columns</p>\n",
       "</div>"
      ],
      "text/plain": [
       "    Store       Date  Weekly_Sales  Holiday_Flag  Temperature  Fuel_Price  \\\n",
       "0       1 2010-05-02    1643690.90         False        42.31       2.572   \n",
       "1       1 2010-12-02    1641957.44          True        38.51       2.548   \n",
       "2       1 2010-02-19    1611968.17         False        39.93       2.514   \n",
       "3       1 2010-02-26    1409727.59         False        46.63       2.561   \n",
       "4       1 2010-05-03    1554806.68         False        46.50       2.625   \n",
       "..    ...        ...           ...           ...          ...         ...   \n",
       "281     2 2012-09-28    1746470.56         False        79.45       3.666   \n",
       "282     2 2012-05-10    1998321.04         False        70.27       3.617   \n",
       "283     2 2012-12-10    1900745.13         False        60.97       3.601   \n",
       "284     2 2012-10-19    1847990.41         False        68.08       3.594   \n",
       "285     2 2012-10-26    1834458.35         False        69.79       3.506   \n",
       "\n",
       "            CPI  Unemployment  \n",
       "0    211.096358         8.106  \n",
       "1    211.242170         8.106  \n",
       "2    211.289143         8.106  \n",
       "3    211.319643         8.106  \n",
       "4    211.350143         8.106  \n",
       "..          ...           ...  \n",
       "281  222.616433         6.565  \n",
       "282  222.815930         6.170  \n",
       "283  223.015426         6.170  \n",
       "284  223.059808         6.170  \n",
       "285  223.078337         6.170  \n",
       "\n",
       "[286 rows x 8 columns]"
      ]
     },
     "execution_count": 57,
     "metadata": {},
     "output_type": "execute_result"
    }
   ],
   "source": [
    "walmart.query(\"Store in [1,2]\")"
   ]
  },
  {
   "cell_type": "code",
   "execution_count": 58,
   "id": "a6b88c9c",
   "metadata": {},
   "outputs": [
    {
     "data": {
      "application/vnd.microsoft.datawrangler.viewer.v0+json": {
       "columns": [
        {
         "name": "index",
         "rawType": "int64",
         "type": "integer"
        },
        {
         "name": "Store",
         "rawType": "category",
         "type": "unknown"
        },
        {
         "name": "Date",
         "rawType": "datetime64[ns]",
         "type": "datetime"
        },
        {
         "name": "Weekly_Sales",
         "rawType": "float64",
         "type": "float"
        },
        {
         "name": "Holiday_Flag",
         "rawType": "bool",
         "type": "boolean"
        },
        {
         "name": "Temperature",
         "rawType": "float64",
         "type": "float"
        },
        {
         "name": "Fuel_Price",
         "rawType": "float64",
         "type": "float"
        },
        {
         "name": "CPI",
         "rawType": "float64",
         "type": "float"
        },
        {
         "name": "Unemployment",
         "rawType": "float64",
         "type": "float"
        }
       ],
       "ref": "63694c80-e4cc-4424-bcd9-bff6810d85b8",
       "rows": [
        [
         "573",
         "5",
         "2010-12-02 00:00:00",
         "311825.7",
         "True",
         "39.81",
         "2.548",
         "211.8004698",
         "6.566"
        ],
        [
         "1002",
         "8",
         "2010-12-02 00:00:00",
         "994801.4",
         "True",
         "33.34",
         "2.548",
         "214.6214189",
         "6.299"
        ],
        [
         "1145",
         "9",
         "2010-12-02 00:00:00",
         "552677.48",
         "True",
         "37.08",
         "2.548",
         "214.8056534",
         "6.415"
        ],
        [
         "2146",
         "16",
         "2010-12-02 00:00:00",
         "472044.28",
         "True",
         "20.87",
         "2.572",
         "189.4642725",
         "7.039"
        ],
        [
         "2289",
         "17",
         "2010-12-02 00:00:00",
         "841951.91",
         "True",
         "18.36",
         "2.671",
         "126.4962581",
         "6.548"
        ],
        [
         "3147",
         "23",
         "2010-12-02 00:00:00",
         "1380892.08",
         "True",
         "18.75",
         "2.771",
         "131.5866129",
         "5.892"
        ],
        [
         "5578",
         "40",
         "2010-12-02 00:00:00",
         "955338.29",
         "True",
         "20.84",
         "2.771",
         "131.5866129",
         "5.892"
        ],
        [
         "5721",
         "41",
         "2010-12-02 00:00:00",
         "1075656.34",
         "True",
         "23.04",
         "2.572",
         "189.4642725",
         "7.541"
        ]
       ],
       "shape": {
        "columns": 8,
        "rows": 8
       }
      },
      "text/html": [
       "<div>\n",
       "<style scoped>\n",
       "    .dataframe tbody tr th:only-of-type {\n",
       "        vertical-align: middle;\n",
       "    }\n",
       "\n",
       "    .dataframe tbody tr th {\n",
       "        vertical-align: top;\n",
       "    }\n",
       "\n",
       "    .dataframe thead th {\n",
       "        text-align: right;\n",
       "    }\n",
       "</style>\n",
       "<table border=\"1\" class=\"dataframe\">\n",
       "  <thead>\n",
       "    <tr style=\"text-align: right;\">\n",
       "      <th></th>\n",
       "      <th>Store</th>\n",
       "      <th>Date</th>\n",
       "      <th>Weekly_Sales</th>\n",
       "      <th>Holiday_Flag</th>\n",
       "      <th>Temperature</th>\n",
       "      <th>Fuel_Price</th>\n",
       "      <th>CPI</th>\n",
       "      <th>Unemployment</th>\n",
       "    </tr>\n",
       "  </thead>\n",
       "  <tbody>\n",
       "    <tr>\n",
       "      <th>573</th>\n",
       "      <td>5</td>\n",
       "      <td>2010-12-02</td>\n",
       "      <td>311825.70</td>\n",
       "      <td>True</td>\n",
       "      <td>39.81</td>\n",
       "      <td>2.548</td>\n",
       "      <td>211.800470</td>\n",
       "      <td>6.566</td>\n",
       "    </tr>\n",
       "    <tr>\n",
       "      <th>1002</th>\n",
       "      <td>8</td>\n",
       "      <td>2010-12-02</td>\n",
       "      <td>994801.40</td>\n",
       "      <td>True</td>\n",
       "      <td>33.34</td>\n",
       "      <td>2.548</td>\n",
       "      <td>214.621419</td>\n",
       "      <td>6.299</td>\n",
       "    </tr>\n",
       "    <tr>\n",
       "      <th>1145</th>\n",
       "      <td>9</td>\n",
       "      <td>2010-12-02</td>\n",
       "      <td>552677.48</td>\n",
       "      <td>True</td>\n",
       "      <td>37.08</td>\n",
       "      <td>2.548</td>\n",
       "      <td>214.805653</td>\n",
       "      <td>6.415</td>\n",
       "    </tr>\n",
       "    <tr>\n",
       "      <th>2146</th>\n",
       "      <td>16</td>\n",
       "      <td>2010-12-02</td>\n",
       "      <td>472044.28</td>\n",
       "      <td>True</td>\n",
       "      <td>20.87</td>\n",
       "      <td>2.572</td>\n",
       "      <td>189.464272</td>\n",
       "      <td>7.039</td>\n",
       "    </tr>\n",
       "    <tr>\n",
       "      <th>2289</th>\n",
       "      <td>17</td>\n",
       "      <td>2010-12-02</td>\n",
       "      <td>841951.91</td>\n",
       "      <td>True</td>\n",
       "      <td>18.36</td>\n",
       "      <td>2.671</td>\n",
       "      <td>126.496258</td>\n",
       "      <td>6.548</td>\n",
       "    </tr>\n",
       "    <tr>\n",
       "      <th>3147</th>\n",
       "      <td>23</td>\n",
       "      <td>2010-12-02</td>\n",
       "      <td>1380892.08</td>\n",
       "      <td>True</td>\n",
       "      <td>18.75</td>\n",
       "      <td>2.771</td>\n",
       "      <td>131.586613</td>\n",
       "      <td>5.892</td>\n",
       "    </tr>\n",
       "    <tr>\n",
       "      <th>5578</th>\n",
       "      <td>40</td>\n",
       "      <td>2010-12-02</td>\n",
       "      <td>955338.29</td>\n",
       "      <td>True</td>\n",
       "      <td>20.84</td>\n",
       "      <td>2.771</td>\n",
       "      <td>131.586613</td>\n",
       "      <td>5.892</td>\n",
       "    </tr>\n",
       "    <tr>\n",
       "      <th>5721</th>\n",
       "      <td>41</td>\n",
       "      <td>2010-12-02</td>\n",
       "      <td>1075656.34</td>\n",
       "      <td>True</td>\n",
       "      <td>23.04</td>\n",
       "      <td>2.572</td>\n",
       "      <td>189.464272</td>\n",
       "      <td>7.541</td>\n",
       "    </tr>\n",
       "  </tbody>\n",
       "</table>\n",
       "</div>"
      ],
      "text/plain": [
       "     Store       Date  Weekly_Sales  Holiday_Flag  Temperature  Fuel_Price  \\\n",
       "573      5 2010-12-02     311825.70          True        39.81       2.548   \n",
       "1002     8 2010-12-02     994801.40          True        33.34       2.548   \n",
       "1145     9 2010-12-02     552677.48          True        37.08       2.548   \n",
       "2146    16 2010-12-02     472044.28          True        20.87       2.572   \n",
       "2289    17 2010-12-02     841951.91          True        18.36       2.671   \n",
       "3147    23 2010-12-02    1380892.08          True        18.75       2.771   \n",
       "5578    40 2010-12-02     955338.29          True        20.84       2.771   \n",
       "5721    41 2010-12-02    1075656.34          True        23.04       2.572   \n",
       "\n",
       "             CPI  Unemployment  \n",
       "573   211.800470         6.566  \n",
       "1002  214.621419         6.299  \n",
       "1145  214.805653         6.415  \n",
       "2146  189.464272         7.039  \n",
       "2289  126.496258         6.548  \n",
       "3147  131.586613         5.892  \n",
       "5578  131.586613         5.892  \n",
       "5721  189.464272         7.541  "
      ]
     },
     "execution_count": 58,
     "metadata": {},
     "output_type": "execute_result"
    }
   ],
   "source": [
    "walmart.query(\"Date == '2010-12-02' and Temperature < 40 and Unemployment < 8\")"
   ]
  },
  {
   "cell_type": "code",
   "execution_count": 59,
   "id": "5acf30c3",
   "metadata": {},
   "outputs": [
    {
     "data": {
      "application/vnd.microsoft.datawrangler.viewer.v0+json": {
       "columns": [
        {
         "name": "index",
         "rawType": "int64",
         "type": "integer"
        },
        {
         "name": "Store",
         "rawType": "category",
         "type": "unknown"
        },
        {
         "name": "Date",
         "rawType": "datetime64[ns]",
         "type": "datetime"
        },
        {
         "name": "Weekly_Sales",
         "rawType": "float64",
         "type": "float"
        },
        {
         "name": "Holiday_Flag",
         "rawType": "bool",
         "type": "boolean"
        },
        {
         "name": "Temperature",
         "rawType": "float64",
         "type": "float"
        },
        {
         "name": "Fuel_Price",
         "rawType": "float64",
         "type": "float"
        },
        {
         "name": "CPI",
         "rawType": "float64",
         "type": "float"
        },
        {
         "name": "Unemployment",
         "rawType": "float64",
         "type": "float"
        }
       ],
       "ref": "268cc4b7-10eb-4cbc-8529-fec325686b25",
       "rows": [
        [
         "2",
         "1",
         "2010-02-19 00:00:00",
         "1611968.17",
         "False",
         "39.93",
         "2.514",
         "211.2891429",
         "8.106"
        ],
        [
         "3",
         "1",
         "2010-02-26 00:00:00",
         "1409727.59",
         "False",
         "46.63",
         "2.561",
         "211.3196429",
         "8.106"
        ],
        [
         "8",
         "1",
         "2010-02-04 00:00:00",
         "1594968.28",
         "False",
         "62.27",
         "2.719",
         "210.8204499",
         "7.808"
        ],
        [
         "21",
         "1",
         "2010-02-07 00:00:00",
         "1492418.14",
         "False",
         "80.91",
         "2.669",
         "211.2235333",
         "7.787"
        ],
        [
         "145",
         "2",
         "2010-02-19 00:00:00",
         "2124451.54",
         "False",
         "39.69",
         "2.514",
         "210.9451605",
         "8.324"
        ],
        [
         "146",
         "2",
         "2010-02-26 00:00:00",
         "1865097.27",
         "False",
         "46.1",
         "2.561",
         "210.9759573",
         "8.324"
        ],
        [
         "151",
         "2",
         "2010-02-04 00:00:00",
         "2066187.72",
         "False",
         "63.27",
         "2.719",
         "210.4798874",
         "8.2"
        ],
        [
         "164",
         "2",
         "2010-02-07 00:00:00",
         "2003940.64",
         "False",
         "82.74",
         "2.669",
         "210.8803726",
         "8.099"
        ],
        [
         "288",
         "3",
         "2010-02-19 00:00:00",
         "421642.19",
         "False",
         "47.07",
         "2.514",
         "214.6198868",
         "7.368"
        ],
        [
         "289",
         "3",
         "2010-02-26 00:00:00",
         "407204.86",
         "False",
         "52.05",
         "2.561",
         "214.6475127",
         "7.368"
        ],
        [
         "294",
         "3",
         "2010-02-04 00:00:00",
         "423294.4",
         "False",
         "65.56",
         "2.719",
         "214.1180803",
         "7.343"
        ],
        [
         "307",
         "3",
         "2010-02-07 00:00:00",
         "381151.72",
         "False",
         "82.2",
         "2.669",
         "214.5463222",
         "7.346"
        ],
        [
         "431",
         "4",
         "2010-02-19 00:00:00",
         "2049860.26",
         "False",
         "36.45",
         "2.54",
         "126.5262857",
         "8.623"
        ],
        [
         "432",
         "4",
         "2010-02-26 00:00:00",
         "1925728.84",
         "False",
         "41.36",
         "2.59",
         "126.5522857",
         "8.623"
        ],
        [
         "437",
         "4",
         "2010-02-04 00:00:00",
         "1979247.12",
         "False",
         "48.77",
         "2.74",
         "126.6034839",
         "7.896"
        ],
        [
         "450",
         "4",
         "2010-02-07 00:00:00",
         "1881337.21",
         "False",
         "73.66",
         "2.668",
         "126.1392",
         "7.372"
        ],
        [
         "574",
         "5",
         "2010-02-19 00:00:00",
         "303447.57",
         "False",
         "41.14",
         "2.514",
         "211.8471283",
         "6.566"
        ],
        [
         "575",
         "5",
         "2010-02-26 00:00:00",
         "270281.63",
         "False",
         "46.7",
         "2.561",
         "211.8771468",
         "6.566"
        ],
        [
         "580",
         "5",
         "2010-02-04 00:00:00",
         "331406.0",
         "False",
         "63.18",
         "2.719",
         "211.372888",
         "6.465"
        ],
        [
         "593",
         "5",
         "2010-02-07 00:00:00",
         "305993.27",
         "False",
         "81.25",
         "2.669",
         "211.7801861",
         "6.496"
        ],
        [
         "717",
         "6",
         "2010-02-19 00:00:00",
         "1567138.07",
         "False",
         "43.58",
         "2.514",
         "212.8161546",
         "7.259"
        ],
        [
         "718",
         "6",
         "2010-02-26 00:00:00",
         "1432953.21",
         "False",
         "47.1",
         "2.561",
         "212.845337",
         "7.259"
        ],
        [
         "723",
         "6",
         "2010-02-04 00:00:00",
         "1770333.9",
         "False",
         "64.94",
         "2.719",
         "212.3322805",
         "7.092"
        ],
        [
         "736",
         "6",
         "2010-02-07 00:00:00",
         "1759777.25",
         "False",
         "80.34",
         "2.669",
         "212.746898",
         "6.973"
        ],
        [
         "860",
         "7",
         "2010-02-19 00:00:00",
         "506760.54",
         "False",
         "27.28",
         "2.55",
         "189.5340998",
         "9.014"
        ],
        [
         "861",
         "7",
         "2010-02-26 00:00:00",
         "496083.24",
         "False",
         "24.91",
         "2.586",
         "189.6018023",
         "9.014"
        ],
        [
         "866",
         "7",
         "2010-02-04 00:00:00",
         "561145.14",
         "False",
         "38.26",
         "2.725",
         "189.7048215",
         "8.963"
        ],
        [
         "879",
         "7",
         "2010-02-07 00:00:00",
         "575570.77",
         "False",
         "61.31",
         "2.728",
         "189.4882603",
         "9.017"
        ],
        [
         "1003",
         "8",
         "2010-02-19 00:00:00",
         "963960.37",
         "False",
         "39.1",
         "2.514",
         "214.6664878",
         "6.299"
        ],
        [
         "1004",
         "8",
         "2010-02-26 00:00:00",
         "847592.11",
         "False",
         "37.91",
         "2.561",
         "214.6940735",
         "6.299"
        ],
        [
         "1009",
         "8",
         "2010-02-04 00:00:00",
         "914500.91",
         "False",
         "60.18",
         "2.719",
         "214.164218",
         "6.29"
        ],
        [
         "1022",
         "8",
         "2010-02-07 00:00:00",
         "852333.75",
         "False",
         "74.78",
         "2.669",
         "214.5928119",
         "6.315"
        ],
        [
         "1146",
         "9",
         "2010-02-19 00:00:00",
         "511327.9",
         "False",
         "43.06",
         "2.514",
         "214.8506185",
         "6.415"
        ],
        [
         "1147",
         "9",
         "2010-02-26 00:00:00",
         "473773.27",
         "False",
         "43.83",
         "2.561",
         "214.8780453",
         "6.415"
        ],
        [
         "1152",
         "9",
         "2010-02-04 00:00:00",
         "545206.32",
         "False",
         "65.21",
         "2.719",
         "214.3465181",
         "6.384"
        ],
        [
         "1165",
         "9",
         "2010-02-07 00:00:00",
         "528832.54",
         "False",
         "78.55",
         "2.669",
         "214.7765028",
         "6.442"
        ],
        [
         "1289",
         "10",
         "2010-02-19 00:00:00",
         "2113432.58",
         "False",
         "58.22",
         "2.915",
         "126.5262857",
         "9.765"
        ],
        [
         "1290",
         "10",
         "2010-02-26 00:00:00",
         "2006774.96",
         "False",
         "52.77",
         "2.825",
         "126.5522857",
         "9.765"
        ],
        [
         "1295",
         "10",
         "2010-02-04 00:00:00",
         "2138651.97",
         "False",
         "63.66",
         "3.086",
         "126.6034839",
         "9.524"
        ],
        [
         "1308",
         "10",
         "2010-02-07 00:00:00",
         "1845893.87",
         "False",
         "92.89",
         "2.978",
         "126.1392",
         "9.199"
        ],
        [
         "1432",
         "11",
         "2010-02-19 00:00:00",
         "1503298.7",
         "False",
         "48.3",
         "2.514",
         "214.6198868",
         "7.368"
        ],
        [
         "1433",
         "11",
         "2010-02-26 00:00:00",
         "1336404.65",
         "False",
         "52.79",
         "2.561",
         "214.6475127",
         "7.368"
        ],
        [
         "1438",
         "11",
         "2010-02-04 00:00:00",
         "1446210.26",
         "False",
         "66.16",
         "2.719",
         "214.1180803",
         "7.343"
        ],
        [
         "1451",
         "11",
         "2010-02-07 00:00:00",
         "1302600.14",
         "False",
         "83.09",
         "2.669",
         "214.5463222",
         "7.346"
        ],
        [
         "1575",
         "12",
         "2010-02-19 00:00:00",
         "1095421.65",
         "False",
         "54.83",
         "2.915",
         "126.5262857",
         "13.975"
        ],
        [
         "1576",
         "12",
         "2010-02-26 00:00:00",
         "1048617.17",
         "False",
         "50.23",
         "2.825",
         "126.5522857",
         "13.975"
        ],
        [
         "1581",
         "12",
         "2010-02-04 00:00:00",
         "1011822.3",
         "False",
         "59.84",
         "3.086",
         "126.6034839",
         "14.099"
        ],
        [
         "1594",
         "12",
         "2010-02-07 00:00:00",
         "951957.31",
         "False",
         "91.98",
         "3.105",
         "126.1392",
         "14.18"
        ],
        [
         "1718",
         "13",
         "2010-02-19 00:00:00",
         "1970274.64",
         "False",
         "35.7",
         "2.654",
         "126.5262857",
         "8.316"
        ],
        [
         "1719",
         "13",
         "2010-02-26 00:00:00",
         "1817850.32",
         "False",
         "29.98",
         "2.667",
         "126.5522857",
         "8.316"
        ]
       ],
       "shape": {
        "columns": 8,
        "rows": 180
       }
      },
      "text/html": [
       "<div>\n",
       "<style scoped>\n",
       "    .dataframe tbody tr th:only-of-type {\n",
       "        vertical-align: middle;\n",
       "    }\n",
       "\n",
       "    .dataframe tbody tr th {\n",
       "        vertical-align: top;\n",
       "    }\n",
       "\n",
       "    .dataframe thead th {\n",
       "        text-align: right;\n",
       "    }\n",
       "</style>\n",
       "<table border=\"1\" class=\"dataframe\">\n",
       "  <thead>\n",
       "    <tr style=\"text-align: right;\">\n",
       "      <th></th>\n",
       "      <th>Store</th>\n",
       "      <th>Date</th>\n",
       "      <th>Weekly_Sales</th>\n",
       "      <th>Holiday_Flag</th>\n",
       "      <th>Temperature</th>\n",
       "      <th>Fuel_Price</th>\n",
       "      <th>CPI</th>\n",
       "      <th>Unemployment</th>\n",
       "    </tr>\n",
       "  </thead>\n",
       "  <tbody>\n",
       "    <tr>\n",
       "      <th>2</th>\n",
       "      <td>1</td>\n",
       "      <td>2010-02-19</td>\n",
       "      <td>1611968.17</td>\n",
       "      <td>False</td>\n",
       "      <td>39.93</td>\n",
       "      <td>2.514</td>\n",
       "      <td>211.289143</td>\n",
       "      <td>8.106</td>\n",
       "    </tr>\n",
       "    <tr>\n",
       "      <th>3</th>\n",
       "      <td>1</td>\n",
       "      <td>2010-02-26</td>\n",
       "      <td>1409727.59</td>\n",
       "      <td>False</td>\n",
       "      <td>46.63</td>\n",
       "      <td>2.561</td>\n",
       "      <td>211.319643</td>\n",
       "      <td>8.106</td>\n",
       "    </tr>\n",
       "    <tr>\n",
       "      <th>8</th>\n",
       "      <td>1</td>\n",
       "      <td>2010-02-04</td>\n",
       "      <td>1594968.28</td>\n",
       "      <td>False</td>\n",
       "      <td>62.27</td>\n",
       "      <td>2.719</td>\n",
       "      <td>210.820450</td>\n",
       "      <td>7.808</td>\n",
       "    </tr>\n",
       "    <tr>\n",
       "      <th>21</th>\n",
       "      <td>1</td>\n",
       "      <td>2010-02-07</td>\n",
       "      <td>1492418.14</td>\n",
       "      <td>False</td>\n",
       "      <td>80.91</td>\n",
       "      <td>2.669</td>\n",
       "      <td>211.223533</td>\n",
       "      <td>7.787</td>\n",
       "    </tr>\n",
       "    <tr>\n",
       "      <th>145</th>\n",
       "      <td>2</td>\n",
       "      <td>2010-02-19</td>\n",
       "      <td>2124451.54</td>\n",
       "      <td>False</td>\n",
       "      <td>39.69</td>\n",
       "      <td>2.514</td>\n",
       "      <td>210.945160</td>\n",
       "      <td>8.324</td>\n",
       "    </tr>\n",
       "    <tr>\n",
       "      <th>...</th>\n",
       "      <td>...</td>\n",
       "      <td>...</td>\n",
       "      <td>...</td>\n",
       "      <td>...</td>\n",
       "      <td>...</td>\n",
       "      <td>...</td>\n",
       "      <td>...</td>\n",
       "      <td>...</td>\n",
       "    </tr>\n",
       "    <tr>\n",
       "      <th>6170</th>\n",
       "      <td>44</td>\n",
       "      <td>2010-02-07</td>\n",
       "      <td>300628.19</td>\n",
       "      <td>False</td>\n",
       "      <td>78.82</td>\n",
       "      <td>2.814</td>\n",
       "      <td>126.139200</td>\n",
       "      <td>7.804</td>\n",
       "    </tr>\n",
       "    <tr>\n",
       "      <th>6294</th>\n",
       "      <td>45</td>\n",
       "      <td>2010-02-19</td>\n",
       "      <td>841264.04</td>\n",
       "      <td>False</td>\n",
       "      <td>31.27</td>\n",
       "      <td>2.745</td>\n",
       "      <td>182.034782</td>\n",
       "      <td>8.992</td>\n",
       "    </tr>\n",
       "    <tr>\n",
       "      <th>6295</th>\n",
       "      <td>45</td>\n",
       "      <td>2010-02-26</td>\n",
       "      <td>741891.65</td>\n",
       "      <td>False</td>\n",
       "      <td>34.89</td>\n",
       "      <td>2.754</td>\n",
       "      <td>182.077469</td>\n",
       "      <td>8.992</td>\n",
       "    </tr>\n",
       "    <tr>\n",
       "      <th>6300</th>\n",
       "      <td>45</td>\n",
       "      <td>2010-02-04</td>\n",
       "      <td>877235.96</td>\n",
       "      <td>False</td>\n",
       "      <td>47.74</td>\n",
       "      <td>2.850</td>\n",
       "      <td>181.865754</td>\n",
       "      <td>8.899</td>\n",
       "    </tr>\n",
       "    <tr>\n",
       "      <th>6313</th>\n",
       "      <td>45</td>\n",
       "      <td>2010-02-07</td>\n",
       "      <td>800147.84</td>\n",
       "      <td>False</td>\n",
       "      <td>76.61</td>\n",
       "      <td>2.815</td>\n",
       "      <td>182.318780</td>\n",
       "      <td>8.743</td>\n",
       "    </tr>\n",
       "  </tbody>\n",
       "</table>\n",
       "<p>180 rows × 8 columns</p>\n",
       "</div>"
      ],
      "text/plain": [
       "     Store       Date  Weekly_Sales  Holiday_Flag  Temperature  Fuel_Price  \\\n",
       "2        1 2010-02-19    1611968.17         False        39.93       2.514   \n",
       "3        1 2010-02-26    1409727.59         False        46.63       2.561   \n",
       "8        1 2010-02-04    1594968.28         False        62.27       2.719   \n",
       "21       1 2010-02-07    1492418.14         False        80.91       2.669   \n",
       "145      2 2010-02-19    2124451.54         False        39.69       2.514   \n",
       "...    ...        ...           ...           ...          ...         ...   \n",
       "6170    44 2010-02-07     300628.19         False        78.82       2.814   \n",
       "6294    45 2010-02-19     841264.04         False        31.27       2.745   \n",
       "6295    45 2010-02-26     741891.65         False        34.89       2.754   \n",
       "6300    45 2010-02-04     877235.96         False        47.74       2.850   \n",
       "6313    45 2010-02-07     800147.84         False        76.61       2.815   \n",
       "\n",
       "             CPI  Unemployment  \n",
       "2     211.289143         8.106  \n",
       "3     211.319643         8.106  \n",
       "8     210.820450         7.808  \n",
       "21    211.223533         7.787  \n",
       "145   210.945160         8.324  \n",
       "...          ...           ...  \n",
       "6170  126.139200         7.804  \n",
       "6294  182.034782         8.992  \n",
       "6295  182.077469         8.992  \n",
       "6300  181.865754         8.899  \n",
       "6313  182.318780         8.743  \n",
       "\n",
       "[180 rows x 8 columns]"
      ]
     },
     "execution_count": 59,
     "metadata": {},
     "output_type": "execute_result"
    }
   ],
   "source": [
    "walmart.query(\"Date.dt.month == 2 and Date.dt.year == 2010\")"
   ]
  },
  {
   "cell_type": "code",
   "execution_count": 60,
   "id": "0edea25a",
   "metadata": {},
   "outputs": [
    {
     "data": {
      "application/vnd.microsoft.datawrangler.viewer.v0+json": {
       "columns": [
        {
         "name": "index",
         "rawType": "int64",
         "type": "integer"
        },
        {
         "name": "Store",
         "rawType": "category",
         "type": "unknown"
        },
        {
         "name": "Date",
         "rawType": "datetime64[ns]",
         "type": "datetime"
        },
        {
         "name": "Weekly_Sales",
         "rawType": "float64",
         "type": "float"
        },
        {
         "name": "Holiday_Flag",
         "rawType": "bool",
         "type": "boolean"
        },
        {
         "name": "Temperature",
         "rawType": "float64",
         "type": "float"
        },
        {
         "name": "Fuel_Price",
         "rawType": "float64",
         "type": "float"
        },
        {
         "name": "CPI",
         "rawType": "float64",
         "type": "float"
        },
        {
         "name": "Unemployment",
         "rawType": "float64",
         "type": "float"
        }
       ],
       "ref": "f03a54bd-bc2d-4ccd-a61b-fd74d1fefe49",
       "rows": [
        [
         "2",
         "1",
         "2010-02-19 00:00:00",
         "1611968.17",
         "False",
         "39.93",
         "2.514",
         "211.2891429",
         "8.106"
        ],
        [
         "145",
         "2",
         "2010-02-19 00:00:00",
         "2124451.54",
         "False",
         "39.69",
         "2.514",
         "210.9451605",
         "8.324"
        ],
        [
         "288",
         "3",
         "2010-02-19 00:00:00",
         "421642.19",
         "False",
         "47.07",
         "2.514",
         "214.6198868",
         "7.368"
        ],
        [
         "431",
         "4",
         "2010-02-19 00:00:00",
         "2049860.26",
         "False",
         "36.45",
         "2.54",
         "126.5262857",
         "8.623"
        ],
        [
         "574",
         "5",
         "2010-02-19 00:00:00",
         "303447.57",
         "False",
         "41.14",
         "2.514",
         "211.8471283",
         "6.566"
        ],
        [
         "717",
         "6",
         "2010-02-19 00:00:00",
         "1567138.07",
         "False",
         "43.58",
         "2.514",
         "212.8161546",
         "7.259"
        ],
        [
         "860",
         "7",
         "2010-02-19 00:00:00",
         "506760.54",
         "False",
         "27.28",
         "2.55",
         "189.5340998",
         "9.014"
        ],
        [
         "1003",
         "8",
         "2010-02-19 00:00:00",
         "963960.37",
         "False",
         "39.1",
         "2.514",
         "214.6664878",
         "6.299"
        ],
        [
         "1146",
         "9",
         "2010-02-19 00:00:00",
         "511327.9",
         "False",
         "43.06",
         "2.514",
         "214.8506185",
         "6.415"
        ],
        [
         "1289",
         "10",
         "2010-02-19 00:00:00",
         "2113432.58",
         "False",
         "58.22",
         "2.915",
         "126.5262857",
         "9.765"
        ],
        [
         "1432",
         "11",
         "2010-02-19 00:00:00",
         "1503298.7",
         "False",
         "48.3",
         "2.514",
         "214.6198868",
         "7.368"
        ],
        [
         "1575",
         "12",
         "2010-02-19 00:00:00",
         "1095421.65",
         "False",
         "54.83",
         "2.915",
         "126.5262857",
         "13.975"
        ],
        [
         "1718",
         "13",
         "2010-02-19 00:00:00",
         "1970274.64",
         "False",
         "35.7",
         "2.654",
         "126.5262857",
         "8.316"
        ],
        [
         "1861",
         "14",
         "2010-02-19 00:00:00",
         "2204556.7",
         "False",
         "31.27",
         "2.745",
         "182.0347816",
         "8.992"
        ],
        [
         "2004",
         "15",
         "2010-02-19 00:00:00",
         "660838.75",
         "False",
         "27.54",
         "2.909",
         "131.637",
         "8.35"
        ],
        [
         "2147",
         "16",
         "2010-02-19 00:00:00",
         "469868.7",
         "False",
         "21.13",
         "2.55",
         "189.5340998",
         "7.039"
        ],
        [
         "2290",
         "17",
         "2010-02-19 00:00:00",
         "800714.0",
         "False",
         "25.06",
         "2.654",
         "126.5262857",
         "6.548"
        ],
        [
         "2433",
         "18",
         "2010-02-19 00:00:00",
         "1150663.42",
         "False",
         "30.91",
         "2.747",
         "131.637",
         "9.202"
        ],
        [
         "2576",
         "19",
         "2010-02-19 00:00:00",
         "1515976.11",
         "False",
         "28.57",
         "2.909",
         "131.637",
         "8.35"
        ],
        [
         "2719",
         "20",
         "2010-02-19 00:00:00",
         "2161549.76",
         "False",
         "25.43",
         "2.745",
         "204.4321004",
         "8.187"
        ],
        [
         "2862",
         "21",
         "2010-02-19 00:00:00",
         "867283.25",
         "False",
         "39.75",
         "2.514",
         "210.9451605",
         "8.324"
        ],
        [
         "3005",
         "22",
         "2010-02-19 00:00:00",
         "988467.61",
         "False",
         "31.96",
         "2.747",
         "135.4657781",
         "8.283"
        ],
        [
         "3148",
         "23",
         "2010-02-19 00:00:00",
         "1319588.04",
         "False",
         "26.7",
         "2.747",
         "131.637",
         "5.892"
        ],
        [
         "3291",
         "24",
         "2010-02-19 00:00:00",
         "1385362.49",
         "False",
         "31.05",
         "2.909",
         "131.637",
         "8.326"
        ],
        [
         "3434",
         "25",
         "2010-02-19 00:00:00",
         "676260.67",
         "False",
         "24.16",
         "2.745",
         "204.4321004",
         "8.187"
        ],
        [
         "3577",
         "26",
         "2010-02-19 00:00:00",
         "999348.55",
         "False",
         "22.62",
         "2.747",
         "131.637",
         "8.488"
        ],
        [
         "3720",
         "27",
         "2010-02-19 00:00:00",
         "1945070.33",
         "False",
         "32.44",
         "2.909",
         "135.4657781",
         "8.237"
        ],
        [
         "3863",
         "28",
         "2010-02-19 00:00:00",
         "1491300.42",
         "False",
         "54.83",
         "2.915",
         "126.5262857",
         "13.975"
        ],
        [
         "4006",
         "29",
         "2010-02-19 00:00:00",
         "542399.07",
         "False",
         "31.96",
         "2.747",
         "131.637",
         "10.064"
        ],
        [
         "4149",
         "30",
         "2010-02-19 00:00:00",
         "463513.26",
         "False",
         "39.75",
         "2.514",
         "210.9451605",
         "8.324"
        ],
        [
         "4292",
         "31",
         "2010-02-19 00:00:00",
         "1473386.75",
         "False",
         "39.75",
         "2.514",
         "210.9451605",
         "8.324"
        ],
        [
         "4435",
         "32",
         "2010-02-19 00:00:00",
         "1082559.06",
         "False",
         "29.16",
         "2.55",
         "189.5340998",
         "9.014"
        ],
        [
         "4578",
         "33",
         "2010-02-19 00:00:00",
         "296850.83",
         "False",
         "62.16",
         "2.915",
         "126.5262857",
         "10.115"
        ],
        [
         "4721",
         "34",
         "2010-02-19 00:00:00",
         "983963.07",
         "False",
         "38.36",
         "2.54",
         "126.5262857",
         "9.521"
        ],
        [
         "4864",
         "35",
         "2010-02-19 00:00:00",
         "1270658.64",
         "False",
         "32.44",
         "2.745",
         "135.4657781",
         "9.262"
        ],
        [
         "5007",
         "36",
         "2010-02-19 00:00:00",
         "470281.03",
         "False",
         "45.66",
         "2.472",
         "210.0451024",
         "8.554"
        ],
        [
         "5150",
         "37",
         "2010-02-19 00:00:00",
         "510382.5",
         "False",
         "45.66",
         "2.514",
         "210.0451024",
         "8.554"
        ],
        [
         "5293",
         "38",
         "2010-02-19 00:00:00",
         "327237.92",
         "False",
         "54.83",
         "2.915",
         "126.5262857",
         "13.975"
        ],
        [
         "5436",
         "39",
         "2010-02-19 00:00:00",
         "1230591.97",
         "False",
         "43.96",
         "2.514",
         "210.0451024",
         "8.554"
        ],
        [
         "5579",
         "40",
         "2010-02-19 00:00:00",
         "916289.2",
         "False",
         "27.84",
         "2.747",
         "131.637",
         "5.892"
        ],
        [
         "5722",
         "41",
         "2010-02-19 00:00:00",
         "1052034.74",
         "False",
         "24.13",
         "2.55",
         "189.5340998",
         "7.541"
        ],
        [
         "5865",
         "42",
         "2010-02-19 00:00:00",
         "508794.87",
         "False",
         "58.22",
         "2.915",
         "126.5262857",
         "9.765"
        ],
        [
         "6008",
         "43",
         "2010-02-19 00:00:00",
         "658997.55",
         "False",
         "48.77",
         "2.514",
         "203.2479796",
         "9.521"
        ],
        [
         "6151",
         "44",
         "2010-02-19 00:00:00",
         "267956.3",
         "False",
         "35.7",
         "2.654",
         "126.5262857",
         "8.119"
        ],
        [
         "6294",
         "45",
         "2010-02-19 00:00:00",
         "841264.04",
         "False",
         "31.27",
         "2.745",
         "182.0347816",
         "8.992"
        ]
       ],
       "shape": {
        "columns": 8,
        "rows": 45
       }
      },
      "text/html": [
       "<div>\n",
       "<style scoped>\n",
       "    .dataframe tbody tr th:only-of-type {\n",
       "        vertical-align: middle;\n",
       "    }\n",
       "\n",
       "    .dataframe tbody tr th {\n",
       "        vertical-align: top;\n",
       "    }\n",
       "\n",
       "    .dataframe thead th {\n",
       "        text-align: right;\n",
       "    }\n",
       "</style>\n",
       "<table border=\"1\" class=\"dataframe\">\n",
       "  <thead>\n",
       "    <tr style=\"text-align: right;\">\n",
       "      <th></th>\n",
       "      <th>Store</th>\n",
       "      <th>Date</th>\n",
       "      <th>Weekly_Sales</th>\n",
       "      <th>Holiday_Flag</th>\n",
       "      <th>Temperature</th>\n",
       "      <th>Fuel_Price</th>\n",
       "      <th>CPI</th>\n",
       "      <th>Unemployment</th>\n",
       "    </tr>\n",
       "  </thead>\n",
       "  <tbody>\n",
       "    <tr>\n",
       "      <th>2</th>\n",
       "      <td>1</td>\n",
       "      <td>2010-02-19</td>\n",
       "      <td>1611968.17</td>\n",
       "      <td>False</td>\n",
       "      <td>39.93</td>\n",
       "      <td>2.514</td>\n",
       "      <td>211.289143</td>\n",
       "      <td>8.106</td>\n",
       "    </tr>\n",
       "    <tr>\n",
       "      <th>145</th>\n",
       "      <td>2</td>\n",
       "      <td>2010-02-19</td>\n",
       "      <td>2124451.54</td>\n",
       "      <td>False</td>\n",
       "      <td>39.69</td>\n",
       "      <td>2.514</td>\n",
       "      <td>210.945160</td>\n",
       "      <td>8.324</td>\n",
       "    </tr>\n",
       "    <tr>\n",
       "      <th>288</th>\n",
       "      <td>3</td>\n",
       "      <td>2010-02-19</td>\n",
       "      <td>421642.19</td>\n",
       "      <td>False</td>\n",
       "      <td>47.07</td>\n",
       "      <td>2.514</td>\n",
       "      <td>214.619887</td>\n",
       "      <td>7.368</td>\n",
       "    </tr>\n",
       "    <tr>\n",
       "      <th>431</th>\n",
       "      <td>4</td>\n",
       "      <td>2010-02-19</td>\n",
       "      <td>2049860.26</td>\n",
       "      <td>False</td>\n",
       "      <td>36.45</td>\n",
       "      <td>2.540</td>\n",
       "      <td>126.526286</td>\n",
       "      <td>8.623</td>\n",
       "    </tr>\n",
       "    <tr>\n",
       "      <th>574</th>\n",
       "      <td>5</td>\n",
       "      <td>2010-02-19</td>\n",
       "      <td>303447.57</td>\n",
       "      <td>False</td>\n",
       "      <td>41.14</td>\n",
       "      <td>2.514</td>\n",
       "      <td>211.847128</td>\n",
       "      <td>6.566</td>\n",
       "    </tr>\n",
       "    <tr>\n",
       "      <th>717</th>\n",
       "      <td>6</td>\n",
       "      <td>2010-02-19</td>\n",
       "      <td>1567138.07</td>\n",
       "      <td>False</td>\n",
       "      <td>43.58</td>\n",
       "      <td>2.514</td>\n",
       "      <td>212.816155</td>\n",
       "      <td>7.259</td>\n",
       "    </tr>\n",
       "    <tr>\n",
       "      <th>860</th>\n",
       "      <td>7</td>\n",
       "      <td>2010-02-19</td>\n",
       "      <td>506760.54</td>\n",
       "      <td>False</td>\n",
       "      <td>27.28</td>\n",
       "      <td>2.550</td>\n",
       "      <td>189.534100</td>\n",
       "      <td>9.014</td>\n",
       "    </tr>\n",
       "    <tr>\n",
       "      <th>1003</th>\n",
       "      <td>8</td>\n",
       "      <td>2010-02-19</td>\n",
       "      <td>963960.37</td>\n",
       "      <td>False</td>\n",
       "      <td>39.10</td>\n",
       "      <td>2.514</td>\n",
       "      <td>214.666488</td>\n",
       "      <td>6.299</td>\n",
       "    </tr>\n",
       "    <tr>\n",
       "      <th>1146</th>\n",
       "      <td>9</td>\n",
       "      <td>2010-02-19</td>\n",
       "      <td>511327.90</td>\n",
       "      <td>False</td>\n",
       "      <td>43.06</td>\n",
       "      <td>2.514</td>\n",
       "      <td>214.850618</td>\n",
       "      <td>6.415</td>\n",
       "    </tr>\n",
       "    <tr>\n",
       "      <th>1289</th>\n",
       "      <td>10</td>\n",
       "      <td>2010-02-19</td>\n",
       "      <td>2113432.58</td>\n",
       "      <td>False</td>\n",
       "      <td>58.22</td>\n",
       "      <td>2.915</td>\n",
       "      <td>126.526286</td>\n",
       "      <td>9.765</td>\n",
       "    </tr>\n",
       "    <tr>\n",
       "      <th>1432</th>\n",
       "      <td>11</td>\n",
       "      <td>2010-02-19</td>\n",
       "      <td>1503298.70</td>\n",
       "      <td>False</td>\n",
       "      <td>48.30</td>\n",
       "      <td>2.514</td>\n",
       "      <td>214.619887</td>\n",
       "      <td>7.368</td>\n",
       "    </tr>\n",
       "    <tr>\n",
       "      <th>1575</th>\n",
       "      <td>12</td>\n",
       "      <td>2010-02-19</td>\n",
       "      <td>1095421.65</td>\n",
       "      <td>False</td>\n",
       "      <td>54.83</td>\n",
       "      <td>2.915</td>\n",
       "      <td>126.526286</td>\n",
       "      <td>13.975</td>\n",
       "    </tr>\n",
       "    <tr>\n",
       "      <th>1718</th>\n",
       "      <td>13</td>\n",
       "      <td>2010-02-19</td>\n",
       "      <td>1970274.64</td>\n",
       "      <td>False</td>\n",
       "      <td>35.70</td>\n",
       "      <td>2.654</td>\n",
       "      <td>126.526286</td>\n",
       "      <td>8.316</td>\n",
       "    </tr>\n",
       "    <tr>\n",
       "      <th>1861</th>\n",
       "      <td>14</td>\n",
       "      <td>2010-02-19</td>\n",
       "      <td>2204556.70</td>\n",
       "      <td>False</td>\n",
       "      <td>31.27</td>\n",
       "      <td>2.745</td>\n",
       "      <td>182.034782</td>\n",
       "      <td>8.992</td>\n",
       "    </tr>\n",
       "    <tr>\n",
       "      <th>2004</th>\n",
       "      <td>15</td>\n",
       "      <td>2010-02-19</td>\n",
       "      <td>660838.75</td>\n",
       "      <td>False</td>\n",
       "      <td>27.54</td>\n",
       "      <td>2.909</td>\n",
       "      <td>131.637000</td>\n",
       "      <td>8.350</td>\n",
       "    </tr>\n",
       "    <tr>\n",
       "      <th>2147</th>\n",
       "      <td>16</td>\n",
       "      <td>2010-02-19</td>\n",
       "      <td>469868.70</td>\n",
       "      <td>False</td>\n",
       "      <td>21.13</td>\n",
       "      <td>2.550</td>\n",
       "      <td>189.534100</td>\n",
       "      <td>7.039</td>\n",
       "    </tr>\n",
       "    <tr>\n",
       "      <th>2290</th>\n",
       "      <td>17</td>\n",
       "      <td>2010-02-19</td>\n",
       "      <td>800714.00</td>\n",
       "      <td>False</td>\n",
       "      <td>25.06</td>\n",
       "      <td>2.654</td>\n",
       "      <td>126.526286</td>\n",
       "      <td>6.548</td>\n",
       "    </tr>\n",
       "    <tr>\n",
       "      <th>2433</th>\n",
       "      <td>18</td>\n",
       "      <td>2010-02-19</td>\n",
       "      <td>1150663.42</td>\n",
       "      <td>False</td>\n",
       "      <td>30.91</td>\n",
       "      <td>2.747</td>\n",
       "      <td>131.637000</td>\n",
       "      <td>9.202</td>\n",
       "    </tr>\n",
       "    <tr>\n",
       "      <th>2576</th>\n",
       "      <td>19</td>\n",
       "      <td>2010-02-19</td>\n",
       "      <td>1515976.11</td>\n",
       "      <td>False</td>\n",
       "      <td>28.57</td>\n",
       "      <td>2.909</td>\n",
       "      <td>131.637000</td>\n",
       "      <td>8.350</td>\n",
       "    </tr>\n",
       "    <tr>\n",
       "      <th>2719</th>\n",
       "      <td>20</td>\n",
       "      <td>2010-02-19</td>\n",
       "      <td>2161549.76</td>\n",
       "      <td>False</td>\n",
       "      <td>25.43</td>\n",
       "      <td>2.745</td>\n",
       "      <td>204.432100</td>\n",
       "      <td>8.187</td>\n",
       "    </tr>\n",
       "    <tr>\n",
       "      <th>2862</th>\n",
       "      <td>21</td>\n",
       "      <td>2010-02-19</td>\n",
       "      <td>867283.25</td>\n",
       "      <td>False</td>\n",
       "      <td>39.75</td>\n",
       "      <td>2.514</td>\n",
       "      <td>210.945160</td>\n",
       "      <td>8.324</td>\n",
       "    </tr>\n",
       "    <tr>\n",
       "      <th>3005</th>\n",
       "      <td>22</td>\n",
       "      <td>2010-02-19</td>\n",
       "      <td>988467.61</td>\n",
       "      <td>False</td>\n",
       "      <td>31.96</td>\n",
       "      <td>2.747</td>\n",
       "      <td>135.465778</td>\n",
       "      <td>8.283</td>\n",
       "    </tr>\n",
       "    <tr>\n",
       "      <th>3148</th>\n",
       "      <td>23</td>\n",
       "      <td>2010-02-19</td>\n",
       "      <td>1319588.04</td>\n",
       "      <td>False</td>\n",
       "      <td>26.70</td>\n",
       "      <td>2.747</td>\n",
       "      <td>131.637000</td>\n",
       "      <td>5.892</td>\n",
       "    </tr>\n",
       "    <tr>\n",
       "      <th>3291</th>\n",
       "      <td>24</td>\n",
       "      <td>2010-02-19</td>\n",
       "      <td>1385362.49</td>\n",
       "      <td>False</td>\n",
       "      <td>31.05</td>\n",
       "      <td>2.909</td>\n",
       "      <td>131.637000</td>\n",
       "      <td>8.326</td>\n",
       "    </tr>\n",
       "    <tr>\n",
       "      <th>3434</th>\n",
       "      <td>25</td>\n",
       "      <td>2010-02-19</td>\n",
       "      <td>676260.67</td>\n",
       "      <td>False</td>\n",
       "      <td>24.16</td>\n",
       "      <td>2.745</td>\n",
       "      <td>204.432100</td>\n",
       "      <td>8.187</td>\n",
       "    </tr>\n",
       "    <tr>\n",
       "      <th>3577</th>\n",
       "      <td>26</td>\n",
       "      <td>2010-02-19</td>\n",
       "      <td>999348.55</td>\n",
       "      <td>False</td>\n",
       "      <td>22.62</td>\n",
       "      <td>2.747</td>\n",
       "      <td>131.637000</td>\n",
       "      <td>8.488</td>\n",
       "    </tr>\n",
       "    <tr>\n",
       "      <th>3720</th>\n",
       "      <td>27</td>\n",
       "      <td>2010-02-19</td>\n",
       "      <td>1945070.33</td>\n",
       "      <td>False</td>\n",
       "      <td>32.44</td>\n",
       "      <td>2.909</td>\n",
       "      <td>135.465778</td>\n",
       "      <td>8.237</td>\n",
       "    </tr>\n",
       "    <tr>\n",
       "      <th>3863</th>\n",
       "      <td>28</td>\n",
       "      <td>2010-02-19</td>\n",
       "      <td>1491300.42</td>\n",
       "      <td>False</td>\n",
       "      <td>54.83</td>\n",
       "      <td>2.915</td>\n",
       "      <td>126.526286</td>\n",
       "      <td>13.975</td>\n",
       "    </tr>\n",
       "    <tr>\n",
       "      <th>4006</th>\n",
       "      <td>29</td>\n",
       "      <td>2010-02-19</td>\n",
       "      <td>542399.07</td>\n",
       "      <td>False</td>\n",
       "      <td>31.96</td>\n",
       "      <td>2.747</td>\n",
       "      <td>131.637000</td>\n",
       "      <td>10.064</td>\n",
       "    </tr>\n",
       "    <tr>\n",
       "      <th>4149</th>\n",
       "      <td>30</td>\n",
       "      <td>2010-02-19</td>\n",
       "      <td>463513.26</td>\n",
       "      <td>False</td>\n",
       "      <td>39.75</td>\n",
       "      <td>2.514</td>\n",
       "      <td>210.945160</td>\n",
       "      <td>8.324</td>\n",
       "    </tr>\n",
       "    <tr>\n",
       "      <th>4292</th>\n",
       "      <td>31</td>\n",
       "      <td>2010-02-19</td>\n",
       "      <td>1473386.75</td>\n",
       "      <td>False</td>\n",
       "      <td>39.75</td>\n",
       "      <td>2.514</td>\n",
       "      <td>210.945160</td>\n",
       "      <td>8.324</td>\n",
       "    </tr>\n",
       "    <tr>\n",
       "      <th>4435</th>\n",
       "      <td>32</td>\n",
       "      <td>2010-02-19</td>\n",
       "      <td>1082559.06</td>\n",
       "      <td>False</td>\n",
       "      <td>29.16</td>\n",
       "      <td>2.550</td>\n",
       "      <td>189.534100</td>\n",
       "      <td>9.014</td>\n",
       "    </tr>\n",
       "    <tr>\n",
       "      <th>4578</th>\n",
       "      <td>33</td>\n",
       "      <td>2010-02-19</td>\n",
       "      <td>296850.83</td>\n",
       "      <td>False</td>\n",
       "      <td>62.16</td>\n",
       "      <td>2.915</td>\n",
       "      <td>126.526286</td>\n",
       "      <td>10.115</td>\n",
       "    </tr>\n",
       "    <tr>\n",
       "      <th>4721</th>\n",
       "      <td>34</td>\n",
       "      <td>2010-02-19</td>\n",
       "      <td>983963.07</td>\n",
       "      <td>False</td>\n",
       "      <td>38.36</td>\n",
       "      <td>2.540</td>\n",
       "      <td>126.526286</td>\n",
       "      <td>9.521</td>\n",
       "    </tr>\n",
       "    <tr>\n",
       "      <th>4864</th>\n",
       "      <td>35</td>\n",
       "      <td>2010-02-19</td>\n",
       "      <td>1270658.64</td>\n",
       "      <td>False</td>\n",
       "      <td>32.44</td>\n",
       "      <td>2.745</td>\n",
       "      <td>135.465778</td>\n",
       "      <td>9.262</td>\n",
       "    </tr>\n",
       "    <tr>\n",
       "      <th>5007</th>\n",
       "      <td>36</td>\n",
       "      <td>2010-02-19</td>\n",
       "      <td>470281.03</td>\n",
       "      <td>False</td>\n",
       "      <td>45.66</td>\n",
       "      <td>2.472</td>\n",
       "      <td>210.045102</td>\n",
       "      <td>8.554</td>\n",
       "    </tr>\n",
       "    <tr>\n",
       "      <th>5150</th>\n",
       "      <td>37</td>\n",
       "      <td>2010-02-19</td>\n",
       "      <td>510382.50</td>\n",
       "      <td>False</td>\n",
       "      <td>45.66</td>\n",
       "      <td>2.514</td>\n",
       "      <td>210.045102</td>\n",
       "      <td>8.554</td>\n",
       "    </tr>\n",
       "    <tr>\n",
       "      <th>5293</th>\n",
       "      <td>38</td>\n",
       "      <td>2010-02-19</td>\n",
       "      <td>327237.92</td>\n",
       "      <td>False</td>\n",
       "      <td>54.83</td>\n",
       "      <td>2.915</td>\n",
       "      <td>126.526286</td>\n",
       "      <td>13.975</td>\n",
       "    </tr>\n",
       "    <tr>\n",
       "      <th>5436</th>\n",
       "      <td>39</td>\n",
       "      <td>2010-02-19</td>\n",
       "      <td>1230591.97</td>\n",
       "      <td>False</td>\n",
       "      <td>43.96</td>\n",
       "      <td>2.514</td>\n",
       "      <td>210.045102</td>\n",
       "      <td>8.554</td>\n",
       "    </tr>\n",
       "    <tr>\n",
       "      <th>5579</th>\n",
       "      <td>40</td>\n",
       "      <td>2010-02-19</td>\n",
       "      <td>916289.20</td>\n",
       "      <td>False</td>\n",
       "      <td>27.84</td>\n",
       "      <td>2.747</td>\n",
       "      <td>131.637000</td>\n",
       "      <td>5.892</td>\n",
       "    </tr>\n",
       "    <tr>\n",
       "      <th>5722</th>\n",
       "      <td>41</td>\n",
       "      <td>2010-02-19</td>\n",
       "      <td>1052034.74</td>\n",
       "      <td>False</td>\n",
       "      <td>24.13</td>\n",
       "      <td>2.550</td>\n",
       "      <td>189.534100</td>\n",
       "      <td>7.541</td>\n",
       "    </tr>\n",
       "    <tr>\n",
       "      <th>5865</th>\n",
       "      <td>42</td>\n",
       "      <td>2010-02-19</td>\n",
       "      <td>508794.87</td>\n",
       "      <td>False</td>\n",
       "      <td>58.22</td>\n",
       "      <td>2.915</td>\n",
       "      <td>126.526286</td>\n",
       "      <td>9.765</td>\n",
       "    </tr>\n",
       "    <tr>\n",
       "      <th>6008</th>\n",
       "      <td>43</td>\n",
       "      <td>2010-02-19</td>\n",
       "      <td>658997.55</td>\n",
       "      <td>False</td>\n",
       "      <td>48.77</td>\n",
       "      <td>2.514</td>\n",
       "      <td>203.247980</td>\n",
       "      <td>9.521</td>\n",
       "    </tr>\n",
       "    <tr>\n",
       "      <th>6151</th>\n",
       "      <td>44</td>\n",
       "      <td>2010-02-19</td>\n",
       "      <td>267956.30</td>\n",
       "      <td>False</td>\n",
       "      <td>35.70</td>\n",
       "      <td>2.654</td>\n",
       "      <td>126.526286</td>\n",
       "      <td>8.119</td>\n",
       "    </tr>\n",
       "    <tr>\n",
       "      <th>6294</th>\n",
       "      <td>45</td>\n",
       "      <td>2010-02-19</td>\n",
       "      <td>841264.04</td>\n",
       "      <td>False</td>\n",
       "      <td>31.27</td>\n",
       "      <td>2.745</td>\n",
       "      <td>182.034782</td>\n",
       "      <td>8.992</td>\n",
       "    </tr>\n",
       "  </tbody>\n",
       "</table>\n",
       "</div>"
      ],
      "text/plain": [
       "     Store       Date  Weekly_Sales  Holiday_Flag  Temperature  Fuel_Price  \\\n",
       "2        1 2010-02-19    1611968.17         False        39.93       2.514   \n",
       "145      2 2010-02-19    2124451.54         False        39.69       2.514   \n",
       "288      3 2010-02-19     421642.19         False        47.07       2.514   \n",
       "431      4 2010-02-19    2049860.26         False        36.45       2.540   \n",
       "574      5 2010-02-19     303447.57         False        41.14       2.514   \n",
       "717      6 2010-02-19    1567138.07         False        43.58       2.514   \n",
       "860      7 2010-02-19     506760.54         False        27.28       2.550   \n",
       "1003     8 2010-02-19     963960.37         False        39.10       2.514   \n",
       "1146     9 2010-02-19     511327.90         False        43.06       2.514   \n",
       "1289    10 2010-02-19    2113432.58         False        58.22       2.915   \n",
       "1432    11 2010-02-19    1503298.70         False        48.30       2.514   \n",
       "1575    12 2010-02-19    1095421.65         False        54.83       2.915   \n",
       "1718    13 2010-02-19    1970274.64         False        35.70       2.654   \n",
       "1861    14 2010-02-19    2204556.70         False        31.27       2.745   \n",
       "2004    15 2010-02-19     660838.75         False        27.54       2.909   \n",
       "2147    16 2010-02-19     469868.70         False        21.13       2.550   \n",
       "2290    17 2010-02-19     800714.00         False        25.06       2.654   \n",
       "2433    18 2010-02-19    1150663.42         False        30.91       2.747   \n",
       "2576    19 2010-02-19    1515976.11         False        28.57       2.909   \n",
       "2719    20 2010-02-19    2161549.76         False        25.43       2.745   \n",
       "2862    21 2010-02-19     867283.25         False        39.75       2.514   \n",
       "3005    22 2010-02-19     988467.61         False        31.96       2.747   \n",
       "3148    23 2010-02-19    1319588.04         False        26.70       2.747   \n",
       "3291    24 2010-02-19    1385362.49         False        31.05       2.909   \n",
       "3434    25 2010-02-19     676260.67         False        24.16       2.745   \n",
       "3577    26 2010-02-19     999348.55         False        22.62       2.747   \n",
       "3720    27 2010-02-19    1945070.33         False        32.44       2.909   \n",
       "3863    28 2010-02-19    1491300.42         False        54.83       2.915   \n",
       "4006    29 2010-02-19     542399.07         False        31.96       2.747   \n",
       "4149    30 2010-02-19     463513.26         False        39.75       2.514   \n",
       "4292    31 2010-02-19    1473386.75         False        39.75       2.514   \n",
       "4435    32 2010-02-19    1082559.06         False        29.16       2.550   \n",
       "4578    33 2010-02-19     296850.83         False        62.16       2.915   \n",
       "4721    34 2010-02-19     983963.07         False        38.36       2.540   \n",
       "4864    35 2010-02-19    1270658.64         False        32.44       2.745   \n",
       "5007    36 2010-02-19     470281.03         False        45.66       2.472   \n",
       "5150    37 2010-02-19     510382.50         False        45.66       2.514   \n",
       "5293    38 2010-02-19     327237.92         False        54.83       2.915   \n",
       "5436    39 2010-02-19    1230591.97         False        43.96       2.514   \n",
       "5579    40 2010-02-19     916289.20         False        27.84       2.747   \n",
       "5722    41 2010-02-19    1052034.74         False        24.13       2.550   \n",
       "5865    42 2010-02-19     508794.87         False        58.22       2.915   \n",
       "6008    43 2010-02-19     658997.55         False        48.77       2.514   \n",
       "6151    44 2010-02-19     267956.30         False        35.70       2.654   \n",
       "6294    45 2010-02-19     841264.04         False        31.27       2.745   \n",
       "\n",
       "             CPI  Unemployment  \n",
       "2     211.289143         8.106  \n",
       "145   210.945160         8.324  \n",
       "288   214.619887         7.368  \n",
       "431   126.526286         8.623  \n",
       "574   211.847128         6.566  \n",
       "717   212.816155         7.259  \n",
       "860   189.534100         9.014  \n",
       "1003  214.666488         6.299  \n",
       "1146  214.850618         6.415  \n",
       "1289  126.526286         9.765  \n",
       "1432  214.619887         7.368  \n",
       "1575  126.526286        13.975  \n",
       "1718  126.526286         8.316  \n",
       "1861  182.034782         8.992  \n",
       "2004  131.637000         8.350  \n",
       "2147  189.534100         7.039  \n",
       "2290  126.526286         6.548  \n",
       "2433  131.637000         9.202  \n",
       "2576  131.637000         8.350  \n",
       "2719  204.432100         8.187  \n",
       "2862  210.945160         8.324  \n",
       "3005  135.465778         8.283  \n",
       "3148  131.637000         5.892  \n",
       "3291  131.637000         8.326  \n",
       "3434  204.432100         8.187  \n",
       "3577  131.637000         8.488  \n",
       "3720  135.465778         8.237  \n",
       "3863  126.526286        13.975  \n",
       "4006  131.637000        10.064  \n",
       "4149  210.945160         8.324  \n",
       "4292  210.945160         8.324  \n",
       "4435  189.534100         9.014  \n",
       "4578  126.526286        10.115  \n",
       "4721  126.526286         9.521  \n",
       "4864  135.465778         9.262  \n",
       "5007  210.045102         8.554  \n",
       "5150  210.045102         8.554  \n",
       "5293  126.526286        13.975  \n",
       "5436  210.045102         8.554  \n",
       "5579  131.637000         5.892  \n",
       "5722  189.534100         7.541  \n",
       "5865  126.526286         9.765  \n",
       "6008  203.247980         9.521  \n",
       "6151  126.526286         8.119  \n",
       "6294  182.034782         8.992  "
      ]
     },
     "execution_count": 60,
     "metadata": {},
     "output_type": "execute_result"
    }
   ],
   "source": [
    "walmart.query(\"Date >= '2010-02-12' and Date <= '2010-02-20'\")"
   ]
  },
  {
   "cell_type": "markdown",
   "id": "bf6816d8",
   "metadata": {},
   "source": [
    "- .iloc acessa por posição (linha,coluna)\n",
    "- .loc permite acessar as variáveis por index "
   ]
  },
  {
   "cell_type": "code",
   "execution_count": 61,
   "id": "7c65adca",
   "metadata": {},
   "outputs": [
    {
     "data": {
      "text/plain": [
       "Timestamp('2010-05-02 00:00:00')"
      ]
     },
     "execution_count": 61,
     "metadata": {},
     "output_type": "execute_result"
    }
   ],
   "source": [
    "walmart.iloc[0,1]"
   ]
  },
  {
   "cell_type": "code",
   "execution_count": 62,
   "id": "05905c2e",
   "metadata": {},
   "outputs": [
    {
     "data": {
      "application/vnd.microsoft.datawrangler.viewer.v0+json": {
       "columns": [
        {
         "name": "index",
         "rawType": "int64",
         "type": "integer"
        },
        {
         "name": "Store",
         "rawType": "category",
         "type": "unknown"
        },
        {
         "name": "Date",
         "rawType": "datetime64[ns]",
         "type": "datetime"
        },
        {
         "name": "Weekly_Sales",
         "rawType": "float64",
         "type": "float"
        },
        {
         "name": "Holiday_Flag",
         "rawType": "bool",
         "type": "boolean"
        },
        {
         "name": "Temperature",
         "rawType": "float64",
         "type": "float"
        },
        {
         "name": "Fuel_Price",
         "rawType": "float64",
         "type": "float"
        },
        {
         "name": "CPI",
         "rawType": "float64",
         "type": "float"
        },
        {
         "name": "Unemployment",
         "rawType": "float64",
         "type": "float"
        }
       ],
       "ref": "62d95214-1f7c-4fae-b787-a99ecc172a6f",
       "rows": [
        [
         "0",
         "1",
         "2010-05-02 00:00:00",
         "1643690.9",
         "False",
         "42.31",
         "2.572",
         "211.0963582",
         "8.106"
        ],
        [
         "1",
         "1",
         "2010-12-02 00:00:00",
         "1641957.44",
         "True",
         "38.51",
         "2.548",
         "211.2421698",
         "8.106"
        ],
        [
         "2",
         "1",
         "2010-02-19 00:00:00",
         "1611968.17",
         "False",
         "39.93",
         "2.514",
         "211.2891429",
         "8.106"
        ]
       ],
       "shape": {
        "columns": 8,
        "rows": 3
       }
      },
      "text/html": [
       "<div>\n",
       "<style scoped>\n",
       "    .dataframe tbody tr th:only-of-type {\n",
       "        vertical-align: middle;\n",
       "    }\n",
       "\n",
       "    .dataframe tbody tr th {\n",
       "        vertical-align: top;\n",
       "    }\n",
       "\n",
       "    .dataframe thead th {\n",
       "        text-align: right;\n",
       "    }\n",
       "</style>\n",
       "<table border=\"1\" class=\"dataframe\">\n",
       "  <thead>\n",
       "    <tr style=\"text-align: right;\">\n",
       "      <th></th>\n",
       "      <th>Store</th>\n",
       "      <th>Date</th>\n",
       "      <th>Weekly_Sales</th>\n",
       "      <th>Holiday_Flag</th>\n",
       "      <th>Temperature</th>\n",
       "      <th>Fuel_Price</th>\n",
       "      <th>CPI</th>\n",
       "      <th>Unemployment</th>\n",
       "    </tr>\n",
       "  </thead>\n",
       "  <tbody>\n",
       "    <tr>\n",
       "      <th>0</th>\n",
       "      <td>1</td>\n",
       "      <td>2010-05-02</td>\n",
       "      <td>1643690.90</td>\n",
       "      <td>False</td>\n",
       "      <td>42.31</td>\n",
       "      <td>2.572</td>\n",
       "      <td>211.096358</td>\n",
       "      <td>8.106</td>\n",
       "    </tr>\n",
       "    <tr>\n",
       "      <th>1</th>\n",
       "      <td>1</td>\n",
       "      <td>2010-12-02</td>\n",
       "      <td>1641957.44</td>\n",
       "      <td>True</td>\n",
       "      <td>38.51</td>\n",
       "      <td>2.548</td>\n",
       "      <td>211.242170</td>\n",
       "      <td>8.106</td>\n",
       "    </tr>\n",
       "    <tr>\n",
       "      <th>2</th>\n",
       "      <td>1</td>\n",
       "      <td>2010-02-19</td>\n",
       "      <td>1611968.17</td>\n",
       "      <td>False</td>\n",
       "      <td>39.93</td>\n",
       "      <td>2.514</td>\n",
       "      <td>211.289143</td>\n",
       "      <td>8.106</td>\n",
       "    </tr>\n",
       "  </tbody>\n",
       "</table>\n",
       "</div>"
      ],
      "text/plain": [
       "  Store       Date  Weekly_Sales  Holiday_Flag  Temperature  Fuel_Price  \\\n",
       "0     1 2010-05-02    1643690.90         False        42.31       2.572   \n",
       "1     1 2010-12-02    1641957.44          True        38.51       2.548   \n",
       "2     1 2010-02-19    1611968.17         False        39.93       2.514   \n",
       "\n",
       "          CPI  Unemployment  \n",
       "0  211.096358         8.106  \n",
       "1  211.242170         8.106  \n",
       "2  211.289143         8.106  "
      ]
     },
     "execution_count": 62,
     "metadata": {},
     "output_type": "execute_result"
    }
   ],
   "source": [
    "walmart.loc[[0,1,2]]"
   ]
  },
  {
   "cell_type": "code",
   "execution_count": 63,
   "id": "e3c3571c",
   "metadata": {},
   "outputs": [
    {
     "data": {
      "application/vnd.microsoft.datawrangler.viewer.v0+json": {
       "columns": [
        {
         "name": "index",
         "rawType": "object",
         "type": "string"
        },
        {
         "name": "0",
         "rawType": "object",
         "type": "unknown"
        }
       ],
       "ref": "1a662b9f-4ebd-4218-9670-e332f43704af",
       "rows": [
        [
         "Store",
         "1"
        ],
        [
         "Date",
         "2010-05-02 00:00:00"
        ],
        [
         "Weekly_Sales",
         "1643690.9"
        ],
        [
         "Holiday_Flag",
         "False"
        ],
        [
         "Temperature",
         "42.31"
        ],
        [
         "Fuel_Price",
         "2.572"
        ],
        [
         "CPI",
         "211.0963582"
        ],
        [
         "Unemployment",
         "8.106"
        ]
       ],
       "shape": {
        "columns": 1,
        "rows": 8
       }
      },
      "text/plain": [
       "Store                             1\n",
       "Date            2010-05-02 00:00:00\n",
       "Weekly_Sales              1643690.9\n",
       "Holiday_Flag                  False\n",
       "Temperature                   42.31\n",
       "Fuel_Price                    2.572\n",
       "CPI                      211.096358\n",
       "Unemployment                  8.106\n",
       "Name: 0, dtype: object"
      ]
     },
     "execution_count": 63,
     "metadata": {},
     "output_type": "execute_result"
    }
   ],
   "source": [
    "walmart.loc[0]"
   ]
  },
  {
   "cell_type": "markdown",
   "id": "9a4d0c4f",
   "metadata": {},
   "source": [
    "- .loc também permite criar condições para retornar "
   ]
  },
  {
   "cell_type": "code",
   "execution_count": 64,
   "id": "12065538",
   "metadata": {},
   "outputs": [
    {
     "data": {
      "application/vnd.microsoft.datawrangler.viewer.v0+json": {
       "columns": [
        {
         "name": "index",
         "rawType": "int64",
         "type": "integer"
        },
        {
         "name": "Store",
         "rawType": "category",
         "type": "unknown"
        },
        {
         "name": "Date",
         "rawType": "datetime64[ns]",
         "type": "datetime"
        },
        {
         "name": "Weekly_Sales",
         "rawType": "float64",
         "type": "float"
        },
        {
         "name": "Holiday_Flag",
         "rawType": "bool",
         "type": "boolean"
        },
        {
         "name": "Temperature",
         "rawType": "float64",
         "type": "float"
        },
        {
         "name": "Fuel_Price",
         "rawType": "float64",
         "type": "float"
        },
        {
         "name": "CPI",
         "rawType": "float64",
         "type": "float"
        },
        {
         "name": "Unemployment",
         "rawType": "float64",
         "type": "float"
        }
       ],
       "ref": "6ae3cd20-ef1f-4c76-a52d-2acdfa80b528",
       "rows": [
        [
         "0",
         "1",
         "2010-05-02 00:00:00",
         "1643690.9",
         "False",
         "42.31",
         "2.572",
         "211.0963582",
         "8.106"
        ],
        [
         "1",
         "1",
         "2010-12-02 00:00:00",
         "1641957.44",
         "True",
         "38.51",
         "2.548",
         "211.2421698",
         "8.106"
        ],
        [
         "2",
         "1",
         "2010-02-19 00:00:00",
         "1611968.17",
         "False",
         "39.93",
         "2.514",
         "211.2891429",
         "8.106"
        ],
        [
         "3",
         "1",
         "2010-02-26 00:00:00",
         "1409727.59",
         "False",
         "46.63",
         "2.561",
         "211.3196429",
         "8.106"
        ],
        [
         "4",
         "1",
         "2010-05-03 00:00:00",
         "1554806.68",
         "False",
         "46.5",
         "2.625",
         "211.3501429",
         "8.106"
        ],
        [
         "5",
         "1",
         "2010-12-03 00:00:00",
         "1439541.59",
         "False",
         "57.79",
         "2.667",
         "211.3806429",
         "8.106"
        ],
        [
         "6",
         "1",
         "2010-03-19 00:00:00",
         "1472515.79",
         "False",
         "54.58",
         "2.72",
         "211.215635",
         "8.106"
        ],
        [
         "7",
         "1",
         "2010-03-26 00:00:00",
         "1404429.92",
         "False",
         "51.45",
         "2.732",
         "211.0180424",
         "8.106"
        ],
        [
         "8",
         "1",
         "2010-02-04 00:00:00",
         "1594968.28",
         "False",
         "62.27",
         "2.719",
         "210.8204499",
         "7.808"
        ],
        [
         "9",
         "1",
         "2010-09-04 00:00:00",
         "1545418.53",
         "False",
         "65.86",
         "2.77",
         "210.6228574",
         "7.808"
        ],
        [
         "10",
         "1",
         "2010-04-16 00:00:00",
         "1466058.28",
         "False",
         "66.32",
         "2.808",
         "210.4887",
         "7.808"
        ],
        [
         "11",
         "1",
         "2010-04-23 00:00:00",
         "1391256.12",
         "False",
         "64.84",
         "2.795",
         "210.4391228",
         "7.808"
        ],
        [
         "12",
         "1",
         "2010-04-30 00:00:00",
         "1425100.71",
         "False",
         "67.41",
         "2.78",
         "210.3895456",
         "7.808"
        ],
        [
         "13",
         "1",
         "2010-07-05 00:00:00",
         "1603955.12",
         "False",
         "72.55",
         "2.835",
         "210.3399684",
         "7.808"
        ],
        [
         "14",
         "1",
         "2010-05-14 00:00:00",
         "1494251.5",
         "False",
         "74.78",
         "2.854",
         "210.3374261",
         "7.808"
        ],
        [
         "15",
         "1",
         "2010-05-21 00:00:00",
         "1399662.07",
         "False",
         "76.44",
         "2.826",
         "210.6170934",
         "7.808"
        ],
        [
         "16",
         "1",
         "2010-05-28 00:00:00",
         "1432069.95",
         "False",
         "80.44",
         "2.759",
         "210.8967606",
         "7.808"
        ],
        [
         "17",
         "1",
         "2010-04-06 00:00:00",
         "1615524.71",
         "False",
         "80.69",
         "2.705",
         "211.1764278",
         "7.808"
        ],
        [
         "18",
         "1",
         "2010-11-06 00:00:00",
         "1542561.09",
         "False",
         "80.43",
         "2.668",
         "211.4560951",
         "7.808"
        ],
        [
         "19",
         "1",
         "2010-06-18 00:00:00",
         "1503284.06",
         "False",
         "84.11",
         "2.637",
         "211.4537719",
         "7.808"
        ],
        [
         "20",
         "1",
         "2010-06-25 00:00:00",
         "1422711.6",
         "False",
         "84.34",
         "2.653",
         "211.3386526",
         "7.808"
        ],
        [
         "21",
         "1",
         "2010-02-07 00:00:00",
         "1492418.14",
         "False",
         "80.91",
         "2.669",
         "211.2235333",
         "7.787"
        ],
        [
         "22",
         "1",
         "2010-09-07 00:00:00",
         "1546074.18",
         "False",
         "80.48",
         "2.642",
         "211.108414",
         "7.787"
        ],
        [
         "23",
         "1",
         "2010-07-16 00:00:00",
         "1448938.92",
         "False",
         "83.15",
         "2.623",
         "211.1003854",
         "7.787"
        ],
        [
         "24",
         "1",
         "2010-07-23 00:00:00",
         "1385065.2",
         "False",
         "83.36",
         "2.608",
         "211.2351443",
         "7.787"
        ],
        [
         "25",
         "1",
         "2010-07-30 00:00:00",
         "1371986.6",
         "False",
         "81.84",
         "2.64",
         "211.3699032",
         "7.787"
        ],
        [
         "26",
         "1",
         "2010-06-08 00:00:00",
         "1605491.78",
         "False",
         "87.16",
         "2.627",
         "211.5046621",
         "7.787"
        ],
        [
         "27",
         "1",
         "2010-08-13 00:00:00",
         "1508237.76",
         "False",
         "87.0",
         "2.692",
         "211.6394211",
         "7.787"
        ],
        [
         "28",
         "1",
         "2010-08-20 00:00:00",
         "1513080.49",
         "False",
         "86.65",
         "2.664",
         "211.6033633",
         "7.787"
        ],
        [
         "29",
         "1",
         "2010-08-27 00:00:00",
         "1449142.92",
         "False",
         "85.22",
         "2.619",
         "211.5673056",
         "7.787"
        ],
        [
         "30",
         "1",
         "2010-03-09 00:00:00",
         "1540163.53",
         "False",
         "81.21",
         "2.577",
         "211.5312479",
         "7.787"
        ],
        [
         "31",
         "1",
         "2010-10-09 00:00:00",
         "1507460.69",
         "True",
         "78.69",
         "2.565",
         "211.4951902",
         "7.787"
        ],
        [
         "32",
         "1",
         "2010-09-17 00:00:00",
         "1430378.67",
         "False",
         "82.11",
         "2.582",
         "211.5224596",
         "7.787"
        ],
        [
         "33",
         "1",
         "2010-09-24 00:00:00",
         "1351791.03",
         "False",
         "80.94",
         "2.624",
         "211.5972246",
         "7.787"
        ],
        [
         "34",
         "1",
         "2010-01-10 00:00:00",
         "1453329.5",
         "False",
         "71.89",
         "2.603",
         "211.6719895",
         "7.838"
        ],
        [
         "35",
         "1",
         "2010-08-10 00:00:00",
         "1508239.93",
         "False",
         "63.93",
         "2.633",
         "211.7467544",
         "7.838"
        ],
        [
         "36",
         "1",
         "2010-10-15 00:00:00",
         "1459409.1",
         "False",
         "67.18",
         "2.72",
         "211.8137436",
         "7.838"
        ],
        [
         "37",
         "1",
         "2010-10-22 00:00:00",
         "1345454.0",
         "False",
         "69.86",
         "2.725",
         "211.8612937",
         "7.838"
        ],
        [
         "38",
         "1",
         "2010-10-29 00:00:00",
         "1384209.22",
         "False",
         "69.64",
         "2.716",
         "211.9088438",
         "7.838"
        ],
        [
         "39",
         "1",
         "2010-05-11 00:00:00",
         "1551659.28",
         "False",
         "58.74",
         "2.689",
         "211.9563939",
         "7.838"
        ],
        [
         "40",
         "1",
         "2010-12-11 00:00:00",
         "1494479.49",
         "False",
         "59.61",
         "2.728",
         "212.003944",
         "7.838"
        ],
        [
         "41",
         "1",
         "2010-11-19 00:00:00",
         "1483784.18",
         "False",
         "51.41",
         "2.771",
         "211.8896737",
         "7.838"
        ],
        [
         "42",
         "1",
         "2010-11-26 00:00:00",
         "1955624.11",
         "True",
         "64.52",
         "2.735",
         "211.7484333",
         "7.838"
        ],
        [
         "43",
         "1",
         "2010-03-12 00:00:00",
         "1548033.78",
         "False",
         "49.27",
         "2.708",
         "211.607193",
         "7.838"
        ],
        [
         "44",
         "1",
         "2010-10-12 00:00:00",
         "1682614.26",
         "False",
         "46.33",
         "2.843",
         "211.4659526",
         "7.838"
        ],
        [
         "45",
         "1",
         "2010-12-17 00:00:00",
         "1891034.93",
         "False",
         "49.84",
         "2.869",
         "211.4053124",
         "7.838"
        ],
        [
         "46",
         "1",
         "2010-12-24 00:00:00",
         "2387950.2",
         "False",
         "52.33",
         "2.886",
         "211.4051222",
         "7.838"
        ],
        [
         "47",
         "1",
         "2010-12-31 00:00:00",
         "1367320.01",
         "True",
         "48.43",
         "2.943",
         "211.4049321",
         "7.838"
        ],
        [
         "48",
         "1",
         "2011-07-01 00:00:00",
         "1444732.28",
         "False",
         "48.27",
         "2.976",
         "211.4047419",
         "7.742"
        ],
        [
         "49",
         "1",
         "2011-01-14 00:00:00",
         "1391013.96",
         "False",
         "35.4",
         "2.983",
         "211.4574109",
         "7.742"
        ]
       ],
       "shape": {
        "columns": 8,
        "rows": 6435
       }
      },
      "text/html": [
       "<div>\n",
       "<style scoped>\n",
       "    .dataframe tbody tr th:only-of-type {\n",
       "        vertical-align: middle;\n",
       "    }\n",
       "\n",
       "    .dataframe tbody tr th {\n",
       "        vertical-align: top;\n",
       "    }\n",
       "\n",
       "    .dataframe thead th {\n",
       "        text-align: right;\n",
       "    }\n",
       "</style>\n",
       "<table border=\"1\" class=\"dataframe\">\n",
       "  <thead>\n",
       "    <tr style=\"text-align: right;\">\n",
       "      <th></th>\n",
       "      <th>Store</th>\n",
       "      <th>Date</th>\n",
       "      <th>Weekly_Sales</th>\n",
       "      <th>Holiday_Flag</th>\n",
       "      <th>Temperature</th>\n",
       "      <th>Fuel_Price</th>\n",
       "      <th>CPI</th>\n",
       "      <th>Unemployment</th>\n",
       "    </tr>\n",
       "  </thead>\n",
       "  <tbody>\n",
       "    <tr>\n",
       "      <th>0</th>\n",
       "      <td>1</td>\n",
       "      <td>2010-05-02</td>\n",
       "      <td>1643690.90</td>\n",
       "      <td>False</td>\n",
       "      <td>42.31</td>\n",
       "      <td>2.572</td>\n",
       "      <td>211.096358</td>\n",
       "      <td>8.106</td>\n",
       "    </tr>\n",
       "    <tr>\n",
       "      <th>1</th>\n",
       "      <td>1</td>\n",
       "      <td>2010-12-02</td>\n",
       "      <td>1641957.44</td>\n",
       "      <td>True</td>\n",
       "      <td>38.51</td>\n",
       "      <td>2.548</td>\n",
       "      <td>211.242170</td>\n",
       "      <td>8.106</td>\n",
       "    </tr>\n",
       "    <tr>\n",
       "      <th>2</th>\n",
       "      <td>1</td>\n",
       "      <td>2010-02-19</td>\n",
       "      <td>1611968.17</td>\n",
       "      <td>False</td>\n",
       "      <td>39.93</td>\n",
       "      <td>2.514</td>\n",
       "      <td>211.289143</td>\n",
       "      <td>8.106</td>\n",
       "    </tr>\n",
       "    <tr>\n",
       "      <th>3</th>\n",
       "      <td>1</td>\n",
       "      <td>2010-02-26</td>\n",
       "      <td>1409727.59</td>\n",
       "      <td>False</td>\n",
       "      <td>46.63</td>\n",
       "      <td>2.561</td>\n",
       "      <td>211.319643</td>\n",
       "      <td>8.106</td>\n",
       "    </tr>\n",
       "    <tr>\n",
       "      <th>4</th>\n",
       "      <td>1</td>\n",
       "      <td>2010-05-03</td>\n",
       "      <td>1554806.68</td>\n",
       "      <td>False</td>\n",
       "      <td>46.50</td>\n",
       "      <td>2.625</td>\n",
       "      <td>211.350143</td>\n",
       "      <td>8.106</td>\n",
       "    </tr>\n",
       "    <tr>\n",
       "      <th>...</th>\n",
       "      <td>...</td>\n",
       "      <td>...</td>\n",
       "      <td>...</td>\n",
       "      <td>...</td>\n",
       "      <td>...</td>\n",
       "      <td>...</td>\n",
       "      <td>...</td>\n",
       "      <td>...</td>\n",
       "    </tr>\n",
       "    <tr>\n",
       "      <th>6430</th>\n",
       "      <td>45</td>\n",
       "      <td>2012-09-28</td>\n",
       "      <td>713173.95</td>\n",
       "      <td>False</td>\n",
       "      <td>64.88</td>\n",
       "      <td>3.997</td>\n",
       "      <td>192.013558</td>\n",
       "      <td>8.684</td>\n",
       "    </tr>\n",
       "    <tr>\n",
       "      <th>6431</th>\n",
       "      <td>45</td>\n",
       "      <td>2012-05-10</td>\n",
       "      <td>733455.07</td>\n",
       "      <td>False</td>\n",
       "      <td>64.89</td>\n",
       "      <td>3.985</td>\n",
       "      <td>192.170412</td>\n",
       "      <td>8.667</td>\n",
       "    </tr>\n",
       "    <tr>\n",
       "      <th>6432</th>\n",
       "      <td>45</td>\n",
       "      <td>2012-12-10</td>\n",
       "      <td>734464.36</td>\n",
       "      <td>False</td>\n",
       "      <td>54.47</td>\n",
       "      <td>4.000</td>\n",
       "      <td>192.327265</td>\n",
       "      <td>8.667</td>\n",
       "    </tr>\n",
       "    <tr>\n",
       "      <th>6433</th>\n",
       "      <td>45</td>\n",
       "      <td>2012-10-19</td>\n",
       "      <td>718125.53</td>\n",
       "      <td>False</td>\n",
       "      <td>56.47</td>\n",
       "      <td>3.969</td>\n",
       "      <td>192.330854</td>\n",
       "      <td>8.667</td>\n",
       "    </tr>\n",
       "    <tr>\n",
       "      <th>6434</th>\n",
       "      <td>45</td>\n",
       "      <td>2012-10-26</td>\n",
       "      <td>760281.43</td>\n",
       "      <td>False</td>\n",
       "      <td>58.85</td>\n",
       "      <td>3.882</td>\n",
       "      <td>192.308899</td>\n",
       "      <td>8.667</td>\n",
       "    </tr>\n",
       "  </tbody>\n",
       "</table>\n",
       "<p>6435 rows × 8 columns</p>\n",
       "</div>"
      ],
      "text/plain": [
       "     Store       Date  Weekly_Sales  Holiday_Flag  Temperature  Fuel_Price  \\\n",
       "0        1 2010-05-02    1643690.90         False        42.31       2.572   \n",
       "1        1 2010-12-02    1641957.44          True        38.51       2.548   \n",
       "2        1 2010-02-19    1611968.17         False        39.93       2.514   \n",
       "3        1 2010-02-26    1409727.59         False        46.63       2.561   \n",
       "4        1 2010-05-03    1554806.68         False        46.50       2.625   \n",
       "...    ...        ...           ...           ...          ...         ...   \n",
       "6430    45 2012-09-28     713173.95         False        64.88       3.997   \n",
       "6431    45 2012-05-10     733455.07         False        64.89       3.985   \n",
       "6432    45 2012-12-10     734464.36         False        54.47       4.000   \n",
       "6433    45 2012-10-19     718125.53         False        56.47       3.969   \n",
       "6434    45 2012-10-26     760281.43         False        58.85       3.882   \n",
       "\n",
       "             CPI  Unemployment  \n",
       "0     211.096358         8.106  \n",
       "1     211.242170         8.106  \n",
       "2     211.289143         8.106  \n",
       "3     211.319643         8.106  \n",
       "4     211.350143         8.106  \n",
       "...          ...           ...  \n",
       "6430  192.013558         8.684  \n",
       "6431  192.170412         8.667  \n",
       "6432  192.327265         8.667  \n",
       "6433  192.330854         8.667  \n",
       "6434  192.308899         8.667  \n",
       "\n",
       "[6435 rows x 8 columns]"
      ]
     },
     "execution_count": 64,
     "metadata": {},
     "output_type": "execute_result"
    }
   ],
   "source": [
    "walmart"
   ]
  },
  {
   "cell_type": "code",
   "execution_count": 65,
   "id": "b1423f3b",
   "metadata": {},
   "outputs": [
    {
     "data": {
      "application/vnd.microsoft.datawrangler.viewer.v0+json": {
       "columns": [
        {
         "name": "index",
         "rawType": "int64",
         "type": "integer"
        },
        {
         "name": "Store",
         "rawType": "category",
         "type": "unknown"
        },
        {
         "name": "Date",
         "rawType": "datetime64[ns]",
         "type": "datetime"
        },
        {
         "name": "Weekly_Sales",
         "rawType": "float64",
         "type": "float"
        },
        {
         "name": "Holiday_Flag",
         "rawType": "bool",
         "type": "boolean"
        },
        {
         "name": "Temperature",
         "rawType": "float64",
         "type": "float"
        },
        {
         "name": "Fuel_Price",
         "rawType": "float64",
         "type": "float"
        },
        {
         "name": "CPI",
         "rawType": "float64",
         "type": "float"
        },
        {
         "name": "Unemployment",
         "rawType": "float64",
         "type": "float"
        }
       ],
       "ref": "9b3ae21e-cbbc-4bf1-b0e9-2acf7a45f124",
       "rows": [
        [
         "1",
         "1",
         "2010-12-02 00:00:00",
         "1641957.44",
         "True",
         "38.51",
         "2.548",
         "211.2421698",
         "8.106"
        ],
        [
         "31",
         "1",
         "2010-10-09 00:00:00",
         "1507460.69",
         "True",
         "78.69",
         "2.565",
         "211.4951902",
         "7.787"
        ],
        [
         "42",
         "1",
         "2010-11-26 00:00:00",
         "1955624.11",
         "True",
         "64.52",
         "2.735",
         "211.7484333",
         "7.838"
        ],
        [
         "47",
         "1",
         "2010-12-31 00:00:00",
         "1367320.01",
         "True",
         "48.43",
         "2.943",
         "211.4049321",
         "7.838"
        ],
        [
         "53",
         "1",
         "2011-11-02 00:00:00",
         "1649614.93",
         "True",
         "36.39",
         "3.022",
         "212.9367046",
         "7.742"
        ],
        [
         "83",
         "1",
         "2011-09-09 00:00:00",
         "1540471.24",
         "True",
         "76.0",
         "3.546",
         "215.861056",
         "7.962"
        ],
        [
         "94",
         "1",
         "2011-11-25 00:00:00",
         "2033320.66",
         "True",
         "60.14",
         "3.236",
         "218.4676211",
         "7.866"
        ],
        [
         "99",
         "1",
         "2011-12-30 00:00:00",
         "1497462.72",
         "True",
         "44.55",
         "3.129",
         "219.5359898",
         "7.866"
        ],
        [
         "105",
         "1",
         "2012-10-02 00:00:00",
         "1802477.43",
         "True",
         "48.02",
         "3.409",
         "220.2651783",
         "7.348"
        ],
        [
         "135",
         "1",
         "2012-07-09 00:00:00",
         "1661767.33",
         "True",
         "83.96",
         "3.73",
         "222.4390153",
         "6.908"
        ],
        [
         "144",
         "2",
         "2010-12-02 00:00:00",
         "2137809.5",
         "True",
         "38.49",
         "2.548",
         "210.8979935",
         "8.324"
        ],
        [
         "174",
         "2",
         "2010-10-09 00:00:00",
         "1839128.83",
         "True",
         "79.09",
         "2.565",
         "211.1532104",
         "8.099"
        ],
        [
         "185",
         "2",
         "2010-11-26 00:00:00",
         "2658725.29",
         "True",
         "62.98",
         "2.735",
         "211.4062867",
         "8.163"
        ],
        [
         "190",
         "2",
         "2010-12-31 00:00:00",
         "1750434.55",
         "True",
         "47.3",
         "2.943",
         "211.064774",
         "8.163"
        ],
        [
         "196",
         "2",
         "2011-11-02 00:00:00",
         "2168041.61",
         "True",
         "33.19",
         "3.022",
         "212.5928624",
         "8.028"
        ],
        [
         "226",
         "2",
         "2011-09-09 00:00:00",
         "1748000.65",
         "True",
         "77.97",
         "3.546",
         "215.5148295",
         "7.852"
        ],
        [
         "237",
         "2",
         "2011-11-25 00:00:00",
         "2614202.3",
         "True",
         "56.36",
         "3.236",
         "218.1130269",
         "7.441"
        ],
        [
         "242",
         "2",
         "2011-12-30 00:00:00",
         "1874226.52",
         "True",
         "44.57",
         "3.129",
         "219.1773063",
         "7.441"
        ],
        [
         "248",
         "2",
         "2012-10-02 00:00:00",
         "2103322.68",
         "True",
         "46.98",
         "3.409",
         "219.9049073",
         "7.057"
        ],
        [
         "278",
         "2",
         "2012-07-09 00:00:00",
         "1898777.07",
         "True",
         "87.65",
         "3.73",
         "222.0747635",
         "6.565"
        ],
        [
         "287",
         "3",
         "2010-12-02 00:00:00",
         "420728.96",
         "True",
         "47.93",
         "2.548",
         "214.5747916",
         "7.368"
        ],
        [
         "317",
         "3",
         "2010-10-09 00:00:00",
         "352260.97",
         "True",
         "80.84",
         "2.565",
         "214.8065431",
         "7.346"
        ],
        [
         "328",
         "3",
         "2010-11-26 00:00:00",
         "565567.84",
         "True",
         "68.71",
         "2.735",
         "215.0614025",
         "7.564"
        ],
        [
         "333",
         "3",
         "2010-12-31 00:00:00",
         "382677.76",
         "True",
         "53.2",
         "2.943",
         "214.6986466",
         "7.564"
        ],
        [
         "339",
         "3",
         "2011-11-02 00:00:00",
         "430526.21",
         "True",
         "43.57",
         "3.022",
         "216.2660913",
         "7.551"
        ],
        [
         "369",
         "3",
         "2011-09-09 00:00:00",
         "377347.49",
         "True",
         "81.72",
         "3.546",
         "219.2135305",
         "7.567"
        ],
        [
         "380",
         "3",
         "2011-11-25 00:00:00",
         "556925.19",
         "True",
         "68.0",
         "3.236",
         "221.9011185",
         "7.197"
        ],
        [
         "385",
         "3",
         "2011-12-30 00:00:00",
         "410553.88",
         "True",
         "48.29",
         "3.129",
         "223.0090839",
         "7.197"
        ],
        [
         "391",
         "3",
         "2012-10-02 00:00:00",
         "473292.47",
         "True",
         "51.65",
         "3.409",
         "223.753643",
         "6.833"
        ],
        [
         "421",
         "3",
         "2012-07-09 00:00:00",
         "408229.73",
         "True",
         "84.99",
         "3.73",
         "225.9660263",
         "6.334"
        ],
        [
         "430",
         "4",
         "2010-12-02 00:00:00",
         "2188307.39",
         "True",
         "28.84",
         "2.573",
         "126.4962581",
         "8.623"
        ],
        [
         "460",
         "4",
         "2010-10-09 00:00:00",
         "1865820.81",
         "True",
         "73.54",
         "2.574",
         "126.1145806",
         "7.372"
        ],
        [
         "471",
         "4",
         "2010-11-26 00:00:00",
         "2789469.45",
         "True",
         "48.08",
         "2.752",
         "126.6692667",
         "7.127"
        ],
        [
         "476",
         "4",
         "2010-12-31 00:00:00",
         "1794868.74",
         "True",
         "38.09",
         "2.955",
         "127.0876774",
         "7.127"
        ],
        [
         "482",
         "4",
         "2011-11-02 00:00:00",
         "2187847.29",
         "True",
         "33.29",
         "3.033",
         "127.859129",
         "6.51"
        ],
        [
         "512",
         "4",
         "2011-09-09 00:00:00",
         "2093139.01",
         "True",
         "73.34",
         "3.554",
         "129.3686129",
         "5.644"
        ],
        [
         "523",
         "4",
         "2011-11-25 00:00:00",
         "3004702.33",
         "True",
         "47.96",
         "3.225",
         "129.8364",
         "5.143"
        ],
        [
         "528",
         "4",
         "2011-12-30 00:00:00",
         "2007105.86",
         "True",
         "36.89",
         "3.119",
         "130.0710323",
         "5.143"
        ],
        [
         "534",
         "4",
         "2012-10-02 00:00:00",
         "2374660.64",
         "True",
         "33.0",
         "3.411",
         "130.3849032",
         "4.607"
        ],
        [
         "564",
         "4",
         "2012-07-09 00:00:00",
         "2125104.72",
         "True",
         "82.09",
         "3.709",
         "130.9325484",
         "4.077"
        ],
        [
         "573",
         "5",
         "2010-12-02 00:00:00",
         "311825.7",
         "True",
         "39.81",
         "2.548",
         "211.8004698",
         "6.566"
        ],
        [
         "603",
         "5",
         "2010-10-09 00:00:00",
         "306533.08",
         "True",
         "79.86",
         "2.565",
         "212.0499271",
         "6.496"
        ],
        [
         "614",
         "5",
         "2010-11-26 00:00:00",
         "488362.61",
         "True",
         "66.15",
         "2.735",
         "212.303441",
         "6.768"
        ],
        [
         "619",
         "5",
         "2010-12-31 00:00:00",
         "298180.18",
         "True",
         "49.79",
         "2.943",
         "211.9567142",
         "6.768"
        ],
        [
         "625",
         "5",
         "2011-11-02 00:00:00",
         "311590.54",
         "True",
         "38.25",
         "3.022",
         "213.4944627",
         "6.634"
        ],
        [
         "655",
         "5",
         "2011-09-09 00:00:00",
         "321110.22",
         "True",
         "79.04",
         "3.546",
         "216.4226819",
         "6.529"
        ],
        [
         "666",
         "5",
         "2011-11-25 00:00:00",
         "507900.07",
         "True",
         "61.93",
         "3.236",
         "219.0428204",
         "6.3"
        ],
        [
         "671",
         "5",
         "2011-12-30 00:00:00",
         "349624.88",
         "True",
         "45.62",
         "3.129",
         "220.1178226",
         "6.3"
        ],
        [
         "677",
         "5",
         "2012-10-02 00:00:00",
         "349239.88",
         "True",
         "48.57",
         "3.409",
         "220.849586",
         "5.943"
        ],
        [
         "707",
         "5",
         "2012-07-09 00:00:00",
         "350648.91",
         "True",
         "86.3",
         "3.73",
         "223.0298805",
         "5.603"
        ]
       ],
       "shape": {
        "columns": 8,
        "rows": 450
       }
      },
      "text/html": [
       "<div>\n",
       "<style scoped>\n",
       "    .dataframe tbody tr th:only-of-type {\n",
       "        vertical-align: middle;\n",
       "    }\n",
       "\n",
       "    .dataframe tbody tr th {\n",
       "        vertical-align: top;\n",
       "    }\n",
       "\n",
       "    .dataframe thead th {\n",
       "        text-align: right;\n",
       "    }\n",
       "</style>\n",
       "<table border=\"1\" class=\"dataframe\">\n",
       "  <thead>\n",
       "    <tr style=\"text-align: right;\">\n",
       "      <th></th>\n",
       "      <th>Store</th>\n",
       "      <th>Date</th>\n",
       "      <th>Weekly_Sales</th>\n",
       "      <th>Holiday_Flag</th>\n",
       "      <th>Temperature</th>\n",
       "      <th>Fuel_Price</th>\n",
       "      <th>CPI</th>\n",
       "      <th>Unemployment</th>\n",
       "    </tr>\n",
       "  </thead>\n",
       "  <tbody>\n",
       "    <tr>\n",
       "      <th>1</th>\n",
       "      <td>1</td>\n",
       "      <td>2010-12-02</td>\n",
       "      <td>1641957.44</td>\n",
       "      <td>True</td>\n",
       "      <td>38.51</td>\n",
       "      <td>2.548</td>\n",
       "      <td>211.242170</td>\n",
       "      <td>8.106</td>\n",
       "    </tr>\n",
       "    <tr>\n",
       "      <th>31</th>\n",
       "      <td>1</td>\n",
       "      <td>2010-10-09</td>\n",
       "      <td>1507460.69</td>\n",
       "      <td>True</td>\n",
       "      <td>78.69</td>\n",
       "      <td>2.565</td>\n",
       "      <td>211.495190</td>\n",
       "      <td>7.787</td>\n",
       "    </tr>\n",
       "    <tr>\n",
       "      <th>42</th>\n",
       "      <td>1</td>\n",
       "      <td>2010-11-26</td>\n",
       "      <td>1955624.11</td>\n",
       "      <td>True</td>\n",
       "      <td>64.52</td>\n",
       "      <td>2.735</td>\n",
       "      <td>211.748433</td>\n",
       "      <td>7.838</td>\n",
       "    </tr>\n",
       "    <tr>\n",
       "      <th>47</th>\n",
       "      <td>1</td>\n",
       "      <td>2010-12-31</td>\n",
       "      <td>1367320.01</td>\n",
       "      <td>True</td>\n",
       "      <td>48.43</td>\n",
       "      <td>2.943</td>\n",
       "      <td>211.404932</td>\n",
       "      <td>7.838</td>\n",
       "    </tr>\n",
       "    <tr>\n",
       "      <th>53</th>\n",
       "      <td>1</td>\n",
       "      <td>2011-11-02</td>\n",
       "      <td>1649614.93</td>\n",
       "      <td>True</td>\n",
       "      <td>36.39</td>\n",
       "      <td>3.022</td>\n",
       "      <td>212.936705</td>\n",
       "      <td>7.742</td>\n",
       "    </tr>\n",
       "    <tr>\n",
       "      <th>...</th>\n",
       "      <td>...</td>\n",
       "      <td>...</td>\n",
       "      <td>...</td>\n",
       "      <td>...</td>\n",
       "      <td>...</td>\n",
       "      <td>...</td>\n",
       "      <td>...</td>\n",
       "      <td>...</td>\n",
       "    </tr>\n",
       "    <tr>\n",
       "      <th>6375</th>\n",
       "      <td>45</td>\n",
       "      <td>2011-09-09</td>\n",
       "      <td>746129.56</td>\n",
       "      <td>True</td>\n",
       "      <td>71.48</td>\n",
       "      <td>3.738</td>\n",
       "      <td>186.673738</td>\n",
       "      <td>8.625</td>\n",
       "    </tr>\n",
       "    <tr>\n",
       "      <th>6386</th>\n",
       "      <td>45</td>\n",
       "      <td>2011-11-25</td>\n",
       "      <td>1170672.94</td>\n",
       "      <td>True</td>\n",
       "      <td>48.71</td>\n",
       "      <td>3.492</td>\n",
       "      <td>188.350400</td>\n",
       "      <td>8.523</td>\n",
       "    </tr>\n",
       "    <tr>\n",
       "      <th>6391</th>\n",
       "      <td>45</td>\n",
       "      <td>2011-12-30</td>\n",
       "      <td>869403.63</td>\n",
       "      <td>True</td>\n",
       "      <td>37.79</td>\n",
       "      <td>3.389</td>\n",
       "      <td>189.062016</td>\n",
       "      <td>8.523</td>\n",
       "    </tr>\n",
       "    <tr>\n",
       "      <th>6397</th>\n",
       "      <td>45</td>\n",
       "      <td>2012-10-02</td>\n",
       "      <td>803657.12</td>\n",
       "      <td>True</td>\n",
       "      <td>37.00</td>\n",
       "      <td>3.640</td>\n",
       "      <td>189.707605</td>\n",
       "      <td>8.424</td>\n",
       "    </tr>\n",
       "    <tr>\n",
       "      <th>6427</th>\n",
       "      <td>45</td>\n",
       "      <td>2012-07-09</td>\n",
       "      <td>766512.66</td>\n",
       "      <td>True</td>\n",
       "      <td>75.70</td>\n",
       "      <td>3.911</td>\n",
       "      <td>191.577676</td>\n",
       "      <td>8.684</td>\n",
       "    </tr>\n",
       "  </tbody>\n",
       "</table>\n",
       "<p>450 rows × 8 columns</p>\n",
       "</div>"
      ],
      "text/plain": [
       "     Store       Date  Weekly_Sales  Holiday_Flag  Temperature  Fuel_Price  \\\n",
       "1        1 2010-12-02    1641957.44          True        38.51       2.548   \n",
       "31       1 2010-10-09    1507460.69          True        78.69       2.565   \n",
       "42       1 2010-11-26    1955624.11          True        64.52       2.735   \n",
       "47       1 2010-12-31    1367320.01          True        48.43       2.943   \n",
       "53       1 2011-11-02    1649614.93          True        36.39       3.022   \n",
       "...    ...        ...           ...           ...          ...         ...   \n",
       "6375    45 2011-09-09     746129.56          True        71.48       3.738   \n",
       "6386    45 2011-11-25    1170672.94          True        48.71       3.492   \n",
       "6391    45 2011-12-30     869403.63          True        37.79       3.389   \n",
       "6397    45 2012-10-02     803657.12          True        37.00       3.640   \n",
       "6427    45 2012-07-09     766512.66          True        75.70       3.911   \n",
       "\n",
       "             CPI  Unemployment  \n",
       "1     211.242170         8.106  \n",
       "31    211.495190         7.787  \n",
       "42    211.748433         7.838  \n",
       "47    211.404932         7.838  \n",
       "53    212.936705         7.742  \n",
       "...          ...           ...  \n",
       "6375  186.673738         8.625  \n",
       "6386  188.350400         8.523  \n",
       "6391  189.062016         8.523  \n",
       "6397  189.707605         8.424  \n",
       "6427  191.577676         8.684  \n",
       "\n",
       "[450 rows x 8 columns]"
      ]
     },
     "execution_count": 65,
     "metadata": {},
     "output_type": "execute_result"
    }
   ],
   "source": [
    "walmart.loc[walmart['Holiday_Flag'] == 1]"
   ]
  },
  {
   "cell_type": "code",
   "execution_count": 66,
   "id": "97a02044",
   "metadata": {},
   "outputs": [
    {
     "data": {
      "application/vnd.microsoft.datawrangler.viewer.v0+json": {
       "columns": [
        {
         "name": "index",
         "rawType": "int64",
         "type": "integer"
        },
        {
         "name": "Store",
         "rawType": "category",
         "type": "unknown"
        },
        {
         "name": "Date",
         "rawType": "datetime64[ns]",
         "type": "datetime"
        },
        {
         "name": "Weekly_Sales",
         "rawType": "float64",
         "type": "float"
        },
        {
         "name": "Holiday_Flag",
         "rawType": "bool",
         "type": "boolean"
        },
        {
         "name": "Temperature",
         "rawType": "float64",
         "type": "float"
        },
        {
         "name": "Fuel_Price",
         "rawType": "float64",
         "type": "float"
        },
        {
         "name": "CPI",
         "rawType": "float64",
         "type": "float"
        },
        {
         "name": "Unemployment",
         "rawType": "float64",
         "type": "float"
        }
       ],
       "ref": "056e75d4-4c57-4391-8de6-6ed122b518e0",
       "rows": [
        [
         "78",
         "1",
         "2011-05-08 00:00:00",
         "1624383.75",
         "False",
         "91.65",
         "3.684",
         "215.544618",
         "7.962"
        ],
        [
         "79",
         "1",
         "2011-12-08 00:00:00",
         "1525147.09",
         "False",
         "90.76",
         "3.638",
         "215.6057878",
         "7.962"
        ]
       ],
       "shape": {
        "columns": 8,
        "rows": 2
       }
      },
      "text/html": [
       "<div>\n",
       "<style scoped>\n",
       "    .dataframe tbody tr th:only-of-type {\n",
       "        vertical-align: middle;\n",
       "    }\n",
       "\n",
       "    .dataframe tbody tr th {\n",
       "        vertical-align: top;\n",
       "    }\n",
       "\n",
       "    .dataframe thead th {\n",
       "        text-align: right;\n",
       "    }\n",
       "</style>\n",
       "<table border=\"1\" class=\"dataframe\">\n",
       "  <thead>\n",
       "    <tr style=\"text-align: right;\">\n",
       "      <th></th>\n",
       "      <th>Store</th>\n",
       "      <th>Date</th>\n",
       "      <th>Weekly_Sales</th>\n",
       "      <th>Holiday_Flag</th>\n",
       "      <th>Temperature</th>\n",
       "      <th>Fuel_Price</th>\n",
       "      <th>CPI</th>\n",
       "      <th>Unemployment</th>\n",
       "    </tr>\n",
       "  </thead>\n",
       "  <tbody>\n",
       "    <tr>\n",
       "      <th>78</th>\n",
       "      <td>1</td>\n",
       "      <td>2011-05-08</td>\n",
       "      <td>1624383.75</td>\n",
       "      <td>False</td>\n",
       "      <td>91.65</td>\n",
       "      <td>3.684</td>\n",
       "      <td>215.544618</td>\n",
       "      <td>7.962</td>\n",
       "    </tr>\n",
       "    <tr>\n",
       "      <th>79</th>\n",
       "      <td>1</td>\n",
       "      <td>2011-12-08</td>\n",
       "      <td>1525147.09</td>\n",
       "      <td>False</td>\n",
       "      <td>90.76</td>\n",
       "      <td>3.638</td>\n",
       "      <td>215.605788</td>\n",
       "      <td>7.962</td>\n",
       "    </tr>\n",
       "  </tbody>\n",
       "</table>\n",
       "</div>"
      ],
      "text/plain": [
       "   Store       Date  Weekly_Sales  Holiday_Flag  Temperature  Fuel_Price  \\\n",
       "78     1 2011-05-08    1624383.75         False        91.65       3.684   \n",
       "79     1 2011-12-08    1525147.09         False        90.76       3.638   \n",
       "\n",
       "           CPI  Unemployment  \n",
       "78  215.544618         7.962  \n",
       "79  215.605788         7.962  "
      ]
     },
     "execution_count": 66,
     "metadata": {},
     "output_type": "execute_result"
    }
   ],
   "source": [
    "walmart.loc[(walmart['Temperature'] > 90) & (walmart['Store'] == 1)]"
   ]
  },
  {
   "cell_type": "code",
   "execution_count": 67,
   "id": "c149e192",
   "metadata": {},
   "outputs": [
    {
     "data": {
      "application/vnd.microsoft.datawrangler.viewer.v0+json": {
       "columns": [
        {
         "name": "index",
         "rawType": "int64",
         "type": "integer"
        },
        {
         "name": "Store",
         "rawType": "category",
         "type": "unknown"
        },
        {
         "name": "Date",
         "rawType": "datetime64[ns]",
         "type": "datetime"
        }
       ],
       "ref": "6104281c-302a-4cc2-837d-a44f281eacf6",
       "rows": [
        [
         "0",
         "1",
         "2010-05-02 00:00:00"
        ],
        [
         "1",
         "1",
         "2010-12-02 00:00:00"
        ],
        [
         "2",
         "1",
         "2010-02-19 00:00:00"
        ],
        [
         "3",
         "1",
         "2010-02-26 00:00:00"
        ],
        [
         "4",
         "1",
         "2010-05-03 00:00:00"
        ],
        [
         "5",
         "1",
         "2010-12-03 00:00:00"
        ],
        [
         "6",
         "1",
         "2010-03-19 00:00:00"
        ],
        [
         "7",
         "1",
         "2010-03-26 00:00:00"
        ],
        [
         "8",
         "1",
         "2010-02-04 00:00:00"
        ],
        [
         "9",
         "1",
         "2010-09-04 00:00:00"
        ]
       ],
       "shape": {
        "columns": 2,
        "rows": 10
       }
      },
      "text/html": [
       "<div>\n",
       "<style scoped>\n",
       "    .dataframe tbody tr th:only-of-type {\n",
       "        vertical-align: middle;\n",
       "    }\n",
       "\n",
       "    .dataframe tbody tr th {\n",
       "        vertical-align: top;\n",
       "    }\n",
       "\n",
       "    .dataframe thead th {\n",
       "        text-align: right;\n",
       "    }\n",
       "</style>\n",
       "<table border=\"1\" class=\"dataframe\">\n",
       "  <thead>\n",
       "    <tr style=\"text-align: right;\">\n",
       "      <th></th>\n",
       "      <th>Store</th>\n",
       "      <th>Date</th>\n",
       "    </tr>\n",
       "  </thead>\n",
       "  <tbody>\n",
       "    <tr>\n",
       "      <th>0</th>\n",
       "      <td>1</td>\n",
       "      <td>2010-05-02</td>\n",
       "    </tr>\n",
       "    <tr>\n",
       "      <th>1</th>\n",
       "      <td>1</td>\n",
       "      <td>2010-12-02</td>\n",
       "    </tr>\n",
       "    <tr>\n",
       "      <th>2</th>\n",
       "      <td>1</td>\n",
       "      <td>2010-02-19</td>\n",
       "    </tr>\n",
       "    <tr>\n",
       "      <th>3</th>\n",
       "      <td>1</td>\n",
       "      <td>2010-02-26</td>\n",
       "    </tr>\n",
       "    <tr>\n",
       "      <th>4</th>\n",
       "      <td>1</td>\n",
       "      <td>2010-05-03</td>\n",
       "    </tr>\n",
       "    <tr>\n",
       "      <th>5</th>\n",
       "      <td>1</td>\n",
       "      <td>2010-12-03</td>\n",
       "    </tr>\n",
       "    <tr>\n",
       "      <th>6</th>\n",
       "      <td>1</td>\n",
       "      <td>2010-03-19</td>\n",
       "    </tr>\n",
       "    <tr>\n",
       "      <th>7</th>\n",
       "      <td>1</td>\n",
       "      <td>2010-03-26</td>\n",
       "    </tr>\n",
       "    <tr>\n",
       "      <th>8</th>\n",
       "      <td>1</td>\n",
       "      <td>2010-02-04</td>\n",
       "    </tr>\n",
       "    <tr>\n",
       "      <th>9</th>\n",
       "      <td>1</td>\n",
       "      <td>2010-09-04</td>\n",
       "    </tr>\n",
       "  </tbody>\n",
       "</table>\n",
       "</div>"
      ],
      "text/plain": [
       "  Store       Date\n",
       "0     1 2010-05-02\n",
       "1     1 2010-12-02\n",
       "2     1 2010-02-19\n",
       "3     1 2010-02-26\n",
       "4     1 2010-05-03\n",
       "5     1 2010-12-03\n",
       "6     1 2010-03-19\n",
       "7     1 2010-03-26\n",
       "8     1 2010-02-04\n",
       "9     1 2010-09-04"
      ]
     },
     "execution_count": 67,
     "metadata": {},
     "output_type": "execute_result"
    }
   ],
   "source": [
    "walmart.loc[walmart.index[0:10],[\"Store\", \"Date\"]]"
   ]
  },
  {
   "cell_type": "markdown",
   "id": "f6d295ef",
   "metadata": {},
   "source": [
    "- Vamos selecionar as temperaturas máxima e mínima da loja 1.\n",
    "- Usando pipe para auxiliar na filtragem:"
   ]
  },
  {
   "cell_type": "code",
   "execution_count": 68,
   "id": "af7a6528",
   "metadata": {},
   "outputs": [
    {
     "data": {
      "text/plain": [
       "[np.float64(91.65), np.float64(35.4)]"
      ]
     },
     "execution_count": 68,
     "metadata": {},
     "output_type": "execute_result"
    }
   ],
   "source": [
    "walmart.loc[walmart['Store'] == 1].pipe(lambda x: [x['Temperature'].max(), x['Temperature'].min()])"
   ]
  },
  {
   "cell_type": "code",
   "execution_count": 69,
   "id": "6791a5b3",
   "metadata": {},
   "outputs": [
    {
     "data": {
      "text/plain": [
       "[np.float64(91.65), np.float64(35.4)]"
      ]
     },
     "execution_count": 69,
     "metadata": {},
     "output_type": "execute_result"
    }
   ],
   "source": [
    "walmart.query(\"Store==1\").pipe(lambda x: [x['Temperature'].max(), x['Temperature'].min()])"
   ]
  },
  {
   "cell_type": "markdown",
   "id": "72ee1255",
   "metadata": {},
   "source": [
    "- Usando eval"
   ]
  },
  {
   "cell_type": "code",
   "execution_count": 70,
   "id": "2b106129",
   "metadata": {},
   "outputs": [
    {
     "data": {
      "text/plain": [
       "[np.float64(91.65), np.float64(35.4)]"
      ]
     },
     "execution_count": 70,
     "metadata": {},
     "output_type": "execute_result"
    }
   ],
   "source": [
    "walmart.loc[walmart['Store'] == 1].eval(\"Temperature.max(), Temperature.min()\")"
   ]
  },
  {
   "cell_type": "code",
   "execution_count": 71,
   "id": "a5481fcf",
   "metadata": {},
   "outputs": [
    {
     "data": {
      "text/plain": [
       "[np.float64(91.65), np.float64(35.4)]"
      ]
     },
     "execution_count": 71,
     "metadata": {},
     "output_type": "execute_result"
    }
   ],
   "source": [
    "walmart.query(\"Store==1\").eval(\"Temperature.max(), Temperature.min()\")"
   ]
  },
  {
   "cell_type": "markdown",
   "id": "a71e0e83",
   "metadata": {},
   "source": [
    "- DataFrames permitem fazer copias"
   ]
  },
  {
   "cell_type": "code",
   "execution_count": 72,
   "id": "47f244eb",
   "metadata": {},
   "outputs": [
    {
     "data": {
      "application/vnd.microsoft.datawrangler.viewer.v0+json": {
       "columns": [
        {
         "name": "index",
         "rawType": "int64",
         "type": "integer"
        },
        {
         "name": "Store",
         "rawType": "category",
         "type": "unknown"
        },
        {
         "name": "Date",
         "rawType": "datetime64[ns]",
         "type": "datetime"
        },
        {
         "name": "Weekly_Sales",
         "rawType": "float64",
         "type": "float"
        },
        {
         "name": "Holiday_Flag",
         "rawType": "bool",
         "type": "boolean"
        },
        {
         "name": "Temperature",
         "rawType": "float64",
         "type": "float"
        },
        {
         "name": "Fuel_Price",
         "rawType": "float64",
         "type": "float"
        },
        {
         "name": "CPI",
         "rawType": "float64",
         "type": "float"
        },
        {
         "name": "Unemployment",
         "rawType": "float64",
         "type": "float"
        }
       ],
       "ref": "bd5465b8-1ed0-4ff5-a619-973062f208b8",
       "rows": [
        [
         "0",
         "1",
         "2010-05-02 00:00:00",
         "1643690.9",
         "False",
         "42.31",
         "2.572",
         "211.0963582",
         "8.106"
        ],
        [
         "1",
         "1",
         "2010-12-02 00:00:00",
         "1641957.44",
         "True",
         "38.51",
         "2.548",
         "211.2421698",
         "8.106"
        ],
        [
         "2",
         "1",
         "2010-02-19 00:00:00",
         "1611968.17",
         "False",
         "39.93",
         "2.514",
         "211.2891429",
         "8.106"
        ],
        [
         "3",
         "1",
         "2010-02-26 00:00:00",
         "1409727.59",
         "False",
         "46.63",
         "2.561",
         "211.3196429",
         "8.106"
        ],
        [
         "4",
         "1",
         "2010-05-03 00:00:00",
         "1554806.68",
         "False",
         "46.5",
         "2.625",
         "211.3501429",
         "8.106"
        ],
        [
         "5",
         "1",
         "2010-12-03 00:00:00",
         "1439541.59",
         "False",
         "57.79",
         "2.667",
         "211.3806429",
         "8.106"
        ],
        [
         "6",
         "1",
         "2010-03-19 00:00:00",
         "1472515.79",
         "False",
         "54.58",
         "2.72",
         "211.215635",
         "8.106"
        ],
        [
         "7",
         "1",
         "2010-03-26 00:00:00",
         "1404429.92",
         "False",
         "51.45",
         "2.732",
         "211.0180424",
         "8.106"
        ],
        [
         "8",
         "1",
         "2010-02-04 00:00:00",
         "1594968.28",
         "False",
         "62.27",
         "2.719",
         "210.8204499",
         "7.808"
        ],
        [
         "9",
         "1",
         "2010-09-04 00:00:00",
         "1545418.53",
         "False",
         "65.86",
         "2.77",
         "210.6228574",
         "7.808"
        ],
        [
         "10",
         "1",
         "2010-04-16 00:00:00",
         "1466058.28",
         "False",
         "66.32",
         "2.808",
         "210.4887",
         "7.808"
        ],
        [
         "11",
         "1",
         "2010-04-23 00:00:00",
         "1391256.12",
         "False",
         "64.84",
         "2.795",
         "210.4391228",
         "7.808"
        ],
        [
         "12",
         "1",
         "2010-04-30 00:00:00",
         "1425100.71",
         "False",
         "67.41",
         "2.78",
         "210.3895456",
         "7.808"
        ],
        [
         "13",
         "1",
         "2010-07-05 00:00:00",
         "1603955.12",
         "False",
         "72.55",
         "2.835",
         "210.3399684",
         "7.808"
        ],
        [
         "14",
         "1",
         "2010-05-14 00:00:00",
         "1494251.5",
         "False",
         "74.78",
         "2.854",
         "210.3374261",
         "7.808"
        ],
        [
         "15",
         "1",
         "2010-05-21 00:00:00",
         "1399662.07",
         "False",
         "76.44",
         "2.826",
         "210.6170934",
         "7.808"
        ],
        [
         "16",
         "1",
         "2010-05-28 00:00:00",
         "1432069.95",
         "False",
         "80.44",
         "2.759",
         "210.8967606",
         "7.808"
        ],
        [
         "17",
         "1",
         "2010-04-06 00:00:00",
         "1615524.71",
         "False",
         "80.69",
         "2.705",
         "211.1764278",
         "7.808"
        ],
        [
         "18",
         "1",
         "2010-11-06 00:00:00",
         "1542561.09",
         "False",
         "80.43",
         "2.668",
         "211.4560951",
         "7.808"
        ],
        [
         "19",
         "1",
         "2010-06-18 00:00:00",
         "1503284.06",
         "False",
         "84.11",
         "2.637",
         "211.4537719",
         "7.808"
        ],
        [
         "20",
         "1",
         "2010-06-25 00:00:00",
         "1422711.6",
         "False",
         "84.34",
         "2.653",
         "211.3386526",
         "7.808"
        ],
        [
         "21",
         "1",
         "2010-02-07 00:00:00",
         "1492418.14",
         "False",
         "80.91",
         "2.669",
         "211.2235333",
         "7.787"
        ],
        [
         "22",
         "1",
         "2010-09-07 00:00:00",
         "1546074.18",
         "False",
         "80.48",
         "2.642",
         "211.108414",
         "7.787"
        ],
        [
         "23",
         "1",
         "2010-07-16 00:00:00",
         "1448938.92",
         "False",
         "83.15",
         "2.623",
         "211.1003854",
         "7.787"
        ],
        [
         "24",
         "1",
         "2010-07-23 00:00:00",
         "1385065.2",
         "False",
         "83.36",
         "2.608",
         "211.2351443",
         "7.787"
        ],
        [
         "25",
         "1",
         "2010-07-30 00:00:00",
         "1371986.6",
         "False",
         "81.84",
         "2.64",
         "211.3699032",
         "7.787"
        ],
        [
         "26",
         "1",
         "2010-06-08 00:00:00",
         "1605491.78",
         "False",
         "87.16",
         "2.627",
         "211.5046621",
         "7.787"
        ],
        [
         "27",
         "1",
         "2010-08-13 00:00:00",
         "1508237.76",
         "False",
         "87.0",
         "2.692",
         "211.6394211",
         "7.787"
        ],
        [
         "28",
         "1",
         "2010-08-20 00:00:00",
         "1513080.49",
         "False",
         "86.65",
         "2.664",
         "211.6033633",
         "7.787"
        ],
        [
         "29",
         "1",
         "2010-08-27 00:00:00",
         "1449142.92",
         "False",
         "85.22",
         "2.619",
         "211.5673056",
         "7.787"
        ],
        [
         "30",
         "1",
         "2010-03-09 00:00:00",
         "1540163.53",
         "False",
         "81.21",
         "2.577",
         "211.5312479",
         "7.787"
        ],
        [
         "31",
         "1",
         "2010-10-09 00:00:00",
         "1507460.69",
         "True",
         "78.69",
         "2.565",
         "211.4951902",
         "7.787"
        ],
        [
         "32",
         "1",
         "2010-09-17 00:00:00",
         "1430378.67",
         "False",
         "82.11",
         "2.582",
         "211.5224596",
         "7.787"
        ],
        [
         "33",
         "1",
         "2010-09-24 00:00:00",
         "1351791.03",
         "False",
         "80.94",
         "2.624",
         "211.5972246",
         "7.787"
        ],
        [
         "34",
         "1",
         "2010-01-10 00:00:00",
         "1453329.5",
         "False",
         "71.89",
         "2.603",
         "211.6719895",
         "7.838"
        ],
        [
         "35",
         "1",
         "2010-08-10 00:00:00",
         "1508239.93",
         "False",
         "63.93",
         "2.633",
         "211.7467544",
         "7.838"
        ],
        [
         "36",
         "1",
         "2010-10-15 00:00:00",
         "1459409.1",
         "False",
         "67.18",
         "2.72",
         "211.8137436",
         "7.838"
        ],
        [
         "37",
         "1",
         "2010-10-22 00:00:00",
         "1345454.0",
         "False",
         "69.86",
         "2.725",
         "211.8612937",
         "7.838"
        ],
        [
         "38",
         "1",
         "2010-10-29 00:00:00",
         "1384209.22",
         "False",
         "69.64",
         "2.716",
         "211.9088438",
         "7.838"
        ],
        [
         "39",
         "1",
         "2010-05-11 00:00:00",
         "1551659.28",
         "False",
         "58.74",
         "2.689",
         "211.9563939",
         "7.838"
        ],
        [
         "40",
         "1",
         "2010-12-11 00:00:00",
         "1494479.49",
         "False",
         "59.61",
         "2.728",
         "212.003944",
         "7.838"
        ],
        [
         "41",
         "1",
         "2010-11-19 00:00:00",
         "1483784.18",
         "False",
         "51.41",
         "2.771",
         "211.8896737",
         "7.838"
        ],
        [
         "42",
         "1",
         "2010-11-26 00:00:00",
         "1955624.11",
         "True",
         "64.52",
         "2.735",
         "211.7484333",
         "7.838"
        ],
        [
         "43",
         "1",
         "2010-03-12 00:00:00",
         "1548033.78",
         "False",
         "49.27",
         "2.708",
         "211.607193",
         "7.838"
        ],
        [
         "44",
         "1",
         "2010-10-12 00:00:00",
         "1682614.26",
         "False",
         "46.33",
         "2.843",
         "211.4659526",
         "7.838"
        ],
        [
         "45",
         "1",
         "2010-12-17 00:00:00",
         "1891034.93",
         "False",
         "49.84",
         "2.869",
         "211.4053124",
         "7.838"
        ],
        [
         "46",
         "1",
         "2010-12-24 00:00:00",
         "2387950.2",
         "False",
         "52.33",
         "2.886",
         "211.4051222",
         "7.838"
        ],
        [
         "47",
         "1",
         "2010-12-31 00:00:00",
         "1367320.01",
         "True",
         "48.43",
         "2.943",
         "211.4049321",
         "7.838"
        ],
        [
         "48",
         "1",
         "2011-07-01 00:00:00",
         "1444732.28",
         "False",
         "48.27",
         "2.976",
         "211.4047419",
         "7.742"
        ],
        [
         "49",
         "1",
         "2011-01-14 00:00:00",
         "1391013.96",
         "False",
         "35.4",
         "2.983",
         "211.4574109",
         "7.742"
        ]
       ],
       "shape": {
        "columns": 8,
        "rows": 6435
       }
      },
      "text/html": [
       "<div>\n",
       "<style scoped>\n",
       "    .dataframe tbody tr th:only-of-type {\n",
       "        vertical-align: middle;\n",
       "    }\n",
       "\n",
       "    .dataframe tbody tr th {\n",
       "        vertical-align: top;\n",
       "    }\n",
       "\n",
       "    .dataframe thead th {\n",
       "        text-align: right;\n",
       "    }\n",
       "</style>\n",
       "<table border=\"1\" class=\"dataframe\">\n",
       "  <thead>\n",
       "    <tr style=\"text-align: right;\">\n",
       "      <th></th>\n",
       "      <th>Store</th>\n",
       "      <th>Date</th>\n",
       "      <th>Weekly_Sales</th>\n",
       "      <th>Holiday_Flag</th>\n",
       "      <th>Temperature</th>\n",
       "      <th>Fuel_Price</th>\n",
       "      <th>CPI</th>\n",
       "      <th>Unemployment</th>\n",
       "    </tr>\n",
       "  </thead>\n",
       "  <tbody>\n",
       "    <tr>\n",
       "      <th>0</th>\n",
       "      <td>1</td>\n",
       "      <td>2010-05-02</td>\n",
       "      <td>1643690.90</td>\n",
       "      <td>False</td>\n",
       "      <td>42.31</td>\n",
       "      <td>2.572</td>\n",
       "      <td>211.096358</td>\n",
       "      <td>8.106</td>\n",
       "    </tr>\n",
       "    <tr>\n",
       "      <th>1</th>\n",
       "      <td>1</td>\n",
       "      <td>2010-12-02</td>\n",
       "      <td>1641957.44</td>\n",
       "      <td>True</td>\n",
       "      <td>38.51</td>\n",
       "      <td>2.548</td>\n",
       "      <td>211.242170</td>\n",
       "      <td>8.106</td>\n",
       "    </tr>\n",
       "    <tr>\n",
       "      <th>2</th>\n",
       "      <td>1</td>\n",
       "      <td>2010-02-19</td>\n",
       "      <td>1611968.17</td>\n",
       "      <td>False</td>\n",
       "      <td>39.93</td>\n",
       "      <td>2.514</td>\n",
       "      <td>211.289143</td>\n",
       "      <td>8.106</td>\n",
       "    </tr>\n",
       "    <tr>\n",
       "      <th>3</th>\n",
       "      <td>1</td>\n",
       "      <td>2010-02-26</td>\n",
       "      <td>1409727.59</td>\n",
       "      <td>False</td>\n",
       "      <td>46.63</td>\n",
       "      <td>2.561</td>\n",
       "      <td>211.319643</td>\n",
       "      <td>8.106</td>\n",
       "    </tr>\n",
       "    <tr>\n",
       "      <th>4</th>\n",
       "      <td>1</td>\n",
       "      <td>2010-05-03</td>\n",
       "      <td>1554806.68</td>\n",
       "      <td>False</td>\n",
       "      <td>46.50</td>\n",
       "      <td>2.625</td>\n",
       "      <td>211.350143</td>\n",
       "      <td>8.106</td>\n",
       "    </tr>\n",
       "    <tr>\n",
       "      <th>...</th>\n",
       "      <td>...</td>\n",
       "      <td>...</td>\n",
       "      <td>...</td>\n",
       "      <td>...</td>\n",
       "      <td>...</td>\n",
       "      <td>...</td>\n",
       "      <td>...</td>\n",
       "      <td>...</td>\n",
       "    </tr>\n",
       "    <tr>\n",
       "      <th>6430</th>\n",
       "      <td>45</td>\n",
       "      <td>2012-09-28</td>\n",
       "      <td>713173.95</td>\n",
       "      <td>False</td>\n",
       "      <td>64.88</td>\n",
       "      <td>3.997</td>\n",
       "      <td>192.013558</td>\n",
       "      <td>8.684</td>\n",
       "    </tr>\n",
       "    <tr>\n",
       "      <th>6431</th>\n",
       "      <td>45</td>\n",
       "      <td>2012-05-10</td>\n",
       "      <td>733455.07</td>\n",
       "      <td>False</td>\n",
       "      <td>64.89</td>\n",
       "      <td>3.985</td>\n",
       "      <td>192.170412</td>\n",
       "      <td>8.667</td>\n",
       "    </tr>\n",
       "    <tr>\n",
       "      <th>6432</th>\n",
       "      <td>45</td>\n",
       "      <td>2012-12-10</td>\n",
       "      <td>734464.36</td>\n",
       "      <td>False</td>\n",
       "      <td>54.47</td>\n",
       "      <td>4.000</td>\n",
       "      <td>192.327265</td>\n",
       "      <td>8.667</td>\n",
       "    </tr>\n",
       "    <tr>\n",
       "      <th>6433</th>\n",
       "      <td>45</td>\n",
       "      <td>2012-10-19</td>\n",
       "      <td>718125.53</td>\n",
       "      <td>False</td>\n",
       "      <td>56.47</td>\n",
       "      <td>3.969</td>\n",
       "      <td>192.330854</td>\n",
       "      <td>8.667</td>\n",
       "    </tr>\n",
       "    <tr>\n",
       "      <th>6434</th>\n",
       "      <td>45</td>\n",
       "      <td>2012-10-26</td>\n",
       "      <td>760281.43</td>\n",
       "      <td>False</td>\n",
       "      <td>58.85</td>\n",
       "      <td>3.882</td>\n",
       "      <td>192.308899</td>\n",
       "      <td>8.667</td>\n",
       "    </tr>\n",
       "  </tbody>\n",
       "</table>\n",
       "<p>6435 rows × 8 columns</p>\n",
       "</div>"
      ],
      "text/plain": [
       "     Store       Date  Weekly_Sales  Holiday_Flag  Temperature  Fuel_Price  \\\n",
       "0        1 2010-05-02    1643690.90         False        42.31       2.572   \n",
       "1        1 2010-12-02    1641957.44          True        38.51       2.548   \n",
       "2        1 2010-02-19    1611968.17         False        39.93       2.514   \n",
       "3        1 2010-02-26    1409727.59         False        46.63       2.561   \n",
       "4        1 2010-05-03    1554806.68         False        46.50       2.625   \n",
       "...    ...        ...           ...           ...          ...         ...   \n",
       "6430    45 2012-09-28     713173.95         False        64.88       3.997   \n",
       "6431    45 2012-05-10     733455.07         False        64.89       3.985   \n",
       "6432    45 2012-12-10     734464.36         False        54.47       4.000   \n",
       "6433    45 2012-10-19     718125.53         False        56.47       3.969   \n",
       "6434    45 2012-10-26     760281.43         False        58.85       3.882   \n",
       "\n",
       "             CPI  Unemployment  \n",
       "0     211.096358         8.106  \n",
       "1     211.242170         8.106  \n",
       "2     211.289143         8.106  \n",
       "3     211.319643         8.106  \n",
       "4     211.350143         8.106  \n",
       "...          ...           ...  \n",
       "6430  192.013558         8.684  \n",
       "6431  192.170412         8.667  \n",
       "6432  192.327265         8.667  \n",
       "6433  192.330854         8.667  \n",
       "6434  192.308899         8.667  \n",
       "\n",
       "[6435 rows x 8 columns]"
      ]
     },
     "execution_count": 72,
     "metadata": {},
     "output_type": "execute_result"
    }
   ],
   "source": [
    "df_aux = walmart.copy()\n",
    "df_aux"
   ]
  },
  {
   "cell_type": "markdown",
   "id": "6fdfd338",
   "metadata": {},
   "source": [
    "- É possível filtrar colunas usando o método filter"
   ]
  },
  {
   "cell_type": "code",
   "execution_count": 73,
   "id": "80d539d2",
   "metadata": {},
   "outputs": [
    {
     "data": {
      "application/vnd.microsoft.datawrangler.viewer.v0+json": {
       "columns": [
        {
         "name": "index",
         "rawType": "int64",
         "type": "integer"
        },
        {
         "name": "Date",
         "rawType": "datetime64[ns]",
         "type": "datetime"
        },
        {
         "name": "Weekly_Sales",
         "rawType": "float64",
         "type": "float"
        }
       ],
       "ref": "19c9b7bc-6667-4f5d-81a0-515711b57f7a",
       "rows": [
        [
         "0",
         "2010-05-02 00:00:00",
         "1643690.9"
        ],
        [
         "1",
         "2010-12-02 00:00:00",
         "1641957.44"
        ],
        [
         "2",
         "2010-02-19 00:00:00",
         "1611968.17"
        ],
        [
         "3",
         "2010-02-26 00:00:00",
         "1409727.59"
        ],
        [
         "4",
         "2010-05-03 00:00:00",
         "1554806.68"
        ],
        [
         "5",
         "2010-12-03 00:00:00",
         "1439541.59"
        ],
        [
         "6",
         "2010-03-19 00:00:00",
         "1472515.79"
        ],
        [
         "7",
         "2010-03-26 00:00:00",
         "1404429.92"
        ],
        [
         "8",
         "2010-02-04 00:00:00",
         "1594968.28"
        ],
        [
         "9",
         "2010-09-04 00:00:00",
         "1545418.53"
        ],
        [
         "10",
         "2010-04-16 00:00:00",
         "1466058.28"
        ],
        [
         "11",
         "2010-04-23 00:00:00",
         "1391256.12"
        ],
        [
         "12",
         "2010-04-30 00:00:00",
         "1425100.71"
        ],
        [
         "13",
         "2010-07-05 00:00:00",
         "1603955.12"
        ],
        [
         "14",
         "2010-05-14 00:00:00",
         "1494251.5"
        ],
        [
         "15",
         "2010-05-21 00:00:00",
         "1399662.07"
        ],
        [
         "16",
         "2010-05-28 00:00:00",
         "1432069.95"
        ],
        [
         "17",
         "2010-04-06 00:00:00",
         "1615524.71"
        ],
        [
         "18",
         "2010-11-06 00:00:00",
         "1542561.09"
        ],
        [
         "19",
         "2010-06-18 00:00:00",
         "1503284.06"
        ],
        [
         "20",
         "2010-06-25 00:00:00",
         "1422711.6"
        ],
        [
         "21",
         "2010-02-07 00:00:00",
         "1492418.14"
        ],
        [
         "22",
         "2010-09-07 00:00:00",
         "1546074.18"
        ],
        [
         "23",
         "2010-07-16 00:00:00",
         "1448938.92"
        ],
        [
         "24",
         "2010-07-23 00:00:00",
         "1385065.2"
        ],
        [
         "25",
         "2010-07-30 00:00:00",
         "1371986.6"
        ],
        [
         "26",
         "2010-06-08 00:00:00",
         "1605491.78"
        ],
        [
         "27",
         "2010-08-13 00:00:00",
         "1508237.76"
        ],
        [
         "28",
         "2010-08-20 00:00:00",
         "1513080.49"
        ],
        [
         "29",
         "2010-08-27 00:00:00",
         "1449142.92"
        ],
        [
         "30",
         "2010-03-09 00:00:00",
         "1540163.53"
        ],
        [
         "31",
         "2010-10-09 00:00:00",
         "1507460.69"
        ],
        [
         "32",
         "2010-09-17 00:00:00",
         "1430378.67"
        ],
        [
         "33",
         "2010-09-24 00:00:00",
         "1351791.03"
        ],
        [
         "34",
         "2010-01-10 00:00:00",
         "1453329.5"
        ],
        [
         "35",
         "2010-08-10 00:00:00",
         "1508239.93"
        ],
        [
         "36",
         "2010-10-15 00:00:00",
         "1459409.1"
        ],
        [
         "37",
         "2010-10-22 00:00:00",
         "1345454.0"
        ],
        [
         "38",
         "2010-10-29 00:00:00",
         "1384209.22"
        ],
        [
         "39",
         "2010-05-11 00:00:00",
         "1551659.28"
        ],
        [
         "40",
         "2010-12-11 00:00:00",
         "1494479.49"
        ],
        [
         "41",
         "2010-11-19 00:00:00",
         "1483784.18"
        ],
        [
         "42",
         "2010-11-26 00:00:00",
         "1955624.11"
        ],
        [
         "43",
         "2010-03-12 00:00:00",
         "1548033.78"
        ],
        [
         "44",
         "2010-10-12 00:00:00",
         "1682614.26"
        ],
        [
         "45",
         "2010-12-17 00:00:00",
         "1891034.93"
        ],
        [
         "46",
         "2010-12-24 00:00:00",
         "2387950.2"
        ],
        [
         "47",
         "2010-12-31 00:00:00",
         "1367320.01"
        ],
        [
         "48",
         "2011-07-01 00:00:00",
         "1444732.28"
        ],
        [
         "49",
         "2011-01-14 00:00:00",
         "1391013.96"
        ]
       ],
       "shape": {
        "columns": 2,
        "rows": 6435
       }
      },
      "text/html": [
       "<div>\n",
       "<style scoped>\n",
       "    .dataframe tbody tr th:only-of-type {\n",
       "        vertical-align: middle;\n",
       "    }\n",
       "\n",
       "    .dataframe tbody tr th {\n",
       "        vertical-align: top;\n",
       "    }\n",
       "\n",
       "    .dataframe thead th {\n",
       "        text-align: right;\n",
       "    }\n",
       "</style>\n",
       "<table border=\"1\" class=\"dataframe\">\n",
       "  <thead>\n",
       "    <tr style=\"text-align: right;\">\n",
       "      <th></th>\n",
       "      <th>Date</th>\n",
       "      <th>Weekly_Sales</th>\n",
       "    </tr>\n",
       "  </thead>\n",
       "  <tbody>\n",
       "    <tr>\n",
       "      <th>0</th>\n",
       "      <td>2010-05-02</td>\n",
       "      <td>1643690.90</td>\n",
       "    </tr>\n",
       "    <tr>\n",
       "      <th>1</th>\n",
       "      <td>2010-12-02</td>\n",
       "      <td>1641957.44</td>\n",
       "    </tr>\n",
       "    <tr>\n",
       "      <th>2</th>\n",
       "      <td>2010-02-19</td>\n",
       "      <td>1611968.17</td>\n",
       "    </tr>\n",
       "    <tr>\n",
       "      <th>3</th>\n",
       "      <td>2010-02-26</td>\n",
       "      <td>1409727.59</td>\n",
       "    </tr>\n",
       "    <tr>\n",
       "      <th>4</th>\n",
       "      <td>2010-05-03</td>\n",
       "      <td>1554806.68</td>\n",
       "    </tr>\n",
       "    <tr>\n",
       "      <th>...</th>\n",
       "      <td>...</td>\n",
       "      <td>...</td>\n",
       "    </tr>\n",
       "    <tr>\n",
       "      <th>6430</th>\n",
       "      <td>2012-09-28</td>\n",
       "      <td>713173.95</td>\n",
       "    </tr>\n",
       "    <tr>\n",
       "      <th>6431</th>\n",
       "      <td>2012-05-10</td>\n",
       "      <td>733455.07</td>\n",
       "    </tr>\n",
       "    <tr>\n",
       "      <th>6432</th>\n",
       "      <td>2012-12-10</td>\n",
       "      <td>734464.36</td>\n",
       "    </tr>\n",
       "    <tr>\n",
       "      <th>6433</th>\n",
       "      <td>2012-10-19</td>\n",
       "      <td>718125.53</td>\n",
       "    </tr>\n",
       "    <tr>\n",
       "      <th>6434</th>\n",
       "      <td>2012-10-26</td>\n",
       "      <td>760281.43</td>\n",
       "    </tr>\n",
       "  </tbody>\n",
       "</table>\n",
       "<p>6435 rows × 2 columns</p>\n",
       "</div>"
      ],
      "text/plain": [
       "           Date  Weekly_Sales\n",
       "0    2010-05-02    1643690.90\n",
       "1    2010-12-02    1641957.44\n",
       "2    2010-02-19    1611968.17\n",
       "3    2010-02-26    1409727.59\n",
       "4    2010-05-03    1554806.68\n",
       "...         ...           ...\n",
       "6430 2012-09-28     713173.95\n",
       "6431 2012-05-10     733455.07\n",
       "6432 2012-12-10     734464.36\n",
       "6433 2012-10-19     718125.53\n",
       "6434 2012-10-26     760281.43\n",
       "\n",
       "[6435 rows x 2 columns]"
      ]
     },
     "execution_count": 73,
     "metadata": {},
     "output_type": "execute_result"
    }
   ],
   "source": [
    "df_aux.filter(items=['Date','Weekly_Sales'])"
   ]
  },
  {
   "cell_type": "markdown",
   "id": "440907ca",
   "metadata": {},
   "source": [
    "- Selecionar colunas e index com expressão regular"
   ]
  },
  {
   "cell_type": "code",
   "execution_count": 74,
   "id": "c86cbaf0",
   "metadata": {},
   "outputs": [
    {
     "data": {
      "application/vnd.microsoft.datawrangler.viewer.v0+json": {
       "columns": [
        {
         "name": "index",
         "rawType": "int64",
         "type": "integer"
        },
        {
         "name": "Store",
         "rawType": "category",
         "type": "unknown"
        },
        {
         "name": "Date",
         "rawType": "datetime64[ns]",
         "type": "datetime"
        },
        {
         "name": "Temperature",
         "rawType": "float64",
         "type": "float"
        },
        {
         "name": "Fuel_Price",
         "rawType": "float64",
         "type": "float"
        }
       ],
       "ref": "62afba4a-c533-4457-8ef1-5852281c578b",
       "rows": [
        [
         "0",
         "1",
         "2010-05-02 00:00:00",
         "42.31",
         "2.572"
        ],
        [
         "1",
         "1",
         "2010-12-02 00:00:00",
         "38.51",
         "2.548"
        ],
        [
         "2",
         "1",
         "2010-02-19 00:00:00",
         "39.93",
         "2.514"
        ],
        [
         "3",
         "1",
         "2010-02-26 00:00:00",
         "46.63",
         "2.561"
        ],
        [
         "4",
         "1",
         "2010-05-03 00:00:00",
         "46.5",
         "2.625"
        ],
        [
         "5",
         "1",
         "2010-12-03 00:00:00",
         "57.79",
         "2.667"
        ],
        [
         "6",
         "1",
         "2010-03-19 00:00:00",
         "54.58",
         "2.72"
        ],
        [
         "7",
         "1",
         "2010-03-26 00:00:00",
         "51.45",
         "2.732"
        ],
        [
         "8",
         "1",
         "2010-02-04 00:00:00",
         "62.27",
         "2.719"
        ],
        [
         "9",
         "1",
         "2010-09-04 00:00:00",
         "65.86",
         "2.77"
        ],
        [
         "10",
         "1",
         "2010-04-16 00:00:00",
         "66.32",
         "2.808"
        ],
        [
         "11",
         "1",
         "2010-04-23 00:00:00",
         "64.84",
         "2.795"
        ],
        [
         "12",
         "1",
         "2010-04-30 00:00:00",
         "67.41",
         "2.78"
        ],
        [
         "13",
         "1",
         "2010-07-05 00:00:00",
         "72.55",
         "2.835"
        ],
        [
         "14",
         "1",
         "2010-05-14 00:00:00",
         "74.78",
         "2.854"
        ],
        [
         "15",
         "1",
         "2010-05-21 00:00:00",
         "76.44",
         "2.826"
        ],
        [
         "16",
         "1",
         "2010-05-28 00:00:00",
         "80.44",
         "2.759"
        ],
        [
         "17",
         "1",
         "2010-04-06 00:00:00",
         "80.69",
         "2.705"
        ],
        [
         "18",
         "1",
         "2010-11-06 00:00:00",
         "80.43",
         "2.668"
        ],
        [
         "19",
         "1",
         "2010-06-18 00:00:00",
         "84.11",
         "2.637"
        ],
        [
         "20",
         "1",
         "2010-06-25 00:00:00",
         "84.34",
         "2.653"
        ],
        [
         "21",
         "1",
         "2010-02-07 00:00:00",
         "80.91",
         "2.669"
        ],
        [
         "22",
         "1",
         "2010-09-07 00:00:00",
         "80.48",
         "2.642"
        ],
        [
         "23",
         "1",
         "2010-07-16 00:00:00",
         "83.15",
         "2.623"
        ],
        [
         "24",
         "1",
         "2010-07-23 00:00:00",
         "83.36",
         "2.608"
        ],
        [
         "25",
         "1",
         "2010-07-30 00:00:00",
         "81.84",
         "2.64"
        ],
        [
         "26",
         "1",
         "2010-06-08 00:00:00",
         "87.16",
         "2.627"
        ],
        [
         "27",
         "1",
         "2010-08-13 00:00:00",
         "87.0",
         "2.692"
        ],
        [
         "28",
         "1",
         "2010-08-20 00:00:00",
         "86.65",
         "2.664"
        ],
        [
         "29",
         "1",
         "2010-08-27 00:00:00",
         "85.22",
         "2.619"
        ],
        [
         "30",
         "1",
         "2010-03-09 00:00:00",
         "81.21",
         "2.577"
        ],
        [
         "31",
         "1",
         "2010-10-09 00:00:00",
         "78.69",
         "2.565"
        ],
        [
         "32",
         "1",
         "2010-09-17 00:00:00",
         "82.11",
         "2.582"
        ],
        [
         "33",
         "1",
         "2010-09-24 00:00:00",
         "80.94",
         "2.624"
        ],
        [
         "34",
         "1",
         "2010-01-10 00:00:00",
         "71.89",
         "2.603"
        ],
        [
         "35",
         "1",
         "2010-08-10 00:00:00",
         "63.93",
         "2.633"
        ],
        [
         "36",
         "1",
         "2010-10-15 00:00:00",
         "67.18",
         "2.72"
        ],
        [
         "37",
         "1",
         "2010-10-22 00:00:00",
         "69.86",
         "2.725"
        ],
        [
         "38",
         "1",
         "2010-10-29 00:00:00",
         "69.64",
         "2.716"
        ],
        [
         "39",
         "1",
         "2010-05-11 00:00:00",
         "58.74",
         "2.689"
        ],
        [
         "40",
         "1",
         "2010-12-11 00:00:00",
         "59.61",
         "2.728"
        ],
        [
         "41",
         "1",
         "2010-11-19 00:00:00",
         "51.41",
         "2.771"
        ],
        [
         "42",
         "1",
         "2010-11-26 00:00:00",
         "64.52",
         "2.735"
        ],
        [
         "43",
         "1",
         "2010-03-12 00:00:00",
         "49.27",
         "2.708"
        ],
        [
         "44",
         "1",
         "2010-10-12 00:00:00",
         "46.33",
         "2.843"
        ],
        [
         "45",
         "1",
         "2010-12-17 00:00:00",
         "49.84",
         "2.869"
        ],
        [
         "46",
         "1",
         "2010-12-24 00:00:00",
         "52.33",
         "2.886"
        ],
        [
         "47",
         "1",
         "2010-12-31 00:00:00",
         "48.43",
         "2.943"
        ],
        [
         "48",
         "1",
         "2011-07-01 00:00:00",
         "48.27",
         "2.976"
        ],
        [
         "49",
         "1",
         "2011-01-14 00:00:00",
         "35.4",
         "2.983"
        ]
       ],
       "shape": {
        "columns": 4,
        "rows": 6435
       }
      },
      "text/html": [
       "<div>\n",
       "<style scoped>\n",
       "    .dataframe tbody tr th:only-of-type {\n",
       "        vertical-align: middle;\n",
       "    }\n",
       "\n",
       "    .dataframe tbody tr th {\n",
       "        vertical-align: top;\n",
       "    }\n",
       "\n",
       "    .dataframe thead th {\n",
       "        text-align: right;\n",
       "    }\n",
       "</style>\n",
       "<table border=\"1\" class=\"dataframe\">\n",
       "  <thead>\n",
       "    <tr style=\"text-align: right;\">\n",
       "      <th></th>\n",
       "      <th>Store</th>\n",
       "      <th>Date</th>\n",
       "      <th>Temperature</th>\n",
       "      <th>Fuel_Price</th>\n",
       "    </tr>\n",
       "  </thead>\n",
       "  <tbody>\n",
       "    <tr>\n",
       "      <th>0</th>\n",
       "      <td>1</td>\n",
       "      <td>2010-05-02</td>\n",
       "      <td>42.31</td>\n",
       "      <td>2.572</td>\n",
       "    </tr>\n",
       "    <tr>\n",
       "      <th>1</th>\n",
       "      <td>1</td>\n",
       "      <td>2010-12-02</td>\n",
       "      <td>38.51</td>\n",
       "      <td>2.548</td>\n",
       "    </tr>\n",
       "    <tr>\n",
       "      <th>2</th>\n",
       "      <td>1</td>\n",
       "      <td>2010-02-19</td>\n",
       "      <td>39.93</td>\n",
       "      <td>2.514</td>\n",
       "    </tr>\n",
       "    <tr>\n",
       "      <th>3</th>\n",
       "      <td>1</td>\n",
       "      <td>2010-02-26</td>\n",
       "      <td>46.63</td>\n",
       "      <td>2.561</td>\n",
       "    </tr>\n",
       "    <tr>\n",
       "      <th>4</th>\n",
       "      <td>1</td>\n",
       "      <td>2010-05-03</td>\n",
       "      <td>46.50</td>\n",
       "      <td>2.625</td>\n",
       "    </tr>\n",
       "    <tr>\n",
       "      <th>...</th>\n",
       "      <td>...</td>\n",
       "      <td>...</td>\n",
       "      <td>...</td>\n",
       "      <td>...</td>\n",
       "    </tr>\n",
       "    <tr>\n",
       "      <th>6430</th>\n",
       "      <td>45</td>\n",
       "      <td>2012-09-28</td>\n",
       "      <td>64.88</td>\n",
       "      <td>3.997</td>\n",
       "    </tr>\n",
       "    <tr>\n",
       "      <th>6431</th>\n",
       "      <td>45</td>\n",
       "      <td>2012-05-10</td>\n",
       "      <td>64.89</td>\n",
       "      <td>3.985</td>\n",
       "    </tr>\n",
       "    <tr>\n",
       "      <th>6432</th>\n",
       "      <td>45</td>\n",
       "      <td>2012-12-10</td>\n",
       "      <td>54.47</td>\n",
       "      <td>4.000</td>\n",
       "    </tr>\n",
       "    <tr>\n",
       "      <th>6433</th>\n",
       "      <td>45</td>\n",
       "      <td>2012-10-19</td>\n",
       "      <td>56.47</td>\n",
       "      <td>3.969</td>\n",
       "    </tr>\n",
       "    <tr>\n",
       "      <th>6434</th>\n",
       "      <td>45</td>\n",
       "      <td>2012-10-26</td>\n",
       "      <td>58.85</td>\n",
       "      <td>3.882</td>\n",
       "    </tr>\n",
       "  </tbody>\n",
       "</table>\n",
       "<p>6435 rows × 4 columns</p>\n",
       "</div>"
      ],
      "text/plain": [
       "     Store       Date  Temperature  Fuel_Price\n",
       "0        1 2010-05-02        42.31       2.572\n",
       "1        1 2010-12-02        38.51       2.548\n",
       "2        1 2010-02-19        39.93       2.514\n",
       "3        1 2010-02-26        46.63       2.561\n",
       "4        1 2010-05-03        46.50       2.625\n",
       "...    ...        ...          ...         ...\n",
       "6430    45 2012-09-28        64.88       3.997\n",
       "6431    45 2012-05-10        64.89       3.985\n",
       "6432    45 2012-12-10        54.47       4.000\n",
       "6433    45 2012-10-19        56.47       3.969\n",
       "6434    45 2012-10-26        58.85       3.882\n",
       "\n",
       "[6435 rows x 4 columns]"
      ]
     },
     "execution_count": 74,
     "metadata": {},
     "output_type": "execute_result"
    }
   ],
   "source": [
    "# Selecionando as colunas que terminam com e\n",
    "df_aux.filter(regex='e$', axis=1)"
   ]
  },
  {
   "cell_type": "markdown",
   "id": "727ad4e1",
   "metadata": {},
   "source": [
    "- Filtrar por caracteres colunas e index utilizando like"
   ]
  },
  {
   "cell_type": "code",
   "execution_count": 75,
   "id": "d0d19fe9",
   "metadata": {},
   "outputs": [
    {
     "data": {
      "application/vnd.microsoft.datawrangler.viewer.v0+json": {
       "columns": [
        {
         "name": "index",
         "rawType": "int64",
         "type": "integer"
        },
        {
         "name": "Store",
         "rawType": "category",
         "type": "unknown"
        },
        {
         "name": "Date",
         "rawType": "datetime64[ns]",
         "type": "datetime"
        },
        {
         "name": "Weekly_Sales",
         "rawType": "float64",
         "type": "float"
        },
        {
         "name": "Holiday_Flag",
         "rawType": "bool",
         "type": "boolean"
        },
        {
         "name": "Temperature",
         "rawType": "float64",
         "type": "float"
        },
        {
         "name": "Fuel_Price",
         "rawType": "float64",
         "type": "float"
        },
        {
         "name": "CPI",
         "rawType": "float64",
         "type": "float"
        },
        {
         "name": "Unemployment",
         "rawType": "float64",
         "type": "float"
        }
       ],
       "ref": "e5eaf5d2-a864-4ec5-bdaf-138cc4a27999",
       "rows": [
        [
         "10",
         "1",
         "2010-04-16 00:00:00",
         "1466058.28",
         "False",
         "66.32",
         "2.808",
         "210.4887",
         "7.808"
        ],
        [
         "100",
         "1",
         "2012-06-01 00:00:00",
         "1550369.92",
         "False",
         "49.01",
         "3.157",
         "219.7142581",
         "7.348"
        ],
        [
         "101",
         "1",
         "2012-01-13 00:00:00",
         "1459601.17",
         "False",
         "48.53",
         "3.261",
         "219.8925263",
         "7.348"
        ],
        [
         "102",
         "1",
         "2012-01-20 00:00:00",
         "1394393.84",
         "False",
         "54.11",
         "3.268",
         "219.9856893",
         "7.348"
        ],
        [
         "103",
         "1",
         "2012-01-27 00:00:00",
         "1319325.59",
         "False",
         "54.26",
         "3.29",
         "220.0788523",
         "7.348"
        ],
        [
         "104",
         "1",
         "2012-03-02 00:00:00",
         "1636339.65",
         "False",
         "56.55",
         "3.36",
         "220.1720153",
         "7.348"
        ],
        [
         "105",
         "1",
         "2012-10-02 00:00:00",
         "1802477.43",
         "True",
         "48.02",
         "3.409",
         "220.2651783",
         "7.348"
        ],
        [
         "106",
         "1",
         "2012-02-17 00:00:00",
         "1819870.0",
         "False",
         "45.32",
         "3.51",
         "220.4257586",
         "7.348"
        ],
        [
         "107",
         "1",
         "2012-02-24 00:00:00",
         "1539387.83",
         "False",
         "57.25",
         "3.555",
         "220.636902",
         "7.348"
        ],
        [
         "108",
         "1",
         "2012-02-03 00:00:00",
         "1688420.76",
         "False",
         "60.96",
         "3.63",
         "220.8480454",
         "7.348"
        ],
        [
         "109",
         "1",
         "2012-09-03 00:00:00",
         "1675431.16",
         "False",
         "58.76",
         "3.669",
         "221.0591887",
         "7.348"
        ],
        [
         "110",
         "1",
         "2012-03-16 00:00:00",
         "1677472.78",
         "False",
         "64.74",
         "3.734",
         "221.2118132",
         "7.348"
        ],
        [
         "210",
         "2",
         "2011-05-20 00:00:00",
         "1688281.86",
         "False",
         "67.14",
         "3.907",
         "215.3834778",
         "7.931"
        ],
        [
         "310",
         "3",
         "2010-07-23 00:00:00",
         "352864.49",
         "False",
         "83.32",
         "2.608",
         "214.5564968",
         "7.346"
        ],
        [
         "410",
         "3",
         "2012-06-22 00:00:00",
         "419497.95",
         "False",
         "82.7",
         "3.346",
         "225.3068615",
         "6.664"
        ],
        [
         "510",
         "4",
         "2011-08-26 00:00:00",
         "1988490.21",
         "False",
         "81.47",
         "3.523",
         "129.2832581",
         "5.644"
        ],
        [
         "610",
         "5",
         "2010-10-29 00:00:00",
         "278031.81",
         "False",
         "70.58",
         "2.716",
         "212.464799",
         "6.768"
        ],
        [
         "710",
         "5",
         "2012-09-28 00:00:00",
         "310141.68",
         "False",
         "78.33",
         "3.666",
         "223.5741019",
         "5.603"
        ],
        [
         "810",
         "6",
         "2011-02-12 00:00:00",
         "1688531.34",
         "False",
         "51.18",
         "3.172",
         "220.2937686",
         "6.551"
        ],
        [
         "910",
         "7",
         "2011-04-02 00:00:00",
         "558027.77",
         "False",
         "-2.06",
         "3.011",
         "191.7625895",
         "8.818"
        ],
        [
         "1000",
         "7",
         "2012-10-26 00:00:00",
         "495543.28",
         "False",
         "42.53",
         "3.686",
         "199.2195317",
         "7.557"
        ],
        [
         "1001",
         "8",
         "2010-05-02 00:00:00",
         "1004137.09",
         "False",
         "34.14",
         "2.572",
         "214.4714512",
         "6.299"
        ],
        [
         "1002",
         "8",
         "2010-12-02 00:00:00",
         "994801.4",
         "True",
         "33.34",
         "2.548",
         "214.6214189",
         "6.299"
        ],
        [
         "1003",
         "8",
         "2010-02-19 00:00:00",
         "963960.37",
         "False",
         "39.1",
         "2.514",
         "214.6664878",
         "6.299"
        ],
        [
         "1004",
         "8",
         "2010-02-26 00:00:00",
         "847592.11",
         "False",
         "37.91",
         "2.561",
         "214.6940735",
         "6.299"
        ],
        [
         "1005",
         "8",
         "2010-05-03 00:00:00",
         "881503.95",
         "False",
         "45.64",
         "2.625",
         "214.7216592",
         "6.299"
        ],
        [
         "1006",
         "8",
         "2010-12-03 00:00:00",
         "860336.16",
         "False",
         "49.76",
         "2.667",
         "214.7492449",
         "6.299"
        ],
        [
         "1007",
         "8",
         "2010-03-19 00:00:00",
         "839911.0",
         "False",
         "47.26",
         "2.72",
         "214.5764954",
         "6.299"
        ],
        [
         "1008",
         "8",
         "2010-03-26 00:00:00",
         "772539.12",
         "False",
         "46.51",
         "2.732",
         "214.3703567",
         "6.299"
        ],
        [
         "1009",
         "8",
         "2010-02-04 00:00:00",
         "914500.91",
         "False",
         "60.18",
         "2.719",
         "214.164218",
         "6.29"
        ],
        [
         "1010",
         "8",
         "2010-09-04 00:00:00",
         "916033.92",
         "False",
         "59.25",
         "2.77",
         "213.9580793",
         "6.29"
        ],
        [
         "1011",
         "8",
         "2010-04-16 00:00:00",
         "882917.12",
         "False",
         "62.66",
         "2.808",
         "213.8186357",
         "6.29"
        ],
        [
         "1012",
         "8",
         "2010-04-23 00:00:00",
         "850440.26",
         "False",
         "56.1",
         "2.795",
         "213.768119",
         "6.29"
        ],
        [
         "1013",
         "8",
         "2010-04-30 00:00:00",
         "778672.64",
         "False",
         "61.01",
         "2.78",
         "213.7176024",
         "6.29"
        ],
        [
         "1014",
         "8",
         "2010-07-05 00:00:00",
         "916820.96",
         "False",
         "62.68",
         "2.835",
         "213.6670857",
         "6.29"
        ],
        [
         "1015",
         "8",
         "2010-05-14 00:00:00",
         "873337.84",
         "False",
         "61.35",
         "2.854",
         "213.6655355",
         "6.29"
        ],
        [
         "1016",
         "8",
         "2010-05-21 00:00:00",
         "818333.21",
         "False",
         "66.03",
         "2.826",
         "213.9577839",
         "6.29"
        ],
        [
         "1017",
         "8",
         "2010-05-28 00:00:00",
         "868041.56",
         "False",
         "74.71",
         "2.759",
         "214.2500323",
         "6.29"
        ],
        [
         "1018",
         "8",
         "2010-04-06 00:00:00",
         "958225.41",
         "False",
         "75.71",
         "2.705",
         "214.5422806",
         "6.29"
        ],
        [
         "1019",
         "8",
         "2010-11-06 00:00:00",
         "914835.86",
         "False",
         "82.21",
         "2.668",
         "214.834529",
         "6.29"
        ],
        [
         "1020",
         "8",
         "2010-06-18 00:00:00",
         "869922.56",
         "False",
         "78.79",
         "2.637",
         "214.8324452",
         "6.29"
        ],
        [
         "1021",
         "8",
         "2010-06-25 00:00:00",
         "814919.11",
         "False",
         "81.78",
         "2.653",
         "214.7126286",
         "6.29"
        ],
        [
         "1022",
         "8",
         "2010-02-07 00:00:00",
         "852333.75",
         "False",
         "74.78",
         "2.669",
         "214.5928119",
         "6.315"
        ],
        [
         "1023",
         "8",
         "2010-09-07 00:00:00",
         "845289.77",
         "False",
         "72.49",
         "2.642",
         "214.4729952",
         "6.315"
        ],
        [
         "1024",
         "8",
         "2010-07-16 00:00:00",
         "848630.57",
         "False",
         "77.49",
         "2.623",
         "214.4640599",
         "6.315"
        ],
        [
         "1025",
         "8",
         "2010-07-23 00:00:00",
         "785515.88",
         "False",
         "78.29",
         "2.608",
         "214.6029664",
         "6.315"
        ],
        [
         "1026",
         "8",
         "2010-07-30 00:00:00",
         "787295.09",
         "False",
         "76.02",
         "2.64",
         "214.7418728",
         "6.315"
        ],
        [
         "1027",
         "8",
         "2010-06-08 00:00:00",
         "893399.77",
         "False",
         "80.37",
         "2.627",
         "214.8807793",
         "6.315"
        ],
        [
         "1028",
         "8",
         "2010-08-13 00:00:00",
         "867919.21",
         "False",
         "80.11",
         "2.692",
         "215.0196857",
         "6.315"
        ],
        [
         "1029",
         "8",
         "2010-08-20 00:00:00",
         "870676.44",
         "False",
         "79.36",
         "2.664",
         "214.9779825",
         "6.315"
        ]
       ],
       "shape": {
        "columns": 8,
        "rows": 234
       }
      },
      "text/html": [
       "<div>\n",
       "<style scoped>\n",
       "    .dataframe tbody tr th:only-of-type {\n",
       "        vertical-align: middle;\n",
       "    }\n",
       "\n",
       "    .dataframe tbody tr th {\n",
       "        vertical-align: top;\n",
       "    }\n",
       "\n",
       "    .dataframe thead th {\n",
       "        text-align: right;\n",
       "    }\n",
       "</style>\n",
       "<table border=\"1\" class=\"dataframe\">\n",
       "  <thead>\n",
       "    <tr style=\"text-align: right;\">\n",
       "      <th></th>\n",
       "      <th>Store</th>\n",
       "      <th>Date</th>\n",
       "      <th>Weekly_Sales</th>\n",
       "      <th>Holiday_Flag</th>\n",
       "      <th>Temperature</th>\n",
       "      <th>Fuel_Price</th>\n",
       "      <th>CPI</th>\n",
       "      <th>Unemployment</th>\n",
       "    </tr>\n",
       "  </thead>\n",
       "  <tbody>\n",
       "    <tr>\n",
       "      <th>10</th>\n",
       "      <td>1</td>\n",
       "      <td>2010-04-16</td>\n",
       "      <td>1466058.28</td>\n",
       "      <td>False</td>\n",
       "      <td>66.32</td>\n",
       "      <td>2.808</td>\n",
       "      <td>210.488700</td>\n",
       "      <td>7.808</td>\n",
       "    </tr>\n",
       "    <tr>\n",
       "      <th>100</th>\n",
       "      <td>1</td>\n",
       "      <td>2012-06-01</td>\n",
       "      <td>1550369.92</td>\n",
       "      <td>False</td>\n",
       "      <td>49.01</td>\n",
       "      <td>3.157</td>\n",
       "      <td>219.714258</td>\n",
       "      <td>7.348</td>\n",
       "    </tr>\n",
       "    <tr>\n",
       "      <th>101</th>\n",
       "      <td>1</td>\n",
       "      <td>2012-01-13</td>\n",
       "      <td>1459601.17</td>\n",
       "      <td>False</td>\n",
       "      <td>48.53</td>\n",
       "      <td>3.261</td>\n",
       "      <td>219.892526</td>\n",
       "      <td>7.348</td>\n",
       "    </tr>\n",
       "    <tr>\n",
       "      <th>102</th>\n",
       "      <td>1</td>\n",
       "      <td>2012-01-20</td>\n",
       "      <td>1394393.84</td>\n",
       "      <td>False</td>\n",
       "      <td>54.11</td>\n",
       "      <td>3.268</td>\n",
       "      <td>219.985689</td>\n",
       "      <td>7.348</td>\n",
       "    </tr>\n",
       "    <tr>\n",
       "      <th>103</th>\n",
       "      <td>1</td>\n",
       "      <td>2012-01-27</td>\n",
       "      <td>1319325.59</td>\n",
       "      <td>False</td>\n",
       "      <td>54.26</td>\n",
       "      <td>3.290</td>\n",
       "      <td>220.078852</td>\n",
       "      <td>7.348</td>\n",
       "    </tr>\n",
       "    <tr>\n",
       "      <th>...</th>\n",
       "      <td>...</td>\n",
       "      <td>...</td>\n",
       "      <td>...</td>\n",
       "      <td>...</td>\n",
       "      <td>...</td>\n",
       "      <td>...</td>\n",
       "      <td>...</td>\n",
       "      <td>...</td>\n",
       "    </tr>\n",
       "    <tr>\n",
       "      <th>6109</th>\n",
       "      <td>43</td>\n",
       "      <td>2012-01-27</td>\n",
       "      <td>587685.38</td>\n",
       "      <td>False</td>\n",
       "      <td>52.10</td>\n",
       "      <td>3.290</td>\n",
       "      <td>211.587991</td>\n",
       "      <td>9.653</td>\n",
       "    </tr>\n",
       "    <tr>\n",
       "      <th>6110</th>\n",
       "      <td>43</td>\n",
       "      <td>2012-03-02</td>\n",
       "      <td>629176.71</td>\n",
       "      <td>False</td>\n",
       "      <td>51.92</td>\n",
       "      <td>3.360</td>\n",
       "      <td>211.676200</td>\n",
       "      <td>9.653</td>\n",
       "    </tr>\n",
       "    <tr>\n",
       "      <th>6210</th>\n",
       "      <td>44</td>\n",
       "      <td>2011-08-04</td>\n",
       "      <td>292498.61</td>\n",
       "      <td>False</td>\n",
       "      <td>42.75</td>\n",
       "      <td>3.547</td>\n",
       "      <td>128.823806</td>\n",
       "      <td>6.906</td>\n",
       "    </tr>\n",
       "    <tr>\n",
       "      <th>6310</th>\n",
       "      <td>45</td>\n",
       "      <td>2010-11-06</td>\n",
       "      <td>794698.77</td>\n",
       "      <td>False</td>\n",
       "      <td>69.71</td>\n",
       "      <td>2.809</td>\n",
       "      <td>182.431557</td>\n",
       "      <td>8.899</td>\n",
       "    </tr>\n",
       "    <tr>\n",
       "      <th>6410</th>\n",
       "      <td>45</td>\n",
       "      <td>2012-11-05</td>\n",
       "      <td>770487.37</td>\n",
       "      <td>False</td>\n",
       "      <td>61.24</td>\n",
       "      <td>3.889</td>\n",
       "      <td>190.976417</td>\n",
       "      <td>8.567</td>\n",
       "    </tr>\n",
       "  </tbody>\n",
       "</table>\n",
       "<p>234 rows × 8 columns</p>\n",
       "</div>"
      ],
      "text/plain": [
       "     Store       Date  Weekly_Sales  Holiday_Flag  Temperature  Fuel_Price  \\\n",
       "10       1 2010-04-16    1466058.28         False        66.32       2.808   \n",
       "100      1 2012-06-01    1550369.92         False        49.01       3.157   \n",
       "101      1 2012-01-13    1459601.17         False        48.53       3.261   \n",
       "102      1 2012-01-20    1394393.84         False        54.11       3.268   \n",
       "103      1 2012-01-27    1319325.59         False        54.26       3.290   \n",
       "...    ...        ...           ...           ...          ...         ...   \n",
       "6109    43 2012-01-27     587685.38         False        52.10       3.290   \n",
       "6110    43 2012-03-02     629176.71         False        51.92       3.360   \n",
       "6210    44 2011-08-04     292498.61         False        42.75       3.547   \n",
       "6310    45 2010-11-06     794698.77         False        69.71       2.809   \n",
       "6410    45 2012-11-05     770487.37         False        61.24       3.889   \n",
       "\n",
       "             CPI  Unemployment  \n",
       "10    210.488700         7.808  \n",
       "100   219.714258         7.348  \n",
       "101   219.892526         7.348  \n",
       "102   219.985689         7.348  \n",
       "103   220.078852         7.348  \n",
       "...          ...           ...  \n",
       "6109  211.587991         9.653  \n",
       "6110  211.676200         9.653  \n",
       "6210  128.823806         6.906  \n",
       "6310  182.431557         8.899  \n",
       "6410  190.976417         8.567  \n",
       "\n",
       "[234 rows x 8 columns]"
      ]
     },
     "execution_count": 75,
     "metadata": {},
     "output_type": "execute_result"
    }
   ],
   "source": [
    "#Filtrando os indexes que possuem '10'\n",
    "df_aux.filter(like='10', axis=0)"
   ]
  },
  {
   "cell_type": "code",
   "execution_count": 76,
   "id": "3ae00944",
   "metadata": {},
   "outputs": [
    {
     "data": {
      "application/vnd.microsoft.datawrangler.viewer.v0+json": {
       "columns": [
        {
         "name": "index",
         "rawType": "int64",
         "type": "integer"
        },
        {
         "name": "Store",
         "rawType": "category",
         "type": "unknown"
        },
        {
         "name": "Temperature",
         "rawType": "float64",
         "type": "float"
        }
       ],
       "ref": "8c855659-353a-423f-8c6f-347ceafd1175",
       "rows": [
        [
         "0",
         "1",
         "42.31"
        ],
        [
         "1",
         "1",
         "38.51"
        ],
        [
         "2",
         "1",
         "39.93"
        ],
        [
         "3",
         "1",
         "46.63"
        ],
        [
         "4",
         "1",
         "46.5"
        ],
        [
         "5",
         "1",
         "57.79"
        ],
        [
         "6",
         "1",
         "54.58"
        ],
        [
         "7",
         "1",
         "51.45"
        ],
        [
         "8",
         "1",
         "62.27"
        ],
        [
         "9",
         "1",
         "65.86"
        ],
        [
         "10",
         "1",
         "66.32"
        ],
        [
         "11",
         "1",
         "64.84"
        ],
        [
         "12",
         "1",
         "67.41"
        ],
        [
         "13",
         "1",
         "72.55"
        ],
        [
         "14",
         "1",
         "74.78"
        ],
        [
         "15",
         "1",
         "76.44"
        ],
        [
         "16",
         "1",
         "80.44"
        ],
        [
         "17",
         "1",
         "80.69"
        ],
        [
         "18",
         "1",
         "80.43"
        ],
        [
         "19",
         "1",
         "84.11"
        ],
        [
         "20",
         "1",
         "84.34"
        ],
        [
         "21",
         "1",
         "80.91"
        ],
        [
         "22",
         "1",
         "80.48"
        ],
        [
         "23",
         "1",
         "83.15"
        ],
        [
         "24",
         "1",
         "83.36"
        ],
        [
         "25",
         "1",
         "81.84"
        ],
        [
         "26",
         "1",
         "87.16"
        ],
        [
         "27",
         "1",
         "87.0"
        ],
        [
         "28",
         "1",
         "86.65"
        ],
        [
         "29",
         "1",
         "85.22"
        ],
        [
         "30",
         "1",
         "81.21"
        ],
        [
         "31",
         "1",
         "78.69"
        ],
        [
         "32",
         "1",
         "82.11"
        ],
        [
         "33",
         "1",
         "80.94"
        ],
        [
         "34",
         "1",
         "71.89"
        ],
        [
         "35",
         "1",
         "63.93"
        ],
        [
         "36",
         "1",
         "67.18"
        ],
        [
         "37",
         "1",
         "69.86"
        ],
        [
         "38",
         "1",
         "69.64"
        ],
        [
         "39",
         "1",
         "58.74"
        ],
        [
         "40",
         "1",
         "59.61"
        ],
        [
         "41",
         "1",
         "51.41"
        ],
        [
         "42",
         "1",
         "64.52"
        ],
        [
         "43",
         "1",
         "49.27"
        ],
        [
         "44",
         "1",
         "46.33"
        ],
        [
         "45",
         "1",
         "49.84"
        ],
        [
         "46",
         "1",
         "52.33"
        ],
        [
         "47",
         "1",
         "48.43"
        ],
        [
         "48",
         "1",
         "48.27"
        ],
        [
         "49",
         "1",
         "35.4"
        ]
       ],
       "shape": {
        "columns": 2,
        "rows": 6435
       }
      },
      "text/html": [
       "<div>\n",
       "<style scoped>\n",
       "    .dataframe tbody tr th:only-of-type {\n",
       "        vertical-align: middle;\n",
       "    }\n",
       "\n",
       "    .dataframe tbody tr th {\n",
       "        vertical-align: top;\n",
       "    }\n",
       "\n",
       "    .dataframe thead th {\n",
       "        text-align: right;\n",
       "    }\n",
       "</style>\n",
       "<table border=\"1\" class=\"dataframe\">\n",
       "  <thead>\n",
       "    <tr style=\"text-align: right;\">\n",
       "      <th></th>\n",
       "      <th>Store</th>\n",
       "      <th>Temperature</th>\n",
       "    </tr>\n",
       "  </thead>\n",
       "  <tbody>\n",
       "    <tr>\n",
       "      <th>0</th>\n",
       "      <td>1</td>\n",
       "      <td>42.31</td>\n",
       "    </tr>\n",
       "    <tr>\n",
       "      <th>1</th>\n",
       "      <td>1</td>\n",
       "      <td>38.51</td>\n",
       "    </tr>\n",
       "    <tr>\n",
       "      <th>2</th>\n",
       "      <td>1</td>\n",
       "      <td>39.93</td>\n",
       "    </tr>\n",
       "    <tr>\n",
       "      <th>3</th>\n",
       "      <td>1</td>\n",
       "      <td>46.63</td>\n",
       "    </tr>\n",
       "    <tr>\n",
       "      <th>4</th>\n",
       "      <td>1</td>\n",
       "      <td>46.50</td>\n",
       "    </tr>\n",
       "    <tr>\n",
       "      <th>...</th>\n",
       "      <td>...</td>\n",
       "      <td>...</td>\n",
       "    </tr>\n",
       "    <tr>\n",
       "      <th>6430</th>\n",
       "      <td>45</td>\n",
       "      <td>64.88</td>\n",
       "    </tr>\n",
       "    <tr>\n",
       "      <th>6431</th>\n",
       "      <td>45</td>\n",
       "      <td>64.89</td>\n",
       "    </tr>\n",
       "    <tr>\n",
       "      <th>6432</th>\n",
       "      <td>45</td>\n",
       "      <td>54.47</td>\n",
       "    </tr>\n",
       "    <tr>\n",
       "      <th>6433</th>\n",
       "      <td>45</td>\n",
       "      <td>56.47</td>\n",
       "    </tr>\n",
       "    <tr>\n",
       "      <th>6434</th>\n",
       "      <td>45</td>\n",
       "      <td>58.85</td>\n",
       "    </tr>\n",
       "  </tbody>\n",
       "</table>\n",
       "<p>6435 rows × 2 columns</p>\n",
       "</div>"
      ],
      "text/plain": [
       "     Store  Temperature\n",
       "0        1        42.31\n",
       "1        1        38.51\n",
       "2        1        39.93\n",
       "3        1        46.63\n",
       "4        1        46.50\n",
       "...    ...          ...\n",
       "6430    45        64.88\n",
       "6431    45        64.89\n",
       "6432    45        54.47\n",
       "6433    45        56.47\n",
       "6434    45        58.85\n",
       "\n",
       "[6435 rows x 2 columns]"
      ]
     },
     "execution_count": 76,
     "metadata": {},
     "output_type": "execute_result"
    }
   ],
   "source": [
    "#Filtrando as colunas que possuem 're'\n",
    "df_aux.filter(like='re', axis=1)"
   ]
  },
  {
   "cell_type": "markdown",
   "id": "2e605c1c",
   "metadata": {},
   "source": [
    "- Podemos utilizar del para excluir colunas"
   ]
  },
  {
   "cell_type": "code",
   "execution_count": 77,
   "id": "21739696",
   "metadata": {},
   "outputs": [
    {
     "data": {
      "application/vnd.microsoft.datawrangler.viewer.v0+json": {
       "columns": [
        {
         "name": "index",
         "rawType": "int64",
         "type": "integer"
        },
        {
         "name": "Store",
         "rawType": "category",
         "type": "unknown"
        },
        {
         "name": "Date",
         "rawType": "datetime64[ns]",
         "type": "datetime"
        },
        {
         "name": "Weekly_Sales",
         "rawType": "float64",
         "type": "float"
        },
        {
         "name": "Holiday_Flag",
         "rawType": "bool",
         "type": "boolean"
        },
        {
         "name": "Temperature",
         "rawType": "float64",
         "type": "float"
        },
        {
         "name": "Fuel_Price",
         "rawType": "float64",
         "type": "float"
        },
        {
         "name": "Unemployment",
         "rawType": "float64",
         "type": "float"
        }
       ],
       "ref": "d9783ee7-a4c4-45e5-8531-7030e0673817",
       "rows": [
        [
         "0",
         "1",
         "2010-05-02 00:00:00",
         "1643690.9",
         "False",
         "42.31",
         "2.572",
         "8.106"
        ],
        [
         "1",
         "1",
         "2010-12-02 00:00:00",
         "1641957.44",
         "True",
         "38.51",
         "2.548",
         "8.106"
        ],
        [
         "2",
         "1",
         "2010-02-19 00:00:00",
         "1611968.17",
         "False",
         "39.93",
         "2.514",
         "8.106"
        ],
        [
         "3",
         "1",
         "2010-02-26 00:00:00",
         "1409727.59",
         "False",
         "46.63",
         "2.561",
         "8.106"
        ],
        [
         "4",
         "1",
         "2010-05-03 00:00:00",
         "1554806.68",
         "False",
         "46.5",
         "2.625",
         "8.106"
        ],
        [
         "5",
         "1",
         "2010-12-03 00:00:00",
         "1439541.59",
         "False",
         "57.79",
         "2.667",
         "8.106"
        ],
        [
         "6",
         "1",
         "2010-03-19 00:00:00",
         "1472515.79",
         "False",
         "54.58",
         "2.72",
         "8.106"
        ],
        [
         "7",
         "1",
         "2010-03-26 00:00:00",
         "1404429.92",
         "False",
         "51.45",
         "2.732",
         "8.106"
        ],
        [
         "8",
         "1",
         "2010-02-04 00:00:00",
         "1594968.28",
         "False",
         "62.27",
         "2.719",
         "7.808"
        ],
        [
         "9",
         "1",
         "2010-09-04 00:00:00",
         "1545418.53",
         "False",
         "65.86",
         "2.77",
         "7.808"
        ],
        [
         "10",
         "1",
         "2010-04-16 00:00:00",
         "1466058.28",
         "False",
         "66.32",
         "2.808",
         "7.808"
        ],
        [
         "11",
         "1",
         "2010-04-23 00:00:00",
         "1391256.12",
         "False",
         "64.84",
         "2.795",
         "7.808"
        ],
        [
         "12",
         "1",
         "2010-04-30 00:00:00",
         "1425100.71",
         "False",
         "67.41",
         "2.78",
         "7.808"
        ],
        [
         "13",
         "1",
         "2010-07-05 00:00:00",
         "1603955.12",
         "False",
         "72.55",
         "2.835",
         "7.808"
        ],
        [
         "14",
         "1",
         "2010-05-14 00:00:00",
         "1494251.5",
         "False",
         "74.78",
         "2.854",
         "7.808"
        ],
        [
         "15",
         "1",
         "2010-05-21 00:00:00",
         "1399662.07",
         "False",
         "76.44",
         "2.826",
         "7.808"
        ],
        [
         "16",
         "1",
         "2010-05-28 00:00:00",
         "1432069.95",
         "False",
         "80.44",
         "2.759",
         "7.808"
        ],
        [
         "17",
         "1",
         "2010-04-06 00:00:00",
         "1615524.71",
         "False",
         "80.69",
         "2.705",
         "7.808"
        ],
        [
         "18",
         "1",
         "2010-11-06 00:00:00",
         "1542561.09",
         "False",
         "80.43",
         "2.668",
         "7.808"
        ],
        [
         "19",
         "1",
         "2010-06-18 00:00:00",
         "1503284.06",
         "False",
         "84.11",
         "2.637",
         "7.808"
        ],
        [
         "20",
         "1",
         "2010-06-25 00:00:00",
         "1422711.6",
         "False",
         "84.34",
         "2.653",
         "7.808"
        ],
        [
         "21",
         "1",
         "2010-02-07 00:00:00",
         "1492418.14",
         "False",
         "80.91",
         "2.669",
         "7.787"
        ],
        [
         "22",
         "1",
         "2010-09-07 00:00:00",
         "1546074.18",
         "False",
         "80.48",
         "2.642",
         "7.787"
        ],
        [
         "23",
         "1",
         "2010-07-16 00:00:00",
         "1448938.92",
         "False",
         "83.15",
         "2.623",
         "7.787"
        ],
        [
         "24",
         "1",
         "2010-07-23 00:00:00",
         "1385065.2",
         "False",
         "83.36",
         "2.608",
         "7.787"
        ],
        [
         "25",
         "1",
         "2010-07-30 00:00:00",
         "1371986.6",
         "False",
         "81.84",
         "2.64",
         "7.787"
        ],
        [
         "26",
         "1",
         "2010-06-08 00:00:00",
         "1605491.78",
         "False",
         "87.16",
         "2.627",
         "7.787"
        ],
        [
         "27",
         "1",
         "2010-08-13 00:00:00",
         "1508237.76",
         "False",
         "87.0",
         "2.692",
         "7.787"
        ],
        [
         "28",
         "1",
         "2010-08-20 00:00:00",
         "1513080.49",
         "False",
         "86.65",
         "2.664",
         "7.787"
        ],
        [
         "29",
         "1",
         "2010-08-27 00:00:00",
         "1449142.92",
         "False",
         "85.22",
         "2.619",
         "7.787"
        ],
        [
         "30",
         "1",
         "2010-03-09 00:00:00",
         "1540163.53",
         "False",
         "81.21",
         "2.577",
         "7.787"
        ],
        [
         "31",
         "1",
         "2010-10-09 00:00:00",
         "1507460.69",
         "True",
         "78.69",
         "2.565",
         "7.787"
        ],
        [
         "32",
         "1",
         "2010-09-17 00:00:00",
         "1430378.67",
         "False",
         "82.11",
         "2.582",
         "7.787"
        ],
        [
         "33",
         "1",
         "2010-09-24 00:00:00",
         "1351791.03",
         "False",
         "80.94",
         "2.624",
         "7.787"
        ],
        [
         "34",
         "1",
         "2010-01-10 00:00:00",
         "1453329.5",
         "False",
         "71.89",
         "2.603",
         "7.838"
        ],
        [
         "35",
         "1",
         "2010-08-10 00:00:00",
         "1508239.93",
         "False",
         "63.93",
         "2.633",
         "7.838"
        ],
        [
         "36",
         "1",
         "2010-10-15 00:00:00",
         "1459409.1",
         "False",
         "67.18",
         "2.72",
         "7.838"
        ],
        [
         "37",
         "1",
         "2010-10-22 00:00:00",
         "1345454.0",
         "False",
         "69.86",
         "2.725",
         "7.838"
        ],
        [
         "38",
         "1",
         "2010-10-29 00:00:00",
         "1384209.22",
         "False",
         "69.64",
         "2.716",
         "7.838"
        ],
        [
         "39",
         "1",
         "2010-05-11 00:00:00",
         "1551659.28",
         "False",
         "58.74",
         "2.689",
         "7.838"
        ],
        [
         "40",
         "1",
         "2010-12-11 00:00:00",
         "1494479.49",
         "False",
         "59.61",
         "2.728",
         "7.838"
        ],
        [
         "41",
         "1",
         "2010-11-19 00:00:00",
         "1483784.18",
         "False",
         "51.41",
         "2.771",
         "7.838"
        ],
        [
         "42",
         "1",
         "2010-11-26 00:00:00",
         "1955624.11",
         "True",
         "64.52",
         "2.735",
         "7.838"
        ],
        [
         "43",
         "1",
         "2010-03-12 00:00:00",
         "1548033.78",
         "False",
         "49.27",
         "2.708",
         "7.838"
        ],
        [
         "44",
         "1",
         "2010-10-12 00:00:00",
         "1682614.26",
         "False",
         "46.33",
         "2.843",
         "7.838"
        ],
        [
         "45",
         "1",
         "2010-12-17 00:00:00",
         "1891034.93",
         "False",
         "49.84",
         "2.869",
         "7.838"
        ],
        [
         "46",
         "1",
         "2010-12-24 00:00:00",
         "2387950.2",
         "False",
         "52.33",
         "2.886",
         "7.838"
        ],
        [
         "47",
         "1",
         "2010-12-31 00:00:00",
         "1367320.01",
         "True",
         "48.43",
         "2.943",
         "7.838"
        ],
        [
         "48",
         "1",
         "2011-07-01 00:00:00",
         "1444732.28",
         "False",
         "48.27",
         "2.976",
         "7.742"
        ],
        [
         "49",
         "1",
         "2011-01-14 00:00:00",
         "1391013.96",
         "False",
         "35.4",
         "2.983",
         "7.742"
        ]
       ],
       "shape": {
        "columns": 7,
        "rows": 6435
       }
      },
      "text/html": [
       "<div>\n",
       "<style scoped>\n",
       "    .dataframe tbody tr th:only-of-type {\n",
       "        vertical-align: middle;\n",
       "    }\n",
       "\n",
       "    .dataframe tbody tr th {\n",
       "        vertical-align: top;\n",
       "    }\n",
       "\n",
       "    .dataframe thead th {\n",
       "        text-align: right;\n",
       "    }\n",
       "</style>\n",
       "<table border=\"1\" class=\"dataframe\">\n",
       "  <thead>\n",
       "    <tr style=\"text-align: right;\">\n",
       "      <th></th>\n",
       "      <th>Store</th>\n",
       "      <th>Date</th>\n",
       "      <th>Weekly_Sales</th>\n",
       "      <th>Holiday_Flag</th>\n",
       "      <th>Temperature</th>\n",
       "      <th>Fuel_Price</th>\n",
       "      <th>Unemployment</th>\n",
       "    </tr>\n",
       "  </thead>\n",
       "  <tbody>\n",
       "    <tr>\n",
       "      <th>0</th>\n",
       "      <td>1</td>\n",
       "      <td>2010-05-02</td>\n",
       "      <td>1643690.90</td>\n",
       "      <td>False</td>\n",
       "      <td>42.31</td>\n",
       "      <td>2.572</td>\n",
       "      <td>8.106</td>\n",
       "    </tr>\n",
       "    <tr>\n",
       "      <th>1</th>\n",
       "      <td>1</td>\n",
       "      <td>2010-12-02</td>\n",
       "      <td>1641957.44</td>\n",
       "      <td>True</td>\n",
       "      <td>38.51</td>\n",
       "      <td>2.548</td>\n",
       "      <td>8.106</td>\n",
       "    </tr>\n",
       "    <tr>\n",
       "      <th>2</th>\n",
       "      <td>1</td>\n",
       "      <td>2010-02-19</td>\n",
       "      <td>1611968.17</td>\n",
       "      <td>False</td>\n",
       "      <td>39.93</td>\n",
       "      <td>2.514</td>\n",
       "      <td>8.106</td>\n",
       "    </tr>\n",
       "    <tr>\n",
       "      <th>3</th>\n",
       "      <td>1</td>\n",
       "      <td>2010-02-26</td>\n",
       "      <td>1409727.59</td>\n",
       "      <td>False</td>\n",
       "      <td>46.63</td>\n",
       "      <td>2.561</td>\n",
       "      <td>8.106</td>\n",
       "    </tr>\n",
       "    <tr>\n",
       "      <th>4</th>\n",
       "      <td>1</td>\n",
       "      <td>2010-05-03</td>\n",
       "      <td>1554806.68</td>\n",
       "      <td>False</td>\n",
       "      <td>46.50</td>\n",
       "      <td>2.625</td>\n",
       "      <td>8.106</td>\n",
       "    </tr>\n",
       "    <tr>\n",
       "      <th>...</th>\n",
       "      <td>...</td>\n",
       "      <td>...</td>\n",
       "      <td>...</td>\n",
       "      <td>...</td>\n",
       "      <td>...</td>\n",
       "      <td>...</td>\n",
       "      <td>...</td>\n",
       "    </tr>\n",
       "    <tr>\n",
       "      <th>6430</th>\n",
       "      <td>45</td>\n",
       "      <td>2012-09-28</td>\n",
       "      <td>713173.95</td>\n",
       "      <td>False</td>\n",
       "      <td>64.88</td>\n",
       "      <td>3.997</td>\n",
       "      <td>8.684</td>\n",
       "    </tr>\n",
       "    <tr>\n",
       "      <th>6431</th>\n",
       "      <td>45</td>\n",
       "      <td>2012-05-10</td>\n",
       "      <td>733455.07</td>\n",
       "      <td>False</td>\n",
       "      <td>64.89</td>\n",
       "      <td>3.985</td>\n",
       "      <td>8.667</td>\n",
       "    </tr>\n",
       "    <tr>\n",
       "      <th>6432</th>\n",
       "      <td>45</td>\n",
       "      <td>2012-12-10</td>\n",
       "      <td>734464.36</td>\n",
       "      <td>False</td>\n",
       "      <td>54.47</td>\n",
       "      <td>4.000</td>\n",
       "      <td>8.667</td>\n",
       "    </tr>\n",
       "    <tr>\n",
       "      <th>6433</th>\n",
       "      <td>45</td>\n",
       "      <td>2012-10-19</td>\n",
       "      <td>718125.53</td>\n",
       "      <td>False</td>\n",
       "      <td>56.47</td>\n",
       "      <td>3.969</td>\n",
       "      <td>8.667</td>\n",
       "    </tr>\n",
       "    <tr>\n",
       "      <th>6434</th>\n",
       "      <td>45</td>\n",
       "      <td>2012-10-26</td>\n",
       "      <td>760281.43</td>\n",
       "      <td>False</td>\n",
       "      <td>58.85</td>\n",
       "      <td>3.882</td>\n",
       "      <td>8.667</td>\n",
       "    </tr>\n",
       "  </tbody>\n",
       "</table>\n",
       "<p>6435 rows × 7 columns</p>\n",
       "</div>"
      ],
      "text/plain": [
       "     Store       Date  Weekly_Sales  Holiday_Flag  Temperature  Fuel_Price  \\\n",
       "0        1 2010-05-02    1643690.90         False        42.31       2.572   \n",
       "1        1 2010-12-02    1641957.44          True        38.51       2.548   \n",
       "2        1 2010-02-19    1611968.17         False        39.93       2.514   \n",
       "3        1 2010-02-26    1409727.59         False        46.63       2.561   \n",
       "4        1 2010-05-03    1554806.68         False        46.50       2.625   \n",
       "...    ...        ...           ...           ...          ...         ...   \n",
       "6430    45 2012-09-28     713173.95         False        64.88       3.997   \n",
       "6431    45 2012-05-10     733455.07         False        64.89       3.985   \n",
       "6432    45 2012-12-10     734464.36         False        54.47       4.000   \n",
       "6433    45 2012-10-19     718125.53         False        56.47       3.969   \n",
       "6434    45 2012-10-26     760281.43         False        58.85       3.882   \n",
       "\n",
       "      Unemployment  \n",
       "0            8.106  \n",
       "1            8.106  \n",
       "2            8.106  \n",
       "3            8.106  \n",
       "4            8.106  \n",
       "...            ...  \n",
       "6430         8.684  \n",
       "6431         8.667  \n",
       "6432         8.667  \n",
       "6433         8.667  \n",
       "6434         8.667  \n",
       "\n",
       "[6435 rows x 7 columns]"
      ]
     },
     "execution_count": 77,
     "metadata": {},
     "output_type": "execute_result"
    }
   ],
   "source": [
    "del df_aux['CPI']\n",
    "df_aux"
   ]
  },
  {
   "cell_type": "markdown",
   "id": "8a88964b",
   "metadata": {},
   "source": [
    "- Já para excluir linhas devemos utilizar o drop"
   ]
  },
  {
   "cell_type": "code",
   "execution_count": 78,
   "id": "2499e4d4",
   "metadata": {},
   "outputs": [
    {
     "data": {
      "application/vnd.microsoft.datawrangler.viewer.v0+json": {
       "columns": [
        {
         "name": "index",
         "rawType": "int64",
         "type": "integer"
        },
        {
         "name": "Store",
         "rawType": "category",
         "type": "unknown"
        },
        {
         "name": "Date",
         "rawType": "datetime64[ns]",
         "type": "datetime"
        },
        {
         "name": "Weekly_Sales",
         "rawType": "float64",
         "type": "float"
        },
        {
         "name": "Holiday_Flag",
         "rawType": "bool",
         "type": "boolean"
        },
        {
         "name": "Temperature",
         "rawType": "float64",
         "type": "float"
        },
        {
         "name": "Fuel_Price",
         "rawType": "float64",
         "type": "float"
        },
        {
         "name": "Unemployment",
         "rawType": "float64",
         "type": "float"
        }
       ],
       "ref": "7bb2f743-2617-47eb-8cf4-8914f5edde43",
       "rows": [
        [
         "1",
         "1",
         "2010-12-02 00:00:00",
         "1641957.44",
         "True",
         "38.51",
         "2.548",
         "8.106"
        ],
        [
         "2",
         "1",
         "2010-02-19 00:00:00",
         "1611968.17",
         "False",
         "39.93",
         "2.514",
         "8.106"
        ],
        [
         "3",
         "1",
         "2010-02-26 00:00:00",
         "1409727.59",
         "False",
         "46.63",
         "2.561",
         "8.106"
        ],
        [
         "4",
         "1",
         "2010-05-03 00:00:00",
         "1554806.68",
         "False",
         "46.5",
         "2.625",
         "8.106"
        ],
        [
         "5",
         "1",
         "2010-12-03 00:00:00",
         "1439541.59",
         "False",
         "57.79",
         "2.667",
         "8.106"
        ],
        [
         "6",
         "1",
         "2010-03-19 00:00:00",
         "1472515.79",
         "False",
         "54.58",
         "2.72",
         "8.106"
        ],
        [
         "7",
         "1",
         "2010-03-26 00:00:00",
         "1404429.92",
         "False",
         "51.45",
         "2.732",
         "8.106"
        ],
        [
         "8",
         "1",
         "2010-02-04 00:00:00",
         "1594968.28",
         "False",
         "62.27",
         "2.719",
         "7.808"
        ],
        [
         "9",
         "1",
         "2010-09-04 00:00:00",
         "1545418.53",
         "False",
         "65.86",
         "2.77",
         "7.808"
        ],
        [
         "10",
         "1",
         "2010-04-16 00:00:00",
         "1466058.28",
         "False",
         "66.32",
         "2.808",
         "7.808"
        ],
        [
         "11",
         "1",
         "2010-04-23 00:00:00",
         "1391256.12",
         "False",
         "64.84",
         "2.795",
         "7.808"
        ],
        [
         "12",
         "1",
         "2010-04-30 00:00:00",
         "1425100.71",
         "False",
         "67.41",
         "2.78",
         "7.808"
        ],
        [
         "13",
         "1",
         "2010-07-05 00:00:00",
         "1603955.12",
         "False",
         "72.55",
         "2.835",
         "7.808"
        ],
        [
         "14",
         "1",
         "2010-05-14 00:00:00",
         "1494251.5",
         "False",
         "74.78",
         "2.854",
         "7.808"
        ],
        [
         "15",
         "1",
         "2010-05-21 00:00:00",
         "1399662.07",
         "False",
         "76.44",
         "2.826",
         "7.808"
        ],
        [
         "16",
         "1",
         "2010-05-28 00:00:00",
         "1432069.95",
         "False",
         "80.44",
         "2.759",
         "7.808"
        ],
        [
         "17",
         "1",
         "2010-04-06 00:00:00",
         "1615524.71",
         "False",
         "80.69",
         "2.705",
         "7.808"
        ],
        [
         "18",
         "1",
         "2010-11-06 00:00:00",
         "1542561.09",
         "False",
         "80.43",
         "2.668",
         "7.808"
        ],
        [
         "19",
         "1",
         "2010-06-18 00:00:00",
         "1503284.06",
         "False",
         "84.11",
         "2.637",
         "7.808"
        ],
        [
         "20",
         "1",
         "2010-06-25 00:00:00",
         "1422711.6",
         "False",
         "84.34",
         "2.653",
         "7.808"
        ],
        [
         "21",
         "1",
         "2010-02-07 00:00:00",
         "1492418.14",
         "False",
         "80.91",
         "2.669",
         "7.787"
        ],
        [
         "22",
         "1",
         "2010-09-07 00:00:00",
         "1546074.18",
         "False",
         "80.48",
         "2.642",
         "7.787"
        ],
        [
         "23",
         "1",
         "2010-07-16 00:00:00",
         "1448938.92",
         "False",
         "83.15",
         "2.623",
         "7.787"
        ],
        [
         "24",
         "1",
         "2010-07-23 00:00:00",
         "1385065.2",
         "False",
         "83.36",
         "2.608",
         "7.787"
        ],
        [
         "25",
         "1",
         "2010-07-30 00:00:00",
         "1371986.6",
         "False",
         "81.84",
         "2.64",
         "7.787"
        ],
        [
         "26",
         "1",
         "2010-06-08 00:00:00",
         "1605491.78",
         "False",
         "87.16",
         "2.627",
         "7.787"
        ],
        [
         "27",
         "1",
         "2010-08-13 00:00:00",
         "1508237.76",
         "False",
         "87.0",
         "2.692",
         "7.787"
        ],
        [
         "28",
         "1",
         "2010-08-20 00:00:00",
         "1513080.49",
         "False",
         "86.65",
         "2.664",
         "7.787"
        ],
        [
         "29",
         "1",
         "2010-08-27 00:00:00",
         "1449142.92",
         "False",
         "85.22",
         "2.619",
         "7.787"
        ],
        [
         "30",
         "1",
         "2010-03-09 00:00:00",
         "1540163.53",
         "False",
         "81.21",
         "2.577",
         "7.787"
        ],
        [
         "31",
         "1",
         "2010-10-09 00:00:00",
         "1507460.69",
         "True",
         "78.69",
         "2.565",
         "7.787"
        ],
        [
         "32",
         "1",
         "2010-09-17 00:00:00",
         "1430378.67",
         "False",
         "82.11",
         "2.582",
         "7.787"
        ],
        [
         "33",
         "1",
         "2010-09-24 00:00:00",
         "1351791.03",
         "False",
         "80.94",
         "2.624",
         "7.787"
        ],
        [
         "34",
         "1",
         "2010-01-10 00:00:00",
         "1453329.5",
         "False",
         "71.89",
         "2.603",
         "7.838"
        ],
        [
         "35",
         "1",
         "2010-08-10 00:00:00",
         "1508239.93",
         "False",
         "63.93",
         "2.633",
         "7.838"
        ],
        [
         "36",
         "1",
         "2010-10-15 00:00:00",
         "1459409.1",
         "False",
         "67.18",
         "2.72",
         "7.838"
        ],
        [
         "37",
         "1",
         "2010-10-22 00:00:00",
         "1345454.0",
         "False",
         "69.86",
         "2.725",
         "7.838"
        ],
        [
         "38",
         "1",
         "2010-10-29 00:00:00",
         "1384209.22",
         "False",
         "69.64",
         "2.716",
         "7.838"
        ],
        [
         "39",
         "1",
         "2010-05-11 00:00:00",
         "1551659.28",
         "False",
         "58.74",
         "2.689",
         "7.838"
        ],
        [
         "40",
         "1",
         "2010-12-11 00:00:00",
         "1494479.49",
         "False",
         "59.61",
         "2.728",
         "7.838"
        ],
        [
         "41",
         "1",
         "2010-11-19 00:00:00",
         "1483784.18",
         "False",
         "51.41",
         "2.771",
         "7.838"
        ],
        [
         "42",
         "1",
         "2010-11-26 00:00:00",
         "1955624.11",
         "True",
         "64.52",
         "2.735",
         "7.838"
        ],
        [
         "43",
         "1",
         "2010-03-12 00:00:00",
         "1548033.78",
         "False",
         "49.27",
         "2.708",
         "7.838"
        ],
        [
         "44",
         "1",
         "2010-10-12 00:00:00",
         "1682614.26",
         "False",
         "46.33",
         "2.843",
         "7.838"
        ],
        [
         "45",
         "1",
         "2010-12-17 00:00:00",
         "1891034.93",
         "False",
         "49.84",
         "2.869",
         "7.838"
        ],
        [
         "46",
         "1",
         "2010-12-24 00:00:00",
         "2387950.2",
         "False",
         "52.33",
         "2.886",
         "7.838"
        ],
        [
         "47",
         "1",
         "2010-12-31 00:00:00",
         "1367320.01",
         "True",
         "48.43",
         "2.943",
         "7.838"
        ],
        [
         "48",
         "1",
         "2011-07-01 00:00:00",
         "1444732.28",
         "False",
         "48.27",
         "2.976",
         "7.742"
        ],
        [
         "49",
         "1",
         "2011-01-14 00:00:00",
         "1391013.96",
         "False",
         "35.4",
         "2.983",
         "7.742"
        ],
        [
         "50",
         "1",
         "2011-01-21 00:00:00",
         "1327405.42",
         "False",
         "44.04",
         "3.016",
         "7.742"
        ]
       ],
       "shape": {
        "columns": 7,
        "rows": 6434
       }
      },
      "text/html": [
       "<div>\n",
       "<style scoped>\n",
       "    .dataframe tbody tr th:only-of-type {\n",
       "        vertical-align: middle;\n",
       "    }\n",
       "\n",
       "    .dataframe tbody tr th {\n",
       "        vertical-align: top;\n",
       "    }\n",
       "\n",
       "    .dataframe thead th {\n",
       "        text-align: right;\n",
       "    }\n",
       "</style>\n",
       "<table border=\"1\" class=\"dataframe\">\n",
       "  <thead>\n",
       "    <tr style=\"text-align: right;\">\n",
       "      <th></th>\n",
       "      <th>Store</th>\n",
       "      <th>Date</th>\n",
       "      <th>Weekly_Sales</th>\n",
       "      <th>Holiday_Flag</th>\n",
       "      <th>Temperature</th>\n",
       "      <th>Fuel_Price</th>\n",
       "      <th>Unemployment</th>\n",
       "    </tr>\n",
       "  </thead>\n",
       "  <tbody>\n",
       "    <tr>\n",
       "      <th>1</th>\n",
       "      <td>1</td>\n",
       "      <td>2010-12-02</td>\n",
       "      <td>1641957.44</td>\n",
       "      <td>True</td>\n",
       "      <td>38.51</td>\n",
       "      <td>2.548</td>\n",
       "      <td>8.106</td>\n",
       "    </tr>\n",
       "    <tr>\n",
       "      <th>2</th>\n",
       "      <td>1</td>\n",
       "      <td>2010-02-19</td>\n",
       "      <td>1611968.17</td>\n",
       "      <td>False</td>\n",
       "      <td>39.93</td>\n",
       "      <td>2.514</td>\n",
       "      <td>8.106</td>\n",
       "    </tr>\n",
       "    <tr>\n",
       "      <th>3</th>\n",
       "      <td>1</td>\n",
       "      <td>2010-02-26</td>\n",
       "      <td>1409727.59</td>\n",
       "      <td>False</td>\n",
       "      <td>46.63</td>\n",
       "      <td>2.561</td>\n",
       "      <td>8.106</td>\n",
       "    </tr>\n",
       "    <tr>\n",
       "      <th>4</th>\n",
       "      <td>1</td>\n",
       "      <td>2010-05-03</td>\n",
       "      <td>1554806.68</td>\n",
       "      <td>False</td>\n",
       "      <td>46.50</td>\n",
       "      <td>2.625</td>\n",
       "      <td>8.106</td>\n",
       "    </tr>\n",
       "    <tr>\n",
       "      <th>5</th>\n",
       "      <td>1</td>\n",
       "      <td>2010-12-03</td>\n",
       "      <td>1439541.59</td>\n",
       "      <td>False</td>\n",
       "      <td>57.79</td>\n",
       "      <td>2.667</td>\n",
       "      <td>8.106</td>\n",
       "    </tr>\n",
       "    <tr>\n",
       "      <th>...</th>\n",
       "      <td>...</td>\n",
       "      <td>...</td>\n",
       "      <td>...</td>\n",
       "      <td>...</td>\n",
       "      <td>...</td>\n",
       "      <td>...</td>\n",
       "      <td>...</td>\n",
       "    </tr>\n",
       "    <tr>\n",
       "      <th>6430</th>\n",
       "      <td>45</td>\n",
       "      <td>2012-09-28</td>\n",
       "      <td>713173.95</td>\n",
       "      <td>False</td>\n",
       "      <td>64.88</td>\n",
       "      <td>3.997</td>\n",
       "      <td>8.684</td>\n",
       "    </tr>\n",
       "    <tr>\n",
       "      <th>6431</th>\n",
       "      <td>45</td>\n",
       "      <td>2012-05-10</td>\n",
       "      <td>733455.07</td>\n",
       "      <td>False</td>\n",
       "      <td>64.89</td>\n",
       "      <td>3.985</td>\n",
       "      <td>8.667</td>\n",
       "    </tr>\n",
       "    <tr>\n",
       "      <th>6432</th>\n",
       "      <td>45</td>\n",
       "      <td>2012-12-10</td>\n",
       "      <td>734464.36</td>\n",
       "      <td>False</td>\n",
       "      <td>54.47</td>\n",
       "      <td>4.000</td>\n",
       "      <td>8.667</td>\n",
       "    </tr>\n",
       "    <tr>\n",
       "      <th>6433</th>\n",
       "      <td>45</td>\n",
       "      <td>2012-10-19</td>\n",
       "      <td>718125.53</td>\n",
       "      <td>False</td>\n",
       "      <td>56.47</td>\n",
       "      <td>3.969</td>\n",
       "      <td>8.667</td>\n",
       "    </tr>\n",
       "    <tr>\n",
       "      <th>6434</th>\n",
       "      <td>45</td>\n",
       "      <td>2012-10-26</td>\n",
       "      <td>760281.43</td>\n",
       "      <td>False</td>\n",
       "      <td>58.85</td>\n",
       "      <td>3.882</td>\n",
       "      <td>8.667</td>\n",
       "    </tr>\n",
       "  </tbody>\n",
       "</table>\n",
       "<p>6434 rows × 7 columns</p>\n",
       "</div>"
      ],
      "text/plain": [
       "     Store       Date  Weekly_Sales  Holiday_Flag  Temperature  Fuel_Price  \\\n",
       "1        1 2010-12-02    1641957.44          True        38.51       2.548   \n",
       "2        1 2010-02-19    1611968.17         False        39.93       2.514   \n",
       "3        1 2010-02-26    1409727.59         False        46.63       2.561   \n",
       "4        1 2010-05-03    1554806.68         False        46.50       2.625   \n",
       "5        1 2010-12-03    1439541.59         False        57.79       2.667   \n",
       "...    ...        ...           ...           ...          ...         ...   \n",
       "6430    45 2012-09-28     713173.95         False        64.88       3.997   \n",
       "6431    45 2012-05-10     733455.07         False        64.89       3.985   \n",
       "6432    45 2012-12-10     734464.36         False        54.47       4.000   \n",
       "6433    45 2012-10-19     718125.53         False        56.47       3.969   \n",
       "6434    45 2012-10-26     760281.43         False        58.85       3.882   \n",
       "\n",
       "      Unemployment  \n",
       "1            8.106  \n",
       "2            8.106  \n",
       "3            8.106  \n",
       "4            8.106  \n",
       "5            8.106  \n",
       "...            ...  \n",
       "6430         8.684  \n",
       "6431         8.667  \n",
       "6432         8.667  \n",
       "6433         8.667  \n",
       "6434         8.667  \n",
       "\n",
       "[6434 rows x 7 columns]"
      ]
     },
     "execution_count": 78,
     "metadata": {},
     "output_type": "execute_result"
    }
   ],
   "source": [
    "df_aux.drop(0)"
   ]
  },
  {
   "cell_type": "code",
   "execution_count": 79,
   "id": "c86eed4e",
   "metadata": {},
   "outputs": [
    {
     "data": {
      "application/vnd.microsoft.datawrangler.viewer.v0+json": {
       "columns": [
        {
         "name": "index",
         "rawType": "int64",
         "type": "integer"
        },
        {
         "name": "Store",
         "rawType": "category",
         "type": "unknown"
        },
        {
         "name": "Date",
         "rawType": "datetime64[ns]",
         "type": "datetime"
        },
        {
         "name": "Weekly_Sales",
         "rawType": "float64",
         "type": "float"
        },
        {
         "name": "Holiday_Flag",
         "rawType": "bool",
         "type": "boolean"
        },
        {
         "name": "Temperature",
         "rawType": "float64",
         "type": "float"
        },
        {
         "name": "Fuel_Price",
         "rawType": "float64",
         "type": "float"
        },
        {
         "name": "Unemployment",
         "rawType": "float64",
         "type": "float"
        }
       ],
       "ref": "8074351e-4867-4b65-9743-475906e18242",
       "rows": [
        [
         "0",
         "1",
         "2010-05-02 00:00:00",
         "1643690.9",
         "False",
         "42.31",
         "2.572",
         "8.106"
        ],
        [
         "1",
         "1",
         "2010-12-02 00:00:00",
         "1641957.44",
         "True",
         "38.51",
         "2.548",
         "8.106"
        ],
        [
         "2",
         "1",
         "2010-02-19 00:00:00",
         "1611968.17",
         "False",
         "39.93",
         "2.514",
         "8.106"
        ],
        [
         "3",
         "1",
         "2010-02-26 00:00:00",
         "1409727.59",
         "False",
         "46.63",
         "2.561",
         "8.106"
        ],
        [
         "4",
         "1",
         "2010-05-03 00:00:00",
         "1554806.68",
         "False",
         "46.5",
         "2.625",
         "8.106"
        ],
        [
         "5",
         "1",
         "2010-12-03 00:00:00",
         "1439541.59",
         "False",
         "57.79",
         "2.667",
         "8.106"
        ],
        [
         "6",
         "1",
         "2010-03-19 00:00:00",
         "1472515.79",
         "False",
         "54.58",
         "2.72",
         "8.106"
        ],
        [
         "7",
         "1",
         "2010-03-26 00:00:00",
         "1404429.92",
         "False",
         "51.45",
         "2.732",
         "8.106"
        ],
        [
         "8",
         "1",
         "2010-02-04 00:00:00",
         "1594968.28",
         "False",
         "62.27",
         "2.719",
         "7.808"
        ],
        [
         "9",
         "1",
         "2010-09-04 00:00:00",
         "1545418.53",
         "False",
         "65.86",
         "2.77",
         "7.808"
        ],
        [
         "10",
         "1",
         "2010-04-16 00:00:00",
         "1466058.28",
         "False",
         "66.32",
         "2.808",
         "7.808"
        ],
        [
         "11",
         "1",
         "2010-04-23 00:00:00",
         "1391256.12",
         "False",
         "64.84",
         "2.795",
         "7.808"
        ],
        [
         "12",
         "1",
         "2010-04-30 00:00:00",
         "1425100.71",
         "False",
         "67.41",
         "2.78",
         "7.808"
        ],
        [
         "13",
         "1",
         "2010-07-05 00:00:00",
         "1603955.12",
         "False",
         "72.55",
         "2.835",
         "7.808"
        ],
        [
         "14",
         "1",
         "2010-05-14 00:00:00",
         "1494251.5",
         "False",
         "74.78",
         "2.854",
         "7.808"
        ],
        [
         "15",
         "1",
         "2010-05-21 00:00:00",
         "1399662.07",
         "False",
         "76.44",
         "2.826",
         "7.808"
        ],
        [
         "16",
         "1",
         "2010-05-28 00:00:00",
         "1432069.95",
         "False",
         "80.44",
         "2.759",
         "7.808"
        ],
        [
         "17",
         "1",
         "2010-04-06 00:00:00",
         "1615524.71",
         "False",
         "80.69",
         "2.705",
         "7.808"
        ],
        [
         "18",
         "1",
         "2010-11-06 00:00:00",
         "1542561.09",
         "False",
         "80.43",
         "2.668",
         "7.808"
        ],
        [
         "19",
         "1",
         "2010-06-18 00:00:00",
         "1503284.06",
         "False",
         "84.11",
         "2.637",
         "7.808"
        ],
        [
         "20",
         "1",
         "2010-06-25 00:00:00",
         "1422711.6",
         "False",
         "84.34",
         "2.653",
         "7.808"
        ],
        [
         "21",
         "1",
         "2010-02-07 00:00:00",
         "1492418.14",
         "False",
         "80.91",
         "2.669",
         "7.787"
        ],
        [
         "22",
         "1",
         "2010-09-07 00:00:00",
         "1546074.18",
         "False",
         "80.48",
         "2.642",
         "7.787"
        ],
        [
         "23",
         "1",
         "2010-07-16 00:00:00",
         "1448938.92",
         "False",
         "83.15",
         "2.623",
         "7.787"
        ],
        [
         "24",
         "1",
         "2010-07-23 00:00:00",
         "1385065.2",
         "False",
         "83.36",
         "2.608",
         "7.787"
        ],
        [
         "25",
         "1",
         "2010-07-30 00:00:00",
         "1371986.6",
         "False",
         "81.84",
         "2.64",
         "7.787"
        ],
        [
         "26",
         "1",
         "2010-06-08 00:00:00",
         "1605491.78",
         "False",
         "87.16",
         "2.627",
         "7.787"
        ],
        [
         "27",
         "1",
         "2010-08-13 00:00:00",
         "1508237.76",
         "False",
         "87.0",
         "2.692",
         "7.787"
        ],
        [
         "28",
         "1",
         "2010-08-20 00:00:00",
         "1513080.49",
         "False",
         "86.65",
         "2.664",
         "7.787"
        ],
        [
         "29",
         "1",
         "2010-08-27 00:00:00",
         "1449142.92",
         "False",
         "85.22",
         "2.619",
         "7.787"
        ],
        [
         "30",
         "1",
         "2010-03-09 00:00:00",
         "1540163.53",
         "False",
         "81.21",
         "2.577",
         "7.787"
        ],
        [
         "31",
         "1",
         "2010-10-09 00:00:00",
         "1507460.69",
         "True",
         "78.69",
         "2.565",
         "7.787"
        ],
        [
         "32",
         "1",
         "2010-09-17 00:00:00",
         "1430378.67",
         "False",
         "82.11",
         "2.582",
         "7.787"
        ],
        [
         "33",
         "1",
         "2010-09-24 00:00:00",
         "1351791.03",
         "False",
         "80.94",
         "2.624",
         "7.787"
        ],
        [
         "34",
         "1",
         "2010-01-10 00:00:00",
         "1453329.5",
         "False",
         "71.89",
         "2.603",
         "7.838"
        ],
        [
         "35",
         "1",
         "2010-08-10 00:00:00",
         "1508239.93",
         "False",
         "63.93",
         "2.633",
         "7.838"
        ],
        [
         "36",
         "1",
         "2010-10-15 00:00:00",
         "1459409.1",
         "False",
         "67.18",
         "2.72",
         "7.838"
        ],
        [
         "37",
         "1",
         "2010-10-22 00:00:00",
         "1345454.0",
         "False",
         "69.86",
         "2.725",
         "7.838"
        ],
        [
         "38",
         "1",
         "2010-10-29 00:00:00",
         "1384209.22",
         "False",
         "69.64",
         "2.716",
         "7.838"
        ],
        [
         "39",
         "1",
         "2010-05-11 00:00:00",
         "1551659.28",
         "False",
         "58.74",
         "2.689",
         "7.838"
        ],
        [
         "40",
         "1",
         "2010-12-11 00:00:00",
         "1494479.49",
         "False",
         "59.61",
         "2.728",
         "7.838"
        ],
        [
         "41",
         "1",
         "2010-11-19 00:00:00",
         "1483784.18",
         "False",
         "51.41",
         "2.771",
         "7.838"
        ],
        [
         "42",
         "1",
         "2010-11-26 00:00:00",
         "1955624.11",
         "True",
         "64.52",
         "2.735",
         "7.838"
        ],
        [
         "43",
         "1",
         "2010-03-12 00:00:00",
         "1548033.78",
         "False",
         "49.27",
         "2.708",
         "7.838"
        ],
        [
         "44",
         "1",
         "2010-10-12 00:00:00",
         "1682614.26",
         "False",
         "46.33",
         "2.843",
         "7.838"
        ],
        [
         "45",
         "1",
         "2010-12-17 00:00:00",
         "1891034.93",
         "False",
         "49.84",
         "2.869",
         "7.838"
        ],
        [
         "46",
         "1",
         "2010-12-24 00:00:00",
         "2387950.2",
         "False",
         "52.33",
         "2.886",
         "7.838"
        ],
        [
         "47",
         "1",
         "2010-12-31 00:00:00",
         "1367320.01",
         "True",
         "48.43",
         "2.943",
         "7.838"
        ],
        [
         "48",
         "1",
         "2011-07-01 00:00:00",
         "1444732.28",
         "False",
         "48.27",
         "2.976",
         "7.742"
        ],
        [
         "49",
         "1",
         "2011-01-14 00:00:00",
         "1391013.96",
         "False",
         "35.4",
         "2.983",
         "7.742"
        ]
       ],
       "shape": {
        "columns": 7,
        "rows": 6433
       }
      },
      "text/html": [
       "<div>\n",
       "<style scoped>\n",
       "    .dataframe tbody tr th:only-of-type {\n",
       "        vertical-align: middle;\n",
       "    }\n",
       "\n",
       "    .dataframe tbody tr th {\n",
       "        vertical-align: top;\n",
       "    }\n",
       "\n",
       "    .dataframe thead th {\n",
       "        text-align: right;\n",
       "    }\n",
       "</style>\n",
       "<table border=\"1\" class=\"dataframe\">\n",
       "  <thead>\n",
       "    <tr style=\"text-align: right;\">\n",
       "      <th></th>\n",
       "      <th>Store</th>\n",
       "      <th>Date</th>\n",
       "      <th>Weekly_Sales</th>\n",
       "      <th>Holiday_Flag</th>\n",
       "      <th>Temperature</th>\n",
       "      <th>Fuel_Price</th>\n",
       "      <th>Unemployment</th>\n",
       "    </tr>\n",
       "  </thead>\n",
       "  <tbody>\n",
       "    <tr>\n",
       "      <th>0</th>\n",
       "      <td>1</td>\n",
       "      <td>2010-05-02</td>\n",
       "      <td>1643690.90</td>\n",
       "      <td>False</td>\n",
       "      <td>42.31</td>\n",
       "      <td>2.572</td>\n",
       "      <td>8.106</td>\n",
       "    </tr>\n",
       "    <tr>\n",
       "      <th>1</th>\n",
       "      <td>1</td>\n",
       "      <td>2010-12-02</td>\n",
       "      <td>1641957.44</td>\n",
       "      <td>True</td>\n",
       "      <td>38.51</td>\n",
       "      <td>2.548</td>\n",
       "      <td>8.106</td>\n",
       "    </tr>\n",
       "    <tr>\n",
       "      <th>2</th>\n",
       "      <td>1</td>\n",
       "      <td>2010-02-19</td>\n",
       "      <td>1611968.17</td>\n",
       "      <td>False</td>\n",
       "      <td>39.93</td>\n",
       "      <td>2.514</td>\n",
       "      <td>8.106</td>\n",
       "    </tr>\n",
       "    <tr>\n",
       "      <th>3</th>\n",
       "      <td>1</td>\n",
       "      <td>2010-02-26</td>\n",
       "      <td>1409727.59</td>\n",
       "      <td>False</td>\n",
       "      <td>46.63</td>\n",
       "      <td>2.561</td>\n",
       "      <td>8.106</td>\n",
       "    </tr>\n",
       "    <tr>\n",
       "      <th>4</th>\n",
       "      <td>1</td>\n",
       "      <td>2010-05-03</td>\n",
       "      <td>1554806.68</td>\n",
       "      <td>False</td>\n",
       "      <td>46.50</td>\n",
       "      <td>2.625</td>\n",
       "      <td>8.106</td>\n",
       "    </tr>\n",
       "    <tr>\n",
       "      <th>...</th>\n",
       "      <td>...</td>\n",
       "      <td>...</td>\n",
       "      <td>...</td>\n",
       "      <td>...</td>\n",
       "      <td>...</td>\n",
       "      <td>...</td>\n",
       "      <td>...</td>\n",
       "    </tr>\n",
       "    <tr>\n",
       "      <th>6428</th>\n",
       "      <td>45</td>\n",
       "      <td>2012-09-14</td>\n",
       "      <td>702238.27</td>\n",
       "      <td>False</td>\n",
       "      <td>67.87</td>\n",
       "      <td>3.948</td>\n",
       "      <td>8.684</td>\n",
       "    </tr>\n",
       "    <tr>\n",
       "      <th>6429</th>\n",
       "      <td>45</td>\n",
       "      <td>2012-09-21</td>\n",
       "      <td>723086.20</td>\n",
       "      <td>False</td>\n",
       "      <td>65.32</td>\n",
       "      <td>4.038</td>\n",
       "      <td>8.684</td>\n",
       "    </tr>\n",
       "    <tr>\n",
       "      <th>6430</th>\n",
       "      <td>45</td>\n",
       "      <td>2012-09-28</td>\n",
       "      <td>713173.95</td>\n",
       "      <td>False</td>\n",
       "      <td>64.88</td>\n",
       "      <td>3.997</td>\n",
       "      <td>8.684</td>\n",
       "    </tr>\n",
       "    <tr>\n",
       "      <th>6432</th>\n",
       "      <td>45</td>\n",
       "      <td>2012-12-10</td>\n",
       "      <td>734464.36</td>\n",
       "      <td>False</td>\n",
       "      <td>54.47</td>\n",
       "      <td>4.000</td>\n",
       "      <td>8.667</td>\n",
       "    </tr>\n",
       "    <tr>\n",
       "      <th>6434</th>\n",
       "      <td>45</td>\n",
       "      <td>2012-10-26</td>\n",
       "      <td>760281.43</td>\n",
       "      <td>False</td>\n",
       "      <td>58.85</td>\n",
       "      <td>3.882</td>\n",
       "      <td>8.667</td>\n",
       "    </tr>\n",
       "  </tbody>\n",
       "</table>\n",
       "<p>6433 rows × 7 columns</p>\n",
       "</div>"
      ],
      "text/plain": [
       "     Store       Date  Weekly_Sales  Holiday_Flag  Temperature  Fuel_Price  \\\n",
       "0        1 2010-05-02    1643690.90         False        42.31       2.572   \n",
       "1        1 2010-12-02    1641957.44          True        38.51       2.548   \n",
       "2        1 2010-02-19    1611968.17         False        39.93       2.514   \n",
       "3        1 2010-02-26    1409727.59         False        46.63       2.561   \n",
       "4        1 2010-05-03    1554806.68         False        46.50       2.625   \n",
       "...    ...        ...           ...           ...          ...         ...   \n",
       "6428    45 2012-09-14     702238.27         False        67.87       3.948   \n",
       "6429    45 2012-09-21     723086.20         False        65.32       4.038   \n",
       "6430    45 2012-09-28     713173.95         False        64.88       3.997   \n",
       "6432    45 2012-12-10     734464.36         False        54.47       4.000   \n",
       "6434    45 2012-10-26     760281.43         False        58.85       3.882   \n",
       "\n",
       "      Unemployment  \n",
       "0            8.106  \n",
       "1            8.106  \n",
       "2            8.106  \n",
       "3            8.106  \n",
       "4            8.106  \n",
       "...            ...  \n",
       "6428         8.684  \n",
       "6429         8.684  \n",
       "6430         8.684  \n",
       "6432         8.667  \n",
       "6434         8.667  \n",
       "\n",
       "[6433 rows x 7 columns]"
      ]
     },
     "execution_count": 79,
     "metadata": {},
     "output_type": "execute_result"
    }
   ],
   "source": [
    "df_aux.drop([6431,6433])"
   ]
  },
  {
   "cell_type": "markdown",
   "id": "f324bc5c",
   "metadata": {},
   "source": [
    "- Perceba que drop retorna um novo objeto removendo o que foi passado por paramentro. Mas o objeto original não é modificado"
   ]
  },
  {
   "cell_type": "code",
   "execution_count": 80,
   "id": "f97d5f23",
   "metadata": {},
   "outputs": [
    {
     "data": {
      "application/vnd.microsoft.datawrangler.viewer.v0+json": {
       "columns": [
        {
         "name": "index",
         "rawType": "int64",
         "type": "integer"
        },
        {
         "name": "Store",
         "rawType": "category",
         "type": "unknown"
        },
        {
         "name": "Date",
         "rawType": "datetime64[ns]",
         "type": "datetime"
        },
        {
         "name": "Weekly_Sales",
         "rawType": "float64",
         "type": "float"
        },
        {
         "name": "Holiday_Flag",
         "rawType": "bool",
         "type": "boolean"
        },
        {
         "name": "Temperature",
         "rawType": "float64",
         "type": "float"
        },
        {
         "name": "Fuel_Price",
         "rawType": "float64",
         "type": "float"
        },
        {
         "name": "Unemployment",
         "rawType": "float64",
         "type": "float"
        }
       ],
       "ref": "4ba78d6a-63eb-45fc-ab38-c1a4299307f4",
       "rows": [
        [
         "0",
         "1",
         "2010-05-02 00:00:00",
         "1643690.9",
         "False",
         "42.31",
         "2.572",
         "8.106"
        ],
        [
         "1",
         "1",
         "2010-12-02 00:00:00",
         "1641957.44",
         "True",
         "38.51",
         "2.548",
         "8.106"
        ],
        [
         "2",
         "1",
         "2010-02-19 00:00:00",
         "1611968.17",
         "False",
         "39.93",
         "2.514",
         "8.106"
        ],
        [
         "3",
         "1",
         "2010-02-26 00:00:00",
         "1409727.59",
         "False",
         "46.63",
         "2.561",
         "8.106"
        ],
        [
         "4",
         "1",
         "2010-05-03 00:00:00",
         "1554806.68",
         "False",
         "46.5",
         "2.625",
         "8.106"
        ],
        [
         "5",
         "1",
         "2010-12-03 00:00:00",
         "1439541.59",
         "False",
         "57.79",
         "2.667",
         "8.106"
        ],
        [
         "6",
         "1",
         "2010-03-19 00:00:00",
         "1472515.79",
         "False",
         "54.58",
         "2.72",
         "8.106"
        ],
        [
         "7",
         "1",
         "2010-03-26 00:00:00",
         "1404429.92",
         "False",
         "51.45",
         "2.732",
         "8.106"
        ],
        [
         "8",
         "1",
         "2010-02-04 00:00:00",
         "1594968.28",
         "False",
         "62.27",
         "2.719",
         "7.808"
        ],
        [
         "9",
         "1",
         "2010-09-04 00:00:00",
         "1545418.53",
         "False",
         "65.86",
         "2.77",
         "7.808"
        ],
        [
         "10",
         "1",
         "2010-04-16 00:00:00",
         "1466058.28",
         "False",
         "66.32",
         "2.808",
         "7.808"
        ],
        [
         "11",
         "1",
         "2010-04-23 00:00:00",
         "1391256.12",
         "False",
         "64.84",
         "2.795",
         "7.808"
        ],
        [
         "12",
         "1",
         "2010-04-30 00:00:00",
         "1425100.71",
         "False",
         "67.41",
         "2.78",
         "7.808"
        ],
        [
         "13",
         "1",
         "2010-07-05 00:00:00",
         "1603955.12",
         "False",
         "72.55",
         "2.835",
         "7.808"
        ],
        [
         "14",
         "1",
         "2010-05-14 00:00:00",
         "1494251.5",
         "False",
         "74.78",
         "2.854",
         "7.808"
        ],
        [
         "15",
         "1",
         "2010-05-21 00:00:00",
         "1399662.07",
         "False",
         "76.44",
         "2.826",
         "7.808"
        ],
        [
         "16",
         "1",
         "2010-05-28 00:00:00",
         "1432069.95",
         "False",
         "80.44",
         "2.759",
         "7.808"
        ],
        [
         "17",
         "1",
         "2010-04-06 00:00:00",
         "1615524.71",
         "False",
         "80.69",
         "2.705",
         "7.808"
        ],
        [
         "18",
         "1",
         "2010-11-06 00:00:00",
         "1542561.09",
         "False",
         "80.43",
         "2.668",
         "7.808"
        ],
        [
         "19",
         "1",
         "2010-06-18 00:00:00",
         "1503284.06",
         "False",
         "84.11",
         "2.637",
         "7.808"
        ],
        [
         "20",
         "1",
         "2010-06-25 00:00:00",
         "1422711.6",
         "False",
         "84.34",
         "2.653",
         "7.808"
        ],
        [
         "21",
         "1",
         "2010-02-07 00:00:00",
         "1492418.14",
         "False",
         "80.91",
         "2.669",
         "7.787"
        ],
        [
         "22",
         "1",
         "2010-09-07 00:00:00",
         "1546074.18",
         "False",
         "80.48",
         "2.642",
         "7.787"
        ],
        [
         "23",
         "1",
         "2010-07-16 00:00:00",
         "1448938.92",
         "False",
         "83.15",
         "2.623",
         "7.787"
        ],
        [
         "24",
         "1",
         "2010-07-23 00:00:00",
         "1385065.2",
         "False",
         "83.36",
         "2.608",
         "7.787"
        ],
        [
         "25",
         "1",
         "2010-07-30 00:00:00",
         "1371986.6",
         "False",
         "81.84",
         "2.64",
         "7.787"
        ],
        [
         "26",
         "1",
         "2010-06-08 00:00:00",
         "1605491.78",
         "False",
         "87.16",
         "2.627",
         "7.787"
        ],
        [
         "27",
         "1",
         "2010-08-13 00:00:00",
         "1508237.76",
         "False",
         "87.0",
         "2.692",
         "7.787"
        ],
        [
         "28",
         "1",
         "2010-08-20 00:00:00",
         "1513080.49",
         "False",
         "86.65",
         "2.664",
         "7.787"
        ],
        [
         "29",
         "1",
         "2010-08-27 00:00:00",
         "1449142.92",
         "False",
         "85.22",
         "2.619",
         "7.787"
        ],
        [
         "30",
         "1",
         "2010-03-09 00:00:00",
         "1540163.53",
         "False",
         "81.21",
         "2.577",
         "7.787"
        ],
        [
         "31",
         "1",
         "2010-10-09 00:00:00",
         "1507460.69",
         "True",
         "78.69",
         "2.565",
         "7.787"
        ],
        [
         "32",
         "1",
         "2010-09-17 00:00:00",
         "1430378.67",
         "False",
         "82.11",
         "2.582",
         "7.787"
        ],
        [
         "33",
         "1",
         "2010-09-24 00:00:00",
         "1351791.03",
         "False",
         "80.94",
         "2.624",
         "7.787"
        ],
        [
         "34",
         "1",
         "2010-01-10 00:00:00",
         "1453329.5",
         "False",
         "71.89",
         "2.603",
         "7.838"
        ],
        [
         "35",
         "1",
         "2010-08-10 00:00:00",
         "1508239.93",
         "False",
         "63.93",
         "2.633",
         "7.838"
        ],
        [
         "36",
         "1",
         "2010-10-15 00:00:00",
         "1459409.1",
         "False",
         "67.18",
         "2.72",
         "7.838"
        ],
        [
         "37",
         "1",
         "2010-10-22 00:00:00",
         "1345454.0",
         "False",
         "69.86",
         "2.725",
         "7.838"
        ],
        [
         "38",
         "1",
         "2010-10-29 00:00:00",
         "1384209.22",
         "False",
         "69.64",
         "2.716",
         "7.838"
        ],
        [
         "39",
         "1",
         "2010-05-11 00:00:00",
         "1551659.28",
         "False",
         "58.74",
         "2.689",
         "7.838"
        ],
        [
         "40",
         "1",
         "2010-12-11 00:00:00",
         "1494479.49",
         "False",
         "59.61",
         "2.728",
         "7.838"
        ],
        [
         "41",
         "1",
         "2010-11-19 00:00:00",
         "1483784.18",
         "False",
         "51.41",
         "2.771",
         "7.838"
        ],
        [
         "42",
         "1",
         "2010-11-26 00:00:00",
         "1955624.11",
         "True",
         "64.52",
         "2.735",
         "7.838"
        ],
        [
         "43",
         "1",
         "2010-03-12 00:00:00",
         "1548033.78",
         "False",
         "49.27",
         "2.708",
         "7.838"
        ],
        [
         "44",
         "1",
         "2010-10-12 00:00:00",
         "1682614.26",
         "False",
         "46.33",
         "2.843",
         "7.838"
        ],
        [
         "45",
         "1",
         "2010-12-17 00:00:00",
         "1891034.93",
         "False",
         "49.84",
         "2.869",
         "7.838"
        ],
        [
         "46",
         "1",
         "2010-12-24 00:00:00",
         "2387950.2",
         "False",
         "52.33",
         "2.886",
         "7.838"
        ],
        [
         "47",
         "1",
         "2010-12-31 00:00:00",
         "1367320.01",
         "True",
         "48.43",
         "2.943",
         "7.838"
        ],
        [
         "48",
         "1",
         "2011-07-01 00:00:00",
         "1444732.28",
         "False",
         "48.27",
         "2.976",
         "7.742"
        ],
        [
         "49",
         "1",
         "2011-01-14 00:00:00",
         "1391013.96",
         "False",
         "35.4",
         "2.983",
         "7.742"
        ]
       ],
       "shape": {
        "columns": 7,
        "rows": 6435
       }
      },
      "text/html": [
       "<div>\n",
       "<style scoped>\n",
       "    .dataframe tbody tr th:only-of-type {\n",
       "        vertical-align: middle;\n",
       "    }\n",
       "\n",
       "    .dataframe tbody tr th {\n",
       "        vertical-align: top;\n",
       "    }\n",
       "\n",
       "    .dataframe thead th {\n",
       "        text-align: right;\n",
       "    }\n",
       "</style>\n",
       "<table border=\"1\" class=\"dataframe\">\n",
       "  <thead>\n",
       "    <tr style=\"text-align: right;\">\n",
       "      <th></th>\n",
       "      <th>Store</th>\n",
       "      <th>Date</th>\n",
       "      <th>Weekly_Sales</th>\n",
       "      <th>Holiday_Flag</th>\n",
       "      <th>Temperature</th>\n",
       "      <th>Fuel_Price</th>\n",
       "      <th>Unemployment</th>\n",
       "    </tr>\n",
       "  </thead>\n",
       "  <tbody>\n",
       "    <tr>\n",
       "      <th>0</th>\n",
       "      <td>1</td>\n",
       "      <td>2010-05-02</td>\n",
       "      <td>1643690.90</td>\n",
       "      <td>False</td>\n",
       "      <td>42.31</td>\n",
       "      <td>2.572</td>\n",
       "      <td>8.106</td>\n",
       "    </tr>\n",
       "    <tr>\n",
       "      <th>1</th>\n",
       "      <td>1</td>\n",
       "      <td>2010-12-02</td>\n",
       "      <td>1641957.44</td>\n",
       "      <td>True</td>\n",
       "      <td>38.51</td>\n",
       "      <td>2.548</td>\n",
       "      <td>8.106</td>\n",
       "    </tr>\n",
       "    <tr>\n",
       "      <th>2</th>\n",
       "      <td>1</td>\n",
       "      <td>2010-02-19</td>\n",
       "      <td>1611968.17</td>\n",
       "      <td>False</td>\n",
       "      <td>39.93</td>\n",
       "      <td>2.514</td>\n",
       "      <td>8.106</td>\n",
       "    </tr>\n",
       "    <tr>\n",
       "      <th>3</th>\n",
       "      <td>1</td>\n",
       "      <td>2010-02-26</td>\n",
       "      <td>1409727.59</td>\n",
       "      <td>False</td>\n",
       "      <td>46.63</td>\n",
       "      <td>2.561</td>\n",
       "      <td>8.106</td>\n",
       "    </tr>\n",
       "    <tr>\n",
       "      <th>4</th>\n",
       "      <td>1</td>\n",
       "      <td>2010-05-03</td>\n",
       "      <td>1554806.68</td>\n",
       "      <td>False</td>\n",
       "      <td>46.50</td>\n",
       "      <td>2.625</td>\n",
       "      <td>8.106</td>\n",
       "    </tr>\n",
       "    <tr>\n",
       "      <th>...</th>\n",
       "      <td>...</td>\n",
       "      <td>...</td>\n",
       "      <td>...</td>\n",
       "      <td>...</td>\n",
       "      <td>...</td>\n",
       "      <td>...</td>\n",
       "      <td>...</td>\n",
       "    </tr>\n",
       "    <tr>\n",
       "      <th>6430</th>\n",
       "      <td>45</td>\n",
       "      <td>2012-09-28</td>\n",
       "      <td>713173.95</td>\n",
       "      <td>False</td>\n",
       "      <td>64.88</td>\n",
       "      <td>3.997</td>\n",
       "      <td>8.684</td>\n",
       "    </tr>\n",
       "    <tr>\n",
       "      <th>6431</th>\n",
       "      <td>45</td>\n",
       "      <td>2012-05-10</td>\n",
       "      <td>733455.07</td>\n",
       "      <td>False</td>\n",
       "      <td>64.89</td>\n",
       "      <td>3.985</td>\n",
       "      <td>8.667</td>\n",
       "    </tr>\n",
       "    <tr>\n",
       "      <th>6432</th>\n",
       "      <td>45</td>\n",
       "      <td>2012-12-10</td>\n",
       "      <td>734464.36</td>\n",
       "      <td>False</td>\n",
       "      <td>54.47</td>\n",
       "      <td>4.000</td>\n",
       "      <td>8.667</td>\n",
       "    </tr>\n",
       "    <tr>\n",
       "      <th>6433</th>\n",
       "      <td>45</td>\n",
       "      <td>2012-10-19</td>\n",
       "      <td>718125.53</td>\n",
       "      <td>False</td>\n",
       "      <td>56.47</td>\n",
       "      <td>3.969</td>\n",
       "      <td>8.667</td>\n",
       "    </tr>\n",
       "    <tr>\n",
       "      <th>6434</th>\n",
       "      <td>45</td>\n",
       "      <td>2012-10-26</td>\n",
       "      <td>760281.43</td>\n",
       "      <td>False</td>\n",
       "      <td>58.85</td>\n",
       "      <td>3.882</td>\n",
       "      <td>8.667</td>\n",
       "    </tr>\n",
       "  </tbody>\n",
       "</table>\n",
       "<p>6435 rows × 7 columns</p>\n",
       "</div>"
      ],
      "text/plain": [
       "     Store       Date  Weekly_Sales  Holiday_Flag  Temperature  Fuel_Price  \\\n",
       "0        1 2010-05-02    1643690.90         False        42.31       2.572   \n",
       "1        1 2010-12-02    1641957.44          True        38.51       2.548   \n",
       "2        1 2010-02-19    1611968.17         False        39.93       2.514   \n",
       "3        1 2010-02-26    1409727.59         False        46.63       2.561   \n",
       "4        1 2010-05-03    1554806.68         False        46.50       2.625   \n",
       "...    ...        ...           ...           ...          ...         ...   \n",
       "6430    45 2012-09-28     713173.95         False        64.88       3.997   \n",
       "6431    45 2012-05-10     733455.07         False        64.89       3.985   \n",
       "6432    45 2012-12-10     734464.36         False        54.47       4.000   \n",
       "6433    45 2012-10-19     718125.53         False        56.47       3.969   \n",
       "6434    45 2012-10-26     760281.43         False        58.85       3.882   \n",
       "\n",
       "      Unemployment  \n",
       "0            8.106  \n",
       "1            8.106  \n",
       "2            8.106  \n",
       "3            8.106  \n",
       "4            8.106  \n",
       "...            ...  \n",
       "6430         8.684  \n",
       "6431         8.667  \n",
       "6432         8.667  \n",
       "6433         8.667  \n",
       "6434         8.667  \n",
       "\n",
       "[6435 rows x 7 columns]"
      ]
     },
     "execution_count": 80,
     "metadata": {},
     "output_type": "execute_result"
    }
   ],
   "source": [
    "df_aux"
   ]
  },
  {
   "cell_type": "markdown",
   "id": "1401292e",
   "metadata": {},
   "source": [
    "- Para realizar a operação no mesmo objeto é necessário passar True no parametro inplace"
   ]
  },
  {
   "cell_type": "code",
   "execution_count": 81,
   "id": "4f14c1e7",
   "metadata": {},
   "outputs": [
    {
     "data": {
      "application/vnd.microsoft.datawrangler.viewer.v0+json": {
       "columns": [
        {
         "name": "index",
         "rawType": "int64",
         "type": "integer"
        },
        {
         "name": "Store",
         "rawType": "category",
         "type": "unknown"
        },
        {
         "name": "Date",
         "rawType": "datetime64[ns]",
         "type": "datetime"
        },
        {
         "name": "Weekly_Sales",
         "rawType": "float64",
         "type": "float"
        },
        {
         "name": "Holiday_Flag",
         "rawType": "bool",
         "type": "boolean"
        },
        {
         "name": "Temperature",
         "rawType": "float64",
         "type": "float"
        },
        {
         "name": "Fuel_Price",
         "rawType": "float64",
         "type": "float"
        },
        {
         "name": "Unemployment",
         "rawType": "float64",
         "type": "float"
        }
       ],
       "ref": "fc800017-dde1-46f6-b83e-39b0526de82c",
       "rows": [
        [
         "0",
         "1",
         "2010-05-02 00:00:00",
         "1643690.9",
         "False",
         "42.31",
         "2.572",
         "8.106"
        ],
        [
         "1",
         "1",
         "2010-12-02 00:00:00",
         "1641957.44",
         "True",
         "38.51",
         "2.548",
         "8.106"
        ],
        [
         "2",
         "1",
         "2010-02-19 00:00:00",
         "1611968.17",
         "False",
         "39.93",
         "2.514",
         "8.106"
        ],
        [
         "3",
         "1",
         "2010-02-26 00:00:00",
         "1409727.59",
         "False",
         "46.63",
         "2.561",
         "8.106"
        ],
        [
         "4",
         "1",
         "2010-05-03 00:00:00",
         "1554806.68",
         "False",
         "46.5",
         "2.625",
         "8.106"
        ],
        [
         "5",
         "1",
         "2010-12-03 00:00:00",
         "1439541.59",
         "False",
         "57.79",
         "2.667",
         "8.106"
        ],
        [
         "6",
         "1",
         "2010-03-19 00:00:00",
         "1472515.79",
         "False",
         "54.58",
         "2.72",
         "8.106"
        ],
        [
         "7",
         "1",
         "2010-03-26 00:00:00",
         "1404429.92",
         "False",
         "51.45",
         "2.732",
         "8.106"
        ],
        [
         "8",
         "1",
         "2010-02-04 00:00:00",
         "1594968.28",
         "False",
         "62.27",
         "2.719",
         "7.808"
        ],
        [
         "9",
         "1",
         "2010-09-04 00:00:00",
         "1545418.53",
         "False",
         "65.86",
         "2.77",
         "7.808"
        ],
        [
         "10",
         "1",
         "2010-04-16 00:00:00",
         "1466058.28",
         "False",
         "66.32",
         "2.808",
         "7.808"
        ],
        [
         "11",
         "1",
         "2010-04-23 00:00:00",
         "1391256.12",
         "False",
         "64.84",
         "2.795",
         "7.808"
        ],
        [
         "12",
         "1",
         "2010-04-30 00:00:00",
         "1425100.71",
         "False",
         "67.41",
         "2.78",
         "7.808"
        ],
        [
         "13",
         "1",
         "2010-07-05 00:00:00",
         "1603955.12",
         "False",
         "72.55",
         "2.835",
         "7.808"
        ],
        [
         "14",
         "1",
         "2010-05-14 00:00:00",
         "1494251.5",
         "False",
         "74.78",
         "2.854",
         "7.808"
        ],
        [
         "15",
         "1",
         "2010-05-21 00:00:00",
         "1399662.07",
         "False",
         "76.44",
         "2.826",
         "7.808"
        ],
        [
         "16",
         "1",
         "2010-05-28 00:00:00",
         "1432069.95",
         "False",
         "80.44",
         "2.759",
         "7.808"
        ],
        [
         "17",
         "1",
         "2010-04-06 00:00:00",
         "1615524.71",
         "False",
         "80.69",
         "2.705",
         "7.808"
        ],
        [
         "18",
         "1",
         "2010-11-06 00:00:00",
         "1542561.09",
         "False",
         "80.43",
         "2.668",
         "7.808"
        ],
        [
         "19",
         "1",
         "2010-06-18 00:00:00",
         "1503284.06",
         "False",
         "84.11",
         "2.637",
         "7.808"
        ],
        [
         "20",
         "1",
         "2010-06-25 00:00:00",
         "1422711.6",
         "False",
         "84.34",
         "2.653",
         "7.808"
        ],
        [
         "21",
         "1",
         "2010-02-07 00:00:00",
         "1492418.14",
         "False",
         "80.91",
         "2.669",
         "7.787"
        ],
        [
         "22",
         "1",
         "2010-09-07 00:00:00",
         "1546074.18",
         "False",
         "80.48",
         "2.642",
         "7.787"
        ],
        [
         "23",
         "1",
         "2010-07-16 00:00:00",
         "1448938.92",
         "False",
         "83.15",
         "2.623",
         "7.787"
        ],
        [
         "24",
         "1",
         "2010-07-23 00:00:00",
         "1385065.2",
         "False",
         "83.36",
         "2.608",
         "7.787"
        ],
        [
         "25",
         "1",
         "2010-07-30 00:00:00",
         "1371986.6",
         "False",
         "81.84",
         "2.64",
         "7.787"
        ],
        [
         "26",
         "1",
         "2010-06-08 00:00:00",
         "1605491.78",
         "False",
         "87.16",
         "2.627",
         "7.787"
        ],
        [
         "27",
         "1",
         "2010-08-13 00:00:00",
         "1508237.76",
         "False",
         "87.0",
         "2.692",
         "7.787"
        ],
        [
         "28",
         "1",
         "2010-08-20 00:00:00",
         "1513080.49",
         "False",
         "86.65",
         "2.664",
         "7.787"
        ],
        [
         "29",
         "1",
         "2010-08-27 00:00:00",
         "1449142.92",
         "False",
         "85.22",
         "2.619",
         "7.787"
        ],
        [
         "30",
         "1",
         "2010-03-09 00:00:00",
         "1540163.53",
         "False",
         "81.21",
         "2.577",
         "7.787"
        ],
        [
         "31",
         "1",
         "2010-10-09 00:00:00",
         "1507460.69",
         "True",
         "78.69",
         "2.565",
         "7.787"
        ],
        [
         "32",
         "1",
         "2010-09-17 00:00:00",
         "1430378.67",
         "False",
         "82.11",
         "2.582",
         "7.787"
        ],
        [
         "33",
         "1",
         "2010-09-24 00:00:00",
         "1351791.03",
         "False",
         "80.94",
         "2.624",
         "7.787"
        ],
        [
         "34",
         "1",
         "2010-01-10 00:00:00",
         "1453329.5",
         "False",
         "71.89",
         "2.603",
         "7.838"
        ],
        [
         "35",
         "1",
         "2010-08-10 00:00:00",
         "1508239.93",
         "False",
         "63.93",
         "2.633",
         "7.838"
        ],
        [
         "36",
         "1",
         "2010-10-15 00:00:00",
         "1459409.1",
         "False",
         "67.18",
         "2.72",
         "7.838"
        ],
        [
         "37",
         "1",
         "2010-10-22 00:00:00",
         "1345454.0",
         "False",
         "69.86",
         "2.725",
         "7.838"
        ],
        [
         "38",
         "1",
         "2010-10-29 00:00:00",
         "1384209.22",
         "False",
         "69.64",
         "2.716",
         "7.838"
        ],
        [
         "39",
         "1",
         "2010-05-11 00:00:00",
         "1551659.28",
         "False",
         "58.74",
         "2.689",
         "7.838"
        ],
        [
         "40",
         "1",
         "2010-12-11 00:00:00",
         "1494479.49",
         "False",
         "59.61",
         "2.728",
         "7.838"
        ],
        [
         "41",
         "1",
         "2010-11-19 00:00:00",
         "1483784.18",
         "False",
         "51.41",
         "2.771",
         "7.838"
        ],
        [
         "42",
         "1",
         "2010-11-26 00:00:00",
         "1955624.11",
         "True",
         "64.52",
         "2.735",
         "7.838"
        ],
        [
         "43",
         "1",
         "2010-03-12 00:00:00",
         "1548033.78",
         "False",
         "49.27",
         "2.708",
         "7.838"
        ],
        [
         "44",
         "1",
         "2010-10-12 00:00:00",
         "1682614.26",
         "False",
         "46.33",
         "2.843",
         "7.838"
        ],
        [
         "45",
         "1",
         "2010-12-17 00:00:00",
         "1891034.93",
         "False",
         "49.84",
         "2.869",
         "7.838"
        ],
        [
         "46",
         "1",
         "2010-12-24 00:00:00",
         "2387950.2",
         "False",
         "52.33",
         "2.886",
         "7.838"
        ],
        [
         "47",
         "1",
         "2010-12-31 00:00:00",
         "1367320.01",
         "True",
         "48.43",
         "2.943",
         "7.838"
        ],
        [
         "48",
         "1",
         "2011-07-01 00:00:00",
         "1444732.28",
         "False",
         "48.27",
         "2.976",
         "7.742"
        ],
        [
         "49",
         "1",
         "2011-01-14 00:00:00",
         "1391013.96",
         "False",
         "35.4",
         "2.983",
         "7.742"
        ]
       ],
       "shape": {
        "columns": 7,
        "rows": 6433
       }
      },
      "text/html": [
       "<div>\n",
       "<style scoped>\n",
       "    .dataframe tbody tr th:only-of-type {\n",
       "        vertical-align: middle;\n",
       "    }\n",
       "\n",
       "    .dataframe tbody tr th {\n",
       "        vertical-align: top;\n",
       "    }\n",
       "\n",
       "    .dataframe thead th {\n",
       "        text-align: right;\n",
       "    }\n",
       "</style>\n",
       "<table border=\"1\" class=\"dataframe\">\n",
       "  <thead>\n",
       "    <tr style=\"text-align: right;\">\n",
       "      <th></th>\n",
       "      <th>Store</th>\n",
       "      <th>Date</th>\n",
       "      <th>Weekly_Sales</th>\n",
       "      <th>Holiday_Flag</th>\n",
       "      <th>Temperature</th>\n",
       "      <th>Fuel_Price</th>\n",
       "      <th>Unemployment</th>\n",
       "    </tr>\n",
       "  </thead>\n",
       "  <tbody>\n",
       "    <tr>\n",
       "      <th>0</th>\n",
       "      <td>1</td>\n",
       "      <td>2010-05-02</td>\n",
       "      <td>1643690.90</td>\n",
       "      <td>False</td>\n",
       "      <td>42.31</td>\n",
       "      <td>2.572</td>\n",
       "      <td>8.106</td>\n",
       "    </tr>\n",
       "    <tr>\n",
       "      <th>1</th>\n",
       "      <td>1</td>\n",
       "      <td>2010-12-02</td>\n",
       "      <td>1641957.44</td>\n",
       "      <td>True</td>\n",
       "      <td>38.51</td>\n",
       "      <td>2.548</td>\n",
       "      <td>8.106</td>\n",
       "    </tr>\n",
       "    <tr>\n",
       "      <th>2</th>\n",
       "      <td>1</td>\n",
       "      <td>2010-02-19</td>\n",
       "      <td>1611968.17</td>\n",
       "      <td>False</td>\n",
       "      <td>39.93</td>\n",
       "      <td>2.514</td>\n",
       "      <td>8.106</td>\n",
       "    </tr>\n",
       "    <tr>\n",
       "      <th>3</th>\n",
       "      <td>1</td>\n",
       "      <td>2010-02-26</td>\n",
       "      <td>1409727.59</td>\n",
       "      <td>False</td>\n",
       "      <td>46.63</td>\n",
       "      <td>2.561</td>\n",
       "      <td>8.106</td>\n",
       "    </tr>\n",
       "    <tr>\n",
       "      <th>4</th>\n",
       "      <td>1</td>\n",
       "      <td>2010-05-03</td>\n",
       "      <td>1554806.68</td>\n",
       "      <td>False</td>\n",
       "      <td>46.50</td>\n",
       "      <td>2.625</td>\n",
       "      <td>8.106</td>\n",
       "    </tr>\n",
       "    <tr>\n",
       "      <th>...</th>\n",
       "      <td>...</td>\n",
       "      <td>...</td>\n",
       "      <td>...</td>\n",
       "      <td>...</td>\n",
       "      <td>...</td>\n",
       "      <td>...</td>\n",
       "      <td>...</td>\n",
       "    </tr>\n",
       "    <tr>\n",
       "      <th>6428</th>\n",
       "      <td>45</td>\n",
       "      <td>2012-09-14</td>\n",
       "      <td>702238.27</td>\n",
       "      <td>False</td>\n",
       "      <td>67.87</td>\n",
       "      <td>3.948</td>\n",
       "      <td>8.684</td>\n",
       "    </tr>\n",
       "    <tr>\n",
       "      <th>6429</th>\n",
       "      <td>45</td>\n",
       "      <td>2012-09-21</td>\n",
       "      <td>723086.20</td>\n",
       "      <td>False</td>\n",
       "      <td>65.32</td>\n",
       "      <td>4.038</td>\n",
       "      <td>8.684</td>\n",
       "    </tr>\n",
       "    <tr>\n",
       "      <th>6430</th>\n",
       "      <td>45</td>\n",
       "      <td>2012-09-28</td>\n",
       "      <td>713173.95</td>\n",
       "      <td>False</td>\n",
       "      <td>64.88</td>\n",
       "      <td>3.997</td>\n",
       "      <td>8.684</td>\n",
       "    </tr>\n",
       "    <tr>\n",
       "      <th>6432</th>\n",
       "      <td>45</td>\n",
       "      <td>2012-12-10</td>\n",
       "      <td>734464.36</td>\n",
       "      <td>False</td>\n",
       "      <td>54.47</td>\n",
       "      <td>4.000</td>\n",
       "      <td>8.667</td>\n",
       "    </tr>\n",
       "    <tr>\n",
       "      <th>6434</th>\n",
       "      <td>45</td>\n",
       "      <td>2012-10-26</td>\n",
       "      <td>760281.43</td>\n",
       "      <td>False</td>\n",
       "      <td>58.85</td>\n",
       "      <td>3.882</td>\n",
       "      <td>8.667</td>\n",
       "    </tr>\n",
       "  </tbody>\n",
       "</table>\n",
       "<p>6433 rows × 7 columns</p>\n",
       "</div>"
      ],
      "text/plain": [
       "     Store       Date  Weekly_Sales  Holiday_Flag  Temperature  Fuel_Price  \\\n",
       "0        1 2010-05-02    1643690.90         False        42.31       2.572   \n",
       "1        1 2010-12-02    1641957.44          True        38.51       2.548   \n",
       "2        1 2010-02-19    1611968.17         False        39.93       2.514   \n",
       "3        1 2010-02-26    1409727.59         False        46.63       2.561   \n",
       "4        1 2010-05-03    1554806.68         False        46.50       2.625   \n",
       "...    ...        ...           ...           ...          ...         ...   \n",
       "6428    45 2012-09-14     702238.27         False        67.87       3.948   \n",
       "6429    45 2012-09-21     723086.20         False        65.32       4.038   \n",
       "6430    45 2012-09-28     713173.95         False        64.88       3.997   \n",
       "6432    45 2012-12-10     734464.36         False        54.47       4.000   \n",
       "6434    45 2012-10-26     760281.43         False        58.85       3.882   \n",
       "\n",
       "      Unemployment  \n",
       "0            8.106  \n",
       "1            8.106  \n",
       "2            8.106  \n",
       "3            8.106  \n",
       "4            8.106  \n",
       "...            ...  \n",
       "6428         8.684  \n",
       "6429         8.684  \n",
       "6430         8.684  \n",
       "6432         8.667  \n",
       "6434         8.667  \n",
       "\n",
       "[6433 rows x 7 columns]"
      ]
     },
     "execution_count": 81,
     "metadata": {},
     "output_type": "execute_result"
    }
   ],
   "source": [
    "df_aux.drop([6431,6433], inplace=True)\n",
    "df_aux"
   ]
  },
  {
   "cell_type": "markdown",
   "id": "9c7c7a23",
   "metadata": {},
   "source": [
    "- Drop também permite a remoção de colunas"
   ]
  },
  {
   "cell_type": "code",
   "execution_count": 82,
   "id": "47d3a20c",
   "metadata": {},
   "outputs": [
    {
     "data": {
      "application/vnd.microsoft.datawrangler.viewer.v0+json": {
       "columns": [
        {
         "name": "index",
         "rawType": "int64",
         "type": "integer"
        },
        {
         "name": "Store",
         "rawType": "category",
         "type": "unknown"
        },
        {
         "name": "Date",
         "rawType": "datetime64[ns]",
         "type": "datetime"
        },
        {
         "name": "Weekly_Sales",
         "rawType": "float64",
         "type": "float"
        },
        {
         "name": "Holiday_Flag",
         "rawType": "bool",
         "type": "boolean"
        },
        {
         "name": "Temperature",
         "rawType": "float64",
         "type": "float"
        }
       ],
       "ref": "70895c5f-caed-4b69-ba7a-34a2783e5543",
       "rows": [
        [
         "0",
         "1",
         "2010-05-02 00:00:00",
         "1643690.9",
         "False",
         "42.31"
        ],
        [
         "1",
         "1",
         "2010-12-02 00:00:00",
         "1641957.44",
         "True",
         "38.51"
        ],
        [
         "2",
         "1",
         "2010-02-19 00:00:00",
         "1611968.17",
         "False",
         "39.93"
        ],
        [
         "3",
         "1",
         "2010-02-26 00:00:00",
         "1409727.59",
         "False",
         "46.63"
        ],
        [
         "4",
         "1",
         "2010-05-03 00:00:00",
         "1554806.68",
         "False",
         "46.5"
        ],
        [
         "5",
         "1",
         "2010-12-03 00:00:00",
         "1439541.59",
         "False",
         "57.79"
        ],
        [
         "6",
         "1",
         "2010-03-19 00:00:00",
         "1472515.79",
         "False",
         "54.58"
        ],
        [
         "7",
         "1",
         "2010-03-26 00:00:00",
         "1404429.92",
         "False",
         "51.45"
        ],
        [
         "8",
         "1",
         "2010-02-04 00:00:00",
         "1594968.28",
         "False",
         "62.27"
        ],
        [
         "9",
         "1",
         "2010-09-04 00:00:00",
         "1545418.53",
         "False",
         "65.86"
        ],
        [
         "10",
         "1",
         "2010-04-16 00:00:00",
         "1466058.28",
         "False",
         "66.32"
        ],
        [
         "11",
         "1",
         "2010-04-23 00:00:00",
         "1391256.12",
         "False",
         "64.84"
        ],
        [
         "12",
         "1",
         "2010-04-30 00:00:00",
         "1425100.71",
         "False",
         "67.41"
        ],
        [
         "13",
         "1",
         "2010-07-05 00:00:00",
         "1603955.12",
         "False",
         "72.55"
        ],
        [
         "14",
         "1",
         "2010-05-14 00:00:00",
         "1494251.5",
         "False",
         "74.78"
        ],
        [
         "15",
         "1",
         "2010-05-21 00:00:00",
         "1399662.07",
         "False",
         "76.44"
        ],
        [
         "16",
         "1",
         "2010-05-28 00:00:00",
         "1432069.95",
         "False",
         "80.44"
        ],
        [
         "17",
         "1",
         "2010-04-06 00:00:00",
         "1615524.71",
         "False",
         "80.69"
        ],
        [
         "18",
         "1",
         "2010-11-06 00:00:00",
         "1542561.09",
         "False",
         "80.43"
        ],
        [
         "19",
         "1",
         "2010-06-18 00:00:00",
         "1503284.06",
         "False",
         "84.11"
        ],
        [
         "20",
         "1",
         "2010-06-25 00:00:00",
         "1422711.6",
         "False",
         "84.34"
        ],
        [
         "21",
         "1",
         "2010-02-07 00:00:00",
         "1492418.14",
         "False",
         "80.91"
        ],
        [
         "22",
         "1",
         "2010-09-07 00:00:00",
         "1546074.18",
         "False",
         "80.48"
        ],
        [
         "23",
         "1",
         "2010-07-16 00:00:00",
         "1448938.92",
         "False",
         "83.15"
        ],
        [
         "24",
         "1",
         "2010-07-23 00:00:00",
         "1385065.2",
         "False",
         "83.36"
        ],
        [
         "25",
         "1",
         "2010-07-30 00:00:00",
         "1371986.6",
         "False",
         "81.84"
        ],
        [
         "26",
         "1",
         "2010-06-08 00:00:00",
         "1605491.78",
         "False",
         "87.16"
        ],
        [
         "27",
         "1",
         "2010-08-13 00:00:00",
         "1508237.76",
         "False",
         "87.0"
        ],
        [
         "28",
         "1",
         "2010-08-20 00:00:00",
         "1513080.49",
         "False",
         "86.65"
        ],
        [
         "29",
         "1",
         "2010-08-27 00:00:00",
         "1449142.92",
         "False",
         "85.22"
        ],
        [
         "30",
         "1",
         "2010-03-09 00:00:00",
         "1540163.53",
         "False",
         "81.21"
        ],
        [
         "31",
         "1",
         "2010-10-09 00:00:00",
         "1507460.69",
         "True",
         "78.69"
        ],
        [
         "32",
         "1",
         "2010-09-17 00:00:00",
         "1430378.67",
         "False",
         "82.11"
        ],
        [
         "33",
         "1",
         "2010-09-24 00:00:00",
         "1351791.03",
         "False",
         "80.94"
        ],
        [
         "34",
         "1",
         "2010-01-10 00:00:00",
         "1453329.5",
         "False",
         "71.89"
        ],
        [
         "35",
         "1",
         "2010-08-10 00:00:00",
         "1508239.93",
         "False",
         "63.93"
        ],
        [
         "36",
         "1",
         "2010-10-15 00:00:00",
         "1459409.1",
         "False",
         "67.18"
        ],
        [
         "37",
         "1",
         "2010-10-22 00:00:00",
         "1345454.0",
         "False",
         "69.86"
        ],
        [
         "38",
         "1",
         "2010-10-29 00:00:00",
         "1384209.22",
         "False",
         "69.64"
        ],
        [
         "39",
         "1",
         "2010-05-11 00:00:00",
         "1551659.28",
         "False",
         "58.74"
        ],
        [
         "40",
         "1",
         "2010-12-11 00:00:00",
         "1494479.49",
         "False",
         "59.61"
        ],
        [
         "41",
         "1",
         "2010-11-19 00:00:00",
         "1483784.18",
         "False",
         "51.41"
        ],
        [
         "42",
         "1",
         "2010-11-26 00:00:00",
         "1955624.11",
         "True",
         "64.52"
        ],
        [
         "43",
         "1",
         "2010-03-12 00:00:00",
         "1548033.78",
         "False",
         "49.27"
        ],
        [
         "44",
         "1",
         "2010-10-12 00:00:00",
         "1682614.26",
         "False",
         "46.33"
        ],
        [
         "45",
         "1",
         "2010-12-17 00:00:00",
         "1891034.93",
         "False",
         "49.84"
        ],
        [
         "46",
         "1",
         "2010-12-24 00:00:00",
         "2387950.2",
         "False",
         "52.33"
        ],
        [
         "47",
         "1",
         "2010-12-31 00:00:00",
         "1367320.01",
         "True",
         "48.43"
        ],
        [
         "48",
         "1",
         "2011-07-01 00:00:00",
         "1444732.28",
         "False",
         "48.27"
        ],
        [
         "49",
         "1",
         "2011-01-14 00:00:00",
         "1391013.96",
         "False",
         "35.4"
        ]
       ],
       "shape": {
        "columns": 5,
        "rows": 6433
       }
      },
      "text/html": [
       "<div>\n",
       "<style scoped>\n",
       "    .dataframe tbody tr th:only-of-type {\n",
       "        vertical-align: middle;\n",
       "    }\n",
       "\n",
       "    .dataframe tbody tr th {\n",
       "        vertical-align: top;\n",
       "    }\n",
       "\n",
       "    .dataframe thead th {\n",
       "        text-align: right;\n",
       "    }\n",
       "</style>\n",
       "<table border=\"1\" class=\"dataframe\">\n",
       "  <thead>\n",
       "    <tr style=\"text-align: right;\">\n",
       "      <th></th>\n",
       "      <th>Store</th>\n",
       "      <th>Date</th>\n",
       "      <th>Weekly_Sales</th>\n",
       "      <th>Holiday_Flag</th>\n",
       "      <th>Temperature</th>\n",
       "    </tr>\n",
       "  </thead>\n",
       "  <tbody>\n",
       "    <tr>\n",
       "      <th>0</th>\n",
       "      <td>1</td>\n",
       "      <td>2010-05-02</td>\n",
       "      <td>1643690.90</td>\n",
       "      <td>False</td>\n",
       "      <td>42.31</td>\n",
       "    </tr>\n",
       "    <tr>\n",
       "      <th>1</th>\n",
       "      <td>1</td>\n",
       "      <td>2010-12-02</td>\n",
       "      <td>1641957.44</td>\n",
       "      <td>True</td>\n",
       "      <td>38.51</td>\n",
       "    </tr>\n",
       "    <tr>\n",
       "      <th>2</th>\n",
       "      <td>1</td>\n",
       "      <td>2010-02-19</td>\n",
       "      <td>1611968.17</td>\n",
       "      <td>False</td>\n",
       "      <td>39.93</td>\n",
       "    </tr>\n",
       "    <tr>\n",
       "      <th>3</th>\n",
       "      <td>1</td>\n",
       "      <td>2010-02-26</td>\n",
       "      <td>1409727.59</td>\n",
       "      <td>False</td>\n",
       "      <td>46.63</td>\n",
       "    </tr>\n",
       "    <tr>\n",
       "      <th>4</th>\n",
       "      <td>1</td>\n",
       "      <td>2010-05-03</td>\n",
       "      <td>1554806.68</td>\n",
       "      <td>False</td>\n",
       "      <td>46.50</td>\n",
       "    </tr>\n",
       "    <tr>\n",
       "      <th>...</th>\n",
       "      <td>...</td>\n",
       "      <td>...</td>\n",
       "      <td>...</td>\n",
       "      <td>...</td>\n",
       "      <td>...</td>\n",
       "    </tr>\n",
       "    <tr>\n",
       "      <th>6428</th>\n",
       "      <td>45</td>\n",
       "      <td>2012-09-14</td>\n",
       "      <td>702238.27</td>\n",
       "      <td>False</td>\n",
       "      <td>67.87</td>\n",
       "    </tr>\n",
       "    <tr>\n",
       "      <th>6429</th>\n",
       "      <td>45</td>\n",
       "      <td>2012-09-21</td>\n",
       "      <td>723086.20</td>\n",
       "      <td>False</td>\n",
       "      <td>65.32</td>\n",
       "    </tr>\n",
       "    <tr>\n",
       "      <th>6430</th>\n",
       "      <td>45</td>\n",
       "      <td>2012-09-28</td>\n",
       "      <td>713173.95</td>\n",
       "      <td>False</td>\n",
       "      <td>64.88</td>\n",
       "    </tr>\n",
       "    <tr>\n",
       "      <th>6432</th>\n",
       "      <td>45</td>\n",
       "      <td>2012-12-10</td>\n",
       "      <td>734464.36</td>\n",
       "      <td>False</td>\n",
       "      <td>54.47</td>\n",
       "    </tr>\n",
       "    <tr>\n",
       "      <th>6434</th>\n",
       "      <td>45</td>\n",
       "      <td>2012-10-26</td>\n",
       "      <td>760281.43</td>\n",
       "      <td>False</td>\n",
       "      <td>58.85</td>\n",
       "    </tr>\n",
       "  </tbody>\n",
       "</table>\n",
       "<p>6433 rows × 5 columns</p>\n",
       "</div>"
      ],
      "text/plain": [
       "     Store       Date  Weekly_Sales  Holiday_Flag  Temperature\n",
       "0        1 2010-05-02    1643690.90         False        42.31\n",
       "1        1 2010-12-02    1641957.44          True        38.51\n",
       "2        1 2010-02-19    1611968.17         False        39.93\n",
       "3        1 2010-02-26    1409727.59         False        46.63\n",
       "4        1 2010-05-03    1554806.68         False        46.50\n",
       "...    ...        ...           ...           ...          ...\n",
       "6428    45 2012-09-14     702238.27         False        67.87\n",
       "6429    45 2012-09-21     723086.20         False        65.32\n",
       "6430    45 2012-09-28     713173.95         False        64.88\n",
       "6432    45 2012-12-10     734464.36         False        54.47\n",
       "6434    45 2012-10-26     760281.43         False        58.85\n",
       "\n",
       "[6433 rows x 5 columns]"
      ]
     },
     "execution_count": 82,
     "metadata": {},
     "output_type": "execute_result"
    }
   ],
   "source": [
    "df_aux.drop(['Fuel_Price','Unemployment'], inplace=True, axis='columns')\n",
    "df_aux"
   ]
  },
  {
   "cell_type": "markdown",
   "id": "a7dcebf4",
   "metadata": {},
   "source": [
    "- É possível também adicionar um nome para o index e para as coluna"
   ]
  },
  {
   "cell_type": "code",
   "execution_count": 83,
   "id": "9d2856be",
   "metadata": {},
   "outputs": [],
   "source": [
    "df_aux.index.name = 'indice'\n",
    "df_aux.columns.name = 'dados'"
   ]
  },
  {
   "cell_type": "code",
   "execution_count": 84,
   "id": "9a1475c4",
   "metadata": {},
   "outputs": [
    {
     "data": {
      "application/vnd.microsoft.datawrangler.viewer.v0+json": {
       "columns": [
        {
         "name": "indice",
         "rawType": "int64",
         "type": "integer"
        },
        {
         "name": "Store",
         "rawType": "category",
         "type": "unknown"
        },
        {
         "name": "Date",
         "rawType": "datetime64[ns]",
         "type": "datetime"
        },
        {
         "name": "Weekly_Sales",
         "rawType": "float64",
         "type": "float"
        },
        {
         "name": "Holiday_Flag",
         "rawType": "bool",
         "type": "boolean"
        },
        {
         "name": "Temperature",
         "rawType": "float64",
         "type": "float"
        }
       ],
       "ref": "a0764dbc-761b-4a17-922f-f6a121305f09",
       "rows": [
        [
         "0",
         "1",
         "2010-05-02 00:00:00",
         "1643690.9",
         "False",
         "42.31"
        ],
        [
         "1",
         "1",
         "2010-12-02 00:00:00",
         "1641957.44",
         "True",
         "38.51"
        ],
        [
         "2",
         "1",
         "2010-02-19 00:00:00",
         "1611968.17",
         "False",
         "39.93"
        ],
        [
         "3",
         "1",
         "2010-02-26 00:00:00",
         "1409727.59",
         "False",
         "46.63"
        ],
        [
         "4",
         "1",
         "2010-05-03 00:00:00",
         "1554806.68",
         "False",
         "46.5"
        ],
        [
         "5",
         "1",
         "2010-12-03 00:00:00",
         "1439541.59",
         "False",
         "57.79"
        ],
        [
         "6",
         "1",
         "2010-03-19 00:00:00",
         "1472515.79",
         "False",
         "54.58"
        ],
        [
         "7",
         "1",
         "2010-03-26 00:00:00",
         "1404429.92",
         "False",
         "51.45"
        ],
        [
         "8",
         "1",
         "2010-02-04 00:00:00",
         "1594968.28",
         "False",
         "62.27"
        ],
        [
         "9",
         "1",
         "2010-09-04 00:00:00",
         "1545418.53",
         "False",
         "65.86"
        ],
        [
         "10",
         "1",
         "2010-04-16 00:00:00",
         "1466058.28",
         "False",
         "66.32"
        ],
        [
         "11",
         "1",
         "2010-04-23 00:00:00",
         "1391256.12",
         "False",
         "64.84"
        ],
        [
         "12",
         "1",
         "2010-04-30 00:00:00",
         "1425100.71",
         "False",
         "67.41"
        ],
        [
         "13",
         "1",
         "2010-07-05 00:00:00",
         "1603955.12",
         "False",
         "72.55"
        ],
        [
         "14",
         "1",
         "2010-05-14 00:00:00",
         "1494251.5",
         "False",
         "74.78"
        ],
        [
         "15",
         "1",
         "2010-05-21 00:00:00",
         "1399662.07",
         "False",
         "76.44"
        ],
        [
         "16",
         "1",
         "2010-05-28 00:00:00",
         "1432069.95",
         "False",
         "80.44"
        ],
        [
         "17",
         "1",
         "2010-04-06 00:00:00",
         "1615524.71",
         "False",
         "80.69"
        ],
        [
         "18",
         "1",
         "2010-11-06 00:00:00",
         "1542561.09",
         "False",
         "80.43"
        ],
        [
         "19",
         "1",
         "2010-06-18 00:00:00",
         "1503284.06",
         "False",
         "84.11"
        ],
        [
         "20",
         "1",
         "2010-06-25 00:00:00",
         "1422711.6",
         "False",
         "84.34"
        ],
        [
         "21",
         "1",
         "2010-02-07 00:00:00",
         "1492418.14",
         "False",
         "80.91"
        ],
        [
         "22",
         "1",
         "2010-09-07 00:00:00",
         "1546074.18",
         "False",
         "80.48"
        ],
        [
         "23",
         "1",
         "2010-07-16 00:00:00",
         "1448938.92",
         "False",
         "83.15"
        ],
        [
         "24",
         "1",
         "2010-07-23 00:00:00",
         "1385065.2",
         "False",
         "83.36"
        ],
        [
         "25",
         "1",
         "2010-07-30 00:00:00",
         "1371986.6",
         "False",
         "81.84"
        ],
        [
         "26",
         "1",
         "2010-06-08 00:00:00",
         "1605491.78",
         "False",
         "87.16"
        ],
        [
         "27",
         "1",
         "2010-08-13 00:00:00",
         "1508237.76",
         "False",
         "87.0"
        ],
        [
         "28",
         "1",
         "2010-08-20 00:00:00",
         "1513080.49",
         "False",
         "86.65"
        ],
        [
         "29",
         "1",
         "2010-08-27 00:00:00",
         "1449142.92",
         "False",
         "85.22"
        ],
        [
         "30",
         "1",
         "2010-03-09 00:00:00",
         "1540163.53",
         "False",
         "81.21"
        ],
        [
         "31",
         "1",
         "2010-10-09 00:00:00",
         "1507460.69",
         "True",
         "78.69"
        ],
        [
         "32",
         "1",
         "2010-09-17 00:00:00",
         "1430378.67",
         "False",
         "82.11"
        ],
        [
         "33",
         "1",
         "2010-09-24 00:00:00",
         "1351791.03",
         "False",
         "80.94"
        ],
        [
         "34",
         "1",
         "2010-01-10 00:00:00",
         "1453329.5",
         "False",
         "71.89"
        ],
        [
         "35",
         "1",
         "2010-08-10 00:00:00",
         "1508239.93",
         "False",
         "63.93"
        ],
        [
         "36",
         "1",
         "2010-10-15 00:00:00",
         "1459409.1",
         "False",
         "67.18"
        ],
        [
         "37",
         "1",
         "2010-10-22 00:00:00",
         "1345454.0",
         "False",
         "69.86"
        ],
        [
         "38",
         "1",
         "2010-10-29 00:00:00",
         "1384209.22",
         "False",
         "69.64"
        ],
        [
         "39",
         "1",
         "2010-05-11 00:00:00",
         "1551659.28",
         "False",
         "58.74"
        ],
        [
         "40",
         "1",
         "2010-12-11 00:00:00",
         "1494479.49",
         "False",
         "59.61"
        ],
        [
         "41",
         "1",
         "2010-11-19 00:00:00",
         "1483784.18",
         "False",
         "51.41"
        ],
        [
         "42",
         "1",
         "2010-11-26 00:00:00",
         "1955624.11",
         "True",
         "64.52"
        ],
        [
         "43",
         "1",
         "2010-03-12 00:00:00",
         "1548033.78",
         "False",
         "49.27"
        ],
        [
         "44",
         "1",
         "2010-10-12 00:00:00",
         "1682614.26",
         "False",
         "46.33"
        ],
        [
         "45",
         "1",
         "2010-12-17 00:00:00",
         "1891034.93",
         "False",
         "49.84"
        ],
        [
         "46",
         "1",
         "2010-12-24 00:00:00",
         "2387950.2",
         "False",
         "52.33"
        ],
        [
         "47",
         "1",
         "2010-12-31 00:00:00",
         "1367320.01",
         "True",
         "48.43"
        ],
        [
         "48",
         "1",
         "2011-07-01 00:00:00",
         "1444732.28",
         "False",
         "48.27"
        ],
        [
         "49",
         "1",
         "2011-01-14 00:00:00",
         "1391013.96",
         "False",
         "35.4"
        ]
       ],
       "shape": {
        "columns": 5,
        "rows": 6433
       }
      },
      "text/html": [
       "<div>\n",
       "<style scoped>\n",
       "    .dataframe tbody tr th:only-of-type {\n",
       "        vertical-align: middle;\n",
       "    }\n",
       "\n",
       "    .dataframe tbody tr th {\n",
       "        vertical-align: top;\n",
       "    }\n",
       "\n",
       "    .dataframe thead th {\n",
       "        text-align: right;\n",
       "    }\n",
       "</style>\n",
       "<table border=\"1\" class=\"dataframe\">\n",
       "  <thead>\n",
       "    <tr style=\"text-align: right;\">\n",
       "      <th>dados</th>\n",
       "      <th>Store</th>\n",
       "      <th>Date</th>\n",
       "      <th>Weekly_Sales</th>\n",
       "      <th>Holiday_Flag</th>\n",
       "      <th>Temperature</th>\n",
       "    </tr>\n",
       "    <tr>\n",
       "      <th>indice</th>\n",
       "      <th></th>\n",
       "      <th></th>\n",
       "      <th></th>\n",
       "      <th></th>\n",
       "      <th></th>\n",
       "    </tr>\n",
       "  </thead>\n",
       "  <tbody>\n",
       "    <tr>\n",
       "      <th>0</th>\n",
       "      <td>1</td>\n",
       "      <td>2010-05-02</td>\n",
       "      <td>1643690.90</td>\n",
       "      <td>False</td>\n",
       "      <td>42.31</td>\n",
       "    </tr>\n",
       "    <tr>\n",
       "      <th>1</th>\n",
       "      <td>1</td>\n",
       "      <td>2010-12-02</td>\n",
       "      <td>1641957.44</td>\n",
       "      <td>True</td>\n",
       "      <td>38.51</td>\n",
       "    </tr>\n",
       "    <tr>\n",
       "      <th>2</th>\n",
       "      <td>1</td>\n",
       "      <td>2010-02-19</td>\n",
       "      <td>1611968.17</td>\n",
       "      <td>False</td>\n",
       "      <td>39.93</td>\n",
       "    </tr>\n",
       "    <tr>\n",
       "      <th>3</th>\n",
       "      <td>1</td>\n",
       "      <td>2010-02-26</td>\n",
       "      <td>1409727.59</td>\n",
       "      <td>False</td>\n",
       "      <td>46.63</td>\n",
       "    </tr>\n",
       "    <tr>\n",
       "      <th>4</th>\n",
       "      <td>1</td>\n",
       "      <td>2010-05-03</td>\n",
       "      <td>1554806.68</td>\n",
       "      <td>False</td>\n",
       "      <td>46.50</td>\n",
       "    </tr>\n",
       "    <tr>\n",
       "      <th>...</th>\n",
       "      <td>...</td>\n",
       "      <td>...</td>\n",
       "      <td>...</td>\n",
       "      <td>...</td>\n",
       "      <td>...</td>\n",
       "    </tr>\n",
       "    <tr>\n",
       "      <th>6428</th>\n",
       "      <td>45</td>\n",
       "      <td>2012-09-14</td>\n",
       "      <td>702238.27</td>\n",
       "      <td>False</td>\n",
       "      <td>67.87</td>\n",
       "    </tr>\n",
       "    <tr>\n",
       "      <th>6429</th>\n",
       "      <td>45</td>\n",
       "      <td>2012-09-21</td>\n",
       "      <td>723086.20</td>\n",
       "      <td>False</td>\n",
       "      <td>65.32</td>\n",
       "    </tr>\n",
       "    <tr>\n",
       "      <th>6430</th>\n",
       "      <td>45</td>\n",
       "      <td>2012-09-28</td>\n",
       "      <td>713173.95</td>\n",
       "      <td>False</td>\n",
       "      <td>64.88</td>\n",
       "    </tr>\n",
       "    <tr>\n",
       "      <th>6432</th>\n",
       "      <td>45</td>\n",
       "      <td>2012-12-10</td>\n",
       "      <td>734464.36</td>\n",
       "      <td>False</td>\n",
       "      <td>54.47</td>\n",
       "    </tr>\n",
       "    <tr>\n",
       "      <th>6434</th>\n",
       "      <td>45</td>\n",
       "      <td>2012-10-26</td>\n",
       "      <td>760281.43</td>\n",
       "      <td>False</td>\n",
       "      <td>58.85</td>\n",
       "    </tr>\n",
       "  </tbody>\n",
       "</table>\n",
       "<p>6433 rows × 5 columns</p>\n",
       "</div>"
      ],
      "text/plain": [
       "dados  Store       Date  Weekly_Sales  Holiday_Flag  Temperature\n",
       "indice                                                          \n",
       "0          1 2010-05-02    1643690.90         False        42.31\n",
       "1          1 2010-12-02    1641957.44          True        38.51\n",
       "2          1 2010-02-19    1611968.17         False        39.93\n",
       "3          1 2010-02-26    1409727.59         False        46.63\n",
       "4          1 2010-05-03    1554806.68         False        46.50\n",
       "...      ...        ...           ...           ...          ...\n",
       "6428      45 2012-09-14     702238.27         False        67.87\n",
       "6429      45 2012-09-21     723086.20         False        65.32\n",
       "6430      45 2012-09-28     713173.95         False        64.88\n",
       "6432      45 2012-12-10     734464.36         False        54.47\n",
       "6434      45 2012-10-26     760281.43         False        58.85\n",
       "\n",
       "[6433 rows x 5 columns]"
      ]
     },
     "execution_count": 84,
     "metadata": {},
     "output_type": "execute_result"
    }
   ],
   "source": [
    "df_aux"
   ]
  },
  {
   "cell_type": "markdown",
   "id": "8c428625",
   "metadata": {},
   "source": [
    "- Analisando Store 1"
   ]
  },
  {
   "cell_type": "code",
   "execution_count": 85,
   "id": "ff658059",
   "metadata": {},
   "outputs": [
    {
     "data": {
      "application/vnd.microsoft.datawrangler.viewer.v0+json": {
       "columns": [
        {
         "name": "indice",
         "rawType": "int64",
         "type": "integer"
        },
        {
         "name": "Store",
         "rawType": "category",
         "type": "unknown"
        },
        {
         "name": "Date",
         "rawType": "datetime64[ns]",
         "type": "datetime"
        },
        {
         "name": "Weekly_Sales",
         "rawType": "float64",
         "type": "float"
        },
        {
         "name": "Holiday_Flag",
         "rawType": "bool",
         "type": "boolean"
        },
        {
         "name": "Temperature",
         "rawType": "float64",
         "type": "float"
        }
       ],
       "ref": "d4d9f7aa-8a17-44cd-a676-e666681ec6e0",
       "rows": [
        [
         "0",
         "1",
         "2010-05-02 00:00:00",
         "1643690.9",
         "False",
         "42.31"
        ],
        [
         "1",
         "1",
         "2010-12-02 00:00:00",
         "1641957.44",
         "True",
         "38.51"
        ],
        [
         "2",
         "1",
         "2010-02-19 00:00:00",
         "1611968.17",
         "False",
         "39.93"
        ],
        [
         "3",
         "1",
         "2010-02-26 00:00:00",
         "1409727.59",
         "False",
         "46.63"
        ],
        [
         "4",
         "1",
         "2010-05-03 00:00:00",
         "1554806.68",
         "False",
         "46.5"
        ],
        [
         "5",
         "1",
         "2010-12-03 00:00:00",
         "1439541.59",
         "False",
         "57.79"
        ],
        [
         "6",
         "1",
         "2010-03-19 00:00:00",
         "1472515.79",
         "False",
         "54.58"
        ],
        [
         "7",
         "1",
         "2010-03-26 00:00:00",
         "1404429.92",
         "False",
         "51.45"
        ],
        [
         "8",
         "1",
         "2010-02-04 00:00:00",
         "1594968.28",
         "False",
         "62.27"
        ],
        [
         "9",
         "1",
         "2010-09-04 00:00:00",
         "1545418.53",
         "False",
         "65.86"
        ],
        [
         "10",
         "1",
         "2010-04-16 00:00:00",
         "1466058.28",
         "False",
         "66.32"
        ],
        [
         "11",
         "1",
         "2010-04-23 00:00:00",
         "1391256.12",
         "False",
         "64.84"
        ],
        [
         "12",
         "1",
         "2010-04-30 00:00:00",
         "1425100.71",
         "False",
         "67.41"
        ],
        [
         "13",
         "1",
         "2010-07-05 00:00:00",
         "1603955.12",
         "False",
         "72.55"
        ],
        [
         "14",
         "1",
         "2010-05-14 00:00:00",
         "1494251.5",
         "False",
         "74.78"
        ],
        [
         "15",
         "1",
         "2010-05-21 00:00:00",
         "1399662.07",
         "False",
         "76.44"
        ],
        [
         "16",
         "1",
         "2010-05-28 00:00:00",
         "1432069.95",
         "False",
         "80.44"
        ],
        [
         "17",
         "1",
         "2010-04-06 00:00:00",
         "1615524.71",
         "False",
         "80.69"
        ],
        [
         "18",
         "1",
         "2010-11-06 00:00:00",
         "1542561.09",
         "False",
         "80.43"
        ],
        [
         "19",
         "1",
         "2010-06-18 00:00:00",
         "1503284.06",
         "False",
         "84.11"
        ],
        [
         "20",
         "1",
         "2010-06-25 00:00:00",
         "1422711.6",
         "False",
         "84.34"
        ],
        [
         "21",
         "1",
         "2010-02-07 00:00:00",
         "1492418.14",
         "False",
         "80.91"
        ],
        [
         "22",
         "1",
         "2010-09-07 00:00:00",
         "1546074.18",
         "False",
         "80.48"
        ],
        [
         "23",
         "1",
         "2010-07-16 00:00:00",
         "1448938.92",
         "False",
         "83.15"
        ],
        [
         "24",
         "1",
         "2010-07-23 00:00:00",
         "1385065.2",
         "False",
         "83.36"
        ],
        [
         "25",
         "1",
         "2010-07-30 00:00:00",
         "1371986.6",
         "False",
         "81.84"
        ],
        [
         "26",
         "1",
         "2010-06-08 00:00:00",
         "1605491.78",
         "False",
         "87.16"
        ],
        [
         "27",
         "1",
         "2010-08-13 00:00:00",
         "1508237.76",
         "False",
         "87.0"
        ],
        [
         "28",
         "1",
         "2010-08-20 00:00:00",
         "1513080.49",
         "False",
         "86.65"
        ],
        [
         "29",
         "1",
         "2010-08-27 00:00:00",
         "1449142.92",
         "False",
         "85.22"
        ],
        [
         "30",
         "1",
         "2010-03-09 00:00:00",
         "1540163.53",
         "False",
         "81.21"
        ],
        [
         "31",
         "1",
         "2010-10-09 00:00:00",
         "1507460.69",
         "True",
         "78.69"
        ],
        [
         "32",
         "1",
         "2010-09-17 00:00:00",
         "1430378.67",
         "False",
         "82.11"
        ],
        [
         "33",
         "1",
         "2010-09-24 00:00:00",
         "1351791.03",
         "False",
         "80.94"
        ],
        [
         "34",
         "1",
         "2010-01-10 00:00:00",
         "1453329.5",
         "False",
         "71.89"
        ],
        [
         "35",
         "1",
         "2010-08-10 00:00:00",
         "1508239.93",
         "False",
         "63.93"
        ],
        [
         "36",
         "1",
         "2010-10-15 00:00:00",
         "1459409.1",
         "False",
         "67.18"
        ],
        [
         "37",
         "1",
         "2010-10-22 00:00:00",
         "1345454.0",
         "False",
         "69.86"
        ],
        [
         "38",
         "1",
         "2010-10-29 00:00:00",
         "1384209.22",
         "False",
         "69.64"
        ],
        [
         "39",
         "1",
         "2010-05-11 00:00:00",
         "1551659.28",
         "False",
         "58.74"
        ],
        [
         "40",
         "1",
         "2010-12-11 00:00:00",
         "1494479.49",
         "False",
         "59.61"
        ],
        [
         "41",
         "1",
         "2010-11-19 00:00:00",
         "1483784.18",
         "False",
         "51.41"
        ],
        [
         "42",
         "1",
         "2010-11-26 00:00:00",
         "1955624.11",
         "True",
         "64.52"
        ],
        [
         "43",
         "1",
         "2010-03-12 00:00:00",
         "1548033.78",
         "False",
         "49.27"
        ],
        [
         "44",
         "1",
         "2010-10-12 00:00:00",
         "1682614.26",
         "False",
         "46.33"
        ],
        [
         "45",
         "1",
         "2010-12-17 00:00:00",
         "1891034.93",
         "False",
         "49.84"
        ],
        [
         "46",
         "1",
         "2010-12-24 00:00:00",
         "2387950.2",
         "False",
         "52.33"
        ],
        [
         "47",
         "1",
         "2010-12-31 00:00:00",
         "1367320.01",
         "True",
         "48.43"
        ],
        [
         "48",
         "1",
         "2011-07-01 00:00:00",
         "1444732.28",
         "False",
         "48.27"
        ],
        [
         "49",
         "1",
         "2011-01-14 00:00:00",
         "1391013.96",
         "False",
         "35.4"
        ]
       ],
       "shape": {
        "columns": 5,
        "rows": 143
       }
      },
      "text/html": [
       "<div>\n",
       "<style scoped>\n",
       "    .dataframe tbody tr th:only-of-type {\n",
       "        vertical-align: middle;\n",
       "    }\n",
       "\n",
       "    .dataframe tbody tr th {\n",
       "        vertical-align: top;\n",
       "    }\n",
       "\n",
       "    .dataframe thead th {\n",
       "        text-align: right;\n",
       "    }\n",
       "</style>\n",
       "<table border=\"1\" class=\"dataframe\">\n",
       "  <thead>\n",
       "    <tr style=\"text-align: right;\">\n",
       "      <th>dados</th>\n",
       "      <th>Store</th>\n",
       "      <th>Date</th>\n",
       "      <th>Weekly_Sales</th>\n",
       "      <th>Holiday_Flag</th>\n",
       "      <th>Temperature</th>\n",
       "    </tr>\n",
       "    <tr>\n",
       "      <th>indice</th>\n",
       "      <th></th>\n",
       "      <th></th>\n",
       "      <th></th>\n",
       "      <th></th>\n",
       "      <th></th>\n",
       "    </tr>\n",
       "  </thead>\n",
       "  <tbody>\n",
       "    <tr>\n",
       "      <th>0</th>\n",
       "      <td>1</td>\n",
       "      <td>2010-05-02</td>\n",
       "      <td>1643690.90</td>\n",
       "      <td>False</td>\n",
       "      <td>42.31</td>\n",
       "    </tr>\n",
       "    <tr>\n",
       "      <th>1</th>\n",
       "      <td>1</td>\n",
       "      <td>2010-12-02</td>\n",
       "      <td>1641957.44</td>\n",
       "      <td>True</td>\n",
       "      <td>38.51</td>\n",
       "    </tr>\n",
       "    <tr>\n",
       "      <th>2</th>\n",
       "      <td>1</td>\n",
       "      <td>2010-02-19</td>\n",
       "      <td>1611968.17</td>\n",
       "      <td>False</td>\n",
       "      <td>39.93</td>\n",
       "    </tr>\n",
       "    <tr>\n",
       "      <th>3</th>\n",
       "      <td>1</td>\n",
       "      <td>2010-02-26</td>\n",
       "      <td>1409727.59</td>\n",
       "      <td>False</td>\n",
       "      <td>46.63</td>\n",
       "    </tr>\n",
       "    <tr>\n",
       "      <th>4</th>\n",
       "      <td>1</td>\n",
       "      <td>2010-05-03</td>\n",
       "      <td>1554806.68</td>\n",
       "      <td>False</td>\n",
       "      <td>46.50</td>\n",
       "    </tr>\n",
       "    <tr>\n",
       "      <th>...</th>\n",
       "      <td>...</td>\n",
       "      <td>...</td>\n",
       "      <td>...</td>\n",
       "      <td>...</td>\n",
       "      <td>...</td>\n",
       "    </tr>\n",
       "    <tr>\n",
       "      <th>138</th>\n",
       "      <td>1</td>\n",
       "      <td>2012-09-28</td>\n",
       "      <td>1437059.26</td>\n",
       "      <td>False</td>\n",
       "      <td>76.08</td>\n",
       "    </tr>\n",
       "    <tr>\n",
       "      <th>139</th>\n",
       "      <td>1</td>\n",
       "      <td>2012-05-10</td>\n",
       "      <td>1670785.97</td>\n",
       "      <td>False</td>\n",
       "      <td>68.55</td>\n",
       "    </tr>\n",
       "    <tr>\n",
       "      <th>140</th>\n",
       "      <td>1</td>\n",
       "      <td>2012-12-10</td>\n",
       "      <td>1573072.81</td>\n",
       "      <td>False</td>\n",
       "      <td>62.99</td>\n",
       "    </tr>\n",
       "    <tr>\n",
       "      <th>141</th>\n",
       "      <td>1</td>\n",
       "      <td>2012-10-19</td>\n",
       "      <td>1508068.77</td>\n",
       "      <td>False</td>\n",
       "      <td>67.97</td>\n",
       "    </tr>\n",
       "    <tr>\n",
       "      <th>142</th>\n",
       "      <td>1</td>\n",
       "      <td>2012-10-26</td>\n",
       "      <td>1493659.74</td>\n",
       "      <td>False</td>\n",
       "      <td>69.16</td>\n",
       "    </tr>\n",
       "  </tbody>\n",
       "</table>\n",
       "<p>143 rows × 5 columns</p>\n",
       "</div>"
      ],
      "text/plain": [
       "dados  Store       Date  Weekly_Sales  Holiday_Flag  Temperature\n",
       "indice                                                          \n",
       "0          1 2010-05-02    1643690.90         False        42.31\n",
       "1          1 2010-12-02    1641957.44          True        38.51\n",
       "2          1 2010-02-19    1611968.17         False        39.93\n",
       "3          1 2010-02-26    1409727.59         False        46.63\n",
       "4          1 2010-05-03    1554806.68         False        46.50\n",
       "...      ...        ...           ...           ...          ...\n",
       "138        1 2012-09-28    1437059.26         False        76.08\n",
       "139        1 2012-05-10    1670785.97         False        68.55\n",
       "140        1 2012-12-10    1573072.81         False        62.99\n",
       "141        1 2012-10-19    1508068.77         False        67.97\n",
       "142        1 2012-10-26    1493659.74         False        69.16\n",
       "\n",
       "[143 rows x 5 columns]"
      ]
     },
     "execution_count": 85,
     "metadata": {},
     "output_type": "execute_result"
    }
   ],
   "source": [
    "df_aux = df_aux.query(\"Store==1\")\n",
    "df_aux"
   ]
  },
  {
   "cell_type": "markdown",
   "id": "56dae7c5",
   "metadata": {},
   "source": [
    "- O método assign atribui novas colunas ao DataFrame, podendo até sobrescrevê-la caso a coluna já exista"
   ]
  },
  {
   "cell_type": "code",
   "execution_count": 86,
   "id": "905b69e2",
   "metadata": {},
   "outputs": [
    {
     "data": {
      "application/vnd.microsoft.datawrangler.viewer.v0+json": {
       "columns": [
        {
         "name": "index",
         "rawType": "int64",
         "type": "integer"
        },
        {
         "name": "text",
         "rawType": "object",
         "type": "string"
        }
       ],
       "ref": "5c161811-9972-4038-9ebe-37b6dd785621",
       "rows": [
        [
         "0",
         "Saturday: Weekend (Not working day)"
        ],
        [
         "1",
         "Sunday: Weekend (Not working day)"
        ],
        [
         "2",
         "Monday: Doctor appointment at 2:45pm."
        ],
        [
         "3",
         "Tuesday: Dentist appointment at 11:30 am."
        ],
        [
         "4",
         "Wednesday: basketball game At 7:00pm"
        ],
        [
         "5",
         "Thursday: Back home by 11:15 pm."
        ],
        [
         "6",
         "Friday: Take the train at 08:10 am."
        ]
       ],
       "shape": {
        "columns": 1,
        "rows": 7
       }
      },
      "text/html": [
       "<div>\n",
       "<style scoped>\n",
       "    .dataframe tbody tr th:only-of-type {\n",
       "        vertical-align: middle;\n",
       "    }\n",
       "\n",
       "    .dataframe tbody tr th {\n",
       "        vertical-align: top;\n",
       "    }\n",
       "\n",
       "    .dataframe thead th {\n",
       "        text-align: right;\n",
       "    }\n",
       "</style>\n",
       "<table border=\"1\" class=\"dataframe\">\n",
       "  <thead>\n",
       "    <tr style=\"text-align: right;\">\n",
       "      <th></th>\n",
       "      <th>text</th>\n",
       "    </tr>\n",
       "  </thead>\n",
       "  <tbody>\n",
       "    <tr>\n",
       "      <th>0</th>\n",
       "      <td>Saturday: Weekend (Not working day)</td>\n",
       "    </tr>\n",
       "    <tr>\n",
       "      <th>1</th>\n",
       "      <td>Sunday: Weekend (Not working day)</td>\n",
       "    </tr>\n",
       "    <tr>\n",
       "      <th>2</th>\n",
       "      <td>Monday: Doctor appointment at 2:45pm.</td>\n",
       "    </tr>\n",
       "    <tr>\n",
       "      <th>3</th>\n",
       "      <td>Tuesday: Dentist appointment at 11:30 am.</td>\n",
       "    </tr>\n",
       "    <tr>\n",
       "      <th>4</th>\n",
       "      <td>Wednesday: basketball game At 7:00pm</td>\n",
       "    </tr>\n",
       "    <tr>\n",
       "      <th>5</th>\n",
       "      <td>Thursday: Back home by 11:15 pm.</td>\n",
       "    </tr>\n",
       "    <tr>\n",
       "      <th>6</th>\n",
       "      <td>Friday: Take the train at 08:10 am.</td>\n",
       "    </tr>\n",
       "  </tbody>\n",
       "</table>\n",
       "</div>"
      ],
      "text/plain": [
       "                                        text\n",
       "0        Saturday: Weekend (Not working day)\n",
       "1          Sunday: Weekend (Not working day)\n",
       "2      Monday: Doctor appointment at 2:45pm.\n",
       "3  Tuesday: Dentist appointment at 11:30 am.\n",
       "4       Wednesday: basketball game At 7:00pm\n",
       "5           Thursday: Back home by 11:15 pm.\n",
       "6        Friday: Take the train at 08:10 am."
      ]
     },
     "execution_count": 86,
     "metadata": {},
     "output_type": "execute_result"
    }
   ],
   "source": [
    "time_sentences = [\"Saturday: Weekend (Not working day)\",\n",
    "                  \"Sunday: Weekend (Not working day)\",\n",
    "                  \"Monday: Doctor appointment at 2:45pm.\",\n",
    "                  \"Tuesday: Dentist appointment at 11:30 am.\",\n",
    "                  \"Wednesday: basketball game At 7:00pm\",\n",
    "                  \"Thursday: Back home by 11:15 pm.\",\n",
    "                  \"Friday: Take the train at 08:10 am.\"]\n",
    "\n",
    "df_sentences = pd.DataFrame(time_sentences, columns=['text'])\n",
    "df_sentences"
   ]
  },
  {
   "cell_type": "code",
   "execution_count": 87,
   "id": "f650df0d",
   "metadata": {},
   "outputs": [
    {
     "data": {
      "application/vnd.microsoft.datawrangler.viewer.v0+json": {
       "columns": [
        {
         "name": "index",
         "rawType": "int64",
         "type": "integer"
        },
        {
         "name": "text",
         "rawType": "object",
         "type": "string"
        },
        {
         "name": "text_len",
         "rawType": "int64",
         "type": "integer"
        },
        {
         "name": "word_count",
         "rawType": "int64",
         "type": "integer"
        },
        {
         "name": "weekend",
         "rawType": "bool",
         "type": "boolean"
        }
       ],
       "ref": "6d7bc546-4c02-4874-a0ff-a4d04305ed3b",
       "rows": [
        [
         "0",
         "saturday: weekend (not working day)",
         "35",
         "5",
         "True"
        ],
        [
         "1",
         "sunday: weekend (not working day)",
         "33",
         "5",
         "True"
        ],
        [
         "2",
         "monday: doctor appointment at 2:45pm.",
         "37",
         "5",
         "False"
        ],
        [
         "3",
         "tuesday: dentist appointment at 11:30 am.",
         "41",
         "6",
         "False"
        ],
        [
         "4",
         "wednesday: basketball game at 7:00pm",
         "36",
         "5",
         "False"
        ],
        [
         "5",
         "thursday: back home by 11:15 pm.",
         "32",
         "6",
         "False"
        ],
        [
         "6",
         "friday: take the train at 08:10 am.",
         "35",
         "7",
         "False"
        ]
       ],
       "shape": {
        "columns": 4,
        "rows": 7
       }
      },
      "text/html": [
       "<div>\n",
       "<style scoped>\n",
       "    .dataframe tbody tr th:only-of-type {\n",
       "        vertical-align: middle;\n",
       "    }\n",
       "\n",
       "    .dataframe tbody tr th {\n",
       "        vertical-align: top;\n",
       "    }\n",
       "\n",
       "    .dataframe thead th {\n",
       "        text-align: right;\n",
       "    }\n",
       "</style>\n",
       "<table border=\"1\" class=\"dataframe\">\n",
       "  <thead>\n",
       "    <tr style=\"text-align: right;\">\n",
       "      <th></th>\n",
       "      <th>text</th>\n",
       "      <th>text_len</th>\n",
       "      <th>word_count</th>\n",
       "      <th>weekend</th>\n",
       "    </tr>\n",
       "  </thead>\n",
       "  <tbody>\n",
       "    <tr>\n",
       "      <th>0</th>\n",
       "      <td>saturday: weekend (not working day)</td>\n",
       "      <td>35</td>\n",
       "      <td>5</td>\n",
       "      <td>True</td>\n",
       "    </tr>\n",
       "    <tr>\n",
       "      <th>1</th>\n",
       "      <td>sunday: weekend (not working day)</td>\n",
       "      <td>33</td>\n",
       "      <td>5</td>\n",
       "      <td>True</td>\n",
       "    </tr>\n",
       "    <tr>\n",
       "      <th>2</th>\n",
       "      <td>monday: doctor appointment at 2:45pm.</td>\n",
       "      <td>37</td>\n",
       "      <td>5</td>\n",
       "      <td>False</td>\n",
       "    </tr>\n",
       "    <tr>\n",
       "      <th>3</th>\n",
       "      <td>tuesday: dentist appointment at 11:30 am.</td>\n",
       "      <td>41</td>\n",
       "      <td>6</td>\n",
       "      <td>False</td>\n",
       "    </tr>\n",
       "    <tr>\n",
       "      <th>4</th>\n",
       "      <td>wednesday: basketball game at 7:00pm</td>\n",
       "      <td>36</td>\n",
       "      <td>5</td>\n",
       "      <td>False</td>\n",
       "    </tr>\n",
       "    <tr>\n",
       "      <th>5</th>\n",
       "      <td>thursday: back home by 11:15 pm.</td>\n",
       "      <td>32</td>\n",
       "      <td>6</td>\n",
       "      <td>False</td>\n",
       "    </tr>\n",
       "    <tr>\n",
       "      <th>6</th>\n",
       "      <td>friday: take the train at 08:10 am.</td>\n",
       "      <td>35</td>\n",
       "      <td>7</td>\n",
       "      <td>False</td>\n",
       "    </tr>\n",
       "  </tbody>\n",
       "</table>\n",
       "</div>"
      ],
      "text/plain": [
       "                                        text  text_len  word_count  weekend\n",
       "0        saturday: weekend (not working day)        35           5     True\n",
       "1          sunday: weekend (not working day)        33           5     True\n",
       "2      monday: doctor appointment at 2:45pm.        37           5    False\n",
       "3  tuesday: dentist appointment at 11:30 am.        41           6    False\n",
       "4       wednesday: basketball game at 7:00pm        36           5    False\n",
       "5           thursday: back home by 11:15 pm.        32           6    False\n",
       "6        friday: take the train at 08:10 am.        35           7    False"
      ]
     },
     "execution_count": 87,
     "metadata": {},
     "output_type": "execute_result"
    }
   ],
   "source": [
    "df_sentences = df_sentences.assign(text=df_sentences.text.str.lower(),\n",
    "                                    text_len=df_sentences.text.str.len(),\n",
    "                                    word_count=df_sentences.text.str.count(\" \") + 1,\n",
    "                                    weekend=df_sentences.text.str.contains(\"saturday|sunday\", case=False)\n",
    "                                )\n",
    "df_sentences"
   ]
  },
  {
   "cell_type": "markdown",
   "id": "4fd0b040",
   "metadata": {},
   "source": [
    "- Renomeando as colunas"
   ]
  },
  {
   "cell_type": "code",
   "execution_count": 88,
   "id": "bf5aaaee",
   "metadata": {},
   "outputs": [
    {
     "data": {
      "application/vnd.microsoft.datawrangler.viewer.v0+json": {
       "columns": [
        {
         "name": "indice",
         "rawType": "int64",
         "type": "integer"
        },
        {
         "name": "loja",
         "rawType": "category",
         "type": "unknown"
        },
        {
         "name": "data",
         "rawType": "datetime64[ns]",
         "type": "datetime"
        },
        {
         "name": "vendas_semanais",
         "rawType": "float64",
         "type": "float"
        },
        {
         "name": "feriado",
         "rawType": "bool",
         "type": "boolean"
        },
        {
         "name": "temperatura",
         "rawType": "float64",
         "type": "float"
        }
       ],
       "ref": "41162ff2-68df-497d-932e-799d0ea9e9fb",
       "rows": [
        [
         "0",
         "1",
         "2010-05-02 00:00:00",
         "1643690.9",
         "False",
         "42.31"
        ],
        [
         "1",
         "1",
         "2010-12-02 00:00:00",
         "1641957.44",
         "True",
         "38.51"
        ],
        [
         "2",
         "1",
         "2010-02-19 00:00:00",
         "1611968.17",
         "False",
         "39.93"
        ],
        [
         "3",
         "1",
         "2010-02-26 00:00:00",
         "1409727.59",
         "False",
         "46.63"
        ],
        [
         "4",
         "1",
         "2010-05-03 00:00:00",
         "1554806.68",
         "False",
         "46.5"
        ],
        [
         "5",
         "1",
         "2010-12-03 00:00:00",
         "1439541.59",
         "False",
         "57.79"
        ],
        [
         "6",
         "1",
         "2010-03-19 00:00:00",
         "1472515.79",
         "False",
         "54.58"
        ],
        [
         "7",
         "1",
         "2010-03-26 00:00:00",
         "1404429.92",
         "False",
         "51.45"
        ],
        [
         "8",
         "1",
         "2010-02-04 00:00:00",
         "1594968.28",
         "False",
         "62.27"
        ],
        [
         "9",
         "1",
         "2010-09-04 00:00:00",
         "1545418.53",
         "False",
         "65.86"
        ],
        [
         "10",
         "1",
         "2010-04-16 00:00:00",
         "1466058.28",
         "False",
         "66.32"
        ],
        [
         "11",
         "1",
         "2010-04-23 00:00:00",
         "1391256.12",
         "False",
         "64.84"
        ],
        [
         "12",
         "1",
         "2010-04-30 00:00:00",
         "1425100.71",
         "False",
         "67.41"
        ],
        [
         "13",
         "1",
         "2010-07-05 00:00:00",
         "1603955.12",
         "False",
         "72.55"
        ],
        [
         "14",
         "1",
         "2010-05-14 00:00:00",
         "1494251.5",
         "False",
         "74.78"
        ],
        [
         "15",
         "1",
         "2010-05-21 00:00:00",
         "1399662.07",
         "False",
         "76.44"
        ],
        [
         "16",
         "1",
         "2010-05-28 00:00:00",
         "1432069.95",
         "False",
         "80.44"
        ],
        [
         "17",
         "1",
         "2010-04-06 00:00:00",
         "1615524.71",
         "False",
         "80.69"
        ],
        [
         "18",
         "1",
         "2010-11-06 00:00:00",
         "1542561.09",
         "False",
         "80.43"
        ],
        [
         "19",
         "1",
         "2010-06-18 00:00:00",
         "1503284.06",
         "False",
         "84.11"
        ],
        [
         "20",
         "1",
         "2010-06-25 00:00:00",
         "1422711.6",
         "False",
         "84.34"
        ],
        [
         "21",
         "1",
         "2010-02-07 00:00:00",
         "1492418.14",
         "False",
         "80.91"
        ],
        [
         "22",
         "1",
         "2010-09-07 00:00:00",
         "1546074.18",
         "False",
         "80.48"
        ],
        [
         "23",
         "1",
         "2010-07-16 00:00:00",
         "1448938.92",
         "False",
         "83.15"
        ],
        [
         "24",
         "1",
         "2010-07-23 00:00:00",
         "1385065.2",
         "False",
         "83.36"
        ],
        [
         "25",
         "1",
         "2010-07-30 00:00:00",
         "1371986.6",
         "False",
         "81.84"
        ],
        [
         "26",
         "1",
         "2010-06-08 00:00:00",
         "1605491.78",
         "False",
         "87.16"
        ],
        [
         "27",
         "1",
         "2010-08-13 00:00:00",
         "1508237.76",
         "False",
         "87.0"
        ],
        [
         "28",
         "1",
         "2010-08-20 00:00:00",
         "1513080.49",
         "False",
         "86.65"
        ],
        [
         "29",
         "1",
         "2010-08-27 00:00:00",
         "1449142.92",
         "False",
         "85.22"
        ],
        [
         "30",
         "1",
         "2010-03-09 00:00:00",
         "1540163.53",
         "False",
         "81.21"
        ],
        [
         "31",
         "1",
         "2010-10-09 00:00:00",
         "1507460.69",
         "True",
         "78.69"
        ],
        [
         "32",
         "1",
         "2010-09-17 00:00:00",
         "1430378.67",
         "False",
         "82.11"
        ],
        [
         "33",
         "1",
         "2010-09-24 00:00:00",
         "1351791.03",
         "False",
         "80.94"
        ],
        [
         "34",
         "1",
         "2010-01-10 00:00:00",
         "1453329.5",
         "False",
         "71.89"
        ],
        [
         "35",
         "1",
         "2010-08-10 00:00:00",
         "1508239.93",
         "False",
         "63.93"
        ],
        [
         "36",
         "1",
         "2010-10-15 00:00:00",
         "1459409.1",
         "False",
         "67.18"
        ],
        [
         "37",
         "1",
         "2010-10-22 00:00:00",
         "1345454.0",
         "False",
         "69.86"
        ],
        [
         "38",
         "1",
         "2010-10-29 00:00:00",
         "1384209.22",
         "False",
         "69.64"
        ],
        [
         "39",
         "1",
         "2010-05-11 00:00:00",
         "1551659.28",
         "False",
         "58.74"
        ],
        [
         "40",
         "1",
         "2010-12-11 00:00:00",
         "1494479.49",
         "False",
         "59.61"
        ],
        [
         "41",
         "1",
         "2010-11-19 00:00:00",
         "1483784.18",
         "False",
         "51.41"
        ],
        [
         "42",
         "1",
         "2010-11-26 00:00:00",
         "1955624.11",
         "True",
         "64.52"
        ],
        [
         "43",
         "1",
         "2010-03-12 00:00:00",
         "1548033.78",
         "False",
         "49.27"
        ],
        [
         "44",
         "1",
         "2010-10-12 00:00:00",
         "1682614.26",
         "False",
         "46.33"
        ],
        [
         "45",
         "1",
         "2010-12-17 00:00:00",
         "1891034.93",
         "False",
         "49.84"
        ],
        [
         "46",
         "1",
         "2010-12-24 00:00:00",
         "2387950.2",
         "False",
         "52.33"
        ],
        [
         "47",
         "1",
         "2010-12-31 00:00:00",
         "1367320.01",
         "True",
         "48.43"
        ],
        [
         "48",
         "1",
         "2011-07-01 00:00:00",
         "1444732.28",
         "False",
         "48.27"
        ],
        [
         "49",
         "1",
         "2011-01-14 00:00:00",
         "1391013.96",
         "False",
         "35.4"
        ]
       ],
       "shape": {
        "columns": 5,
        "rows": 143
       }
      },
      "text/html": [
       "<div>\n",
       "<style scoped>\n",
       "    .dataframe tbody tr th:only-of-type {\n",
       "        vertical-align: middle;\n",
       "    }\n",
       "\n",
       "    .dataframe tbody tr th {\n",
       "        vertical-align: top;\n",
       "    }\n",
       "\n",
       "    .dataframe thead th {\n",
       "        text-align: right;\n",
       "    }\n",
       "</style>\n",
       "<table border=\"1\" class=\"dataframe\">\n",
       "  <thead>\n",
       "    <tr style=\"text-align: right;\">\n",
       "      <th>dados</th>\n",
       "      <th>loja</th>\n",
       "      <th>data</th>\n",
       "      <th>vendas_semanais</th>\n",
       "      <th>feriado</th>\n",
       "      <th>temperatura</th>\n",
       "    </tr>\n",
       "    <tr>\n",
       "      <th>indice</th>\n",
       "      <th></th>\n",
       "      <th></th>\n",
       "      <th></th>\n",
       "      <th></th>\n",
       "      <th></th>\n",
       "    </tr>\n",
       "  </thead>\n",
       "  <tbody>\n",
       "    <tr>\n",
       "      <th>0</th>\n",
       "      <td>1</td>\n",
       "      <td>2010-05-02</td>\n",
       "      <td>1643690.90</td>\n",
       "      <td>False</td>\n",
       "      <td>42.31</td>\n",
       "    </tr>\n",
       "    <tr>\n",
       "      <th>1</th>\n",
       "      <td>1</td>\n",
       "      <td>2010-12-02</td>\n",
       "      <td>1641957.44</td>\n",
       "      <td>True</td>\n",
       "      <td>38.51</td>\n",
       "    </tr>\n",
       "    <tr>\n",
       "      <th>2</th>\n",
       "      <td>1</td>\n",
       "      <td>2010-02-19</td>\n",
       "      <td>1611968.17</td>\n",
       "      <td>False</td>\n",
       "      <td>39.93</td>\n",
       "    </tr>\n",
       "    <tr>\n",
       "      <th>3</th>\n",
       "      <td>1</td>\n",
       "      <td>2010-02-26</td>\n",
       "      <td>1409727.59</td>\n",
       "      <td>False</td>\n",
       "      <td>46.63</td>\n",
       "    </tr>\n",
       "    <tr>\n",
       "      <th>4</th>\n",
       "      <td>1</td>\n",
       "      <td>2010-05-03</td>\n",
       "      <td>1554806.68</td>\n",
       "      <td>False</td>\n",
       "      <td>46.50</td>\n",
       "    </tr>\n",
       "    <tr>\n",
       "      <th>...</th>\n",
       "      <td>...</td>\n",
       "      <td>...</td>\n",
       "      <td>...</td>\n",
       "      <td>...</td>\n",
       "      <td>...</td>\n",
       "    </tr>\n",
       "    <tr>\n",
       "      <th>138</th>\n",
       "      <td>1</td>\n",
       "      <td>2012-09-28</td>\n",
       "      <td>1437059.26</td>\n",
       "      <td>False</td>\n",
       "      <td>76.08</td>\n",
       "    </tr>\n",
       "    <tr>\n",
       "      <th>139</th>\n",
       "      <td>1</td>\n",
       "      <td>2012-05-10</td>\n",
       "      <td>1670785.97</td>\n",
       "      <td>False</td>\n",
       "      <td>68.55</td>\n",
       "    </tr>\n",
       "    <tr>\n",
       "      <th>140</th>\n",
       "      <td>1</td>\n",
       "      <td>2012-12-10</td>\n",
       "      <td>1573072.81</td>\n",
       "      <td>False</td>\n",
       "      <td>62.99</td>\n",
       "    </tr>\n",
       "    <tr>\n",
       "      <th>141</th>\n",
       "      <td>1</td>\n",
       "      <td>2012-10-19</td>\n",
       "      <td>1508068.77</td>\n",
       "      <td>False</td>\n",
       "      <td>67.97</td>\n",
       "    </tr>\n",
       "    <tr>\n",
       "      <th>142</th>\n",
       "      <td>1</td>\n",
       "      <td>2012-10-26</td>\n",
       "      <td>1493659.74</td>\n",
       "      <td>False</td>\n",
       "      <td>69.16</td>\n",
       "    </tr>\n",
       "  </tbody>\n",
       "</table>\n",
       "<p>143 rows × 5 columns</p>\n",
       "</div>"
      ],
      "text/plain": [
       "dados  loja       data  vendas_semanais  feriado  temperatura\n",
       "indice                                                       \n",
       "0         1 2010-05-02       1643690.90    False        42.31\n",
       "1         1 2010-12-02       1641957.44     True        38.51\n",
       "2         1 2010-02-19       1611968.17    False        39.93\n",
       "3         1 2010-02-26       1409727.59    False        46.63\n",
       "4         1 2010-05-03       1554806.68    False        46.50\n",
       "...     ...        ...              ...      ...          ...\n",
       "138       1 2012-09-28       1437059.26    False        76.08\n",
       "139       1 2012-05-10       1670785.97    False        68.55\n",
       "140       1 2012-12-10       1573072.81    False        62.99\n",
       "141       1 2012-10-19       1508068.77    False        67.97\n",
       "142       1 2012-10-26       1493659.74    False        69.16\n",
       "\n",
       "[143 rows x 5 columns]"
      ]
     },
     "execution_count": 88,
     "metadata": {},
     "output_type": "execute_result"
    }
   ],
   "source": [
    "df_aux = df_aux.rename({\"Store\": \"loja\", \n",
    "                        \"Date\": \"data\", \n",
    "                        \"Weekly_Sales\": \"vendas_semanais\",\n",
    "                        \"Holiday_Flag\": \"feriado\",\n",
    "                        \"Temperature\": \"temperatura\"\n",
    "                       }, axis=1)\n",
    "df_aux"
   ]
  },
  {
   "cell_type": "markdown",
   "id": "a1700589",
   "metadata": {},
   "source": [
    "- Alterando formatação dos valores"
   ]
  },
  {
   "cell_type": "code",
   "execution_count": 89,
   "id": "bc997d38",
   "metadata": {},
   "outputs": [
    {
     "data": {
      "text/html": [
       "<style type=\"text/css\">\n",
       "</style>\n",
       "<table id=\"T_78c7f\">\n",
       "  <thead>\n",
       "    <tr>\n",
       "      <th class=\"index_name level0\" >dados</th>\n",
       "      <th id=\"T_78c7f_level0_col0\" class=\"col_heading level0 col0\" >loja</th>\n",
       "      <th id=\"T_78c7f_level0_col1\" class=\"col_heading level0 col1\" >data</th>\n",
       "      <th id=\"T_78c7f_level0_col2\" class=\"col_heading level0 col2\" >vendas_semanais</th>\n",
       "      <th id=\"T_78c7f_level0_col3\" class=\"col_heading level0 col3\" >feriado</th>\n",
       "      <th id=\"T_78c7f_level0_col4\" class=\"col_heading level0 col4\" >temperatura</th>\n",
       "    </tr>\n",
       "    <tr>\n",
       "      <th class=\"index_name level0\" >indice</th>\n",
       "      <th class=\"blank col0\" >&nbsp;</th>\n",
       "      <th class=\"blank col1\" >&nbsp;</th>\n",
       "      <th class=\"blank col2\" >&nbsp;</th>\n",
       "      <th class=\"blank col3\" >&nbsp;</th>\n",
       "      <th class=\"blank col4\" >&nbsp;</th>\n",
       "    </tr>\n",
       "  </thead>\n",
       "  <tbody>\n",
       "    <tr>\n",
       "      <th id=\"T_78c7f_level0_row0\" class=\"row_heading level0 row0\" >0</th>\n",
       "      <td id=\"T_78c7f_row0_col0\" class=\"data row0 col0\" >1</td>\n",
       "      <td id=\"T_78c7f_row0_col1\" class=\"data row0 col1\" >02/05/10</td>\n",
       "      <td id=\"T_78c7f_row0_col2\" class=\"data row0 col2\" >$ 1643690.90</td>\n",
       "      <td id=\"T_78c7f_row0_col3\" class=\"data row0 col3\" >False</td>\n",
       "      <td id=\"T_78c7f_row0_col4\" class=\"data row0 col4\" >42.31º</td>\n",
       "    </tr>\n",
       "    <tr>\n",
       "      <th id=\"T_78c7f_level0_row1\" class=\"row_heading level0 row1\" >1</th>\n",
       "      <td id=\"T_78c7f_row1_col0\" class=\"data row1 col0\" >1</td>\n",
       "      <td id=\"T_78c7f_row1_col1\" class=\"data row1 col1\" >02/12/10</td>\n",
       "      <td id=\"T_78c7f_row1_col2\" class=\"data row1 col2\" >$ 1641957.44</td>\n",
       "      <td id=\"T_78c7f_row1_col3\" class=\"data row1 col3\" >True</td>\n",
       "      <td id=\"T_78c7f_row1_col4\" class=\"data row1 col4\" >38.51º</td>\n",
       "    </tr>\n",
       "    <tr>\n",
       "      <th id=\"T_78c7f_level0_row2\" class=\"row_heading level0 row2\" >2</th>\n",
       "      <td id=\"T_78c7f_row2_col0\" class=\"data row2 col0\" >1</td>\n",
       "      <td id=\"T_78c7f_row2_col1\" class=\"data row2 col1\" >19/02/10</td>\n",
       "      <td id=\"T_78c7f_row2_col2\" class=\"data row2 col2\" >$ 1611968.17</td>\n",
       "      <td id=\"T_78c7f_row2_col3\" class=\"data row2 col3\" >False</td>\n",
       "      <td id=\"T_78c7f_row2_col4\" class=\"data row2 col4\" >39.93º</td>\n",
       "    </tr>\n",
       "    <tr>\n",
       "      <th id=\"T_78c7f_level0_row3\" class=\"row_heading level0 row3\" >3</th>\n",
       "      <td id=\"T_78c7f_row3_col0\" class=\"data row3 col0\" >1</td>\n",
       "      <td id=\"T_78c7f_row3_col1\" class=\"data row3 col1\" >26/02/10</td>\n",
       "      <td id=\"T_78c7f_row3_col2\" class=\"data row3 col2\" >$ 1409727.59</td>\n",
       "      <td id=\"T_78c7f_row3_col3\" class=\"data row3 col3\" >False</td>\n",
       "      <td id=\"T_78c7f_row3_col4\" class=\"data row3 col4\" >46.63º</td>\n",
       "    </tr>\n",
       "    <tr>\n",
       "      <th id=\"T_78c7f_level0_row4\" class=\"row_heading level0 row4\" >4</th>\n",
       "      <td id=\"T_78c7f_row4_col0\" class=\"data row4 col0\" >1</td>\n",
       "      <td id=\"T_78c7f_row4_col1\" class=\"data row4 col1\" >03/05/10</td>\n",
       "      <td id=\"T_78c7f_row4_col2\" class=\"data row4 col2\" >$ 1554806.68</td>\n",
       "      <td id=\"T_78c7f_row4_col3\" class=\"data row4 col3\" >False</td>\n",
       "      <td id=\"T_78c7f_row4_col4\" class=\"data row4 col4\" >46.50º</td>\n",
       "    </tr>\n",
       "    <tr>\n",
       "      <th id=\"T_78c7f_level0_row5\" class=\"row_heading level0 row5\" >5</th>\n",
       "      <td id=\"T_78c7f_row5_col0\" class=\"data row5 col0\" >1</td>\n",
       "      <td id=\"T_78c7f_row5_col1\" class=\"data row5 col1\" >03/12/10</td>\n",
       "      <td id=\"T_78c7f_row5_col2\" class=\"data row5 col2\" >$ 1439541.59</td>\n",
       "      <td id=\"T_78c7f_row5_col3\" class=\"data row5 col3\" >False</td>\n",
       "      <td id=\"T_78c7f_row5_col4\" class=\"data row5 col4\" >57.79º</td>\n",
       "    </tr>\n",
       "    <tr>\n",
       "      <th id=\"T_78c7f_level0_row6\" class=\"row_heading level0 row6\" >6</th>\n",
       "      <td id=\"T_78c7f_row6_col0\" class=\"data row6 col0\" >1</td>\n",
       "      <td id=\"T_78c7f_row6_col1\" class=\"data row6 col1\" >19/03/10</td>\n",
       "      <td id=\"T_78c7f_row6_col2\" class=\"data row6 col2\" >$ 1472515.79</td>\n",
       "      <td id=\"T_78c7f_row6_col3\" class=\"data row6 col3\" >False</td>\n",
       "      <td id=\"T_78c7f_row6_col4\" class=\"data row6 col4\" >54.58º</td>\n",
       "    </tr>\n",
       "    <tr>\n",
       "      <th id=\"T_78c7f_level0_row7\" class=\"row_heading level0 row7\" >7</th>\n",
       "      <td id=\"T_78c7f_row7_col0\" class=\"data row7 col0\" >1</td>\n",
       "      <td id=\"T_78c7f_row7_col1\" class=\"data row7 col1\" >26/03/10</td>\n",
       "      <td id=\"T_78c7f_row7_col2\" class=\"data row7 col2\" >$ 1404429.92</td>\n",
       "      <td id=\"T_78c7f_row7_col3\" class=\"data row7 col3\" >False</td>\n",
       "      <td id=\"T_78c7f_row7_col4\" class=\"data row7 col4\" >51.45º</td>\n",
       "    </tr>\n",
       "    <tr>\n",
       "      <th id=\"T_78c7f_level0_row8\" class=\"row_heading level0 row8\" >8</th>\n",
       "      <td id=\"T_78c7f_row8_col0\" class=\"data row8 col0\" >1</td>\n",
       "      <td id=\"T_78c7f_row8_col1\" class=\"data row8 col1\" >04/02/10</td>\n",
       "      <td id=\"T_78c7f_row8_col2\" class=\"data row8 col2\" >$ 1594968.28</td>\n",
       "      <td id=\"T_78c7f_row8_col3\" class=\"data row8 col3\" >False</td>\n",
       "      <td id=\"T_78c7f_row8_col4\" class=\"data row8 col4\" >62.27º</td>\n",
       "    </tr>\n",
       "    <tr>\n",
       "      <th id=\"T_78c7f_level0_row9\" class=\"row_heading level0 row9\" >9</th>\n",
       "      <td id=\"T_78c7f_row9_col0\" class=\"data row9 col0\" >1</td>\n",
       "      <td id=\"T_78c7f_row9_col1\" class=\"data row9 col1\" >04/09/10</td>\n",
       "      <td id=\"T_78c7f_row9_col2\" class=\"data row9 col2\" >$ 1545418.53</td>\n",
       "      <td id=\"T_78c7f_row9_col3\" class=\"data row9 col3\" >False</td>\n",
       "      <td id=\"T_78c7f_row9_col4\" class=\"data row9 col4\" >65.86º</td>\n",
       "    </tr>\n",
       "    <tr>\n",
       "      <th id=\"T_78c7f_level0_row10\" class=\"row_heading level0 row10\" >10</th>\n",
       "      <td id=\"T_78c7f_row10_col0\" class=\"data row10 col0\" >1</td>\n",
       "      <td id=\"T_78c7f_row10_col1\" class=\"data row10 col1\" >16/04/10</td>\n",
       "      <td id=\"T_78c7f_row10_col2\" class=\"data row10 col2\" >$ 1466058.28</td>\n",
       "      <td id=\"T_78c7f_row10_col3\" class=\"data row10 col3\" >False</td>\n",
       "      <td id=\"T_78c7f_row10_col4\" class=\"data row10 col4\" >66.32º</td>\n",
       "    </tr>\n",
       "    <tr>\n",
       "      <th id=\"T_78c7f_level0_row11\" class=\"row_heading level0 row11\" >11</th>\n",
       "      <td id=\"T_78c7f_row11_col0\" class=\"data row11 col0\" >1</td>\n",
       "      <td id=\"T_78c7f_row11_col1\" class=\"data row11 col1\" >23/04/10</td>\n",
       "      <td id=\"T_78c7f_row11_col2\" class=\"data row11 col2\" >$ 1391256.12</td>\n",
       "      <td id=\"T_78c7f_row11_col3\" class=\"data row11 col3\" >False</td>\n",
       "      <td id=\"T_78c7f_row11_col4\" class=\"data row11 col4\" >64.84º</td>\n",
       "    </tr>\n",
       "    <tr>\n",
       "      <th id=\"T_78c7f_level0_row12\" class=\"row_heading level0 row12\" >12</th>\n",
       "      <td id=\"T_78c7f_row12_col0\" class=\"data row12 col0\" >1</td>\n",
       "      <td id=\"T_78c7f_row12_col1\" class=\"data row12 col1\" >30/04/10</td>\n",
       "      <td id=\"T_78c7f_row12_col2\" class=\"data row12 col2\" >$ 1425100.71</td>\n",
       "      <td id=\"T_78c7f_row12_col3\" class=\"data row12 col3\" >False</td>\n",
       "      <td id=\"T_78c7f_row12_col4\" class=\"data row12 col4\" >67.41º</td>\n",
       "    </tr>\n",
       "    <tr>\n",
       "      <th id=\"T_78c7f_level0_row13\" class=\"row_heading level0 row13\" >13</th>\n",
       "      <td id=\"T_78c7f_row13_col0\" class=\"data row13 col0\" >1</td>\n",
       "      <td id=\"T_78c7f_row13_col1\" class=\"data row13 col1\" >05/07/10</td>\n",
       "      <td id=\"T_78c7f_row13_col2\" class=\"data row13 col2\" >$ 1603955.12</td>\n",
       "      <td id=\"T_78c7f_row13_col3\" class=\"data row13 col3\" >False</td>\n",
       "      <td id=\"T_78c7f_row13_col4\" class=\"data row13 col4\" >72.55º</td>\n",
       "    </tr>\n",
       "    <tr>\n",
       "      <th id=\"T_78c7f_level0_row14\" class=\"row_heading level0 row14\" >14</th>\n",
       "      <td id=\"T_78c7f_row14_col0\" class=\"data row14 col0\" >1</td>\n",
       "      <td id=\"T_78c7f_row14_col1\" class=\"data row14 col1\" >14/05/10</td>\n",
       "      <td id=\"T_78c7f_row14_col2\" class=\"data row14 col2\" >$ 1494251.50</td>\n",
       "      <td id=\"T_78c7f_row14_col3\" class=\"data row14 col3\" >False</td>\n",
       "      <td id=\"T_78c7f_row14_col4\" class=\"data row14 col4\" >74.78º</td>\n",
       "    </tr>\n",
       "    <tr>\n",
       "      <th id=\"T_78c7f_level0_row15\" class=\"row_heading level0 row15\" >15</th>\n",
       "      <td id=\"T_78c7f_row15_col0\" class=\"data row15 col0\" >1</td>\n",
       "      <td id=\"T_78c7f_row15_col1\" class=\"data row15 col1\" >21/05/10</td>\n",
       "      <td id=\"T_78c7f_row15_col2\" class=\"data row15 col2\" >$ 1399662.07</td>\n",
       "      <td id=\"T_78c7f_row15_col3\" class=\"data row15 col3\" >False</td>\n",
       "      <td id=\"T_78c7f_row15_col4\" class=\"data row15 col4\" >76.44º</td>\n",
       "    </tr>\n",
       "    <tr>\n",
       "      <th id=\"T_78c7f_level0_row16\" class=\"row_heading level0 row16\" >16</th>\n",
       "      <td id=\"T_78c7f_row16_col0\" class=\"data row16 col0\" >1</td>\n",
       "      <td id=\"T_78c7f_row16_col1\" class=\"data row16 col1\" >28/05/10</td>\n",
       "      <td id=\"T_78c7f_row16_col2\" class=\"data row16 col2\" >$ 1432069.95</td>\n",
       "      <td id=\"T_78c7f_row16_col3\" class=\"data row16 col3\" >False</td>\n",
       "      <td id=\"T_78c7f_row16_col4\" class=\"data row16 col4\" >80.44º</td>\n",
       "    </tr>\n",
       "    <tr>\n",
       "      <th id=\"T_78c7f_level0_row17\" class=\"row_heading level0 row17\" >17</th>\n",
       "      <td id=\"T_78c7f_row17_col0\" class=\"data row17 col0\" >1</td>\n",
       "      <td id=\"T_78c7f_row17_col1\" class=\"data row17 col1\" >06/04/10</td>\n",
       "      <td id=\"T_78c7f_row17_col2\" class=\"data row17 col2\" >$ 1615524.71</td>\n",
       "      <td id=\"T_78c7f_row17_col3\" class=\"data row17 col3\" >False</td>\n",
       "      <td id=\"T_78c7f_row17_col4\" class=\"data row17 col4\" >80.69º</td>\n",
       "    </tr>\n",
       "    <tr>\n",
       "      <th id=\"T_78c7f_level0_row18\" class=\"row_heading level0 row18\" >18</th>\n",
       "      <td id=\"T_78c7f_row18_col0\" class=\"data row18 col0\" >1</td>\n",
       "      <td id=\"T_78c7f_row18_col1\" class=\"data row18 col1\" >06/11/10</td>\n",
       "      <td id=\"T_78c7f_row18_col2\" class=\"data row18 col2\" >$ 1542561.09</td>\n",
       "      <td id=\"T_78c7f_row18_col3\" class=\"data row18 col3\" >False</td>\n",
       "      <td id=\"T_78c7f_row18_col4\" class=\"data row18 col4\" >80.43º</td>\n",
       "    </tr>\n",
       "    <tr>\n",
       "      <th id=\"T_78c7f_level0_row19\" class=\"row_heading level0 row19\" >19</th>\n",
       "      <td id=\"T_78c7f_row19_col0\" class=\"data row19 col0\" >1</td>\n",
       "      <td id=\"T_78c7f_row19_col1\" class=\"data row19 col1\" >18/06/10</td>\n",
       "      <td id=\"T_78c7f_row19_col2\" class=\"data row19 col2\" >$ 1503284.06</td>\n",
       "      <td id=\"T_78c7f_row19_col3\" class=\"data row19 col3\" >False</td>\n",
       "      <td id=\"T_78c7f_row19_col4\" class=\"data row19 col4\" >84.11º</td>\n",
       "    </tr>\n",
       "    <tr>\n",
       "      <th id=\"T_78c7f_level0_row20\" class=\"row_heading level0 row20\" >20</th>\n",
       "      <td id=\"T_78c7f_row20_col0\" class=\"data row20 col0\" >1</td>\n",
       "      <td id=\"T_78c7f_row20_col1\" class=\"data row20 col1\" >25/06/10</td>\n",
       "      <td id=\"T_78c7f_row20_col2\" class=\"data row20 col2\" >$ 1422711.60</td>\n",
       "      <td id=\"T_78c7f_row20_col3\" class=\"data row20 col3\" >False</td>\n",
       "      <td id=\"T_78c7f_row20_col4\" class=\"data row20 col4\" >84.34º</td>\n",
       "    </tr>\n",
       "    <tr>\n",
       "      <th id=\"T_78c7f_level0_row21\" class=\"row_heading level0 row21\" >21</th>\n",
       "      <td id=\"T_78c7f_row21_col0\" class=\"data row21 col0\" >1</td>\n",
       "      <td id=\"T_78c7f_row21_col1\" class=\"data row21 col1\" >07/02/10</td>\n",
       "      <td id=\"T_78c7f_row21_col2\" class=\"data row21 col2\" >$ 1492418.14</td>\n",
       "      <td id=\"T_78c7f_row21_col3\" class=\"data row21 col3\" >False</td>\n",
       "      <td id=\"T_78c7f_row21_col4\" class=\"data row21 col4\" >80.91º</td>\n",
       "    </tr>\n",
       "    <tr>\n",
       "      <th id=\"T_78c7f_level0_row22\" class=\"row_heading level0 row22\" >22</th>\n",
       "      <td id=\"T_78c7f_row22_col0\" class=\"data row22 col0\" >1</td>\n",
       "      <td id=\"T_78c7f_row22_col1\" class=\"data row22 col1\" >07/09/10</td>\n",
       "      <td id=\"T_78c7f_row22_col2\" class=\"data row22 col2\" >$ 1546074.18</td>\n",
       "      <td id=\"T_78c7f_row22_col3\" class=\"data row22 col3\" >False</td>\n",
       "      <td id=\"T_78c7f_row22_col4\" class=\"data row22 col4\" >80.48º</td>\n",
       "    </tr>\n",
       "    <tr>\n",
       "      <th id=\"T_78c7f_level0_row23\" class=\"row_heading level0 row23\" >23</th>\n",
       "      <td id=\"T_78c7f_row23_col0\" class=\"data row23 col0\" >1</td>\n",
       "      <td id=\"T_78c7f_row23_col1\" class=\"data row23 col1\" >16/07/10</td>\n",
       "      <td id=\"T_78c7f_row23_col2\" class=\"data row23 col2\" >$ 1448938.92</td>\n",
       "      <td id=\"T_78c7f_row23_col3\" class=\"data row23 col3\" >False</td>\n",
       "      <td id=\"T_78c7f_row23_col4\" class=\"data row23 col4\" >83.15º</td>\n",
       "    </tr>\n",
       "    <tr>\n",
       "      <th id=\"T_78c7f_level0_row24\" class=\"row_heading level0 row24\" >24</th>\n",
       "      <td id=\"T_78c7f_row24_col0\" class=\"data row24 col0\" >1</td>\n",
       "      <td id=\"T_78c7f_row24_col1\" class=\"data row24 col1\" >23/07/10</td>\n",
       "      <td id=\"T_78c7f_row24_col2\" class=\"data row24 col2\" >$ 1385065.20</td>\n",
       "      <td id=\"T_78c7f_row24_col3\" class=\"data row24 col3\" >False</td>\n",
       "      <td id=\"T_78c7f_row24_col4\" class=\"data row24 col4\" >83.36º</td>\n",
       "    </tr>\n",
       "    <tr>\n",
       "      <th id=\"T_78c7f_level0_row25\" class=\"row_heading level0 row25\" >25</th>\n",
       "      <td id=\"T_78c7f_row25_col0\" class=\"data row25 col0\" >1</td>\n",
       "      <td id=\"T_78c7f_row25_col1\" class=\"data row25 col1\" >30/07/10</td>\n",
       "      <td id=\"T_78c7f_row25_col2\" class=\"data row25 col2\" >$ 1371986.60</td>\n",
       "      <td id=\"T_78c7f_row25_col3\" class=\"data row25 col3\" >False</td>\n",
       "      <td id=\"T_78c7f_row25_col4\" class=\"data row25 col4\" >81.84º</td>\n",
       "    </tr>\n",
       "    <tr>\n",
       "      <th id=\"T_78c7f_level0_row26\" class=\"row_heading level0 row26\" >26</th>\n",
       "      <td id=\"T_78c7f_row26_col0\" class=\"data row26 col0\" >1</td>\n",
       "      <td id=\"T_78c7f_row26_col1\" class=\"data row26 col1\" >08/06/10</td>\n",
       "      <td id=\"T_78c7f_row26_col2\" class=\"data row26 col2\" >$ 1605491.78</td>\n",
       "      <td id=\"T_78c7f_row26_col3\" class=\"data row26 col3\" >False</td>\n",
       "      <td id=\"T_78c7f_row26_col4\" class=\"data row26 col4\" >87.16º</td>\n",
       "    </tr>\n",
       "    <tr>\n",
       "      <th id=\"T_78c7f_level0_row27\" class=\"row_heading level0 row27\" >27</th>\n",
       "      <td id=\"T_78c7f_row27_col0\" class=\"data row27 col0\" >1</td>\n",
       "      <td id=\"T_78c7f_row27_col1\" class=\"data row27 col1\" >13/08/10</td>\n",
       "      <td id=\"T_78c7f_row27_col2\" class=\"data row27 col2\" >$ 1508237.76</td>\n",
       "      <td id=\"T_78c7f_row27_col3\" class=\"data row27 col3\" >False</td>\n",
       "      <td id=\"T_78c7f_row27_col4\" class=\"data row27 col4\" >87.00º</td>\n",
       "    </tr>\n",
       "    <tr>\n",
       "      <th id=\"T_78c7f_level0_row28\" class=\"row_heading level0 row28\" >28</th>\n",
       "      <td id=\"T_78c7f_row28_col0\" class=\"data row28 col0\" >1</td>\n",
       "      <td id=\"T_78c7f_row28_col1\" class=\"data row28 col1\" >20/08/10</td>\n",
       "      <td id=\"T_78c7f_row28_col2\" class=\"data row28 col2\" >$ 1513080.49</td>\n",
       "      <td id=\"T_78c7f_row28_col3\" class=\"data row28 col3\" >False</td>\n",
       "      <td id=\"T_78c7f_row28_col4\" class=\"data row28 col4\" >86.65º</td>\n",
       "    </tr>\n",
       "    <tr>\n",
       "      <th id=\"T_78c7f_level0_row29\" class=\"row_heading level0 row29\" >29</th>\n",
       "      <td id=\"T_78c7f_row29_col0\" class=\"data row29 col0\" >1</td>\n",
       "      <td id=\"T_78c7f_row29_col1\" class=\"data row29 col1\" >27/08/10</td>\n",
       "      <td id=\"T_78c7f_row29_col2\" class=\"data row29 col2\" >$ 1449142.92</td>\n",
       "      <td id=\"T_78c7f_row29_col3\" class=\"data row29 col3\" >False</td>\n",
       "      <td id=\"T_78c7f_row29_col4\" class=\"data row29 col4\" >85.22º</td>\n",
       "    </tr>\n",
       "    <tr>\n",
       "      <th id=\"T_78c7f_level0_row30\" class=\"row_heading level0 row30\" >30</th>\n",
       "      <td id=\"T_78c7f_row30_col0\" class=\"data row30 col0\" >1</td>\n",
       "      <td id=\"T_78c7f_row30_col1\" class=\"data row30 col1\" >09/03/10</td>\n",
       "      <td id=\"T_78c7f_row30_col2\" class=\"data row30 col2\" >$ 1540163.53</td>\n",
       "      <td id=\"T_78c7f_row30_col3\" class=\"data row30 col3\" >False</td>\n",
       "      <td id=\"T_78c7f_row30_col4\" class=\"data row30 col4\" >81.21º</td>\n",
       "    </tr>\n",
       "    <tr>\n",
       "      <th id=\"T_78c7f_level0_row31\" class=\"row_heading level0 row31\" >31</th>\n",
       "      <td id=\"T_78c7f_row31_col0\" class=\"data row31 col0\" >1</td>\n",
       "      <td id=\"T_78c7f_row31_col1\" class=\"data row31 col1\" >09/10/10</td>\n",
       "      <td id=\"T_78c7f_row31_col2\" class=\"data row31 col2\" >$ 1507460.69</td>\n",
       "      <td id=\"T_78c7f_row31_col3\" class=\"data row31 col3\" >True</td>\n",
       "      <td id=\"T_78c7f_row31_col4\" class=\"data row31 col4\" >78.69º</td>\n",
       "    </tr>\n",
       "    <tr>\n",
       "      <th id=\"T_78c7f_level0_row32\" class=\"row_heading level0 row32\" >32</th>\n",
       "      <td id=\"T_78c7f_row32_col0\" class=\"data row32 col0\" >1</td>\n",
       "      <td id=\"T_78c7f_row32_col1\" class=\"data row32 col1\" >17/09/10</td>\n",
       "      <td id=\"T_78c7f_row32_col2\" class=\"data row32 col2\" >$ 1430378.67</td>\n",
       "      <td id=\"T_78c7f_row32_col3\" class=\"data row32 col3\" >False</td>\n",
       "      <td id=\"T_78c7f_row32_col4\" class=\"data row32 col4\" >82.11º</td>\n",
       "    </tr>\n",
       "    <tr>\n",
       "      <th id=\"T_78c7f_level0_row33\" class=\"row_heading level0 row33\" >33</th>\n",
       "      <td id=\"T_78c7f_row33_col0\" class=\"data row33 col0\" >1</td>\n",
       "      <td id=\"T_78c7f_row33_col1\" class=\"data row33 col1\" >24/09/10</td>\n",
       "      <td id=\"T_78c7f_row33_col2\" class=\"data row33 col2\" >$ 1351791.03</td>\n",
       "      <td id=\"T_78c7f_row33_col3\" class=\"data row33 col3\" >False</td>\n",
       "      <td id=\"T_78c7f_row33_col4\" class=\"data row33 col4\" >80.94º</td>\n",
       "    </tr>\n",
       "    <tr>\n",
       "      <th id=\"T_78c7f_level0_row34\" class=\"row_heading level0 row34\" >34</th>\n",
       "      <td id=\"T_78c7f_row34_col0\" class=\"data row34 col0\" >1</td>\n",
       "      <td id=\"T_78c7f_row34_col1\" class=\"data row34 col1\" >10/01/10</td>\n",
       "      <td id=\"T_78c7f_row34_col2\" class=\"data row34 col2\" >$ 1453329.50</td>\n",
       "      <td id=\"T_78c7f_row34_col3\" class=\"data row34 col3\" >False</td>\n",
       "      <td id=\"T_78c7f_row34_col4\" class=\"data row34 col4\" >71.89º</td>\n",
       "    </tr>\n",
       "    <tr>\n",
       "      <th id=\"T_78c7f_level0_row35\" class=\"row_heading level0 row35\" >35</th>\n",
       "      <td id=\"T_78c7f_row35_col0\" class=\"data row35 col0\" >1</td>\n",
       "      <td id=\"T_78c7f_row35_col1\" class=\"data row35 col1\" >10/08/10</td>\n",
       "      <td id=\"T_78c7f_row35_col2\" class=\"data row35 col2\" >$ 1508239.93</td>\n",
       "      <td id=\"T_78c7f_row35_col3\" class=\"data row35 col3\" >False</td>\n",
       "      <td id=\"T_78c7f_row35_col4\" class=\"data row35 col4\" >63.93º</td>\n",
       "    </tr>\n",
       "    <tr>\n",
       "      <th id=\"T_78c7f_level0_row36\" class=\"row_heading level0 row36\" >36</th>\n",
       "      <td id=\"T_78c7f_row36_col0\" class=\"data row36 col0\" >1</td>\n",
       "      <td id=\"T_78c7f_row36_col1\" class=\"data row36 col1\" >15/10/10</td>\n",
       "      <td id=\"T_78c7f_row36_col2\" class=\"data row36 col2\" >$ 1459409.10</td>\n",
       "      <td id=\"T_78c7f_row36_col3\" class=\"data row36 col3\" >False</td>\n",
       "      <td id=\"T_78c7f_row36_col4\" class=\"data row36 col4\" >67.18º</td>\n",
       "    </tr>\n",
       "    <tr>\n",
       "      <th id=\"T_78c7f_level0_row37\" class=\"row_heading level0 row37\" >37</th>\n",
       "      <td id=\"T_78c7f_row37_col0\" class=\"data row37 col0\" >1</td>\n",
       "      <td id=\"T_78c7f_row37_col1\" class=\"data row37 col1\" >22/10/10</td>\n",
       "      <td id=\"T_78c7f_row37_col2\" class=\"data row37 col2\" >$ 1345454.00</td>\n",
       "      <td id=\"T_78c7f_row37_col3\" class=\"data row37 col3\" >False</td>\n",
       "      <td id=\"T_78c7f_row37_col4\" class=\"data row37 col4\" >69.86º</td>\n",
       "    </tr>\n",
       "    <tr>\n",
       "      <th id=\"T_78c7f_level0_row38\" class=\"row_heading level0 row38\" >38</th>\n",
       "      <td id=\"T_78c7f_row38_col0\" class=\"data row38 col0\" >1</td>\n",
       "      <td id=\"T_78c7f_row38_col1\" class=\"data row38 col1\" >29/10/10</td>\n",
       "      <td id=\"T_78c7f_row38_col2\" class=\"data row38 col2\" >$ 1384209.22</td>\n",
       "      <td id=\"T_78c7f_row38_col3\" class=\"data row38 col3\" >False</td>\n",
       "      <td id=\"T_78c7f_row38_col4\" class=\"data row38 col4\" >69.64º</td>\n",
       "    </tr>\n",
       "    <tr>\n",
       "      <th id=\"T_78c7f_level0_row39\" class=\"row_heading level0 row39\" >39</th>\n",
       "      <td id=\"T_78c7f_row39_col0\" class=\"data row39 col0\" >1</td>\n",
       "      <td id=\"T_78c7f_row39_col1\" class=\"data row39 col1\" >11/05/10</td>\n",
       "      <td id=\"T_78c7f_row39_col2\" class=\"data row39 col2\" >$ 1551659.28</td>\n",
       "      <td id=\"T_78c7f_row39_col3\" class=\"data row39 col3\" >False</td>\n",
       "      <td id=\"T_78c7f_row39_col4\" class=\"data row39 col4\" >58.74º</td>\n",
       "    </tr>\n",
       "    <tr>\n",
       "      <th id=\"T_78c7f_level0_row40\" class=\"row_heading level0 row40\" >40</th>\n",
       "      <td id=\"T_78c7f_row40_col0\" class=\"data row40 col0\" >1</td>\n",
       "      <td id=\"T_78c7f_row40_col1\" class=\"data row40 col1\" >11/12/10</td>\n",
       "      <td id=\"T_78c7f_row40_col2\" class=\"data row40 col2\" >$ 1494479.49</td>\n",
       "      <td id=\"T_78c7f_row40_col3\" class=\"data row40 col3\" >False</td>\n",
       "      <td id=\"T_78c7f_row40_col4\" class=\"data row40 col4\" >59.61º</td>\n",
       "    </tr>\n",
       "    <tr>\n",
       "      <th id=\"T_78c7f_level0_row41\" class=\"row_heading level0 row41\" >41</th>\n",
       "      <td id=\"T_78c7f_row41_col0\" class=\"data row41 col0\" >1</td>\n",
       "      <td id=\"T_78c7f_row41_col1\" class=\"data row41 col1\" >19/11/10</td>\n",
       "      <td id=\"T_78c7f_row41_col2\" class=\"data row41 col2\" >$ 1483784.18</td>\n",
       "      <td id=\"T_78c7f_row41_col3\" class=\"data row41 col3\" >False</td>\n",
       "      <td id=\"T_78c7f_row41_col4\" class=\"data row41 col4\" >51.41º</td>\n",
       "    </tr>\n",
       "    <tr>\n",
       "      <th id=\"T_78c7f_level0_row42\" class=\"row_heading level0 row42\" >42</th>\n",
       "      <td id=\"T_78c7f_row42_col0\" class=\"data row42 col0\" >1</td>\n",
       "      <td id=\"T_78c7f_row42_col1\" class=\"data row42 col1\" >26/11/10</td>\n",
       "      <td id=\"T_78c7f_row42_col2\" class=\"data row42 col2\" >$ 1955624.11</td>\n",
       "      <td id=\"T_78c7f_row42_col3\" class=\"data row42 col3\" >True</td>\n",
       "      <td id=\"T_78c7f_row42_col4\" class=\"data row42 col4\" >64.52º</td>\n",
       "    </tr>\n",
       "    <tr>\n",
       "      <th id=\"T_78c7f_level0_row43\" class=\"row_heading level0 row43\" >43</th>\n",
       "      <td id=\"T_78c7f_row43_col0\" class=\"data row43 col0\" >1</td>\n",
       "      <td id=\"T_78c7f_row43_col1\" class=\"data row43 col1\" >12/03/10</td>\n",
       "      <td id=\"T_78c7f_row43_col2\" class=\"data row43 col2\" >$ 1548033.78</td>\n",
       "      <td id=\"T_78c7f_row43_col3\" class=\"data row43 col3\" >False</td>\n",
       "      <td id=\"T_78c7f_row43_col4\" class=\"data row43 col4\" >49.27º</td>\n",
       "    </tr>\n",
       "    <tr>\n",
       "      <th id=\"T_78c7f_level0_row44\" class=\"row_heading level0 row44\" >44</th>\n",
       "      <td id=\"T_78c7f_row44_col0\" class=\"data row44 col0\" >1</td>\n",
       "      <td id=\"T_78c7f_row44_col1\" class=\"data row44 col1\" >12/10/10</td>\n",
       "      <td id=\"T_78c7f_row44_col2\" class=\"data row44 col2\" >$ 1682614.26</td>\n",
       "      <td id=\"T_78c7f_row44_col3\" class=\"data row44 col3\" >False</td>\n",
       "      <td id=\"T_78c7f_row44_col4\" class=\"data row44 col4\" >46.33º</td>\n",
       "    </tr>\n",
       "    <tr>\n",
       "      <th id=\"T_78c7f_level0_row45\" class=\"row_heading level0 row45\" >45</th>\n",
       "      <td id=\"T_78c7f_row45_col0\" class=\"data row45 col0\" >1</td>\n",
       "      <td id=\"T_78c7f_row45_col1\" class=\"data row45 col1\" >17/12/10</td>\n",
       "      <td id=\"T_78c7f_row45_col2\" class=\"data row45 col2\" >$ 1891034.93</td>\n",
       "      <td id=\"T_78c7f_row45_col3\" class=\"data row45 col3\" >False</td>\n",
       "      <td id=\"T_78c7f_row45_col4\" class=\"data row45 col4\" >49.84º</td>\n",
       "    </tr>\n",
       "    <tr>\n",
       "      <th id=\"T_78c7f_level0_row46\" class=\"row_heading level0 row46\" >46</th>\n",
       "      <td id=\"T_78c7f_row46_col0\" class=\"data row46 col0\" >1</td>\n",
       "      <td id=\"T_78c7f_row46_col1\" class=\"data row46 col1\" >24/12/10</td>\n",
       "      <td id=\"T_78c7f_row46_col2\" class=\"data row46 col2\" >$ 2387950.20</td>\n",
       "      <td id=\"T_78c7f_row46_col3\" class=\"data row46 col3\" >False</td>\n",
       "      <td id=\"T_78c7f_row46_col4\" class=\"data row46 col4\" >52.33º</td>\n",
       "    </tr>\n",
       "    <tr>\n",
       "      <th id=\"T_78c7f_level0_row47\" class=\"row_heading level0 row47\" >47</th>\n",
       "      <td id=\"T_78c7f_row47_col0\" class=\"data row47 col0\" >1</td>\n",
       "      <td id=\"T_78c7f_row47_col1\" class=\"data row47 col1\" >31/12/10</td>\n",
       "      <td id=\"T_78c7f_row47_col2\" class=\"data row47 col2\" >$ 1367320.01</td>\n",
       "      <td id=\"T_78c7f_row47_col3\" class=\"data row47 col3\" >True</td>\n",
       "      <td id=\"T_78c7f_row47_col4\" class=\"data row47 col4\" >48.43º</td>\n",
       "    </tr>\n",
       "    <tr>\n",
       "      <th id=\"T_78c7f_level0_row48\" class=\"row_heading level0 row48\" >48</th>\n",
       "      <td id=\"T_78c7f_row48_col0\" class=\"data row48 col0\" >1</td>\n",
       "      <td id=\"T_78c7f_row48_col1\" class=\"data row48 col1\" >01/07/11</td>\n",
       "      <td id=\"T_78c7f_row48_col2\" class=\"data row48 col2\" >$ 1444732.28</td>\n",
       "      <td id=\"T_78c7f_row48_col3\" class=\"data row48 col3\" >False</td>\n",
       "      <td id=\"T_78c7f_row48_col4\" class=\"data row48 col4\" >48.27º</td>\n",
       "    </tr>\n",
       "    <tr>\n",
       "      <th id=\"T_78c7f_level0_row49\" class=\"row_heading level0 row49\" >49</th>\n",
       "      <td id=\"T_78c7f_row49_col0\" class=\"data row49 col0\" >1</td>\n",
       "      <td id=\"T_78c7f_row49_col1\" class=\"data row49 col1\" >14/01/11</td>\n",
       "      <td id=\"T_78c7f_row49_col2\" class=\"data row49 col2\" >$ 1391013.96</td>\n",
       "      <td id=\"T_78c7f_row49_col3\" class=\"data row49 col3\" >False</td>\n",
       "      <td id=\"T_78c7f_row49_col4\" class=\"data row49 col4\" >35.40º</td>\n",
       "    </tr>\n",
       "    <tr>\n",
       "      <th id=\"T_78c7f_level0_row50\" class=\"row_heading level0 row50\" >50</th>\n",
       "      <td id=\"T_78c7f_row50_col0\" class=\"data row50 col0\" >1</td>\n",
       "      <td id=\"T_78c7f_row50_col1\" class=\"data row50 col1\" >21/01/11</td>\n",
       "      <td id=\"T_78c7f_row50_col2\" class=\"data row50 col2\" >$ 1327405.42</td>\n",
       "      <td id=\"T_78c7f_row50_col3\" class=\"data row50 col3\" >False</td>\n",
       "      <td id=\"T_78c7f_row50_col4\" class=\"data row50 col4\" >44.04º</td>\n",
       "    </tr>\n",
       "    <tr>\n",
       "      <th id=\"T_78c7f_level0_row51\" class=\"row_heading level0 row51\" >51</th>\n",
       "      <td id=\"T_78c7f_row51_col0\" class=\"data row51 col0\" >1</td>\n",
       "      <td id=\"T_78c7f_row51_col1\" class=\"data row51 col1\" >28/01/11</td>\n",
       "      <td id=\"T_78c7f_row51_col2\" class=\"data row51 col2\" >$ 1316899.31</td>\n",
       "      <td id=\"T_78c7f_row51_col3\" class=\"data row51 col3\" >False</td>\n",
       "      <td id=\"T_78c7f_row51_col4\" class=\"data row51 col4\" >43.83º</td>\n",
       "    </tr>\n",
       "    <tr>\n",
       "      <th id=\"T_78c7f_level0_row52\" class=\"row_heading level0 row52\" >52</th>\n",
       "      <td id=\"T_78c7f_row52_col0\" class=\"data row52 col0\" >1</td>\n",
       "      <td id=\"T_78c7f_row52_col1\" class=\"data row52 col1\" >02/04/11</td>\n",
       "      <td id=\"T_78c7f_row52_col2\" class=\"data row52 col2\" >$ 1606629.58</td>\n",
       "      <td id=\"T_78c7f_row52_col3\" class=\"data row52 col3\" >False</td>\n",
       "      <td id=\"T_78c7f_row52_col4\" class=\"data row52 col4\" >42.27º</td>\n",
       "    </tr>\n",
       "    <tr>\n",
       "      <th id=\"T_78c7f_level0_row53\" class=\"row_heading level0 row53\" >53</th>\n",
       "      <td id=\"T_78c7f_row53_col0\" class=\"data row53 col0\" >1</td>\n",
       "      <td id=\"T_78c7f_row53_col1\" class=\"data row53 col1\" >02/11/11</td>\n",
       "      <td id=\"T_78c7f_row53_col2\" class=\"data row53 col2\" >$ 1649614.93</td>\n",
       "      <td id=\"T_78c7f_row53_col3\" class=\"data row53 col3\" >True</td>\n",
       "      <td id=\"T_78c7f_row53_col4\" class=\"data row53 col4\" >36.39º</td>\n",
       "    </tr>\n",
       "    <tr>\n",
       "      <th id=\"T_78c7f_level0_row54\" class=\"row_heading level0 row54\" >54</th>\n",
       "      <td id=\"T_78c7f_row54_col0\" class=\"data row54 col0\" >1</td>\n",
       "      <td id=\"T_78c7f_row54_col1\" class=\"data row54 col1\" >18/02/11</td>\n",
       "      <td id=\"T_78c7f_row54_col2\" class=\"data row54 col2\" >$ 1686842.78</td>\n",
       "      <td id=\"T_78c7f_row54_col3\" class=\"data row54 col3\" >False</td>\n",
       "      <td id=\"T_78c7f_row54_col4\" class=\"data row54 col4\" >57.36º</td>\n",
       "    </tr>\n",
       "    <tr>\n",
       "      <th id=\"T_78c7f_level0_row55\" class=\"row_heading level0 row55\" >55</th>\n",
       "      <td id=\"T_78c7f_row55_col0\" class=\"data row55 col0\" >1</td>\n",
       "      <td id=\"T_78c7f_row55_col1\" class=\"data row55 col1\" >25/02/11</td>\n",
       "      <td id=\"T_78c7f_row55_col2\" class=\"data row55 col2\" >$ 1456800.28</td>\n",
       "      <td id=\"T_78c7f_row55_col3\" class=\"data row55 col3\" >False</td>\n",
       "      <td id=\"T_78c7f_row55_col4\" class=\"data row55 col4\" >62.90º</td>\n",
       "    </tr>\n",
       "    <tr>\n",
       "      <th id=\"T_78c7f_level0_row56\" class=\"row_heading level0 row56\" >56</th>\n",
       "      <td id=\"T_78c7f_row56_col0\" class=\"data row56 col0\" >1</td>\n",
       "      <td id=\"T_78c7f_row56_col1\" class=\"data row56 col1\" >03/04/11</td>\n",
       "      <td id=\"T_78c7f_row56_col2\" class=\"data row56 col2\" >$ 1636263.41</td>\n",
       "      <td id=\"T_78c7f_row56_col3\" class=\"data row56 col3\" >False</td>\n",
       "      <td id=\"T_78c7f_row56_col4\" class=\"data row56 col4\" >59.58º</td>\n",
       "    </tr>\n",
       "    <tr>\n",
       "      <th id=\"T_78c7f_level0_row57\" class=\"row_heading level0 row57\" >57</th>\n",
       "      <td id=\"T_78c7f_row57_col0\" class=\"data row57 col0\" >1</td>\n",
       "      <td id=\"T_78c7f_row57_col1\" class=\"data row57 col1\" >03/11/11</td>\n",
       "      <td id=\"T_78c7f_row57_col2\" class=\"data row57 col2\" >$ 1553191.63</td>\n",
       "      <td id=\"T_78c7f_row57_col3\" class=\"data row57 col3\" >False</td>\n",
       "      <td id=\"T_78c7f_row57_col4\" class=\"data row57 col4\" >53.56º</td>\n",
       "    </tr>\n",
       "    <tr>\n",
       "      <th id=\"T_78c7f_level0_row58\" class=\"row_heading level0 row58\" >58</th>\n",
       "      <td id=\"T_78c7f_row58_col0\" class=\"data row58 col0\" >1</td>\n",
       "      <td id=\"T_78c7f_row58_col1\" class=\"data row58 col1\" >18/03/11</td>\n",
       "      <td id=\"T_78c7f_row58_col2\" class=\"data row58 col2\" >$ 1576818.06</td>\n",
       "      <td id=\"T_78c7f_row58_col3\" class=\"data row58 col3\" >False</td>\n",
       "      <td id=\"T_78c7f_row58_col4\" class=\"data row58 col4\" >62.76º</td>\n",
       "    </tr>\n",
       "    <tr>\n",
       "      <th id=\"T_78c7f_level0_row59\" class=\"row_heading level0 row59\" >59</th>\n",
       "      <td id=\"T_78c7f_row59_col0\" class=\"data row59 col0\" >1</td>\n",
       "      <td id=\"T_78c7f_row59_col1\" class=\"data row59 col1\" >25/03/11</td>\n",
       "      <td id=\"T_78c7f_row59_col2\" class=\"data row59 col2\" >$ 1541102.38</td>\n",
       "      <td id=\"T_78c7f_row59_col3\" class=\"data row59 col3\" >False</td>\n",
       "      <td id=\"T_78c7f_row59_col4\" class=\"data row59 col4\" >69.97º</td>\n",
       "    </tr>\n",
       "    <tr>\n",
       "      <th id=\"T_78c7f_level0_row60\" class=\"row_heading level0 row60\" >60</th>\n",
       "      <td id=\"T_78c7f_row60_col0\" class=\"data row60 col0\" >1</td>\n",
       "      <td id=\"T_78c7f_row60_col1\" class=\"data row60 col1\" >04/01/11</td>\n",
       "      <td id=\"T_78c7f_row60_col2\" class=\"data row60 col2\" >$ 1495064.75</td>\n",
       "      <td id=\"T_78c7f_row60_col3\" class=\"data row60 col3\" >False</td>\n",
       "      <td id=\"T_78c7f_row60_col4\" class=\"data row60 col4\" >59.17º</td>\n",
       "    </tr>\n",
       "    <tr>\n",
       "      <th id=\"T_78c7f_level0_row61\" class=\"row_heading level0 row61\" >61</th>\n",
       "      <td id=\"T_78c7f_row61_col0\" class=\"data row61 col0\" >1</td>\n",
       "      <td id=\"T_78c7f_row61_col1\" class=\"data row61 col1\" >04/08/11</td>\n",
       "      <td id=\"T_78c7f_row61_col2\" class=\"data row61 col2\" >$ 1614259.35</td>\n",
       "      <td id=\"T_78c7f_row61_col3\" class=\"data row61 col3\" >False</td>\n",
       "      <td id=\"T_78c7f_row61_col4\" class=\"data row61 col4\" >67.84º</td>\n",
       "    </tr>\n",
       "    <tr>\n",
       "      <th id=\"T_78c7f_level0_row62\" class=\"row_heading level0 row62\" >62</th>\n",
       "      <td id=\"T_78c7f_row62_col0\" class=\"data row62 col0\" >1</td>\n",
       "      <td id=\"T_78c7f_row62_col1\" class=\"data row62 col1\" >15/04/11</td>\n",
       "      <td id=\"T_78c7f_row62_col2\" class=\"data row62 col2\" >$ 1559889.00</td>\n",
       "      <td id=\"T_78c7f_row62_col3\" class=\"data row62 col3\" >False</td>\n",
       "      <td id=\"T_78c7f_row62_col4\" class=\"data row62 col4\" >71.27º</td>\n",
       "    </tr>\n",
       "    <tr>\n",
       "      <th id=\"T_78c7f_level0_row63\" class=\"row_heading level0 row63\" >63</th>\n",
       "      <td id=\"T_78c7f_row63_col0\" class=\"data row63 col0\" >1</td>\n",
       "      <td id=\"T_78c7f_row63_col1\" class=\"data row63 col1\" >22/04/11</td>\n",
       "      <td id=\"T_78c7f_row63_col2\" class=\"data row63 col2\" >$ 1564819.81</td>\n",
       "      <td id=\"T_78c7f_row63_col3\" class=\"data row63 col3\" >False</td>\n",
       "      <td id=\"T_78c7f_row63_col4\" class=\"data row63 col4\" >72.99º</td>\n",
       "    </tr>\n",
       "    <tr>\n",
       "      <th id=\"T_78c7f_level0_row64\" class=\"row_heading level0 row64\" >64</th>\n",
       "      <td id=\"T_78c7f_row64_col0\" class=\"data row64 col0\" >1</td>\n",
       "      <td id=\"T_78c7f_row64_col1\" class=\"data row64 col1\" >29/04/11</td>\n",
       "      <td id=\"T_78c7f_row64_col2\" class=\"data row64 col2\" >$ 1455090.69</td>\n",
       "      <td id=\"T_78c7f_row64_col3\" class=\"data row64 col3\" >False</td>\n",
       "      <td id=\"T_78c7f_row64_col4\" class=\"data row64 col4\" >72.03º</td>\n",
       "    </tr>\n",
       "    <tr>\n",
       "      <th id=\"T_78c7f_level0_row65\" class=\"row_heading level0 row65\" >65</th>\n",
       "      <td id=\"T_78c7f_row65_col0\" class=\"data row65 col0\" >1</td>\n",
       "      <td id=\"T_78c7f_row65_col1\" class=\"data row65 col1\" >05/06/11</td>\n",
       "      <td id=\"T_78c7f_row65_col2\" class=\"data row65 col2\" >$ 1629391.28</td>\n",
       "      <td id=\"T_78c7f_row65_col3\" class=\"data row65 col3\" >False</td>\n",
       "      <td id=\"T_78c7f_row65_col4\" class=\"data row65 col4\" >64.61º</td>\n",
       "    </tr>\n",
       "    <tr>\n",
       "      <th id=\"T_78c7f_level0_row66\" class=\"row_heading level0 row66\" >66</th>\n",
       "      <td id=\"T_78c7f_row66_col0\" class=\"data row66 col0\" >1</td>\n",
       "      <td id=\"T_78c7f_row66_col1\" class=\"data row66 col1\" >13/05/11</td>\n",
       "      <td id=\"T_78c7f_row66_col2\" class=\"data row66 col2\" >$ 1604775.58</td>\n",
       "      <td id=\"T_78c7f_row66_col3\" class=\"data row66 col3\" >False</td>\n",
       "      <td id=\"T_78c7f_row66_col4\" class=\"data row66 col4\" >75.64º</td>\n",
       "    </tr>\n",
       "    <tr>\n",
       "      <th id=\"T_78c7f_level0_row67\" class=\"row_heading level0 row67\" >67</th>\n",
       "      <td id=\"T_78c7f_row67_col0\" class=\"data row67 col0\" >1</td>\n",
       "      <td id=\"T_78c7f_row67_col1\" class=\"data row67 col1\" >20/05/11</td>\n",
       "      <td id=\"T_78c7f_row67_col2\" class=\"data row67 col2\" >$ 1428218.27</td>\n",
       "      <td id=\"T_78c7f_row67_col3\" class=\"data row67 col3\" >False</td>\n",
       "      <td id=\"T_78c7f_row67_col4\" class=\"data row67 col4\" >67.63º</td>\n",
       "    </tr>\n",
       "    <tr>\n",
       "      <th id=\"T_78c7f_level0_row68\" class=\"row_heading level0 row68\" >68</th>\n",
       "      <td id=\"T_78c7f_row68_col0\" class=\"data row68 col0\" >1</td>\n",
       "      <td id=\"T_78c7f_row68_col1\" class=\"data row68 col1\" >27/05/11</td>\n",
       "      <td id=\"T_78c7f_row68_col2\" class=\"data row68 col2\" >$ 1466046.67</td>\n",
       "      <td id=\"T_78c7f_row68_col3\" class=\"data row68 col3\" >False</td>\n",
       "      <td id=\"T_78c7f_row68_col4\" class=\"data row68 col4\" >77.72º</td>\n",
       "    </tr>\n",
       "    <tr>\n",
       "      <th id=\"T_78c7f_level0_row69\" class=\"row_heading level0 row69\" >69</th>\n",
       "      <td id=\"T_78c7f_row69_col0\" class=\"data row69 col0\" >1</td>\n",
       "      <td id=\"T_78c7f_row69_col1\" class=\"data row69 col1\" >06/03/11</td>\n",
       "      <td id=\"T_78c7f_row69_col2\" class=\"data row69 col2\" >$ 1635078.41</td>\n",
       "      <td id=\"T_78c7f_row69_col3\" class=\"data row69 col3\" >False</td>\n",
       "      <td id=\"T_78c7f_row69_col4\" class=\"data row69 col4\" >83.00º</td>\n",
       "    </tr>\n",
       "    <tr>\n",
       "      <th id=\"T_78c7f_level0_row70\" class=\"row_heading level0 row70\" >70</th>\n",
       "      <td id=\"T_78c7f_row70_col0\" class=\"data row70 col0\" >1</td>\n",
       "      <td id=\"T_78c7f_row70_col1\" class=\"data row70 col1\" >06/10/11</td>\n",
       "      <td id=\"T_78c7f_row70_col2\" class=\"data row70 col2\" >$ 1588948.32</td>\n",
       "      <td id=\"T_78c7f_row70_col3\" class=\"data row70 col3\" >False</td>\n",
       "      <td id=\"T_78c7f_row70_col4\" class=\"data row70 col4\" >83.13º</td>\n",
       "    </tr>\n",
       "    <tr>\n",
       "      <th id=\"T_78c7f_level0_row71\" class=\"row_heading level0 row71\" >71</th>\n",
       "      <td id=\"T_78c7f_row71_col0\" class=\"data row71 col0\" >1</td>\n",
       "      <td id=\"T_78c7f_row71_col1\" class=\"data row71 col1\" >17/06/11</td>\n",
       "      <td id=\"T_78c7f_row71_col2\" class=\"data row71 col2\" >$ 1532114.86</td>\n",
       "      <td id=\"T_78c7f_row71_col3\" class=\"data row71 col3\" >False</td>\n",
       "      <td id=\"T_78c7f_row71_col4\" class=\"data row71 col4\" >86.41º</td>\n",
       "    </tr>\n",
       "    <tr>\n",
       "      <th id=\"T_78c7f_level0_row72\" class=\"row_heading level0 row72\" >72</th>\n",
       "      <td id=\"T_78c7f_row72_col0\" class=\"data row72 col0\" >1</td>\n",
       "      <td id=\"T_78c7f_row72_col1\" class=\"data row72 col1\" >24/06/11</td>\n",
       "      <td id=\"T_78c7f_row72_col2\" class=\"data row72 col2\" >$ 1438830.15</td>\n",
       "      <td id=\"T_78c7f_row72_col3\" class=\"data row72 col3\" >False</td>\n",
       "      <td id=\"T_78c7f_row72_col4\" class=\"data row72 col4\" >83.58º</td>\n",
       "    </tr>\n",
       "    <tr>\n",
       "      <th id=\"T_78c7f_level0_row73\" class=\"row_heading level0 row73\" >73</th>\n",
       "      <td id=\"T_78c7f_row73_col0\" class=\"data row73 col0\" >1</td>\n",
       "      <td id=\"T_78c7f_row73_col1\" class=\"data row73 col1\" >07/01/11</td>\n",
       "      <td id=\"T_78c7f_row73_col2\" class=\"data row73 col2\" >$ 1488538.09</td>\n",
       "      <td id=\"T_78c7f_row73_col3\" class=\"data row73 col3\" >False</td>\n",
       "      <td id=\"T_78c7f_row73_col4\" class=\"data row73 col4\" >85.55º</td>\n",
       "    </tr>\n",
       "    <tr>\n",
       "      <th id=\"T_78c7f_level0_row74\" class=\"row_heading level0 row74\" >74</th>\n",
       "      <td id=\"T_78c7f_row74_col0\" class=\"data row74 col0\" >1</td>\n",
       "      <td id=\"T_78c7f_row74_col1\" class=\"data row74 col1\" >07/08/11</td>\n",
       "      <td id=\"T_78c7f_row74_col2\" class=\"data row74 col2\" >$ 1534849.64</td>\n",
       "      <td id=\"T_78c7f_row74_col3\" class=\"data row74 col3\" >False</td>\n",
       "      <td id=\"T_78c7f_row74_col4\" class=\"data row74 col4\" >85.83º</td>\n",
       "    </tr>\n",
       "    <tr>\n",
       "      <th id=\"T_78c7f_level0_row75\" class=\"row_heading level0 row75\" >75</th>\n",
       "      <td id=\"T_78c7f_row75_col0\" class=\"data row75 col0\" >1</td>\n",
       "      <td id=\"T_78c7f_row75_col1\" class=\"data row75 col1\" >15/07/11</td>\n",
       "      <td id=\"T_78c7f_row75_col2\" class=\"data row75 col2\" >$ 1455119.97</td>\n",
       "      <td id=\"T_78c7f_row75_col3\" class=\"data row75 col3\" >False</td>\n",
       "      <td id=\"T_78c7f_row75_col4\" class=\"data row75 col4\" >88.54º</td>\n",
       "    </tr>\n",
       "    <tr>\n",
       "      <th id=\"T_78c7f_level0_row76\" class=\"row_heading level0 row76\" >76</th>\n",
       "      <td id=\"T_78c7f_row76_col0\" class=\"data row76 col0\" >1</td>\n",
       "      <td id=\"T_78c7f_row76_col1\" class=\"data row76 col1\" >22/07/11</td>\n",
       "      <td id=\"T_78c7f_row76_col2\" class=\"data row76 col2\" >$ 1396926.82</td>\n",
       "      <td id=\"T_78c7f_row76_col3\" class=\"data row76 col3\" >False</td>\n",
       "      <td id=\"T_78c7f_row76_col4\" class=\"data row76 col4\" >85.77º</td>\n",
       "    </tr>\n",
       "    <tr>\n",
       "      <th id=\"T_78c7f_level0_row77\" class=\"row_heading level0 row77\" >77</th>\n",
       "      <td id=\"T_78c7f_row77_col0\" class=\"data row77 col0\" >1</td>\n",
       "      <td id=\"T_78c7f_row77_col1\" class=\"data row77 col1\" >29/07/11</td>\n",
       "      <td id=\"T_78c7f_row77_col2\" class=\"data row77 col2\" >$ 1352219.79</td>\n",
       "      <td id=\"T_78c7f_row77_col3\" class=\"data row77 col3\" >False</td>\n",
       "      <td id=\"T_78c7f_row77_col4\" class=\"data row77 col4\" >86.83º</td>\n",
       "    </tr>\n",
       "    <tr>\n",
       "      <th id=\"T_78c7f_level0_row78\" class=\"row_heading level0 row78\" >78</th>\n",
       "      <td id=\"T_78c7f_row78_col0\" class=\"data row78 col0\" >1</td>\n",
       "      <td id=\"T_78c7f_row78_col1\" class=\"data row78 col1\" >08/05/11</td>\n",
       "      <td id=\"T_78c7f_row78_col2\" class=\"data row78 col2\" >$ 1624383.75</td>\n",
       "      <td id=\"T_78c7f_row78_col3\" class=\"data row78 col3\" >False</td>\n",
       "      <td id=\"T_78c7f_row78_col4\" class=\"data row78 col4\" >91.65º</td>\n",
       "    </tr>\n",
       "    <tr>\n",
       "      <th id=\"T_78c7f_level0_row79\" class=\"row_heading level0 row79\" >79</th>\n",
       "      <td id=\"T_78c7f_row79_col0\" class=\"data row79 col0\" >1</td>\n",
       "      <td id=\"T_78c7f_row79_col1\" class=\"data row79 col1\" >08/12/11</td>\n",
       "      <td id=\"T_78c7f_row79_col2\" class=\"data row79 col2\" >$ 1525147.09</td>\n",
       "      <td id=\"T_78c7f_row79_col3\" class=\"data row79 col3\" >False</td>\n",
       "      <td id=\"T_78c7f_row79_col4\" class=\"data row79 col4\" >90.76º</td>\n",
       "    </tr>\n",
       "    <tr>\n",
       "      <th id=\"T_78c7f_level0_row80\" class=\"row_heading level0 row80\" >80</th>\n",
       "      <td id=\"T_78c7f_row80_col0\" class=\"data row80 col0\" >1</td>\n",
       "      <td id=\"T_78c7f_row80_col1\" class=\"data row80 col1\" >19/08/11</td>\n",
       "      <td id=\"T_78c7f_row80_col2\" class=\"data row80 col2\" >$ 1530761.43</td>\n",
       "      <td id=\"T_78c7f_row80_col3\" class=\"data row80 col3\" >False</td>\n",
       "      <td id=\"T_78c7f_row80_col4\" class=\"data row80 col4\" >89.94º</td>\n",
       "    </tr>\n",
       "    <tr>\n",
       "      <th id=\"T_78c7f_level0_row81\" class=\"row_heading level0 row81\" >81</th>\n",
       "      <td id=\"T_78c7f_row81_col0\" class=\"data row81 col0\" >1</td>\n",
       "      <td id=\"T_78c7f_row81_col1\" class=\"data row81 col1\" >26/08/11</td>\n",
       "      <td id=\"T_78c7f_row81_col2\" class=\"data row81 col2\" >$ 1464693.46</td>\n",
       "      <td id=\"T_78c7f_row81_col3\" class=\"data row81 col3\" >False</td>\n",
       "      <td id=\"T_78c7f_row81_col4\" class=\"data row81 col4\" >87.96º</td>\n",
       "    </tr>\n",
       "    <tr>\n",
       "      <th id=\"T_78c7f_level0_row82\" class=\"row_heading level0 row82\" >82</th>\n",
       "      <td id=\"T_78c7f_row82_col0\" class=\"data row82 col0\" >1</td>\n",
       "      <td id=\"T_78c7f_row82_col1\" class=\"data row82 col1\" >09/02/11</td>\n",
       "      <td id=\"T_78c7f_row82_col2\" class=\"data row82 col2\" >$ 1550229.22</td>\n",
       "      <td id=\"T_78c7f_row82_col3\" class=\"data row82 col3\" >False</td>\n",
       "      <td id=\"T_78c7f_row82_col4\" class=\"data row82 col4\" >87.83º</td>\n",
       "    </tr>\n",
       "    <tr>\n",
       "      <th id=\"T_78c7f_level0_row83\" class=\"row_heading level0 row83\" >83</th>\n",
       "      <td id=\"T_78c7f_row83_col0\" class=\"data row83 col0\" >1</td>\n",
       "      <td id=\"T_78c7f_row83_col1\" class=\"data row83 col1\" >09/09/11</td>\n",
       "      <td id=\"T_78c7f_row83_col2\" class=\"data row83 col2\" >$ 1540471.24</td>\n",
       "      <td id=\"T_78c7f_row83_col3\" class=\"data row83 col3\" >True</td>\n",
       "      <td id=\"T_78c7f_row83_col4\" class=\"data row83 col4\" >76.00º</td>\n",
       "    </tr>\n",
       "    <tr>\n",
       "      <th id=\"T_78c7f_level0_row84\" class=\"row_heading level0 row84\" >84</th>\n",
       "      <td id=\"T_78c7f_row84_col0\" class=\"data row84 col0\" >1</td>\n",
       "      <td id=\"T_78c7f_row84_col1\" class=\"data row84 col1\" >16/09/11</td>\n",
       "      <td id=\"T_78c7f_row84_col2\" class=\"data row84 col2\" >$ 1514259.78</td>\n",
       "      <td id=\"T_78c7f_row84_col3\" class=\"data row84 col3\" >False</td>\n",
       "      <td id=\"T_78c7f_row84_col4\" class=\"data row84 col4\" >79.94º</td>\n",
       "    </tr>\n",
       "    <tr>\n",
       "      <th id=\"T_78c7f_level0_row85\" class=\"row_heading level0 row85\" >85</th>\n",
       "      <td id=\"T_78c7f_row85_col0\" class=\"data row85 col0\" >1</td>\n",
       "      <td id=\"T_78c7f_row85_col1\" class=\"data row85 col1\" >23/09/11</td>\n",
       "      <td id=\"T_78c7f_row85_col2\" class=\"data row85 col2\" >$ 1380020.27</td>\n",
       "      <td id=\"T_78c7f_row85_col3\" class=\"data row85 col3\" >False</td>\n",
       "      <td id=\"T_78c7f_row85_col4\" class=\"data row85 col4\" >75.80º</td>\n",
       "    </tr>\n",
       "    <tr>\n",
       "      <th id=\"T_78c7f_level0_row86\" class=\"row_heading level0 row86\" >86</th>\n",
       "      <td id=\"T_78c7f_row86_col0\" class=\"data row86 col0\" >1</td>\n",
       "      <td id=\"T_78c7f_row86_col1\" class=\"data row86 col1\" >30/09/11</td>\n",
       "      <td id=\"T_78c7f_row86_col2\" class=\"data row86 col2\" >$ 1394561.83</td>\n",
       "      <td id=\"T_78c7f_row86_col3\" class=\"data row86 col3\" >False</td>\n",
       "      <td id=\"T_78c7f_row86_col4\" class=\"data row86 col4\" >79.69º</td>\n",
       "    </tr>\n",
       "    <tr>\n",
       "      <th id=\"T_78c7f_level0_row87\" class=\"row_heading level0 row87\" >87</th>\n",
       "      <td id=\"T_78c7f_row87_col0\" class=\"data row87 col0\" >1</td>\n",
       "      <td id=\"T_78c7f_row87_col1\" class=\"data row87 col1\" >10/07/11</td>\n",
       "      <td id=\"T_78c7f_row87_col2\" class=\"data row87 col2\" >$ 1630989.95</td>\n",
       "      <td id=\"T_78c7f_row87_col3\" class=\"data row87 col3\" >False</td>\n",
       "      <td id=\"T_78c7f_row87_col4\" class=\"data row87 col4\" >69.31º</td>\n",
       "    </tr>\n",
       "    <tr>\n",
       "      <th id=\"T_78c7f_level0_row88\" class=\"row_heading level0 row88\" >88</th>\n",
       "      <td id=\"T_78c7f_row88_col0\" class=\"data row88 col0\" >1</td>\n",
       "      <td id=\"T_78c7f_row88_col1\" class=\"data row88 col1\" >14/10/11</td>\n",
       "      <td id=\"T_78c7f_row88_col2\" class=\"data row88 col2\" >$ 1493525.93</td>\n",
       "      <td id=\"T_78c7f_row88_col3\" class=\"data row88 col3\" >False</td>\n",
       "      <td id=\"T_78c7f_row88_col4\" class=\"data row88 col4\" >71.74º</td>\n",
       "    </tr>\n",
       "    <tr>\n",
       "      <th id=\"T_78c7f_level0_row89\" class=\"row_heading level0 row89\" >89</th>\n",
       "      <td id=\"T_78c7f_row89_col0\" class=\"data row89 col0\" >1</td>\n",
       "      <td id=\"T_78c7f_row89_col1\" class=\"data row89 col1\" >21/10/11</td>\n",
       "      <td id=\"T_78c7f_row89_col2\" class=\"data row89 col2\" >$ 1502562.78</td>\n",
       "      <td id=\"T_78c7f_row89_col3\" class=\"data row89 col3\" >False</td>\n",
       "      <td id=\"T_78c7f_row89_col4\" class=\"data row89 col4\" >63.71º</td>\n",
       "    </tr>\n",
       "    <tr>\n",
       "      <th id=\"T_78c7f_level0_row90\" class=\"row_heading level0 row90\" >90</th>\n",
       "      <td id=\"T_78c7f_row90_col0\" class=\"data row90 col0\" >1</td>\n",
       "      <td id=\"T_78c7f_row90_col1\" class=\"data row90 col1\" >28/10/11</td>\n",
       "      <td id=\"T_78c7f_row90_col2\" class=\"data row90 col2\" >$ 1445249.09</td>\n",
       "      <td id=\"T_78c7f_row90_col3\" class=\"data row90 col3\" >False</td>\n",
       "      <td id=\"T_78c7f_row90_col4\" class=\"data row90 col4\" >66.57º</td>\n",
       "    </tr>\n",
       "    <tr>\n",
       "      <th id=\"T_78c7f_level0_row91\" class=\"row_heading level0 row91\" >91</th>\n",
       "      <td id=\"T_78c7f_row91_col0\" class=\"data row91 col0\" >1</td>\n",
       "      <td id=\"T_78c7f_row91_col1\" class=\"data row91 col1\" >11/04/11</td>\n",
       "      <td id=\"T_78c7f_row91_col2\" class=\"data row91 col2\" >$ 1697229.58</td>\n",
       "      <td id=\"T_78c7f_row91_col3\" class=\"data row91 col3\" >False</td>\n",
       "      <td id=\"T_78c7f_row91_col4\" class=\"data row91 col4\" >54.98º</td>\n",
       "    </tr>\n",
       "    <tr>\n",
       "      <th id=\"T_78c7f_level0_row92\" class=\"row_heading level0 row92\" >92</th>\n",
       "      <td id=\"T_78c7f_row92_col0\" class=\"data row92 col0\" >1</td>\n",
       "      <td id=\"T_78c7f_row92_col1\" class=\"data row92 col1\" >11/11/11</td>\n",
       "      <td id=\"T_78c7f_row92_col2\" class=\"data row92 col2\" >$ 1594938.89</td>\n",
       "      <td id=\"T_78c7f_row92_col3\" class=\"data row92 col3\" >False</td>\n",
       "      <td id=\"T_78c7f_row92_col4\" class=\"data row92 col4\" >59.11º</td>\n",
       "    </tr>\n",
       "    <tr>\n",
       "      <th id=\"T_78c7f_level0_row93\" class=\"row_heading level0 row93\" >93</th>\n",
       "      <td id=\"T_78c7f_row93_col0\" class=\"data row93 col0\" >1</td>\n",
       "      <td id=\"T_78c7f_row93_col1\" class=\"data row93 col1\" >18/11/11</td>\n",
       "      <td id=\"T_78c7f_row93_col2\" class=\"data row93 col2\" >$ 1539483.70</td>\n",
       "      <td id=\"T_78c7f_row93_col3\" class=\"data row93 col3\" >False</td>\n",
       "      <td id=\"T_78c7f_row93_col4\" class=\"data row93 col4\" >62.25º</td>\n",
       "    </tr>\n",
       "    <tr>\n",
       "      <th id=\"T_78c7f_level0_row94\" class=\"row_heading level0 row94\" >94</th>\n",
       "      <td id=\"T_78c7f_row94_col0\" class=\"data row94 col0\" >1</td>\n",
       "      <td id=\"T_78c7f_row94_col1\" class=\"data row94 col1\" >25/11/11</td>\n",
       "      <td id=\"T_78c7f_row94_col2\" class=\"data row94 col2\" >$ 2033320.66</td>\n",
       "      <td id=\"T_78c7f_row94_col3\" class=\"data row94 col3\" >True</td>\n",
       "      <td id=\"T_78c7f_row94_col4\" class=\"data row94 col4\" >60.14º</td>\n",
       "    </tr>\n",
       "    <tr>\n",
       "      <th id=\"T_78c7f_level0_row95\" class=\"row_heading level0 row95\" >95</th>\n",
       "      <td id=\"T_78c7f_row95_col0\" class=\"data row95 col0\" >1</td>\n",
       "      <td id=\"T_78c7f_row95_col1\" class=\"data row95 col1\" >12/02/11</td>\n",
       "      <td id=\"T_78c7f_row95_col2\" class=\"data row95 col2\" >$ 1584083.95</td>\n",
       "      <td id=\"T_78c7f_row95_col3\" class=\"data row95 col3\" >False</td>\n",
       "      <td id=\"T_78c7f_row95_col4\" class=\"data row95 col4\" >48.91º</td>\n",
       "    </tr>\n",
       "    <tr>\n",
       "      <th id=\"T_78c7f_level0_row96\" class=\"row_heading level0 row96\" >96</th>\n",
       "      <td id=\"T_78c7f_row96_col0\" class=\"data row96 col0\" >1</td>\n",
       "      <td id=\"T_78c7f_row96_col1\" class=\"data row96 col1\" >12/09/11</td>\n",
       "      <td id=\"T_78c7f_row96_col2\" class=\"data row96 col2\" >$ 1799682.38</td>\n",
       "      <td id=\"T_78c7f_row96_col3\" class=\"data row96 col3\" >False</td>\n",
       "      <td id=\"T_78c7f_row96_col4\" class=\"data row96 col4\" >43.93º</td>\n",
       "    </tr>\n",
       "    <tr>\n",
       "      <th id=\"T_78c7f_level0_row97\" class=\"row_heading level0 row97\" >97</th>\n",
       "      <td id=\"T_78c7f_row97_col0\" class=\"data row97 col0\" >1</td>\n",
       "      <td id=\"T_78c7f_row97_col1\" class=\"data row97 col1\" >16/12/11</td>\n",
       "      <td id=\"T_78c7f_row97_col2\" class=\"data row97 col2\" >$ 1881176.67</td>\n",
       "      <td id=\"T_78c7f_row97_col3\" class=\"data row97 col3\" >False</td>\n",
       "      <td id=\"T_78c7f_row97_col4\" class=\"data row97 col4\" >51.63º</td>\n",
       "    </tr>\n",
       "    <tr>\n",
       "      <th id=\"T_78c7f_level0_row98\" class=\"row_heading level0 row98\" >98</th>\n",
       "      <td id=\"T_78c7f_row98_col0\" class=\"data row98 col0\" >1</td>\n",
       "      <td id=\"T_78c7f_row98_col1\" class=\"data row98 col1\" >23/12/11</td>\n",
       "      <td id=\"T_78c7f_row98_col2\" class=\"data row98 col2\" >$ 2270188.99</td>\n",
       "      <td id=\"T_78c7f_row98_col3\" class=\"data row98 col3\" >False</td>\n",
       "      <td id=\"T_78c7f_row98_col4\" class=\"data row98 col4\" >47.96º</td>\n",
       "    </tr>\n",
       "    <tr>\n",
       "      <th id=\"T_78c7f_level0_row99\" class=\"row_heading level0 row99\" >99</th>\n",
       "      <td id=\"T_78c7f_row99_col0\" class=\"data row99 col0\" >1</td>\n",
       "      <td id=\"T_78c7f_row99_col1\" class=\"data row99 col1\" >30/12/11</td>\n",
       "      <td id=\"T_78c7f_row99_col2\" class=\"data row99 col2\" >$ 1497462.72</td>\n",
       "      <td id=\"T_78c7f_row99_col3\" class=\"data row99 col3\" >True</td>\n",
       "      <td id=\"T_78c7f_row99_col4\" class=\"data row99 col4\" >44.55º</td>\n",
       "    </tr>\n",
       "    <tr>\n",
       "      <th id=\"T_78c7f_level0_row100\" class=\"row_heading level0 row100\" >100</th>\n",
       "      <td id=\"T_78c7f_row100_col0\" class=\"data row100 col0\" >1</td>\n",
       "      <td id=\"T_78c7f_row100_col1\" class=\"data row100 col1\" >01/06/12</td>\n",
       "      <td id=\"T_78c7f_row100_col2\" class=\"data row100 col2\" >$ 1550369.92</td>\n",
       "      <td id=\"T_78c7f_row100_col3\" class=\"data row100 col3\" >False</td>\n",
       "      <td id=\"T_78c7f_row100_col4\" class=\"data row100 col4\" >49.01º</td>\n",
       "    </tr>\n",
       "    <tr>\n",
       "      <th id=\"T_78c7f_level0_row101\" class=\"row_heading level0 row101\" >101</th>\n",
       "      <td id=\"T_78c7f_row101_col0\" class=\"data row101 col0\" >1</td>\n",
       "      <td id=\"T_78c7f_row101_col1\" class=\"data row101 col1\" >13/01/12</td>\n",
       "      <td id=\"T_78c7f_row101_col2\" class=\"data row101 col2\" >$ 1459601.17</td>\n",
       "      <td id=\"T_78c7f_row101_col3\" class=\"data row101 col3\" >False</td>\n",
       "      <td id=\"T_78c7f_row101_col4\" class=\"data row101 col4\" >48.53º</td>\n",
       "    </tr>\n",
       "    <tr>\n",
       "      <th id=\"T_78c7f_level0_row102\" class=\"row_heading level0 row102\" >102</th>\n",
       "      <td id=\"T_78c7f_row102_col0\" class=\"data row102 col0\" >1</td>\n",
       "      <td id=\"T_78c7f_row102_col1\" class=\"data row102 col1\" >20/01/12</td>\n",
       "      <td id=\"T_78c7f_row102_col2\" class=\"data row102 col2\" >$ 1394393.84</td>\n",
       "      <td id=\"T_78c7f_row102_col3\" class=\"data row102 col3\" >False</td>\n",
       "      <td id=\"T_78c7f_row102_col4\" class=\"data row102 col4\" >54.11º</td>\n",
       "    </tr>\n",
       "    <tr>\n",
       "      <th id=\"T_78c7f_level0_row103\" class=\"row_heading level0 row103\" >103</th>\n",
       "      <td id=\"T_78c7f_row103_col0\" class=\"data row103 col0\" >1</td>\n",
       "      <td id=\"T_78c7f_row103_col1\" class=\"data row103 col1\" >27/01/12</td>\n",
       "      <td id=\"T_78c7f_row103_col2\" class=\"data row103 col2\" >$ 1319325.59</td>\n",
       "      <td id=\"T_78c7f_row103_col3\" class=\"data row103 col3\" >False</td>\n",
       "      <td id=\"T_78c7f_row103_col4\" class=\"data row103 col4\" >54.26º</td>\n",
       "    </tr>\n",
       "    <tr>\n",
       "      <th id=\"T_78c7f_level0_row104\" class=\"row_heading level0 row104\" >104</th>\n",
       "      <td id=\"T_78c7f_row104_col0\" class=\"data row104 col0\" >1</td>\n",
       "      <td id=\"T_78c7f_row104_col1\" class=\"data row104 col1\" >02/03/12</td>\n",
       "      <td id=\"T_78c7f_row104_col2\" class=\"data row104 col2\" >$ 1636339.65</td>\n",
       "      <td id=\"T_78c7f_row104_col3\" class=\"data row104 col3\" >False</td>\n",
       "      <td id=\"T_78c7f_row104_col4\" class=\"data row104 col4\" >56.55º</td>\n",
       "    </tr>\n",
       "    <tr>\n",
       "      <th id=\"T_78c7f_level0_row105\" class=\"row_heading level0 row105\" >105</th>\n",
       "      <td id=\"T_78c7f_row105_col0\" class=\"data row105 col0\" >1</td>\n",
       "      <td id=\"T_78c7f_row105_col1\" class=\"data row105 col1\" >02/10/12</td>\n",
       "      <td id=\"T_78c7f_row105_col2\" class=\"data row105 col2\" >$ 1802477.43</td>\n",
       "      <td id=\"T_78c7f_row105_col3\" class=\"data row105 col3\" >True</td>\n",
       "      <td id=\"T_78c7f_row105_col4\" class=\"data row105 col4\" >48.02º</td>\n",
       "    </tr>\n",
       "    <tr>\n",
       "      <th id=\"T_78c7f_level0_row106\" class=\"row_heading level0 row106\" >106</th>\n",
       "      <td id=\"T_78c7f_row106_col0\" class=\"data row106 col0\" >1</td>\n",
       "      <td id=\"T_78c7f_row106_col1\" class=\"data row106 col1\" >17/02/12</td>\n",
       "      <td id=\"T_78c7f_row106_col2\" class=\"data row106 col2\" >$ 1819870.00</td>\n",
       "      <td id=\"T_78c7f_row106_col3\" class=\"data row106 col3\" >False</td>\n",
       "      <td id=\"T_78c7f_row106_col4\" class=\"data row106 col4\" >45.32º</td>\n",
       "    </tr>\n",
       "    <tr>\n",
       "      <th id=\"T_78c7f_level0_row107\" class=\"row_heading level0 row107\" >107</th>\n",
       "      <td id=\"T_78c7f_row107_col0\" class=\"data row107 col0\" >1</td>\n",
       "      <td id=\"T_78c7f_row107_col1\" class=\"data row107 col1\" >24/02/12</td>\n",
       "      <td id=\"T_78c7f_row107_col2\" class=\"data row107 col2\" >$ 1539387.83</td>\n",
       "      <td id=\"T_78c7f_row107_col3\" class=\"data row107 col3\" >False</td>\n",
       "      <td id=\"T_78c7f_row107_col4\" class=\"data row107 col4\" >57.25º</td>\n",
       "    </tr>\n",
       "    <tr>\n",
       "      <th id=\"T_78c7f_level0_row108\" class=\"row_heading level0 row108\" >108</th>\n",
       "      <td id=\"T_78c7f_row108_col0\" class=\"data row108 col0\" >1</td>\n",
       "      <td id=\"T_78c7f_row108_col1\" class=\"data row108 col1\" >03/02/12</td>\n",
       "      <td id=\"T_78c7f_row108_col2\" class=\"data row108 col2\" >$ 1688420.76</td>\n",
       "      <td id=\"T_78c7f_row108_col3\" class=\"data row108 col3\" >False</td>\n",
       "      <td id=\"T_78c7f_row108_col4\" class=\"data row108 col4\" >60.96º</td>\n",
       "    </tr>\n",
       "    <tr>\n",
       "      <th id=\"T_78c7f_level0_row109\" class=\"row_heading level0 row109\" >109</th>\n",
       "      <td id=\"T_78c7f_row109_col0\" class=\"data row109 col0\" >1</td>\n",
       "      <td id=\"T_78c7f_row109_col1\" class=\"data row109 col1\" >03/09/12</td>\n",
       "      <td id=\"T_78c7f_row109_col2\" class=\"data row109 col2\" >$ 1675431.16</td>\n",
       "      <td id=\"T_78c7f_row109_col3\" class=\"data row109 col3\" >False</td>\n",
       "      <td id=\"T_78c7f_row109_col4\" class=\"data row109 col4\" >58.76º</td>\n",
       "    </tr>\n",
       "    <tr>\n",
       "      <th id=\"T_78c7f_level0_row110\" class=\"row_heading level0 row110\" >110</th>\n",
       "      <td id=\"T_78c7f_row110_col0\" class=\"data row110 col0\" >1</td>\n",
       "      <td id=\"T_78c7f_row110_col1\" class=\"data row110 col1\" >16/03/12</td>\n",
       "      <td id=\"T_78c7f_row110_col2\" class=\"data row110 col2\" >$ 1677472.78</td>\n",
       "      <td id=\"T_78c7f_row110_col3\" class=\"data row110 col3\" >False</td>\n",
       "      <td id=\"T_78c7f_row110_col4\" class=\"data row110 col4\" >64.74º</td>\n",
       "    </tr>\n",
       "    <tr>\n",
       "      <th id=\"T_78c7f_level0_row111\" class=\"row_heading level0 row111\" >111</th>\n",
       "      <td id=\"T_78c7f_row111_col0\" class=\"data row111 col0\" >1</td>\n",
       "      <td id=\"T_78c7f_row111_col1\" class=\"data row111 col1\" >23/03/12</td>\n",
       "      <td id=\"T_78c7f_row111_col2\" class=\"data row111 col2\" >$ 1511068.07</td>\n",
       "      <td id=\"T_78c7f_row111_col3\" class=\"data row111 col3\" >False</td>\n",
       "      <td id=\"T_78c7f_row111_col4\" class=\"data row111 col4\" >65.93º</td>\n",
       "    </tr>\n",
       "    <tr>\n",
       "      <th id=\"T_78c7f_level0_row112\" class=\"row_heading level0 row112\" >112</th>\n",
       "      <td id=\"T_78c7f_row112_col0\" class=\"data row112 col0\" >1</td>\n",
       "      <td id=\"T_78c7f_row112_col1\" class=\"data row112 col1\" >30/03/12</td>\n",
       "      <td id=\"T_78c7f_row112_col2\" class=\"data row112 col2\" >$ 1649604.63</td>\n",
       "      <td id=\"T_78c7f_row112_col3\" class=\"data row112 col3\" >False</td>\n",
       "      <td id=\"T_78c7f_row112_col4\" class=\"data row112 col4\" >67.61º</td>\n",
       "    </tr>\n",
       "    <tr>\n",
       "      <th id=\"T_78c7f_level0_row113\" class=\"row_heading level0 row113\" >113</th>\n",
       "      <td id=\"T_78c7f_row113_col0\" class=\"data row113 col0\" >1</td>\n",
       "      <td id=\"T_78c7f_row113_col1\" class=\"data row113 col1\" >04/06/12</td>\n",
       "      <td id=\"T_78c7f_row113_col2\" class=\"data row113 col2\" >$ 1899676.88</td>\n",
       "      <td id=\"T_78c7f_row113_col3\" class=\"data row113 col3\" >False</td>\n",
       "      <td id=\"T_78c7f_row113_col4\" class=\"data row113 col4\" >70.43º</td>\n",
       "    </tr>\n",
       "    <tr>\n",
       "      <th id=\"T_78c7f_level0_row114\" class=\"row_heading level0 row114\" >114</th>\n",
       "      <td id=\"T_78c7f_row114_col0\" class=\"data row114 col0\" >1</td>\n",
       "      <td id=\"T_78c7f_row114_col1\" class=\"data row114 col1\" >13/04/12</td>\n",
       "      <td id=\"T_78c7f_row114_col2\" class=\"data row114 col2\" >$ 1621031.70</td>\n",
       "      <td id=\"T_78c7f_row114_col3\" class=\"data row114 col3\" >False</td>\n",
       "      <td id=\"T_78c7f_row114_col4\" class=\"data row114 col4\" >69.07º</td>\n",
       "    </tr>\n",
       "    <tr>\n",
       "      <th id=\"T_78c7f_level0_row115\" class=\"row_heading level0 row115\" >115</th>\n",
       "      <td id=\"T_78c7f_row115_col0\" class=\"data row115 col0\" >1</td>\n",
       "      <td id=\"T_78c7f_row115_col1\" class=\"data row115 col1\" >20/04/12</td>\n",
       "      <td id=\"T_78c7f_row115_col2\" class=\"data row115 col2\" >$ 1521577.87</td>\n",
       "      <td id=\"T_78c7f_row115_col3\" class=\"data row115 col3\" >False</td>\n",
       "      <td id=\"T_78c7f_row115_col4\" class=\"data row115 col4\" >66.76º</td>\n",
       "    </tr>\n",
       "    <tr>\n",
       "      <th id=\"T_78c7f_level0_row116\" class=\"row_heading level0 row116\" >116</th>\n",
       "      <td id=\"T_78c7f_row116_col0\" class=\"data row116 col0\" >1</td>\n",
       "      <td id=\"T_78c7f_row116_col1\" class=\"data row116 col1\" >27/04/12</td>\n",
       "      <td id=\"T_78c7f_row116_col2\" class=\"data row116 col2\" >$ 1468928.37</td>\n",
       "      <td id=\"T_78c7f_row116_col3\" class=\"data row116 col3\" >False</td>\n",
       "      <td id=\"T_78c7f_row116_col4\" class=\"data row116 col4\" >67.23º</td>\n",
       "    </tr>\n",
       "    <tr>\n",
       "      <th id=\"T_78c7f_level0_row117\" class=\"row_heading level0 row117\" >117</th>\n",
       "      <td id=\"T_78c7f_row117_col0\" class=\"data row117 col0\" >1</td>\n",
       "      <td id=\"T_78c7f_row117_col1\" class=\"data row117 col1\" >05/04/12</td>\n",
       "      <td id=\"T_78c7f_row117_col2\" class=\"data row117 col2\" >$ 1684519.99</td>\n",
       "      <td id=\"T_78c7f_row117_col3\" class=\"data row117 col3\" >False</td>\n",
       "      <td id=\"T_78c7f_row117_col4\" class=\"data row117 col4\" >75.55º</td>\n",
       "    </tr>\n",
       "    <tr>\n",
       "      <th id=\"T_78c7f_level0_row118\" class=\"row_heading level0 row118\" >118</th>\n",
       "      <td id=\"T_78c7f_row118_col0\" class=\"data row118 col0\" >1</td>\n",
       "      <td id=\"T_78c7f_row118_col1\" class=\"data row118 col1\" >05/11/12</td>\n",
       "      <td id=\"T_78c7f_row118_col2\" class=\"data row118 col2\" >$ 1611096.05</td>\n",
       "      <td id=\"T_78c7f_row118_col3\" class=\"data row118 col3\" >False</td>\n",
       "      <td id=\"T_78c7f_row118_col4\" class=\"data row118 col4\" >73.77º</td>\n",
       "    </tr>\n",
       "    <tr>\n",
       "      <th id=\"T_78c7f_level0_row119\" class=\"row_heading level0 row119\" >119</th>\n",
       "      <td id=\"T_78c7f_row119_col0\" class=\"data row119 col0\" >1</td>\n",
       "      <td id=\"T_78c7f_row119_col1\" class=\"data row119 col1\" >18/05/12</td>\n",
       "      <td id=\"T_78c7f_row119_col2\" class=\"data row119 col2\" >$ 1595901.87</td>\n",
       "      <td id=\"T_78c7f_row119_col3\" class=\"data row119 col3\" >False</td>\n",
       "      <td id=\"T_78c7f_row119_col4\" class=\"data row119 col4\" >70.33º</td>\n",
       "    </tr>\n",
       "    <tr>\n",
       "      <th id=\"T_78c7f_level0_row120\" class=\"row_heading level0 row120\" >120</th>\n",
       "      <td id=\"T_78c7f_row120_col0\" class=\"data row120 col0\" >1</td>\n",
       "      <td id=\"T_78c7f_row120_col1\" class=\"data row120 col1\" >25/05/12</td>\n",
       "      <td id=\"T_78c7f_row120_col2\" class=\"data row120 col2\" >$ 1555444.55</td>\n",
       "      <td id=\"T_78c7f_row120_col3\" class=\"data row120 col3\" >False</td>\n",
       "      <td id=\"T_78c7f_row120_col4\" class=\"data row120 col4\" >77.22º</td>\n",
       "    </tr>\n",
       "    <tr>\n",
       "      <th id=\"T_78c7f_level0_row121\" class=\"row_heading level0 row121\" >121</th>\n",
       "      <td id=\"T_78c7f_row121_col0\" class=\"data row121 col0\" >1</td>\n",
       "      <td id=\"T_78c7f_row121_col1\" class=\"data row121 col1\" >06/01/12</td>\n",
       "      <td id=\"T_78c7f_row121_col2\" class=\"data row121 col2\" >$ 1624477.58</td>\n",
       "      <td id=\"T_78c7f_row121_col3\" class=\"data row121 col3\" >False</td>\n",
       "      <td id=\"T_78c7f_row121_col4\" class=\"data row121 col4\" >77.95º</td>\n",
       "    </tr>\n",
       "    <tr>\n",
       "      <th id=\"T_78c7f_level0_row122\" class=\"row_heading level0 row122\" >122</th>\n",
       "      <td id=\"T_78c7f_row122_col0\" class=\"data row122 col0\" >1</td>\n",
       "      <td id=\"T_78c7f_row122_col1\" class=\"data row122 col1\" >06/08/12</td>\n",
       "      <td id=\"T_78c7f_row122_col2\" class=\"data row122 col2\" >$ 1697230.96</td>\n",
       "      <td id=\"T_78c7f_row122_col3\" class=\"data row122 col3\" >False</td>\n",
       "      <td id=\"T_78c7f_row122_col4\" class=\"data row122 col4\" >78.30º</td>\n",
       "    </tr>\n",
       "    <tr>\n",
       "      <th id=\"T_78c7f_level0_row123\" class=\"row_heading level0 row123\" >123</th>\n",
       "      <td id=\"T_78c7f_row123_col0\" class=\"data row123 col0\" >1</td>\n",
       "      <td id=\"T_78c7f_row123_col1\" class=\"data row123 col1\" >15/06/12</td>\n",
       "      <td id=\"T_78c7f_row123_col2\" class=\"data row123 col2\" >$ 1630607.00</td>\n",
       "      <td id=\"T_78c7f_row123_col3\" class=\"data row123 col3\" >False</td>\n",
       "      <td id=\"T_78c7f_row123_col4\" class=\"data row123 col4\" >79.35º</td>\n",
       "    </tr>\n",
       "    <tr>\n",
       "      <th id=\"T_78c7f_level0_row124\" class=\"row_heading level0 row124\" >124</th>\n",
       "      <td id=\"T_78c7f_row124_col0\" class=\"data row124 col0\" >1</td>\n",
       "      <td id=\"T_78c7f_row124_col1\" class=\"data row124 col1\" >22/06/12</td>\n",
       "      <td id=\"T_78c7f_row124_col2\" class=\"data row124 col2\" >$ 1527845.81</td>\n",
       "      <td id=\"T_78c7f_row124_col3\" class=\"data row124 col3\" >False</td>\n",
       "      <td id=\"T_78c7f_row124_col4\" class=\"data row124 col4\" >78.39º</td>\n",
       "    </tr>\n",
       "    <tr>\n",
       "      <th id=\"T_78c7f_level0_row125\" class=\"row_heading level0 row125\" >125</th>\n",
       "      <td id=\"T_78c7f_row125_col0\" class=\"data row125 col0\" >1</td>\n",
       "      <td id=\"T_78c7f_row125_col1\" class=\"data row125 col1\" >29/06/12</td>\n",
       "      <td id=\"T_78c7f_row125_col2\" class=\"data row125 col2\" >$ 1540421.49</td>\n",
       "      <td id=\"T_78c7f_row125_col3\" class=\"data row125 col3\" >False</td>\n",
       "      <td id=\"T_78c7f_row125_col4\" class=\"data row125 col4\" >84.88º</td>\n",
       "    </tr>\n",
       "    <tr>\n",
       "      <th id=\"T_78c7f_level0_row126\" class=\"row_heading level0 row126\" >126</th>\n",
       "      <td id=\"T_78c7f_row126_col0\" class=\"data row126 col0\" >1</td>\n",
       "      <td id=\"T_78c7f_row126_col1\" class=\"data row126 col1\" >07/06/12</td>\n",
       "      <td id=\"T_78c7f_row126_col2\" class=\"data row126 col2\" >$ 1769854.16</td>\n",
       "      <td id=\"T_78c7f_row126_col3\" class=\"data row126 col3\" >False</td>\n",
       "      <td id=\"T_78c7f_row126_col4\" class=\"data row126 col4\" >81.57º</td>\n",
       "    </tr>\n",
       "    <tr>\n",
       "      <th id=\"T_78c7f_level0_row127\" class=\"row_heading level0 row127\" >127</th>\n",
       "      <td id=\"T_78c7f_row127_col0\" class=\"data row127 col0\" >1</td>\n",
       "      <td id=\"T_78c7f_row127_col1\" class=\"data row127 col1\" >13/07/12</td>\n",
       "      <td id=\"T_78c7f_row127_col2\" class=\"data row127 col2\" >$ 1527014.04</td>\n",
       "      <td id=\"T_78c7f_row127_col3\" class=\"data row127 col3\" >False</td>\n",
       "      <td id=\"T_78c7f_row127_col4\" class=\"data row127 col4\" >77.12º</td>\n",
       "    </tr>\n",
       "    <tr>\n",
       "      <th id=\"T_78c7f_level0_row128\" class=\"row_heading level0 row128\" >128</th>\n",
       "      <td id=\"T_78c7f_row128_col0\" class=\"data row128 col0\" >1</td>\n",
       "      <td id=\"T_78c7f_row128_col1\" class=\"data row128 col1\" >20/07/12</td>\n",
       "      <td id=\"T_78c7f_row128_col2\" class=\"data row128 col2\" >$ 1497954.76</td>\n",
       "      <td id=\"T_78c7f_row128_col3\" class=\"data row128 col3\" >False</td>\n",
       "      <td id=\"T_78c7f_row128_col4\" class=\"data row128 col4\" >80.42º</td>\n",
       "    </tr>\n",
       "    <tr>\n",
       "      <th id=\"T_78c7f_level0_row129\" class=\"row_heading level0 row129\" >129</th>\n",
       "      <td id=\"T_78c7f_row129_col0\" class=\"data row129 col0\" >1</td>\n",
       "      <td id=\"T_78c7f_row129_col1\" class=\"data row129 col1\" >27/07/12</td>\n",
       "      <td id=\"T_78c7f_row129_col2\" class=\"data row129 col2\" >$ 1439123.71</td>\n",
       "      <td id=\"T_78c7f_row129_col3\" class=\"data row129 col3\" >False</td>\n",
       "      <td id=\"T_78c7f_row129_col4\" class=\"data row129 col4\" >82.66º</td>\n",
       "    </tr>\n",
       "    <tr>\n",
       "      <th id=\"T_78c7f_level0_row130\" class=\"row_heading level0 row130\" >130</th>\n",
       "      <td id=\"T_78c7f_row130_col0\" class=\"data row130 col0\" >1</td>\n",
       "      <td id=\"T_78c7f_row130_col1\" class=\"data row130 col1\" >08/03/12</td>\n",
       "      <td id=\"T_78c7f_row130_col2\" class=\"data row130 col2\" >$ 1631135.79</td>\n",
       "      <td id=\"T_78c7f_row130_col3\" class=\"data row130 col3\" >False</td>\n",
       "      <td id=\"T_78c7f_row130_col4\" class=\"data row130 col4\" >86.11º</td>\n",
       "    </tr>\n",
       "    <tr>\n",
       "      <th id=\"T_78c7f_level0_row131\" class=\"row_heading level0 row131\" >131</th>\n",
       "      <td id=\"T_78c7f_row131_col0\" class=\"data row131 col0\" >1</td>\n",
       "      <td id=\"T_78c7f_row131_col1\" class=\"data row131 col1\" >08/10/12</td>\n",
       "      <td id=\"T_78c7f_row131_col2\" class=\"data row131 col2\" >$ 1592409.97</td>\n",
       "      <td id=\"T_78c7f_row131_col3\" class=\"data row131 col3\" >False</td>\n",
       "      <td id=\"T_78c7f_row131_col4\" class=\"data row131 col4\" >85.05º</td>\n",
       "    </tr>\n",
       "    <tr>\n",
       "      <th id=\"T_78c7f_level0_row132\" class=\"row_heading level0 row132\" >132</th>\n",
       "      <td id=\"T_78c7f_row132_col0\" class=\"data row132 col0\" >1</td>\n",
       "      <td id=\"T_78c7f_row132_col1\" class=\"data row132 col1\" >17/08/12</td>\n",
       "      <td id=\"T_78c7f_row132_col2\" class=\"data row132 col2\" >$ 1597868.05</td>\n",
       "      <td id=\"T_78c7f_row132_col3\" class=\"data row132 col3\" >False</td>\n",
       "      <td id=\"T_78c7f_row132_col4\" class=\"data row132 col4\" >84.85º</td>\n",
       "    </tr>\n",
       "    <tr>\n",
       "      <th id=\"T_78c7f_level0_row133\" class=\"row_heading level0 row133\" >133</th>\n",
       "      <td id=\"T_78c7f_row133_col0\" class=\"data row133 col0\" >1</td>\n",
       "      <td id=\"T_78c7f_row133_col1\" class=\"data row133 col1\" >24/08/12</td>\n",
       "      <td id=\"T_78c7f_row133_col2\" class=\"data row133 col2\" >$ 1494122.38</td>\n",
       "      <td id=\"T_78c7f_row133_col3\" class=\"data row133 col3\" >False</td>\n",
       "      <td id=\"T_78c7f_row133_col4\" class=\"data row133 col4\" >77.66º</td>\n",
       "    </tr>\n",
       "    <tr>\n",
       "      <th id=\"T_78c7f_level0_row134\" class=\"row_heading level0 row134\" >134</th>\n",
       "      <td id=\"T_78c7f_row134_col0\" class=\"data row134 col0\" >1</td>\n",
       "      <td id=\"T_78c7f_row134_col1\" class=\"data row134 col1\" >31/08/12</td>\n",
       "      <td id=\"T_78c7f_row134_col2\" class=\"data row134 col2\" >$ 1582083.40</td>\n",
       "      <td id=\"T_78c7f_row134_col3\" class=\"data row134 col3\" >False</td>\n",
       "      <td id=\"T_78c7f_row134_col4\" class=\"data row134 col4\" >80.49º</td>\n",
       "    </tr>\n",
       "    <tr>\n",
       "      <th id=\"T_78c7f_level0_row135\" class=\"row_heading level0 row135\" >135</th>\n",
       "      <td id=\"T_78c7f_row135_col0\" class=\"data row135 col0\" >1</td>\n",
       "      <td id=\"T_78c7f_row135_col1\" class=\"data row135 col1\" >09/07/12</td>\n",
       "      <td id=\"T_78c7f_row135_col2\" class=\"data row135 col2\" >$ 1661767.33</td>\n",
       "      <td id=\"T_78c7f_row135_col3\" class=\"data row135 col3\" >True</td>\n",
       "      <td id=\"T_78c7f_row135_col4\" class=\"data row135 col4\" >83.96º</td>\n",
       "    </tr>\n",
       "    <tr>\n",
       "      <th id=\"T_78c7f_level0_row136\" class=\"row_heading level0 row136\" >136</th>\n",
       "      <td id=\"T_78c7f_row136_col0\" class=\"data row136 col0\" >1</td>\n",
       "      <td id=\"T_78c7f_row136_col1\" class=\"data row136 col1\" >14/09/12</td>\n",
       "      <td id=\"T_78c7f_row136_col2\" class=\"data row136 col2\" >$ 1517428.87</td>\n",
       "      <td id=\"T_78c7f_row136_col3\" class=\"data row136 col3\" >False</td>\n",
       "      <td id=\"T_78c7f_row136_col4\" class=\"data row136 col4\" >74.97º</td>\n",
       "    </tr>\n",
       "    <tr>\n",
       "      <th id=\"T_78c7f_level0_row137\" class=\"row_heading level0 row137\" >137</th>\n",
       "      <td id=\"T_78c7f_row137_col0\" class=\"data row137 col0\" >1</td>\n",
       "      <td id=\"T_78c7f_row137_col1\" class=\"data row137 col1\" >21/09/12</td>\n",
       "      <td id=\"T_78c7f_row137_col2\" class=\"data row137 col2\" >$ 1506126.06</td>\n",
       "      <td id=\"T_78c7f_row137_col3\" class=\"data row137 col3\" >False</td>\n",
       "      <td id=\"T_78c7f_row137_col4\" class=\"data row137 col4\" >69.87º</td>\n",
       "    </tr>\n",
       "    <tr>\n",
       "      <th id=\"T_78c7f_level0_row138\" class=\"row_heading level0 row138\" >138</th>\n",
       "      <td id=\"T_78c7f_row138_col0\" class=\"data row138 col0\" >1</td>\n",
       "      <td id=\"T_78c7f_row138_col1\" class=\"data row138 col1\" >28/09/12</td>\n",
       "      <td id=\"T_78c7f_row138_col2\" class=\"data row138 col2\" >$ 1437059.26</td>\n",
       "      <td id=\"T_78c7f_row138_col3\" class=\"data row138 col3\" >False</td>\n",
       "      <td id=\"T_78c7f_row138_col4\" class=\"data row138 col4\" >76.08º</td>\n",
       "    </tr>\n",
       "    <tr>\n",
       "      <th id=\"T_78c7f_level0_row139\" class=\"row_heading level0 row139\" >139</th>\n",
       "      <td id=\"T_78c7f_row139_col0\" class=\"data row139 col0\" >1</td>\n",
       "      <td id=\"T_78c7f_row139_col1\" class=\"data row139 col1\" >10/05/12</td>\n",
       "      <td id=\"T_78c7f_row139_col2\" class=\"data row139 col2\" >$ 1670785.97</td>\n",
       "      <td id=\"T_78c7f_row139_col3\" class=\"data row139 col3\" >False</td>\n",
       "      <td id=\"T_78c7f_row139_col4\" class=\"data row139 col4\" >68.55º</td>\n",
       "    </tr>\n",
       "    <tr>\n",
       "      <th id=\"T_78c7f_level0_row140\" class=\"row_heading level0 row140\" >140</th>\n",
       "      <td id=\"T_78c7f_row140_col0\" class=\"data row140 col0\" >1</td>\n",
       "      <td id=\"T_78c7f_row140_col1\" class=\"data row140 col1\" >10/12/12</td>\n",
       "      <td id=\"T_78c7f_row140_col2\" class=\"data row140 col2\" >$ 1573072.81</td>\n",
       "      <td id=\"T_78c7f_row140_col3\" class=\"data row140 col3\" >False</td>\n",
       "      <td id=\"T_78c7f_row140_col4\" class=\"data row140 col4\" >62.99º</td>\n",
       "    </tr>\n",
       "    <tr>\n",
       "      <th id=\"T_78c7f_level0_row141\" class=\"row_heading level0 row141\" >141</th>\n",
       "      <td id=\"T_78c7f_row141_col0\" class=\"data row141 col0\" >1</td>\n",
       "      <td id=\"T_78c7f_row141_col1\" class=\"data row141 col1\" >19/10/12</td>\n",
       "      <td id=\"T_78c7f_row141_col2\" class=\"data row141 col2\" >$ 1508068.77</td>\n",
       "      <td id=\"T_78c7f_row141_col3\" class=\"data row141 col3\" >False</td>\n",
       "      <td id=\"T_78c7f_row141_col4\" class=\"data row141 col4\" >67.97º</td>\n",
       "    </tr>\n",
       "    <tr>\n",
       "      <th id=\"T_78c7f_level0_row142\" class=\"row_heading level0 row142\" >142</th>\n",
       "      <td id=\"T_78c7f_row142_col0\" class=\"data row142 col0\" >1</td>\n",
       "      <td id=\"T_78c7f_row142_col1\" class=\"data row142 col1\" >26/10/12</td>\n",
       "      <td id=\"T_78c7f_row142_col2\" class=\"data row142 col2\" >$ 1493659.74</td>\n",
       "      <td id=\"T_78c7f_row142_col3\" class=\"data row142 col3\" >False</td>\n",
       "      <td id=\"T_78c7f_row142_col4\" class=\"data row142 col4\" >69.16º</td>\n",
       "    </tr>\n",
       "  </tbody>\n",
       "</table>\n"
      ],
      "text/plain": [
       "<pandas.io.formats.style.Styler at 0x75ebd763d1c0>"
      ]
     },
     "execution_count": 89,
     "metadata": {},
     "output_type": "execute_result"
    }
   ],
   "source": [
    "format_dict = {\n",
    "    \"data\": \"{:%d/%m/%y}\",\n",
    "    \"vendas_semanais\": \"$ {:.2f}\",\n",
    "    \"temperatura\": \"{:.2f}º\"\n",
    "}\n",
    "df_aux.style.format(format_dict)"
   ]
  },
  {
   "cell_type": "markdown",
   "id": "3b8472f1",
   "metadata": {},
   "source": [
    "- Adicionando cores e barras para destacar valores"
   ]
  },
  {
   "cell_type": "code",
   "execution_count": 90,
   "id": "333783d5",
   "metadata": {},
   "outputs": [
    {
     "data": {
      "text/html": [
       "<style type=\"text/css\">\n",
       "#T_4119c_row0_col2 {\n",
       "  background-color: #b6e2af;\n",
       "  color: #000000;\n",
       "}\n",
       "#T_4119c_row0_col4, #T_4119c_row52_col4 {\n",
       "  width: 10em;\n",
       "  background: linear-gradient(90deg, transparent 50.0%, lightblue 50.0%, lightblue 73.1%, transparent 73.1%);\n",
       "}\n",
       "#T_4119c_row1_col2 {\n",
       "  background-color: #b7e2b1;\n",
       "  color: #000000;\n",
       "}\n",
       "#T_4119c_row1_col3, #T_4119c_row31_col3, #T_4119c_row42_col3, #T_4119c_row47_col3, #T_4119c_row53_col3, #T_4119c_row83_col3, #T_4119c_row94_col3, #T_4119c_row99_col3, #T_4119c_row105_col3, #T_4119c_row135_col3 {\n",
       "  background-color: red;\n",
       "}\n",
       "#T_4119c_row1_col4 {\n",
       "  width: 10em;\n",
       "  background: linear-gradient(90deg, transparent 50.0%, lightblue 50.0%, lightblue 71.0%, transparent 71.0%);\n",
       "}\n",
       "#T_4119c_row2_col2, #T_4119c_row118_col2 {\n",
       "  background-color: #c0e6b9;\n",
       "  color: #000000;\n",
       "}\n",
       "#T_4119c_row2_col4 {\n",
       "  width: 10em;\n",
       "  background: linear-gradient(90deg, transparent 50.0%, lightblue 50.0%, lightblue 71.8%, transparent 71.8%);\n",
       "}\n",
       "#T_4119c_row3_col2 {\n",
       "  background-color: #ebf7e7;\n",
       "  color: #000000;\n",
       "}\n",
       "#T_4119c_row3_col4, #T_4119c_row4_col4 {\n",
       "  width: 10em;\n",
       "  background: linear-gradient(90deg, transparent 50.0%, lightblue 50.0%, lightblue 75.4%, transparent 75.4%);\n",
       "}\n",
       "#T_4119c_row4_col2, #T_4119c_row39_col2, #T_4119c_row57_col2 {\n",
       "  background-color: #ceecc8;\n",
       "  color: #000000;\n",
       "}\n",
       "#T_4119c_row5_col2, #T_4119c_row72_col2, #T_4119c_row129_col2 {\n",
       "  background-color: #e7f6e2;\n",
       "  color: #000000;\n",
       "}\n",
       "#T_4119c_row5_col4 {\n",
       "  width: 10em;\n",
       "  background: linear-gradient(90deg, transparent 50.0%, lightblue 50.0%, lightblue 81.5%, transparent 81.5%);\n",
       "}\n",
       "#T_4119c_row6_col2 {\n",
       "  background-color: #e0f3db;\n",
       "  color: #000000;\n",
       "}\n",
       "#T_4119c_row6_col4 {\n",
       "  width: 10em;\n",
       "  background: linear-gradient(90deg, transparent 50.0%, lightblue 50.0%, lightblue 79.8%, transparent 79.8%);\n",
       "}\n",
       "#T_4119c_row7_col2, #T_4119c_row15_col2, #T_4119c_row76_col2 {\n",
       "  background-color: #ecf8e8;\n",
       "  color: #000000;\n",
       "}\n",
       "#T_4119c_row7_col4 {\n",
       "  width: 10em;\n",
       "  background: linear-gradient(90deg, transparent 50.0%, lightblue 50.0%, lightblue 78.1%, transparent 78.1%);\n",
       "}\n",
       "#T_4119c_row8_col2, #T_4119c_row92_col2, #T_4119c_row119_col2 {\n",
       "  background-color: #c4e8bd;\n",
       "  color: #000000;\n",
       "}\n",
       "#T_4119c_row8_col4, #T_4119c_row93_col4 {\n",
       "  width: 10em;\n",
       "  background: linear-gradient(90deg, transparent 50.0%, lightblue 50.0%, lightblue 84.0%, transparent 84.0%);\n",
       "}\n",
       "#T_4119c_row9_col2, #T_4119c_row22_col2 {\n",
       "  background-color: #d0edca;\n",
       "  color: #000000;\n",
       "}\n",
       "#T_4119c_row9_col4 {\n",
       "  width: 10em;\n",
       "  background: linear-gradient(90deg, transparent 50.0%, lightblue 50.0%, lightblue 85.9%, transparent 85.9%);\n",
       "}\n",
       "#T_4119c_row10_col2, #T_4119c_row68_col2, #T_4119c_row81_col2 {\n",
       "  background-color: #e2f4dd;\n",
       "  color: #000000;\n",
       "}\n",
       "#T_4119c_row10_col4 {\n",
       "  width: 10em;\n",
       "  background: linear-gradient(90deg, transparent 50.0%, lightblue 50.0%, lightblue 86.2%, transparent 86.2%);\n",
       "}\n",
       "#T_4119c_row11_col2, #T_4119c_row49_col2 {\n",
       "  background-color: #edf8ea;\n",
       "  color: #000000;\n",
       "}\n",
       "#T_4119c_row11_col4 {\n",
       "  width: 10em;\n",
       "  background: linear-gradient(90deg, transparent 50.0%, lightblue 50.0%, lightblue 85.4%, transparent 85.4%);\n",
       "}\n",
       "#T_4119c_row12_col2, #T_4119c_row20_col2 {\n",
       "  background-color: #e9f7e5;\n",
       "  color: #000000;\n",
       "}\n",
       "#T_4119c_row12_col4 {\n",
       "  width: 10em;\n",
       "  background: linear-gradient(90deg, transparent 50.0%, lightblue 50.0%, lightblue 86.8%, transparent 86.8%);\n",
       "}\n",
       "#T_4119c_row13_col2, #T_4119c_row26_col2, #T_4119c_row66_col2 {\n",
       "  background-color: #c2e7bb;\n",
       "  color: #000000;\n",
       "}\n",
       "#T_4119c_row13_col4 {\n",
       "  width: 10em;\n",
       "  background: linear-gradient(90deg, transparent 50.0%, lightblue 50.0%, lightblue 89.6%, transparent 89.6%);\n",
       "}\n",
       "#T_4119c_row14_col2, #T_4119c_row40_col2, #T_4119c_row60_col2, #T_4119c_row88_col2, #T_4119c_row133_col2, #T_4119c_row142_col2 {\n",
       "  background-color: #dbf1d6;\n",
       "  color: #000000;\n",
       "}\n",
       "#T_4119c_row14_col4 {\n",
       "  width: 10em;\n",
       "  background: linear-gradient(90deg, transparent 50.0%, lightblue 50.0%, lightblue 90.8%, transparent 90.8%);\n",
       "}\n",
       "#T_4119c_row15_col4 {\n",
       "  width: 10em;\n",
       "  background: linear-gradient(90deg, transparent 50.0%, lightblue 50.0%, lightblue 91.7%, transparent 91.7%);\n",
       "}\n",
       "#T_4119c_row16_col2, #T_4119c_row32_col2 {\n",
       "  background-color: #e8f6e3;\n",
       "  color: #000000;\n",
       "}\n",
       "#T_4119c_row16_col4, #T_4119c_row18_col4, #T_4119c_row22_col4, #T_4119c_row128_col4, #T_4119c_row134_col4 {\n",
       "  width: 10em;\n",
       "  background: linear-gradient(90deg, transparent 50.0%, lightblue 50.0%, lightblue 93.9%, transparent 93.9%);\n",
       "}\n",
       "#T_4119c_row17_col2, #T_4119c_row61_col2 {\n",
       "  background-color: #bee5b8;\n",
       "  color: #000000;\n",
       "}\n",
       "#T_4119c_row17_col4 {\n",
       "  width: 10em;\n",
       "  background: linear-gradient(90deg, transparent 50.0%, lightblue 50.0%, lightblue 94.0%, transparent 94.0%);\n",
       "}\n",
       "#T_4119c_row18_col2, #T_4119c_row30_col2, #T_4119c_row59_col2, #T_4119c_row83_col2, #T_4119c_row93_col2, #T_4119c_row107_col2, #T_4119c_row125_col2 {\n",
       "  background-color: #d1edcb;\n",
       "  color: #000000;\n",
       "}\n",
       "#T_4119c_row19_col2, #T_4119c_row89_col2 {\n",
       "  background-color: #daf0d4;\n",
       "  color: #000000;\n",
       "}\n",
       "#T_4119c_row19_col4 {\n",
       "  width: 10em;\n",
       "  background: linear-gradient(90deg, transparent 50.0%, lightblue 50.0%, lightblue 95.9%, transparent 95.9%);\n",
       "}\n",
       "#T_4119c_row20_col4 {\n",
       "  width: 10em;\n",
       "  background: linear-gradient(90deg, transparent 50.0%, lightblue 50.0%, lightblue 96.0%, transparent 96.0%);\n",
       "}\n",
       "#T_4119c_row21_col2, #T_4119c_row73_col2 {\n",
       "  background-color: #dcf2d7;\n",
       "  color: #000000;\n",
       "}\n",
       "#T_4119c_row21_col4 {\n",
       "  width: 10em;\n",
       "  background: linear-gradient(90deg, transparent 50.0%, lightblue 50.0%, lightblue 94.1%, transparent 94.1%);\n",
       "}\n",
       "#T_4119c_row23_col2, #T_4119c_row29_col2 {\n",
       "  background-color: #e5f5e1;\n",
       "  color: #000000;\n",
       "}\n",
       "#T_4119c_row23_col4, #T_4119c_row70_col4 {\n",
       "  width: 10em;\n",
       "  background: linear-gradient(90deg, transparent 50.0%, lightblue 50.0%, lightblue 95.4%, transparent 95.4%);\n",
       "}\n",
       "#T_4119c_row24_col2, #T_4119c_row38_col2 {\n",
       "  background-color: #eef8ea;\n",
       "  color: #000000;\n",
       "}\n",
       "#T_4119c_row24_col4 {\n",
       "  width: 10em;\n",
       "  background: linear-gradient(90deg, transparent 50.0%, lightblue 50.0%, lightblue 95.5%, transparent 95.5%);\n",
       "}\n",
       "#T_4119c_row25_col2 {\n",
       "  background-color: #f0f9ec;\n",
       "  color: #000000;\n",
       "}\n",
       "#T_4119c_row25_col4 {\n",
       "  width: 10em;\n",
       "  background: linear-gradient(90deg, transparent 50.0%, lightblue 50.0%, lightblue 94.6%, transparent 94.6%);\n",
       "}\n",
       "#T_4119c_row26_col4 {\n",
       "  width: 10em;\n",
       "  background: linear-gradient(90deg, transparent 50.0%, lightblue 50.0%, lightblue 97.6%, transparent 97.6%);\n",
       "}\n",
       "#T_4119c_row27_col2, #T_4119c_row31_col2, #T_4119c_row35_col2, #T_4119c_row137_col2, #T_4119c_row141_col2 {\n",
       "  background-color: #d9f0d3;\n",
       "  color: #000000;\n",
       "}\n",
       "#T_4119c_row27_col4 {\n",
       "  width: 10em;\n",
       "  background: linear-gradient(90deg, transparent 50.0%, lightblue 50.0%, lightblue 97.5%, transparent 97.5%);\n",
       "}\n",
       "#T_4119c_row28_col2, #T_4119c_row111_col2 {\n",
       "  background-color: #d8f0d2;\n",
       "  color: #000000;\n",
       "}\n",
       "#T_4119c_row28_col4 {\n",
       "  width: 10em;\n",
       "  background: linear-gradient(90deg, transparent 50.0%, lightblue 50.0%, lightblue 97.3%, transparent 97.3%);\n",
       "}\n",
       "#T_4119c_row29_col4 {\n",
       "  width: 10em;\n",
       "  background: linear-gradient(90deg, transparent 50.0%, lightblue 50.0%, lightblue 96.5%, transparent 96.5%);\n",
       "}\n",
       "#T_4119c_row30_col4 {\n",
       "  width: 10em;\n",
       "  background: linear-gradient(90deg, transparent 50.0%, lightblue 50.0%, lightblue 94.3%, transparent 94.3%);\n",
       "}\n",
       "#T_4119c_row31_col4 {\n",
       "  width: 10em;\n",
       "  background: linear-gradient(90deg, transparent 50.0%, lightblue 50.0%, lightblue 92.9%, transparent 92.9%);\n",
       "}\n",
       "#T_4119c_row32_col4 {\n",
       "  width: 10em;\n",
       "  background: linear-gradient(90deg, transparent 50.0%, lightblue 50.0%, lightblue 94.8%, transparent 94.8%);\n",
       "}\n",
       "#T_4119c_row33_col2, #T_4119c_row77_col2 {\n",
       "  background-color: #f2faf0;\n",
       "  color: #000000;\n",
       "}\n",
       "#T_4119c_row33_col4 {\n",
       "  width: 10em;\n",
       "  background: linear-gradient(90deg, transparent 50.0%, lightblue 50.0%, lightblue 94.2%, transparent 94.2%);\n",
       "}\n",
       "#T_4119c_row34_col2 {\n",
       "  background-color: #e5f5e0;\n",
       "  color: #000000;\n",
       "}\n",
       "#T_4119c_row34_col4 {\n",
       "  width: 10em;\n",
       "  background: linear-gradient(90deg, transparent 50.0%, lightblue 50.0%, lightblue 89.2%, transparent 89.2%);\n",
       "}\n",
       "#T_4119c_row35_col4 {\n",
       "  width: 10em;\n",
       "  background: linear-gradient(90deg, transparent 50.0%, lightblue 50.0%, lightblue 84.9%, transparent 84.9%);\n",
       "}\n",
       "#T_4119c_row36_col2, #T_4119c_row101_col2 {\n",
       "  background-color: #e3f4de;\n",
       "  color: #000000;\n",
       "}\n",
       "#T_4119c_row36_col4, #T_4119c_row116_col4 {\n",
       "  width: 10em;\n",
       "  background: linear-gradient(90deg, transparent 50.0%, lightblue 50.0%, lightblue 86.7%, transparent 86.7%);\n",
       "}\n",
       "#T_4119c_row37_col2 {\n",
       "  background-color: #f4fbf1;\n",
       "  color: #000000;\n",
       "}\n",
       "#T_4119c_row37_col4, #T_4119c_row137_col4 {\n",
       "  width: 10em;\n",
       "  background: linear-gradient(90deg, transparent 50.0%, lightblue 50.0%, lightblue 88.1%, transparent 88.1%);\n",
       "}\n",
       "#T_4119c_row38_col4 {\n",
       "  width: 10em;\n",
       "  background: linear-gradient(90deg, transparent 50.0%, lightblue 50.0%, lightblue 88.0%, transparent 88.0%);\n",
       "}\n",
       "#T_4119c_row39_col4 {\n",
       "  width: 10em;\n",
       "  background: linear-gradient(90deg, transparent 50.0%, lightblue 50.0%, lightblue 82.0%, transparent 82.0%);\n",
       "}\n",
       "#T_4119c_row40_col4, #T_4119c_row56_col4 {\n",
       "  width: 10em;\n",
       "  background: linear-gradient(90deg, transparent 50.0%, lightblue 50.0%, lightblue 82.5%, transparent 82.5%);\n",
       "}\n",
       "#T_4119c_row41_col2 {\n",
       "  background-color: #def2d9;\n",
       "  color: #000000;\n",
       "}\n",
       "#T_4119c_row41_col4 {\n",
       "  width: 10em;\n",
       "  background: linear-gradient(90deg, transparent 50.0%, lightblue 50.0%, lightblue 78.0%, transparent 78.0%);\n",
       "}\n",
       "#T_4119c_row42_col2 {\n",
       "  background-color: #4db163;\n",
       "  color: #f1f1f1;\n",
       "}\n",
       "#T_4119c_row42_col4, #T_4119c_row65_col4 {\n",
       "  width: 10em;\n",
       "  background: linear-gradient(90deg, transparent 50.0%, lightblue 50.0%, lightblue 85.2%, transparent 85.2%);\n",
       "}\n",
       "#T_4119c_row43_col2, #T_4119c_row82_col2, #T_4119c_row100_col2 {\n",
       "  background-color: #cfecc9;\n",
       "  color: #000000;\n",
       "}\n",
       "#T_4119c_row43_col4 {\n",
       "  width: 10em;\n",
       "  background: linear-gradient(90deg, transparent 50.0%, lightblue 50.0%, lightblue 76.9%, transparent 76.9%);\n",
       "}\n",
       "#T_4119c_row44_col2, #T_4119c_row117_col2 {\n",
       "  background-color: #abdda5;\n",
       "  color: #000000;\n",
       "}\n",
       "#T_4119c_row44_col4 {\n",
       "  width: 10em;\n",
       "  background: linear-gradient(90deg, transparent 50.0%, lightblue 50.0%, lightblue 75.3%, transparent 75.3%);\n",
       "}\n",
       "#T_4119c_row45_col2 {\n",
       "  background-color: #65bd6f;\n",
       "  color: #f1f1f1;\n",
       "}\n",
       "#T_4119c_row45_col4 {\n",
       "  width: 10em;\n",
       "  background: linear-gradient(90deg, transparent 50.0%, lightblue 50.0%, lightblue 77.2%, transparent 77.2%);\n",
       "}\n",
       "#T_4119c_row46_col2 {\n",
       "  background-color: #00441b;\n",
       "  color: #f1f1f1;\n",
       "}\n",
       "#T_4119c_row46_col4 {\n",
       "  width: 10em;\n",
       "  background: linear-gradient(90deg, transparent 50.0%, lightblue 50.0%, lightblue 78.5%, transparent 78.5%);\n",
       "}\n",
       "#T_4119c_row47_col2 {\n",
       "  background-color: #f0f9ed;\n",
       "  color: #000000;\n",
       "}\n",
       "#T_4119c_row47_col4 {\n",
       "  width: 10em;\n",
       "  background: linear-gradient(90deg, transparent 50.0%, lightblue 50.0%, lightblue 76.4%, transparent 76.4%);\n",
       "}\n",
       "#T_4119c_row48_col2, #T_4119c_row90_col2 {\n",
       "  background-color: #e6f5e1;\n",
       "  color: #000000;\n",
       "}\n",
       "#T_4119c_row48_col4 {\n",
       "  width: 10em;\n",
       "  background: linear-gradient(90deg, transparent 50.0%, lightblue 50.0%, lightblue 76.3%, transparent 76.3%);\n",
       "}\n",
       "#T_4119c_row49_col4 {\n",
       "  width: 10em;\n",
       "  background: linear-gradient(90deg, transparent 50.0%, lightblue 50.0%, lightblue 69.3%, transparent 69.3%);\n",
       "}\n",
       "#T_4119c_row50_col2 {\n",
       "  background-color: #f6fcf4;\n",
       "  color: #000000;\n",
       "}\n",
       "#T_4119c_row50_col4, #T_4119c_row96_col4 {\n",
       "  width: 10em;\n",
       "  background: linear-gradient(90deg, transparent 50.0%, lightblue 50.0%, lightblue 74.0%, transparent 74.0%);\n",
       "}\n",
       "#T_4119c_row51_col2, #T_4119c_row103_col2 {\n",
       "  background-color: #f7fcf5;\n",
       "  color: #000000;\n",
       "}\n",
       "#T_4119c_row51_col4 {\n",
       "  width: 10em;\n",
       "  background: linear-gradient(90deg, transparent 50.0%, lightblue 50.0%, lightblue 73.9%, transparent 73.9%);\n",
       "}\n",
       "#T_4119c_row52_col2 {\n",
       "  background-color: #c1e6ba;\n",
       "  color: #000000;\n",
       "}\n",
       "#T_4119c_row53_col2, #T_4119c_row112_col2 {\n",
       "  background-color: #b5e1ae;\n",
       "  color: #000000;\n",
       "}\n",
       "#T_4119c_row53_col4 {\n",
       "  width: 10em;\n",
       "  background: linear-gradient(90deg, transparent 50.0%, lightblue 50.0%, lightblue 69.9%, transparent 69.9%);\n",
       "}\n",
       "#T_4119c_row54_col2, #T_4119c_row108_col2 {\n",
       "  background-color: #aadda4;\n",
       "  color: #000000;\n",
       "}\n",
       "#T_4119c_row54_col4 {\n",
       "  width: 10em;\n",
       "  background: linear-gradient(90deg, transparent 50.0%, lightblue 50.0%, lightblue 81.3%, transparent 81.3%);\n",
       "}\n",
       "#T_4119c_row55_col2, #T_4119c_row64_col2, #T_4119c_row75_col2 {\n",
       "  background-color: #e4f5df;\n",
       "  color: #000000;\n",
       "}\n",
       "#T_4119c_row55_col4 {\n",
       "  width: 10em;\n",
       "  background: linear-gradient(90deg, transparent 50.0%, lightblue 50.0%, lightblue 84.3%, transparent 84.3%);\n",
       "}\n",
       "#T_4119c_row56_col2, #T_4119c_row69_col2, #T_4119c_row104_col2 {\n",
       "  background-color: #b8e3b2;\n",
       "  color: #000000;\n",
       "}\n",
       "#T_4119c_row57_col4 {\n",
       "  width: 10em;\n",
       "  background: linear-gradient(90deg, transparent 50.0%, lightblue 50.0%, lightblue 79.2%, transparent 79.2%);\n",
       "}\n",
       "#T_4119c_row58_col2 {\n",
       "  background-color: #c9eac2;\n",
       "  color: #000000;\n",
       "}\n",
       "#T_4119c_row58_col4 {\n",
       "  width: 10em;\n",
       "  background: linear-gradient(90deg, transparent 50.0%, lightblue 50.0%, lightblue 84.2%, transparent 84.2%);\n",
       "}\n",
       "#T_4119c_row59_col4 {\n",
       "  width: 10em;\n",
       "  background: linear-gradient(90deg, transparent 50.0%, lightblue 50.0%, lightblue 88.2%, transparent 88.2%);\n",
       "}\n",
       "#T_4119c_row60_col4 {\n",
       "  width: 10em;\n",
       "  background: linear-gradient(90deg, transparent 50.0%, lightblue 50.0%, lightblue 82.3%, transparent 82.3%);\n",
       "}\n",
       "#T_4119c_row61_col4 {\n",
       "  width: 10em;\n",
       "  background: linear-gradient(90deg, transparent 50.0%, lightblue 50.0%, lightblue 87.0%, transparent 87.0%);\n",
       "}\n",
       "#T_4119c_row62_col2 {\n",
       "  background-color: #ccebc6;\n",
       "  color: #000000;\n",
       "}\n",
       "#T_4119c_row62_col4 {\n",
       "  width: 10em;\n",
       "  background: linear-gradient(90deg, transparent 50.0%, lightblue 50.0%, lightblue 88.9%, transparent 88.9%);\n",
       "}\n",
       "#T_4119c_row63_col2 {\n",
       "  background-color: #cbebc5;\n",
       "  color: #000000;\n",
       "}\n",
       "#T_4119c_row63_col4 {\n",
       "  width: 10em;\n",
       "  background: linear-gradient(90deg, transparent 50.0%, lightblue 50.0%, lightblue 89.8%, transparent 89.8%);\n",
       "}\n",
       "#T_4119c_row64_col4 {\n",
       "  width: 10em;\n",
       "  background: linear-gradient(90deg, transparent 50.0%, lightblue 50.0%, lightblue 89.3%, transparent 89.3%);\n",
       "}\n",
       "#T_4119c_row65_col2, #T_4119c_row123_col2 {\n",
       "  background-color: #bbe4b4;\n",
       "  color: #000000;\n",
       "}\n",
       "#T_4119c_row66_col4 {\n",
       "  width: 10em;\n",
       "  background: linear-gradient(90deg, transparent 50.0%, lightblue 50.0%, lightblue 91.3%, transparent 91.3%);\n",
       "}\n",
       "#T_4119c_row67_col2 {\n",
       "  background-color: #e8f6e4;\n",
       "  color: #000000;\n",
       "}\n",
       "#T_4119c_row67_col4, #T_4119c_row112_col4 {\n",
       "  width: 10em;\n",
       "  background: linear-gradient(90deg, transparent 50.0%, lightblue 50.0%, lightblue 86.9%, transparent 86.9%);\n",
       "}\n",
       "#T_4119c_row68_col4, #T_4119c_row133_col4 {\n",
       "  width: 10em;\n",
       "  background: linear-gradient(90deg, transparent 50.0%, lightblue 50.0%, lightblue 92.4%, transparent 92.4%);\n",
       "}\n",
       "#T_4119c_row69_col4 {\n",
       "  width: 10em;\n",
       "  background: linear-gradient(90deg, transparent 50.0%, lightblue 50.0%, lightblue 95.3%, transparent 95.3%);\n",
       "}\n",
       "#T_4119c_row70_col2, #T_4119c_row131_col2 {\n",
       "  background-color: #c6e8bf;\n",
       "  color: #000000;\n",
       "}\n",
       "#T_4119c_row71_col2, #T_4119c_row80_col2 {\n",
       "  background-color: #d3eecd;\n",
       "  color: #000000;\n",
       "}\n",
       "#T_4119c_row71_col4 {\n",
       "  width: 10em;\n",
       "  background: linear-gradient(90deg, transparent 50.0%, lightblue 50.0%, lightblue 97.1%, transparent 97.1%);\n",
       "}\n",
       "#T_4119c_row72_col4 {\n",
       "  width: 10em;\n",
       "  background: linear-gradient(90deg, transparent 50.0%, lightblue 50.0%, lightblue 95.6%, transparent 95.6%);\n",
       "}\n",
       "#T_4119c_row73_col4 {\n",
       "  width: 10em;\n",
       "  background: linear-gradient(90deg, transparent 50.0%, lightblue 50.0%, lightblue 96.7%, transparent 96.7%);\n",
       "}\n",
       "#T_4119c_row74_col2 {\n",
       "  background-color: #d2edcc;\n",
       "  color: #000000;\n",
       "}\n",
       "#T_4119c_row74_col4, #T_4119c_row76_col4 {\n",
       "  width: 10em;\n",
       "  background: linear-gradient(90deg, transparent 50.0%, lightblue 50.0%, lightblue 96.8%, transparent 96.8%);\n",
       "}\n",
       "#T_4119c_row75_col4 {\n",
       "  width: 10em;\n",
       "  background: linear-gradient(90deg, transparent 50.0%, lightblue 50.0%, lightblue 98.3%, transparent 98.3%);\n",
       "}\n",
       "#T_4119c_row77_col4 {\n",
       "  width: 10em;\n",
       "  background: linear-gradient(90deg, transparent 50.0%, lightblue 50.0%, lightblue 97.4%, transparent 97.4%);\n",
       "}\n",
       "#T_4119c_row78_col2, #T_4119c_row121_col2 {\n",
       "  background-color: #bce4b5;\n",
       "  color: #000000;\n",
       "}\n",
       "#T_4119c_row78_col4 {\n",
       "  width: 10em;\n",
       "  background: linear-gradient(90deg, transparent 50.0%, lightblue 50.0%, lightblue 100.0%, transparent 100.0%);\n",
       "}\n",
       "#T_4119c_row79_col2 {\n",
       "  background-color: #d5efcf;\n",
       "  color: #000000;\n",
       "}\n",
       "#T_4119c_row79_col4 {\n",
       "  width: 10em;\n",
       "  background: linear-gradient(90deg, transparent 50.0%, lightblue 50.0%, lightblue 99.5%, transparent 99.5%);\n",
       "}\n",
       "#T_4119c_row80_col4 {\n",
       "  width: 10em;\n",
       "  background: linear-gradient(90deg, transparent 50.0%, lightblue 50.0%, lightblue 99.1%, transparent 99.1%);\n",
       "}\n",
       "#T_4119c_row81_col4 {\n",
       "  width: 10em;\n",
       "  background: linear-gradient(90deg, transparent 50.0%, lightblue 50.0%, lightblue 98.0%, transparent 98.0%);\n",
       "}\n",
       "#T_4119c_row82_col4 {\n",
       "  width: 10em;\n",
       "  background: linear-gradient(90deg, transparent 50.0%, lightblue 50.0%, lightblue 97.9%, transparent 97.9%);\n",
       "}\n",
       "#T_4119c_row83_col4, #T_4119c_row138_col4 {\n",
       "  width: 10em;\n",
       "  background: linear-gradient(90deg, transparent 50.0%, lightblue 50.0%, lightblue 91.5%, transparent 91.5%);\n",
       "}\n",
       "#T_4119c_row84_col2, #T_4119c_row136_col2 {\n",
       "  background-color: #d7efd1;\n",
       "  color: #000000;\n",
       "}\n",
       "#T_4119c_row84_col4 {\n",
       "  width: 10em;\n",
       "  background: linear-gradient(90deg, transparent 50.0%, lightblue 50.0%, lightblue 93.6%, transparent 93.6%);\n",
       "}\n",
       "#T_4119c_row85_col2 {\n",
       "  background-color: #eff9eb;\n",
       "  color: #000000;\n",
       "}\n",
       "#T_4119c_row85_col4 {\n",
       "  width: 10em;\n",
       "  background: linear-gradient(90deg, transparent 50.0%, lightblue 50.0%, lightblue 91.4%, transparent 91.4%);\n",
       "}\n",
       "#T_4119c_row86_col2, #T_4119c_row102_col2 {\n",
       "  background-color: #edf8e9;\n",
       "  color: #000000;\n",
       "}\n",
       "#T_4119c_row86_col4 {\n",
       "  width: 10em;\n",
       "  background: linear-gradient(90deg, transparent 50.0%, lightblue 50.0%, lightblue 93.5%, transparent 93.5%);\n",
       "}\n",
       "#T_4119c_row87_col2, #T_4119c_row130_col2 {\n",
       "  background-color: #bae3b3;\n",
       "  color: #000000;\n",
       "}\n",
       "#T_4119c_row87_col4 {\n",
       "  width: 10em;\n",
       "  background: linear-gradient(90deg, transparent 50.0%, lightblue 50.0%, lightblue 87.8%, transparent 87.8%);\n",
       "}\n",
       "#T_4119c_row88_col4 {\n",
       "  width: 10em;\n",
       "  background: linear-gradient(90deg, transparent 50.0%, lightblue 50.0%, lightblue 89.1%, transparent 89.1%);\n",
       "}\n",
       "#T_4119c_row89_col4 {\n",
       "  width: 10em;\n",
       "  background: linear-gradient(90deg, transparent 50.0%, lightblue 50.0%, lightblue 84.8%, transparent 84.8%);\n",
       "}\n",
       "#T_4119c_row90_col4 {\n",
       "  width: 10em;\n",
       "  background: linear-gradient(90deg, transparent 50.0%, lightblue 50.0%, lightblue 86.3%, transparent 86.3%);\n",
       "}\n",
       "#T_4119c_row91_col2, #T_4119c_row122_col2 {\n",
       "  background-color: #a8dca2;\n",
       "  color: #000000;\n",
       "}\n",
       "#T_4119c_row91_col4 {\n",
       "  width: 10em;\n",
       "  background: linear-gradient(90deg, transparent 50.0%, lightblue 50.0%, lightblue 80.0%, transparent 80.0%);\n",
       "}\n",
       "#T_4119c_row92_col4 {\n",
       "  width: 10em;\n",
       "  background: linear-gradient(90deg, transparent 50.0%, lightblue 50.0%, lightblue 82.2%, transparent 82.2%);\n",
       "}\n",
       "#T_4119c_row94_col2 {\n",
       "  background-color: #369f54;\n",
       "  color: #f1f1f1;\n",
       "}\n",
       "#T_4119c_row94_col4 {\n",
       "  width: 10em;\n",
       "  background: linear-gradient(90deg, transparent 50.0%, lightblue 50.0%, lightblue 82.8%, transparent 82.8%);\n",
       "}\n",
       "#T_4119c_row95_col2, #T_4119c_row134_col2 {\n",
       "  background-color: #c8e9c1;\n",
       "  color: #000000;\n",
       "}\n",
       "#T_4119c_row95_col4, #T_4119c_row100_col4 {\n",
       "  width: 10em;\n",
       "  background: linear-gradient(90deg, transparent 50.0%, lightblue 50.0%, lightblue 76.7%, transparent 76.7%);\n",
       "}\n",
       "#T_4119c_row96_col2 {\n",
       "  background-color: #86cc85;\n",
       "  color: #000000;\n",
       "}\n",
       "#T_4119c_row97_col2 {\n",
       "  background-color: #6abf71;\n",
       "  color: #000000;\n",
       "}\n",
       "#T_4119c_row97_col4 {\n",
       "  width: 10em;\n",
       "  background: linear-gradient(90deg, transparent 50.0%, lightblue 50.0%, lightblue 78.2%, transparent 78.2%);\n",
       "}\n",
       "#T_4119c_row98_col2 {\n",
       "  background-color: #00682a;\n",
       "  color: #f1f1f1;\n",
       "}\n",
       "#T_4119c_row98_col4, #T_4119c_row105_col4 {\n",
       "  width: 10em;\n",
       "  background: linear-gradient(90deg, transparent 50.0%, lightblue 50.0%, lightblue 76.2%, transparent 76.2%);\n",
       "}\n",
       "#T_4119c_row99_col2, #T_4119c_row128_col2 {\n",
       "  background-color: #dbf1d5;\n",
       "  color: #000000;\n",
       "}\n",
       "#T_4119c_row99_col4 {\n",
       "  width: 10em;\n",
       "  background: linear-gradient(90deg, transparent 50.0%, lightblue 50.0%, lightblue 74.3%, transparent 74.3%);\n",
       "}\n",
       "#T_4119c_row101_col4 {\n",
       "  width: 10em;\n",
       "  background: linear-gradient(90deg, transparent 50.0%, lightblue 50.0%, lightblue 76.5%, transparent 76.5%);\n",
       "}\n",
       "#T_4119c_row102_col4 {\n",
       "  width: 10em;\n",
       "  background: linear-gradient(90deg, transparent 50.0%, lightblue 50.0%, lightblue 79.5%, transparent 79.5%);\n",
       "}\n",
       "#T_4119c_row103_col4 {\n",
       "  width: 10em;\n",
       "  background: linear-gradient(90deg, transparent 50.0%, lightblue 50.0%, lightblue 79.6%, transparent 79.6%);\n",
       "}\n",
       "#T_4119c_row104_col4 {\n",
       "  width: 10em;\n",
       "  background: linear-gradient(90deg, transparent 50.0%, lightblue 50.0%, lightblue 80.9%, transparent 80.9%);\n",
       "}\n",
       "#T_4119c_row105_col2 {\n",
       "  background-color: #84cc83;\n",
       "  color: #000000;\n",
       "}\n",
       "#T_4119c_row106_col2 {\n",
       "  background-color: #7fc97f;\n",
       "  color: #000000;\n",
       "}\n",
       "#T_4119c_row106_col4 {\n",
       "  width: 10em;\n",
       "  background: linear-gradient(90deg, transparent 50.0%, lightblue 50.0%, lightblue 74.7%, transparent 74.7%);\n",
       "}\n",
       "#T_4119c_row107_col4 {\n",
       "  width: 10em;\n",
       "  background: linear-gradient(90deg, transparent 50.0%, lightblue 50.0%, lightblue 81.2%, transparent 81.2%);\n",
       "}\n",
       "#T_4119c_row108_col4 {\n",
       "  width: 10em;\n",
       "  background: linear-gradient(90deg, transparent 50.0%, lightblue 50.0%, lightblue 83.3%, transparent 83.3%);\n",
       "}\n",
       "#T_4119c_row109_col2 {\n",
       "  background-color: #aedea7;\n",
       "  color: #000000;\n",
       "}\n",
       "#T_4119c_row109_col4 {\n",
       "  width: 10em;\n",
       "  background: linear-gradient(90deg, transparent 50.0%, lightblue 50.0%, lightblue 82.1%, transparent 82.1%);\n",
       "}\n",
       "#T_4119c_row110_col2 {\n",
       "  background-color: #acdea6;\n",
       "  color: #000000;\n",
       "}\n",
       "#T_4119c_row110_col4 {\n",
       "  width: 10em;\n",
       "  background: linear-gradient(90deg, transparent 50.0%, lightblue 50.0%, lightblue 85.3%, transparent 85.3%);\n",
       "}\n",
       "#T_4119c_row111_col4 {\n",
       "  width: 10em;\n",
       "  background: linear-gradient(90deg, transparent 50.0%, lightblue 50.0%, lightblue 86.0%, transparent 86.0%);\n",
       "}\n",
       "#T_4119c_row113_col2 {\n",
       "  background-color: #62bb6d;\n",
       "  color: #f1f1f1;\n",
       "}\n",
       "#T_4119c_row113_col4, #T_4119c_row119_col4 {\n",
       "  width: 10em;\n",
       "  background: linear-gradient(90deg, transparent 50.0%, lightblue 50.0%, lightblue 88.4%, transparent 88.4%);\n",
       "}\n",
       "#T_4119c_row114_col2 {\n",
       "  background-color: #bde5b6;\n",
       "  color: #000000;\n",
       "}\n",
       "#T_4119c_row114_col4, #T_4119c_row142_col4 {\n",
       "  width: 10em;\n",
       "  background: linear-gradient(90deg, transparent 50.0%, lightblue 50.0%, lightblue 87.7%, transparent 87.7%);\n",
       "}\n",
       "#T_4119c_row115_col2 {\n",
       "  background-color: #d6efd0;\n",
       "  color: #000000;\n",
       "}\n",
       "#T_4119c_row115_col4 {\n",
       "  width: 10em;\n",
       "  background: linear-gradient(90deg, transparent 50.0%, lightblue 50.0%, lightblue 86.4%, transparent 86.4%);\n",
       "}\n",
       "#T_4119c_row116_col2 {\n",
       "  background-color: #e1f3dc;\n",
       "  color: #000000;\n",
       "}\n",
       "#T_4119c_row117_col4 {\n",
       "  width: 10em;\n",
       "  background: linear-gradient(90deg, transparent 50.0%, lightblue 50.0%, lightblue 91.2%, transparent 91.2%);\n",
       "}\n",
       "#T_4119c_row118_col4 {\n",
       "  width: 10em;\n",
       "  background: linear-gradient(90deg, transparent 50.0%, lightblue 50.0%, lightblue 90.2%, transparent 90.2%);\n",
       "}\n",
       "#T_4119c_row120_col2 {\n",
       "  background-color: #cdecc7;\n",
       "  color: #000000;\n",
       "}\n",
       "#T_4119c_row120_col4, #T_4119c_row127_col4 {\n",
       "  width: 10em;\n",
       "  background: linear-gradient(90deg, transparent 50.0%, lightblue 50.0%, lightblue 92.1%, transparent 92.1%);\n",
       "}\n",
       "#T_4119c_row121_col4 {\n",
       "  width: 10em;\n",
       "  background: linear-gradient(90deg, transparent 50.0%, lightblue 50.0%, lightblue 92.5%, transparent 92.5%);\n",
       "}\n",
       "#T_4119c_row122_col4 {\n",
       "  width: 10em;\n",
       "  background: linear-gradient(90deg, transparent 50.0%, lightblue 50.0%, lightblue 92.7%, transparent 92.7%);\n",
       "}\n",
       "#T_4119c_row123_col4 {\n",
       "  width: 10em;\n",
       "  background: linear-gradient(90deg, transparent 50.0%, lightblue 50.0%, lightblue 93.3%, transparent 93.3%);\n",
       "}\n",
       "#T_4119c_row124_col2, #T_4119c_row127_col2 {\n",
       "  background-color: #d4eece;\n",
       "  color: #000000;\n",
       "}\n",
       "#T_4119c_row124_col4 {\n",
       "  width: 10em;\n",
       "  background: linear-gradient(90deg, transparent 50.0%, lightblue 50.0%, lightblue 92.8%, transparent 92.8%);\n",
       "}\n",
       "#T_4119c_row125_col4, #T_4119c_row132_col4 {\n",
       "  width: 10em;\n",
       "  background: linear-gradient(90deg, transparent 50.0%, lightblue 50.0%, lightblue 96.3%, transparent 96.3%);\n",
       "}\n",
       "#T_4119c_row126_col2 {\n",
       "  background-color: #90d18d;\n",
       "  color: #000000;\n",
       "}\n",
       "#T_4119c_row126_col4 {\n",
       "  width: 10em;\n",
       "  background: linear-gradient(90deg, transparent 50.0%, lightblue 50.0%, lightblue 94.5%, transparent 94.5%);\n",
       "}\n",
       "#T_4119c_row129_col4 {\n",
       "  width: 10em;\n",
       "  background: linear-gradient(90deg, transparent 50.0%, lightblue 50.0%, lightblue 95.1%, transparent 95.1%);\n",
       "}\n",
       "#T_4119c_row130_col4 {\n",
       "  width: 10em;\n",
       "  background: linear-gradient(90deg, transparent 50.0%, lightblue 50.0%, lightblue 97.0%, transparent 97.0%);\n",
       "}\n",
       "#T_4119c_row131_col4 {\n",
       "  width: 10em;\n",
       "  background: linear-gradient(90deg, transparent 50.0%, lightblue 50.0%, lightblue 96.4%, transparent 96.4%);\n",
       "}\n",
       "#T_4119c_row132_col2 {\n",
       "  background-color: #c3e7bc;\n",
       "  color: #000000;\n",
       "}\n",
       "#T_4119c_row135_col2 {\n",
       "  background-color: #b1e0ab;\n",
       "  color: #000000;\n",
       "}\n",
       "#T_4119c_row135_col4 {\n",
       "  width: 10em;\n",
       "  background: linear-gradient(90deg, transparent 50.0%, lightblue 50.0%, lightblue 95.8%, transparent 95.8%);\n",
       "}\n",
       "#T_4119c_row136_col4 {\n",
       "  width: 10em;\n",
       "  background: linear-gradient(90deg, transparent 50.0%, lightblue 50.0%, lightblue 90.9%, transparent 90.9%);\n",
       "}\n",
       "#T_4119c_row138_col2 {\n",
       "  background-color: #e7f6e3;\n",
       "  color: #000000;\n",
       "}\n",
       "#T_4119c_row139_col2 {\n",
       "  background-color: #afdfa8;\n",
       "  color: #000000;\n",
       "}\n",
       "#T_4119c_row139_col4 {\n",
       "  width: 10em;\n",
       "  background: linear-gradient(90deg, transparent 50.0%, lightblue 50.0%, lightblue 87.4%, transparent 87.4%);\n",
       "}\n",
       "#T_4119c_row140_col2 {\n",
       "  background-color: #caeac3;\n",
       "  color: #000000;\n",
       "}\n",
       "#T_4119c_row140_col4 {\n",
       "  width: 10em;\n",
       "  background: linear-gradient(90deg, transparent 50.0%, lightblue 50.0%, lightblue 84.4%, transparent 84.4%);\n",
       "}\n",
       "#T_4119c_row141_col4 {\n",
       "  width: 10em;\n",
       "  background: linear-gradient(90deg, transparent 50.0%, lightblue 50.0%, lightblue 87.1%, transparent 87.1%);\n",
       "}\n",
       "</style>\n",
       "<table id=\"T_4119c\">\n",
       "  <caption>Vendas semanais das lojas do Walmart</caption>\n",
       "  <thead>\n",
       "    <tr>\n",
       "      <th id=\"T_4119c_level0_col0\" class=\"col_heading level0 col0\" >loja</th>\n",
       "      <th id=\"T_4119c_level0_col1\" class=\"col_heading level0 col1\" >data</th>\n",
       "      <th id=\"T_4119c_level0_col2\" class=\"col_heading level0 col2\" >vendas_semanais</th>\n",
       "      <th id=\"T_4119c_level0_col3\" class=\"col_heading level0 col3\" >feriado</th>\n",
       "      <th id=\"T_4119c_level0_col4\" class=\"col_heading level0 col4\" >temperatura</th>\n",
       "    </tr>\n",
       "  </thead>\n",
       "  <tbody>\n",
       "    <tr>\n",
       "      <td id=\"T_4119c_row0_col0\" class=\"data row0 col0\" >1</td>\n",
       "      <td id=\"T_4119c_row0_col1\" class=\"data row0 col1\" >02/05/10</td>\n",
       "      <td id=\"T_4119c_row0_col2\" class=\"data row0 col2\" >$ 1643690.90</td>\n",
       "      <td id=\"T_4119c_row0_col3\" class=\"data row0 col3\" >False</td>\n",
       "      <td id=\"T_4119c_row0_col4\" class=\"data row0 col4\" >42.31º</td>\n",
       "    </tr>\n",
       "    <tr>\n",
       "      <td id=\"T_4119c_row1_col0\" class=\"data row1 col0\" >1</td>\n",
       "      <td id=\"T_4119c_row1_col1\" class=\"data row1 col1\" >02/12/10</td>\n",
       "      <td id=\"T_4119c_row1_col2\" class=\"data row1 col2\" >$ 1641957.44</td>\n",
       "      <td id=\"T_4119c_row1_col3\" class=\"data row1 col3\" >True</td>\n",
       "      <td id=\"T_4119c_row1_col4\" class=\"data row1 col4\" >38.51º</td>\n",
       "    </tr>\n",
       "    <tr>\n",
       "      <td id=\"T_4119c_row2_col0\" class=\"data row2 col0\" >1</td>\n",
       "      <td id=\"T_4119c_row2_col1\" class=\"data row2 col1\" >19/02/10</td>\n",
       "      <td id=\"T_4119c_row2_col2\" class=\"data row2 col2\" >$ 1611968.17</td>\n",
       "      <td id=\"T_4119c_row2_col3\" class=\"data row2 col3\" >False</td>\n",
       "      <td id=\"T_4119c_row2_col4\" class=\"data row2 col4\" >39.93º</td>\n",
       "    </tr>\n",
       "    <tr>\n",
       "      <td id=\"T_4119c_row3_col0\" class=\"data row3 col0\" >1</td>\n",
       "      <td id=\"T_4119c_row3_col1\" class=\"data row3 col1\" >26/02/10</td>\n",
       "      <td id=\"T_4119c_row3_col2\" class=\"data row3 col2\" >$ 1409727.59</td>\n",
       "      <td id=\"T_4119c_row3_col3\" class=\"data row3 col3\" >False</td>\n",
       "      <td id=\"T_4119c_row3_col4\" class=\"data row3 col4\" >46.63º</td>\n",
       "    </tr>\n",
       "    <tr>\n",
       "      <td id=\"T_4119c_row4_col0\" class=\"data row4 col0\" >1</td>\n",
       "      <td id=\"T_4119c_row4_col1\" class=\"data row4 col1\" >03/05/10</td>\n",
       "      <td id=\"T_4119c_row4_col2\" class=\"data row4 col2\" >$ 1554806.68</td>\n",
       "      <td id=\"T_4119c_row4_col3\" class=\"data row4 col3\" >False</td>\n",
       "      <td id=\"T_4119c_row4_col4\" class=\"data row4 col4\" >46.50º</td>\n",
       "    </tr>\n",
       "    <tr>\n",
       "      <td id=\"T_4119c_row5_col0\" class=\"data row5 col0\" >1</td>\n",
       "      <td id=\"T_4119c_row5_col1\" class=\"data row5 col1\" >03/12/10</td>\n",
       "      <td id=\"T_4119c_row5_col2\" class=\"data row5 col2\" >$ 1439541.59</td>\n",
       "      <td id=\"T_4119c_row5_col3\" class=\"data row5 col3\" >False</td>\n",
       "      <td id=\"T_4119c_row5_col4\" class=\"data row5 col4\" >57.79º</td>\n",
       "    </tr>\n",
       "    <tr>\n",
       "      <td id=\"T_4119c_row6_col0\" class=\"data row6 col0\" >1</td>\n",
       "      <td id=\"T_4119c_row6_col1\" class=\"data row6 col1\" >19/03/10</td>\n",
       "      <td id=\"T_4119c_row6_col2\" class=\"data row6 col2\" >$ 1472515.79</td>\n",
       "      <td id=\"T_4119c_row6_col3\" class=\"data row6 col3\" >False</td>\n",
       "      <td id=\"T_4119c_row6_col4\" class=\"data row6 col4\" >54.58º</td>\n",
       "    </tr>\n",
       "    <tr>\n",
       "      <td id=\"T_4119c_row7_col0\" class=\"data row7 col0\" >1</td>\n",
       "      <td id=\"T_4119c_row7_col1\" class=\"data row7 col1\" >26/03/10</td>\n",
       "      <td id=\"T_4119c_row7_col2\" class=\"data row7 col2\" >$ 1404429.92</td>\n",
       "      <td id=\"T_4119c_row7_col3\" class=\"data row7 col3\" >False</td>\n",
       "      <td id=\"T_4119c_row7_col4\" class=\"data row7 col4\" >51.45º</td>\n",
       "    </tr>\n",
       "    <tr>\n",
       "      <td id=\"T_4119c_row8_col0\" class=\"data row8 col0\" >1</td>\n",
       "      <td id=\"T_4119c_row8_col1\" class=\"data row8 col1\" >04/02/10</td>\n",
       "      <td id=\"T_4119c_row8_col2\" class=\"data row8 col2\" >$ 1594968.28</td>\n",
       "      <td id=\"T_4119c_row8_col3\" class=\"data row8 col3\" >False</td>\n",
       "      <td id=\"T_4119c_row8_col4\" class=\"data row8 col4\" >62.27º</td>\n",
       "    </tr>\n",
       "    <tr>\n",
       "      <td id=\"T_4119c_row9_col0\" class=\"data row9 col0\" >1</td>\n",
       "      <td id=\"T_4119c_row9_col1\" class=\"data row9 col1\" >04/09/10</td>\n",
       "      <td id=\"T_4119c_row9_col2\" class=\"data row9 col2\" >$ 1545418.53</td>\n",
       "      <td id=\"T_4119c_row9_col3\" class=\"data row9 col3\" >False</td>\n",
       "      <td id=\"T_4119c_row9_col4\" class=\"data row9 col4\" >65.86º</td>\n",
       "    </tr>\n",
       "    <tr>\n",
       "      <td id=\"T_4119c_row10_col0\" class=\"data row10 col0\" >1</td>\n",
       "      <td id=\"T_4119c_row10_col1\" class=\"data row10 col1\" >16/04/10</td>\n",
       "      <td id=\"T_4119c_row10_col2\" class=\"data row10 col2\" >$ 1466058.28</td>\n",
       "      <td id=\"T_4119c_row10_col3\" class=\"data row10 col3\" >False</td>\n",
       "      <td id=\"T_4119c_row10_col4\" class=\"data row10 col4\" >66.32º</td>\n",
       "    </tr>\n",
       "    <tr>\n",
       "      <td id=\"T_4119c_row11_col0\" class=\"data row11 col0\" >1</td>\n",
       "      <td id=\"T_4119c_row11_col1\" class=\"data row11 col1\" >23/04/10</td>\n",
       "      <td id=\"T_4119c_row11_col2\" class=\"data row11 col2\" >$ 1391256.12</td>\n",
       "      <td id=\"T_4119c_row11_col3\" class=\"data row11 col3\" >False</td>\n",
       "      <td id=\"T_4119c_row11_col4\" class=\"data row11 col4\" >64.84º</td>\n",
       "    </tr>\n",
       "    <tr>\n",
       "      <td id=\"T_4119c_row12_col0\" class=\"data row12 col0\" >1</td>\n",
       "      <td id=\"T_4119c_row12_col1\" class=\"data row12 col1\" >30/04/10</td>\n",
       "      <td id=\"T_4119c_row12_col2\" class=\"data row12 col2\" >$ 1425100.71</td>\n",
       "      <td id=\"T_4119c_row12_col3\" class=\"data row12 col3\" >False</td>\n",
       "      <td id=\"T_4119c_row12_col4\" class=\"data row12 col4\" >67.41º</td>\n",
       "    </tr>\n",
       "    <tr>\n",
       "      <td id=\"T_4119c_row13_col0\" class=\"data row13 col0\" >1</td>\n",
       "      <td id=\"T_4119c_row13_col1\" class=\"data row13 col1\" >05/07/10</td>\n",
       "      <td id=\"T_4119c_row13_col2\" class=\"data row13 col2\" >$ 1603955.12</td>\n",
       "      <td id=\"T_4119c_row13_col3\" class=\"data row13 col3\" >False</td>\n",
       "      <td id=\"T_4119c_row13_col4\" class=\"data row13 col4\" >72.55º</td>\n",
       "    </tr>\n",
       "    <tr>\n",
       "      <td id=\"T_4119c_row14_col0\" class=\"data row14 col0\" >1</td>\n",
       "      <td id=\"T_4119c_row14_col1\" class=\"data row14 col1\" >14/05/10</td>\n",
       "      <td id=\"T_4119c_row14_col2\" class=\"data row14 col2\" >$ 1494251.50</td>\n",
       "      <td id=\"T_4119c_row14_col3\" class=\"data row14 col3\" >False</td>\n",
       "      <td id=\"T_4119c_row14_col4\" class=\"data row14 col4\" >74.78º</td>\n",
       "    </tr>\n",
       "    <tr>\n",
       "      <td id=\"T_4119c_row15_col0\" class=\"data row15 col0\" >1</td>\n",
       "      <td id=\"T_4119c_row15_col1\" class=\"data row15 col1\" >21/05/10</td>\n",
       "      <td id=\"T_4119c_row15_col2\" class=\"data row15 col2\" >$ 1399662.07</td>\n",
       "      <td id=\"T_4119c_row15_col3\" class=\"data row15 col3\" >False</td>\n",
       "      <td id=\"T_4119c_row15_col4\" class=\"data row15 col4\" >76.44º</td>\n",
       "    </tr>\n",
       "    <tr>\n",
       "      <td id=\"T_4119c_row16_col0\" class=\"data row16 col0\" >1</td>\n",
       "      <td id=\"T_4119c_row16_col1\" class=\"data row16 col1\" >28/05/10</td>\n",
       "      <td id=\"T_4119c_row16_col2\" class=\"data row16 col2\" >$ 1432069.95</td>\n",
       "      <td id=\"T_4119c_row16_col3\" class=\"data row16 col3\" >False</td>\n",
       "      <td id=\"T_4119c_row16_col4\" class=\"data row16 col4\" >80.44º</td>\n",
       "    </tr>\n",
       "    <tr>\n",
       "      <td id=\"T_4119c_row17_col0\" class=\"data row17 col0\" >1</td>\n",
       "      <td id=\"T_4119c_row17_col1\" class=\"data row17 col1\" >06/04/10</td>\n",
       "      <td id=\"T_4119c_row17_col2\" class=\"data row17 col2\" >$ 1615524.71</td>\n",
       "      <td id=\"T_4119c_row17_col3\" class=\"data row17 col3\" >False</td>\n",
       "      <td id=\"T_4119c_row17_col4\" class=\"data row17 col4\" >80.69º</td>\n",
       "    </tr>\n",
       "    <tr>\n",
       "      <td id=\"T_4119c_row18_col0\" class=\"data row18 col0\" >1</td>\n",
       "      <td id=\"T_4119c_row18_col1\" class=\"data row18 col1\" >06/11/10</td>\n",
       "      <td id=\"T_4119c_row18_col2\" class=\"data row18 col2\" >$ 1542561.09</td>\n",
       "      <td id=\"T_4119c_row18_col3\" class=\"data row18 col3\" >False</td>\n",
       "      <td id=\"T_4119c_row18_col4\" class=\"data row18 col4\" >80.43º</td>\n",
       "    </tr>\n",
       "    <tr>\n",
       "      <td id=\"T_4119c_row19_col0\" class=\"data row19 col0\" >1</td>\n",
       "      <td id=\"T_4119c_row19_col1\" class=\"data row19 col1\" >18/06/10</td>\n",
       "      <td id=\"T_4119c_row19_col2\" class=\"data row19 col2\" >$ 1503284.06</td>\n",
       "      <td id=\"T_4119c_row19_col3\" class=\"data row19 col3\" >False</td>\n",
       "      <td id=\"T_4119c_row19_col4\" class=\"data row19 col4\" >84.11º</td>\n",
       "    </tr>\n",
       "    <tr>\n",
       "      <td id=\"T_4119c_row20_col0\" class=\"data row20 col0\" >1</td>\n",
       "      <td id=\"T_4119c_row20_col1\" class=\"data row20 col1\" >25/06/10</td>\n",
       "      <td id=\"T_4119c_row20_col2\" class=\"data row20 col2\" >$ 1422711.60</td>\n",
       "      <td id=\"T_4119c_row20_col3\" class=\"data row20 col3\" >False</td>\n",
       "      <td id=\"T_4119c_row20_col4\" class=\"data row20 col4\" >84.34º</td>\n",
       "    </tr>\n",
       "    <tr>\n",
       "      <td id=\"T_4119c_row21_col0\" class=\"data row21 col0\" >1</td>\n",
       "      <td id=\"T_4119c_row21_col1\" class=\"data row21 col1\" >07/02/10</td>\n",
       "      <td id=\"T_4119c_row21_col2\" class=\"data row21 col2\" >$ 1492418.14</td>\n",
       "      <td id=\"T_4119c_row21_col3\" class=\"data row21 col3\" >False</td>\n",
       "      <td id=\"T_4119c_row21_col4\" class=\"data row21 col4\" >80.91º</td>\n",
       "    </tr>\n",
       "    <tr>\n",
       "      <td id=\"T_4119c_row22_col0\" class=\"data row22 col0\" >1</td>\n",
       "      <td id=\"T_4119c_row22_col1\" class=\"data row22 col1\" >07/09/10</td>\n",
       "      <td id=\"T_4119c_row22_col2\" class=\"data row22 col2\" >$ 1546074.18</td>\n",
       "      <td id=\"T_4119c_row22_col3\" class=\"data row22 col3\" >False</td>\n",
       "      <td id=\"T_4119c_row22_col4\" class=\"data row22 col4\" >80.48º</td>\n",
       "    </tr>\n",
       "    <tr>\n",
       "      <td id=\"T_4119c_row23_col0\" class=\"data row23 col0\" >1</td>\n",
       "      <td id=\"T_4119c_row23_col1\" class=\"data row23 col1\" >16/07/10</td>\n",
       "      <td id=\"T_4119c_row23_col2\" class=\"data row23 col2\" >$ 1448938.92</td>\n",
       "      <td id=\"T_4119c_row23_col3\" class=\"data row23 col3\" >False</td>\n",
       "      <td id=\"T_4119c_row23_col4\" class=\"data row23 col4\" >83.15º</td>\n",
       "    </tr>\n",
       "    <tr>\n",
       "      <td id=\"T_4119c_row24_col0\" class=\"data row24 col0\" >1</td>\n",
       "      <td id=\"T_4119c_row24_col1\" class=\"data row24 col1\" >23/07/10</td>\n",
       "      <td id=\"T_4119c_row24_col2\" class=\"data row24 col2\" >$ 1385065.20</td>\n",
       "      <td id=\"T_4119c_row24_col3\" class=\"data row24 col3\" >False</td>\n",
       "      <td id=\"T_4119c_row24_col4\" class=\"data row24 col4\" >83.36º</td>\n",
       "    </tr>\n",
       "    <tr>\n",
       "      <td id=\"T_4119c_row25_col0\" class=\"data row25 col0\" >1</td>\n",
       "      <td id=\"T_4119c_row25_col1\" class=\"data row25 col1\" >30/07/10</td>\n",
       "      <td id=\"T_4119c_row25_col2\" class=\"data row25 col2\" >$ 1371986.60</td>\n",
       "      <td id=\"T_4119c_row25_col3\" class=\"data row25 col3\" >False</td>\n",
       "      <td id=\"T_4119c_row25_col4\" class=\"data row25 col4\" >81.84º</td>\n",
       "    </tr>\n",
       "    <tr>\n",
       "      <td id=\"T_4119c_row26_col0\" class=\"data row26 col0\" >1</td>\n",
       "      <td id=\"T_4119c_row26_col1\" class=\"data row26 col1\" >08/06/10</td>\n",
       "      <td id=\"T_4119c_row26_col2\" class=\"data row26 col2\" >$ 1605491.78</td>\n",
       "      <td id=\"T_4119c_row26_col3\" class=\"data row26 col3\" >False</td>\n",
       "      <td id=\"T_4119c_row26_col4\" class=\"data row26 col4\" >87.16º</td>\n",
       "    </tr>\n",
       "    <tr>\n",
       "      <td id=\"T_4119c_row27_col0\" class=\"data row27 col0\" >1</td>\n",
       "      <td id=\"T_4119c_row27_col1\" class=\"data row27 col1\" >13/08/10</td>\n",
       "      <td id=\"T_4119c_row27_col2\" class=\"data row27 col2\" >$ 1508237.76</td>\n",
       "      <td id=\"T_4119c_row27_col3\" class=\"data row27 col3\" >False</td>\n",
       "      <td id=\"T_4119c_row27_col4\" class=\"data row27 col4\" >87.00º</td>\n",
       "    </tr>\n",
       "    <tr>\n",
       "      <td id=\"T_4119c_row28_col0\" class=\"data row28 col0\" >1</td>\n",
       "      <td id=\"T_4119c_row28_col1\" class=\"data row28 col1\" >20/08/10</td>\n",
       "      <td id=\"T_4119c_row28_col2\" class=\"data row28 col2\" >$ 1513080.49</td>\n",
       "      <td id=\"T_4119c_row28_col3\" class=\"data row28 col3\" >False</td>\n",
       "      <td id=\"T_4119c_row28_col4\" class=\"data row28 col4\" >86.65º</td>\n",
       "    </tr>\n",
       "    <tr>\n",
       "      <td id=\"T_4119c_row29_col0\" class=\"data row29 col0\" >1</td>\n",
       "      <td id=\"T_4119c_row29_col1\" class=\"data row29 col1\" >27/08/10</td>\n",
       "      <td id=\"T_4119c_row29_col2\" class=\"data row29 col2\" >$ 1449142.92</td>\n",
       "      <td id=\"T_4119c_row29_col3\" class=\"data row29 col3\" >False</td>\n",
       "      <td id=\"T_4119c_row29_col4\" class=\"data row29 col4\" >85.22º</td>\n",
       "    </tr>\n",
       "    <tr>\n",
       "      <td id=\"T_4119c_row30_col0\" class=\"data row30 col0\" >1</td>\n",
       "      <td id=\"T_4119c_row30_col1\" class=\"data row30 col1\" >09/03/10</td>\n",
       "      <td id=\"T_4119c_row30_col2\" class=\"data row30 col2\" >$ 1540163.53</td>\n",
       "      <td id=\"T_4119c_row30_col3\" class=\"data row30 col3\" >False</td>\n",
       "      <td id=\"T_4119c_row30_col4\" class=\"data row30 col4\" >81.21º</td>\n",
       "    </tr>\n",
       "    <tr>\n",
       "      <td id=\"T_4119c_row31_col0\" class=\"data row31 col0\" >1</td>\n",
       "      <td id=\"T_4119c_row31_col1\" class=\"data row31 col1\" >09/10/10</td>\n",
       "      <td id=\"T_4119c_row31_col2\" class=\"data row31 col2\" >$ 1507460.69</td>\n",
       "      <td id=\"T_4119c_row31_col3\" class=\"data row31 col3\" >True</td>\n",
       "      <td id=\"T_4119c_row31_col4\" class=\"data row31 col4\" >78.69º</td>\n",
       "    </tr>\n",
       "    <tr>\n",
       "      <td id=\"T_4119c_row32_col0\" class=\"data row32 col0\" >1</td>\n",
       "      <td id=\"T_4119c_row32_col1\" class=\"data row32 col1\" >17/09/10</td>\n",
       "      <td id=\"T_4119c_row32_col2\" class=\"data row32 col2\" >$ 1430378.67</td>\n",
       "      <td id=\"T_4119c_row32_col3\" class=\"data row32 col3\" >False</td>\n",
       "      <td id=\"T_4119c_row32_col4\" class=\"data row32 col4\" >82.11º</td>\n",
       "    </tr>\n",
       "    <tr>\n",
       "      <td id=\"T_4119c_row33_col0\" class=\"data row33 col0\" >1</td>\n",
       "      <td id=\"T_4119c_row33_col1\" class=\"data row33 col1\" >24/09/10</td>\n",
       "      <td id=\"T_4119c_row33_col2\" class=\"data row33 col2\" >$ 1351791.03</td>\n",
       "      <td id=\"T_4119c_row33_col3\" class=\"data row33 col3\" >False</td>\n",
       "      <td id=\"T_4119c_row33_col4\" class=\"data row33 col4\" >80.94º</td>\n",
       "    </tr>\n",
       "    <tr>\n",
       "      <td id=\"T_4119c_row34_col0\" class=\"data row34 col0\" >1</td>\n",
       "      <td id=\"T_4119c_row34_col1\" class=\"data row34 col1\" >10/01/10</td>\n",
       "      <td id=\"T_4119c_row34_col2\" class=\"data row34 col2\" >$ 1453329.50</td>\n",
       "      <td id=\"T_4119c_row34_col3\" class=\"data row34 col3\" >False</td>\n",
       "      <td id=\"T_4119c_row34_col4\" class=\"data row34 col4\" >71.89º</td>\n",
       "    </tr>\n",
       "    <tr>\n",
       "      <td id=\"T_4119c_row35_col0\" class=\"data row35 col0\" >1</td>\n",
       "      <td id=\"T_4119c_row35_col1\" class=\"data row35 col1\" >10/08/10</td>\n",
       "      <td id=\"T_4119c_row35_col2\" class=\"data row35 col2\" >$ 1508239.93</td>\n",
       "      <td id=\"T_4119c_row35_col3\" class=\"data row35 col3\" >False</td>\n",
       "      <td id=\"T_4119c_row35_col4\" class=\"data row35 col4\" >63.93º</td>\n",
       "    </tr>\n",
       "    <tr>\n",
       "      <td id=\"T_4119c_row36_col0\" class=\"data row36 col0\" >1</td>\n",
       "      <td id=\"T_4119c_row36_col1\" class=\"data row36 col1\" >15/10/10</td>\n",
       "      <td id=\"T_4119c_row36_col2\" class=\"data row36 col2\" >$ 1459409.10</td>\n",
       "      <td id=\"T_4119c_row36_col3\" class=\"data row36 col3\" >False</td>\n",
       "      <td id=\"T_4119c_row36_col4\" class=\"data row36 col4\" >67.18º</td>\n",
       "    </tr>\n",
       "    <tr>\n",
       "      <td id=\"T_4119c_row37_col0\" class=\"data row37 col0\" >1</td>\n",
       "      <td id=\"T_4119c_row37_col1\" class=\"data row37 col1\" >22/10/10</td>\n",
       "      <td id=\"T_4119c_row37_col2\" class=\"data row37 col2\" >$ 1345454.00</td>\n",
       "      <td id=\"T_4119c_row37_col3\" class=\"data row37 col3\" >False</td>\n",
       "      <td id=\"T_4119c_row37_col4\" class=\"data row37 col4\" >69.86º</td>\n",
       "    </tr>\n",
       "    <tr>\n",
       "      <td id=\"T_4119c_row38_col0\" class=\"data row38 col0\" >1</td>\n",
       "      <td id=\"T_4119c_row38_col1\" class=\"data row38 col1\" >29/10/10</td>\n",
       "      <td id=\"T_4119c_row38_col2\" class=\"data row38 col2\" >$ 1384209.22</td>\n",
       "      <td id=\"T_4119c_row38_col3\" class=\"data row38 col3\" >False</td>\n",
       "      <td id=\"T_4119c_row38_col4\" class=\"data row38 col4\" >69.64º</td>\n",
       "    </tr>\n",
       "    <tr>\n",
       "      <td id=\"T_4119c_row39_col0\" class=\"data row39 col0\" >1</td>\n",
       "      <td id=\"T_4119c_row39_col1\" class=\"data row39 col1\" >11/05/10</td>\n",
       "      <td id=\"T_4119c_row39_col2\" class=\"data row39 col2\" >$ 1551659.28</td>\n",
       "      <td id=\"T_4119c_row39_col3\" class=\"data row39 col3\" >False</td>\n",
       "      <td id=\"T_4119c_row39_col4\" class=\"data row39 col4\" >58.74º</td>\n",
       "    </tr>\n",
       "    <tr>\n",
       "      <td id=\"T_4119c_row40_col0\" class=\"data row40 col0\" >1</td>\n",
       "      <td id=\"T_4119c_row40_col1\" class=\"data row40 col1\" >11/12/10</td>\n",
       "      <td id=\"T_4119c_row40_col2\" class=\"data row40 col2\" >$ 1494479.49</td>\n",
       "      <td id=\"T_4119c_row40_col3\" class=\"data row40 col3\" >False</td>\n",
       "      <td id=\"T_4119c_row40_col4\" class=\"data row40 col4\" >59.61º</td>\n",
       "    </tr>\n",
       "    <tr>\n",
       "      <td id=\"T_4119c_row41_col0\" class=\"data row41 col0\" >1</td>\n",
       "      <td id=\"T_4119c_row41_col1\" class=\"data row41 col1\" >19/11/10</td>\n",
       "      <td id=\"T_4119c_row41_col2\" class=\"data row41 col2\" >$ 1483784.18</td>\n",
       "      <td id=\"T_4119c_row41_col3\" class=\"data row41 col3\" >False</td>\n",
       "      <td id=\"T_4119c_row41_col4\" class=\"data row41 col4\" >51.41º</td>\n",
       "    </tr>\n",
       "    <tr>\n",
       "      <td id=\"T_4119c_row42_col0\" class=\"data row42 col0\" >1</td>\n",
       "      <td id=\"T_4119c_row42_col1\" class=\"data row42 col1\" >26/11/10</td>\n",
       "      <td id=\"T_4119c_row42_col2\" class=\"data row42 col2\" >$ 1955624.11</td>\n",
       "      <td id=\"T_4119c_row42_col3\" class=\"data row42 col3\" >True</td>\n",
       "      <td id=\"T_4119c_row42_col4\" class=\"data row42 col4\" >64.52º</td>\n",
       "    </tr>\n",
       "    <tr>\n",
       "      <td id=\"T_4119c_row43_col0\" class=\"data row43 col0\" >1</td>\n",
       "      <td id=\"T_4119c_row43_col1\" class=\"data row43 col1\" >12/03/10</td>\n",
       "      <td id=\"T_4119c_row43_col2\" class=\"data row43 col2\" >$ 1548033.78</td>\n",
       "      <td id=\"T_4119c_row43_col3\" class=\"data row43 col3\" >False</td>\n",
       "      <td id=\"T_4119c_row43_col4\" class=\"data row43 col4\" >49.27º</td>\n",
       "    </tr>\n",
       "    <tr>\n",
       "      <td id=\"T_4119c_row44_col0\" class=\"data row44 col0\" >1</td>\n",
       "      <td id=\"T_4119c_row44_col1\" class=\"data row44 col1\" >12/10/10</td>\n",
       "      <td id=\"T_4119c_row44_col2\" class=\"data row44 col2\" >$ 1682614.26</td>\n",
       "      <td id=\"T_4119c_row44_col3\" class=\"data row44 col3\" >False</td>\n",
       "      <td id=\"T_4119c_row44_col4\" class=\"data row44 col4\" >46.33º</td>\n",
       "    </tr>\n",
       "    <tr>\n",
       "      <td id=\"T_4119c_row45_col0\" class=\"data row45 col0\" >1</td>\n",
       "      <td id=\"T_4119c_row45_col1\" class=\"data row45 col1\" >17/12/10</td>\n",
       "      <td id=\"T_4119c_row45_col2\" class=\"data row45 col2\" >$ 1891034.93</td>\n",
       "      <td id=\"T_4119c_row45_col3\" class=\"data row45 col3\" >False</td>\n",
       "      <td id=\"T_4119c_row45_col4\" class=\"data row45 col4\" >49.84º</td>\n",
       "    </tr>\n",
       "    <tr>\n",
       "      <td id=\"T_4119c_row46_col0\" class=\"data row46 col0\" >1</td>\n",
       "      <td id=\"T_4119c_row46_col1\" class=\"data row46 col1\" >24/12/10</td>\n",
       "      <td id=\"T_4119c_row46_col2\" class=\"data row46 col2\" >$ 2387950.20</td>\n",
       "      <td id=\"T_4119c_row46_col3\" class=\"data row46 col3\" >False</td>\n",
       "      <td id=\"T_4119c_row46_col4\" class=\"data row46 col4\" >52.33º</td>\n",
       "    </tr>\n",
       "    <tr>\n",
       "      <td id=\"T_4119c_row47_col0\" class=\"data row47 col0\" >1</td>\n",
       "      <td id=\"T_4119c_row47_col1\" class=\"data row47 col1\" >31/12/10</td>\n",
       "      <td id=\"T_4119c_row47_col2\" class=\"data row47 col2\" >$ 1367320.01</td>\n",
       "      <td id=\"T_4119c_row47_col3\" class=\"data row47 col3\" >True</td>\n",
       "      <td id=\"T_4119c_row47_col4\" class=\"data row47 col4\" >48.43º</td>\n",
       "    </tr>\n",
       "    <tr>\n",
       "      <td id=\"T_4119c_row48_col0\" class=\"data row48 col0\" >1</td>\n",
       "      <td id=\"T_4119c_row48_col1\" class=\"data row48 col1\" >01/07/11</td>\n",
       "      <td id=\"T_4119c_row48_col2\" class=\"data row48 col2\" >$ 1444732.28</td>\n",
       "      <td id=\"T_4119c_row48_col3\" class=\"data row48 col3\" >False</td>\n",
       "      <td id=\"T_4119c_row48_col4\" class=\"data row48 col4\" >48.27º</td>\n",
       "    </tr>\n",
       "    <tr>\n",
       "      <td id=\"T_4119c_row49_col0\" class=\"data row49 col0\" >1</td>\n",
       "      <td id=\"T_4119c_row49_col1\" class=\"data row49 col1\" >14/01/11</td>\n",
       "      <td id=\"T_4119c_row49_col2\" class=\"data row49 col2\" >$ 1391013.96</td>\n",
       "      <td id=\"T_4119c_row49_col3\" class=\"data row49 col3\" >False</td>\n",
       "      <td id=\"T_4119c_row49_col4\" class=\"data row49 col4\" >35.40º</td>\n",
       "    </tr>\n",
       "    <tr>\n",
       "      <td id=\"T_4119c_row50_col0\" class=\"data row50 col0\" >1</td>\n",
       "      <td id=\"T_4119c_row50_col1\" class=\"data row50 col1\" >21/01/11</td>\n",
       "      <td id=\"T_4119c_row50_col2\" class=\"data row50 col2\" >$ 1327405.42</td>\n",
       "      <td id=\"T_4119c_row50_col3\" class=\"data row50 col3\" >False</td>\n",
       "      <td id=\"T_4119c_row50_col4\" class=\"data row50 col4\" >44.04º</td>\n",
       "    </tr>\n",
       "    <tr>\n",
       "      <td id=\"T_4119c_row51_col0\" class=\"data row51 col0\" >1</td>\n",
       "      <td id=\"T_4119c_row51_col1\" class=\"data row51 col1\" >28/01/11</td>\n",
       "      <td id=\"T_4119c_row51_col2\" class=\"data row51 col2\" >$ 1316899.31</td>\n",
       "      <td id=\"T_4119c_row51_col3\" class=\"data row51 col3\" >False</td>\n",
       "      <td id=\"T_4119c_row51_col4\" class=\"data row51 col4\" >43.83º</td>\n",
       "    </tr>\n",
       "    <tr>\n",
       "      <td id=\"T_4119c_row52_col0\" class=\"data row52 col0\" >1</td>\n",
       "      <td id=\"T_4119c_row52_col1\" class=\"data row52 col1\" >02/04/11</td>\n",
       "      <td id=\"T_4119c_row52_col2\" class=\"data row52 col2\" >$ 1606629.58</td>\n",
       "      <td id=\"T_4119c_row52_col3\" class=\"data row52 col3\" >False</td>\n",
       "      <td id=\"T_4119c_row52_col4\" class=\"data row52 col4\" >42.27º</td>\n",
       "    </tr>\n",
       "    <tr>\n",
       "      <td id=\"T_4119c_row53_col0\" class=\"data row53 col0\" >1</td>\n",
       "      <td id=\"T_4119c_row53_col1\" class=\"data row53 col1\" >02/11/11</td>\n",
       "      <td id=\"T_4119c_row53_col2\" class=\"data row53 col2\" >$ 1649614.93</td>\n",
       "      <td id=\"T_4119c_row53_col3\" class=\"data row53 col3\" >True</td>\n",
       "      <td id=\"T_4119c_row53_col4\" class=\"data row53 col4\" >36.39º</td>\n",
       "    </tr>\n",
       "    <tr>\n",
       "      <td id=\"T_4119c_row54_col0\" class=\"data row54 col0\" >1</td>\n",
       "      <td id=\"T_4119c_row54_col1\" class=\"data row54 col1\" >18/02/11</td>\n",
       "      <td id=\"T_4119c_row54_col2\" class=\"data row54 col2\" >$ 1686842.78</td>\n",
       "      <td id=\"T_4119c_row54_col3\" class=\"data row54 col3\" >False</td>\n",
       "      <td id=\"T_4119c_row54_col4\" class=\"data row54 col4\" >57.36º</td>\n",
       "    </tr>\n",
       "    <tr>\n",
       "      <td id=\"T_4119c_row55_col0\" class=\"data row55 col0\" >1</td>\n",
       "      <td id=\"T_4119c_row55_col1\" class=\"data row55 col1\" >25/02/11</td>\n",
       "      <td id=\"T_4119c_row55_col2\" class=\"data row55 col2\" >$ 1456800.28</td>\n",
       "      <td id=\"T_4119c_row55_col3\" class=\"data row55 col3\" >False</td>\n",
       "      <td id=\"T_4119c_row55_col4\" class=\"data row55 col4\" >62.90º</td>\n",
       "    </tr>\n",
       "    <tr>\n",
       "      <td id=\"T_4119c_row56_col0\" class=\"data row56 col0\" >1</td>\n",
       "      <td id=\"T_4119c_row56_col1\" class=\"data row56 col1\" >03/04/11</td>\n",
       "      <td id=\"T_4119c_row56_col2\" class=\"data row56 col2\" >$ 1636263.41</td>\n",
       "      <td id=\"T_4119c_row56_col3\" class=\"data row56 col3\" >False</td>\n",
       "      <td id=\"T_4119c_row56_col4\" class=\"data row56 col4\" >59.58º</td>\n",
       "    </tr>\n",
       "    <tr>\n",
       "      <td id=\"T_4119c_row57_col0\" class=\"data row57 col0\" >1</td>\n",
       "      <td id=\"T_4119c_row57_col1\" class=\"data row57 col1\" >03/11/11</td>\n",
       "      <td id=\"T_4119c_row57_col2\" class=\"data row57 col2\" >$ 1553191.63</td>\n",
       "      <td id=\"T_4119c_row57_col3\" class=\"data row57 col3\" >False</td>\n",
       "      <td id=\"T_4119c_row57_col4\" class=\"data row57 col4\" >53.56º</td>\n",
       "    </tr>\n",
       "    <tr>\n",
       "      <td id=\"T_4119c_row58_col0\" class=\"data row58 col0\" >1</td>\n",
       "      <td id=\"T_4119c_row58_col1\" class=\"data row58 col1\" >18/03/11</td>\n",
       "      <td id=\"T_4119c_row58_col2\" class=\"data row58 col2\" >$ 1576818.06</td>\n",
       "      <td id=\"T_4119c_row58_col3\" class=\"data row58 col3\" >False</td>\n",
       "      <td id=\"T_4119c_row58_col4\" class=\"data row58 col4\" >62.76º</td>\n",
       "    </tr>\n",
       "    <tr>\n",
       "      <td id=\"T_4119c_row59_col0\" class=\"data row59 col0\" >1</td>\n",
       "      <td id=\"T_4119c_row59_col1\" class=\"data row59 col1\" >25/03/11</td>\n",
       "      <td id=\"T_4119c_row59_col2\" class=\"data row59 col2\" >$ 1541102.38</td>\n",
       "      <td id=\"T_4119c_row59_col3\" class=\"data row59 col3\" >False</td>\n",
       "      <td id=\"T_4119c_row59_col4\" class=\"data row59 col4\" >69.97º</td>\n",
       "    </tr>\n",
       "    <tr>\n",
       "      <td id=\"T_4119c_row60_col0\" class=\"data row60 col0\" >1</td>\n",
       "      <td id=\"T_4119c_row60_col1\" class=\"data row60 col1\" >04/01/11</td>\n",
       "      <td id=\"T_4119c_row60_col2\" class=\"data row60 col2\" >$ 1495064.75</td>\n",
       "      <td id=\"T_4119c_row60_col3\" class=\"data row60 col3\" >False</td>\n",
       "      <td id=\"T_4119c_row60_col4\" class=\"data row60 col4\" >59.17º</td>\n",
       "    </tr>\n",
       "    <tr>\n",
       "      <td id=\"T_4119c_row61_col0\" class=\"data row61 col0\" >1</td>\n",
       "      <td id=\"T_4119c_row61_col1\" class=\"data row61 col1\" >04/08/11</td>\n",
       "      <td id=\"T_4119c_row61_col2\" class=\"data row61 col2\" >$ 1614259.35</td>\n",
       "      <td id=\"T_4119c_row61_col3\" class=\"data row61 col3\" >False</td>\n",
       "      <td id=\"T_4119c_row61_col4\" class=\"data row61 col4\" >67.84º</td>\n",
       "    </tr>\n",
       "    <tr>\n",
       "      <td id=\"T_4119c_row62_col0\" class=\"data row62 col0\" >1</td>\n",
       "      <td id=\"T_4119c_row62_col1\" class=\"data row62 col1\" >15/04/11</td>\n",
       "      <td id=\"T_4119c_row62_col2\" class=\"data row62 col2\" >$ 1559889.00</td>\n",
       "      <td id=\"T_4119c_row62_col3\" class=\"data row62 col3\" >False</td>\n",
       "      <td id=\"T_4119c_row62_col4\" class=\"data row62 col4\" >71.27º</td>\n",
       "    </tr>\n",
       "    <tr>\n",
       "      <td id=\"T_4119c_row63_col0\" class=\"data row63 col0\" >1</td>\n",
       "      <td id=\"T_4119c_row63_col1\" class=\"data row63 col1\" >22/04/11</td>\n",
       "      <td id=\"T_4119c_row63_col2\" class=\"data row63 col2\" >$ 1564819.81</td>\n",
       "      <td id=\"T_4119c_row63_col3\" class=\"data row63 col3\" >False</td>\n",
       "      <td id=\"T_4119c_row63_col4\" class=\"data row63 col4\" >72.99º</td>\n",
       "    </tr>\n",
       "    <tr>\n",
       "      <td id=\"T_4119c_row64_col0\" class=\"data row64 col0\" >1</td>\n",
       "      <td id=\"T_4119c_row64_col1\" class=\"data row64 col1\" >29/04/11</td>\n",
       "      <td id=\"T_4119c_row64_col2\" class=\"data row64 col2\" >$ 1455090.69</td>\n",
       "      <td id=\"T_4119c_row64_col3\" class=\"data row64 col3\" >False</td>\n",
       "      <td id=\"T_4119c_row64_col4\" class=\"data row64 col4\" >72.03º</td>\n",
       "    </tr>\n",
       "    <tr>\n",
       "      <td id=\"T_4119c_row65_col0\" class=\"data row65 col0\" >1</td>\n",
       "      <td id=\"T_4119c_row65_col1\" class=\"data row65 col1\" >05/06/11</td>\n",
       "      <td id=\"T_4119c_row65_col2\" class=\"data row65 col2\" >$ 1629391.28</td>\n",
       "      <td id=\"T_4119c_row65_col3\" class=\"data row65 col3\" >False</td>\n",
       "      <td id=\"T_4119c_row65_col4\" class=\"data row65 col4\" >64.61º</td>\n",
       "    </tr>\n",
       "    <tr>\n",
       "      <td id=\"T_4119c_row66_col0\" class=\"data row66 col0\" >1</td>\n",
       "      <td id=\"T_4119c_row66_col1\" class=\"data row66 col1\" >13/05/11</td>\n",
       "      <td id=\"T_4119c_row66_col2\" class=\"data row66 col2\" >$ 1604775.58</td>\n",
       "      <td id=\"T_4119c_row66_col3\" class=\"data row66 col3\" >False</td>\n",
       "      <td id=\"T_4119c_row66_col4\" class=\"data row66 col4\" >75.64º</td>\n",
       "    </tr>\n",
       "    <tr>\n",
       "      <td id=\"T_4119c_row67_col0\" class=\"data row67 col0\" >1</td>\n",
       "      <td id=\"T_4119c_row67_col1\" class=\"data row67 col1\" >20/05/11</td>\n",
       "      <td id=\"T_4119c_row67_col2\" class=\"data row67 col2\" >$ 1428218.27</td>\n",
       "      <td id=\"T_4119c_row67_col3\" class=\"data row67 col3\" >False</td>\n",
       "      <td id=\"T_4119c_row67_col4\" class=\"data row67 col4\" >67.63º</td>\n",
       "    </tr>\n",
       "    <tr>\n",
       "      <td id=\"T_4119c_row68_col0\" class=\"data row68 col0\" >1</td>\n",
       "      <td id=\"T_4119c_row68_col1\" class=\"data row68 col1\" >27/05/11</td>\n",
       "      <td id=\"T_4119c_row68_col2\" class=\"data row68 col2\" >$ 1466046.67</td>\n",
       "      <td id=\"T_4119c_row68_col3\" class=\"data row68 col3\" >False</td>\n",
       "      <td id=\"T_4119c_row68_col4\" class=\"data row68 col4\" >77.72º</td>\n",
       "    </tr>\n",
       "    <tr>\n",
       "      <td id=\"T_4119c_row69_col0\" class=\"data row69 col0\" >1</td>\n",
       "      <td id=\"T_4119c_row69_col1\" class=\"data row69 col1\" >06/03/11</td>\n",
       "      <td id=\"T_4119c_row69_col2\" class=\"data row69 col2\" >$ 1635078.41</td>\n",
       "      <td id=\"T_4119c_row69_col3\" class=\"data row69 col3\" >False</td>\n",
       "      <td id=\"T_4119c_row69_col4\" class=\"data row69 col4\" >83.00º</td>\n",
       "    </tr>\n",
       "    <tr>\n",
       "      <td id=\"T_4119c_row70_col0\" class=\"data row70 col0\" >1</td>\n",
       "      <td id=\"T_4119c_row70_col1\" class=\"data row70 col1\" >06/10/11</td>\n",
       "      <td id=\"T_4119c_row70_col2\" class=\"data row70 col2\" >$ 1588948.32</td>\n",
       "      <td id=\"T_4119c_row70_col3\" class=\"data row70 col3\" >False</td>\n",
       "      <td id=\"T_4119c_row70_col4\" class=\"data row70 col4\" >83.13º</td>\n",
       "    </tr>\n",
       "    <tr>\n",
       "      <td id=\"T_4119c_row71_col0\" class=\"data row71 col0\" >1</td>\n",
       "      <td id=\"T_4119c_row71_col1\" class=\"data row71 col1\" >17/06/11</td>\n",
       "      <td id=\"T_4119c_row71_col2\" class=\"data row71 col2\" >$ 1532114.86</td>\n",
       "      <td id=\"T_4119c_row71_col3\" class=\"data row71 col3\" >False</td>\n",
       "      <td id=\"T_4119c_row71_col4\" class=\"data row71 col4\" >86.41º</td>\n",
       "    </tr>\n",
       "    <tr>\n",
       "      <td id=\"T_4119c_row72_col0\" class=\"data row72 col0\" >1</td>\n",
       "      <td id=\"T_4119c_row72_col1\" class=\"data row72 col1\" >24/06/11</td>\n",
       "      <td id=\"T_4119c_row72_col2\" class=\"data row72 col2\" >$ 1438830.15</td>\n",
       "      <td id=\"T_4119c_row72_col3\" class=\"data row72 col3\" >False</td>\n",
       "      <td id=\"T_4119c_row72_col4\" class=\"data row72 col4\" >83.58º</td>\n",
       "    </tr>\n",
       "    <tr>\n",
       "      <td id=\"T_4119c_row73_col0\" class=\"data row73 col0\" >1</td>\n",
       "      <td id=\"T_4119c_row73_col1\" class=\"data row73 col1\" >07/01/11</td>\n",
       "      <td id=\"T_4119c_row73_col2\" class=\"data row73 col2\" >$ 1488538.09</td>\n",
       "      <td id=\"T_4119c_row73_col3\" class=\"data row73 col3\" >False</td>\n",
       "      <td id=\"T_4119c_row73_col4\" class=\"data row73 col4\" >85.55º</td>\n",
       "    </tr>\n",
       "    <tr>\n",
       "      <td id=\"T_4119c_row74_col0\" class=\"data row74 col0\" >1</td>\n",
       "      <td id=\"T_4119c_row74_col1\" class=\"data row74 col1\" >07/08/11</td>\n",
       "      <td id=\"T_4119c_row74_col2\" class=\"data row74 col2\" >$ 1534849.64</td>\n",
       "      <td id=\"T_4119c_row74_col3\" class=\"data row74 col3\" >False</td>\n",
       "      <td id=\"T_4119c_row74_col4\" class=\"data row74 col4\" >85.83º</td>\n",
       "    </tr>\n",
       "    <tr>\n",
       "      <td id=\"T_4119c_row75_col0\" class=\"data row75 col0\" >1</td>\n",
       "      <td id=\"T_4119c_row75_col1\" class=\"data row75 col1\" >15/07/11</td>\n",
       "      <td id=\"T_4119c_row75_col2\" class=\"data row75 col2\" >$ 1455119.97</td>\n",
       "      <td id=\"T_4119c_row75_col3\" class=\"data row75 col3\" >False</td>\n",
       "      <td id=\"T_4119c_row75_col4\" class=\"data row75 col4\" >88.54º</td>\n",
       "    </tr>\n",
       "    <tr>\n",
       "      <td id=\"T_4119c_row76_col0\" class=\"data row76 col0\" >1</td>\n",
       "      <td id=\"T_4119c_row76_col1\" class=\"data row76 col1\" >22/07/11</td>\n",
       "      <td id=\"T_4119c_row76_col2\" class=\"data row76 col2\" >$ 1396926.82</td>\n",
       "      <td id=\"T_4119c_row76_col3\" class=\"data row76 col3\" >False</td>\n",
       "      <td id=\"T_4119c_row76_col4\" class=\"data row76 col4\" >85.77º</td>\n",
       "    </tr>\n",
       "    <tr>\n",
       "      <td id=\"T_4119c_row77_col0\" class=\"data row77 col0\" >1</td>\n",
       "      <td id=\"T_4119c_row77_col1\" class=\"data row77 col1\" >29/07/11</td>\n",
       "      <td id=\"T_4119c_row77_col2\" class=\"data row77 col2\" >$ 1352219.79</td>\n",
       "      <td id=\"T_4119c_row77_col3\" class=\"data row77 col3\" >False</td>\n",
       "      <td id=\"T_4119c_row77_col4\" class=\"data row77 col4\" >86.83º</td>\n",
       "    </tr>\n",
       "    <tr>\n",
       "      <td id=\"T_4119c_row78_col0\" class=\"data row78 col0\" >1</td>\n",
       "      <td id=\"T_4119c_row78_col1\" class=\"data row78 col1\" >08/05/11</td>\n",
       "      <td id=\"T_4119c_row78_col2\" class=\"data row78 col2\" >$ 1624383.75</td>\n",
       "      <td id=\"T_4119c_row78_col3\" class=\"data row78 col3\" >False</td>\n",
       "      <td id=\"T_4119c_row78_col4\" class=\"data row78 col4\" >91.65º</td>\n",
       "    </tr>\n",
       "    <tr>\n",
       "      <td id=\"T_4119c_row79_col0\" class=\"data row79 col0\" >1</td>\n",
       "      <td id=\"T_4119c_row79_col1\" class=\"data row79 col1\" >08/12/11</td>\n",
       "      <td id=\"T_4119c_row79_col2\" class=\"data row79 col2\" >$ 1525147.09</td>\n",
       "      <td id=\"T_4119c_row79_col3\" class=\"data row79 col3\" >False</td>\n",
       "      <td id=\"T_4119c_row79_col4\" class=\"data row79 col4\" >90.76º</td>\n",
       "    </tr>\n",
       "    <tr>\n",
       "      <td id=\"T_4119c_row80_col0\" class=\"data row80 col0\" >1</td>\n",
       "      <td id=\"T_4119c_row80_col1\" class=\"data row80 col1\" >19/08/11</td>\n",
       "      <td id=\"T_4119c_row80_col2\" class=\"data row80 col2\" >$ 1530761.43</td>\n",
       "      <td id=\"T_4119c_row80_col3\" class=\"data row80 col3\" >False</td>\n",
       "      <td id=\"T_4119c_row80_col4\" class=\"data row80 col4\" >89.94º</td>\n",
       "    </tr>\n",
       "    <tr>\n",
       "      <td id=\"T_4119c_row81_col0\" class=\"data row81 col0\" >1</td>\n",
       "      <td id=\"T_4119c_row81_col1\" class=\"data row81 col1\" >26/08/11</td>\n",
       "      <td id=\"T_4119c_row81_col2\" class=\"data row81 col2\" >$ 1464693.46</td>\n",
       "      <td id=\"T_4119c_row81_col3\" class=\"data row81 col3\" >False</td>\n",
       "      <td id=\"T_4119c_row81_col4\" class=\"data row81 col4\" >87.96º</td>\n",
       "    </tr>\n",
       "    <tr>\n",
       "      <td id=\"T_4119c_row82_col0\" class=\"data row82 col0\" >1</td>\n",
       "      <td id=\"T_4119c_row82_col1\" class=\"data row82 col1\" >09/02/11</td>\n",
       "      <td id=\"T_4119c_row82_col2\" class=\"data row82 col2\" >$ 1550229.22</td>\n",
       "      <td id=\"T_4119c_row82_col3\" class=\"data row82 col3\" >False</td>\n",
       "      <td id=\"T_4119c_row82_col4\" class=\"data row82 col4\" >87.83º</td>\n",
       "    </tr>\n",
       "    <tr>\n",
       "      <td id=\"T_4119c_row83_col0\" class=\"data row83 col0\" >1</td>\n",
       "      <td id=\"T_4119c_row83_col1\" class=\"data row83 col1\" >09/09/11</td>\n",
       "      <td id=\"T_4119c_row83_col2\" class=\"data row83 col2\" >$ 1540471.24</td>\n",
       "      <td id=\"T_4119c_row83_col3\" class=\"data row83 col3\" >True</td>\n",
       "      <td id=\"T_4119c_row83_col4\" class=\"data row83 col4\" >76.00º</td>\n",
       "    </tr>\n",
       "    <tr>\n",
       "      <td id=\"T_4119c_row84_col0\" class=\"data row84 col0\" >1</td>\n",
       "      <td id=\"T_4119c_row84_col1\" class=\"data row84 col1\" >16/09/11</td>\n",
       "      <td id=\"T_4119c_row84_col2\" class=\"data row84 col2\" >$ 1514259.78</td>\n",
       "      <td id=\"T_4119c_row84_col3\" class=\"data row84 col3\" >False</td>\n",
       "      <td id=\"T_4119c_row84_col4\" class=\"data row84 col4\" >79.94º</td>\n",
       "    </tr>\n",
       "    <tr>\n",
       "      <td id=\"T_4119c_row85_col0\" class=\"data row85 col0\" >1</td>\n",
       "      <td id=\"T_4119c_row85_col1\" class=\"data row85 col1\" >23/09/11</td>\n",
       "      <td id=\"T_4119c_row85_col2\" class=\"data row85 col2\" >$ 1380020.27</td>\n",
       "      <td id=\"T_4119c_row85_col3\" class=\"data row85 col3\" >False</td>\n",
       "      <td id=\"T_4119c_row85_col4\" class=\"data row85 col4\" >75.80º</td>\n",
       "    </tr>\n",
       "    <tr>\n",
       "      <td id=\"T_4119c_row86_col0\" class=\"data row86 col0\" >1</td>\n",
       "      <td id=\"T_4119c_row86_col1\" class=\"data row86 col1\" >30/09/11</td>\n",
       "      <td id=\"T_4119c_row86_col2\" class=\"data row86 col2\" >$ 1394561.83</td>\n",
       "      <td id=\"T_4119c_row86_col3\" class=\"data row86 col3\" >False</td>\n",
       "      <td id=\"T_4119c_row86_col4\" class=\"data row86 col4\" >79.69º</td>\n",
       "    </tr>\n",
       "    <tr>\n",
       "      <td id=\"T_4119c_row87_col0\" class=\"data row87 col0\" >1</td>\n",
       "      <td id=\"T_4119c_row87_col1\" class=\"data row87 col1\" >10/07/11</td>\n",
       "      <td id=\"T_4119c_row87_col2\" class=\"data row87 col2\" >$ 1630989.95</td>\n",
       "      <td id=\"T_4119c_row87_col3\" class=\"data row87 col3\" >False</td>\n",
       "      <td id=\"T_4119c_row87_col4\" class=\"data row87 col4\" >69.31º</td>\n",
       "    </tr>\n",
       "    <tr>\n",
       "      <td id=\"T_4119c_row88_col0\" class=\"data row88 col0\" >1</td>\n",
       "      <td id=\"T_4119c_row88_col1\" class=\"data row88 col1\" >14/10/11</td>\n",
       "      <td id=\"T_4119c_row88_col2\" class=\"data row88 col2\" >$ 1493525.93</td>\n",
       "      <td id=\"T_4119c_row88_col3\" class=\"data row88 col3\" >False</td>\n",
       "      <td id=\"T_4119c_row88_col4\" class=\"data row88 col4\" >71.74º</td>\n",
       "    </tr>\n",
       "    <tr>\n",
       "      <td id=\"T_4119c_row89_col0\" class=\"data row89 col0\" >1</td>\n",
       "      <td id=\"T_4119c_row89_col1\" class=\"data row89 col1\" >21/10/11</td>\n",
       "      <td id=\"T_4119c_row89_col2\" class=\"data row89 col2\" >$ 1502562.78</td>\n",
       "      <td id=\"T_4119c_row89_col3\" class=\"data row89 col3\" >False</td>\n",
       "      <td id=\"T_4119c_row89_col4\" class=\"data row89 col4\" >63.71º</td>\n",
       "    </tr>\n",
       "    <tr>\n",
       "      <td id=\"T_4119c_row90_col0\" class=\"data row90 col0\" >1</td>\n",
       "      <td id=\"T_4119c_row90_col1\" class=\"data row90 col1\" >28/10/11</td>\n",
       "      <td id=\"T_4119c_row90_col2\" class=\"data row90 col2\" >$ 1445249.09</td>\n",
       "      <td id=\"T_4119c_row90_col3\" class=\"data row90 col3\" >False</td>\n",
       "      <td id=\"T_4119c_row90_col4\" class=\"data row90 col4\" >66.57º</td>\n",
       "    </tr>\n",
       "    <tr>\n",
       "      <td id=\"T_4119c_row91_col0\" class=\"data row91 col0\" >1</td>\n",
       "      <td id=\"T_4119c_row91_col1\" class=\"data row91 col1\" >11/04/11</td>\n",
       "      <td id=\"T_4119c_row91_col2\" class=\"data row91 col2\" >$ 1697229.58</td>\n",
       "      <td id=\"T_4119c_row91_col3\" class=\"data row91 col3\" >False</td>\n",
       "      <td id=\"T_4119c_row91_col4\" class=\"data row91 col4\" >54.98º</td>\n",
       "    </tr>\n",
       "    <tr>\n",
       "      <td id=\"T_4119c_row92_col0\" class=\"data row92 col0\" >1</td>\n",
       "      <td id=\"T_4119c_row92_col1\" class=\"data row92 col1\" >11/11/11</td>\n",
       "      <td id=\"T_4119c_row92_col2\" class=\"data row92 col2\" >$ 1594938.89</td>\n",
       "      <td id=\"T_4119c_row92_col3\" class=\"data row92 col3\" >False</td>\n",
       "      <td id=\"T_4119c_row92_col4\" class=\"data row92 col4\" >59.11º</td>\n",
       "    </tr>\n",
       "    <tr>\n",
       "      <td id=\"T_4119c_row93_col0\" class=\"data row93 col0\" >1</td>\n",
       "      <td id=\"T_4119c_row93_col1\" class=\"data row93 col1\" >18/11/11</td>\n",
       "      <td id=\"T_4119c_row93_col2\" class=\"data row93 col2\" >$ 1539483.70</td>\n",
       "      <td id=\"T_4119c_row93_col3\" class=\"data row93 col3\" >False</td>\n",
       "      <td id=\"T_4119c_row93_col4\" class=\"data row93 col4\" >62.25º</td>\n",
       "    </tr>\n",
       "    <tr>\n",
       "      <td id=\"T_4119c_row94_col0\" class=\"data row94 col0\" >1</td>\n",
       "      <td id=\"T_4119c_row94_col1\" class=\"data row94 col1\" >25/11/11</td>\n",
       "      <td id=\"T_4119c_row94_col2\" class=\"data row94 col2\" >$ 2033320.66</td>\n",
       "      <td id=\"T_4119c_row94_col3\" class=\"data row94 col3\" >True</td>\n",
       "      <td id=\"T_4119c_row94_col4\" class=\"data row94 col4\" >60.14º</td>\n",
       "    </tr>\n",
       "    <tr>\n",
       "      <td id=\"T_4119c_row95_col0\" class=\"data row95 col0\" >1</td>\n",
       "      <td id=\"T_4119c_row95_col1\" class=\"data row95 col1\" >12/02/11</td>\n",
       "      <td id=\"T_4119c_row95_col2\" class=\"data row95 col2\" >$ 1584083.95</td>\n",
       "      <td id=\"T_4119c_row95_col3\" class=\"data row95 col3\" >False</td>\n",
       "      <td id=\"T_4119c_row95_col4\" class=\"data row95 col4\" >48.91º</td>\n",
       "    </tr>\n",
       "    <tr>\n",
       "      <td id=\"T_4119c_row96_col0\" class=\"data row96 col0\" >1</td>\n",
       "      <td id=\"T_4119c_row96_col1\" class=\"data row96 col1\" >12/09/11</td>\n",
       "      <td id=\"T_4119c_row96_col2\" class=\"data row96 col2\" >$ 1799682.38</td>\n",
       "      <td id=\"T_4119c_row96_col3\" class=\"data row96 col3\" >False</td>\n",
       "      <td id=\"T_4119c_row96_col4\" class=\"data row96 col4\" >43.93º</td>\n",
       "    </tr>\n",
       "    <tr>\n",
       "      <td id=\"T_4119c_row97_col0\" class=\"data row97 col0\" >1</td>\n",
       "      <td id=\"T_4119c_row97_col1\" class=\"data row97 col1\" >16/12/11</td>\n",
       "      <td id=\"T_4119c_row97_col2\" class=\"data row97 col2\" >$ 1881176.67</td>\n",
       "      <td id=\"T_4119c_row97_col3\" class=\"data row97 col3\" >False</td>\n",
       "      <td id=\"T_4119c_row97_col4\" class=\"data row97 col4\" >51.63º</td>\n",
       "    </tr>\n",
       "    <tr>\n",
       "      <td id=\"T_4119c_row98_col0\" class=\"data row98 col0\" >1</td>\n",
       "      <td id=\"T_4119c_row98_col1\" class=\"data row98 col1\" >23/12/11</td>\n",
       "      <td id=\"T_4119c_row98_col2\" class=\"data row98 col2\" >$ 2270188.99</td>\n",
       "      <td id=\"T_4119c_row98_col3\" class=\"data row98 col3\" >False</td>\n",
       "      <td id=\"T_4119c_row98_col4\" class=\"data row98 col4\" >47.96º</td>\n",
       "    </tr>\n",
       "    <tr>\n",
       "      <td id=\"T_4119c_row99_col0\" class=\"data row99 col0\" >1</td>\n",
       "      <td id=\"T_4119c_row99_col1\" class=\"data row99 col1\" >30/12/11</td>\n",
       "      <td id=\"T_4119c_row99_col2\" class=\"data row99 col2\" >$ 1497462.72</td>\n",
       "      <td id=\"T_4119c_row99_col3\" class=\"data row99 col3\" >True</td>\n",
       "      <td id=\"T_4119c_row99_col4\" class=\"data row99 col4\" >44.55º</td>\n",
       "    </tr>\n",
       "    <tr>\n",
       "      <td id=\"T_4119c_row100_col0\" class=\"data row100 col0\" >1</td>\n",
       "      <td id=\"T_4119c_row100_col1\" class=\"data row100 col1\" >01/06/12</td>\n",
       "      <td id=\"T_4119c_row100_col2\" class=\"data row100 col2\" >$ 1550369.92</td>\n",
       "      <td id=\"T_4119c_row100_col3\" class=\"data row100 col3\" >False</td>\n",
       "      <td id=\"T_4119c_row100_col4\" class=\"data row100 col4\" >49.01º</td>\n",
       "    </tr>\n",
       "    <tr>\n",
       "      <td id=\"T_4119c_row101_col0\" class=\"data row101 col0\" >1</td>\n",
       "      <td id=\"T_4119c_row101_col1\" class=\"data row101 col1\" >13/01/12</td>\n",
       "      <td id=\"T_4119c_row101_col2\" class=\"data row101 col2\" >$ 1459601.17</td>\n",
       "      <td id=\"T_4119c_row101_col3\" class=\"data row101 col3\" >False</td>\n",
       "      <td id=\"T_4119c_row101_col4\" class=\"data row101 col4\" >48.53º</td>\n",
       "    </tr>\n",
       "    <tr>\n",
       "      <td id=\"T_4119c_row102_col0\" class=\"data row102 col0\" >1</td>\n",
       "      <td id=\"T_4119c_row102_col1\" class=\"data row102 col1\" >20/01/12</td>\n",
       "      <td id=\"T_4119c_row102_col2\" class=\"data row102 col2\" >$ 1394393.84</td>\n",
       "      <td id=\"T_4119c_row102_col3\" class=\"data row102 col3\" >False</td>\n",
       "      <td id=\"T_4119c_row102_col4\" class=\"data row102 col4\" >54.11º</td>\n",
       "    </tr>\n",
       "    <tr>\n",
       "      <td id=\"T_4119c_row103_col0\" class=\"data row103 col0\" >1</td>\n",
       "      <td id=\"T_4119c_row103_col1\" class=\"data row103 col1\" >27/01/12</td>\n",
       "      <td id=\"T_4119c_row103_col2\" class=\"data row103 col2\" >$ 1319325.59</td>\n",
       "      <td id=\"T_4119c_row103_col3\" class=\"data row103 col3\" >False</td>\n",
       "      <td id=\"T_4119c_row103_col4\" class=\"data row103 col4\" >54.26º</td>\n",
       "    </tr>\n",
       "    <tr>\n",
       "      <td id=\"T_4119c_row104_col0\" class=\"data row104 col0\" >1</td>\n",
       "      <td id=\"T_4119c_row104_col1\" class=\"data row104 col1\" >02/03/12</td>\n",
       "      <td id=\"T_4119c_row104_col2\" class=\"data row104 col2\" >$ 1636339.65</td>\n",
       "      <td id=\"T_4119c_row104_col3\" class=\"data row104 col3\" >False</td>\n",
       "      <td id=\"T_4119c_row104_col4\" class=\"data row104 col4\" >56.55º</td>\n",
       "    </tr>\n",
       "    <tr>\n",
       "      <td id=\"T_4119c_row105_col0\" class=\"data row105 col0\" >1</td>\n",
       "      <td id=\"T_4119c_row105_col1\" class=\"data row105 col1\" >02/10/12</td>\n",
       "      <td id=\"T_4119c_row105_col2\" class=\"data row105 col2\" >$ 1802477.43</td>\n",
       "      <td id=\"T_4119c_row105_col3\" class=\"data row105 col3\" >True</td>\n",
       "      <td id=\"T_4119c_row105_col4\" class=\"data row105 col4\" >48.02º</td>\n",
       "    </tr>\n",
       "    <tr>\n",
       "      <td id=\"T_4119c_row106_col0\" class=\"data row106 col0\" >1</td>\n",
       "      <td id=\"T_4119c_row106_col1\" class=\"data row106 col1\" >17/02/12</td>\n",
       "      <td id=\"T_4119c_row106_col2\" class=\"data row106 col2\" >$ 1819870.00</td>\n",
       "      <td id=\"T_4119c_row106_col3\" class=\"data row106 col3\" >False</td>\n",
       "      <td id=\"T_4119c_row106_col4\" class=\"data row106 col4\" >45.32º</td>\n",
       "    </tr>\n",
       "    <tr>\n",
       "      <td id=\"T_4119c_row107_col0\" class=\"data row107 col0\" >1</td>\n",
       "      <td id=\"T_4119c_row107_col1\" class=\"data row107 col1\" >24/02/12</td>\n",
       "      <td id=\"T_4119c_row107_col2\" class=\"data row107 col2\" >$ 1539387.83</td>\n",
       "      <td id=\"T_4119c_row107_col3\" class=\"data row107 col3\" >False</td>\n",
       "      <td id=\"T_4119c_row107_col4\" class=\"data row107 col4\" >57.25º</td>\n",
       "    </tr>\n",
       "    <tr>\n",
       "      <td id=\"T_4119c_row108_col0\" class=\"data row108 col0\" >1</td>\n",
       "      <td id=\"T_4119c_row108_col1\" class=\"data row108 col1\" >03/02/12</td>\n",
       "      <td id=\"T_4119c_row108_col2\" class=\"data row108 col2\" >$ 1688420.76</td>\n",
       "      <td id=\"T_4119c_row108_col3\" class=\"data row108 col3\" >False</td>\n",
       "      <td id=\"T_4119c_row108_col4\" class=\"data row108 col4\" >60.96º</td>\n",
       "    </tr>\n",
       "    <tr>\n",
       "      <td id=\"T_4119c_row109_col0\" class=\"data row109 col0\" >1</td>\n",
       "      <td id=\"T_4119c_row109_col1\" class=\"data row109 col1\" >03/09/12</td>\n",
       "      <td id=\"T_4119c_row109_col2\" class=\"data row109 col2\" >$ 1675431.16</td>\n",
       "      <td id=\"T_4119c_row109_col3\" class=\"data row109 col3\" >False</td>\n",
       "      <td id=\"T_4119c_row109_col4\" class=\"data row109 col4\" >58.76º</td>\n",
       "    </tr>\n",
       "    <tr>\n",
       "      <td id=\"T_4119c_row110_col0\" class=\"data row110 col0\" >1</td>\n",
       "      <td id=\"T_4119c_row110_col1\" class=\"data row110 col1\" >16/03/12</td>\n",
       "      <td id=\"T_4119c_row110_col2\" class=\"data row110 col2\" >$ 1677472.78</td>\n",
       "      <td id=\"T_4119c_row110_col3\" class=\"data row110 col3\" >False</td>\n",
       "      <td id=\"T_4119c_row110_col4\" class=\"data row110 col4\" >64.74º</td>\n",
       "    </tr>\n",
       "    <tr>\n",
       "      <td id=\"T_4119c_row111_col0\" class=\"data row111 col0\" >1</td>\n",
       "      <td id=\"T_4119c_row111_col1\" class=\"data row111 col1\" >23/03/12</td>\n",
       "      <td id=\"T_4119c_row111_col2\" class=\"data row111 col2\" >$ 1511068.07</td>\n",
       "      <td id=\"T_4119c_row111_col3\" class=\"data row111 col3\" >False</td>\n",
       "      <td id=\"T_4119c_row111_col4\" class=\"data row111 col4\" >65.93º</td>\n",
       "    </tr>\n",
       "    <tr>\n",
       "      <td id=\"T_4119c_row112_col0\" class=\"data row112 col0\" >1</td>\n",
       "      <td id=\"T_4119c_row112_col1\" class=\"data row112 col1\" >30/03/12</td>\n",
       "      <td id=\"T_4119c_row112_col2\" class=\"data row112 col2\" >$ 1649604.63</td>\n",
       "      <td id=\"T_4119c_row112_col3\" class=\"data row112 col3\" >False</td>\n",
       "      <td id=\"T_4119c_row112_col4\" class=\"data row112 col4\" >67.61º</td>\n",
       "    </tr>\n",
       "    <tr>\n",
       "      <td id=\"T_4119c_row113_col0\" class=\"data row113 col0\" >1</td>\n",
       "      <td id=\"T_4119c_row113_col1\" class=\"data row113 col1\" >04/06/12</td>\n",
       "      <td id=\"T_4119c_row113_col2\" class=\"data row113 col2\" >$ 1899676.88</td>\n",
       "      <td id=\"T_4119c_row113_col3\" class=\"data row113 col3\" >False</td>\n",
       "      <td id=\"T_4119c_row113_col4\" class=\"data row113 col4\" >70.43º</td>\n",
       "    </tr>\n",
       "    <tr>\n",
       "      <td id=\"T_4119c_row114_col0\" class=\"data row114 col0\" >1</td>\n",
       "      <td id=\"T_4119c_row114_col1\" class=\"data row114 col1\" >13/04/12</td>\n",
       "      <td id=\"T_4119c_row114_col2\" class=\"data row114 col2\" >$ 1621031.70</td>\n",
       "      <td id=\"T_4119c_row114_col3\" class=\"data row114 col3\" >False</td>\n",
       "      <td id=\"T_4119c_row114_col4\" class=\"data row114 col4\" >69.07º</td>\n",
       "    </tr>\n",
       "    <tr>\n",
       "      <td id=\"T_4119c_row115_col0\" class=\"data row115 col0\" >1</td>\n",
       "      <td id=\"T_4119c_row115_col1\" class=\"data row115 col1\" >20/04/12</td>\n",
       "      <td id=\"T_4119c_row115_col2\" class=\"data row115 col2\" >$ 1521577.87</td>\n",
       "      <td id=\"T_4119c_row115_col3\" class=\"data row115 col3\" >False</td>\n",
       "      <td id=\"T_4119c_row115_col4\" class=\"data row115 col4\" >66.76º</td>\n",
       "    </tr>\n",
       "    <tr>\n",
       "      <td id=\"T_4119c_row116_col0\" class=\"data row116 col0\" >1</td>\n",
       "      <td id=\"T_4119c_row116_col1\" class=\"data row116 col1\" >27/04/12</td>\n",
       "      <td id=\"T_4119c_row116_col2\" class=\"data row116 col2\" >$ 1468928.37</td>\n",
       "      <td id=\"T_4119c_row116_col3\" class=\"data row116 col3\" >False</td>\n",
       "      <td id=\"T_4119c_row116_col4\" class=\"data row116 col4\" >67.23º</td>\n",
       "    </tr>\n",
       "    <tr>\n",
       "      <td id=\"T_4119c_row117_col0\" class=\"data row117 col0\" >1</td>\n",
       "      <td id=\"T_4119c_row117_col1\" class=\"data row117 col1\" >05/04/12</td>\n",
       "      <td id=\"T_4119c_row117_col2\" class=\"data row117 col2\" >$ 1684519.99</td>\n",
       "      <td id=\"T_4119c_row117_col3\" class=\"data row117 col3\" >False</td>\n",
       "      <td id=\"T_4119c_row117_col4\" class=\"data row117 col4\" >75.55º</td>\n",
       "    </tr>\n",
       "    <tr>\n",
       "      <td id=\"T_4119c_row118_col0\" class=\"data row118 col0\" >1</td>\n",
       "      <td id=\"T_4119c_row118_col1\" class=\"data row118 col1\" >05/11/12</td>\n",
       "      <td id=\"T_4119c_row118_col2\" class=\"data row118 col2\" >$ 1611096.05</td>\n",
       "      <td id=\"T_4119c_row118_col3\" class=\"data row118 col3\" >False</td>\n",
       "      <td id=\"T_4119c_row118_col4\" class=\"data row118 col4\" >73.77º</td>\n",
       "    </tr>\n",
       "    <tr>\n",
       "      <td id=\"T_4119c_row119_col0\" class=\"data row119 col0\" >1</td>\n",
       "      <td id=\"T_4119c_row119_col1\" class=\"data row119 col1\" >18/05/12</td>\n",
       "      <td id=\"T_4119c_row119_col2\" class=\"data row119 col2\" >$ 1595901.87</td>\n",
       "      <td id=\"T_4119c_row119_col3\" class=\"data row119 col3\" >False</td>\n",
       "      <td id=\"T_4119c_row119_col4\" class=\"data row119 col4\" >70.33º</td>\n",
       "    </tr>\n",
       "    <tr>\n",
       "      <td id=\"T_4119c_row120_col0\" class=\"data row120 col0\" >1</td>\n",
       "      <td id=\"T_4119c_row120_col1\" class=\"data row120 col1\" >25/05/12</td>\n",
       "      <td id=\"T_4119c_row120_col2\" class=\"data row120 col2\" >$ 1555444.55</td>\n",
       "      <td id=\"T_4119c_row120_col3\" class=\"data row120 col3\" >False</td>\n",
       "      <td id=\"T_4119c_row120_col4\" class=\"data row120 col4\" >77.22º</td>\n",
       "    </tr>\n",
       "    <tr>\n",
       "      <td id=\"T_4119c_row121_col0\" class=\"data row121 col0\" >1</td>\n",
       "      <td id=\"T_4119c_row121_col1\" class=\"data row121 col1\" >06/01/12</td>\n",
       "      <td id=\"T_4119c_row121_col2\" class=\"data row121 col2\" >$ 1624477.58</td>\n",
       "      <td id=\"T_4119c_row121_col3\" class=\"data row121 col3\" >False</td>\n",
       "      <td id=\"T_4119c_row121_col4\" class=\"data row121 col4\" >77.95º</td>\n",
       "    </tr>\n",
       "    <tr>\n",
       "      <td id=\"T_4119c_row122_col0\" class=\"data row122 col0\" >1</td>\n",
       "      <td id=\"T_4119c_row122_col1\" class=\"data row122 col1\" >06/08/12</td>\n",
       "      <td id=\"T_4119c_row122_col2\" class=\"data row122 col2\" >$ 1697230.96</td>\n",
       "      <td id=\"T_4119c_row122_col3\" class=\"data row122 col3\" >False</td>\n",
       "      <td id=\"T_4119c_row122_col4\" class=\"data row122 col4\" >78.30º</td>\n",
       "    </tr>\n",
       "    <tr>\n",
       "      <td id=\"T_4119c_row123_col0\" class=\"data row123 col0\" >1</td>\n",
       "      <td id=\"T_4119c_row123_col1\" class=\"data row123 col1\" >15/06/12</td>\n",
       "      <td id=\"T_4119c_row123_col2\" class=\"data row123 col2\" >$ 1630607.00</td>\n",
       "      <td id=\"T_4119c_row123_col3\" class=\"data row123 col3\" >False</td>\n",
       "      <td id=\"T_4119c_row123_col4\" class=\"data row123 col4\" >79.35º</td>\n",
       "    </tr>\n",
       "    <tr>\n",
       "      <td id=\"T_4119c_row124_col0\" class=\"data row124 col0\" >1</td>\n",
       "      <td id=\"T_4119c_row124_col1\" class=\"data row124 col1\" >22/06/12</td>\n",
       "      <td id=\"T_4119c_row124_col2\" class=\"data row124 col2\" >$ 1527845.81</td>\n",
       "      <td id=\"T_4119c_row124_col3\" class=\"data row124 col3\" >False</td>\n",
       "      <td id=\"T_4119c_row124_col4\" class=\"data row124 col4\" >78.39º</td>\n",
       "    </tr>\n",
       "    <tr>\n",
       "      <td id=\"T_4119c_row125_col0\" class=\"data row125 col0\" >1</td>\n",
       "      <td id=\"T_4119c_row125_col1\" class=\"data row125 col1\" >29/06/12</td>\n",
       "      <td id=\"T_4119c_row125_col2\" class=\"data row125 col2\" >$ 1540421.49</td>\n",
       "      <td id=\"T_4119c_row125_col3\" class=\"data row125 col3\" >False</td>\n",
       "      <td id=\"T_4119c_row125_col4\" class=\"data row125 col4\" >84.88º</td>\n",
       "    </tr>\n",
       "    <tr>\n",
       "      <td id=\"T_4119c_row126_col0\" class=\"data row126 col0\" >1</td>\n",
       "      <td id=\"T_4119c_row126_col1\" class=\"data row126 col1\" >07/06/12</td>\n",
       "      <td id=\"T_4119c_row126_col2\" class=\"data row126 col2\" >$ 1769854.16</td>\n",
       "      <td id=\"T_4119c_row126_col3\" class=\"data row126 col3\" >False</td>\n",
       "      <td id=\"T_4119c_row126_col4\" class=\"data row126 col4\" >81.57º</td>\n",
       "    </tr>\n",
       "    <tr>\n",
       "      <td id=\"T_4119c_row127_col0\" class=\"data row127 col0\" >1</td>\n",
       "      <td id=\"T_4119c_row127_col1\" class=\"data row127 col1\" >13/07/12</td>\n",
       "      <td id=\"T_4119c_row127_col2\" class=\"data row127 col2\" >$ 1527014.04</td>\n",
       "      <td id=\"T_4119c_row127_col3\" class=\"data row127 col3\" >False</td>\n",
       "      <td id=\"T_4119c_row127_col4\" class=\"data row127 col4\" >77.12º</td>\n",
       "    </tr>\n",
       "    <tr>\n",
       "      <td id=\"T_4119c_row128_col0\" class=\"data row128 col0\" >1</td>\n",
       "      <td id=\"T_4119c_row128_col1\" class=\"data row128 col1\" >20/07/12</td>\n",
       "      <td id=\"T_4119c_row128_col2\" class=\"data row128 col2\" >$ 1497954.76</td>\n",
       "      <td id=\"T_4119c_row128_col3\" class=\"data row128 col3\" >False</td>\n",
       "      <td id=\"T_4119c_row128_col4\" class=\"data row128 col4\" >80.42º</td>\n",
       "    </tr>\n",
       "    <tr>\n",
       "      <td id=\"T_4119c_row129_col0\" class=\"data row129 col0\" >1</td>\n",
       "      <td id=\"T_4119c_row129_col1\" class=\"data row129 col1\" >27/07/12</td>\n",
       "      <td id=\"T_4119c_row129_col2\" class=\"data row129 col2\" >$ 1439123.71</td>\n",
       "      <td id=\"T_4119c_row129_col3\" class=\"data row129 col3\" >False</td>\n",
       "      <td id=\"T_4119c_row129_col4\" class=\"data row129 col4\" >82.66º</td>\n",
       "    </tr>\n",
       "    <tr>\n",
       "      <td id=\"T_4119c_row130_col0\" class=\"data row130 col0\" >1</td>\n",
       "      <td id=\"T_4119c_row130_col1\" class=\"data row130 col1\" >08/03/12</td>\n",
       "      <td id=\"T_4119c_row130_col2\" class=\"data row130 col2\" >$ 1631135.79</td>\n",
       "      <td id=\"T_4119c_row130_col3\" class=\"data row130 col3\" >False</td>\n",
       "      <td id=\"T_4119c_row130_col4\" class=\"data row130 col4\" >86.11º</td>\n",
       "    </tr>\n",
       "    <tr>\n",
       "      <td id=\"T_4119c_row131_col0\" class=\"data row131 col0\" >1</td>\n",
       "      <td id=\"T_4119c_row131_col1\" class=\"data row131 col1\" >08/10/12</td>\n",
       "      <td id=\"T_4119c_row131_col2\" class=\"data row131 col2\" >$ 1592409.97</td>\n",
       "      <td id=\"T_4119c_row131_col3\" class=\"data row131 col3\" >False</td>\n",
       "      <td id=\"T_4119c_row131_col4\" class=\"data row131 col4\" >85.05º</td>\n",
       "    </tr>\n",
       "    <tr>\n",
       "      <td id=\"T_4119c_row132_col0\" class=\"data row132 col0\" >1</td>\n",
       "      <td id=\"T_4119c_row132_col1\" class=\"data row132 col1\" >17/08/12</td>\n",
       "      <td id=\"T_4119c_row132_col2\" class=\"data row132 col2\" >$ 1597868.05</td>\n",
       "      <td id=\"T_4119c_row132_col3\" class=\"data row132 col3\" >False</td>\n",
       "      <td id=\"T_4119c_row132_col4\" class=\"data row132 col4\" >84.85º</td>\n",
       "    </tr>\n",
       "    <tr>\n",
       "      <td id=\"T_4119c_row133_col0\" class=\"data row133 col0\" >1</td>\n",
       "      <td id=\"T_4119c_row133_col1\" class=\"data row133 col1\" >24/08/12</td>\n",
       "      <td id=\"T_4119c_row133_col2\" class=\"data row133 col2\" >$ 1494122.38</td>\n",
       "      <td id=\"T_4119c_row133_col3\" class=\"data row133 col3\" >False</td>\n",
       "      <td id=\"T_4119c_row133_col4\" class=\"data row133 col4\" >77.66º</td>\n",
       "    </tr>\n",
       "    <tr>\n",
       "      <td id=\"T_4119c_row134_col0\" class=\"data row134 col0\" >1</td>\n",
       "      <td id=\"T_4119c_row134_col1\" class=\"data row134 col1\" >31/08/12</td>\n",
       "      <td id=\"T_4119c_row134_col2\" class=\"data row134 col2\" >$ 1582083.40</td>\n",
       "      <td id=\"T_4119c_row134_col3\" class=\"data row134 col3\" >False</td>\n",
       "      <td id=\"T_4119c_row134_col4\" class=\"data row134 col4\" >80.49º</td>\n",
       "    </tr>\n",
       "    <tr>\n",
       "      <td id=\"T_4119c_row135_col0\" class=\"data row135 col0\" >1</td>\n",
       "      <td id=\"T_4119c_row135_col1\" class=\"data row135 col1\" >09/07/12</td>\n",
       "      <td id=\"T_4119c_row135_col2\" class=\"data row135 col2\" >$ 1661767.33</td>\n",
       "      <td id=\"T_4119c_row135_col3\" class=\"data row135 col3\" >True</td>\n",
       "      <td id=\"T_4119c_row135_col4\" class=\"data row135 col4\" >83.96º</td>\n",
       "    </tr>\n",
       "    <tr>\n",
       "      <td id=\"T_4119c_row136_col0\" class=\"data row136 col0\" >1</td>\n",
       "      <td id=\"T_4119c_row136_col1\" class=\"data row136 col1\" >14/09/12</td>\n",
       "      <td id=\"T_4119c_row136_col2\" class=\"data row136 col2\" >$ 1517428.87</td>\n",
       "      <td id=\"T_4119c_row136_col3\" class=\"data row136 col3\" >False</td>\n",
       "      <td id=\"T_4119c_row136_col4\" class=\"data row136 col4\" >74.97º</td>\n",
       "    </tr>\n",
       "    <tr>\n",
       "      <td id=\"T_4119c_row137_col0\" class=\"data row137 col0\" >1</td>\n",
       "      <td id=\"T_4119c_row137_col1\" class=\"data row137 col1\" >21/09/12</td>\n",
       "      <td id=\"T_4119c_row137_col2\" class=\"data row137 col2\" >$ 1506126.06</td>\n",
       "      <td id=\"T_4119c_row137_col3\" class=\"data row137 col3\" >False</td>\n",
       "      <td id=\"T_4119c_row137_col4\" class=\"data row137 col4\" >69.87º</td>\n",
       "    </tr>\n",
       "    <tr>\n",
       "      <td id=\"T_4119c_row138_col0\" class=\"data row138 col0\" >1</td>\n",
       "      <td id=\"T_4119c_row138_col1\" class=\"data row138 col1\" >28/09/12</td>\n",
       "      <td id=\"T_4119c_row138_col2\" class=\"data row138 col2\" >$ 1437059.26</td>\n",
       "      <td id=\"T_4119c_row138_col3\" class=\"data row138 col3\" >False</td>\n",
       "      <td id=\"T_4119c_row138_col4\" class=\"data row138 col4\" >76.08º</td>\n",
       "    </tr>\n",
       "    <tr>\n",
       "      <td id=\"T_4119c_row139_col0\" class=\"data row139 col0\" >1</td>\n",
       "      <td id=\"T_4119c_row139_col1\" class=\"data row139 col1\" >10/05/12</td>\n",
       "      <td id=\"T_4119c_row139_col2\" class=\"data row139 col2\" >$ 1670785.97</td>\n",
       "      <td id=\"T_4119c_row139_col3\" class=\"data row139 col3\" >False</td>\n",
       "      <td id=\"T_4119c_row139_col4\" class=\"data row139 col4\" >68.55º</td>\n",
       "    </tr>\n",
       "    <tr>\n",
       "      <td id=\"T_4119c_row140_col0\" class=\"data row140 col0\" >1</td>\n",
       "      <td id=\"T_4119c_row140_col1\" class=\"data row140 col1\" >10/12/12</td>\n",
       "      <td id=\"T_4119c_row140_col2\" class=\"data row140 col2\" >$ 1573072.81</td>\n",
       "      <td id=\"T_4119c_row140_col3\" class=\"data row140 col3\" >False</td>\n",
       "      <td id=\"T_4119c_row140_col4\" class=\"data row140 col4\" >62.99º</td>\n",
       "    </tr>\n",
       "    <tr>\n",
       "      <td id=\"T_4119c_row141_col0\" class=\"data row141 col0\" >1</td>\n",
       "      <td id=\"T_4119c_row141_col1\" class=\"data row141 col1\" >19/10/12</td>\n",
       "      <td id=\"T_4119c_row141_col2\" class=\"data row141 col2\" >$ 1508068.77</td>\n",
       "      <td id=\"T_4119c_row141_col3\" class=\"data row141 col3\" >False</td>\n",
       "      <td id=\"T_4119c_row141_col4\" class=\"data row141 col4\" >67.97º</td>\n",
       "    </tr>\n",
       "    <tr>\n",
       "      <td id=\"T_4119c_row142_col0\" class=\"data row142 col0\" >1</td>\n",
       "      <td id=\"T_4119c_row142_col1\" class=\"data row142 col1\" >26/10/12</td>\n",
       "      <td id=\"T_4119c_row142_col2\" class=\"data row142 col2\" >$ 1493659.74</td>\n",
       "      <td id=\"T_4119c_row142_col3\" class=\"data row142 col3\" >False</td>\n",
       "      <td id=\"T_4119c_row142_col4\" class=\"data row142 col4\" >69.16º</td>\n",
       "    </tr>\n",
       "  </tbody>\n",
       "</table>\n"
      ],
      "text/plain": [
       "<pandas.io.formats.style.Styler at 0x75ebd603d1c0>"
      ]
     },
     "execution_count": 90,
     "metadata": {},
     "output_type": "execute_result"
    }
   ],
   "source": [
    "(\n",
    "    df_aux.style.format(format_dict)\n",
    "    .hide(axis=\"index\")\n",
    "    .highlight_max([\"feriado\"], color=\"red\")\n",
    "    .background_gradient(subset=\"vendas_semanais\", cmap=\"Greens\")\n",
    "    .bar('temperatura', color='lightblue', align='zero')\n",
    "    .set_caption('Vendas semanais das lojas do Walmart')\n",
    ")"
   ]
  },
  {
   "cell_type": "markdown",
   "id": "bad2c43a",
   "metadata": {},
   "source": [
    "## <font color=green> Reindexação"
   ]
  },
  {
   "cell_type": "code",
   "execution_count": 91,
   "id": "853e018a",
   "metadata": {},
   "outputs": [
    {
     "data": {
      "application/vnd.microsoft.datawrangler.viewer.v0+json": {
       "columns": [
        {
         "name": "index",
         "rawType": "object",
         "type": "string"
        },
        {
         "name": "0",
         "rawType": "float64",
         "type": "float"
        }
       ],
       "ref": "548f0751-d7de-4ef0-a778-3cc8ef44dcef",
       "rows": [
        [
         "d",
         "4.5"
        ],
        [
         "b",
         "7.2"
        ],
        [
         "a",
         "-5.3"
        ],
        [
         "c",
         "3.6"
        ]
       ],
       "shape": {
        "columns": 1,
        "rows": 4
       }
      },
      "text/plain": [
       "d    4.5\n",
       "b    7.2\n",
       "a   -5.3\n",
       "c    3.6\n",
       "dtype: float64"
      ]
     },
     "execution_count": 91,
     "metadata": {},
     "output_type": "execute_result"
    }
   ],
   "source": [
    "obj = pd.Series([4.5, 7.2, -5.3, 3.6], index=['d', 'b', 'a', 'c'])\n",
    "obj"
   ]
  },
  {
   "cell_type": "markdown",
   "id": "eed96462",
   "metadata": {},
   "source": [
    "- Reindex nessa Series reorganiza os dados de acordo com o novo índice, introduzindo valores indicativos de ausência se algum valor de índice não estava presente antes"
   ]
  },
  {
   "cell_type": "code",
   "execution_count": 92,
   "id": "ece1205c",
   "metadata": {},
   "outputs": [
    {
     "data": {
      "application/vnd.microsoft.datawrangler.viewer.v0+json": {
       "columns": [
        {
         "name": "index",
         "rawType": "object",
         "type": "string"
        },
        {
         "name": "0",
         "rawType": "float64",
         "type": "float"
        }
       ],
       "ref": "c88b3cf1-5dd1-490c-8a56-5e735bc8a147",
       "rows": [
        [
         "a",
         "-5.3"
        ],
        [
         "b",
         "7.2"
        ],
        [
         "c",
         "3.6"
        ],
        [
         "d",
         "4.5"
        ],
        [
         "e",
         null
        ]
       ],
       "shape": {
        "columns": 1,
        "rows": 5
       }
      },
      "text/plain": [
       "a   -5.3\n",
       "b    7.2\n",
       "c    3.6\n",
       "d    4.5\n",
       "e    NaN\n",
       "dtype: float64"
      ]
     },
     "execution_count": 92,
     "metadata": {},
     "output_type": "execute_result"
    }
   ],
   "source": [
    "obj2 = obj.reindex(['a', 'b', 'c', 'd', 'e'])\n",
    "obj2"
   ]
  },
  {
   "cell_type": "markdown",
   "id": "65c7eecf",
   "metadata": {},
   "source": [
    "- Para dados ordenados, como séries temporais, talvez seja desejável fazer alguma interpolação ou preenchimento de valores de reindexação. A opção method nos permite fazer isso, usando um método como ffill, que faz um preenchimento para a frente (foward-fill) dos valores, enquanto bfill preenche pra trás"
   ]
  },
  {
   "cell_type": "code",
   "execution_count": 93,
   "id": "0e721f47",
   "metadata": {},
   "outputs": [
    {
     "data": {
      "application/vnd.microsoft.datawrangler.viewer.v0+json": {
       "columns": [
        {
         "name": "index",
         "rawType": "int64",
         "type": "integer"
        },
        {
         "name": "0",
         "rawType": "object",
         "type": "string"
        }
       ],
       "ref": "4ab3bfb9-0f9a-4127-b154-7a93f113f28e",
       "rows": [
        [
         "0",
         "blue"
        ],
        [
         "2",
         "purple"
        ],
        [
         "4",
         "yellow"
        ]
       ],
       "shape": {
        "columns": 1,
        "rows": 3
       }
      },
      "text/plain": [
       "0      blue\n",
       "2    purple\n",
       "4    yellow\n",
       "dtype: object"
      ]
     },
     "execution_count": 93,
     "metadata": {},
     "output_type": "execute_result"
    }
   ],
   "source": [
    "obj3 = pd.Series(['blue', 'purple', 'yellow'], index=[0, 2, 4])\n",
    "obj3"
   ]
  },
  {
   "cell_type": "code",
   "execution_count": 94,
   "id": "d6a39673",
   "metadata": {},
   "outputs": [
    {
     "data": {
      "application/vnd.microsoft.datawrangler.viewer.v0+json": {
       "columns": [
        {
         "name": "index",
         "rawType": "int64",
         "type": "integer"
        },
        {
         "name": "0",
         "rawType": "object",
         "type": "string"
        }
       ],
       "ref": "8471b11f-f045-4865-a523-afcc514bfe59",
       "rows": [
        [
         "0",
         "blue"
        ],
        [
         "1",
         "blue"
        ],
        [
         "2",
         "purple"
        ],
        [
         "3",
         "purple"
        ],
        [
         "4",
         "yellow"
        ],
        [
         "5",
         "yellow"
        ]
       ],
       "shape": {
        "columns": 1,
        "rows": 6
       }
      },
      "text/plain": [
       "0      blue\n",
       "1      blue\n",
       "2    purple\n",
       "3    purple\n",
       "4    yellow\n",
       "5    yellow\n",
       "dtype: object"
      ]
     },
     "execution_count": 94,
     "metadata": {},
     "output_type": "execute_result"
    }
   ],
   "source": [
    "obj3.reindex(range(6), method='ffill')"
   ]
  },
  {
   "cell_type": "code",
   "execution_count": 95,
   "id": "2eabaf79",
   "metadata": {},
   "outputs": [
    {
     "data": {
      "application/vnd.microsoft.datawrangler.viewer.v0+json": {
       "columns": [
        {
         "name": "index",
         "rawType": "int64",
         "type": "integer"
        },
        {
         "name": "0",
         "rawType": "object",
         "type": "unknown"
        }
       ],
       "ref": "0d4f9217-c61a-444f-9312-32b6e84bb63f",
       "rows": [
        [
         "0",
         "blue"
        ],
        [
         "1",
         "purple"
        ],
        [
         "2",
         "purple"
        ],
        [
         "3",
         "yellow"
        ],
        [
         "4",
         "yellow"
        ],
        [
         "5",
         null
        ]
       ],
       "shape": {
        "columns": 1,
        "rows": 6
       }
      },
      "text/plain": [
       "0      blue\n",
       "1    purple\n",
       "2    purple\n",
       "3    yellow\n",
       "4    yellow\n",
       "5       NaN\n",
       "dtype: object"
      ]
     },
     "execution_count": 95,
     "metadata": {},
     "output_type": "execute_result"
    }
   ],
   "source": [
    "obj3.reindex(range(6), method='bfill')"
   ]
  },
  {
   "cell_type": "markdown",
   "id": "0bc59cf2",
   "metadata": {},
   "source": [
    "- Com DataFrame, reindex pode alterar o índice (linha), as colunas, ou ambas. Se apenas uma sequência for passada, as linhas serão reindexadas no resultado"
   ]
  },
  {
   "cell_type": "code",
   "execution_count": 96,
   "id": "ed1716ee",
   "metadata": {},
   "outputs": [
    {
     "data": {
      "application/vnd.microsoft.datawrangler.viewer.v0+json": {
       "columns": [
        {
         "name": "index",
         "rawType": "object",
         "type": "string"
        },
        {
         "name": "Ohio",
         "rawType": "int64",
         "type": "integer"
        },
        {
         "name": "Texas",
         "rawType": "int64",
         "type": "integer"
        },
        {
         "name": "California",
         "rawType": "int64",
         "type": "integer"
        }
       ],
       "ref": "eef36f2a-0e14-412c-90b4-0dd03137dfd2",
       "rows": [
        [
         "a",
         "0",
         "1",
         "2"
        ],
        [
         "c",
         "3",
         "4",
         "5"
        ],
        [
         "d",
         "6",
         "7",
         "8"
        ]
       ],
       "shape": {
        "columns": 3,
        "rows": 3
       }
      },
      "text/html": [
       "<div>\n",
       "<style scoped>\n",
       "    .dataframe tbody tr th:only-of-type {\n",
       "        vertical-align: middle;\n",
       "    }\n",
       "\n",
       "    .dataframe tbody tr th {\n",
       "        vertical-align: top;\n",
       "    }\n",
       "\n",
       "    .dataframe thead th {\n",
       "        text-align: right;\n",
       "    }\n",
       "</style>\n",
       "<table border=\"1\" class=\"dataframe\">\n",
       "  <thead>\n",
       "    <tr style=\"text-align: right;\">\n",
       "      <th></th>\n",
       "      <th>Ohio</th>\n",
       "      <th>Texas</th>\n",
       "      <th>California</th>\n",
       "    </tr>\n",
       "  </thead>\n",
       "  <tbody>\n",
       "    <tr>\n",
       "      <th>a</th>\n",
       "      <td>0</td>\n",
       "      <td>1</td>\n",
       "      <td>2</td>\n",
       "    </tr>\n",
       "    <tr>\n",
       "      <th>c</th>\n",
       "      <td>3</td>\n",
       "      <td>4</td>\n",
       "      <td>5</td>\n",
       "    </tr>\n",
       "    <tr>\n",
       "      <th>d</th>\n",
       "      <td>6</td>\n",
       "      <td>7</td>\n",
       "      <td>8</td>\n",
       "    </tr>\n",
       "  </tbody>\n",
       "</table>\n",
       "</div>"
      ],
      "text/plain": [
       "   Ohio  Texas  California\n",
       "a     0      1           2\n",
       "c     3      4           5\n",
       "d     6      7           8"
      ]
     },
     "execution_count": 96,
     "metadata": {},
     "output_type": "execute_result"
    }
   ],
   "source": [
    "frame = pd.DataFrame(np.arange(9).reshape((3,3)), \n",
    "                        index=['a','c','d'], \n",
    "                        columns=['Ohio', 'Texas', 'California'])\n",
    "frame"
   ]
  },
  {
   "cell_type": "code",
   "execution_count": 97,
   "id": "46269014",
   "metadata": {},
   "outputs": [
    {
     "data": {
      "application/vnd.microsoft.datawrangler.viewer.v0+json": {
       "columns": [
        {
         "name": "index",
         "rawType": "object",
         "type": "string"
        },
        {
         "name": "Ohio",
         "rawType": "float64",
         "type": "float"
        },
        {
         "name": "Texas",
         "rawType": "float64",
         "type": "float"
        },
        {
         "name": "California",
         "rawType": "float64",
         "type": "float"
        }
       ],
       "ref": "5581196b-15b4-4716-bd30-6a260cbc8bd8",
       "rows": [
        [
         "a",
         "0.0",
         "1.0",
         "2.0"
        ],
        [
         "b",
         null,
         null,
         null
        ],
        [
         "c",
         "3.0",
         "4.0",
         "5.0"
        ],
        [
         "d",
         "6.0",
         "7.0",
         "8.0"
        ]
       ],
       "shape": {
        "columns": 3,
        "rows": 4
       }
      },
      "text/html": [
       "<div>\n",
       "<style scoped>\n",
       "    .dataframe tbody tr th:only-of-type {\n",
       "        vertical-align: middle;\n",
       "    }\n",
       "\n",
       "    .dataframe tbody tr th {\n",
       "        vertical-align: top;\n",
       "    }\n",
       "\n",
       "    .dataframe thead th {\n",
       "        text-align: right;\n",
       "    }\n",
       "</style>\n",
       "<table border=\"1\" class=\"dataframe\">\n",
       "  <thead>\n",
       "    <tr style=\"text-align: right;\">\n",
       "      <th></th>\n",
       "      <th>Ohio</th>\n",
       "      <th>Texas</th>\n",
       "      <th>California</th>\n",
       "    </tr>\n",
       "  </thead>\n",
       "  <tbody>\n",
       "    <tr>\n",
       "      <th>a</th>\n",
       "      <td>0.0</td>\n",
       "      <td>1.0</td>\n",
       "      <td>2.0</td>\n",
       "    </tr>\n",
       "    <tr>\n",
       "      <th>b</th>\n",
       "      <td>NaN</td>\n",
       "      <td>NaN</td>\n",
       "      <td>NaN</td>\n",
       "    </tr>\n",
       "    <tr>\n",
       "      <th>c</th>\n",
       "      <td>3.0</td>\n",
       "      <td>4.0</td>\n",
       "      <td>5.0</td>\n",
       "    </tr>\n",
       "    <tr>\n",
       "      <th>d</th>\n",
       "      <td>6.0</td>\n",
       "      <td>7.0</td>\n",
       "      <td>8.0</td>\n",
       "    </tr>\n",
       "  </tbody>\n",
       "</table>\n",
       "</div>"
      ],
      "text/plain": [
       "   Ohio  Texas  California\n",
       "a   0.0    1.0         2.0\n",
       "b   NaN    NaN         NaN\n",
       "c   3.0    4.0         5.0\n",
       "d   6.0    7.0         8.0"
      ]
     },
     "execution_count": 97,
     "metadata": {},
     "output_type": "execute_result"
    }
   ],
   "source": [
    "frame2 = frame.reindex(['a','b','c','d'])\n",
    "frame2"
   ]
  },
  {
   "cell_type": "code",
   "execution_count": 98,
   "id": "9d64e0d3",
   "metadata": {},
   "outputs": [
    {
     "data": {
      "application/vnd.microsoft.datawrangler.viewer.v0+json": {
       "columns": [
        {
         "name": "index",
         "rawType": "object",
         "type": "string"
        },
        {
         "name": "Texas",
         "rawType": "int64",
         "type": "integer"
        },
        {
         "name": "Utah",
         "rawType": "float64",
         "type": "float"
        },
        {
         "name": "California",
         "rawType": "int64",
         "type": "integer"
        }
       ],
       "ref": "10a49604-cef4-41e5-bb2a-65003a4b106e",
       "rows": [
        [
         "a",
         "1",
         null,
         "2"
        ],
        [
         "c",
         "4",
         null,
         "5"
        ],
        [
         "d",
         "7",
         null,
         "8"
        ]
       ],
       "shape": {
        "columns": 3,
        "rows": 3
       }
      },
      "text/html": [
       "<div>\n",
       "<style scoped>\n",
       "    .dataframe tbody tr th:only-of-type {\n",
       "        vertical-align: middle;\n",
       "    }\n",
       "\n",
       "    .dataframe tbody tr th {\n",
       "        vertical-align: top;\n",
       "    }\n",
       "\n",
       "    .dataframe thead th {\n",
       "        text-align: right;\n",
       "    }\n",
       "</style>\n",
       "<table border=\"1\" class=\"dataframe\">\n",
       "  <thead>\n",
       "    <tr style=\"text-align: right;\">\n",
       "      <th></th>\n",
       "      <th>Texas</th>\n",
       "      <th>Utah</th>\n",
       "      <th>California</th>\n",
       "    </tr>\n",
       "  </thead>\n",
       "  <tbody>\n",
       "    <tr>\n",
       "      <th>a</th>\n",
       "      <td>1</td>\n",
       "      <td>NaN</td>\n",
       "      <td>2</td>\n",
       "    </tr>\n",
       "    <tr>\n",
       "      <th>c</th>\n",
       "      <td>4</td>\n",
       "      <td>NaN</td>\n",
       "      <td>5</td>\n",
       "    </tr>\n",
       "    <tr>\n",
       "      <th>d</th>\n",
       "      <td>7</td>\n",
       "      <td>NaN</td>\n",
       "      <td>8</td>\n",
       "    </tr>\n",
       "  </tbody>\n",
       "</table>\n",
       "</div>"
      ],
      "text/plain": [
       "   Texas  Utah  California\n",
       "a      1   NaN           2\n",
       "c      4   NaN           5\n",
       "d      7   NaN           8"
      ]
     },
     "execution_count": 98,
     "metadata": {},
     "output_type": "execute_result"
    }
   ],
   "source": [
    "frame3 = frame.reindex(columns=['Texas', 'Utah', 'California'])\n",
    "frame3"
   ]
  },
  {
   "cell_type": "markdown",
   "id": "29291849",
   "metadata": {},
   "source": [
    "- Convertendo coluna multivalores para multiplas linhas"
   ]
  },
  {
   "cell_type": "code",
   "execution_count": 99,
   "id": "b6ec2d79",
   "metadata": {},
   "outputs": [
    {
     "data": {
      "application/vnd.microsoft.datawrangler.viewer.v0+json": {
       "columns": [
        {
         "name": "index",
         "rawType": "object",
         "type": "string"
        },
        {
         "name": "name",
         "rawType": "object",
         "type": "string"
        },
        {
         "name": "sex",
         "rawType": "object",
         "type": "string"
        },
        {
         "name": "hobbies",
         "rawType": "object",
         "type": "string"
        }
       ],
       "ref": "71df959e-aec8-45cc-b5a8-1d4d5222222a",
       "rows": [
        [
         "K",
         "Kevin",
         "M",
         "Writing,Chess"
        ],
        [
         "J",
         "Jack",
         "M",
         "Drawing,Coding"
        ],
        [
         "M",
         "Mary",
         "F",
         "Music,Reading"
        ]
       ],
       "shape": {
        "columns": 3,
        "rows": 3
       }
      },
      "text/html": [
       "<div>\n",
       "<style scoped>\n",
       "    .dataframe tbody tr th:only-of-type {\n",
       "        vertical-align: middle;\n",
       "    }\n",
       "\n",
       "    .dataframe tbody tr th {\n",
       "        vertical-align: top;\n",
       "    }\n",
       "\n",
       "    .dataframe thead th {\n",
       "        text-align: right;\n",
       "    }\n",
       "</style>\n",
       "<table border=\"1\" class=\"dataframe\">\n",
       "  <thead>\n",
       "    <tr style=\"text-align: right;\">\n",
       "      <th></th>\n",
       "      <th>name</th>\n",
       "      <th>sex</th>\n",
       "      <th>hobbies</th>\n",
       "    </tr>\n",
       "  </thead>\n",
       "  <tbody>\n",
       "    <tr>\n",
       "      <th>K</th>\n",
       "      <td>Kevin</td>\n",
       "      <td>M</td>\n",
       "      <td>Writing,Chess</td>\n",
       "    </tr>\n",
       "    <tr>\n",
       "      <th>J</th>\n",
       "      <td>Jack</td>\n",
       "      <td>M</td>\n",
       "      <td>Drawing,Coding</td>\n",
       "    </tr>\n",
       "    <tr>\n",
       "      <th>M</th>\n",
       "      <td>Mary</td>\n",
       "      <td>F</td>\n",
       "      <td>Music,Reading</td>\n",
       "    </tr>\n",
       "  </tbody>\n",
       "</table>\n",
       "</div>"
      ],
      "text/plain": [
       "    name sex         hobbies\n",
       "K  Kevin   M   Writing,Chess\n",
       "J   Jack   M  Drawing,Coding\n",
       "M   Mary   F   Music,Reading"
      ]
     },
     "execution_count": 99,
     "metadata": {},
     "output_type": "execute_result"
    }
   ],
   "source": [
    "df = pd.DataFrame({\n",
    "    \"name\": [\"Kevin\", \"Jack\", \"Mary\"],\n",
    "    \"sex\": [\"M\", \"M\", \"F\"],\n",
    "    \"hobbies\": [\"Writing,Chess\", \"Drawing,Coding\", \"Music,Reading\"]\n",
    "}, index=[\"K\", \"J\", \"M\"])\n",
    "\n",
    "df"
   ]
  },
  {
   "cell_type": "code",
   "execution_count": 100,
   "id": "8d018ff4",
   "metadata": {},
   "outputs": [
    {
     "data": {
      "application/vnd.microsoft.datawrangler.viewer.v0+json": {
       "columns": [
        {
         "name": "index",
         "rawType": "object",
         "type": "string"
        },
        {
         "name": "name",
         "rawType": "object",
         "type": "string"
        },
        {
         "name": "sex",
         "rawType": "object",
         "type": "string"
        },
        {
         "name": "hobbies",
         "rawType": "object",
         "type": "unknown"
        }
       ],
       "ref": "b6d92183-907f-43f6-80ab-0b549f5616b3",
       "rows": [
        [
         "K",
         "Kevin",
         "M",
         "['Writing', 'Chess']"
        ],
        [
         "J",
         "Jack",
         "M",
         "['Drawing', 'Coding']"
        ],
        [
         "M",
         "Mary",
         "F",
         "['Music', 'Reading']"
        ]
       ],
       "shape": {
        "columns": 3,
        "rows": 3
       }
      },
      "text/html": [
       "<div>\n",
       "<style scoped>\n",
       "    .dataframe tbody tr th:only-of-type {\n",
       "        vertical-align: middle;\n",
       "    }\n",
       "\n",
       "    .dataframe tbody tr th {\n",
       "        vertical-align: top;\n",
       "    }\n",
       "\n",
       "    .dataframe thead th {\n",
       "        text-align: right;\n",
       "    }\n",
       "</style>\n",
       "<table border=\"1\" class=\"dataframe\">\n",
       "  <thead>\n",
       "    <tr style=\"text-align: right;\">\n",
       "      <th></th>\n",
       "      <th>name</th>\n",
       "      <th>sex</th>\n",
       "      <th>hobbies</th>\n",
       "    </tr>\n",
       "  </thead>\n",
       "  <tbody>\n",
       "    <tr>\n",
       "      <th>K</th>\n",
       "      <td>Kevin</td>\n",
       "      <td>M</td>\n",
       "      <td>[Writing, Chess]</td>\n",
       "    </tr>\n",
       "    <tr>\n",
       "      <th>J</th>\n",
       "      <td>Jack</td>\n",
       "      <td>M</td>\n",
       "      <td>[Drawing, Coding]</td>\n",
       "    </tr>\n",
       "    <tr>\n",
       "      <th>M</th>\n",
       "      <td>Mary</td>\n",
       "      <td>F</td>\n",
       "      <td>[Music, Reading]</td>\n",
       "    </tr>\n",
       "  </tbody>\n",
       "</table>\n",
       "</div>"
      ],
      "text/plain": [
       "    name sex            hobbies\n",
       "K  Kevin   M   [Writing, Chess]\n",
       "J   Jack   M  [Drawing, Coding]\n",
       "M   Mary   F   [Music, Reading]"
      ]
     },
     "execution_count": 100,
     "metadata": {},
     "output_type": "execute_result"
    }
   ],
   "source": [
    "df[\"hobbies\"] = df[\"hobbies\"].str.split(\",\") \n",
    "df"
   ]
  },
  {
   "cell_type": "code",
   "execution_count": 101,
   "id": "ae2e0edb",
   "metadata": {},
   "outputs": [
    {
     "data": {
      "application/vnd.microsoft.datawrangler.viewer.v0+json": {
       "columns": [
        {
         "name": "index",
         "rawType": "object",
         "type": "string"
        },
        {
         "name": "name",
         "rawType": "object",
         "type": "string"
        },
        {
         "name": "sex",
         "rawType": "object",
         "type": "string"
        },
        {
         "name": "hobbies",
         "rawType": "object",
         "type": "string"
        }
       ],
       "ref": "97b40560-a7af-4c7c-b59b-536cfaca1240",
       "rows": [
        [
         "K",
         "Kevin",
         "M",
         "Writing"
        ],
        [
         "K",
         "Kevin",
         "M",
         "Chess"
        ],
        [
         "J",
         "Jack",
         "M",
         "Drawing"
        ],
        [
         "J",
         "Jack",
         "M",
         "Coding"
        ],
        [
         "M",
         "Mary",
         "F",
         "Music"
        ],
        [
         "M",
         "Mary",
         "F",
         "Reading"
        ]
       ],
       "shape": {
        "columns": 3,
        "rows": 6
       }
      },
      "text/html": [
       "<div>\n",
       "<style scoped>\n",
       "    .dataframe tbody tr th:only-of-type {\n",
       "        vertical-align: middle;\n",
       "    }\n",
       "\n",
       "    .dataframe tbody tr th {\n",
       "        vertical-align: top;\n",
       "    }\n",
       "\n",
       "    .dataframe thead th {\n",
       "        text-align: right;\n",
       "    }\n",
       "</style>\n",
       "<table border=\"1\" class=\"dataframe\">\n",
       "  <thead>\n",
       "    <tr style=\"text-align: right;\">\n",
       "      <th></th>\n",
       "      <th>name</th>\n",
       "      <th>sex</th>\n",
       "      <th>hobbies</th>\n",
       "    </tr>\n",
       "  </thead>\n",
       "  <tbody>\n",
       "    <tr>\n",
       "      <th>K</th>\n",
       "      <td>Kevin</td>\n",
       "      <td>M</td>\n",
       "      <td>Writing</td>\n",
       "    </tr>\n",
       "    <tr>\n",
       "      <th>K</th>\n",
       "      <td>Kevin</td>\n",
       "      <td>M</td>\n",
       "      <td>Chess</td>\n",
       "    </tr>\n",
       "    <tr>\n",
       "      <th>J</th>\n",
       "      <td>Jack</td>\n",
       "      <td>M</td>\n",
       "      <td>Drawing</td>\n",
       "    </tr>\n",
       "    <tr>\n",
       "      <th>J</th>\n",
       "      <td>Jack</td>\n",
       "      <td>M</td>\n",
       "      <td>Coding</td>\n",
       "    </tr>\n",
       "    <tr>\n",
       "      <th>M</th>\n",
       "      <td>Mary</td>\n",
       "      <td>F</td>\n",
       "      <td>Music</td>\n",
       "    </tr>\n",
       "    <tr>\n",
       "      <th>M</th>\n",
       "      <td>Mary</td>\n",
       "      <td>F</td>\n",
       "      <td>Reading</td>\n",
       "    </tr>\n",
       "  </tbody>\n",
       "</table>\n",
       "</div>"
      ],
      "text/plain": [
       "    name sex  hobbies\n",
       "K  Kevin   M  Writing\n",
       "K  Kevin   M    Chess\n",
       "J   Jack   M  Drawing\n",
       "J   Jack   M   Coding\n",
       "M   Mary   F    Music\n",
       "M   Mary   F  Reading"
      ]
     },
     "execution_count": 101,
     "metadata": {},
     "output_type": "execute_result"
    }
   ],
   "source": [
    "df = df.explode(\"hobbies\") \n",
    "df"
   ]
  }
 ],
 "metadata": {
  "hide_input": false,
  "kernelspec": {
   "display_name": ".venv",
   "language": "python",
   "name": "python3"
  },
  "language_info": {
   "codemirror_mode": {
    "name": "ipython",
    "version": 3
   },
   "file_extension": ".py",
   "mimetype": "text/x-python",
   "name": "python",
   "nbconvert_exporter": "python",
   "pygments_lexer": "ipython3",
   "version": "3.12.6"
  }
 },
 "nbformat": 4,
 "nbformat_minor": 5
}
