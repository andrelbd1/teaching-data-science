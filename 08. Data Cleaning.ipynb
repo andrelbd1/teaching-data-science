{
 "cells": [
  {
   "cell_type": "markdown",
   "id": "4791161e",
   "metadata": {},
   "source": [
    "## <font color=green> Limpeza e preparação dos dados"
   ]
  },
  {
   "cell_type": "code",
   "execution_count": 1,
   "id": "d2a58c29",
   "metadata": {},
   "outputs": [],
   "source": [
    "import pandas as pd\n",
    "import numpy as np"
   ]
  },
  {
   "cell_type": "markdown",
   "id": "c397d394",
   "metadata": {},
   "source": [
    "- Durante a análise e a modelagaem dos dados, um período significativo de tempo é gasto em sua preparação: carga, limpeza, transformação e reorganização.\n",
    "- Muitas vezes, o modo como os dados são armazenados em arquivos ou em bancos de dados não constituem o formato correto para uma tarefa em particular.\n",
    "- Pandas, juntos com os recursos embutidos da linguagem Python, oferecem um conjunto de ferramentas de alto nível, rápido e flexível, para permitir que você manipule os dados, deixando-os no formato correto."
   ]
  },
  {
   "cell_type": "markdown",
   "id": "d5360156",
   "metadata": {},
   "source": [
    "### Tratando dados ausentes"
   ]
  },
  {
   "cell_type": "markdown",
   "id": "2cc8394a",
   "metadata": {},
   "source": [
    "- Dados ausente são comuns em muitas aplicações de análise de dados.\n",
    "- Para dados numéricos, o pandas utiliza o valor de ponto flutuante NaN (Not a Number) para representá-los."
   ]
  },
  {
   "cell_type": "code",
   "execution_count": 2,
   "id": "dbc18f42",
   "metadata": {},
   "outputs": [
    {
     "data": {
      "application/vnd.microsoft.datawrangler.viewer.v0+json": {
       "columns": [
        {
         "name": "index",
         "rawType": "int64",
         "type": "integer"
        },
        {
         "name": "0",
         "rawType": "object",
         "type": "unknown"
        }
       ],
       "ref": "0d3262da-976e-44ed-b0b5-eee452e2c56f",
       "rows": [
        [
         "0",
         "valor 1"
        ],
        [
         "1",
         "valor 2"
        ],
        [
         "2",
         null
        ],
        [
         "3",
         "valor 3"
        ]
       ],
       "shape": {
        "columns": 1,
        "rows": 4
       }
      },
      "text/plain": [
       "0    valor 1\n",
       "1    valor 2\n",
       "2        NaN\n",
       "3    valor 3\n",
       "dtype: object"
      ]
     },
     "execution_count": 2,
     "metadata": {},
     "output_type": "execute_result"
    }
   ],
   "source": [
    "string_data = pd.Series(['valor 1', 'valor 2', np.nan, 'valor 3'])\n",
    "string_data"
   ]
  },
  {
   "cell_type": "markdown",
   "id": "6eef6ced",
   "metadata": {},
   "source": [
    "- isnull é o método que devolve valores booleanos informando quais valores estão ausentes"
   ]
  },
  {
   "cell_type": "code",
   "execution_count": 3,
   "id": "bfb66457",
   "metadata": {},
   "outputs": [
    {
     "data": {
      "application/vnd.microsoft.datawrangler.viewer.v0+json": {
       "columns": [
        {
         "name": "index",
         "rawType": "int64",
         "type": "integer"
        },
        {
         "name": "0",
         "rawType": "bool",
         "type": "boolean"
        }
       ],
       "ref": "8909e844-aabf-45e6-b54f-95b84e6c1ecc",
       "rows": [
        [
         "0",
         "False"
        ],
        [
         "1",
         "False"
        ],
        [
         "2",
         "True"
        ],
        [
         "3",
         "False"
        ]
       ],
       "shape": {
        "columns": 1,
        "rows": 4
       }
      },
      "text/plain": [
       "0    False\n",
       "1    False\n",
       "2     True\n",
       "3    False\n",
       "dtype: bool"
      ]
     },
     "execution_count": 3,
     "metadata": {},
     "output_type": "execute_result"
    }
   ],
   "source": [
    "string_data.isnull()"
   ]
  },
  {
   "cell_type": "markdown",
   "id": "5ee4cad9",
   "metadata": {},
   "source": [
    "- notnull é a negação de isnull"
   ]
  },
  {
   "cell_type": "code",
   "execution_count": 4,
   "id": "7f652611",
   "metadata": {},
   "outputs": [
    {
     "data": {
      "application/vnd.microsoft.datawrangler.viewer.v0+json": {
       "columns": [
        {
         "name": "index",
         "rawType": "int64",
         "type": "integer"
        },
        {
         "name": "0",
         "rawType": "bool",
         "type": "boolean"
        }
       ],
       "ref": "baaecf55-6b53-4ebd-b44d-9150b2b26e23",
       "rows": [
        [
         "0",
         "True"
        ],
        [
         "1",
         "True"
        ],
        [
         "2",
         "False"
        ],
        [
         "3",
         "True"
        ]
       ],
       "shape": {
        "columns": 1,
        "rows": 4
       }
      },
      "text/plain": [
       "0     True\n",
       "1     True\n",
       "2    False\n",
       "3     True\n",
       "dtype: bool"
      ]
     },
     "execution_count": 4,
     "metadata": {},
     "output_type": "execute_result"
    }
   ],
   "source": [
    "string_data.notnull()"
   ]
  },
  {
   "cell_type": "markdown",
   "id": "75cc59b9",
   "metadata": {},
   "source": [
    "- No pandas, referenciamos dados ausentes como NA, que quer dizer Not Available (indisponível).\n",
    "- É importante fazer a análise nos próprios dados ausentes a fim de identificar problemas em sua coleta ou possíveis distorções provocadas por dados ausentes."
   ]
  },
  {
   "cell_type": "code",
   "execution_count": 5,
   "id": "c35e711c",
   "metadata": {},
   "outputs": [
    {
     "data": {
      "application/vnd.microsoft.datawrangler.viewer.v0+json": {
       "columns": [
        {
         "name": "index",
         "rawType": "int64",
         "type": "integer"
        },
        {
         "name": "0",
         "rawType": "object",
         "type": "unknown"
        }
       ],
       "ref": "02d9d9d6-0d11-4f39-813e-4d276a875f84",
       "rows": [
        [
         "0",
         null
        ],
        [
         "1",
         "valor 2"
        ],
        [
         "2",
         null
        ],
        [
         "3",
         "valor 3"
        ]
       ],
       "shape": {
        "columns": 1,
        "rows": 4
       }
      },
      "text/plain": [
       "0       None\n",
       "1    valor 2\n",
       "2        NaN\n",
       "3    valor 3\n",
       "dtype: object"
      ]
     },
     "execution_count": 5,
     "metadata": {},
     "output_type": "execute_result"
    }
   ],
   "source": [
    "string_data[0] = None\n",
    "string_data"
   ]
  },
  {
   "cell_type": "code",
   "execution_count": 6,
   "id": "38027e1e",
   "metadata": {},
   "outputs": [
    {
     "data": {
      "application/vnd.microsoft.datawrangler.viewer.v0+json": {
       "columns": [
        {
         "name": "index",
         "rawType": "int64",
         "type": "integer"
        },
        {
         "name": "0",
         "rawType": "bool",
         "type": "boolean"
        }
       ],
       "ref": "16db0252-23ff-4c5c-b745-0f2fb347a10b",
       "rows": [
        [
         "0",
         "True"
        ],
        [
         "1",
         "False"
        ],
        [
         "2",
         "True"
        ],
        [
         "3",
         "False"
        ]
       ],
       "shape": {
        "columns": 1,
        "rows": 4
       }
      },
      "text/plain": [
       "0     True\n",
       "1    False\n",
       "2     True\n",
       "3    False\n",
       "dtype: bool"
      ]
     },
     "execution_count": 6,
     "metadata": {},
     "output_type": "execute_result"
    }
   ],
   "source": [
    "string_data.isnull()"
   ]
  },
  {
   "cell_type": "markdown",
   "id": "2abce026",
   "metadata": {},
   "source": [
    "- dropna é o método que filtra rótulos de eixos, baseado no fato de os valores para cada rótulo terem dados ausentes, com limites variados para a quantidade de dados ausentes a ser tolerado."
   ]
  },
  {
   "cell_type": "code",
   "execution_count": 7,
   "id": "1fa7522e",
   "metadata": {},
   "outputs": [
    {
     "data": {
      "application/vnd.microsoft.datawrangler.viewer.v0+json": {
       "columns": [
        {
         "name": "index",
         "rawType": "int64",
         "type": "integer"
        },
        {
         "name": "0",
         "rawType": "object",
         "type": "string"
        }
       ],
       "ref": "6d77f8ea-9a9e-452c-815b-d0d08236c6f2",
       "rows": [
        [
         "1",
         "valor 2"
        ],
        [
         "3",
         "valor 3"
        ]
       ],
       "shape": {
        "columns": 1,
        "rows": 2
       }
      },
      "text/plain": [
       "1    valor 2\n",
       "3    valor 3\n",
       "dtype: object"
      ]
     },
     "execution_count": 7,
     "metadata": {},
     "output_type": "execute_result"
    }
   ],
   "source": [
    "string_data.dropna()"
   ]
  },
  {
   "cell_type": "markdown",
   "id": "82e91518",
   "metadata": {},
   "source": [
    "- drona é equivalente a:"
   ]
  },
  {
   "cell_type": "code",
   "execution_count": 8,
   "id": "aaa1c57e",
   "metadata": {},
   "outputs": [
    {
     "data": {
      "application/vnd.microsoft.datawrangler.viewer.v0+json": {
       "columns": [
        {
         "name": "index",
         "rawType": "int64",
         "type": "integer"
        },
        {
         "name": "0",
         "rawType": "object",
         "type": "string"
        }
       ],
       "ref": "573399f0-3731-45c4-a9ec-19e91e79a289",
       "rows": [
        [
         "1",
         "valor 2"
        ],
        [
         "3",
         "valor 3"
        ]
       ],
       "shape": {
        "columns": 1,
        "rows": 2
       }
      },
      "text/plain": [
       "1    valor 2\n",
       "3    valor 3\n",
       "dtype: object"
      ]
     },
     "execution_count": 8,
     "metadata": {},
     "output_type": "execute_result"
    }
   ],
   "source": [
    "string_data[string_data.notnull()]"
   ]
  },
  {
   "cell_type": "markdown",
   "id": "376ccff2",
   "metadata": {},
   "source": [
    "- fillna é o método que preenche os dados ausentes com algum valor ou utilizando um método de interpolação como 'ffill' ou 'bfill."
   ]
  },
  {
   "cell_type": "code",
   "execution_count": 9,
   "id": "35598b0f",
   "metadata": {},
   "outputs": [
    {
     "data": {
      "application/vnd.microsoft.datawrangler.viewer.v0+json": {
       "columns": [
        {
         "name": "index",
         "rawType": "int64",
         "type": "integer"
        },
        {
         "name": "0",
         "rawType": "object",
         "type": "unknown"
        }
       ],
       "ref": "d98b24a4-7183-4a80-8770-981d158021cc",
       "rows": [
        [
         "0",
         "0"
        ],
        [
         "1",
         "valor 2"
        ],
        [
         "2",
         "0"
        ],
        [
         "3",
         "valor 3"
        ]
       ],
       "shape": {
        "columns": 1,
        "rows": 4
       }
      },
      "text/plain": [
       "0          0\n",
       "1    valor 2\n",
       "2          0\n",
       "3    valor 3\n",
       "dtype: object"
      ]
     },
     "execution_count": 9,
     "metadata": {},
     "output_type": "execute_result"
    }
   ],
   "source": [
    "string_data.fillna(0)"
   ]
  },
  {
   "cell_type": "code",
   "execution_count": 10,
   "id": "2f04af10",
   "metadata": {},
   "outputs": [
    {
     "name": "stderr",
     "output_type": "stream",
     "text": [
      "/tmp/ipykernel_1045034/68446736.py:1: FutureWarning: Series.fillna with 'method' is deprecated and will raise in a future version. Use obj.ffill() or obj.bfill() instead.\n",
      "  string_data.fillna(method='ffill')\n"
     ]
    },
    {
     "data": {
      "application/vnd.microsoft.datawrangler.viewer.v0+json": {
       "columns": [
        {
         "name": "index",
         "rawType": "int64",
         "type": "integer"
        },
        {
         "name": "0",
         "rawType": "object",
         "type": "unknown"
        }
       ],
       "ref": "e4bf5026-f3f5-41c0-8a90-62426ae1333c",
       "rows": [
        [
         "0",
         null
        ],
        [
         "1",
         "valor 2"
        ],
        [
         "2",
         "valor 2"
        ],
        [
         "3",
         "valor 3"
        ]
       ],
       "shape": {
        "columns": 1,
        "rows": 4
       }
      },
      "text/plain": [
       "0       None\n",
       "1    valor 2\n",
       "2    valor 2\n",
       "3    valor 3\n",
       "dtype: object"
      ]
     },
     "execution_count": 10,
     "metadata": {},
     "output_type": "execute_result"
    }
   ],
   "source": [
    "string_data.fillna(method='ffill')"
   ]
  },
  {
   "cell_type": "code",
   "execution_count": 11,
   "id": "a7d1372e",
   "metadata": {},
   "outputs": [
    {
     "name": "stderr",
     "output_type": "stream",
     "text": [
      "/tmp/ipykernel_1045034/2723876725.py:1: FutureWarning: Series.fillna with 'method' is deprecated and will raise in a future version. Use obj.ffill() or obj.bfill() instead.\n",
      "  string_data.fillna(method='bfill')\n"
     ]
    },
    {
     "data": {
      "application/vnd.microsoft.datawrangler.viewer.v0+json": {
       "columns": [
        {
         "name": "index",
         "rawType": "int64",
         "type": "integer"
        },
        {
         "name": "0",
         "rawType": "object",
         "type": "string"
        }
       ],
       "ref": "9ac432e7-da92-4c0d-8b05-34bf2a50055c",
       "rows": [
        [
         "0",
         "valor 2"
        ],
        [
         "1",
         "valor 2"
        ],
        [
         "2",
         "valor 3"
        ],
        [
         "3",
         "valor 3"
        ]
       ],
       "shape": {
        "columns": 1,
        "rows": 4
       }
      },
      "text/plain": [
       "0    valor 2\n",
       "1    valor 2\n",
       "2    valor 3\n",
       "3    valor 3\n",
       "dtype: object"
      ]
     },
     "execution_count": 11,
     "metadata": {},
     "output_type": "execute_result"
    }
   ],
   "source": [
    "string_data.fillna(method='bfill')"
   ]
  },
  {
   "cell_type": "code",
   "execution_count": 12,
   "id": "9e7d95e9",
   "metadata": {},
   "outputs": [
    {
     "data": {
      "application/vnd.microsoft.datawrangler.viewer.v0+json": {
       "columns": [
        {
         "name": "index",
         "rawType": "int64",
         "type": "integer"
        },
        {
         "name": "0",
         "rawType": "bool",
         "type": "boolean"
        }
       ],
       "ref": "bfe0cdea-ec6d-4dcd-a7e4-6e4caddaad36",
       "rows": [
        [
         "0",
         "False"
        ],
        [
         "1",
         "True"
        ],
        [
         "2",
         "False"
        ],
        [
         "3",
         "True"
        ]
       ],
       "shape": {
        "columns": 1,
        "rows": 4
       }
      },
      "text/plain": [
       "0    False\n",
       "1     True\n",
       "2    False\n",
       "3     True\n",
       "dtype: bool"
      ]
     },
     "execution_count": 12,
     "metadata": {},
     "output_type": "execute_result"
    }
   ],
   "source": [
    "string_data.notnull()"
   ]
  },
  {
   "cell_type": "markdown",
   "id": "68978ab7",
   "metadata": {},
   "source": [
    "- Com objetos DataFrame, a situação é um pouco mais complexa em relação a exclusão de valores NA por linhas, colunas ou pelos dois."
   ]
  },
  {
   "cell_type": "code",
   "execution_count": 13,
   "id": "b6196426",
   "metadata": {},
   "outputs": [
    {
     "data": {
      "application/vnd.microsoft.datawrangler.viewer.v0+json": {
       "columns": [
        {
         "name": "index",
         "rawType": "int64",
         "type": "integer"
        },
        {
         "name": "0",
         "rawType": "float64",
         "type": "float"
        },
        {
         "name": "1",
         "rawType": "float64",
         "type": "float"
        },
        {
         "name": "2",
         "rawType": "float64",
         "type": "float"
        }
       ],
       "ref": "3172749e-4324-44d5-a076-fe7a6c10c396",
       "rows": [
        [
         "0",
         "1.0",
         "6.5",
         "3.0"
        ],
        [
         "1",
         "1.0",
         null,
         null
        ],
        [
         "2",
         null,
         null,
         null
        ],
        [
         "3",
         null,
         "6.5",
         "3.0"
        ]
       ],
       "shape": {
        "columns": 3,
        "rows": 4
       }
      },
      "text/html": [
       "<div>\n",
       "<style scoped>\n",
       "    .dataframe tbody tr th:only-of-type {\n",
       "        vertical-align: middle;\n",
       "    }\n",
       "\n",
       "    .dataframe tbody tr th {\n",
       "        vertical-align: top;\n",
       "    }\n",
       "\n",
       "    .dataframe thead th {\n",
       "        text-align: right;\n",
       "    }\n",
       "</style>\n",
       "<table border=\"1\" class=\"dataframe\">\n",
       "  <thead>\n",
       "    <tr style=\"text-align: right;\">\n",
       "      <th></th>\n",
       "      <th>0</th>\n",
       "      <th>1</th>\n",
       "      <th>2</th>\n",
       "    </tr>\n",
       "  </thead>\n",
       "  <tbody>\n",
       "    <tr>\n",
       "      <th>0</th>\n",
       "      <td>1.0</td>\n",
       "      <td>6.5</td>\n",
       "      <td>3.0</td>\n",
       "    </tr>\n",
       "    <tr>\n",
       "      <th>1</th>\n",
       "      <td>1.0</td>\n",
       "      <td>NaN</td>\n",
       "      <td>NaN</td>\n",
       "    </tr>\n",
       "    <tr>\n",
       "      <th>2</th>\n",
       "      <td>NaN</td>\n",
       "      <td>NaN</td>\n",
       "      <td>NaN</td>\n",
       "    </tr>\n",
       "    <tr>\n",
       "      <th>3</th>\n",
       "      <td>NaN</td>\n",
       "      <td>6.5</td>\n",
       "      <td>3.0</td>\n",
       "    </tr>\n",
       "  </tbody>\n",
       "</table>\n",
       "</div>"
      ],
      "text/plain": [
       "     0    1    2\n",
       "0  1.0  6.5  3.0\n",
       "1  1.0  NaN  NaN\n",
       "2  NaN  NaN  NaN\n",
       "3  NaN  6.5  3.0"
      ]
     },
     "execution_count": 13,
     "metadata": {},
     "output_type": "execute_result"
    }
   ],
   "source": [
    "data = pd.DataFrame([[1, 6.5, 3], [1, np.nan, np.nan], [np.nan, np.nan, np.nan], [np.nan, 6.5, 3]])\n",
    "data"
   ]
  },
  {
   "cell_type": "code",
   "execution_count": 14,
   "id": "f2eeff74",
   "metadata": {},
   "outputs": [
    {
     "data": {
      "application/vnd.microsoft.datawrangler.viewer.v0+json": {
       "columns": [
        {
         "name": "index",
         "rawType": "int64",
         "type": "integer"
        },
        {
         "name": "0",
         "rawType": "float64",
         "type": "float"
        },
        {
         "name": "1",
         "rawType": "float64",
         "type": "float"
        },
        {
         "name": "2",
         "rawType": "float64",
         "type": "float"
        }
       ],
       "ref": "43c5a60d-7f07-487a-aa57-55728087431d",
       "rows": [
        [
         "0",
         "1.0",
         "6.5",
         "3.0"
        ]
       ],
       "shape": {
        "columns": 3,
        "rows": 1
       }
      },
      "text/html": [
       "<div>\n",
       "<style scoped>\n",
       "    .dataframe tbody tr th:only-of-type {\n",
       "        vertical-align: middle;\n",
       "    }\n",
       "\n",
       "    .dataframe tbody tr th {\n",
       "        vertical-align: top;\n",
       "    }\n",
       "\n",
       "    .dataframe thead th {\n",
       "        text-align: right;\n",
       "    }\n",
       "</style>\n",
       "<table border=\"1\" class=\"dataframe\">\n",
       "  <thead>\n",
       "    <tr style=\"text-align: right;\">\n",
       "      <th></th>\n",
       "      <th>0</th>\n",
       "      <th>1</th>\n",
       "      <th>2</th>\n",
       "    </tr>\n",
       "  </thead>\n",
       "  <tbody>\n",
       "    <tr>\n",
       "      <th>0</th>\n",
       "      <td>1.0</td>\n",
       "      <td>6.5</td>\n",
       "      <td>3.0</td>\n",
       "    </tr>\n",
       "  </tbody>\n",
       "</table>\n",
       "</div>"
      ],
      "text/plain": [
       "     0    1    2\n",
       "0  1.0  6.5  3.0"
      ]
     },
     "execution_count": 14,
     "metadata": {},
     "output_type": "execute_result"
    }
   ],
   "source": [
    "cleaned = data.dropna()\n",
    "cleaned"
   ]
  },
  {
   "cell_type": "markdown",
   "id": "62def9a5",
   "metadata": {},
   "source": [
    "- Passar how='all' descartará apenas as linhas que contenham somente NAs"
   ]
  },
  {
   "cell_type": "code",
   "execution_count": 15,
   "id": "8f00d5c6",
   "metadata": {},
   "outputs": [
    {
     "data": {
      "application/vnd.microsoft.datawrangler.viewer.v0+json": {
       "columns": [
        {
         "name": "index",
         "rawType": "int64",
         "type": "integer"
        },
        {
         "name": "0",
         "rawType": "float64",
         "type": "float"
        },
        {
         "name": "1",
         "rawType": "float64",
         "type": "float"
        },
        {
         "name": "2",
         "rawType": "float64",
         "type": "float"
        }
       ],
       "ref": "d09e5e76-b0b8-4a05-8aa1-c1f80cf5b714",
       "rows": [
        [
         "0",
         "1.0",
         "6.5",
         "3.0"
        ],
        [
         "1",
         "1.0",
         null,
         null
        ],
        [
         "3",
         null,
         "6.5",
         "3.0"
        ]
       ],
       "shape": {
        "columns": 3,
        "rows": 3
       }
      },
      "text/html": [
       "<div>\n",
       "<style scoped>\n",
       "    .dataframe tbody tr th:only-of-type {\n",
       "        vertical-align: middle;\n",
       "    }\n",
       "\n",
       "    .dataframe tbody tr th {\n",
       "        vertical-align: top;\n",
       "    }\n",
       "\n",
       "    .dataframe thead th {\n",
       "        text-align: right;\n",
       "    }\n",
       "</style>\n",
       "<table border=\"1\" class=\"dataframe\">\n",
       "  <thead>\n",
       "    <tr style=\"text-align: right;\">\n",
       "      <th></th>\n",
       "      <th>0</th>\n",
       "      <th>1</th>\n",
       "      <th>2</th>\n",
       "    </tr>\n",
       "  </thead>\n",
       "  <tbody>\n",
       "    <tr>\n",
       "      <th>0</th>\n",
       "      <td>1.0</td>\n",
       "      <td>6.5</td>\n",
       "      <td>3.0</td>\n",
       "    </tr>\n",
       "    <tr>\n",
       "      <th>1</th>\n",
       "      <td>1.0</td>\n",
       "      <td>NaN</td>\n",
       "      <td>NaN</td>\n",
       "    </tr>\n",
       "    <tr>\n",
       "      <th>3</th>\n",
       "      <td>NaN</td>\n",
       "      <td>6.5</td>\n",
       "      <td>3.0</td>\n",
       "    </tr>\n",
       "  </tbody>\n",
       "</table>\n",
       "</div>"
      ],
      "text/plain": [
       "     0    1    2\n",
       "0  1.0  6.5  3.0\n",
       "1  1.0  NaN  NaN\n",
       "3  NaN  6.5  3.0"
      ]
     },
     "execution_count": 15,
     "metadata": {},
     "output_type": "execute_result"
    }
   ],
   "source": [
    "data.dropna(how='all')"
   ]
  },
  {
   "cell_type": "markdown",
   "id": "cd587c75",
   "metadata": {},
   "source": [
    "- Para descartar colunas do mesmo modo, passe axis='columns' ou axis=1"
   ]
  },
  {
   "cell_type": "code",
   "execution_count": 16,
   "id": "05f6cc74",
   "metadata": {},
   "outputs": [
    {
     "data": {
      "application/vnd.microsoft.datawrangler.viewer.v0+json": {
       "columns": [
        {
         "name": "index",
         "rawType": "int64",
         "type": "integer"
        },
        {
         "name": "0",
         "rawType": "float64",
         "type": "float"
        },
        {
         "name": "1",
         "rawType": "float64",
         "type": "float"
        },
        {
         "name": "2",
         "rawType": "float64",
         "type": "float"
        },
        {
         "name": "4",
         "rawType": "float64",
         "type": "float"
        }
       ],
       "ref": "e4624d0c-e120-43a9-9f25-d93722b66d64",
       "rows": [
        [
         "0",
         "1.0",
         "6.5",
         "3.0",
         null
        ],
        [
         "1",
         "1.0",
         null,
         null,
         null
        ],
        [
         "2",
         null,
         null,
         null,
         null
        ],
        [
         "3",
         null,
         "6.5",
         "3.0",
         null
        ]
       ],
       "shape": {
        "columns": 4,
        "rows": 4
       }
      },
      "text/html": [
       "<div>\n",
       "<style scoped>\n",
       "    .dataframe tbody tr th:only-of-type {\n",
       "        vertical-align: middle;\n",
       "    }\n",
       "\n",
       "    .dataframe tbody tr th {\n",
       "        vertical-align: top;\n",
       "    }\n",
       "\n",
       "    .dataframe thead th {\n",
       "        text-align: right;\n",
       "    }\n",
       "</style>\n",
       "<table border=\"1\" class=\"dataframe\">\n",
       "  <thead>\n",
       "    <tr style=\"text-align: right;\">\n",
       "      <th></th>\n",
       "      <th>0</th>\n",
       "      <th>1</th>\n",
       "      <th>2</th>\n",
       "      <th>4</th>\n",
       "    </tr>\n",
       "  </thead>\n",
       "  <tbody>\n",
       "    <tr>\n",
       "      <th>0</th>\n",
       "      <td>1.0</td>\n",
       "      <td>6.5</td>\n",
       "      <td>3.0</td>\n",
       "      <td>NaN</td>\n",
       "    </tr>\n",
       "    <tr>\n",
       "      <th>1</th>\n",
       "      <td>1.0</td>\n",
       "      <td>NaN</td>\n",
       "      <td>NaN</td>\n",
       "      <td>NaN</td>\n",
       "    </tr>\n",
       "    <tr>\n",
       "      <th>2</th>\n",
       "      <td>NaN</td>\n",
       "      <td>NaN</td>\n",
       "      <td>NaN</td>\n",
       "      <td>NaN</td>\n",
       "    </tr>\n",
       "    <tr>\n",
       "      <th>3</th>\n",
       "      <td>NaN</td>\n",
       "      <td>6.5</td>\n",
       "      <td>3.0</td>\n",
       "      <td>NaN</td>\n",
       "    </tr>\n",
       "  </tbody>\n",
       "</table>\n",
       "</div>"
      ],
      "text/plain": [
       "     0    1    2   4\n",
       "0  1.0  6.5  3.0 NaN\n",
       "1  1.0  NaN  NaN NaN\n",
       "2  NaN  NaN  NaN NaN\n",
       "3  NaN  6.5  3.0 NaN"
      ]
     },
     "execution_count": 16,
     "metadata": {},
     "output_type": "execute_result"
    }
   ],
   "source": [
    "data[4] = np.nan\n",
    "data"
   ]
  },
  {
   "cell_type": "code",
   "execution_count": 17,
   "id": "b924987f",
   "metadata": {},
   "outputs": [
    {
     "data": {
      "application/vnd.microsoft.datawrangler.viewer.v0+json": {
       "columns": [
        {
         "name": "index",
         "rawType": "int64",
         "type": "integer"
        },
        {
         "name": "0",
         "rawType": "float64",
         "type": "float"
        },
        {
         "name": "1",
         "rawType": "float64",
         "type": "float"
        },
        {
         "name": "2",
         "rawType": "float64",
         "type": "float"
        }
       ],
       "ref": "77d57572-f1d8-4701-8919-569631e7bfca",
       "rows": [
        [
         "0",
         "1.0",
         "6.5",
         "3.0"
        ],
        [
         "1",
         "1.0",
         null,
         null
        ],
        [
         "2",
         null,
         null,
         null
        ],
        [
         "3",
         null,
         "6.5",
         "3.0"
        ]
       ],
       "shape": {
        "columns": 3,
        "rows": 4
       }
      },
      "text/html": [
       "<div>\n",
       "<style scoped>\n",
       "    .dataframe tbody tr th:only-of-type {\n",
       "        vertical-align: middle;\n",
       "    }\n",
       "\n",
       "    .dataframe tbody tr th {\n",
       "        vertical-align: top;\n",
       "    }\n",
       "\n",
       "    .dataframe thead th {\n",
       "        text-align: right;\n",
       "    }\n",
       "</style>\n",
       "<table border=\"1\" class=\"dataframe\">\n",
       "  <thead>\n",
       "    <tr style=\"text-align: right;\">\n",
       "      <th></th>\n",
       "      <th>0</th>\n",
       "      <th>1</th>\n",
       "      <th>2</th>\n",
       "    </tr>\n",
       "  </thead>\n",
       "  <tbody>\n",
       "    <tr>\n",
       "      <th>0</th>\n",
       "      <td>1.0</td>\n",
       "      <td>6.5</td>\n",
       "      <td>3.0</td>\n",
       "    </tr>\n",
       "    <tr>\n",
       "      <th>1</th>\n",
       "      <td>1.0</td>\n",
       "      <td>NaN</td>\n",
       "      <td>NaN</td>\n",
       "    </tr>\n",
       "    <tr>\n",
       "      <th>2</th>\n",
       "      <td>NaN</td>\n",
       "      <td>NaN</td>\n",
       "      <td>NaN</td>\n",
       "    </tr>\n",
       "    <tr>\n",
       "      <th>3</th>\n",
       "      <td>NaN</td>\n",
       "      <td>6.5</td>\n",
       "      <td>3.0</td>\n",
       "    </tr>\n",
       "  </tbody>\n",
       "</table>\n",
       "</div>"
      ],
      "text/plain": [
       "     0    1    2\n",
       "0  1.0  6.5  3.0\n",
       "1  1.0  NaN  NaN\n",
       "2  NaN  NaN  NaN\n",
       "3  NaN  6.5  3.0"
      ]
     },
     "execution_count": 17,
     "metadata": {},
     "output_type": "execute_result"
    }
   ],
   "source": [
    "data.dropna(how='all', axis=1)"
   ]
  },
  {
   "cell_type": "markdown",
   "id": "e33fc311",
   "metadata": {},
   "source": [
    "- Suponha que queremos manter somente as linhas contendo determinado número de observações. Podemos representar isso com o argumento thresh"
   ]
  },
  {
   "cell_type": "code",
   "execution_count": 18,
   "id": "f85dc7e3",
   "metadata": {},
   "outputs": [
    {
     "data": {
      "application/vnd.microsoft.datawrangler.viewer.v0+json": {
       "columns": [
        {
         "name": "index",
         "rawType": "int64",
         "type": "integer"
        },
        {
         "name": "0",
         "rawType": "float64",
         "type": "float"
        },
        {
         "name": "1",
         "rawType": "float64",
         "type": "float"
        },
        {
         "name": "2",
         "rawType": "float64",
         "type": "float"
        },
        {
         "name": "4",
         "rawType": "float64",
         "type": "float"
        }
       ],
       "ref": "8615b816-1093-4724-88c2-67be3d8894fc",
       "rows": [
        [
         "0",
         "1.0",
         "6.5",
         "3.0",
         null
        ],
        [
         "3",
         null,
         "6.5",
         "3.0",
         null
        ]
       ],
       "shape": {
        "columns": 4,
        "rows": 2
       }
      },
      "text/html": [
       "<div>\n",
       "<style scoped>\n",
       "    .dataframe tbody tr th:only-of-type {\n",
       "        vertical-align: middle;\n",
       "    }\n",
       "\n",
       "    .dataframe tbody tr th {\n",
       "        vertical-align: top;\n",
       "    }\n",
       "\n",
       "    .dataframe thead th {\n",
       "        text-align: right;\n",
       "    }\n",
       "</style>\n",
       "<table border=\"1\" class=\"dataframe\">\n",
       "  <thead>\n",
       "    <tr style=\"text-align: right;\">\n",
       "      <th></th>\n",
       "      <th>0</th>\n",
       "      <th>1</th>\n",
       "      <th>2</th>\n",
       "      <th>4</th>\n",
       "    </tr>\n",
       "  </thead>\n",
       "  <tbody>\n",
       "    <tr>\n",
       "      <th>0</th>\n",
       "      <td>1.0</td>\n",
       "      <td>6.5</td>\n",
       "      <td>3.0</td>\n",
       "      <td>NaN</td>\n",
       "    </tr>\n",
       "    <tr>\n",
       "      <th>3</th>\n",
       "      <td>NaN</td>\n",
       "      <td>6.5</td>\n",
       "      <td>3.0</td>\n",
       "      <td>NaN</td>\n",
       "    </tr>\n",
       "  </tbody>\n",
       "</table>\n",
       "</div>"
      ],
      "text/plain": [
       "     0    1    2   4\n",
       "0  1.0  6.5  3.0 NaN\n",
       "3  NaN  6.5  3.0 NaN"
      ]
     },
     "execution_count": 18,
     "metadata": {},
     "output_type": "execute_result"
    }
   ],
   "source": [
    "data.dropna(thresh=2)"
   ]
  },
  {
   "cell_type": "markdown",
   "id": "4c14a755",
   "metadata": {},
   "source": [
    "### Removendo duplicatas"
   ]
  },
  {
   "cell_type": "code",
   "execution_count": 19,
   "id": "5ec0d2b5",
   "metadata": {},
   "outputs": [
    {
     "data": {
      "application/vnd.microsoft.datawrangler.viewer.v0+json": {
       "columns": [
        {
         "name": "index",
         "rawType": "int64",
         "type": "integer"
        },
        {
         "name": "k1",
         "rawType": "object",
         "type": "string"
        },
        {
         "name": "k2",
         "rawType": "int64",
         "type": "integer"
        }
       ],
       "ref": "ecc68ce9-5ca4-4525-8b6c-e1099471d31f",
       "rows": [
        [
         "0",
         "one",
         "1"
        ],
        [
         "1",
         "two",
         "1"
        ],
        [
         "2",
         "one",
         "2"
        ],
        [
         "3",
         "two",
         "3"
        ],
        [
         "4",
         "one",
         "3"
        ],
        [
         "5",
         "two",
         "4"
        ],
        [
         "6",
         "two",
         "4"
        ]
       ],
       "shape": {
        "columns": 2,
        "rows": 7
       }
      },
      "text/html": [
       "<div>\n",
       "<style scoped>\n",
       "    .dataframe tbody tr th:only-of-type {\n",
       "        vertical-align: middle;\n",
       "    }\n",
       "\n",
       "    .dataframe tbody tr th {\n",
       "        vertical-align: top;\n",
       "    }\n",
       "\n",
       "    .dataframe thead th {\n",
       "        text-align: right;\n",
       "    }\n",
       "</style>\n",
       "<table border=\"1\" class=\"dataframe\">\n",
       "  <thead>\n",
       "    <tr style=\"text-align: right;\">\n",
       "      <th></th>\n",
       "      <th>k1</th>\n",
       "      <th>k2</th>\n",
       "    </tr>\n",
       "  </thead>\n",
       "  <tbody>\n",
       "    <tr>\n",
       "      <th>0</th>\n",
       "      <td>one</td>\n",
       "      <td>1</td>\n",
       "    </tr>\n",
       "    <tr>\n",
       "      <th>1</th>\n",
       "      <td>two</td>\n",
       "      <td>1</td>\n",
       "    </tr>\n",
       "    <tr>\n",
       "      <th>2</th>\n",
       "      <td>one</td>\n",
       "      <td>2</td>\n",
       "    </tr>\n",
       "    <tr>\n",
       "      <th>3</th>\n",
       "      <td>two</td>\n",
       "      <td>3</td>\n",
       "    </tr>\n",
       "    <tr>\n",
       "      <th>4</th>\n",
       "      <td>one</td>\n",
       "      <td>3</td>\n",
       "    </tr>\n",
       "    <tr>\n",
       "      <th>5</th>\n",
       "      <td>two</td>\n",
       "      <td>4</td>\n",
       "    </tr>\n",
       "    <tr>\n",
       "      <th>6</th>\n",
       "      <td>two</td>\n",
       "      <td>4</td>\n",
       "    </tr>\n",
       "  </tbody>\n",
       "</table>\n",
       "</div>"
      ],
      "text/plain": [
       "    k1  k2\n",
       "0  one   1\n",
       "1  two   1\n",
       "2  one   2\n",
       "3  two   3\n",
       "4  one   3\n",
       "5  two   4\n",
       "6  two   4"
      ]
     },
     "execution_count": 19,
     "metadata": {},
     "output_type": "execute_result"
    }
   ],
   "source": [
    "data = pd.DataFrame({'k1': ['one', 'two'] * 3 + ['two'], 'k2': [1, 1, 2, 3, 3, 4, 4]})\n",
    "data"
   ]
  },
  {
   "cell_type": "code",
   "execution_count": 20,
   "id": "91eb7e1c",
   "metadata": {},
   "outputs": [
    {
     "data": {
      "application/vnd.microsoft.datawrangler.viewer.v0+json": {
       "columns": [
        {
         "name": "index",
         "rawType": "int64",
         "type": "integer"
        },
        {
         "name": "0",
         "rawType": "bool",
         "type": "boolean"
        }
       ],
       "ref": "3ced7076-043f-4814-8213-ceadfdb88a33",
       "rows": [
        [
         "0",
         "False"
        ],
        [
         "1",
         "False"
        ],
        [
         "2",
         "False"
        ],
        [
         "3",
         "False"
        ],
        [
         "4",
         "False"
        ],
        [
         "5",
         "False"
        ],
        [
         "6",
         "True"
        ]
       ],
       "shape": {
        "columns": 1,
        "rows": 7
       }
      },
      "text/plain": [
       "0    False\n",
       "1    False\n",
       "2    False\n",
       "3    False\n",
       "4    False\n",
       "5    False\n",
       "6     True\n",
       "dtype: bool"
      ]
     },
     "execution_count": 20,
     "metadata": {},
     "output_type": "execute_result"
    }
   ],
   "source": [
    "data.duplicated()"
   ]
  },
  {
   "cell_type": "code",
   "execution_count": 21,
   "id": "de6aa357",
   "metadata": {},
   "outputs": [
    {
     "data": {
      "application/vnd.microsoft.datawrangler.viewer.v0+json": {
       "columns": [
        {
         "name": "index",
         "rawType": "int64",
         "type": "integer"
        },
        {
         "name": "k1",
         "rawType": "object",
         "type": "string"
        },
        {
         "name": "k2",
         "rawType": "int64",
         "type": "integer"
        }
       ],
       "ref": "c8ce1312-4c91-46db-ae7a-d3dea222ebdb",
       "rows": [
        [
         "0",
         "one",
         "1"
        ],
        [
         "1",
         "two",
         "1"
        ],
        [
         "2",
         "one",
         "2"
        ],
        [
         "3",
         "two",
         "3"
        ],
        [
         "4",
         "one",
         "3"
        ],
        [
         "5",
         "two",
         "4"
        ]
       ],
       "shape": {
        "columns": 2,
        "rows": 6
       }
      },
      "text/html": [
       "<div>\n",
       "<style scoped>\n",
       "    .dataframe tbody tr th:only-of-type {\n",
       "        vertical-align: middle;\n",
       "    }\n",
       "\n",
       "    .dataframe tbody tr th {\n",
       "        vertical-align: top;\n",
       "    }\n",
       "\n",
       "    .dataframe thead th {\n",
       "        text-align: right;\n",
       "    }\n",
       "</style>\n",
       "<table border=\"1\" class=\"dataframe\">\n",
       "  <thead>\n",
       "    <tr style=\"text-align: right;\">\n",
       "      <th></th>\n",
       "      <th>k1</th>\n",
       "      <th>k2</th>\n",
       "    </tr>\n",
       "  </thead>\n",
       "  <tbody>\n",
       "    <tr>\n",
       "      <th>0</th>\n",
       "      <td>one</td>\n",
       "      <td>1</td>\n",
       "    </tr>\n",
       "    <tr>\n",
       "      <th>1</th>\n",
       "      <td>two</td>\n",
       "      <td>1</td>\n",
       "    </tr>\n",
       "    <tr>\n",
       "      <th>2</th>\n",
       "      <td>one</td>\n",
       "      <td>2</td>\n",
       "    </tr>\n",
       "    <tr>\n",
       "      <th>3</th>\n",
       "      <td>two</td>\n",
       "      <td>3</td>\n",
       "    </tr>\n",
       "    <tr>\n",
       "      <th>4</th>\n",
       "      <td>one</td>\n",
       "      <td>3</td>\n",
       "    </tr>\n",
       "    <tr>\n",
       "      <th>5</th>\n",
       "      <td>two</td>\n",
       "      <td>4</td>\n",
       "    </tr>\n",
       "  </tbody>\n",
       "</table>\n",
       "</div>"
      ],
      "text/plain": [
       "    k1  k2\n",
       "0  one   1\n",
       "1  two   1\n",
       "2  one   2\n",
       "3  two   3\n",
       "4  one   3\n",
       "5  two   4"
      ]
     },
     "execution_count": 21,
     "metadata": {},
     "output_type": "execute_result"
    }
   ],
   "source": [
    "data.drop_duplicates()"
   ]
  },
  {
   "cell_type": "markdown",
   "id": "a7eacc44",
   "metadata": {},
   "source": [
    "### Substituindo valores"
   ]
  },
  {
   "cell_type": "code",
   "execution_count": 22,
   "id": "37f24b5b",
   "metadata": {},
   "outputs": [
    {
     "data": {
      "application/vnd.microsoft.datawrangler.viewer.v0+json": {
       "columns": [
        {
         "name": "index",
         "rawType": "int64",
         "type": "integer"
        },
        {
         "name": "0",
         "rawType": "int64",
         "type": "integer"
        }
       ],
       "ref": "ced70f36-876e-4f9d-81c0-24cf5c420701",
       "rows": [
        [
         "0",
         "1"
        ],
        [
         "1",
         "-999"
        ],
        [
         "2",
         "2"
        ],
        [
         "3",
         "-999"
        ],
        [
         "4",
         "3"
        ],
        [
         "5",
         "-1000"
        ],
        [
         "6",
         "4"
        ]
       ],
       "shape": {
        "columns": 1,
        "rows": 7
       }
      },
      "text/plain": [
       "0       1\n",
       "1    -999\n",
       "2       2\n",
       "3    -999\n",
       "4       3\n",
       "5   -1000\n",
       "6       4\n",
       "dtype: int64"
      ]
     },
     "execution_count": 22,
     "metadata": {},
     "output_type": "execute_result"
    }
   ],
   "source": [
    "data = pd.Series([1, -999, 2, -999, 3, -1000, 4])\n",
    "data"
   ]
  },
  {
   "cell_type": "markdown",
   "id": "b13da678",
   "metadata": {},
   "source": [
    "- Supondo que os valores de -999 podem ser valores de sentinela para dados ausentes. Para substituí-los por valores NA, podemos usar replace"
   ]
  },
  {
   "cell_type": "code",
   "execution_count": 23,
   "id": "25ee5976",
   "metadata": {},
   "outputs": [
    {
     "data": {
      "application/vnd.microsoft.datawrangler.viewer.v0+json": {
       "columns": [
        {
         "name": "index",
         "rawType": "int64",
         "type": "integer"
        },
        {
         "name": "0",
         "rawType": "float64",
         "type": "float"
        }
       ],
       "ref": "8bf9689b-91a6-4fd2-8fdb-8a2775e02189",
       "rows": [
        [
         "0",
         "1.0"
        ],
        [
         "1",
         null
        ],
        [
         "2",
         "2.0"
        ],
        [
         "3",
         null
        ],
        [
         "4",
         "3.0"
        ],
        [
         "5",
         "-1000.0"
        ],
        [
         "6",
         "4.0"
        ]
       ],
       "shape": {
        "columns": 1,
        "rows": 7
       }
      },
      "text/plain": [
       "0       1.0\n",
       "1       NaN\n",
       "2       2.0\n",
       "3       NaN\n",
       "4       3.0\n",
       "5   -1000.0\n",
       "6       4.0\n",
       "dtype: float64"
      ]
     },
     "execution_count": 23,
     "metadata": {},
     "output_type": "execute_result"
    }
   ],
   "source": [
    "data.replace(-999, np.nan)"
   ]
  },
  {
   "cell_type": "markdown",
   "id": "d575c931",
   "metadata": {},
   "source": [
    "- Para substituir diversos, basta passar os valores numa lista"
   ]
  },
  {
   "cell_type": "code",
   "execution_count": 24,
   "id": "30b91b9b",
   "metadata": {},
   "outputs": [
    {
     "data": {
      "application/vnd.microsoft.datawrangler.viewer.v0+json": {
       "columns": [
        {
         "name": "index",
         "rawType": "int64",
         "type": "integer"
        },
        {
         "name": "0",
         "rawType": "float64",
         "type": "float"
        }
       ],
       "ref": "33f36688-bfb3-47df-a953-460d970b6d21",
       "rows": [
        [
         "0",
         "1.0"
        ],
        [
         "1",
         null
        ],
        [
         "2",
         "2.0"
        ],
        [
         "3",
         null
        ],
        [
         "4",
         "3.0"
        ],
        [
         "5",
         null
        ],
        [
         "6",
         "4.0"
        ]
       ],
       "shape": {
        "columns": 1,
        "rows": 7
       }
      },
      "text/plain": [
       "0    1.0\n",
       "1    NaN\n",
       "2    2.0\n",
       "3    NaN\n",
       "4    3.0\n",
       "5    NaN\n",
       "6    4.0\n",
       "dtype: float64"
      ]
     },
     "execution_count": 24,
     "metadata": {},
     "output_type": "execute_result"
    }
   ],
   "source": [
    "data.replace([-999, -1000], np.nan)"
   ]
  },
  {
   "cell_type": "markdown",
   "id": "d5a51b63",
   "metadata": {},
   "source": [
    "- Para usar um substituto diferente para cada valor, passe uma lista deles"
   ]
  },
  {
   "cell_type": "code",
   "execution_count": 25,
   "id": "954ecea8",
   "metadata": {},
   "outputs": [
    {
     "data": {
      "application/vnd.microsoft.datawrangler.viewer.v0+json": {
       "columns": [
        {
         "name": "index",
         "rawType": "int64",
         "type": "integer"
        },
        {
         "name": "0",
         "rawType": "float64",
         "type": "float"
        }
       ],
       "ref": "4dd0aa06-f289-4fb0-ae97-62497193a7fe",
       "rows": [
        [
         "0",
         "1.0"
        ],
        [
         "1",
         null
        ],
        [
         "2",
         "2.0"
        ],
        [
         "3",
         null
        ],
        [
         "4",
         "3.0"
        ],
        [
         "5",
         "0.0"
        ],
        [
         "6",
         "4.0"
        ]
       ],
       "shape": {
        "columns": 1,
        "rows": 7
       }
      },
      "text/plain": [
       "0    1.0\n",
       "1    NaN\n",
       "2    2.0\n",
       "3    NaN\n",
       "4    3.0\n",
       "5    0.0\n",
       "6    4.0\n",
       "dtype: float64"
      ]
     },
     "execution_count": 25,
     "metadata": {},
     "output_type": "execute_result"
    }
   ],
   "source": [
    "data.replace([-999, -1000], [np.nan, 0])"
   ]
  },
  {
   "cell_type": "markdown",
   "id": "96ba10f2",
   "metadata": {},
   "source": [
    "### Detectando e filtrando valores discrepantes"
   ]
  },
  {
   "cell_type": "markdown",
   "id": "10811734",
   "metadata": {},
   "source": [
    "- Filtrar ou transformar valores discrepantes (outliers) é, em boa medida, em uma questão de aplicar operações de array. Considere um DataFrame com alguns dados normalmente distribuídos"
   ]
  },
  {
   "cell_type": "code",
   "execution_count": 26,
   "id": "76173029",
   "metadata": {},
   "outputs": [
    {
     "data": {
      "application/vnd.microsoft.datawrangler.viewer.v0+json": {
       "columns": [
        {
         "name": "index",
         "rawType": "int64",
         "type": "integer"
        },
        {
         "name": "0",
         "rawType": "float64",
         "type": "float"
        },
        {
         "name": "1",
         "rawType": "float64",
         "type": "float"
        },
        {
         "name": "2",
         "rawType": "float64",
         "type": "float"
        },
        {
         "name": "3",
         "rawType": "float64",
         "type": "float"
        }
       ],
       "ref": "fda5b8c5-6017-4f6e-8b45-4c2af276f226",
       "rows": [
        [
         "0",
         "-1.0586152423543171",
         "-1.3009484161342078",
         "1.2319586579404458",
         "-1.448008618019328"
        ],
        [
         "1",
         "-1.4629322979734958",
         "0.526483707482469",
         "2.4186267813544022",
         "-0.8010813948352064"
        ],
        [
         "2",
         "-0.7333125375918513",
         "2.377377883594262",
         "1.8456985972080828",
         "0.3465615836856642"
        ],
        [
         "3",
         "-0.5931363731119493",
         "-0.25820246384726464",
         "1.3029518958365915",
         "-0.6206194066428701"
        ],
        [
         "4",
         "1.4402498754319293",
         "-1.953848330117163",
         "-0.9029879230067035",
         "1.300252153170176"
        ],
        [
         "5",
         "0.5588555708357351",
         "1.7106713424869822",
         "-0.8689811281143354",
         "-1.36582072582496"
        ],
        [
         "6",
         "-0.012849367645546847",
         "0.24533698108807286",
         "0.5410416835571156",
         "0.6425753491439671"
        ],
        [
         "7",
         "-0.0598535570973072",
         "-0.12521805161697153",
         "-0.36870555569026614",
         "1.05992937453388"
        ],
        [
         "8",
         "0.31365809672193734",
         "2.718553142415972",
         "0.370515138244767",
         "-0.2918537408260664"
        ],
        [
         "9",
         "-0.5012400052690915",
         "-0.458620705689158",
         "-0.21945196433289052",
         "1.2508199959444288"
        ],
        [
         "10",
         "0.29277328131268077",
         "-0.37388708629612016",
         "-0.6736453555262695",
         "0.279133681143"
        ],
        [
         "11",
         "-0.6889513086722158",
         "1.1625817920401778",
         "0.4365577057911773",
         "0.291085116159074"
        ],
        [
         "12",
         "-0.23348186686229191",
         "-0.9656390653370622",
         "-0.9506466326904421",
         "0.6748426723325105"
        ],
        [
         "13",
         "-0.2425103514689128",
         "-0.4857613441847062",
         "-0.08124727512419477",
         "-0.4248957130914014"
        ],
        [
         "14",
         "-0.41901986131839347",
         "0.30270560218820697",
         "0.43826168358853884",
         "-0.09121351380998867"
        ],
        [
         "15",
         "0.6948316223869476",
         "-0.456732801290683",
         "0.06418394864454766",
         "-0.7740228084850403"
        ],
        [
         "16",
         "1.3293292070445166",
         "-0.17733225491598303",
         "-0.47140845008396765",
         "0.008970226286192167"
        ],
        [
         "17",
         "1.63127992672821",
         "0.3301925740819678",
         "-2.0420876322456913",
         "1.4449586667803587"
        ],
        [
         "18",
         "-0.19226795345404185",
         "0.660348178563292",
         "0.3494993396877964",
         "-0.2444262154020866"
        ],
        [
         "19",
         "0.5187075756623707",
         "0.4505533609287267",
         "-1.3110563401557727",
         "-1.1294692708549914"
        ],
        [
         "20",
         "-0.24301625237276042",
         "-0.7050358844422934",
         "0.20459948801496688",
         "-1.0298124670228719"
        ],
        [
         "21",
         "0.4578434859774143",
         "0.8464348551911557",
         "-0.4568154464251614",
         "-0.8974002645889931"
        ],
        [
         "22",
         "0.9596860952683033",
         "-0.9723556576306882",
         "-0.3619706057753955",
         "0.05785644039619548"
        ],
        [
         "23",
         "0.12354122612878556",
         "1.1632675256031992",
         "2.2574190732404533",
         "-1.631748668340216"
        ],
        [
         "24",
         "-0.8035015286016993",
         "-0.22327939071118705",
         "0.3915902482669157",
         "-1.1647425238369873"
        ],
        [
         "25",
         "0.19049494225230687",
         "-0.41553159674103207",
         "-0.6749053368250791",
         "-0.4809445877649609"
        ],
        [
         "26",
         "-0.8723900159787927",
         "-0.4942250241627618",
         "0.7603990730546951",
         "-0.5204099154553716"
        ],
        [
         "27",
         "0.472544109276564",
         "-1.166934180216009",
         "0.02909683621115639",
         "1.5115026760790604"
        ],
        [
         "28",
         "-0.5691657152436874",
         "-2.378283249621173",
         "-0.39183488510083114",
         "1.861749667295288"
        ],
        [
         "29",
         "-0.579395205722162",
         "1.0070727679807165",
         "-0.15739170155992055",
         "-0.1433199200599318"
        ],
        [
         "30",
         "-0.11756038848339051",
         "-1.2486454307715358",
         "1.2104102895026747",
         "-0.11580649839480905"
        ],
        [
         "31",
         "0.869350027642704",
         "1.8309232417711128",
         "1.3313573818119129",
         "-0.1422715764958404"
        ],
        [
         "32",
         "-0.6671081774755955",
         "0.9831415694111979",
         "1.344214554431216",
         "-0.2082987374209784"
        ],
        [
         "33",
         "-0.6026198148347957",
         "-0.3321537535184484",
         "-0.6173936330196846",
         "1.7845876595942962"
        ],
        [
         "34",
         "-1.3932040133184846",
         "0.5485907824082197",
         "-0.8174578885840679",
         "0.9967561018381402"
        ],
        [
         "35",
         "0.574330317928466",
         "0.8464352924067038",
         "1.3563788108109982",
         "-1.1745909210072603"
        ],
        [
         "36",
         "-0.8367847993449898",
         "0.2887099135314585",
         "-0.30426069124018285",
         "0.9462906550347848"
        ],
        [
         "37",
         "0.24020740967881377",
         "-0.8205084777920607",
         "-0.865336868166587",
         "-0.9503395636564621"
        ],
        [
         "38",
         "0.04197516792069029",
         "1.5580508542553002",
         "1.2536311098865696",
         "-1.6295083069543115"
        ],
        [
         "39",
         "-1.1467244598433286",
         "1.530642902237917",
         "0.23582054394760493",
         "-0.23528407937591148"
        ],
        [
         "40",
         "0.1812934301429214",
         "-0.4580780132222246",
         "-0.116340645792167",
         "0.9777228669844183"
        ],
        [
         "41",
         "-1.3974223912865515",
         "-0.942509059236856",
         "0.6262018788239446",
         "0.3989944348372454"
        ],
        [
         "42",
         "-0.13717772413338977",
         "2.8456765043282326",
         "0.43789079261942954",
         "0.43853715399769705"
        ],
        [
         "43",
         "1.6988494760942525",
         "0.2693856585818674",
         "-1.198314436060012",
         "1.6722517710435971"
        ],
        [
         "44",
         "-0.2969734468975619",
         "0.7258817089647347",
         "0.9421623841870979",
         "0.7675665458066794"
        ],
        [
         "45",
         "-0.7788559400212471",
         "0.15822267356242325",
         "-0.44436923829682085",
         "0.8289009036175794"
        ],
        [
         "46",
         "-0.8400806430392569",
         "-0.519327307205139",
         "4.1765445123412865",
         "-0.3948024661022588"
        ],
        [
         "47",
         "0.9248084665584511",
         "1.5320614395539955",
         "0.05037615417224196",
         "0.4933447387257992"
        ],
        [
         "48",
         "0.5112263487350566",
         "0.960729267842571",
         "0.6873784342691078",
         "-0.5983338333639966"
        ],
        [
         "49",
         "0.7729197702636255",
         "-0.29951275542786504",
         "1.139959046463809",
         "0.5983120115854241"
        ]
       ],
       "shape": {
        "columns": 4,
        "rows": 1000
       }
      },
      "text/html": [
       "<div>\n",
       "<style scoped>\n",
       "    .dataframe tbody tr th:only-of-type {\n",
       "        vertical-align: middle;\n",
       "    }\n",
       "\n",
       "    .dataframe tbody tr th {\n",
       "        vertical-align: top;\n",
       "    }\n",
       "\n",
       "    .dataframe thead th {\n",
       "        text-align: right;\n",
       "    }\n",
       "</style>\n",
       "<table border=\"1\" class=\"dataframe\">\n",
       "  <thead>\n",
       "    <tr style=\"text-align: right;\">\n",
       "      <th></th>\n",
       "      <th>0</th>\n",
       "      <th>1</th>\n",
       "      <th>2</th>\n",
       "      <th>3</th>\n",
       "    </tr>\n",
       "  </thead>\n",
       "  <tbody>\n",
       "    <tr>\n",
       "      <th>0</th>\n",
       "      <td>-1.058615</td>\n",
       "      <td>-1.300948</td>\n",
       "      <td>1.231959</td>\n",
       "      <td>-1.448009</td>\n",
       "    </tr>\n",
       "    <tr>\n",
       "      <th>1</th>\n",
       "      <td>-1.462932</td>\n",
       "      <td>0.526484</td>\n",
       "      <td>2.418627</td>\n",
       "      <td>-0.801081</td>\n",
       "    </tr>\n",
       "    <tr>\n",
       "      <th>2</th>\n",
       "      <td>-0.733313</td>\n",
       "      <td>2.377378</td>\n",
       "      <td>1.845699</td>\n",
       "      <td>0.346562</td>\n",
       "    </tr>\n",
       "    <tr>\n",
       "      <th>3</th>\n",
       "      <td>-0.593136</td>\n",
       "      <td>-0.258202</td>\n",
       "      <td>1.302952</td>\n",
       "      <td>-0.620619</td>\n",
       "    </tr>\n",
       "    <tr>\n",
       "      <th>4</th>\n",
       "      <td>1.440250</td>\n",
       "      <td>-1.953848</td>\n",
       "      <td>-0.902988</td>\n",
       "      <td>1.300252</td>\n",
       "    </tr>\n",
       "    <tr>\n",
       "      <th>...</th>\n",
       "      <td>...</td>\n",
       "      <td>...</td>\n",
       "      <td>...</td>\n",
       "      <td>...</td>\n",
       "    </tr>\n",
       "    <tr>\n",
       "      <th>995</th>\n",
       "      <td>0.366913</td>\n",
       "      <td>-0.810559</td>\n",
       "      <td>-1.543593</td>\n",
       "      <td>-1.578868</td>\n",
       "    </tr>\n",
       "    <tr>\n",
       "      <th>996</th>\n",
       "      <td>-0.396555</td>\n",
       "      <td>0.443218</td>\n",
       "      <td>0.511400</td>\n",
       "      <td>-3.256944</td>\n",
       "    </tr>\n",
       "    <tr>\n",
       "      <th>997</th>\n",
       "      <td>-0.900324</td>\n",
       "      <td>-2.615347</td>\n",
       "      <td>-0.407312</td>\n",
       "      <td>-0.299462</td>\n",
       "    </tr>\n",
       "    <tr>\n",
       "      <th>998</th>\n",
       "      <td>-1.830815</td>\n",
       "      <td>-1.991464</td>\n",
       "      <td>-0.200424</td>\n",
       "      <td>1.016842</td>\n",
       "    </tr>\n",
       "    <tr>\n",
       "      <th>999</th>\n",
       "      <td>-0.578566</td>\n",
       "      <td>-1.513284</td>\n",
       "      <td>1.615167</td>\n",
       "      <td>2.875428</td>\n",
       "    </tr>\n",
       "  </tbody>\n",
       "</table>\n",
       "<p>1000 rows × 4 columns</p>\n",
       "</div>"
      ],
      "text/plain": [
       "            0         1         2         3\n",
       "0   -1.058615 -1.300948  1.231959 -1.448009\n",
       "1   -1.462932  0.526484  2.418627 -0.801081\n",
       "2   -0.733313  2.377378  1.845699  0.346562\n",
       "3   -0.593136 -0.258202  1.302952 -0.620619\n",
       "4    1.440250 -1.953848 -0.902988  1.300252\n",
       "..        ...       ...       ...       ...\n",
       "995  0.366913 -0.810559 -1.543593 -1.578868\n",
       "996 -0.396555  0.443218  0.511400 -3.256944\n",
       "997 -0.900324 -2.615347 -0.407312 -0.299462\n",
       "998 -1.830815 -1.991464 -0.200424  1.016842\n",
       "999 -0.578566 -1.513284  1.615167  2.875428\n",
       "\n",
       "[1000 rows x 4 columns]"
      ]
     },
     "execution_count": 26,
     "metadata": {},
     "output_type": "execute_result"
    }
   ],
   "source": [
    "data = pd.DataFrame(np.random.randn(1000, 4))\n",
    "data"
   ]
  },
  {
   "cell_type": "code",
   "execution_count": 27,
   "id": "da659e1d",
   "metadata": {},
   "outputs": [
    {
     "data": {
      "application/vnd.microsoft.datawrangler.viewer.v0+json": {
       "columns": [
        {
         "name": "index",
         "rawType": "object",
         "type": "string"
        },
        {
         "name": "0",
         "rawType": "float64",
         "type": "float"
        },
        {
         "name": "1",
         "rawType": "float64",
         "type": "float"
        },
        {
         "name": "2",
         "rawType": "float64",
         "type": "float"
        },
        {
         "name": "3",
         "rawType": "float64",
         "type": "float"
        }
       ],
       "ref": "d0660dba-a4fc-4f39-a287-56325781b03c",
       "rows": [
        [
         "count",
         "1000.0",
         "1000.0",
         "1000.0",
         "1000.0"
        ],
        [
         "mean",
         "-0.02050825733309637",
         "0.02428776629100435",
         "0.04404079271924198",
         "0.019830613071651185"
        ],
        [
         "std",
         "1.0277660611312596",
         "1.0178149511354277",
         "1.01737808922824",
         "1.0180053181504047"
        ],
        [
         "min",
         "-3.222937185812088",
         "-3.9192079137587523",
         "-3.001382059900132",
         "-3.256944181310736"
        ],
        [
         "25%",
         "-0.7136461948508066",
         "-0.647874433320293",
         "-0.6329987402497452",
         "-0.693692773978475"
        ],
        [
         "50%",
         "-0.03902542672531771",
         "0.0374767100598694",
         "0.016178297316895324",
         "0.005409334921188748"
        ],
        [
         "75%",
         "0.6988949871282608",
         "0.7146743088681985",
         "0.7501610081566736",
         "0.6905655276080431"
        ],
        [
         "max",
         "3.810589341874554",
         "3.1581201847198037",
         "4.1765445123412865",
         "3.246078049420014"
        ]
       ],
       "shape": {
        "columns": 4,
        "rows": 8
       }
      },
      "text/html": [
       "<div>\n",
       "<style scoped>\n",
       "    .dataframe tbody tr th:only-of-type {\n",
       "        vertical-align: middle;\n",
       "    }\n",
       "\n",
       "    .dataframe tbody tr th {\n",
       "        vertical-align: top;\n",
       "    }\n",
       "\n",
       "    .dataframe thead th {\n",
       "        text-align: right;\n",
       "    }\n",
       "</style>\n",
       "<table border=\"1\" class=\"dataframe\">\n",
       "  <thead>\n",
       "    <tr style=\"text-align: right;\">\n",
       "      <th></th>\n",
       "      <th>0</th>\n",
       "      <th>1</th>\n",
       "      <th>2</th>\n",
       "      <th>3</th>\n",
       "    </tr>\n",
       "  </thead>\n",
       "  <tbody>\n",
       "    <tr>\n",
       "      <th>count</th>\n",
       "      <td>1000.000000</td>\n",
       "      <td>1000.000000</td>\n",
       "      <td>1000.000000</td>\n",
       "      <td>1000.000000</td>\n",
       "    </tr>\n",
       "    <tr>\n",
       "      <th>mean</th>\n",
       "      <td>-0.020508</td>\n",
       "      <td>0.024288</td>\n",
       "      <td>0.044041</td>\n",
       "      <td>0.019831</td>\n",
       "    </tr>\n",
       "    <tr>\n",
       "      <th>std</th>\n",
       "      <td>1.027766</td>\n",
       "      <td>1.017815</td>\n",
       "      <td>1.017378</td>\n",
       "      <td>1.018005</td>\n",
       "    </tr>\n",
       "    <tr>\n",
       "      <th>min</th>\n",
       "      <td>-3.222937</td>\n",
       "      <td>-3.919208</td>\n",
       "      <td>-3.001382</td>\n",
       "      <td>-3.256944</td>\n",
       "    </tr>\n",
       "    <tr>\n",
       "      <th>25%</th>\n",
       "      <td>-0.713646</td>\n",
       "      <td>-0.647874</td>\n",
       "      <td>-0.632999</td>\n",
       "      <td>-0.693693</td>\n",
       "    </tr>\n",
       "    <tr>\n",
       "      <th>50%</th>\n",
       "      <td>-0.039025</td>\n",
       "      <td>0.037477</td>\n",
       "      <td>0.016178</td>\n",
       "      <td>0.005409</td>\n",
       "    </tr>\n",
       "    <tr>\n",
       "      <th>75%</th>\n",
       "      <td>0.698895</td>\n",
       "      <td>0.714674</td>\n",
       "      <td>0.750161</td>\n",
       "      <td>0.690566</td>\n",
       "    </tr>\n",
       "    <tr>\n",
       "      <th>max</th>\n",
       "      <td>3.810589</td>\n",
       "      <td>3.158120</td>\n",
       "      <td>4.176545</td>\n",
       "      <td>3.246078</td>\n",
       "    </tr>\n",
       "  </tbody>\n",
       "</table>\n",
       "</div>"
      ],
      "text/plain": [
       "                 0            1            2            3\n",
       "count  1000.000000  1000.000000  1000.000000  1000.000000\n",
       "mean     -0.020508     0.024288     0.044041     0.019831\n",
       "std       1.027766     1.017815     1.017378     1.018005\n",
       "min      -3.222937    -3.919208    -3.001382    -3.256944\n",
       "25%      -0.713646    -0.647874    -0.632999    -0.693693\n",
       "50%      -0.039025     0.037477     0.016178     0.005409\n",
       "75%       0.698895     0.714674     0.750161     0.690566\n",
       "max       3.810589     3.158120     4.176545     3.246078"
      ]
     },
     "execution_count": 27,
     "metadata": {},
     "output_type": "execute_result"
    }
   ],
   "source": [
    "data.describe()"
   ]
  },
  {
   "cell_type": "markdown",
   "id": "d948a00d",
   "metadata": {},
   "source": [
    "- Suponha que quiséssemos encontrar os valores que excedessem 3 em valor absoluto em uma das colunas (no nosso caso, coluna 2)"
   ]
  },
  {
   "cell_type": "code",
   "execution_count": 28,
   "id": "19426317",
   "metadata": {},
   "outputs": [
    {
     "data": {
      "application/vnd.microsoft.datawrangler.viewer.v0+json": {
       "columns": [
        {
         "name": "index",
         "rawType": "int64",
         "type": "integer"
        },
        {
         "name": "2",
         "rawType": "float64",
         "type": "float"
        }
       ],
       "ref": "002b2740-ceec-44a0-bb3b-ae5bc6a817cc",
       "rows": [
        [
         "46",
         "4.1765445123412865"
        ],
        [
         "76",
         "3.60871844473729"
        ],
        [
         "171",
         "-3.001382059900132"
        ],
        [
         "626",
         "3.196306331292771"
        ]
       ],
       "shape": {
        "columns": 1,
        "rows": 4
       }
      },
      "text/plain": [
       "46     4.176545\n",
       "76     3.608718\n",
       "171   -3.001382\n",
       "626    3.196306\n",
       "Name: 2, dtype: float64"
      ]
     },
     "execution_count": 28,
     "metadata": {},
     "output_type": "execute_result"
    }
   ],
   "source": [
    "col = data[2]\n",
    "col[np.abs(col)>3]"
   ]
  },
  {
   "cell_type": "markdown",
   "id": "0fd8ccad",
   "metadata": {},
   "source": [
    "- Para selecionar todas as linhas que tenham um valor que exceda 3 ou -3, podemos utilizat o método any um DataFrame"
   ]
  },
  {
   "cell_type": "code",
   "execution_count": 29,
   "id": "80bc58e3",
   "metadata": {},
   "outputs": [
    {
     "data": {
      "application/vnd.microsoft.datawrangler.viewer.v0+json": {
       "columns": [
        {
         "name": "index",
         "rawType": "int64",
         "type": "integer"
        },
        {
         "name": "0",
         "rawType": "float64",
         "type": "float"
        },
        {
         "name": "1",
         "rawType": "float64",
         "type": "float"
        },
        {
         "name": "2",
         "rawType": "float64",
         "type": "float"
        },
        {
         "name": "3",
         "rawType": "float64",
         "type": "float"
        }
       ],
       "ref": "a06233f1-757a-4949-a4e4-3e97dad27b22",
       "rows": [
        [
         "46",
         "-0.8400806430392569",
         "-0.519327307205139",
         "4.1765445123412865",
         "-0.3948024661022588"
        ],
        [
         "62",
         "-1.4196691817722975",
         "-3.505503404892743",
         "0.5013310472532058",
         "0.0363135146717101"
        ],
        [
         "76",
         "-0.03342235160994777",
         "-2.547229310806762",
         "3.60871844473729",
         "0.2114691760133005"
        ],
        [
         "149",
         "0.07126896692825348",
         "-3.9192079137587523",
         "-1.062572641121763",
         "0.25220207779070436"
        ],
        [
         "171",
         "-0.18481261376872932",
         "-0.011528792526975083",
         "-3.001382059900132",
         "0.10523202418138529"
        ],
        [
         "320",
         "-0.73139466576974",
         "3.042233265332251",
         "-0.6709700574068966",
         "0.22003048939920827"
        ],
        [
         "466",
         "-0.6191903329227861",
         "-3.0648565993579093",
         "-0.9996746986999426",
         "0.20996137339643395"
        ],
        [
         "598",
         "-1.6119853547728047",
         "0.050107539313127385",
         "-1.039368389799754",
         "3.246078049420014"
        ],
        [
         "626",
         "-1.7735506129260004",
         "0.5530180869766889",
         "3.196306331292771",
         "1.5444954348307"
        ],
        [
         "867",
         "1.073962621390174",
         "0.19813865399776073",
         "0.4270020768676211",
         "3.081145200614861"
        ],
        [
         "889",
         "-3.222937185812088",
         "-1.0309343664684054",
         "-0.5563335112076206",
         "-0.5920280829575052"
        ],
        [
         "898",
         "0.7390128983136799",
         "3.1581201847198037",
         "-0.9328211413346711",
         "-0.701018034511133"
        ],
        [
         "963",
         "3.810589341874554",
         "-1.3080401810489044",
         "-1.583813176713494",
         "-0.9293679331935504"
        ],
        [
         "996",
         "-0.39655494524819723",
         "0.44321829367486243",
         "0.511400397873936",
         "-3.256944181310736"
        ]
       ],
       "shape": {
        "columns": 4,
        "rows": 14
       }
      },
      "text/html": [
       "<div>\n",
       "<style scoped>\n",
       "    .dataframe tbody tr th:only-of-type {\n",
       "        vertical-align: middle;\n",
       "    }\n",
       "\n",
       "    .dataframe tbody tr th {\n",
       "        vertical-align: top;\n",
       "    }\n",
       "\n",
       "    .dataframe thead th {\n",
       "        text-align: right;\n",
       "    }\n",
       "</style>\n",
       "<table border=\"1\" class=\"dataframe\">\n",
       "  <thead>\n",
       "    <tr style=\"text-align: right;\">\n",
       "      <th></th>\n",
       "      <th>0</th>\n",
       "      <th>1</th>\n",
       "      <th>2</th>\n",
       "      <th>3</th>\n",
       "    </tr>\n",
       "  </thead>\n",
       "  <tbody>\n",
       "    <tr>\n",
       "      <th>46</th>\n",
       "      <td>-0.840081</td>\n",
       "      <td>-0.519327</td>\n",
       "      <td>4.176545</td>\n",
       "      <td>-0.394802</td>\n",
       "    </tr>\n",
       "    <tr>\n",
       "      <th>62</th>\n",
       "      <td>-1.419669</td>\n",
       "      <td>-3.505503</td>\n",
       "      <td>0.501331</td>\n",
       "      <td>0.036314</td>\n",
       "    </tr>\n",
       "    <tr>\n",
       "      <th>76</th>\n",
       "      <td>-0.033422</td>\n",
       "      <td>-2.547229</td>\n",
       "      <td>3.608718</td>\n",
       "      <td>0.211469</td>\n",
       "    </tr>\n",
       "    <tr>\n",
       "      <th>149</th>\n",
       "      <td>0.071269</td>\n",
       "      <td>-3.919208</td>\n",
       "      <td>-1.062573</td>\n",
       "      <td>0.252202</td>\n",
       "    </tr>\n",
       "    <tr>\n",
       "      <th>171</th>\n",
       "      <td>-0.184813</td>\n",
       "      <td>-0.011529</td>\n",
       "      <td>-3.001382</td>\n",
       "      <td>0.105232</td>\n",
       "    </tr>\n",
       "    <tr>\n",
       "      <th>320</th>\n",
       "      <td>-0.731395</td>\n",
       "      <td>3.042233</td>\n",
       "      <td>-0.670970</td>\n",
       "      <td>0.220030</td>\n",
       "    </tr>\n",
       "    <tr>\n",
       "      <th>466</th>\n",
       "      <td>-0.619190</td>\n",
       "      <td>-3.064857</td>\n",
       "      <td>-0.999675</td>\n",
       "      <td>0.209961</td>\n",
       "    </tr>\n",
       "    <tr>\n",
       "      <th>598</th>\n",
       "      <td>-1.611985</td>\n",
       "      <td>0.050108</td>\n",
       "      <td>-1.039368</td>\n",
       "      <td>3.246078</td>\n",
       "    </tr>\n",
       "    <tr>\n",
       "      <th>626</th>\n",
       "      <td>-1.773551</td>\n",
       "      <td>0.553018</td>\n",
       "      <td>3.196306</td>\n",
       "      <td>1.544495</td>\n",
       "    </tr>\n",
       "    <tr>\n",
       "      <th>867</th>\n",
       "      <td>1.073963</td>\n",
       "      <td>0.198139</td>\n",
       "      <td>0.427002</td>\n",
       "      <td>3.081145</td>\n",
       "    </tr>\n",
       "    <tr>\n",
       "      <th>889</th>\n",
       "      <td>-3.222937</td>\n",
       "      <td>-1.030934</td>\n",
       "      <td>-0.556334</td>\n",
       "      <td>-0.592028</td>\n",
       "    </tr>\n",
       "    <tr>\n",
       "      <th>898</th>\n",
       "      <td>0.739013</td>\n",
       "      <td>3.158120</td>\n",
       "      <td>-0.932821</td>\n",
       "      <td>-0.701018</td>\n",
       "    </tr>\n",
       "    <tr>\n",
       "      <th>963</th>\n",
       "      <td>3.810589</td>\n",
       "      <td>-1.308040</td>\n",
       "      <td>-1.583813</td>\n",
       "      <td>-0.929368</td>\n",
       "    </tr>\n",
       "    <tr>\n",
       "      <th>996</th>\n",
       "      <td>-0.396555</td>\n",
       "      <td>0.443218</td>\n",
       "      <td>0.511400</td>\n",
       "      <td>-3.256944</td>\n",
       "    </tr>\n",
       "  </tbody>\n",
       "</table>\n",
       "</div>"
      ],
      "text/plain": [
       "            0         1         2         3\n",
       "46  -0.840081 -0.519327  4.176545 -0.394802\n",
       "62  -1.419669 -3.505503  0.501331  0.036314\n",
       "76  -0.033422 -2.547229  3.608718  0.211469\n",
       "149  0.071269 -3.919208 -1.062573  0.252202\n",
       "171 -0.184813 -0.011529 -3.001382  0.105232\n",
       "320 -0.731395  3.042233 -0.670970  0.220030\n",
       "466 -0.619190 -3.064857 -0.999675  0.209961\n",
       "598 -1.611985  0.050108 -1.039368  3.246078\n",
       "626 -1.773551  0.553018  3.196306  1.544495\n",
       "867  1.073963  0.198139  0.427002  3.081145\n",
       "889 -3.222937 -1.030934 -0.556334 -0.592028\n",
       "898  0.739013  3.158120 -0.932821 -0.701018\n",
       "963  3.810589 -1.308040 -1.583813 -0.929368\n",
       "996 -0.396555  0.443218  0.511400 -3.256944"
      ]
     },
     "execution_count": 29,
     "metadata": {},
     "output_type": "execute_result"
    }
   ],
   "source": [
    "data[(np.abs(data) > 3).any(axis=1)]"
   ]
  },
  {
   "cell_type": "markdown",
   "id": "6b69d5fb",
   "metadata": {},
   "source": [
    "- Para eliminar os valores que estejam fora do intervalo de -3 a 3 substituido-os por -3 ou 3 respectivamente"
   ]
  },
  {
   "cell_type": "code",
   "execution_count": 30,
   "id": "3ab9458d",
   "metadata": {},
   "outputs": [],
   "source": [
    "data[np.abs(data)>3] = np.sign(data) * 3"
   ]
  },
  {
   "cell_type": "code",
   "execution_count": 31,
   "id": "3335d939",
   "metadata": {},
   "outputs": [
    {
     "data": {
      "application/vnd.microsoft.datawrangler.viewer.v0+json": {
       "columns": [
        {
         "name": "index",
         "rawType": "object",
         "type": "string"
        },
        {
         "name": "0",
         "rawType": "float64",
         "type": "float"
        },
        {
         "name": "1",
         "rawType": "float64",
         "type": "float"
        },
        {
         "name": "2",
         "rawType": "float64",
         "type": "float"
        },
        {
         "name": "3",
         "rawType": "float64",
         "type": "float"
        }
       ],
       "ref": "176bfd0c-8431-4c7d-9813-ce8eea6af375",
       "rows": [
        [
         "count",
         "1000.0",
         "1000.0",
         "1000.0",
         "1000.0"
        ],
        [
         "mean",
         "-0.021095909489158834",
         "0.025576980758961698",
         "0.04206060549077077",
         "0.01976033400292704"
        ],
        [
         "std",
         "1.0243845826131481",
         "1.0122255898078953",
         "1.0107047531017088",
         "1.0162164175639798"
        ],
        [
         "min",
         "-3.0",
         "-3.0",
         "-3.0",
         "-3.0"
        ],
        [
         "25%",
         "-0.7136461948508066",
         "-0.647874433320293",
         "-0.6329987402497452",
         "-0.693692773978475"
        ],
        [
         "50%",
         "-0.03902542672531771",
         "0.0374767100598694",
         "0.016178297316895324",
         "0.005409334921188748"
        ],
        [
         "75%",
         "0.6988949871282608",
         "0.7146743088681985",
         "0.7501610081566736",
         "0.6905655276080431"
        ],
        [
         "max",
         "3.0",
         "3.0",
         "3.0",
         "3.0"
        ]
       ],
       "shape": {
        "columns": 4,
        "rows": 8
       }
      },
      "text/html": [
       "<div>\n",
       "<style scoped>\n",
       "    .dataframe tbody tr th:only-of-type {\n",
       "        vertical-align: middle;\n",
       "    }\n",
       "\n",
       "    .dataframe tbody tr th {\n",
       "        vertical-align: top;\n",
       "    }\n",
       "\n",
       "    .dataframe thead th {\n",
       "        text-align: right;\n",
       "    }\n",
       "</style>\n",
       "<table border=\"1\" class=\"dataframe\">\n",
       "  <thead>\n",
       "    <tr style=\"text-align: right;\">\n",
       "      <th></th>\n",
       "      <th>0</th>\n",
       "      <th>1</th>\n",
       "      <th>2</th>\n",
       "      <th>3</th>\n",
       "    </tr>\n",
       "  </thead>\n",
       "  <tbody>\n",
       "    <tr>\n",
       "      <th>count</th>\n",
       "      <td>1000.000000</td>\n",
       "      <td>1000.000000</td>\n",
       "      <td>1000.000000</td>\n",
       "      <td>1000.000000</td>\n",
       "    </tr>\n",
       "    <tr>\n",
       "      <th>mean</th>\n",
       "      <td>-0.021096</td>\n",
       "      <td>0.025577</td>\n",
       "      <td>0.042061</td>\n",
       "      <td>0.019760</td>\n",
       "    </tr>\n",
       "    <tr>\n",
       "      <th>std</th>\n",
       "      <td>1.024385</td>\n",
       "      <td>1.012226</td>\n",
       "      <td>1.010705</td>\n",
       "      <td>1.016216</td>\n",
       "    </tr>\n",
       "    <tr>\n",
       "      <th>min</th>\n",
       "      <td>-3.000000</td>\n",
       "      <td>-3.000000</td>\n",
       "      <td>-3.000000</td>\n",
       "      <td>-3.000000</td>\n",
       "    </tr>\n",
       "    <tr>\n",
       "      <th>25%</th>\n",
       "      <td>-0.713646</td>\n",
       "      <td>-0.647874</td>\n",
       "      <td>-0.632999</td>\n",
       "      <td>-0.693693</td>\n",
       "    </tr>\n",
       "    <tr>\n",
       "      <th>50%</th>\n",
       "      <td>-0.039025</td>\n",
       "      <td>0.037477</td>\n",
       "      <td>0.016178</td>\n",
       "      <td>0.005409</td>\n",
       "    </tr>\n",
       "    <tr>\n",
       "      <th>75%</th>\n",
       "      <td>0.698895</td>\n",
       "      <td>0.714674</td>\n",
       "      <td>0.750161</td>\n",
       "      <td>0.690566</td>\n",
       "    </tr>\n",
       "    <tr>\n",
       "      <th>max</th>\n",
       "      <td>3.000000</td>\n",
       "      <td>3.000000</td>\n",
       "      <td>3.000000</td>\n",
       "      <td>3.000000</td>\n",
       "    </tr>\n",
       "  </tbody>\n",
       "</table>\n",
       "</div>"
      ],
      "text/plain": [
       "                 0            1            2            3\n",
       "count  1000.000000  1000.000000  1000.000000  1000.000000\n",
       "mean     -0.021096     0.025577     0.042061     0.019760\n",
       "std       1.024385     1.012226     1.010705     1.016216\n",
       "min      -3.000000    -3.000000    -3.000000    -3.000000\n",
       "25%      -0.713646    -0.647874    -0.632999    -0.693693\n",
       "50%      -0.039025     0.037477     0.016178     0.005409\n",
       "75%       0.698895     0.714674     0.750161     0.690566\n",
       "max       3.000000     3.000000     3.000000     3.000000"
      ]
     },
     "execution_count": 31,
     "metadata": {},
     "output_type": "execute_result"
    }
   ],
   "source": [
    "data.describe()"
   ]
  },
  {
   "cell_type": "markdown",
   "id": "1d1347ac",
   "metadata": {},
   "source": [
    "### Manipulação de Strings"
   ]
  },
  {
   "cell_type": "markdown",
   "id": "0c6af873",
   "metadata": {},
   "source": [
    "- Uma string separada por vírgulas pode ser dividida em partes usando split"
   ]
  },
  {
   "cell_type": "code",
   "execution_count": 32,
   "id": "f2522965",
   "metadata": {},
   "outputs": [],
   "source": [
    "val = 'a,b, teste'"
   ]
  },
  {
   "cell_type": "code",
   "execution_count": 33,
   "id": "70d2e7e9",
   "metadata": {},
   "outputs": [
    {
     "data": {
      "text/plain": [
       "['a', 'b', ' teste']"
      ]
     },
     "execution_count": 33,
     "metadata": {},
     "output_type": "execute_result"
    }
   ],
   "source": [
    "val.split(',')"
   ]
  },
  {
   "cell_type": "markdown",
   "id": "6ed59c7a",
   "metadata": {},
   "source": [
    "- Com frequência, split é usado em conjunto com strip para remover espaços em branco (incluindo quebra de linha)"
   ]
  },
  {
   "cell_type": "code",
   "execution_count": 34,
   "id": "135471b1",
   "metadata": {},
   "outputs": [
    {
     "data": {
      "text/plain": [
       "['a', 'b', 'teste']"
      ]
     },
     "execution_count": 34,
     "metadata": {},
     "output_type": "execute_result"
    }
   ],
   "source": [
    "pieces = [x.strip() for x in val.split(',')]\n",
    "pieces"
   ]
  },
  {
   "cell_type": "markdown",
   "id": "695a5d17",
   "metadata": {},
   "source": [
    "- Replace é usado para substituir as ocorrências de um padrão por outro. É comumente utilizado também para apagar padrões passando uma string vazia"
   ]
  },
  {
   "cell_type": "code",
   "execution_count": 35,
   "id": "52e22bea",
   "metadata": {},
   "outputs": [
    {
     "data": {
      "text/plain": [
       "'a::b:: teste'"
      ]
     },
     "execution_count": 35,
     "metadata": {},
     "output_type": "execute_result"
    }
   ],
   "source": [
    "val.replace(',', '::')"
   ]
  },
  {
   "cell_type": "code",
   "execution_count": 36,
   "id": "44a943bf",
   "metadata": {},
   "outputs": [
    {
     "data": {
      "text/plain": [
       "'ab teste'"
      ]
     },
     "execution_count": 36,
     "metadata": {},
     "output_type": "execute_result"
    }
   ],
   "source": [
    "val.replace(',','')"
   ]
  }
 ],
 "metadata": {
  "hide_input": false,
  "kernelspec": {
   "display_name": ".venv",
   "language": "python",
   "name": "python3"
  },
  "language_info": {
   "codemirror_mode": {
    "name": "ipython",
    "version": 3
   },
   "file_extension": ".py",
   "mimetype": "text/x-python",
   "name": "python",
   "nbconvert_exporter": "python",
   "pygments_lexer": "ipython3",
   "version": "3.12.6"
  }
 },
 "nbformat": 4,
 "nbformat_minor": 5
}
