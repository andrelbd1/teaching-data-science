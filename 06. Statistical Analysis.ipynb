{
 "cells": [
  {
   "cell_type": "markdown",
   "id": "c91ffc19",
   "metadata": {},
   "source": [
    "# <font color=green> Exploração de Dados com análise estatística\n",
    "***"
   ]
  },
  {
   "cell_type": "code",
   "execution_count": 1,
   "id": "6b84bc92",
   "metadata": {},
   "outputs": [],
   "source": [
    "import pandas as pd\n",
    "import seaborn as sns\n",
    "import numpy as np\n",
    "import warnings\n",
    "warnings.filterwarnings('ignore')"
   ]
  },
  {
   "cell_type": "markdown",
   "id": "5870d35f",
   "metadata": {},
   "source": [
    "## <font color=green>1. Tipo dos Dados</font>"
   ]
  },
  {
   "cell_type": "code",
   "execution_count": 2,
   "id": "20360f93",
   "metadata": {},
   "outputs": [
    {
     "data": {
      "application/vnd.microsoft.datawrangler.viewer.v0+json": {
       "columns": [
        {
         "name": "index",
         "rawType": "int64",
         "type": "integer"
        },
        {
         "name": "UF",
         "rawType": "int64",
         "type": "integer"
        },
        {
         "name": "Sexo",
         "rawType": "int64",
         "type": "integer"
        },
        {
         "name": "Idade",
         "rawType": "int64",
         "type": "integer"
        },
        {
         "name": "Cor",
         "rawType": "int64",
         "type": "integer"
        },
        {
         "name": "Anos de Estudo",
         "rawType": "int64",
         "type": "integer"
        },
        {
         "name": "Renda",
         "rawType": "int64",
         "type": "integer"
        },
        {
         "name": "Altura",
         "rawType": "float64",
         "type": "float"
        }
       ],
       "ref": "bd98b24f-7082-4f4d-ac8a-7abc763d349f",
       "rows": [
        [
         "0",
         "11",
         "0",
         "23",
         "8",
         "12",
         "800",
         "1.603807616"
        ],
        [
         "1",
         "11",
         "1",
         "23",
         "2",
         "12",
         "1150",
         "1.739789827"
        ],
        [
         "2",
         "11",
         "1",
         "35",
         "8",
         "15",
         "880",
         "1.760443822"
        ],
        [
         "3",
         "11",
         "0",
         "46",
         "2",
         "6",
         "3500",
         "1.783157945"
        ],
        [
         "4",
         "11",
         "1",
         "47",
         "8",
         "9",
         "150",
         "1.690630954"
        ],
        [
         "5",
         "11",
         "1",
         "34",
         "8",
         "12",
         "790",
         "1.637905598"
        ],
        [
         "6",
         "11",
         "0",
         "57",
         "8",
         "12",
         "3150",
         "1.570078218"
        ],
        [
         "7",
         "11",
         "1",
         "60",
         "8",
         "12",
         "1700",
         "1.608495442"
        ],
        [
         "8",
         "11",
         "1",
         "50",
         "4",
         "14",
         "1800",
         "1.780328883"
        ],
        [
         "9",
         "11",
         "0",
         "26",
         "8",
         "12",
         "1150",
         "1.793202625"
        ],
        [
         "10",
         "11",
         "1",
         "46",
         "8",
         "12",
         "3000",
         "1.787003282"
        ],
        [
         "11",
         "11",
         "1",
         "49",
         "8",
         "6",
         "2500",
         "1.712911548"
        ],
        [
         "12",
         "11",
         "1",
         "52",
         "2",
         "6",
         "1200",
         "1.736442076"
        ],
        [
         "13",
         "11",
         "0",
         "38",
         "8",
         "12",
         "2000",
         "1.750826666"
        ],
        [
         "14",
         "11",
         "0",
         "45",
         "2",
         "12",
         "2000",
         "1.780450392"
        ],
        [
         "15",
         "11",
         "0",
         "34",
         "2",
         "16",
         "6000",
         "1.711825037"
        ],
        [
         "16",
         "11",
         "1",
         "43",
         "8",
         "10",
         "1050",
         "1.789011804"
        ],
        [
         "17",
         "11",
         "0",
         "53",
         "8",
         "16",
         "7000",
         "1.673665133"
        ],
        [
         "18",
         "11",
         "0",
         "57",
         "2",
         "12",
         "2000",
         "1.715137632"
        ],
        [
         "19",
         "11",
         "1",
         "62",
         "8",
         "12",
         "1150",
         "1.76597309"
        ],
        [
         "20",
         "11",
         "0",
         "69",
         "8",
         "1",
         "3030",
         "1.746351196"
        ],
        [
         "21",
         "11",
         "1",
         "41",
         "8",
         "16",
         "4000",
         "1.660873129"
        ],
        [
         "22",
         "11",
         "0",
         "34",
         "8",
         "5",
         "788",
         "1.746048026"
        ],
        [
         "23",
         "11",
         "0",
         "25",
         "8",
         "12",
         "1000",
         "1.726496158"
        ],
        [
         "24",
         "11",
         "0",
         "33",
         "8",
         "9",
         "800",
         "1.778913561"
        ],
        [
         "25",
         "11",
         "1",
         "44",
         "8",
         "5",
         "788",
         "1.668637941"
        ],
        [
         "26",
         "11",
         "0",
         "33",
         "2",
         "16",
         "1600",
         "1.783770601"
        ],
        [
         "27",
         "11",
         "0",
         "65",
         "2",
         "12",
         "1700",
         "1.873445247"
        ],
        [
         "28",
         "11",
         "0",
         "33",
         "8",
         "14",
         "2000",
         "1.890250314"
        ],
        [
         "29",
         "11",
         "0",
         "32",
         "8",
         "12",
         "2400",
         "1.660204145"
        ],
        [
         "30",
         "11",
         "0",
         "43",
         "8",
         "5",
         "3000",
         "1.636361741"
        ],
        [
         "31",
         "11",
         "0",
         "30",
         "8",
         "1",
         "920",
         "1.685590822"
        ],
        [
         "32",
         "11",
         "0",
         "26",
         "2",
         "10",
         "1300",
         "1.68402625"
        ],
        [
         "33",
         "11",
         "0",
         "52",
         "2",
         "15",
         "2000",
         "1.67104419"
        ],
        [
         "34",
         "11",
         "0",
         "62",
         "8",
         "1",
         "1300",
         "1.632129706"
        ],
        [
         "35",
         "11",
         "0",
         "64",
         "6",
         "5",
         "600",
         "1.712121503"
        ],
        [
         "36",
         "11",
         "0",
         "31",
         "8",
         "7",
         "1200",
         "1.763447989"
        ],
        [
         "37",
         "11",
         "0",
         "63",
         "2",
         "3",
         "1000",
         "1.694500204"
        ],
        [
         "38",
         "11",
         "1",
         "40",
         "2",
         "9",
         "1000",
         "1.705147683"
        ],
        [
         "39",
         "11",
         "0",
         "47",
         "4",
         "9",
         "1500",
         "1.672258066"
        ],
        [
         "40",
         "11",
         "0",
         "34",
         "2",
         "7",
         "900",
         "1.645452653"
        ],
        [
         "41",
         "11",
         "0",
         "33",
         "8",
         "6",
         "900",
         "1.814785789"
        ],
        [
         "42",
         "11",
         "0",
         "63",
         "8",
         "6",
         "0",
         "1.652746296"
        ],
        [
         "43",
         "11",
         "1",
         "40",
         "8",
         "2",
         "300",
         "1.757341995"
        ],
        [
         "44",
         "11",
         "0",
         "41",
         "8",
         "6",
         "1600",
         "1.611286043"
        ],
        [
         "45",
         "11",
         "0",
         "28",
         "2",
         "10",
         "1500",
         "1.693976403"
        ],
        [
         "46",
         "11",
         "1",
         "32",
         "8",
         "12",
         "750",
         "1.684819452"
        ],
        [
         "47",
         "11",
         "0",
         "44",
         "2",
         "1",
         "800",
         "1.701974845"
        ],
        [
         "48",
         "11",
         "1",
         "38",
         "2",
         "12",
         "3600",
         "1.599083153"
        ],
        [
         "49",
         "11",
         "0",
         "41",
         "2",
         "4",
         "1500",
         "1.646862718"
        ]
       ],
       "shape": {
        "columns": 7,
        "rows": 76840
       }
      },
      "text/html": [
       "<div>\n",
       "<style scoped>\n",
       "    .dataframe tbody tr th:only-of-type {\n",
       "        vertical-align: middle;\n",
       "    }\n",
       "\n",
       "    .dataframe tbody tr th {\n",
       "        vertical-align: top;\n",
       "    }\n",
       "\n",
       "    .dataframe thead th {\n",
       "        text-align: right;\n",
       "    }\n",
       "</style>\n",
       "<table border=\"1\" class=\"dataframe\">\n",
       "  <thead>\n",
       "    <tr style=\"text-align: right;\">\n",
       "      <th></th>\n",
       "      <th>UF</th>\n",
       "      <th>Sexo</th>\n",
       "      <th>Idade</th>\n",
       "      <th>Cor</th>\n",
       "      <th>Anos de Estudo</th>\n",
       "      <th>Renda</th>\n",
       "      <th>Altura</th>\n",
       "    </tr>\n",
       "  </thead>\n",
       "  <tbody>\n",
       "    <tr>\n",
       "      <th>0</th>\n",
       "      <td>11</td>\n",
       "      <td>0</td>\n",
       "      <td>23</td>\n",
       "      <td>8</td>\n",
       "      <td>12</td>\n",
       "      <td>800</td>\n",
       "      <td>1.603808</td>\n",
       "    </tr>\n",
       "    <tr>\n",
       "      <th>1</th>\n",
       "      <td>11</td>\n",
       "      <td>1</td>\n",
       "      <td>23</td>\n",
       "      <td>2</td>\n",
       "      <td>12</td>\n",
       "      <td>1150</td>\n",
       "      <td>1.739790</td>\n",
       "    </tr>\n",
       "    <tr>\n",
       "      <th>2</th>\n",
       "      <td>11</td>\n",
       "      <td>1</td>\n",
       "      <td>35</td>\n",
       "      <td>8</td>\n",
       "      <td>15</td>\n",
       "      <td>880</td>\n",
       "      <td>1.760444</td>\n",
       "    </tr>\n",
       "    <tr>\n",
       "      <th>3</th>\n",
       "      <td>11</td>\n",
       "      <td>0</td>\n",
       "      <td>46</td>\n",
       "      <td>2</td>\n",
       "      <td>6</td>\n",
       "      <td>3500</td>\n",
       "      <td>1.783158</td>\n",
       "    </tr>\n",
       "    <tr>\n",
       "      <th>4</th>\n",
       "      <td>11</td>\n",
       "      <td>1</td>\n",
       "      <td>47</td>\n",
       "      <td>8</td>\n",
       "      <td>9</td>\n",
       "      <td>150</td>\n",
       "      <td>1.690631</td>\n",
       "    </tr>\n",
       "    <tr>\n",
       "      <th>...</th>\n",
       "      <td>...</td>\n",
       "      <td>...</td>\n",
       "      <td>...</td>\n",
       "      <td>...</td>\n",
       "      <td>...</td>\n",
       "      <td>...</td>\n",
       "      <td>...</td>\n",
       "    </tr>\n",
       "    <tr>\n",
       "      <th>76835</th>\n",
       "      <td>53</td>\n",
       "      <td>1</td>\n",
       "      <td>46</td>\n",
       "      <td>2</td>\n",
       "      <td>11</td>\n",
       "      <td>812</td>\n",
       "      <td>1.687030</td>\n",
       "    </tr>\n",
       "    <tr>\n",
       "      <th>76836</th>\n",
       "      <td>53</td>\n",
       "      <td>0</td>\n",
       "      <td>30</td>\n",
       "      <td>4</td>\n",
       "      <td>7</td>\n",
       "      <td>1500</td>\n",
       "      <td>1.792934</td>\n",
       "    </tr>\n",
       "    <tr>\n",
       "      <th>76837</th>\n",
       "      <td>53</td>\n",
       "      <td>0</td>\n",
       "      <td>32</td>\n",
       "      <td>8</td>\n",
       "      <td>12</td>\n",
       "      <td>1300</td>\n",
       "      <td>1.830587</td>\n",
       "    </tr>\n",
       "    <tr>\n",
       "      <th>76838</th>\n",
       "      <td>53</td>\n",
       "      <td>0</td>\n",
       "      <td>57</td>\n",
       "      <td>8</td>\n",
       "      <td>4</td>\n",
       "      <td>1500</td>\n",
       "      <td>1.726344</td>\n",
       "    </tr>\n",
       "    <tr>\n",
       "      <th>76839</th>\n",
       "      <td>53</td>\n",
       "      <td>0</td>\n",
       "      <td>38</td>\n",
       "      <td>8</td>\n",
       "      <td>4</td>\n",
       "      <td>900</td>\n",
       "      <td>1.658305</td>\n",
       "    </tr>\n",
       "  </tbody>\n",
       "</table>\n",
       "<p>76840 rows × 7 columns</p>\n",
       "</div>"
      ],
      "text/plain": [
       "       UF  Sexo  Idade  Cor  Anos de Estudo  Renda    Altura\n",
       "0      11     0     23    8              12    800  1.603808\n",
       "1      11     1     23    2              12   1150  1.739790\n",
       "2      11     1     35    8              15    880  1.760444\n",
       "3      11     0     46    2               6   3500  1.783158\n",
       "4      11     1     47    8               9    150  1.690631\n",
       "...    ..   ...    ...  ...             ...    ...       ...\n",
       "76835  53     1     46    2              11    812  1.687030\n",
       "76836  53     0     30    4               7   1500  1.792934\n",
       "76837  53     0     32    8              12   1300  1.830587\n",
       "76838  53     0     57    8               4   1500  1.726344\n",
       "76839  53     0     38    8               4    900  1.658305\n",
       "\n",
       "[76840 rows x 7 columns]"
      ]
     },
     "execution_count": 2,
     "metadata": {},
     "output_type": "execute_result"
    }
   ],
   "source": [
    "dados = pd.read_csv(\"datasets/dados.csv\")\n",
    "dados"
   ]
  },
  {
   "cell_type": "markdown",
   "id": "3eade9af",
   "metadata": {},
   "source": [
    "### Variáveis utilizadas\n",
    "\n",
    "> ### Renda\n",
    "> ***\n",
    "\n",
    "Rendimento mensal do trabalho principal para pessoas de 10 anos ou mais de idade.\n",
    "\n",
    "> ### Idade\n",
    "> ***\n",
    "\n",
    "Idade do morador na data de referência em anos.\n",
    "\n",
    "> ### Altura (elaboração própria)\n",
    "> ***\n",
    "\n",
    "Altura do morador em metros.\n",
    "\n",
    "> ### UF\n",
    "> ***\n",
    "\n",
    "|Código|Descrição|\n",
    "|---|---|\n",
    "|11|Rondônia|\n",
    "|12|Acre|\n",
    "|13|Amazonas|\n",
    "|14|Roraima|\n",
    "|15|Pará|\n",
    "|16|Amapá|\n",
    "|17|Tocantins|\n",
    "|21|Maranhão|\n",
    "|22|Piauí|\n",
    "|23|Ceará|\n",
    "|24|Rio Grande do Norte|\n",
    "|25|Paraíba|\n",
    "|26|Pernambuco|\n",
    "|27|Alagoas|\n",
    "|28|Sergipe|\n",
    "|29|Bahia|\n",
    "|31|Minas Gerais|\n",
    "|32|Espírito Santo|\n",
    "|33|Rio de Janeiro|\n",
    "|35|São Paulo|\n",
    "|41|Paraná|\n",
    "|42|Santa Catarina|\n",
    "|43|Rio Grande do Sul|\n",
    "|50|Mato Grosso do Sul|\n",
    "|51|Mato Grosso|\n",
    "|52|Goiás|\n",
    "|53|Distrito Federal|\n",
    "\n",
    "> ### Sexo\t\n",
    "> ***\n",
    "\n",
    "|Código|Descrição|\n",
    "|---|---|\n",
    "|0|Masculino|\n",
    "|1|Feminino|\n",
    "\n",
    "> ### Anos de Estudo\n",
    "> ***\n",
    "\n",
    "|Código|Descrição|\n",
    "|---|---|\n",
    "|1|Sem instrução e menos de 1 ano|\n",
    "|2|1 ano|\n",
    "|3|2 anos|\n",
    "|4|3 anos|\n",
    "|5|4 anos|\n",
    "|6|5 anos|\n",
    "|7|6 anos|\n",
    "|8|7 anos|\n",
    "|9|8 anos|\n",
    "|10|9 anos|\n",
    "|11|10 anos|\n",
    "|12|11 anos|\n",
    "|13|12 anos|\n",
    "|14|13 anos|\n",
    "|15|14 anos|\n",
    "|16|15 anos ou mais|\n",
    "|17|Não determinados| \n",
    "||Não aplicável|\n",
    "\n",
    "> ### Cor\n",
    "> ***\n",
    "\n",
    "|Código|Descrição|\n",
    "|---|---|\n",
    "|0|Indígena|\n",
    "|2|Branca|\n",
    "|4|Preta|\n",
    "|6|Amarela|\n",
    "|8|Parda|\n",
    "|9|Sem declaração|\n",
    "\n",
    "- Fonte dos Dados\n",
    "    - https://ww2.ibge.gov.br/home/estatistica/populacao/trabalhoerendimento/pnad2015/microdados.shtm\n",
    "    \n",
    "- Descrição\n",
    "    - A <b>Pesquisa Nacional por Amostra de Domicílios - PNAD</b> investiga anualmente, de forma permanente, características gerais da população, de educação, trabalho, rendimento e habitação e outras, com periodicidade variável, de acordo com as necessidades de informação para o país, como as características sobre migração, fecundidade, nupcialidade, saúde, segurança alimentar, entre outros temas. O levantamento dessas estatísticas constitui, ao longo dos 49 anos de realização da pesquisa, um importante instrumento para formulação, validação e avaliação de políticas orientadas para o desenvolvimento socioeconômico e a melhoria das condições de vida no Brasil.\n",
    "\n",
    "#### <font color='red'>Observação</font>\n",
    "***\n",
    "> Os seguintes tratamentos foram realizados nos dados originais:\n",
    "> 1. Foram eliminados os registros onde a <b>Renda</b> era inválida (999 999 999 999);\n",
    "> 2. Foram eliminados os registros onde a <b>Renda</b> era missing;\n",
    "> 3. Foram considerados somente os registros das <b>Pessoas de Referência</b> de cada domicílio (responsável pelo domicílio).    "
   ]
  },
  {
   "cell_type": "markdown",
   "id": "92a56d4d",
   "metadata": {},
   "source": [
    "<img src='figures/var.png' width='65%'>"
   ]
  },
  {
   "cell_type": "markdown",
   "id": "656eb629",
   "metadata": {},
   "source": [
    "### Variáveis qualitativas ordinais"
   ]
  },
  {
   "cell_type": "markdown",
   "id": "a6e28777",
   "metadata": {},
   "source": [
    "- Variáveis que podem ser ordenadas ou hierarquizardas"
   ]
  },
  {
   "cell_type": "code",
   "execution_count": 3,
   "id": "bf86c434",
   "metadata": {},
   "outputs": [
    {
     "data": {
      "text/plain": [
       "[np.int64(1),\n",
       " np.int64(2),\n",
       " np.int64(3),\n",
       " np.int64(4),\n",
       " np.int64(5),\n",
       " np.int64(6),\n",
       " np.int64(7),\n",
       " np.int64(8),\n",
       " np.int64(9),\n",
       " np.int64(10),\n",
       " np.int64(11),\n",
       " np.int64(12),\n",
       " np.int64(13),\n",
       " np.int64(14),\n",
       " np.int64(15),\n",
       " np.int64(16),\n",
       " np.int64(17)]"
      ]
     },
     "execution_count": 3,
     "metadata": {},
     "output_type": "execute_result"
    }
   ],
   "source": [
    "sorted(dados['Anos de Estudo'].unique())"
   ]
  },
  {
   "cell_type": "markdown",
   "id": "6b8b3ace",
   "metadata": {},
   "source": [
    "### Variáveis qualitativas nominais"
   ]
  },
  {
   "cell_type": "markdown",
   "id": "55c7540b",
   "metadata": {},
   "source": [
    "- Variáveis que não podem ser ordenadas ou hierarquizardas"
   ]
  },
  {
   "cell_type": "code",
   "execution_count": 4,
   "id": "693f6c82",
   "metadata": {},
   "outputs": [
    {
     "data": {
      "text/plain": [
       "[np.int64(11),\n",
       " np.int64(12),\n",
       " np.int64(13),\n",
       " np.int64(14),\n",
       " np.int64(15),\n",
       " np.int64(16),\n",
       " np.int64(17),\n",
       " np.int64(21),\n",
       " np.int64(22),\n",
       " np.int64(23),\n",
       " np.int64(24),\n",
       " np.int64(25),\n",
       " np.int64(26),\n",
       " np.int64(27),\n",
       " np.int64(28),\n",
       " np.int64(29),\n",
       " np.int64(31),\n",
       " np.int64(32),\n",
       " np.int64(33),\n",
       " np.int64(35),\n",
       " np.int64(41),\n",
       " np.int64(42),\n",
       " np.int64(43),\n",
       " np.int64(50),\n",
       " np.int64(51),\n",
       " np.int64(52),\n",
       " np.int64(53)]"
      ]
     },
     "execution_count": 4,
     "metadata": {},
     "output_type": "execute_result"
    }
   ],
   "source": [
    "sorted(dados['UF'].unique())"
   ]
  },
  {
   "cell_type": "code",
   "execution_count": 5,
   "id": "71fb5a16",
   "metadata": {},
   "outputs": [
    {
     "data": {
      "text/plain": [
       "[np.int64(0), np.int64(1)]"
      ]
     },
     "execution_count": 5,
     "metadata": {},
     "output_type": "execute_result"
    }
   ],
   "source": [
    "sorted(dados['Sexo'].unique())"
   ]
  },
  {
   "cell_type": "code",
   "execution_count": 6,
   "id": "3d48dda5",
   "metadata": {},
   "outputs": [
    {
     "data": {
      "text/plain": [
       "[np.int64(0), np.int64(2), np.int64(4), np.int64(6), np.int64(8)]"
      ]
     },
     "execution_count": 6,
     "metadata": {},
     "output_type": "execute_result"
    }
   ],
   "source": [
    "sorted(dados['Cor'].unique())"
   ]
  },
  {
   "cell_type": "markdown",
   "id": "f2a716e5",
   "metadata": {},
   "source": [
    "### Variáveis quantitativas discretas"
   ]
  },
  {
   "cell_type": "markdown",
   "id": "70789194",
   "metadata": {},
   "source": [
    "- Variáveis que representam uma contagem onde os valores possíveis formam um conjunto finito ou enumerável."
   ]
  },
  {
   "cell_type": "code",
   "execution_count": 7,
   "id": "a48db435",
   "metadata": {},
   "outputs": [
    {
     "name": "stdout",
     "output_type": "stream",
     "text": [
      "De 13 até 99 anos\n"
     ]
    }
   ],
   "source": [
    "print(f'De {dados.Idade.min()} até {dados.Idade.max()} anos')"
   ]
  },
  {
   "cell_type": "markdown",
   "id": "0b9e9e2e",
   "metadata": {},
   "source": [
    "#### <font color='red'>Observação</font>\n",
    "***\n",
    "> A variável idade pode ser classificada de três formas distintas:\n",
    "> 1. <b>QUANTITATIVA DISCRETA</b> - quando representa anos completos (números inteiros);\n",
    "> 2. <b>QUANTITATIVA CONTÍNUA</b> - quando representa a idade exata, sendo representado por frações de anos; e\n",
    "> 3. <b>QUALITATIVA ORDINAL</b> - quando representa faixas de idade."
   ]
  },
  {
   "cell_type": "markdown",
   "id": "7791df62",
   "metadata": {},
   "source": [
    "### Variáveis quantitativas contínuas"
   ]
  },
  {
   "cell_type": "markdown",
   "id": "2efbac3c",
   "metadata": {},
   "source": [
    "- Variáveis que representam uma contagem ou mensuração que assumem valores em uma escala contínua (números reais)."
   ]
  },
  {
   "cell_type": "code",
   "execution_count": 8,
   "id": "37e6575a",
   "metadata": {},
   "outputs": [
    {
     "data": {
      "text/plain": [
       "np.float64(1.339244614)"
      ]
     },
     "execution_count": 8,
     "metadata": {},
     "output_type": "execute_result"
    }
   ],
   "source": [
    "dados['Altura'].min()"
   ]
  },
  {
   "cell_type": "code",
   "execution_count": 9,
   "id": "f1e17304",
   "metadata": {},
   "outputs": [
    {
     "name": "stdout",
     "output_type": "stream",
     "text": [
      "De 1.339244614 até 2.028496765 metros\n"
     ]
    }
   ],
   "source": [
    "print(f'De {dados.Altura.min()} até {dados.Altura.max()} metros')"
   ]
  },
  {
   "cell_type": "markdown",
   "id": "654a19bb",
   "metadata": {},
   "source": [
    "## <font color=green>2. Distribuição de Frequências</font>"
   ]
  },
  {
   "cell_type": "markdown",
   "id": "c27d0666",
   "metadata": {},
   "source": [
    "- O primeiro passo em um trabalho de análise é o conhecimento do comportamento das variáveis envolvidas no estudo. Utilizando técnicas estatísticas como as análises das <b>DISTRIBUIÇÕES DE FREQUÊNCIAS</b> e <b>HISTOGRAMAS</b> podemos avaliar melhor a forma como os fenômenos em estudo se distribuem."
   ]
  },
  {
   "cell_type": "markdown",
   "id": "d3b1f120",
   "metadata": {},
   "source": [
    "### Distribuição de frequências para variáveis qualitativas"
   ]
  },
  {
   "cell_type": "markdown",
   "id": "2fe6a714",
   "metadata": {},
   "source": [
    "- O método value_counts devolve uma Series contendo valores únicos como seu índice e as frequências como seus valores; a ordem dos contadores é decrescente"
   ]
  },
  {
   "cell_type": "code",
   "execution_count": 10,
   "id": "30d99b9d",
   "metadata": {},
   "outputs": [
    {
     "data": {
      "application/vnd.microsoft.datawrangler.viewer.v0+json": {
       "columns": [
        {
         "name": "Sexo",
         "rawType": "int64",
         "type": "integer"
        },
        {
         "name": "count",
         "rawType": "int64",
         "type": "integer"
        }
       ],
       "ref": "b5d107bb-f1b2-4fc4-8034-8477d3e2044c",
       "rows": [
        [
         "0",
         "53250"
        ],
        [
         "1",
         "23590"
        ]
       ],
       "shape": {
        "columns": 1,
        "rows": 2
       }
      },
      "text/plain": [
       "Sexo\n",
       "0    53250\n",
       "1    23590\n",
       "Name: count, dtype: int64"
      ]
     },
     "execution_count": 10,
     "metadata": {},
     "output_type": "execute_result"
    }
   ],
   "source": [
    "dados['Sexo'].value_counts()"
   ]
  },
  {
   "cell_type": "markdown",
   "id": "674e4cdf",
   "metadata": {},
   "source": [
    "- Atribuindo o parametro True para normalize e multiplicando por 100, você tem o percentual de frequencia para cada categoria"
   ]
  },
  {
   "cell_type": "code",
   "execution_count": 11,
   "id": "624aa5ad",
   "metadata": {},
   "outputs": [
    {
     "data": {
      "application/vnd.microsoft.datawrangler.viewer.v0+json": {
       "columns": [
        {
         "name": "Sexo",
         "rawType": "int64",
         "type": "integer"
        },
        {
         "name": "proportion",
         "rawType": "float64",
         "type": "float"
        }
       ],
       "ref": "a37ca832-022e-4e20-8a13-d1d83488415a",
       "rows": [
        [
         "0",
         "69.29984383133785"
        ],
        [
         "1",
         "30.700156168662158"
        ]
       ],
       "shape": {
        "columns": 1,
        "rows": 2
       }
      },
      "text/plain": [
       "Sexo\n",
       "0    69.299844\n",
       "1    30.700156\n",
       "Name: proportion, dtype: float64"
      ]
     },
     "execution_count": 11,
     "metadata": {},
     "output_type": "execute_result"
    }
   ],
   "source": [
    "dados['Sexo'].value_counts(normalize = True) * 100"
   ]
  },
  {
   "cell_type": "code",
   "execution_count": 12,
   "id": "01169439",
   "metadata": {},
   "outputs": [
    {
     "data": {
      "application/vnd.microsoft.datawrangler.viewer.v0+json": {
       "columns": [
        {
         "name": "Sexo",
         "rawType": "object",
         "type": "string"
        },
        {
         "name": "Frequência",
         "rawType": "int64",
         "type": "integer"
        },
        {
         "name": "Porcentagem (%)",
         "rawType": "float64",
         "type": "float"
        }
       ],
       "ref": "39c54f72-e0aa-4184-bd16-6522d8d6a73d",
       "rows": [
        [
         "Masculino",
         "53250",
         "69.29984383133785"
        ],
        [
         "Feminino",
         "23590",
         "30.700156168662158"
        ]
       ],
       "shape": {
        "columns": 2,
        "rows": 2
       }
      },
      "text/html": [
       "<div>\n",
       "<style scoped>\n",
       "    .dataframe tbody tr th:only-of-type {\n",
       "        vertical-align: middle;\n",
       "    }\n",
       "\n",
       "    .dataframe tbody tr th {\n",
       "        vertical-align: top;\n",
       "    }\n",
       "\n",
       "    .dataframe thead th {\n",
       "        text-align: right;\n",
       "    }\n",
       "</style>\n",
       "<table border=\"1\" class=\"dataframe\">\n",
       "  <thead>\n",
       "    <tr style=\"text-align: right;\">\n",
       "      <th>Sexo</th>\n",
       "      <th>Frequência</th>\n",
       "      <th>Porcentagem (%)</th>\n",
       "    </tr>\n",
       "    <tr>\n",
       "      <th>Sexo</th>\n",
       "      <th></th>\n",
       "      <th></th>\n",
       "    </tr>\n",
       "  </thead>\n",
       "  <tbody>\n",
       "    <tr>\n",
       "      <th>Masculino</th>\n",
       "      <td>53250</td>\n",
       "      <td>69.299844</td>\n",
       "    </tr>\n",
       "    <tr>\n",
       "      <th>Feminino</th>\n",
       "      <td>23590</td>\n",
       "      <td>30.700156</td>\n",
       "    </tr>\n",
       "  </tbody>\n",
       "</table>\n",
       "</div>"
      ],
      "text/plain": [
       "Sexo       Frequência  Porcentagem (%)\n",
       "Sexo                                  \n",
       "Masculino       53250        69.299844\n",
       "Feminino        23590        30.700156"
      ]
     },
     "execution_count": 12,
     "metadata": {},
     "output_type": "execute_result"
    }
   ],
   "source": [
    "frequencia = dados['Sexo'].value_counts()\n",
    "percentual = dados['Sexo'].value_counts(normalize = True) * 100\n",
    "dist_freq_qualitativas = pd.DataFrame({'Frequência': frequencia, 'Porcentagem (%)': percentual})\n",
    "dist_freq_qualitativas.rename(index = {0: 'Masculino', 1: 'Feminino'}, inplace = True)\n",
    "dist_freq_qualitativas.rename_axis('Sexo', axis = 'columns', inplace = True)\n",
    "dist_freq_qualitativas"
   ]
  },
  {
   "cell_type": "code",
   "execution_count": 13,
   "id": "b0f85e8f",
   "metadata": {},
   "outputs": [
    {
     "data": {
      "text/plain": [
       "<Axes: ylabel='Sexo'>"
      ]
     },
     "execution_count": 13,
     "metadata": {},
     "output_type": "execute_result"
    },
    {
     "data": {
      "image/png": "[encoded data removed]",
      "text/plain": [
       "<Figure size 640x480 with 1 Axes>"
      ]
     },
     "metadata": {},
     "output_type": "display_data"
    }
   ],
   "source": [
    "dist_freq_qualitativas['Frequência'].plot.barh(rot=0)"
   ]
  },
  {
   "cell_type": "code",
   "execution_count": 14,
   "id": "82b413de",
   "metadata": {},
   "outputs": [],
   "source": [
    "sexo = {0: 'Masculino',\n",
    "        1: 'Feminino'}\n",
    "\n",
    "cor = {0: 'Indígena',\n",
    "        2: 'Branca',\n",
    "        4: 'Preta',\n",
    "        6: 'Amarela',\n",
    "        8: 'Parda',\n",
    "        9: 'Sem declaração'}"
   ]
  },
  {
   "cell_type": "markdown",
   "id": "9d7a6c41",
   "metadata": {},
   "source": [
    "- A função crosstab permite cruzar os dados afim de calcular a frequência entre categorias . Para o nosso exemplo, ele permite contabilizar a quantidade de pessoas por genero de cada etnia"
   ]
  },
  {
   "cell_type": "code",
   "execution_count": 15,
   "id": "854e6f9b",
   "metadata": {},
   "outputs": [
    {
     "data": {
      "application/vnd.microsoft.datawrangler.viewer.v0+json": {
       "columns": [
        {
         "name": "Sexo",
         "rawType": "object",
         "type": "string"
        },
        {
         "name": "Indígena",
         "rawType": "int64",
         "type": "integer"
        },
        {
         "name": "Branca",
         "rawType": "int64",
         "type": "integer"
        },
        {
         "name": "Preta",
         "rawType": "int64",
         "type": "integer"
        },
        {
         "name": "Amarela",
         "rawType": "int64",
         "type": "integer"
        },
        {
         "name": "Parda",
         "rawType": "int64",
         "type": "integer"
        }
       ],
       "ref": "b12b5468-8c70-48e8-8cc9-59e73464f14a",
       "rows": [
        [
         "Masculino",
         "256",
         "22194",
         "5502",
         "235",
         "25063"
        ],
        [
         "Feminino",
         "101",
         "9621",
         "2889",
         "117",
         "10862"
        ]
       ],
       "shape": {
        "columns": 5,
        "rows": 2
       }
      },
      "text/html": [
       "<div>\n",
       "<style scoped>\n",
       "    .dataframe tbody tr th:only-of-type {\n",
       "        vertical-align: middle;\n",
       "    }\n",
       "\n",
       "    .dataframe tbody tr th {\n",
       "        vertical-align: top;\n",
       "    }\n",
       "\n",
       "    .dataframe thead th {\n",
       "        text-align: right;\n",
       "    }\n",
       "</style>\n",
       "<table border=\"1\" class=\"dataframe\">\n",
       "  <thead>\n",
       "    <tr style=\"text-align: right;\">\n",
       "      <th>Cor</th>\n",
       "      <th>Indígena</th>\n",
       "      <th>Branca</th>\n",
       "      <th>Preta</th>\n",
       "      <th>Amarela</th>\n",
       "      <th>Parda</th>\n",
       "    </tr>\n",
       "    <tr>\n",
       "      <th>Sexo</th>\n",
       "      <th></th>\n",
       "      <th></th>\n",
       "      <th></th>\n",
       "      <th></th>\n",
       "      <th></th>\n",
       "    </tr>\n",
       "  </thead>\n",
       "  <tbody>\n",
       "    <tr>\n",
       "      <th>Masculino</th>\n",
       "      <td>256</td>\n",
       "      <td>22194</td>\n",
       "      <td>5502</td>\n",
       "      <td>235</td>\n",
       "      <td>25063</td>\n",
       "    </tr>\n",
       "    <tr>\n",
       "      <th>Feminino</th>\n",
       "      <td>101</td>\n",
       "      <td>9621</td>\n",
       "      <td>2889</td>\n",
       "      <td>117</td>\n",
       "      <td>10862</td>\n",
       "    </tr>\n",
       "  </tbody>\n",
       "</table>\n",
       "</div>"
      ],
      "text/plain": [
       "Cor        Indígena  Branca  Preta  Amarela  Parda\n",
       "Sexo                                              \n",
       "Masculino       256   22194   5502      235  25063\n",
       "Feminino        101    9621   2889      117  10862"
      ]
     },
     "execution_count": 15,
     "metadata": {},
     "output_type": "execute_result"
    }
   ],
   "source": [
    "frequencia = pd.crosstab(dados.Sexo,\n",
    "                         dados.Cor)\n",
    "frequencia.rename(index = sexo, inplace = True)\n",
    "frequencia.rename(columns = cor, inplace = True)\n",
    "frequencia"
   ]
  },
  {
   "cell_type": "markdown",
   "id": "c2317d95",
   "metadata": {},
   "source": [
    "- Para incluir linha e coluna com subtotal, basta atribuir True ao parâmetro margins"
   ]
  },
  {
   "cell_type": "code",
   "execution_count": 16,
   "id": "35f22a0c",
   "metadata": {},
   "outputs": [
    {
     "data": {
      "application/vnd.microsoft.datawrangler.viewer.v0+json": {
       "columns": [
        {
         "name": "Sexo",
         "rawType": "object",
         "type": "string"
        },
        {
         "name": "Indígena",
         "rawType": "int64",
         "type": "integer"
        },
        {
         "name": "Branca",
         "rawType": "int64",
         "type": "integer"
        },
        {
         "name": "Preta",
         "rawType": "int64",
         "type": "integer"
        },
        {
         "name": "Amarela",
         "rawType": "int64",
         "type": "integer"
        },
        {
         "name": "Parda",
         "rawType": "int64",
         "type": "integer"
        },
        {
         "name": "All",
         "rawType": "int64",
         "type": "integer"
        }
       ],
       "ref": "558505f7-5f46-4d81-b7d2-0862e75a13e1",
       "rows": [
        [
         "Masculino",
         "256",
         "22194",
         "5502",
         "235",
         "25063",
         "53250"
        ],
        [
         "Feminino",
         "101",
         "9621",
         "2889",
         "117",
         "10862",
         "23590"
        ],
        [
         "All",
         "357",
         "31815",
         "8391",
         "352",
         "35925",
         "76840"
        ]
       ],
       "shape": {
        "columns": 6,
        "rows": 3
       }
      },
      "text/html": [
       "<div>\n",
       "<style scoped>\n",
       "    .dataframe tbody tr th:only-of-type {\n",
       "        vertical-align: middle;\n",
       "    }\n",
       "\n",
       "    .dataframe tbody tr th {\n",
       "        vertical-align: top;\n",
       "    }\n",
       "\n",
       "    .dataframe thead th {\n",
       "        text-align: right;\n",
       "    }\n",
       "</style>\n",
       "<table border=\"1\" class=\"dataframe\">\n",
       "  <thead>\n",
       "    <tr style=\"text-align: right;\">\n",
       "      <th>Cor</th>\n",
       "      <th>Indígena</th>\n",
       "      <th>Branca</th>\n",
       "      <th>Preta</th>\n",
       "      <th>Amarela</th>\n",
       "      <th>Parda</th>\n",
       "      <th>All</th>\n",
       "    </tr>\n",
       "    <tr>\n",
       "      <th>Sexo</th>\n",
       "      <th></th>\n",
       "      <th></th>\n",
       "      <th></th>\n",
       "      <th></th>\n",
       "      <th></th>\n",
       "      <th></th>\n",
       "    </tr>\n",
       "  </thead>\n",
       "  <tbody>\n",
       "    <tr>\n",
       "      <th>Masculino</th>\n",
       "      <td>256</td>\n",
       "      <td>22194</td>\n",
       "      <td>5502</td>\n",
       "      <td>235</td>\n",
       "      <td>25063</td>\n",
       "      <td>53250</td>\n",
       "    </tr>\n",
       "    <tr>\n",
       "      <th>Feminino</th>\n",
       "      <td>101</td>\n",
       "      <td>9621</td>\n",
       "      <td>2889</td>\n",
       "      <td>117</td>\n",
       "      <td>10862</td>\n",
       "      <td>23590</td>\n",
       "    </tr>\n",
       "    <tr>\n",
       "      <th>All</th>\n",
       "      <td>357</td>\n",
       "      <td>31815</td>\n",
       "      <td>8391</td>\n",
       "      <td>352</td>\n",
       "      <td>35925</td>\n",
       "      <td>76840</td>\n",
       "    </tr>\n",
       "  </tbody>\n",
       "</table>\n",
       "</div>"
      ],
      "text/plain": [
       "Cor        Indígena  Branca  Preta  Amarela  Parda    All\n",
       "Sexo                                                     \n",
       "Masculino       256   22194   5502      235  25063  53250\n",
       "Feminino        101    9621   2889      117  10862  23590\n",
       "All             357   31815   8391      352  35925  76840"
      ]
     },
     "execution_count": 16,
     "metadata": {},
     "output_type": "execute_result"
    }
   ],
   "source": [
    "frequencia_sub = pd.crosstab(dados.Sexo,\n",
    "                         dados.Cor, margins=True)\n",
    "frequencia_sub.rename(index = sexo, inplace = True)\n",
    "frequencia_sub.rename(columns = cor, inplace = True)\n",
    "frequencia_sub"
   ]
  },
  {
   "cell_type": "markdown",
   "id": "666063ed",
   "metadata": {},
   "source": [
    "- Outra opção é utilizar o método pivot_table é parecida com a crosstab"
   ]
  },
  {
   "cell_type": "code",
   "execution_count": 17,
   "id": "8aca1056",
   "metadata": {},
   "outputs": [
    {
     "data": {
      "application/vnd.microsoft.datawrangler.viewer.v0+json": {
       "columns": [
        {
         "name": "Sexo",
         "rawType": "object",
         "type": "string"
        },
        {
         "name": "Indígena",
         "rawType": "int64",
         "type": "integer"
        },
        {
         "name": "Branca",
         "rawType": "int64",
         "type": "integer"
        },
        {
         "name": "Preta",
         "rawType": "int64",
         "type": "integer"
        },
        {
         "name": "Amarela",
         "rawType": "int64",
         "type": "integer"
        },
        {
         "name": "Parda",
         "rawType": "int64",
         "type": "integer"
        }
       ],
       "ref": "160014b9-6e5f-4677-90d1-4912de851200",
       "rows": [
        [
         "Masculino",
         "256",
         "22194",
         "5502",
         "235",
         "25063"
        ],
        [
         "Feminino",
         "101",
         "9621",
         "2889",
         "117",
         "10862"
        ]
       ],
       "shape": {
        "columns": 5,
        "rows": 2
       }
      },
      "text/html": [
       "<div>\n",
       "<style scoped>\n",
       "    .dataframe tbody tr th:only-of-type {\n",
       "        vertical-align: middle;\n",
       "    }\n",
       "\n",
       "    .dataframe tbody tr th {\n",
       "        vertical-align: top;\n",
       "    }\n",
       "\n",
       "    .dataframe thead th {\n",
       "        text-align: right;\n",
       "    }\n",
       "</style>\n",
       "<table border=\"1\" class=\"dataframe\">\n",
       "  <thead>\n",
       "    <tr style=\"text-align: right;\">\n",
       "      <th>Cor</th>\n",
       "      <th>Indígena</th>\n",
       "      <th>Branca</th>\n",
       "      <th>Preta</th>\n",
       "      <th>Amarela</th>\n",
       "      <th>Parda</th>\n",
       "    </tr>\n",
       "    <tr>\n",
       "      <th>Sexo</th>\n",
       "      <th></th>\n",
       "      <th></th>\n",
       "      <th></th>\n",
       "      <th></th>\n",
       "      <th></th>\n",
       "    </tr>\n",
       "  </thead>\n",
       "  <tbody>\n",
       "    <tr>\n",
       "      <th>Masculino</th>\n",
       "      <td>256</td>\n",
       "      <td>22194</td>\n",
       "      <td>5502</td>\n",
       "      <td>235</td>\n",
       "      <td>25063</td>\n",
       "    </tr>\n",
       "    <tr>\n",
       "      <th>Feminino</th>\n",
       "      <td>101</td>\n",
       "      <td>9621</td>\n",
       "      <td>2889</td>\n",
       "      <td>117</td>\n",
       "      <td>10862</td>\n",
       "    </tr>\n",
       "  </tbody>\n",
       "</table>\n",
       "</div>"
      ],
      "text/plain": [
       "Cor        Indígena  Branca  Preta  Amarela  Parda\n",
       "Sexo                                              \n",
       "Masculino       256   22194   5502      235  25063\n",
       "Feminino        101    9621   2889      117  10862"
      ]
     },
     "execution_count": 17,
     "metadata": {},
     "output_type": "execute_result"
    }
   ],
   "source": [
    "frequencia_sub = pd.pivot_table(dados, \n",
    "                        index=[\"Sexo\"], \n",
    "                        columns=[\"Cor\"], \n",
    "                        aggfunc='size',\n",
    "                        fill_value=0)\n",
    "frequencia_sub.rename(index = sexo, inplace = True)\n",
    "frequencia_sub.rename(columns = cor, inplace = True)\n",
    "frequencia_sub"
   ]
  },
  {
   "cell_type": "code",
   "execution_count": 18,
   "id": "6de00cfd",
   "metadata": {},
   "outputs": [
    {
     "data": {
      "text/plain": [
       "<Axes: xlabel='Cor'>"
      ]
     },
     "execution_count": 18,
     "metadata": {},
     "output_type": "execute_result"
    },
    {
     "data": {
      "image/png": "[encoded data removed]",
      "text/plain": [
       "<Figure size 640x480 with 1 Axes>"
      ]
     },
     "metadata": {},
     "output_type": "display_data"
    }
   ],
   "source": [
    "frequencia.T.plot.bar(rot=0)"
   ]
  },
  {
   "cell_type": "code",
   "execution_count": 19,
   "id": "8c7c6c9a",
   "metadata": {},
   "outputs": [
    {
     "data": {
      "text/plain": [
       "<Axes: xlabel='Cor', ylabel='Sexo'>"
      ]
     },
     "execution_count": 19,
     "metadata": {},
     "output_type": "execute_result"
    },
    {
     "data": {
      "image/png": "[encoded data removed]",
      "text/plain": [
       "<Figure size 640x480 with 2 Axes>"
      ]
     },
     "metadata": {},
     "output_type": "display_data"
    }
   ],
   "source": [
    "sns.heatmap(frequencia, annot = True, fmt = 'g')"
   ]
  },
  {
   "cell_type": "markdown",
   "id": "e380a25f",
   "metadata": {},
   "source": [
    "- Calculando o percentual de pessoas por gênero de cada etnia"
   ]
  },
  {
   "cell_type": "code",
   "execution_count": 20,
   "id": "7f32e4f5",
   "metadata": {},
   "outputs": [
    {
     "data": {
      "application/vnd.microsoft.datawrangler.viewer.v0+json": {
       "columns": [
        {
         "name": "Sexo",
         "rawType": "object",
         "type": "string"
        },
        {
         "name": "Indígena",
         "rawType": "float64",
         "type": "float"
        },
        {
         "name": "Branca",
         "rawType": "float64",
         "type": "float"
        },
        {
         "name": "Preta",
         "rawType": "float64",
         "type": "float"
        },
        {
         "name": "Amarela",
         "rawType": "float64",
         "type": "float"
        },
        {
         "name": "Parda",
         "rawType": "float64",
         "type": "float"
        }
       ],
       "ref": "00fd7a76-10e0-4a5f-b18b-97b7658dda39",
       "rows": [
        [
         "Masculino",
         "0.3331598125976054",
         "28.88339406559084",
         "7.160333159812597",
         "0.3058302967204581",
         "32.61712649661634"
        ],
        [
         "Feminino",
         "0.13144195731389902",
         "12.520822488287351",
         "3.7597605413846957",
         "0.15226444560124935",
         "14.135866736074961"
        ]
       ],
       "shape": {
        "columns": 5,
        "rows": 2
       }
      },
      "text/html": [
       "<div>\n",
       "<style scoped>\n",
       "    .dataframe tbody tr th:only-of-type {\n",
       "        vertical-align: middle;\n",
       "    }\n",
       "\n",
       "    .dataframe tbody tr th {\n",
       "        vertical-align: top;\n",
       "    }\n",
       "\n",
       "    .dataframe thead th {\n",
       "        text-align: right;\n",
       "    }\n",
       "</style>\n",
       "<table border=\"1\" class=\"dataframe\">\n",
       "  <thead>\n",
       "    <tr style=\"text-align: right;\">\n",
       "      <th>Cor</th>\n",
       "      <th>Indígena</th>\n",
       "      <th>Branca</th>\n",
       "      <th>Preta</th>\n",
       "      <th>Amarela</th>\n",
       "      <th>Parda</th>\n",
       "    </tr>\n",
       "    <tr>\n",
       "      <th>Sexo</th>\n",
       "      <th></th>\n",
       "      <th></th>\n",
       "      <th></th>\n",
       "      <th></th>\n",
       "      <th></th>\n",
       "    </tr>\n",
       "  </thead>\n",
       "  <tbody>\n",
       "    <tr>\n",
       "      <th>Masculino</th>\n",
       "      <td>0.333160</td>\n",
       "      <td>28.883394</td>\n",
       "      <td>7.160333</td>\n",
       "      <td>0.305830</td>\n",
       "      <td>32.617126</td>\n",
       "    </tr>\n",
       "    <tr>\n",
       "      <th>Feminino</th>\n",
       "      <td>0.131442</td>\n",
       "      <td>12.520822</td>\n",
       "      <td>3.759761</td>\n",
       "      <td>0.152264</td>\n",
       "      <td>14.135867</td>\n",
       "    </tr>\n",
       "  </tbody>\n",
       "</table>\n",
       "</div>"
      ],
      "text/plain": [
       "Cor        Indígena     Branca     Preta   Amarela      Parda\n",
       "Sexo                                                         \n",
       "Masculino  0.333160  28.883394  7.160333  0.305830  32.617126\n",
       "Feminino   0.131442  12.520822  3.759761  0.152264  14.135867"
      ]
     },
     "execution_count": 20,
     "metadata": {},
     "output_type": "execute_result"
    }
   ],
   "source": [
    "percentual = pd.crosstab(dados.Sexo,\n",
    "                         dados.Cor,\n",
    "                         normalize = True) * 100\n",
    "percentual.rename(index = sexo, inplace = True)\n",
    "percentual.rename(columns = cor, inplace = True)\n",
    "percentual"
   ]
  },
  {
   "cell_type": "markdown",
   "id": "01f0ad98",
   "metadata": {},
   "source": [
    "- Calculando a renda média do genero de cada etnia"
   ]
  },
  {
   "cell_type": "code",
   "execution_count": 21,
   "id": "477d47b0",
   "metadata": {},
   "outputs": [
    {
     "data": {
      "application/vnd.microsoft.datawrangler.viewer.v0+json": {
       "columns": [
        {
         "name": "Sexo",
         "rawType": "object",
         "type": "string"
        },
        {
         "name": "Indígena",
         "rawType": "float64",
         "type": "float"
        },
        {
         "name": "Branca",
         "rawType": "float64",
         "type": "float"
        },
        {
         "name": "Preta",
         "rawType": "float64",
         "type": "float"
        },
        {
         "name": "Amarela",
         "rawType": "float64",
         "type": "float"
        },
        {
         "name": "Parda",
         "rawType": "float64",
         "type": "float"
        }
       ],
       "ref": "01a9af15-e542-4fc2-b00f-1ed74024fde1",
       "rows": [
        [
         "Masculino",
         "1081.7109375",
         "2925.744435433",
         "1603.8616866593966",
         "4758.251063829787",
         "1659.577424889279"
        ],
        [
         "Feminino",
         "2464.3861386138615",
         "2109.866749818106",
         "1134.5964001384561",
         "3027.3418803418804",
         "1176.7585159270852"
        ]
       ],
       "shape": {
        "columns": 5,
        "rows": 2
       }
      },
      "text/html": [
       "<div>\n",
       "<style scoped>\n",
       "    .dataframe tbody tr th:only-of-type {\n",
       "        vertical-align: middle;\n",
       "    }\n",
       "\n",
       "    .dataframe tbody tr th {\n",
       "        vertical-align: top;\n",
       "    }\n",
       "\n",
       "    .dataframe thead th {\n",
       "        text-align: right;\n",
       "    }\n",
       "</style>\n",
       "<table border=\"1\" class=\"dataframe\">\n",
       "  <thead>\n",
       "    <tr style=\"text-align: right;\">\n",
       "      <th>Cor</th>\n",
       "      <th>Indígena</th>\n",
       "      <th>Branca</th>\n",
       "      <th>Preta</th>\n",
       "      <th>Amarela</th>\n",
       "      <th>Parda</th>\n",
       "    </tr>\n",
       "    <tr>\n",
       "      <th>Sexo</th>\n",
       "      <th></th>\n",
       "      <th></th>\n",
       "      <th></th>\n",
       "      <th></th>\n",
       "      <th></th>\n",
       "    </tr>\n",
       "  </thead>\n",
       "  <tbody>\n",
       "    <tr>\n",
       "      <th>Masculino</th>\n",
       "      <td>1081.710938</td>\n",
       "      <td>2925.744435</td>\n",
       "      <td>1603.861687</td>\n",
       "      <td>4758.251064</td>\n",
       "      <td>1659.577425</td>\n",
       "    </tr>\n",
       "    <tr>\n",
       "      <th>Feminino</th>\n",
       "      <td>2464.386139</td>\n",
       "      <td>2109.866750</td>\n",
       "      <td>1134.596400</td>\n",
       "      <td>3027.341880</td>\n",
       "      <td>1176.758516</td>\n",
       "    </tr>\n",
       "  </tbody>\n",
       "</table>\n",
       "</div>"
      ],
      "text/plain": [
       "Cor           Indígena       Branca        Preta      Amarela        Parda\n",
       "Sexo                                                                      \n",
       "Masculino  1081.710938  2925.744435  1603.861687  4758.251064  1659.577425\n",
       "Feminino   2464.386139  2109.866750  1134.596400  3027.341880  1176.758516"
      ]
     },
     "execution_count": 21,
     "metadata": {},
     "output_type": "execute_result"
    }
   ],
   "source": [
    "percentual = pd.crosstab(dados.Sexo,\n",
    "                         dados.Cor,\n",
    "                         aggfunc = 'mean',\n",
    "                         values = dados.Renda)\n",
    "percentual.rename(index = sexo, inplace = True)\n",
    "percentual.rename(columns = cor, inplace = True)\n",
    "percentual"
   ]
  },
  {
   "cell_type": "code",
   "execution_count": 22,
   "id": "25af4698",
   "metadata": {},
   "outputs": [
    {
     "data": {
      "text/plain": [
       "<Axes: xlabel='Cor'>"
      ]
     },
     "execution_count": 22,
     "metadata": {},
     "output_type": "execute_result"
    },
    {
     "data": {
      "image/png": "[encoded data removed]",
      "text/plain": [
       "<Figure size 640x480 with 1 Axes>"
      ]
     },
     "metadata": {},
     "output_type": "display_data"
    }
   ],
   "source": [
    "percentual.T.plot.bar(rot=0)"
   ]
  },
  {
   "cell_type": "markdown",
   "id": "f85df305",
   "metadata": {},
   "source": [
    "### Distribuição de frequências para variáveis quantitativas (classes personalizadas)"
   ]
  },
  {
   "cell_type": "markdown",
   "id": "6dee1095",
   "metadata": {},
   "source": [
    "Passo 1 - Especificar os limites de cada classe\n",
    "\n",
    "Utilizar a seguinte classificação de salário mínimo (SM):\n",
    "\n",
    "A ► Acima de 20 SM\n",
    "\n",
    "B ► De 10 a 20 SM\n",
    "\n",
    "C ► De 4 a 10 SM\n",
    "\n",
    "D ► De 2 a 4 SM\n",
    "\n",
    "E ► Até 2 SM\n",
    "\n",
    "onde SM é o valor do salário mínimo na época. Em nosso caso <b>R$ 788,00</b> (2015):\n",
    "\n",
    "A ► Acima de 15.760\n",
    "\n",
    "B ► De 7.880 a 15.760\n",
    "\n",
    "C ► De 3.152 a 7.880\n",
    "\n",
    "D ► De 1.576 a 3.152\n",
    "\n",
    "E ► Até 1.576"
   ]
  },
  {
   "cell_type": "code",
   "execution_count": 23,
   "id": "b057a2e9",
   "metadata": {},
   "outputs": [
    {
     "data": {
      "text/plain": [
       "0"
      ]
     },
     "execution_count": 23,
     "metadata": {},
     "output_type": "execute_result"
    }
   ],
   "source": [
    "min(dados[\"Renda\"])"
   ]
  },
  {
   "cell_type": "code",
   "execution_count": 24,
   "id": "053f446e",
   "metadata": {},
   "outputs": [
    {
     "data": {
      "text/plain": [
       "200000"
      ]
     },
     "execution_count": 24,
     "metadata": {},
     "output_type": "execute_result"
    }
   ],
   "source": [
    "max(dados[\"Renda\"])"
   ]
  },
  {
   "cell_type": "markdown",
   "id": "37f04972",
   "metadata": {},
   "source": [
    "Passo 2 - Criar a tabela de frequências"
   ]
  },
  {
   "cell_type": "markdown",
   "id": "c833d0e1",
   "metadata": {},
   "source": [
    "- Definindo classes de rendas"
   ]
  },
  {
   "cell_type": "code",
   "execution_count": 25,
   "id": "a91653f6",
   "metadata": {
    "colab": {},
    "colab_type": "code",
    "id": "Qt5F5w2UjQLg"
   },
   "outputs": [],
   "source": [
    "classes = [0, 1576, 3152, 7880, 15760, 200000]\n",
    "labels = ['E', 'D', 'C', 'B', 'A']"
   ]
  },
  {
   "cell_type": "markdown",
   "id": "33e2b059",
   "metadata": {},
   "source": [
    "- Contabilizando a quantidade de pessoas de cada classe de renda"
   ]
  },
  {
   "cell_type": "code",
   "execution_count": 26,
   "id": "dfb8804a",
   "metadata": {},
   "outputs": [
    {
     "data": {
      "application/vnd.microsoft.datawrangler.viewer.v0+json": {
       "columns": [
        {
         "name": "Renda",
         "rawType": "category",
         "type": "unknown"
        },
        {
         "name": "count",
         "rawType": "int64",
         "type": "integer"
        }
       ],
       "ref": "866d7901-da11-4d4d-995b-4e0c2e138333",
       "rows": [
        [
         "E",
         "49755"
        ],
        [
         "D",
         "16700"
        ],
        [
         "C",
         "7599"
        ],
        [
         "B",
         "2178"
        ],
        [
         "A",
         "608"
        ]
       ],
       "shape": {
        "columns": 1,
        "rows": 5
       }
      },
      "text/plain": [
       "Renda\n",
       "E    49755\n",
       "D    16700\n",
       "C     7599\n",
       "B     2178\n",
       "A      608\n",
       "Name: count, dtype: int64"
      ]
     },
     "execution_count": 26,
     "metadata": {},
     "output_type": "execute_result"
    }
   ],
   "source": [
    "frequencia = pd.value_counts(\n",
    "    pd.cut(x = dados.Renda,\n",
    "               bins = classes,\n",
    "               labels = labels,\n",
    "               include_lowest = True)\n",
    ")\n",
    "frequencia"
   ]
  },
  {
   "cell_type": "markdown",
   "id": "63220e88",
   "metadata": {},
   "source": [
    "- Contabilizando a porcentagem de pessoas de cada classe de renda"
   ]
  },
  {
   "cell_type": "code",
   "execution_count": 27,
   "id": "994cbe41",
   "metadata": {},
   "outputs": [
    {
     "data": {
      "application/vnd.microsoft.datawrangler.viewer.v0+json": {
       "columns": [
        {
         "name": "Renda",
         "rawType": "category",
         "type": "unknown"
        },
        {
         "name": "proportion",
         "rawType": "float64",
         "type": "float"
        }
       ],
       "ref": "b0745cfd-da7a-4361-a762-140ef75631bf",
       "rows": [
        [
         "E",
         "64.75143154606975"
        ],
        [
         "D",
         "21.733472149921916"
        ],
        [
         "C",
         "9.889380530973451"
        ],
        [
         "B",
         "2.834461218115565"
        ],
        [
         "A",
         "0.7912545549193128"
        ]
       ],
       "shape": {
        "columns": 1,
        "rows": 5
       }
      },
      "text/plain": [
       "Renda\n",
       "E    64.751432\n",
       "D    21.733472\n",
       "C     9.889381\n",
       "B     2.834461\n",
       "A     0.791255\n",
       "Name: proportion, dtype: float64"
      ]
     },
     "execution_count": 27,
     "metadata": {},
     "output_type": "execute_result"
    }
   ],
   "source": [
    "percentual = pd.value_counts(\n",
    "    pd.cut(x = dados.Renda,\n",
    "               bins = classes,\n",
    "               labels = labels,\n",
    "               include_lowest = True),\n",
    "    normalize = True\n",
    ")*100\n",
    "percentual"
   ]
  },
  {
   "cell_type": "code",
   "execution_count": 28,
   "id": "80cf2052",
   "metadata": {},
   "outputs": [
    {
     "data": {
      "application/vnd.microsoft.datawrangler.viewer.v0+json": {
       "columns": [
        {
         "name": "Renda",
         "rawType": "category",
         "type": "unknown"
        },
        {
         "name": "Frequência",
         "rawType": "int64",
         "type": "integer"
        },
        {
         "name": "Porcentagem (%)",
         "rawType": "float64",
         "type": "float"
        }
       ],
       "ref": "529659aa-b6e3-4d0a-a0b9-3ce344fefbe9",
       "rows": [
        [
         "A",
         "608",
         "0.7912545549193128"
        ],
        [
         "B",
         "2178",
         "2.834461218115565"
        ],
        [
         "C",
         "7599",
         "9.889380530973451"
        ],
        [
         "D",
         "16700",
         "21.733472149921916"
        ],
        [
         "E",
         "49755",
         "64.75143154606975"
        ]
       ],
       "shape": {
        "columns": 2,
        "rows": 5
       }
      },
      "text/html": [
       "<div>\n",
       "<style scoped>\n",
       "    .dataframe tbody tr th:only-of-type {\n",
       "        vertical-align: middle;\n",
       "    }\n",
       "\n",
       "    .dataframe tbody tr th {\n",
       "        vertical-align: top;\n",
       "    }\n",
       "\n",
       "    .dataframe thead th {\n",
       "        text-align: right;\n",
       "    }\n",
       "</style>\n",
       "<table border=\"1\" class=\"dataframe\">\n",
       "  <thead>\n",
       "    <tr style=\"text-align: right;\">\n",
       "      <th></th>\n",
       "      <th>Frequência</th>\n",
       "      <th>Porcentagem (%)</th>\n",
       "    </tr>\n",
       "    <tr>\n",
       "      <th>Renda</th>\n",
       "      <th></th>\n",
       "      <th></th>\n",
       "    </tr>\n",
       "  </thead>\n",
       "  <tbody>\n",
       "    <tr>\n",
       "      <th>A</th>\n",
       "      <td>608</td>\n",
       "      <td>0.791255</td>\n",
       "    </tr>\n",
       "    <tr>\n",
       "      <th>B</th>\n",
       "      <td>2178</td>\n",
       "      <td>2.834461</td>\n",
       "    </tr>\n",
       "    <tr>\n",
       "      <th>C</th>\n",
       "      <td>7599</td>\n",
       "      <td>9.889381</td>\n",
       "    </tr>\n",
       "    <tr>\n",
       "      <th>D</th>\n",
       "      <td>16700</td>\n",
       "      <td>21.733472</td>\n",
       "    </tr>\n",
       "    <tr>\n",
       "      <th>E</th>\n",
       "      <td>49755</td>\n",
       "      <td>64.751432</td>\n",
       "    </tr>\n",
       "  </tbody>\n",
       "</table>\n",
       "</div>"
      ],
      "text/plain": [
       "       Frequência  Porcentagem (%)\n",
       "Renda                             \n",
       "A             608         0.791255\n",
       "B            2178         2.834461\n",
       "C            7599         9.889381\n",
       "D           16700        21.733472\n",
       "E           49755        64.751432"
      ]
     },
     "execution_count": 28,
     "metadata": {},
     "output_type": "execute_result"
    }
   ],
   "source": [
    "dist_freq_quantitativas_personalizadas = pd.DataFrame(\n",
    "    {'Frequência': frequencia, 'Porcentagem (%)': percentual}\n",
    ")\n",
    "dist_freq_quantitativas_personalizadas.sort_index(ascending = False)"
   ]
  },
  {
   "cell_type": "code",
   "execution_count": 29,
   "id": "accd06de",
   "metadata": {},
   "outputs": [
    {
     "data": {
      "text/plain": [
       "<Axes: ylabel='Renda'>"
      ]
     },
     "execution_count": 29,
     "metadata": {},
     "output_type": "execute_result"
    },
    {
     "data": {
      "image/png": "[encoded data removed]",
      "text/plain": [
       "<Figure size 640x480 with 1 Axes>"
      ]
     },
     "metadata": {},
     "output_type": "display_data"
    }
   ],
   "source": [
    "dist_freq_quantitativas_personalizadas['Frequência'].plot.barh(rot=0)"
   ]
  },
  {
   "cell_type": "markdown",
   "id": "afe8e86d",
   "metadata": {},
   "source": [
    "### Distribuição de frequências para variáveis quantitativas (classes de amplitude fixa)"
   ]
  },
  {
   "cell_type": "markdown",
   "id": "21c05a26",
   "metadata": {},
   "source": [
    "#### Definindo o número de classes"
   ]
  },
  {
   "cell_type": "markdown",
   "id": "60172995",
   "metadata": {},
   "source": [
    "##### Regra de Sturges\n",
    " $$k = 1 + \\frac {10}{3}\\log_{10}n$$"
   ]
  },
  {
   "cell_type": "code",
   "execution_count": 30,
   "id": "130af8f2",
   "metadata": {},
   "outputs": [
    {
     "data": {
      "text/plain": [
       "76840"
      ]
     },
     "execution_count": 30,
     "metadata": {},
     "output_type": "execute_result"
    }
   ],
   "source": [
    "n = dados.shape[0]\n",
    "n"
   ]
  },
  {
   "cell_type": "code",
   "execution_count": 31,
   "id": "2cedb620",
   "metadata": {},
   "outputs": [
    {
     "data": {
      "text/plain": [
       "17"
      ]
     },
     "execution_count": 31,
     "metadata": {},
     "output_type": "execute_result"
    }
   ],
   "source": [
    "k = 1 + (10 /3) * np.log10(n)\n",
    "k = int(k.round(0))\n",
    "k"
   ]
  },
  {
   "cell_type": "markdown",
   "id": "461cddce",
   "metadata": {},
   "source": [
    "#### Criar a tabela de frequências"
   ]
  },
  {
   "cell_type": "code",
   "execution_count": 32,
   "id": "ebc60956",
   "metadata": {},
   "outputs": [],
   "source": [
    "frequencia = pd.value_counts(\n",
    "  pd.cut(\n",
    "    x = dados.Renda,\n",
    "    bins = 17,\n",
    "    include_lowest = True\n",
    "  ),\n",
    "  sort = False\n",
    ")"
   ]
  },
  {
   "cell_type": "code",
   "execution_count": 33,
   "id": "0ce84c5c",
   "metadata": {},
   "outputs": [
    {
     "data": {
      "application/vnd.microsoft.datawrangler.viewer.v0+json": {
       "columns": [
        {
         "name": "Renda",
         "rawType": "category",
         "type": "unknown"
        },
        {
         "name": "proportion",
         "rawType": "float64",
         "type": "float"
        }
       ],
       "ref": "a1f642ef-ceff-4aff-bcac-2a3ae95e024e",
       "rows": [
        [
         "(-200.001, 11764.706]",
         "98.37844872462259"
        ],
        [
         "(11764.706, 23529.412]",
         "1.3300364393545028"
        ],
        [
         "(23529.412, 35294.118]",
         "0.21993753253513795"
        ],
        [
         "(35294.118, 47058.824]",
         "0.024726704841228526"
        ],
        [
         "(47058.824, 58823.529]",
         "0.020822488287350338"
        ],
        [
         "(58823.529, 70588.235]",
         "0.006507027589796981"
        ],
        [
         "(70588.235, 82352.941]",
         "0.0052056220718375845"
        ],
        [
         "(82352.941, 94117.647]",
         "0.0013014055179593961"
        ],
        [
         "(94117.647, 105882.353]",
         "0.007808433107756377"
        ],
        [
         "(105882.353, 117647.059]",
         "0.0"
        ],
        [
         "(117647.059, 129411.765]",
         "0.0013014055179593961"
        ],
        [
         "(129411.765, 141176.471]",
         "0.0"
        ],
        [
         "(141176.471, 152941.176]",
         "0.0"
        ],
        [
         "(152941.176, 164705.882]",
         "0.0"
        ],
        [
         "(164705.882, 176470.588]",
         "0.0"
        ],
        [
         "(176470.588, 188235.294]",
         "0.0"
        ],
        [
         "(188235.294, 200000.0]",
         "0.0039042165538781884"
        ]
       ],
       "shape": {
        "columns": 1,
        "rows": 17
       }
      },
      "text/plain": [
       "Renda\n",
       "(-200.001, 11764.706]       98.378449\n",
       "(11764.706, 23529.412]       1.330036\n",
       "(23529.412, 35294.118]       0.219938\n",
       "(35294.118, 47058.824]       0.024727\n",
       "(47058.824, 58823.529]       0.020822\n",
       "(58823.529, 70588.235]       0.006507\n",
       "(70588.235, 82352.941]       0.005206\n",
       "(82352.941, 94117.647]       0.001301\n",
       "(94117.647, 105882.353]      0.007808\n",
       "(105882.353, 117647.059]     0.000000\n",
       "(117647.059, 129411.765]     0.001301\n",
       "(129411.765, 141176.471]     0.000000\n",
       "(141176.471, 152941.176]     0.000000\n",
       "(152941.176, 164705.882]     0.000000\n",
       "(164705.882, 176470.588]     0.000000\n",
       "(176470.588, 188235.294]     0.000000\n",
       "(188235.294, 200000.0]       0.003904\n",
       "Name: proportion, dtype: float64"
      ]
     },
     "execution_count": 33,
     "metadata": {},
     "output_type": "execute_result"
    }
   ],
   "source": [
    "percentual = pd.value_counts(\n",
    "  pd.cut(\n",
    "    x = dados.Renda,\n",
    "    bins = 17,\n",
    "    include_lowest = True\n",
    "  ),\n",
    "  sort = False,\n",
    "  normalize = True\n",
    ")*100\n",
    "percentual"
   ]
  },
  {
   "cell_type": "code",
   "execution_count": 34,
   "id": "e8553e5a",
   "metadata": {},
   "outputs": [
    {
     "data": {
      "application/vnd.microsoft.datawrangler.viewer.v0+json": {
       "columns": [
        {
         "name": "Renda",
         "rawType": "category",
         "type": "unknown"
        },
        {
         "name": "Frequência",
         "rawType": "int64",
         "type": "integer"
        },
        {
         "name": "Porcentagem (%)",
         "rawType": "float64",
         "type": "float"
        }
       ],
       "ref": "83336b55-ef87-4fd2-aaa3-0486efaadb28",
       "rows": [
        [
         "(-200.001, 11764.706]",
         "75594",
         "98.37844872462259"
        ],
        [
         "(11764.706, 23529.412]",
         "1022",
         "1.3300364393545028"
        ],
        [
         "(23529.412, 35294.118]",
         "169",
         "0.21993753253513795"
        ],
        [
         "(35294.118, 47058.824]",
         "19",
         "0.024726704841228526"
        ],
        [
         "(47058.824, 58823.529]",
         "16",
         "0.020822488287350338"
        ],
        [
         "(58823.529, 70588.235]",
         "5",
         "0.006507027589796981"
        ],
        [
         "(70588.235, 82352.941]",
         "4",
         "0.0052056220718375845"
        ],
        [
         "(82352.941, 94117.647]",
         "1",
         "0.0013014055179593961"
        ],
        [
         "(94117.647, 105882.353]",
         "6",
         "0.007808433107756377"
        ],
        [
         "(105882.353, 117647.059]",
         "0",
         "0.0"
        ],
        [
         "(117647.059, 129411.765]",
         "1",
         "0.0013014055179593961"
        ],
        [
         "(129411.765, 141176.471]",
         "0",
         "0.0"
        ],
        [
         "(141176.471, 152941.176]",
         "0",
         "0.0"
        ],
        [
         "(152941.176, 164705.882]",
         "0",
         "0.0"
        ],
        [
         "(164705.882, 176470.588]",
         "0",
         "0.0"
        ],
        [
         "(176470.588, 188235.294]",
         "0",
         "0.0"
        ],
        [
         "(188235.294, 200000.0]",
         "3",
         "0.0039042165538781884"
        ]
       ],
       "shape": {
        "columns": 2,
        "rows": 17
       }
      },
      "text/html": [
       "<div>\n",
       "<style scoped>\n",
       "    .dataframe tbody tr th:only-of-type {\n",
       "        vertical-align: middle;\n",
       "    }\n",
       "\n",
       "    .dataframe tbody tr th {\n",
       "        vertical-align: top;\n",
       "    }\n",
       "\n",
       "    .dataframe thead th {\n",
       "        text-align: right;\n",
       "    }\n",
       "</style>\n",
       "<table border=\"1\" class=\"dataframe\">\n",
       "  <thead>\n",
       "    <tr style=\"text-align: right;\">\n",
       "      <th></th>\n",
       "      <th>Frequência</th>\n",
       "      <th>Porcentagem (%)</th>\n",
       "    </tr>\n",
       "    <tr>\n",
       "      <th>Renda</th>\n",
       "      <th></th>\n",
       "      <th></th>\n",
       "    </tr>\n",
       "  </thead>\n",
       "  <tbody>\n",
       "    <tr>\n",
       "      <th>(-200.001, 11764.706]</th>\n",
       "      <td>75594</td>\n",
       "      <td>98.378449</td>\n",
       "    </tr>\n",
       "    <tr>\n",
       "      <th>(11764.706, 23529.412]</th>\n",
       "      <td>1022</td>\n",
       "      <td>1.330036</td>\n",
       "    </tr>\n",
       "    <tr>\n",
       "      <th>(23529.412, 35294.118]</th>\n",
       "      <td>169</td>\n",
       "      <td>0.219938</td>\n",
       "    </tr>\n",
       "    <tr>\n",
       "      <th>(35294.118, 47058.824]</th>\n",
       "      <td>19</td>\n",
       "      <td>0.024727</td>\n",
       "    </tr>\n",
       "    <tr>\n",
       "      <th>(47058.824, 58823.529]</th>\n",
       "      <td>16</td>\n",
       "      <td>0.020822</td>\n",
       "    </tr>\n",
       "    <tr>\n",
       "      <th>(58823.529, 70588.235]</th>\n",
       "      <td>5</td>\n",
       "      <td>0.006507</td>\n",
       "    </tr>\n",
       "    <tr>\n",
       "      <th>(70588.235, 82352.941]</th>\n",
       "      <td>4</td>\n",
       "      <td>0.005206</td>\n",
       "    </tr>\n",
       "    <tr>\n",
       "      <th>(82352.941, 94117.647]</th>\n",
       "      <td>1</td>\n",
       "      <td>0.001301</td>\n",
       "    </tr>\n",
       "    <tr>\n",
       "      <th>(94117.647, 105882.353]</th>\n",
       "      <td>6</td>\n",
       "      <td>0.007808</td>\n",
       "    </tr>\n",
       "    <tr>\n",
       "      <th>(105882.353, 117647.059]</th>\n",
       "      <td>0</td>\n",
       "      <td>0.000000</td>\n",
       "    </tr>\n",
       "    <tr>\n",
       "      <th>(117647.059, 129411.765]</th>\n",
       "      <td>1</td>\n",
       "      <td>0.001301</td>\n",
       "    </tr>\n",
       "    <tr>\n",
       "      <th>(129411.765, 141176.471]</th>\n",
       "      <td>0</td>\n",
       "      <td>0.000000</td>\n",
       "    </tr>\n",
       "    <tr>\n",
       "      <th>(141176.471, 152941.176]</th>\n",
       "      <td>0</td>\n",
       "      <td>0.000000</td>\n",
       "    </tr>\n",
       "    <tr>\n",
       "      <th>(152941.176, 164705.882]</th>\n",
       "      <td>0</td>\n",
       "      <td>0.000000</td>\n",
       "    </tr>\n",
       "    <tr>\n",
       "      <th>(164705.882, 176470.588]</th>\n",
       "      <td>0</td>\n",
       "      <td>0.000000</td>\n",
       "    </tr>\n",
       "    <tr>\n",
       "      <th>(176470.588, 188235.294]</th>\n",
       "      <td>0</td>\n",
       "      <td>0.000000</td>\n",
       "    </tr>\n",
       "    <tr>\n",
       "      <th>(188235.294, 200000.0]</th>\n",
       "      <td>3</td>\n",
       "      <td>0.003904</td>\n",
       "    </tr>\n",
       "  </tbody>\n",
       "</table>\n",
       "</div>"
      ],
      "text/plain": [
       "                          Frequência  Porcentagem (%)\n",
       "Renda                                                \n",
       "(-200.001, 11764.706]          75594        98.378449\n",
       "(11764.706, 23529.412]          1022         1.330036\n",
       "(23529.412, 35294.118]           169         0.219938\n",
       "(35294.118, 47058.824]            19         0.024727\n",
       "(47058.824, 58823.529]            16         0.020822\n",
       "(58823.529, 70588.235]             5         0.006507\n",
       "(70588.235, 82352.941]             4         0.005206\n",
       "(82352.941, 94117.647]             1         0.001301\n",
       "(94117.647, 105882.353]            6         0.007808\n",
       "(105882.353, 117647.059]           0         0.000000\n",
       "(117647.059, 129411.765]           1         0.001301\n",
       "(129411.765, 141176.471]           0         0.000000\n",
       "(141176.471, 152941.176]           0         0.000000\n",
       "(152941.176, 164705.882]           0         0.000000\n",
       "(164705.882, 176470.588]           0         0.000000\n",
       "(176470.588, 188235.294]           0         0.000000\n",
       "(188235.294, 200000.0]             3         0.003904"
      ]
     },
     "execution_count": 34,
     "metadata": {},
     "output_type": "execute_result"
    }
   ],
   "source": [
    "dist_freq_quantitativas_amplitude_fixa = pd.DataFrame(\n",
    "    {'Frequência': frequencia, 'Porcentagem (%)': percentual}\n",
    ")\n",
    "dist_freq_quantitativas_amplitude_fixa"
   ]
  },
  {
   "cell_type": "markdown",
   "id": "653f8c2c",
   "metadata": {},
   "source": [
    "### Histograma\n"
   ]
  },
  {
   "cell_type": "markdown",
   "id": "7990e8cd",
   "metadata": {},
   "source": [
    "- O <b>HISTOGRAMA</b> é a representação gráfica de uma distribuição de frequências. É uma gráfico formado por um conjunto de retângulos colocados lado a lado, onde a área de cada retângulo é proporcional à frequência da classe que ele representa."
   ]
  },
  {
   "cell_type": "code",
   "execution_count": 35,
   "id": "09c79119",
   "metadata": {},
   "outputs": [
    {
     "data": {
      "text/plain": [
       "<Axes: >"
      ]
     },
     "execution_count": 35,
     "metadata": {},
     "output_type": "execute_result"
    },
    {
     "data": {
      "image/png": "[encoded data removed]",
      "text/plain": [
       "<Figure size 1200x600 with 1 Axes>"
      ]
     },
     "metadata": {},
     "output_type": "display_data"
    }
   ],
   "source": [
    "dados.Altura.hist(bins = 50, figsize=(12,6))"
   ]
  },
  {
   "cell_type": "code",
   "execution_count": 36,
   "id": "dadc12ce",
   "metadata": {},
   "outputs": [
    {
     "data": {
      "text/plain": [
       "<Axes: title={'center': 'Distribuição de Frequências - Altura - KDE'}, xlabel='Metros', ylabel='Density'>"
      ]
     },
     "execution_count": 36,
     "metadata": {},
     "output_type": "execute_result"
    },
    {
     "data": {
      "image/png": "[encoded data removed]",
      "text/plain": [
       "<Figure size 1200x600 with 1 Axes>"
      ]
     },
     "metadata": {},
     "output_type": "display_data"
    }
   ],
   "source": [
    "ax = sns.distplot(dados.Altura)\n",
    "\n",
    "\n",
    "ax.figure.set_size_inches(12, 6)\n",
    "ax.set_title('Distribuição de Frequências - Altura - KDE', fontsize=18)\n",
    "ax.set_xlabel('Metros', fontsize=14)\n",
    "ax"
   ]
  },
  {
   "cell_type": "code",
   "execution_count": 37,
   "id": "830eba24",
   "metadata": {},
   "outputs": [
    {
     "data": {
      "text/plain": [
       "<Axes: xlabel='Renda'>"
      ]
     },
     "execution_count": 37,
     "metadata": {},
     "output_type": "execute_result"
    },
    {
     "data": {
      "image/png": "[encoded data removed]",
      "text/plain": [
       "<Figure size 1200x600 with 1 Axes>"
      ]
     },
     "metadata": {},
     "output_type": "display_data"
    }
   ],
   "source": [
    "dist_freq_quantitativas_personalizadas['Frequência'].plot.bar(width=1,color='blue',alpha=0.2,figsize=(12, 6))"
   ]
  },
  {
   "cell_type": "markdown",
   "id": "9f126d18",
   "metadata": {},
   "source": [
    "## <font color=green>3 Medidas de Tendência Central</font>"
   ]
  },
  {
   "cell_type": "markdown",
   "id": "55c13ec4",
   "metadata": {},
   "source": [
    "### Média aritmética"
   ]
  },
  {
   "cell_type": "markdown",
   "id": "6714d77c",
   "metadata": {},
   "source": [
    "- É representada por $\\mu$ quando se refere à população e por $\\bar{X}$ quando se refere à amostra"
   ]
  },
  {
   "cell_type": "markdown",
   "id": "aaa59aea",
   "metadata": {},
   "source": [
    "$$\\mu = \\frac 1n\\sum_{i=1}^{n}X_i$$\n",
    "\n",
    "onde \n",
    "\n",
    "$n$ = número de observações (registros)\n",
    "\n",
    "$X_i$ = valor da i-ésima observação (registro)"
   ]
  },
  {
   "cell_type": "code",
   "execution_count": 38,
   "id": "616bf700",
   "metadata": {},
   "outputs": [
    {
     "data": {
      "application/vnd.microsoft.datawrangler.viewer.v0+json": {
       "columns": [
        {
         "name": "index",
         "rawType": "int64",
         "type": "integer"
        },
        {
         "name": "UF",
         "rawType": "int64",
         "type": "integer"
        },
        {
         "name": "Sexo",
         "rawType": "int64",
         "type": "integer"
        },
        {
         "name": "Idade",
         "rawType": "int64",
         "type": "integer"
        },
        {
         "name": "Cor",
         "rawType": "int64",
         "type": "integer"
        },
        {
         "name": "Anos de Estudo",
         "rawType": "int64",
         "type": "integer"
        },
        {
         "name": "Renda",
         "rawType": "int64",
         "type": "integer"
        },
        {
         "name": "Altura",
         "rawType": "float64",
         "type": "float"
        }
       ],
       "ref": "d1d9e988-5250-4f96-81f6-376914d389be",
       "rows": [
        [
         "0",
         "11",
         "0",
         "23",
         "8",
         "12",
         "800",
         "1.603807616"
        ],
        [
         "1",
         "11",
         "1",
         "23",
         "2",
         "12",
         "1150",
         "1.739789827"
        ],
        [
         "2",
         "11",
         "1",
         "35",
         "8",
         "15",
         "880",
         "1.760443822"
        ],
        [
         "3",
         "11",
         "0",
         "46",
         "2",
         "6",
         "3500",
         "1.783157945"
        ],
        [
         "4",
         "11",
         "1",
         "47",
         "8",
         "9",
         "150",
         "1.690630954"
        ],
        [
         "5",
         "11",
         "1",
         "34",
         "8",
         "12",
         "790",
         "1.637905598"
        ],
        [
         "6",
         "11",
         "0",
         "57",
         "8",
         "12",
         "3150",
         "1.570078218"
        ],
        [
         "7",
         "11",
         "1",
         "60",
         "8",
         "12",
         "1700",
         "1.608495442"
        ],
        [
         "8",
         "11",
         "1",
         "50",
         "4",
         "14",
         "1800",
         "1.780328883"
        ],
        [
         "9",
         "11",
         "0",
         "26",
         "8",
         "12",
         "1150",
         "1.793202625"
        ],
        [
         "10",
         "11",
         "1",
         "46",
         "8",
         "12",
         "3000",
         "1.787003282"
        ],
        [
         "11",
         "11",
         "1",
         "49",
         "8",
         "6",
         "2500",
         "1.712911548"
        ],
        [
         "12",
         "11",
         "1",
         "52",
         "2",
         "6",
         "1200",
         "1.736442076"
        ],
        [
         "13",
         "11",
         "0",
         "38",
         "8",
         "12",
         "2000",
         "1.750826666"
        ],
        [
         "14",
         "11",
         "0",
         "45",
         "2",
         "12",
         "2000",
         "1.780450392"
        ],
        [
         "15",
         "11",
         "0",
         "34",
         "2",
         "16",
         "6000",
         "1.711825037"
        ],
        [
         "16",
         "11",
         "1",
         "43",
         "8",
         "10",
         "1050",
         "1.789011804"
        ],
        [
         "17",
         "11",
         "0",
         "53",
         "8",
         "16",
         "7000",
         "1.673665133"
        ],
        [
         "18",
         "11",
         "0",
         "57",
         "2",
         "12",
         "2000",
         "1.715137632"
        ],
        [
         "19",
         "11",
         "1",
         "62",
         "8",
         "12",
         "1150",
         "1.76597309"
        ],
        [
         "20",
         "11",
         "0",
         "69",
         "8",
         "1",
         "3030",
         "1.746351196"
        ],
        [
         "21",
         "11",
         "1",
         "41",
         "8",
         "16",
         "4000",
         "1.660873129"
        ],
        [
         "22",
         "11",
         "0",
         "34",
         "8",
         "5",
         "788",
         "1.746048026"
        ],
        [
         "23",
         "11",
         "0",
         "25",
         "8",
         "12",
         "1000",
         "1.726496158"
        ],
        [
         "24",
         "11",
         "0",
         "33",
         "8",
         "9",
         "800",
         "1.778913561"
        ],
        [
         "25",
         "11",
         "1",
         "44",
         "8",
         "5",
         "788",
         "1.668637941"
        ],
        [
         "26",
         "11",
         "0",
         "33",
         "2",
         "16",
         "1600",
         "1.783770601"
        ],
        [
         "27",
         "11",
         "0",
         "65",
         "2",
         "12",
         "1700",
         "1.873445247"
        ],
        [
         "28",
         "11",
         "0",
         "33",
         "8",
         "14",
         "2000",
         "1.890250314"
        ],
        [
         "29",
         "11",
         "0",
         "32",
         "8",
         "12",
         "2400",
         "1.660204145"
        ],
        [
         "30",
         "11",
         "0",
         "43",
         "8",
         "5",
         "3000",
         "1.636361741"
        ],
        [
         "31",
         "11",
         "0",
         "30",
         "8",
         "1",
         "920",
         "1.685590822"
        ],
        [
         "32",
         "11",
         "0",
         "26",
         "2",
         "10",
         "1300",
         "1.68402625"
        ],
        [
         "33",
         "11",
         "0",
         "52",
         "2",
         "15",
         "2000",
         "1.67104419"
        ],
        [
         "34",
         "11",
         "0",
         "62",
         "8",
         "1",
         "1300",
         "1.632129706"
        ],
        [
         "35",
         "11",
         "0",
         "64",
         "6",
         "5",
         "600",
         "1.712121503"
        ],
        [
         "36",
         "11",
         "0",
         "31",
         "8",
         "7",
         "1200",
         "1.763447989"
        ],
        [
         "37",
         "11",
         "0",
         "63",
         "2",
         "3",
         "1000",
         "1.694500204"
        ],
        [
         "38",
         "11",
         "1",
         "40",
         "2",
         "9",
         "1000",
         "1.705147683"
        ],
        [
         "39",
         "11",
         "0",
         "47",
         "4",
         "9",
         "1500",
         "1.672258066"
        ],
        [
         "40",
         "11",
         "0",
         "34",
         "2",
         "7",
         "900",
         "1.645452653"
        ],
        [
         "41",
         "11",
         "0",
         "33",
         "8",
         "6",
         "900",
         "1.814785789"
        ],
        [
         "42",
         "11",
         "0",
         "63",
         "8",
         "6",
         "0",
         "1.652746296"
        ],
        [
         "43",
         "11",
         "1",
         "40",
         "8",
         "2",
         "300",
         "1.757341995"
        ],
        [
         "44",
         "11",
         "0",
         "41",
         "8",
         "6",
         "1600",
         "1.611286043"
        ],
        [
         "45",
         "11",
         "0",
         "28",
         "2",
         "10",
         "1500",
         "1.693976403"
        ],
        [
         "46",
         "11",
         "1",
         "32",
         "8",
         "12",
         "750",
         "1.684819452"
        ],
        [
         "47",
         "11",
         "0",
         "44",
         "2",
         "1",
         "800",
         "1.701974845"
        ],
        [
         "48",
         "11",
         "1",
         "38",
         "2",
         "12",
         "3600",
         "1.599083153"
        ],
        [
         "49",
         "11",
         "0",
         "41",
         "2",
         "4",
         "1500",
         "1.646862718"
        ]
       ],
       "shape": {
        "columns": 7,
        "rows": 76840
       }
      },
      "text/html": [
       "<div>\n",
       "<style scoped>\n",
       "    .dataframe tbody tr th:only-of-type {\n",
       "        vertical-align: middle;\n",
       "    }\n",
       "\n",
       "    .dataframe tbody tr th {\n",
       "        vertical-align: top;\n",
       "    }\n",
       "\n",
       "    .dataframe thead th {\n",
       "        text-align: right;\n",
       "    }\n",
       "</style>\n",
       "<table border=\"1\" class=\"dataframe\">\n",
       "  <thead>\n",
       "    <tr style=\"text-align: right;\">\n",
       "      <th></th>\n",
       "      <th>UF</th>\n",
       "      <th>Sexo</th>\n",
       "      <th>Idade</th>\n",
       "      <th>Cor</th>\n",
       "      <th>Anos de Estudo</th>\n",
       "      <th>Renda</th>\n",
       "      <th>Altura</th>\n",
       "    </tr>\n",
       "  </thead>\n",
       "  <tbody>\n",
       "    <tr>\n",
       "      <th>0</th>\n",
       "      <td>11</td>\n",
       "      <td>0</td>\n",
       "      <td>23</td>\n",
       "      <td>8</td>\n",
       "      <td>12</td>\n",
       "      <td>800</td>\n",
       "      <td>1.603808</td>\n",
       "    </tr>\n",
       "    <tr>\n",
       "      <th>1</th>\n",
       "      <td>11</td>\n",
       "      <td>1</td>\n",
       "      <td>23</td>\n",
       "      <td>2</td>\n",
       "      <td>12</td>\n",
       "      <td>1150</td>\n",
       "      <td>1.739790</td>\n",
       "    </tr>\n",
       "    <tr>\n",
       "      <th>2</th>\n",
       "      <td>11</td>\n",
       "      <td>1</td>\n",
       "      <td>35</td>\n",
       "      <td>8</td>\n",
       "      <td>15</td>\n",
       "      <td>880</td>\n",
       "      <td>1.760444</td>\n",
       "    </tr>\n",
       "    <tr>\n",
       "      <th>3</th>\n",
       "      <td>11</td>\n",
       "      <td>0</td>\n",
       "      <td>46</td>\n",
       "      <td>2</td>\n",
       "      <td>6</td>\n",
       "      <td>3500</td>\n",
       "      <td>1.783158</td>\n",
       "    </tr>\n",
       "    <tr>\n",
       "      <th>4</th>\n",
       "      <td>11</td>\n",
       "      <td>1</td>\n",
       "      <td>47</td>\n",
       "      <td>8</td>\n",
       "      <td>9</td>\n",
       "      <td>150</td>\n",
       "      <td>1.690631</td>\n",
       "    </tr>\n",
       "    <tr>\n",
       "      <th>...</th>\n",
       "      <td>...</td>\n",
       "      <td>...</td>\n",
       "      <td>...</td>\n",
       "      <td>...</td>\n",
       "      <td>...</td>\n",
       "      <td>...</td>\n",
       "      <td>...</td>\n",
       "    </tr>\n",
       "    <tr>\n",
       "      <th>76835</th>\n",
       "      <td>53</td>\n",
       "      <td>1</td>\n",
       "      <td>46</td>\n",
       "      <td>2</td>\n",
       "      <td>11</td>\n",
       "      <td>812</td>\n",
       "      <td>1.687030</td>\n",
       "    </tr>\n",
       "    <tr>\n",
       "      <th>76836</th>\n",
       "      <td>53</td>\n",
       "      <td>0</td>\n",
       "      <td>30</td>\n",
       "      <td>4</td>\n",
       "      <td>7</td>\n",
       "      <td>1500</td>\n",
       "      <td>1.792934</td>\n",
       "    </tr>\n",
       "    <tr>\n",
       "      <th>76837</th>\n",
       "      <td>53</td>\n",
       "      <td>0</td>\n",
       "      <td>32</td>\n",
       "      <td>8</td>\n",
       "      <td>12</td>\n",
       "      <td>1300</td>\n",
       "      <td>1.830587</td>\n",
       "    </tr>\n",
       "    <tr>\n",
       "      <th>76838</th>\n",
       "      <td>53</td>\n",
       "      <td>0</td>\n",
       "      <td>57</td>\n",
       "      <td>8</td>\n",
       "      <td>4</td>\n",
       "      <td>1500</td>\n",
       "      <td>1.726344</td>\n",
       "    </tr>\n",
       "    <tr>\n",
       "      <th>76839</th>\n",
       "      <td>53</td>\n",
       "      <td>0</td>\n",
       "      <td>38</td>\n",
       "      <td>8</td>\n",
       "      <td>4</td>\n",
       "      <td>900</td>\n",
       "      <td>1.658305</td>\n",
       "    </tr>\n",
       "  </tbody>\n",
       "</table>\n",
       "<p>76840 rows × 7 columns</p>\n",
       "</div>"
      ],
      "text/plain": [
       "       UF  Sexo  Idade  Cor  Anos de Estudo  Renda    Altura\n",
       "0      11     0     23    8              12    800  1.603808\n",
       "1      11     1     23    2              12   1150  1.739790\n",
       "2      11     1     35    8              15    880  1.760444\n",
       "3      11     0     46    2               6   3500  1.783158\n",
       "4      11     1     47    8               9    150  1.690631\n",
       "...    ..   ...    ...  ...             ...    ...       ...\n",
       "76835  53     1     46    2              11    812  1.687030\n",
       "76836  53     0     30    4               7   1500  1.792934\n",
       "76837  53     0     32    8              12   1300  1.830587\n",
       "76838  53     0     57    8               4   1500  1.726344\n",
       "76839  53     0     38    8               4    900  1.658305\n",
       "\n",
       "[76840 rows x 7 columns]"
      ]
     },
     "execution_count": 38,
     "metadata": {},
     "output_type": "execute_result"
    }
   ],
   "source": [
    "dados"
   ]
  },
  {
   "cell_type": "code",
   "execution_count": 39,
   "id": "b65600a6",
   "metadata": {},
   "outputs": [
    {
     "data": {
      "text/plain": [
       "np.float64(2000.3831988547631)"
      ]
     },
     "execution_count": 39,
     "metadata": {},
     "output_type": "execute_result"
    }
   ],
   "source": [
    "dados.Renda.mean()"
   ]
  },
  {
   "cell_type": "code",
   "execution_count": 40,
   "id": "476412d0",
   "metadata": {},
   "outputs": [
    {
     "data": {
      "application/vnd.microsoft.datawrangler.viewer.v0+json": {
       "columns": [
        {
         "name": "Sexo",
         "rawType": "int64",
         "type": "integer"
        },
        {
         "name": "Renda",
         "rawType": "float64",
         "type": "float"
        }
       ],
       "ref": "65541394-2b05-4943-b995-fbdaae976d7f",
       "rows": [
        [
         "0",
         "2192.4415962441312"
        ],
        [
         "1",
         "1566.84739296312"
        ]
       ],
       "shape": {
        "columns": 1,
        "rows": 2
       }
      },
      "text/plain": [
       "Sexo\n",
       "0    2192.441596\n",
       "1    1566.847393\n",
       "Name: Renda, dtype: float64"
      ]
     },
     "execution_count": 40,
     "metadata": {},
     "output_type": "execute_result"
    }
   ],
   "source": [
    "dados.groupby(['Sexo'])['Renda'].mean()"
   ]
  },
  {
   "cell_type": "markdown",
   "id": "27466189",
   "metadata": {},
   "source": [
    "### Mediana"
   ]
  },
  {
   "cell_type": "markdown",
   "id": "2eb1a868",
   "metadata": {},
   "source": [
    "Para obtermos a mediana de uma conjunto de dados devemos proceder da seguinte maneira:\n",
    "1. Ordenar o conjunto de dados;\n",
    "2. Identificar o número de observações (registros) do conjunto de dados ($n$);\n",
    "3. Identicar o elemento mediano:\n",
    "\n",
    "> Quando $n$ for ímpar, a posição do elemento mediano será obtida da seguinte forma:\n",
    "\n",
    "$$Elemento_{Md} = \\frac{n+1}2$$\n",
    "\n",
    "$$Md = X_{Elemento_{Md}}$$\n",
    "\n",
    "> Quando $n$ for par, a posição do elemento mediano será obtida da seguinte forma:\n",
    "\n",
    "$$Elemento_{Md} = \\frac{n}2$$\n",
    "\n",
    "$$Md = \\frac{X_{Elemento_{Md}} + X_{Elemento_{Md}+1}}2$$"
   ]
  },
  {
   "cell_type": "code",
   "execution_count": 41,
   "id": "92d24eb1",
   "metadata": {},
   "outputs": [
    {
     "data": {
      "text/plain": [
       "np.float64(1200.0)"
      ]
     },
     "execution_count": 41,
     "metadata": {},
     "output_type": "execute_result"
    }
   ],
   "source": [
    "dados.Renda.median()"
   ]
  },
  {
   "cell_type": "code",
   "execution_count": 42,
   "id": "a08c81a7",
   "metadata": {},
   "outputs": [
    {
     "data": {
      "text/plain": [
       "np.float64(1200.0)"
      ]
     },
     "execution_count": 42,
     "metadata": {},
     "output_type": "execute_result"
    }
   ],
   "source": [
    "dados.Renda.quantile()"
   ]
  },
  {
   "cell_type": "markdown",
   "id": "13a97247",
   "metadata": {},
   "source": [
    "### Moda"
   ]
  },
  {
   "cell_type": "markdown",
   "id": "84891980",
   "metadata": {},
   "source": [
    "Pode-se definir a moda como sendo o valor mais frequente de um conjunto de dados. A moda é bastante utilizada para dados qualitativos."
   ]
  },
  {
   "cell_type": "code",
   "execution_count": 43,
   "id": "d8ec8e19",
   "metadata": {},
   "outputs": [
    {
     "data": {
      "application/vnd.microsoft.datawrangler.viewer.v0+json": {
       "columns": [
        {
         "name": "index",
         "rawType": "int64",
         "type": "integer"
        },
        {
         "name": "Renda",
         "rawType": "int64",
         "type": "integer"
        }
       ],
       "ref": "4f1aa154-3267-4b5e-aab8-70f8d65ba02b",
       "rows": [
        [
         "0",
         "788"
        ]
       ],
       "shape": {
        "columns": 1,
        "rows": 1
       }
      },
      "text/plain": [
       "0    788\n",
       "Name: Renda, dtype: int64"
      ]
     },
     "execution_count": 43,
     "metadata": {},
     "output_type": "execute_result"
    }
   ],
   "source": [
    "dados.Renda.mode()"
   ]
  },
  {
   "cell_type": "code",
   "execution_count": 44,
   "id": "dfb1f66e",
   "metadata": {},
   "outputs": [
    {
     "data": {
      "application/vnd.microsoft.datawrangler.viewer.v0+json": {
       "columns": [
        {
         "name": "index",
         "rawType": "int64",
         "type": "integer"
        },
        {
         "name": "Altura",
         "rawType": "float64",
         "type": "float"
        }
       ],
       "ref": "7577a101-0927-41b3-97b4-2dc2aa3bc5c5",
       "rows": [
        [
         "0",
         "1.56812756"
        ],
        [
         "1",
         "1.671224912"
        ],
        [
         "2",
         "1.681659101"
        ],
        [
         "3",
         "1.692976729"
        ],
        [
         "4",
         "1.708162716"
        ],
        [
         "5",
         "1.708369705"
        ],
        [
         "6",
         "1.753841591"
        ],
        [
         "7",
         "1.779072545"
        ],
        [
         "8",
         "1.796462296"
        ]
       ],
       "shape": {
        "columns": 1,
        "rows": 9
       }
      },
      "text/plain": [
       "0    1.568128\n",
       "1    1.671225\n",
       "2    1.681659\n",
       "3    1.692977\n",
       "4    1.708163\n",
       "5    1.708370\n",
       "6    1.753842\n",
       "7    1.779073\n",
       "8    1.796462\n",
       "Name: Altura, dtype: float64"
      ]
     },
     "execution_count": 44,
     "metadata": {},
     "output_type": "execute_result"
    }
   ],
   "source": [
    "dados.Altura.mode()"
   ]
  },
  {
   "cell_type": "markdown",
   "id": "bb5addfa",
   "metadata": {},
   "source": [
    "### Relação entre média, mediana e moda"
   ]
  },
  {
   "cell_type": "markdown",
   "id": "38bae78f",
   "metadata": {},
   "source": [
    "<img src='figures/mean_median_mode.png' width='80%'>"
   ]
  },
  {
   "cell_type": "markdown",
   "id": "8fae26c1",
   "metadata": {},
   "source": [
    "***"
   ]
  },
  {
   "cell_type": "markdown",
   "id": "eb271db4",
   "metadata": {},
   "source": [
    "## <font color=green>4 Medidas Separatrizes</font>"
   ]
  },
  {
   "cell_type": "markdown",
   "id": "e7d957c8",
   "metadata": {},
   "source": [
    "### Quartis, decis e percentis"
   ]
  },
  {
   "cell_type": "markdown",
   "id": "0e52dae2",
   "metadata": {},
   "source": [
    "- Há uma série de medidas de posição semelhantes na sua concepção à mediana, embora não sejam medidas de tendência central. Como se sabe, a mediana divide a distribuição em duas partes iguais quanto ao número de elementos de cada parte. Já os quartis permitem dividir a distribuição em quatro partes iguais quanto ao número de elementos de cada uma; os decis em dez partes e os centis em cem partes iguais."
   ]
  },
  {
   "cell_type": "code",
   "execution_count": 45,
   "id": "43752c91",
   "metadata": {},
   "outputs": [
    {
     "data": {
      "application/vnd.microsoft.datawrangler.viewer.v0+json": {
       "columns": [
        {
         "name": "index",
         "rawType": "float64",
         "type": "float"
        },
        {
         "name": "Renda",
         "rawType": "float64",
         "type": "float"
        }
       ],
       "ref": "9eaa48c0-0d6f-4e20-b16b-45e237d4c869",
       "rows": [
        [
         "0.25",
         "788.0"
        ],
        [
         "0.5",
         "1200.0"
        ],
        [
         "0.75",
         "2000.0"
        ]
       ],
       "shape": {
        "columns": 1,
        "rows": 3
       }
      },
      "text/plain": [
       "0.25     788.0\n",
       "0.50    1200.0\n",
       "0.75    2000.0\n",
       "Name: Renda, dtype: float64"
      ]
     },
     "execution_count": 45,
     "metadata": {},
     "output_type": "execute_result"
    }
   ],
   "source": [
    "dados.Renda.quantile([0.25, 0.5, 0.75])"
   ]
  },
  {
   "cell_type": "code",
   "execution_count": 46,
   "id": "cc134b62",
   "metadata": {},
   "outputs": [
    {
     "data": {
      "application/vnd.microsoft.datawrangler.viewer.v0+json": {
       "columns": [
        {
         "name": "index",
         "rawType": "float64",
         "type": "float"
        },
        {
         "name": "Renda",
         "rawType": "float64",
         "type": "float"
        }
       ],
       "ref": "24d69b3a-0674-4a30-b13c-c5a480ef8bdf",
       "rows": [
        [
         "0.1",
         "350.0"
        ],
        [
         "0.2",
         "788.0"
        ],
        [
         "0.3",
         "800.0"
        ],
        [
         "0.4",
         "1000.0"
        ],
        [
         "0.5",
         "1200.0"
        ],
        [
         "0.6",
         "1500.0"
        ],
        [
         "0.7",
         "1900.0"
        ],
        [
         "0.8",
         "2500.0"
        ],
        [
         "0.9",
         "4000.0"
        ]
       ],
       "shape": {
        "columns": 1,
        "rows": 9
       }
      },
      "text/plain": [
       "0.1     350.0\n",
       "0.2     788.0\n",
       "0.3     800.0\n",
       "0.4    1000.0\n",
       "0.5    1200.0\n",
       "0.6    1500.0\n",
       "0.7    1900.0\n",
       "0.8    2500.0\n",
       "0.9    4000.0\n",
       "Name: Renda, dtype: float64"
      ]
     },
     "execution_count": 46,
     "metadata": {},
     "output_type": "execute_result"
    }
   ],
   "source": [
    "dados.Renda.quantile([i / 10 for i in range(1, 10)])"
   ]
  },
  {
   "cell_type": "markdown",
   "id": "08402c65",
   "metadata": {},
   "source": [
    "### Box-plot"
   ]
  },
  {
   "cell_type": "markdown",
   "id": "66849342",
   "metadata": {},
   "source": [
    "- Embora as medidas de posição forneçam uma sumarização bastante importante dos dados, elas podem não ser suficientes para caracterizar conjuntos distintos, especialmente quando as observações de determinada distribuição apresentarem dados muito dispersos."
   ]
  },
  {
   "cell_type": "markdown",
   "id": "40161f27",
   "metadata": {},
   "source": [
    "- O box plot dá uma idéia da posição, dispersão, assimetria, caudas e dados discrepantes (outliers). A posição central é dada pela mediana e a dispersão por $IIQ$. As posições relativas de $Q1$, $Mediana$ e $Q3$ dão uma noção da simetria da distribuição. Os comprimentos das cauda são dados pelas linhas que vão do retângulo aos valores remotos e pelos valores atípicos."
   ]
  },
  {
   "cell_type": "markdown",
   "id": "35c945b8",
   "metadata": {},
   "source": [
    "<img src='figures/img_box.png' width='65%'>"
   ]
  },
  {
   "cell_type": "code",
   "execution_count": 47,
   "id": "5f7dcc78",
   "metadata": {},
   "outputs": [
    {
     "data": {
      "application/vnd.microsoft.datawrangler.viewer.v0+json": {
       "columns": [
        {
         "name": "index",
         "rawType": "int64",
         "type": "integer"
        },
        {
         "name": "UF",
         "rawType": "int64",
         "type": "integer"
        },
        {
         "name": "Sexo",
         "rawType": "int64",
         "type": "integer"
        },
        {
         "name": "Idade",
         "rawType": "int64",
         "type": "integer"
        },
        {
         "name": "Cor",
         "rawType": "int64",
         "type": "integer"
        },
        {
         "name": "Anos de Estudo",
         "rawType": "int64",
         "type": "integer"
        },
        {
         "name": "Renda",
         "rawType": "int64",
         "type": "integer"
        },
        {
         "name": "Altura",
         "rawType": "float64",
         "type": "float"
        }
       ],
       "ref": "7a4856e7-1e87-4568-b676-dd08635503b1",
       "rows": [
        [
         "0",
         "11",
         "0",
         "23",
         "8",
         "12",
         "800",
         "1.603807616"
        ],
        [
         "1",
         "11",
         "1",
         "23",
         "2",
         "12",
         "1150",
         "1.739789827"
        ],
        [
         "2",
         "11",
         "1",
         "35",
         "8",
         "15",
         "880",
         "1.760443822"
        ],
        [
         "3",
         "11",
         "0",
         "46",
         "2",
         "6",
         "3500",
         "1.783157945"
        ],
        [
         "4",
         "11",
         "1",
         "47",
         "8",
         "9",
         "150",
         "1.690630954"
        ],
        [
         "5",
         "11",
         "1",
         "34",
         "8",
         "12",
         "790",
         "1.637905598"
        ],
        [
         "6",
         "11",
         "0",
         "57",
         "8",
         "12",
         "3150",
         "1.570078218"
        ],
        [
         "7",
         "11",
         "1",
         "60",
         "8",
         "12",
         "1700",
         "1.608495442"
        ],
        [
         "8",
         "11",
         "1",
         "50",
         "4",
         "14",
         "1800",
         "1.780328883"
        ],
        [
         "9",
         "11",
         "0",
         "26",
         "8",
         "12",
         "1150",
         "1.793202625"
        ],
        [
         "10",
         "11",
         "1",
         "46",
         "8",
         "12",
         "3000",
         "1.787003282"
        ],
        [
         "11",
         "11",
         "1",
         "49",
         "8",
         "6",
         "2500",
         "1.712911548"
        ],
        [
         "12",
         "11",
         "1",
         "52",
         "2",
         "6",
         "1200",
         "1.736442076"
        ],
        [
         "13",
         "11",
         "0",
         "38",
         "8",
         "12",
         "2000",
         "1.750826666"
        ],
        [
         "14",
         "11",
         "0",
         "45",
         "2",
         "12",
         "2000",
         "1.780450392"
        ],
        [
         "15",
         "11",
         "0",
         "34",
         "2",
         "16",
         "6000",
         "1.711825037"
        ],
        [
         "16",
         "11",
         "1",
         "43",
         "8",
         "10",
         "1050",
         "1.789011804"
        ],
        [
         "17",
         "11",
         "0",
         "53",
         "8",
         "16",
         "7000",
         "1.673665133"
        ],
        [
         "18",
         "11",
         "0",
         "57",
         "2",
         "12",
         "2000",
         "1.715137632"
        ],
        [
         "19",
         "11",
         "1",
         "62",
         "8",
         "12",
         "1150",
         "1.76597309"
        ],
        [
         "20",
         "11",
         "0",
         "69",
         "8",
         "1",
         "3030",
         "1.746351196"
        ],
        [
         "21",
         "11",
         "1",
         "41",
         "8",
         "16",
         "4000",
         "1.660873129"
        ],
        [
         "22",
         "11",
         "0",
         "34",
         "8",
         "5",
         "788",
         "1.746048026"
        ],
        [
         "23",
         "11",
         "0",
         "25",
         "8",
         "12",
         "1000",
         "1.726496158"
        ],
        [
         "24",
         "11",
         "0",
         "33",
         "8",
         "9",
         "800",
         "1.778913561"
        ],
        [
         "25",
         "11",
         "1",
         "44",
         "8",
         "5",
         "788",
         "1.668637941"
        ],
        [
         "26",
         "11",
         "0",
         "33",
         "2",
         "16",
         "1600",
         "1.783770601"
        ],
        [
         "27",
         "11",
         "0",
         "65",
         "2",
         "12",
         "1700",
         "1.873445247"
        ],
        [
         "28",
         "11",
         "0",
         "33",
         "8",
         "14",
         "2000",
         "1.890250314"
        ],
        [
         "29",
         "11",
         "0",
         "32",
         "8",
         "12",
         "2400",
         "1.660204145"
        ],
        [
         "30",
         "11",
         "0",
         "43",
         "8",
         "5",
         "3000",
         "1.636361741"
        ],
        [
         "31",
         "11",
         "0",
         "30",
         "8",
         "1",
         "920",
         "1.685590822"
        ],
        [
         "32",
         "11",
         "0",
         "26",
         "2",
         "10",
         "1300",
         "1.68402625"
        ],
        [
         "33",
         "11",
         "0",
         "52",
         "2",
         "15",
         "2000",
         "1.67104419"
        ],
        [
         "34",
         "11",
         "0",
         "62",
         "8",
         "1",
         "1300",
         "1.632129706"
        ],
        [
         "35",
         "11",
         "0",
         "64",
         "6",
         "5",
         "600",
         "1.712121503"
        ],
        [
         "36",
         "11",
         "0",
         "31",
         "8",
         "7",
         "1200",
         "1.763447989"
        ],
        [
         "37",
         "11",
         "0",
         "63",
         "2",
         "3",
         "1000",
         "1.694500204"
        ],
        [
         "38",
         "11",
         "1",
         "40",
         "2",
         "9",
         "1000",
         "1.705147683"
        ],
        [
         "39",
         "11",
         "0",
         "47",
         "4",
         "9",
         "1500",
         "1.672258066"
        ],
        [
         "40",
         "11",
         "0",
         "34",
         "2",
         "7",
         "900",
         "1.645452653"
        ],
        [
         "41",
         "11",
         "0",
         "33",
         "8",
         "6",
         "900",
         "1.814785789"
        ],
        [
         "42",
         "11",
         "0",
         "63",
         "8",
         "6",
         "0",
         "1.652746296"
        ],
        [
         "43",
         "11",
         "1",
         "40",
         "8",
         "2",
         "300",
         "1.757341995"
        ],
        [
         "44",
         "11",
         "0",
         "41",
         "8",
         "6",
         "1600",
         "1.611286043"
        ],
        [
         "45",
         "11",
         "0",
         "28",
         "2",
         "10",
         "1500",
         "1.693976403"
        ],
        [
         "46",
         "11",
         "1",
         "32",
         "8",
         "12",
         "750",
         "1.684819452"
        ],
        [
         "47",
         "11",
         "0",
         "44",
         "2",
         "1",
         "800",
         "1.701974845"
        ],
        [
         "48",
         "11",
         "1",
         "38",
         "2",
         "12",
         "3600",
         "1.599083153"
        ],
        [
         "49",
         "11",
         "0",
         "41",
         "2",
         "4",
         "1500",
         "1.646862718"
        ]
       ],
       "shape": {
        "columns": 7,
        "rows": 76840
       }
      },
      "text/html": [
       "<div>\n",
       "<style scoped>\n",
       "    .dataframe tbody tr th:only-of-type {\n",
       "        vertical-align: middle;\n",
       "    }\n",
       "\n",
       "    .dataframe tbody tr th {\n",
       "        vertical-align: top;\n",
       "    }\n",
       "\n",
       "    .dataframe thead th {\n",
       "        text-align: right;\n",
       "    }\n",
       "</style>\n",
       "<table border=\"1\" class=\"dataframe\">\n",
       "  <thead>\n",
       "    <tr style=\"text-align: right;\">\n",
       "      <th></th>\n",
       "      <th>UF</th>\n",
       "      <th>Sexo</th>\n",
       "      <th>Idade</th>\n",
       "      <th>Cor</th>\n",
       "      <th>Anos de Estudo</th>\n",
       "      <th>Renda</th>\n",
       "      <th>Altura</th>\n",
       "    </tr>\n",
       "  </thead>\n",
       "  <tbody>\n",
       "    <tr>\n",
       "      <th>0</th>\n",
       "      <td>11</td>\n",
       "      <td>0</td>\n",
       "      <td>23</td>\n",
       "      <td>8</td>\n",
       "      <td>12</td>\n",
       "      <td>800</td>\n",
       "      <td>1.603808</td>\n",
       "    </tr>\n",
       "    <tr>\n",
       "      <th>1</th>\n",
       "      <td>11</td>\n",
       "      <td>1</td>\n",
       "      <td>23</td>\n",
       "      <td>2</td>\n",
       "      <td>12</td>\n",
       "      <td>1150</td>\n",
       "      <td>1.739790</td>\n",
       "    </tr>\n",
       "    <tr>\n",
       "      <th>2</th>\n",
       "      <td>11</td>\n",
       "      <td>1</td>\n",
       "      <td>35</td>\n",
       "      <td>8</td>\n",
       "      <td>15</td>\n",
       "      <td>880</td>\n",
       "      <td>1.760444</td>\n",
       "    </tr>\n",
       "    <tr>\n",
       "      <th>3</th>\n",
       "      <td>11</td>\n",
       "      <td>0</td>\n",
       "      <td>46</td>\n",
       "      <td>2</td>\n",
       "      <td>6</td>\n",
       "      <td>3500</td>\n",
       "      <td>1.783158</td>\n",
       "    </tr>\n",
       "    <tr>\n",
       "      <th>4</th>\n",
       "      <td>11</td>\n",
       "      <td>1</td>\n",
       "      <td>47</td>\n",
       "      <td>8</td>\n",
       "      <td>9</td>\n",
       "      <td>150</td>\n",
       "      <td>1.690631</td>\n",
       "    </tr>\n",
       "    <tr>\n",
       "      <th>...</th>\n",
       "      <td>...</td>\n",
       "      <td>...</td>\n",
       "      <td>...</td>\n",
       "      <td>...</td>\n",
       "      <td>...</td>\n",
       "      <td>...</td>\n",
       "      <td>...</td>\n",
       "    </tr>\n",
       "    <tr>\n",
       "      <th>76835</th>\n",
       "      <td>53</td>\n",
       "      <td>1</td>\n",
       "      <td>46</td>\n",
       "      <td>2</td>\n",
       "      <td>11</td>\n",
       "      <td>812</td>\n",
       "      <td>1.687030</td>\n",
       "    </tr>\n",
       "    <tr>\n",
       "      <th>76836</th>\n",
       "      <td>53</td>\n",
       "      <td>0</td>\n",
       "      <td>30</td>\n",
       "      <td>4</td>\n",
       "      <td>7</td>\n",
       "      <td>1500</td>\n",
       "      <td>1.792934</td>\n",
       "    </tr>\n",
       "    <tr>\n",
       "      <th>76837</th>\n",
       "      <td>53</td>\n",
       "      <td>0</td>\n",
       "      <td>32</td>\n",
       "      <td>8</td>\n",
       "      <td>12</td>\n",
       "      <td>1300</td>\n",
       "      <td>1.830587</td>\n",
       "    </tr>\n",
       "    <tr>\n",
       "      <th>76838</th>\n",
       "      <td>53</td>\n",
       "      <td>0</td>\n",
       "      <td>57</td>\n",
       "      <td>8</td>\n",
       "      <td>4</td>\n",
       "      <td>1500</td>\n",
       "      <td>1.726344</td>\n",
       "    </tr>\n",
       "    <tr>\n",
       "      <th>76839</th>\n",
       "      <td>53</td>\n",
       "      <td>0</td>\n",
       "      <td>38</td>\n",
       "      <td>8</td>\n",
       "      <td>4</td>\n",
       "      <td>900</td>\n",
       "      <td>1.658305</td>\n",
       "    </tr>\n",
       "  </tbody>\n",
       "</table>\n",
       "<p>76840 rows × 7 columns</p>\n",
       "</div>"
      ],
      "text/plain": [
       "       UF  Sexo  Idade  Cor  Anos de Estudo  Renda    Altura\n",
       "0      11     0     23    8              12    800  1.603808\n",
       "1      11     1     23    2              12   1150  1.739790\n",
       "2      11     1     35    8              15    880  1.760444\n",
       "3      11     0     46    2               6   3500  1.783158\n",
       "4      11     1     47    8               9    150  1.690631\n",
       "...    ..   ...    ...  ...             ...    ...       ...\n",
       "76835  53     1     46    2              11    812  1.687030\n",
       "76836  53     0     30    4               7   1500  1.792934\n",
       "76837  53     0     32    8              12   1300  1.830587\n",
       "76838  53     0     57    8               4   1500  1.726344\n",
       "76839  53     0     38    8               4    900  1.658305\n",
       "\n",
       "[76840 rows x 7 columns]"
      ]
     },
     "execution_count": 47,
     "metadata": {},
     "output_type": "execute_result"
    }
   ],
   "source": [
    "df = dados.copy()\n",
    "df"
   ]
  },
  {
   "cell_type": "code",
   "execution_count": 48,
   "id": "6481b33e",
   "metadata": {},
   "outputs": [],
   "source": [
    "sexo = {0: 'Masculino',\n",
    "        1: 'Feminino'}"
   ]
  },
  {
   "cell_type": "code",
   "execution_count": 49,
   "id": "60136b69",
   "metadata": {},
   "outputs": [
    {
     "data": {
      "application/vnd.microsoft.datawrangler.viewer.v0+json": {
       "columns": [
        {
         "name": "index",
         "rawType": "int64",
         "type": "integer"
        },
        {
         "name": "UF",
         "rawType": "int64",
         "type": "integer"
        },
        {
         "name": "Sexo",
         "rawType": "int64",
         "type": "integer"
        },
        {
         "name": "Idade",
         "rawType": "int64",
         "type": "integer"
        },
        {
         "name": "Cor",
         "rawType": "int64",
         "type": "integer"
        },
        {
         "name": "Anos de Estudo",
         "rawType": "int64",
         "type": "integer"
        },
        {
         "name": "Renda",
         "rawType": "int64",
         "type": "integer"
        },
        {
         "name": "Altura",
         "rawType": "float64",
         "type": "float"
        },
        {
         "name": "Genero",
         "rawType": "object",
         "type": "string"
        }
       ],
       "ref": "3af9eda7-2b58-4e39-91db-1e24c0b87a98",
       "rows": [
        [
         "0",
         "11",
         "0",
         "23",
         "8",
         "12",
         "800",
         "1.603807616",
         "Masculino"
        ],
        [
         "1",
         "11",
         "1",
         "23",
         "2",
         "12",
         "1150",
         "1.739789827",
         "Feminino"
        ],
        [
         "2",
         "11",
         "1",
         "35",
         "8",
         "15",
         "880",
         "1.760443822",
         "Feminino"
        ],
        [
         "3",
         "11",
         "0",
         "46",
         "2",
         "6",
         "3500",
         "1.783157945",
         "Masculino"
        ],
        [
         "4",
         "11",
         "1",
         "47",
         "8",
         "9",
         "150",
         "1.690630954",
         "Feminino"
        ],
        [
         "5",
         "11",
         "1",
         "34",
         "8",
         "12",
         "790",
         "1.637905598",
         "Feminino"
        ],
        [
         "6",
         "11",
         "0",
         "57",
         "8",
         "12",
         "3150",
         "1.570078218",
         "Masculino"
        ],
        [
         "7",
         "11",
         "1",
         "60",
         "8",
         "12",
         "1700",
         "1.608495442",
         "Feminino"
        ],
        [
         "8",
         "11",
         "1",
         "50",
         "4",
         "14",
         "1800",
         "1.780328883",
         "Feminino"
        ],
        [
         "9",
         "11",
         "0",
         "26",
         "8",
         "12",
         "1150",
         "1.793202625",
         "Masculino"
        ],
        [
         "10",
         "11",
         "1",
         "46",
         "8",
         "12",
         "3000",
         "1.787003282",
         "Feminino"
        ],
        [
         "11",
         "11",
         "1",
         "49",
         "8",
         "6",
         "2500",
         "1.712911548",
         "Feminino"
        ],
        [
         "12",
         "11",
         "1",
         "52",
         "2",
         "6",
         "1200",
         "1.736442076",
         "Feminino"
        ],
        [
         "13",
         "11",
         "0",
         "38",
         "8",
         "12",
         "2000",
         "1.750826666",
         "Masculino"
        ],
        [
         "14",
         "11",
         "0",
         "45",
         "2",
         "12",
         "2000",
         "1.780450392",
         "Masculino"
        ],
        [
         "15",
         "11",
         "0",
         "34",
         "2",
         "16",
         "6000",
         "1.711825037",
         "Masculino"
        ],
        [
         "16",
         "11",
         "1",
         "43",
         "8",
         "10",
         "1050",
         "1.789011804",
         "Feminino"
        ],
        [
         "17",
         "11",
         "0",
         "53",
         "8",
         "16",
         "7000",
         "1.673665133",
         "Masculino"
        ],
        [
         "18",
         "11",
         "0",
         "57",
         "2",
         "12",
         "2000",
         "1.715137632",
         "Masculino"
        ],
        [
         "19",
         "11",
         "1",
         "62",
         "8",
         "12",
         "1150",
         "1.76597309",
         "Feminino"
        ],
        [
         "20",
         "11",
         "0",
         "69",
         "8",
         "1",
         "3030",
         "1.746351196",
         "Masculino"
        ],
        [
         "21",
         "11",
         "1",
         "41",
         "8",
         "16",
         "4000",
         "1.660873129",
         "Feminino"
        ],
        [
         "22",
         "11",
         "0",
         "34",
         "8",
         "5",
         "788",
         "1.746048026",
         "Masculino"
        ],
        [
         "23",
         "11",
         "0",
         "25",
         "8",
         "12",
         "1000",
         "1.726496158",
         "Masculino"
        ],
        [
         "24",
         "11",
         "0",
         "33",
         "8",
         "9",
         "800",
         "1.778913561",
         "Masculino"
        ],
        [
         "25",
         "11",
         "1",
         "44",
         "8",
         "5",
         "788",
         "1.668637941",
         "Feminino"
        ],
        [
         "26",
         "11",
         "0",
         "33",
         "2",
         "16",
         "1600",
         "1.783770601",
         "Masculino"
        ],
        [
         "27",
         "11",
         "0",
         "65",
         "2",
         "12",
         "1700",
         "1.873445247",
         "Masculino"
        ],
        [
         "28",
         "11",
         "0",
         "33",
         "8",
         "14",
         "2000",
         "1.890250314",
         "Masculino"
        ],
        [
         "29",
         "11",
         "0",
         "32",
         "8",
         "12",
         "2400",
         "1.660204145",
         "Masculino"
        ],
        [
         "30",
         "11",
         "0",
         "43",
         "8",
         "5",
         "3000",
         "1.636361741",
         "Masculino"
        ],
        [
         "31",
         "11",
         "0",
         "30",
         "8",
         "1",
         "920",
         "1.685590822",
         "Masculino"
        ],
        [
         "32",
         "11",
         "0",
         "26",
         "2",
         "10",
         "1300",
         "1.68402625",
         "Masculino"
        ],
        [
         "33",
         "11",
         "0",
         "52",
         "2",
         "15",
         "2000",
         "1.67104419",
         "Masculino"
        ],
        [
         "34",
         "11",
         "0",
         "62",
         "8",
         "1",
         "1300",
         "1.632129706",
         "Masculino"
        ],
        [
         "35",
         "11",
         "0",
         "64",
         "6",
         "5",
         "600",
         "1.712121503",
         "Masculino"
        ],
        [
         "36",
         "11",
         "0",
         "31",
         "8",
         "7",
         "1200",
         "1.763447989",
         "Masculino"
        ],
        [
         "37",
         "11",
         "0",
         "63",
         "2",
         "3",
         "1000",
         "1.694500204",
         "Masculino"
        ],
        [
         "38",
         "11",
         "1",
         "40",
         "2",
         "9",
         "1000",
         "1.705147683",
         "Feminino"
        ],
        [
         "39",
         "11",
         "0",
         "47",
         "4",
         "9",
         "1500",
         "1.672258066",
         "Masculino"
        ],
        [
         "40",
         "11",
         "0",
         "34",
         "2",
         "7",
         "900",
         "1.645452653",
         "Masculino"
        ],
        [
         "41",
         "11",
         "0",
         "33",
         "8",
         "6",
         "900",
         "1.814785789",
         "Masculino"
        ],
        [
         "42",
         "11",
         "0",
         "63",
         "8",
         "6",
         "0",
         "1.652746296",
         "Masculino"
        ],
        [
         "43",
         "11",
         "1",
         "40",
         "8",
         "2",
         "300",
         "1.757341995",
         "Feminino"
        ],
        [
         "44",
         "11",
         "0",
         "41",
         "8",
         "6",
         "1600",
         "1.611286043",
         "Masculino"
        ],
        [
         "45",
         "11",
         "0",
         "28",
         "2",
         "10",
         "1500",
         "1.693976403",
         "Masculino"
        ],
        [
         "46",
         "11",
         "1",
         "32",
         "8",
         "12",
         "750",
         "1.684819452",
         "Feminino"
        ],
        [
         "47",
         "11",
         "0",
         "44",
         "2",
         "1",
         "800",
         "1.701974845",
         "Masculino"
        ],
        [
         "48",
         "11",
         "1",
         "38",
         "2",
         "12",
         "3600",
         "1.599083153",
         "Feminino"
        ],
        [
         "49",
         "11",
         "0",
         "41",
         "2",
         "4",
         "1500",
         "1.646862718",
         "Masculino"
        ]
       ],
       "shape": {
        "columns": 8,
        "rows": 76840
       }
      },
      "text/html": [
       "<div>\n",
       "<style scoped>\n",
       "    .dataframe tbody tr th:only-of-type {\n",
       "        vertical-align: middle;\n",
       "    }\n",
       "\n",
       "    .dataframe tbody tr th {\n",
       "        vertical-align: top;\n",
       "    }\n",
       "\n",
       "    .dataframe thead th {\n",
       "        text-align: right;\n",
       "    }\n",
       "</style>\n",
       "<table border=\"1\" class=\"dataframe\">\n",
       "  <thead>\n",
       "    <tr style=\"text-align: right;\">\n",
       "      <th></th>\n",
       "      <th>UF</th>\n",
       "      <th>Sexo</th>\n",
       "      <th>Idade</th>\n",
       "      <th>Cor</th>\n",
       "      <th>Anos de Estudo</th>\n",
       "      <th>Renda</th>\n",
       "      <th>Altura</th>\n",
       "      <th>Genero</th>\n",
       "    </tr>\n",
       "  </thead>\n",
       "  <tbody>\n",
       "    <tr>\n",
       "      <th>0</th>\n",
       "      <td>11</td>\n",
       "      <td>0</td>\n",
       "      <td>23</td>\n",
       "      <td>8</td>\n",
       "      <td>12</td>\n",
       "      <td>800</td>\n",
       "      <td>1.603808</td>\n",
       "      <td>Masculino</td>\n",
       "    </tr>\n",
       "    <tr>\n",
       "      <th>1</th>\n",
       "      <td>11</td>\n",
       "      <td>1</td>\n",
       "      <td>23</td>\n",
       "      <td>2</td>\n",
       "      <td>12</td>\n",
       "      <td>1150</td>\n",
       "      <td>1.739790</td>\n",
       "      <td>Feminino</td>\n",
       "    </tr>\n",
       "    <tr>\n",
       "      <th>2</th>\n",
       "      <td>11</td>\n",
       "      <td>1</td>\n",
       "      <td>35</td>\n",
       "      <td>8</td>\n",
       "      <td>15</td>\n",
       "      <td>880</td>\n",
       "      <td>1.760444</td>\n",
       "      <td>Feminino</td>\n",
       "    </tr>\n",
       "    <tr>\n",
       "      <th>3</th>\n",
       "      <td>11</td>\n",
       "      <td>0</td>\n",
       "      <td>46</td>\n",
       "      <td>2</td>\n",
       "      <td>6</td>\n",
       "      <td>3500</td>\n",
       "      <td>1.783158</td>\n",
       "      <td>Masculino</td>\n",
       "    </tr>\n",
       "    <tr>\n",
       "      <th>4</th>\n",
       "      <td>11</td>\n",
       "      <td>1</td>\n",
       "      <td>47</td>\n",
       "      <td>8</td>\n",
       "      <td>9</td>\n",
       "      <td>150</td>\n",
       "      <td>1.690631</td>\n",
       "      <td>Feminino</td>\n",
       "    </tr>\n",
       "    <tr>\n",
       "      <th>...</th>\n",
       "      <td>...</td>\n",
       "      <td>...</td>\n",
       "      <td>...</td>\n",
       "      <td>...</td>\n",
       "      <td>...</td>\n",
       "      <td>...</td>\n",
       "      <td>...</td>\n",
       "      <td>...</td>\n",
       "    </tr>\n",
       "    <tr>\n",
       "      <th>76835</th>\n",
       "      <td>53</td>\n",
       "      <td>1</td>\n",
       "      <td>46</td>\n",
       "      <td>2</td>\n",
       "      <td>11</td>\n",
       "      <td>812</td>\n",
       "      <td>1.687030</td>\n",
       "      <td>Feminino</td>\n",
       "    </tr>\n",
       "    <tr>\n",
       "      <th>76836</th>\n",
       "      <td>53</td>\n",
       "      <td>0</td>\n",
       "      <td>30</td>\n",
       "      <td>4</td>\n",
       "      <td>7</td>\n",
       "      <td>1500</td>\n",
       "      <td>1.792934</td>\n",
       "      <td>Masculino</td>\n",
       "    </tr>\n",
       "    <tr>\n",
       "      <th>76837</th>\n",
       "      <td>53</td>\n",
       "      <td>0</td>\n",
       "      <td>32</td>\n",
       "      <td>8</td>\n",
       "      <td>12</td>\n",
       "      <td>1300</td>\n",
       "      <td>1.830587</td>\n",
       "      <td>Masculino</td>\n",
       "    </tr>\n",
       "    <tr>\n",
       "      <th>76838</th>\n",
       "      <td>53</td>\n",
       "      <td>0</td>\n",
       "      <td>57</td>\n",
       "      <td>8</td>\n",
       "      <td>4</td>\n",
       "      <td>1500</td>\n",
       "      <td>1.726344</td>\n",
       "      <td>Masculino</td>\n",
       "    </tr>\n",
       "    <tr>\n",
       "      <th>76839</th>\n",
       "      <td>53</td>\n",
       "      <td>0</td>\n",
       "      <td>38</td>\n",
       "      <td>8</td>\n",
       "      <td>4</td>\n",
       "      <td>900</td>\n",
       "      <td>1.658305</td>\n",
       "      <td>Masculino</td>\n",
       "    </tr>\n",
       "  </tbody>\n",
       "</table>\n",
       "<p>76840 rows × 8 columns</p>\n",
       "</div>"
      ],
      "text/plain": [
       "       UF  Sexo  Idade  Cor  Anos de Estudo  Renda    Altura     Genero\n",
       "0      11     0     23    8              12    800  1.603808  Masculino\n",
       "1      11     1     23    2              12   1150  1.739790   Feminino\n",
       "2      11     1     35    8              15    880  1.760444   Feminino\n",
       "3      11     0     46    2               6   3500  1.783158  Masculino\n",
       "4      11     1     47    8               9    150  1.690631   Feminino\n",
       "...    ..   ...    ...  ...             ...    ...       ...        ...\n",
       "76835  53     1     46    2              11    812  1.687030   Feminino\n",
       "76836  53     0     30    4               7   1500  1.792934  Masculino\n",
       "76837  53     0     32    8              12   1300  1.830587  Masculino\n",
       "76838  53     0     57    8               4   1500  1.726344  Masculino\n",
       "76839  53     0     38    8               4    900  1.658305  Masculino\n",
       "\n",
       "[76840 rows x 8 columns]"
      ]
     },
     "execution_count": 49,
     "metadata": {},
     "output_type": "execute_result"
    }
   ],
   "source": [
    "df['Genero'] = df['Sexo'].apply(lambda x: sexo[x])\n",
    "df"
   ]
  },
  {
   "cell_type": "code",
   "execution_count": 50,
   "id": "6e9c789b",
   "metadata": {},
   "outputs": [
    {
     "name": "stdout",
     "output_type": "stream",
     "text": [
      "Valor Minimo: 1.339244614\n",
      "Valor Máximo: 2.028496765\n",
      "Mediana: 1.6993247325\n",
      "Primeiro Quartil (Q1):  1.645785297\n",
      "Segundo Quartil (Q2):  1.6993247325\n",
      "Terceiro Quartil (Q3):  1.75306238275\n",
      "Intervalo Interquartil (IIQ):  0.10727708575000006\n"
     ]
    }
   ],
   "source": [
    "print(\"Valor Minimo:\", df['Altura'].min())\n",
    "print(\"Valor Máximo:\", df['Altura'].max())\n",
    "print(\"Mediana:\", df['Altura'].median())\n",
    "print(\"Primeiro Quartil (Q1): \", df['Altura'].quantile(0.25))\n",
    "print(\"Segundo Quartil (Q2): \", df['Altura'].quantile(0.5))\n",
    "print(\"Terceiro Quartil (Q3): \", df['Altura'].quantile(0.75))\n",
    "print(\"Intervalo Interquartil (IIQ): \", df['Altura'].quantile(0.75) - df['Altura'].quantile(0.25))"
   ]
  },
  {
   "cell_type": "code",
   "execution_count": 51,
   "id": "2e13b631",
   "metadata": {},
   "outputs": [
    {
     "name": "stdout",
     "output_type": "stream",
     "text": [
      "Valores acima de 1.9139780113750002 são outliers\n",
      "Valores abaixo de 1.484869668375 são outliers\n"
     ]
    }
   ],
   "source": [
    "IIQ = df['Altura'].quantile(0.75) - df['Altura'].quantile(0.25)\n",
    "Q1 = df['Altura'].quantile(0.25)\n",
    "Q3 = df['Altura'].quantile(0.75)\n",
    "\n",
    "Valor_Maximo = Q3 + 1.5 * IIQ\n",
    "Valor_Minimo = Q1 - 1.5 * IIQ\n",
    "\n",
    "print(f\"Valores acima de {Valor_Maximo} são outliers\")\n",
    "print(f\"Valores abaixo de {Valor_Minimo} são outliers\")"
   ]
  },
  {
   "cell_type": "code",
   "execution_count": 52,
   "id": "6e5fe060",
   "metadata": {},
   "outputs": [
    {
     "data": {
      "text/plain": [
       "<Axes: >"
      ]
     },
     "execution_count": 52,
     "metadata": {},
     "output_type": "execute_result"
    },
    {
     "data": {
      "image/png": "[encoded data removed]",
      "text/plain": [
       "<Figure size 1500x200 with 1 Axes>"
      ]
     },
     "metadata": {},
     "output_type": "display_data"
    }
   ],
   "source": [
    "df['Altura'].plot.box(vert=False, figsize=(15,2))"
   ]
  },
  {
   "cell_type": "code",
   "execution_count": 53,
   "id": "e74e4530",
   "metadata": {},
   "outputs": [
    {
     "data": {
      "image/png": "[encoded data removed]",
      "text/plain": [
       "<Figure size 1500x500 with 1 Axes>"
      ]
     },
     "metadata": {},
     "output_type": "display_data"
    }
   ],
   "source": [
    "boxplot = df.boxplot(vert=False, column='Altura', by='Genero', figsize=(15,5))"
   ]
  },
  {
   "cell_type": "code",
   "execution_count": 54,
   "id": "73f9dd3f",
   "metadata": {},
   "outputs": [
    {
     "data": {
      "text/plain": [
       "<Axes: >"
      ]
     },
     "execution_count": 54,
     "metadata": {},
     "output_type": "execute_result"
    },
    {
     "data": {
      "image/png": "[encoded data removed]",
      "text/plain": [
       "<Figure size 1500x200 with 1 Axes>"
      ]
     },
     "metadata": {},
     "output_type": "display_data"
    }
   ],
   "source": [
    "df.query('Renda < 10000').boxplot(vert=False, column='Renda', figsize=(15,2))"
   ]
  },
  {
   "cell_type": "code",
   "execution_count": 55,
   "id": "324fc3ce",
   "metadata": {},
   "outputs": [
    {
     "data": {
      "text/plain": [
       "<Axes: title={'center': 'Renda'}, ylabel='Genero'>"
      ]
     },
     "execution_count": 55,
     "metadata": {},
     "output_type": "execute_result"
    },
    {
     "data": {
      "image/png": "[encoded data removed]",
      "text/plain": [
       "<Figure size 1500x500 with 1 Axes>"
      ]
     },
     "metadata": {},
     "output_type": "display_data"
    }
   ],
   "source": [
    "df.query('Renda < 10000').boxplot(vert=False, column='Renda', by='Genero', figsize=(15,5))"
   ]
  },
  {
   "cell_type": "code",
   "execution_count": 56,
   "id": "1fcb6ba7",
   "metadata": {},
   "outputs": [
    {
     "data": {
      "text/plain": [
       "<Axes: >"
      ]
     },
     "execution_count": 56,
     "metadata": {},
     "output_type": "execute_result"
    },
    {
     "data": {
      "image/png": "[encoded data removed]",
      "text/plain": [
       "<Figure size 1500x200 with 1 Axes>"
      ]
     },
     "metadata": {},
     "output_type": "display_data"
    }
   ],
   "source": [
    "df.boxplot(vert=False, column='Anos de Estudo', figsize=(15,2))"
   ]
  },
  {
   "cell_type": "code",
   "execution_count": 57,
   "id": "8b9c25e7",
   "metadata": {},
   "outputs": [
    {
     "data": {
      "text/plain": [
       "<Axes: title={'center': 'Anos de Estudo'}, ylabel='Genero'>"
      ]
     },
     "execution_count": 57,
     "metadata": {},
     "output_type": "execute_result"
    },
    {
     "data": {
      "image/png": "[encoded data removed]",
      "text/plain": [
       "<Figure size 1500x500 with 1 Axes>"
      ]
     },
     "metadata": {},
     "output_type": "display_data"
    }
   ],
   "source": [
    "df.boxplot(vert=False, column='Anos de Estudo', by='Genero', figsize=(15,5))"
   ]
  },
  {
   "cell_type": "markdown",
   "id": "ef59e178",
   "metadata": {},
   "source": [
    "<img src='figures/dist_boxplot.png' width='80%'>"
   ]
  },
  {
   "cell_type": "markdown",
   "id": "d9587842",
   "metadata": {},
   "source": [
    "## <font color=green>5 Medidas de Dispersão</font>"
   ]
  },
  {
   "cell_type": "markdown",
   "id": "75fcb6cd",
   "metadata": {},
   "source": [
    "- Embora as medidas de posição forneçam uma sumarização bastante importante dos dados, elas podem não ser suficientes para caracterizar conjuntos distintos, especialmente quando as observações de determinada distribuição apresentarem dados muito dispersos."
   ]
  },
  {
   "cell_type": "markdown",
   "id": "30d6d17e",
   "metadata": {},
   "source": [
    "### Desvio médio absoluto\n",
    "\n",
    "$$DM = \\frac 1n\\sum_{i=1}^{n}|X_i-\\bar{X}|$$"
   ]
  },
  {
   "cell_type": "code",
   "execution_count": 58,
   "id": "5ea70c35",
   "metadata": {},
   "outputs": [
    {
     "data": {
      "application/vnd.microsoft.datawrangler.viewer.v0+json": {
       "columns": [
        {
         "name": "Matérias",
         "rawType": "object",
         "type": "string"
        },
        {
         "name": "Fulano",
         "rawType": "float64",
         "type": "float"
        },
        {
         "name": "Beltrano",
         "rawType": "float64",
         "type": "float"
        },
        {
         "name": "Sicrano",
         "rawType": "float64",
         "type": "float"
        }
       ],
       "ref": "f02a910e-3640-4d80-b5e1-2792854e882f",
       "rows": [
        [
         "Matemática",
         "8.0",
         "10.0",
         "7.5"
        ],
        [
         "Português",
         "10.0",
         "2.0",
         "8.0"
        ],
        [
         "Inglês",
         "4.0",
         "0.5",
         "7.0"
        ],
        [
         "Geografia",
         "8.0",
         "1.0",
         "8.0"
        ],
        [
         "História",
         "6.0",
         "3.0",
         "8.0"
        ],
        [
         "Física",
         "10.0",
         "9.5",
         "8.5"
        ],
        [
         "Química",
         "8.0",
         "10.0",
         "7.0"
        ]
       ],
       "shape": {
        "columns": 3,
        "rows": 7
       }
      },
      "text/html": [
       "<div>\n",
       "<style scoped>\n",
       "    .dataframe tbody tr th:only-of-type {\n",
       "        vertical-align: middle;\n",
       "    }\n",
       "\n",
       "    .dataframe tbody tr th {\n",
       "        vertical-align: top;\n",
       "    }\n",
       "\n",
       "    .dataframe thead th {\n",
       "        text-align: right;\n",
       "    }\n",
       "</style>\n",
       "<table border=\"1\" class=\"dataframe\">\n",
       "  <thead>\n",
       "    <tr style=\"text-align: right;\">\n",
       "      <th>Alunos</th>\n",
       "      <th>Fulano</th>\n",
       "      <th>Beltrano</th>\n",
       "      <th>Sicrano</th>\n",
       "    </tr>\n",
       "    <tr>\n",
       "      <th>Matérias</th>\n",
       "      <th></th>\n",
       "      <th></th>\n",
       "      <th></th>\n",
       "    </tr>\n",
       "  </thead>\n",
       "  <tbody>\n",
       "    <tr>\n",
       "      <th>Matemática</th>\n",
       "      <td>8.0</td>\n",
       "      <td>10.0</td>\n",
       "      <td>7.5</td>\n",
       "    </tr>\n",
       "    <tr>\n",
       "      <th>Português</th>\n",
       "      <td>10.0</td>\n",
       "      <td>2.0</td>\n",
       "      <td>8.0</td>\n",
       "    </tr>\n",
       "    <tr>\n",
       "      <th>Inglês</th>\n",
       "      <td>4.0</td>\n",
       "      <td>0.5</td>\n",
       "      <td>7.0</td>\n",
       "    </tr>\n",
       "    <tr>\n",
       "      <th>Geografia</th>\n",
       "      <td>8.0</td>\n",
       "      <td>1.0</td>\n",
       "      <td>8.0</td>\n",
       "    </tr>\n",
       "    <tr>\n",
       "      <th>História</th>\n",
       "      <td>6.0</td>\n",
       "      <td>3.0</td>\n",
       "      <td>8.0</td>\n",
       "    </tr>\n",
       "    <tr>\n",
       "      <th>Física</th>\n",
       "      <td>10.0</td>\n",
       "      <td>9.5</td>\n",
       "      <td>8.5</td>\n",
       "    </tr>\n",
       "    <tr>\n",
       "      <th>Química</th>\n",
       "      <td>8.0</td>\n",
       "      <td>10.0</td>\n",
       "      <td>7.0</td>\n",
       "    </tr>\n",
       "  </tbody>\n",
       "</table>\n",
       "</div>"
      ],
      "text/plain": [
       "Alunos      Fulano  Beltrano  Sicrano\n",
       "Matérias                             \n",
       "Matemática     8.0      10.0      7.5\n",
       "Português     10.0       2.0      8.0\n",
       "Inglês         4.0       0.5      7.0\n",
       "Geografia      8.0       1.0      8.0\n",
       "História       6.0       3.0      8.0\n",
       "Física        10.0       9.5      8.5\n",
       "Química        8.0      10.0      7.0"
      ]
     },
     "execution_count": 58,
     "metadata": {},
     "output_type": "execute_result"
    }
   ],
   "source": [
    "df = pd.DataFrame(data = {'Fulano': [8.0, 10, 4, 8, 6, 10, 8],\n",
    "                          'Beltrano': [10, 2, 0.5, 1, 3, 9.5, 10],\n",
    "                          'Sicrano': [7.5, 8, 7, 8, 8, 8.5, 7]},\n",
    "                 index = ['Matemática',\n",
    "                          'Português',\n",
    "                          'Inglês',\n",
    "                          'Geografia',\n",
    "                          'História',\n",
    "                          'Física',\n",
    "                          'Química'])\n",
    "\n",
    "df.index.name = 'Matérias'\n",
    "df.columns.name = 'Alunos'\n",
    "\n",
    "df"
   ]
  },
  {
   "cell_type": "code",
   "execution_count": 59,
   "id": "8ce6319e",
   "metadata": {},
   "outputs": [
    {
     "data": {
      "text/plain": [
       "array([[<Axes: xlabel='Matérias'>, <Axes: xlabel='Matérias'>,\n",
       "        <Axes: xlabel='Matérias'>]], dtype=object)"
      ]
     },
     "execution_count": 59,
     "metadata": {},
     "output_type": "execute_result"
    },
    {
     "data": {
      "image/png": "[encoded data removed]",
      "text/plain": [
       "<Figure size 1500x400 with 3 Axes>"
      ]
     },
     "metadata": {},
     "output_type": "display_data"
    }
   ],
   "source": [
    "df.plot(style=['o','x','*'], rot=45, \n",
    "        subplots=True, figsize=(15,4),\n",
    "        sharey=True, layout=(1, 3), \n",
    "        yticks=range(0,11), grid=True)"
   ]
  },
  {
   "cell_type": "code",
   "execution_count": 60,
   "id": "7f464fb9",
   "metadata": {},
   "outputs": [
    {
     "data": {
      "application/vnd.microsoft.datawrangler.viewer.v0+json": {
       "columns": [
        {
         "name": "Matérias",
         "rawType": "object",
         "type": "string"
        },
        {
         "name": "Fulano",
         "rawType": "float64",
         "type": "float"
        }
       ],
       "ref": "f77b048a-0290-4c9d-a088-dfc6084c99bb",
       "rows": [
        [
         "Matemática",
         "8.0"
        ],
        [
         "Português",
         "10.0"
        ],
        [
         "Inglês",
         "4.0"
        ],
        [
         "Geografia",
         "8.0"
        ],
        [
         "História",
         "6.0"
        ],
        [
         "Física",
         "10.0"
        ],
        [
         "Química",
         "8.0"
        ]
       ],
       "shape": {
        "columns": 1,
        "rows": 7
       }
      },
      "text/html": [
       "<div>\n",
       "<style scoped>\n",
       "    .dataframe tbody tr th:only-of-type {\n",
       "        vertical-align: middle;\n",
       "    }\n",
       "\n",
       "    .dataframe tbody tr th {\n",
       "        vertical-align: top;\n",
       "    }\n",
       "\n",
       "    .dataframe thead th {\n",
       "        text-align: right;\n",
       "    }\n",
       "</style>\n",
       "<table border=\"1\" class=\"dataframe\">\n",
       "  <thead>\n",
       "    <tr style=\"text-align: right;\">\n",
       "      <th>Alunos</th>\n",
       "      <th>Fulano</th>\n",
       "    </tr>\n",
       "    <tr>\n",
       "      <th>Matérias</th>\n",
       "      <th></th>\n",
       "    </tr>\n",
       "  </thead>\n",
       "  <tbody>\n",
       "    <tr>\n",
       "      <th>Matemática</th>\n",
       "      <td>8.0</td>\n",
       "    </tr>\n",
       "    <tr>\n",
       "      <th>Português</th>\n",
       "      <td>10.0</td>\n",
       "    </tr>\n",
       "    <tr>\n",
       "      <th>Inglês</th>\n",
       "      <td>4.0</td>\n",
       "    </tr>\n",
       "    <tr>\n",
       "      <th>Geografia</th>\n",
       "      <td>8.0</td>\n",
       "    </tr>\n",
       "    <tr>\n",
       "      <th>História</th>\n",
       "      <td>6.0</td>\n",
       "    </tr>\n",
       "    <tr>\n",
       "      <th>Física</th>\n",
       "      <td>10.0</td>\n",
       "    </tr>\n",
       "    <tr>\n",
       "      <th>Química</th>\n",
       "      <td>8.0</td>\n",
       "    </tr>\n",
       "  </tbody>\n",
       "</table>\n",
       "</div>"
      ],
      "text/plain": [
       "Alunos      Fulano\n",
       "Matérias          \n",
       "Matemática     8.0\n",
       "Português     10.0\n",
       "Inglês         4.0\n",
       "Geografia      8.0\n",
       "História       6.0\n",
       "Física        10.0\n",
       "Química        8.0"
      ]
     },
     "execution_count": 60,
     "metadata": {},
     "output_type": "execute_result"
    }
   ],
   "source": [
    "notas_fulano = df[['Fulano']]\n",
    "notas_fulano"
   ]
  },
  {
   "cell_type": "markdown",
   "id": "c6eaa6d6",
   "metadata": {},
   "source": [
    "- Calculando o Desvio (diferença entre as notas de Fulano e sua nota média)"
   ]
  },
  {
   "cell_type": "code",
   "execution_count": 61,
   "id": "69d84f7c",
   "metadata": {},
   "outputs": [
    {
     "data": {
      "application/vnd.microsoft.datawrangler.viewer.v0+json": {
       "columns": [
        {
         "name": "Matérias",
         "rawType": "object",
         "type": "string"
        },
        {
         "name": "Fulano",
         "rawType": "float64",
         "type": "float"
        },
        {
         "name": "Desvio",
         "rawType": "float64",
         "type": "float"
        }
       ],
       "ref": "cc736ffd-6c6b-43d3-a2b4-45884df96a0f",
       "rows": [
        [
         "Matemática",
         "8.0",
         "0.2857142857142856"
        ],
        [
         "Português",
         "10.0",
         "2.2857142857142856"
        ],
        [
         "Inglês",
         "4.0",
         "-3.7142857142857144"
        ],
        [
         "Geografia",
         "8.0",
         "0.2857142857142856"
        ],
        [
         "História",
         "6.0",
         "-1.7142857142857144"
        ],
        [
         "Física",
         "10.0",
         "2.2857142857142856"
        ],
        [
         "Química",
         "8.0",
         "0.2857142857142856"
        ]
       ],
       "shape": {
        "columns": 2,
        "rows": 7
       }
      },
      "text/html": [
       "<div>\n",
       "<style scoped>\n",
       "    .dataframe tbody tr th:only-of-type {\n",
       "        vertical-align: middle;\n",
       "    }\n",
       "\n",
       "    .dataframe tbody tr th {\n",
       "        vertical-align: top;\n",
       "    }\n",
       "\n",
       "    .dataframe thead th {\n",
       "        text-align: right;\n",
       "    }\n",
       "</style>\n",
       "<table border=\"1\" class=\"dataframe\">\n",
       "  <thead>\n",
       "    <tr style=\"text-align: right;\">\n",
       "      <th>Alunos</th>\n",
       "      <th>Fulano</th>\n",
       "      <th>Desvio</th>\n",
       "    </tr>\n",
       "    <tr>\n",
       "      <th>Matérias</th>\n",
       "      <th></th>\n",
       "      <th></th>\n",
       "    </tr>\n",
       "  </thead>\n",
       "  <tbody>\n",
       "    <tr>\n",
       "      <th>Matemática</th>\n",
       "      <td>8.0</td>\n",
       "      <td>0.285714</td>\n",
       "    </tr>\n",
       "    <tr>\n",
       "      <th>Português</th>\n",
       "      <td>10.0</td>\n",
       "      <td>2.285714</td>\n",
       "    </tr>\n",
       "    <tr>\n",
       "      <th>Inglês</th>\n",
       "      <td>4.0</td>\n",
       "      <td>-3.714286</td>\n",
       "    </tr>\n",
       "    <tr>\n",
       "      <th>Geografia</th>\n",
       "      <td>8.0</td>\n",
       "      <td>0.285714</td>\n",
       "    </tr>\n",
       "    <tr>\n",
       "      <th>História</th>\n",
       "      <td>6.0</td>\n",
       "      <td>-1.714286</td>\n",
       "    </tr>\n",
       "    <tr>\n",
       "      <th>Física</th>\n",
       "      <td>10.0</td>\n",
       "      <td>2.285714</td>\n",
       "    </tr>\n",
       "    <tr>\n",
       "      <th>Química</th>\n",
       "      <td>8.0</td>\n",
       "      <td>0.285714</td>\n",
       "    </tr>\n",
       "  </tbody>\n",
       "</table>\n",
       "</div>"
      ],
      "text/plain": [
       "Alunos      Fulano    Desvio\n",
       "Matérias                    \n",
       "Matemática     8.0  0.285714\n",
       "Português     10.0  2.285714\n",
       "Inglês         4.0 -3.714286\n",
       "Geografia      8.0  0.285714\n",
       "História       6.0 -1.714286\n",
       "Física        10.0  2.285714\n",
       "Química        8.0  0.285714"
      ]
     },
     "execution_count": 61,
     "metadata": {},
     "output_type": "execute_result"
    }
   ],
   "source": [
    "notas_fulano['Desvio'] = notas_fulano['Fulano'] - notas_fulano['Fulano'].mean()\n",
    "notas_fulano"
   ]
  },
  {
   "cell_type": "markdown",
   "id": "fa23663f",
   "metadata": {},
   "source": [
    "- Calculando o módulo (remoção do sinal)"
   ]
  },
  {
   "cell_type": "code",
   "execution_count": 62,
   "id": "b1553e3b",
   "metadata": {},
   "outputs": [
    {
     "data": {
      "application/vnd.microsoft.datawrangler.viewer.v0+json": {
       "columns": [
        {
         "name": "Matérias",
         "rawType": "object",
         "type": "string"
        },
        {
         "name": "Fulano",
         "rawType": "float64",
         "type": "float"
        },
        {
         "name": "Desvio",
         "rawType": "float64",
         "type": "float"
        },
        {
         "name": "|Desvio|",
         "rawType": "float64",
         "type": "float"
        }
       ],
       "ref": "470895fb-5ca6-463a-aefd-4049170476cd",
       "rows": [
        [
         "Matemática",
         "8.0",
         "0.2857142857142856",
         "0.2857142857142856"
        ],
        [
         "Português",
         "10.0",
         "2.2857142857142856",
         "2.2857142857142856"
        ],
        [
         "Inglês",
         "4.0",
         "-3.7142857142857144",
         "3.7142857142857144"
        ],
        [
         "Geografia",
         "8.0",
         "0.2857142857142856",
         "0.2857142857142856"
        ],
        [
         "História",
         "6.0",
         "-1.7142857142857144",
         "1.7142857142857144"
        ],
        [
         "Física",
         "10.0",
         "2.2857142857142856",
         "2.2857142857142856"
        ],
        [
         "Química",
         "8.0",
         "0.2857142857142856",
         "0.2857142857142856"
        ]
       ],
       "shape": {
        "columns": 3,
        "rows": 7
       }
      },
      "text/html": [
       "<div>\n",
       "<style scoped>\n",
       "    .dataframe tbody tr th:only-of-type {\n",
       "        vertical-align: middle;\n",
       "    }\n",
       "\n",
       "    .dataframe tbody tr th {\n",
       "        vertical-align: top;\n",
       "    }\n",
       "\n",
       "    .dataframe thead th {\n",
       "        text-align: right;\n",
       "    }\n",
       "</style>\n",
       "<table border=\"1\" class=\"dataframe\">\n",
       "  <thead>\n",
       "    <tr style=\"text-align: right;\">\n",
       "      <th>Alunos</th>\n",
       "      <th>Fulano</th>\n",
       "      <th>Desvio</th>\n",
       "      <th>|Desvio|</th>\n",
       "    </tr>\n",
       "    <tr>\n",
       "      <th>Matérias</th>\n",
       "      <th></th>\n",
       "      <th></th>\n",
       "      <th></th>\n",
       "    </tr>\n",
       "  </thead>\n",
       "  <tbody>\n",
       "    <tr>\n",
       "      <th>Matemática</th>\n",
       "      <td>8.0</td>\n",
       "      <td>0.285714</td>\n",
       "      <td>0.285714</td>\n",
       "    </tr>\n",
       "    <tr>\n",
       "      <th>Português</th>\n",
       "      <td>10.0</td>\n",
       "      <td>2.285714</td>\n",
       "      <td>2.285714</td>\n",
       "    </tr>\n",
       "    <tr>\n",
       "      <th>Inglês</th>\n",
       "      <td>4.0</td>\n",
       "      <td>-3.714286</td>\n",
       "      <td>3.714286</td>\n",
       "    </tr>\n",
       "    <tr>\n",
       "      <th>Geografia</th>\n",
       "      <td>8.0</td>\n",
       "      <td>0.285714</td>\n",
       "      <td>0.285714</td>\n",
       "    </tr>\n",
       "    <tr>\n",
       "      <th>História</th>\n",
       "      <td>6.0</td>\n",
       "      <td>-1.714286</td>\n",
       "      <td>1.714286</td>\n",
       "    </tr>\n",
       "    <tr>\n",
       "      <th>Física</th>\n",
       "      <td>10.0</td>\n",
       "      <td>2.285714</td>\n",
       "      <td>2.285714</td>\n",
       "    </tr>\n",
       "    <tr>\n",
       "      <th>Química</th>\n",
       "      <td>8.0</td>\n",
       "      <td>0.285714</td>\n",
       "      <td>0.285714</td>\n",
       "    </tr>\n",
       "  </tbody>\n",
       "</table>\n",
       "</div>"
      ],
      "text/plain": [
       "Alunos      Fulano    Desvio  |Desvio|\n",
       "Matérias                              \n",
       "Matemática     8.0  0.285714  0.285714\n",
       "Português     10.0  2.285714  2.285714\n",
       "Inglês         4.0 -3.714286  3.714286\n",
       "Geografia      8.0  0.285714  0.285714\n",
       "História       6.0 -1.714286  1.714286\n",
       "Física        10.0  2.285714  2.285714\n",
       "Química        8.0  0.285714  0.285714"
      ]
     },
     "execution_count": 62,
     "metadata": {},
     "output_type": "execute_result"
    }
   ],
   "source": [
    "notas_fulano['|Desvio|'] = notas_fulano['Desvio'].abs()\n",
    "notas_fulano"
   ]
  },
  {
   "cell_type": "code",
   "execution_count": 63,
   "id": "ff112776",
   "metadata": {},
   "outputs": [
    {
     "data": {
      "text/plain": [
       "<Axes: xlabel='Matérias'>"
      ]
     },
     "execution_count": 63,
     "metadata": {},
     "output_type": "execute_result"
    },
    {
     "data": {
      "image/png": "[encoded data removed]",
      "text/plain": [
       "<Figure size 640x480 with 1 Axes>"
      ]
     },
     "metadata": {},
     "output_type": "display_data"
    }
   ],
   "source": [
    "notas_fulano['Média'] = notas_fulano['Fulano'].mean()\n",
    "notas_fulano[['Fulano', 'Média']].plot(style=['o','-'], rot=45, yticks=range(0,11))"
   ]
  },
  {
   "cell_type": "markdown",
   "id": "00382885",
   "metadata": {},
   "source": [
    "- Calculando o Desvio Padrão através na média dos valores do módulo do Desvio"
   ]
  },
  {
   "cell_type": "code",
   "execution_count": 64,
   "id": "e79162ab",
   "metadata": {},
   "outputs": [
    {
     "data": {
      "text/plain": [
       "np.float64(1.5510204081632648)"
      ]
     },
     "execution_count": 64,
     "metadata": {},
     "output_type": "execute_result"
    }
   ],
   "source": [
    "notas_fulano['|Desvio|'].mean()"
   ]
  },
  {
   "cell_type": "markdown",
   "id": "f4074264",
   "metadata": {},
   "source": [
    "- Calculando o Desvio Padrão através da função sdt"
   ]
  },
  {
   "cell_type": "code",
   "execution_count": 65,
   "id": "969c6cca",
   "metadata": {},
   "outputs": [
    {
     "data": {
      "text/plain": [
       "np.float64(2.1380899352993947)"
      ]
     },
     "execution_count": 65,
     "metadata": {},
     "output_type": "execute_result"
    }
   ],
   "source": [
    "notas_fulano['Fulano'].std()"
   ]
  },
  {
   "cell_type": "markdown",
   "id": "8ac294c4",
   "metadata": {},
   "source": [
    "### Variância"
   ]
  },
  {
   "cell_type": "markdown",
   "id": "912ff3a2",
   "metadata": {},
   "source": [
    "- A variância é construída a partir das diferenças entre cada observação e a média dos dados, ou seja, o desvio em torno da média. No cálculo da variância, os desvios em torno da média são elevados ao quadrado."
   ]
  },
  {
   "cell_type": "markdown",
   "id": "56faee2d",
   "metadata": {},
   "source": [
    "- Variância populacional\n",
    "$$\\sigma^2 = \\frac 1n\\sum_{i=1}^{n}(X_i-\\mu)^2$$"
   ]
  },
  {
   "cell_type": "markdown",
   "id": "15e08349",
   "metadata": {},
   "source": [
    "- Variância amostral"
   ]
  },
  {
   "cell_type": "markdown",
   "id": "7b61c9e2",
   "metadata": {},
   "source": [
    "$$S^2 = \\frac 1{n-1}\\sum_{i=1}^{n}(X_i-\\bar{X})^2$$"
   ]
  },
  {
   "cell_type": "code",
   "execution_count": 66,
   "id": "a738a125",
   "metadata": {},
   "outputs": [
    {
     "data": {
      "application/vnd.microsoft.datawrangler.viewer.v0+json": {
       "columns": [
        {
         "name": "Matérias",
         "rawType": "object",
         "type": "string"
        },
        {
         "name": "Fulano",
         "rawType": "float64",
         "type": "float"
        },
        {
         "name": "Desvio",
         "rawType": "float64",
         "type": "float"
        },
        {
         "name": "|Desvio|",
         "rawType": "float64",
         "type": "float"
        },
        {
         "name": "Média",
         "rawType": "float64",
         "type": "float"
        },
        {
         "name": "(Desvio)^2",
         "rawType": "float64",
         "type": "float"
        }
       ],
       "ref": "4645de8a-a64f-4f34-b446-923d55b3e4c6",
       "rows": [
        [
         "Matemática",
         "8.0",
         "0.2857142857142856",
         "0.2857142857142856",
         "7.714285714285714",
         "0.08163265306122441"
        ],
        [
         "Português",
         "10.0",
         "2.2857142857142856",
         "2.2857142857142856",
         "7.714285714285714",
         "5.224489795918367"
        ],
        [
         "Inglês",
         "4.0",
         "-3.7142857142857144",
         "3.7142857142857144",
         "7.714285714285714",
         "13.795918367346939"
        ],
        [
         "Geografia",
         "8.0",
         "0.2857142857142856",
         "0.2857142857142856",
         "7.714285714285714",
         "0.08163265306122441"
        ],
        [
         "História",
         "6.0",
         "-1.7142857142857144",
         "1.7142857142857144",
         "7.714285714285714",
         "2.9387755102040822"
        ],
        [
         "Física",
         "10.0",
         "2.2857142857142856",
         "2.2857142857142856",
         "7.714285714285714",
         "5.224489795918367"
        ],
        [
         "Química",
         "8.0",
         "0.2857142857142856",
         "0.2857142857142856",
         "7.714285714285714",
         "0.08163265306122441"
        ]
       ],
       "shape": {
        "columns": 5,
        "rows": 7
       }
      },
      "text/html": [
       "<div>\n",
       "<style scoped>\n",
       "    .dataframe tbody tr th:only-of-type {\n",
       "        vertical-align: middle;\n",
       "    }\n",
       "\n",
       "    .dataframe tbody tr th {\n",
       "        vertical-align: top;\n",
       "    }\n",
       "\n",
       "    .dataframe thead th {\n",
       "        text-align: right;\n",
       "    }\n",
       "</style>\n",
       "<table border=\"1\" class=\"dataframe\">\n",
       "  <thead>\n",
       "    <tr style=\"text-align: right;\">\n",
       "      <th>Alunos</th>\n",
       "      <th>Fulano</th>\n",
       "      <th>Desvio</th>\n",
       "      <th>|Desvio|</th>\n",
       "      <th>Média</th>\n",
       "      <th>(Desvio)^2</th>\n",
       "    </tr>\n",
       "    <tr>\n",
       "      <th>Matérias</th>\n",
       "      <th></th>\n",
       "      <th></th>\n",
       "      <th></th>\n",
       "      <th></th>\n",
       "      <th></th>\n",
       "    </tr>\n",
       "  </thead>\n",
       "  <tbody>\n",
       "    <tr>\n",
       "      <th>Matemática</th>\n",
       "      <td>8.0</td>\n",
       "      <td>0.285714</td>\n",
       "      <td>0.285714</td>\n",
       "      <td>7.714286</td>\n",
       "      <td>0.081633</td>\n",
       "    </tr>\n",
       "    <tr>\n",
       "      <th>Português</th>\n",
       "      <td>10.0</td>\n",
       "      <td>2.285714</td>\n",
       "      <td>2.285714</td>\n",
       "      <td>7.714286</td>\n",
       "      <td>5.224490</td>\n",
       "    </tr>\n",
       "    <tr>\n",
       "      <th>Inglês</th>\n",
       "      <td>4.0</td>\n",
       "      <td>-3.714286</td>\n",
       "      <td>3.714286</td>\n",
       "      <td>7.714286</td>\n",
       "      <td>13.795918</td>\n",
       "    </tr>\n",
       "    <tr>\n",
       "      <th>Geografia</th>\n",
       "      <td>8.0</td>\n",
       "      <td>0.285714</td>\n",
       "      <td>0.285714</td>\n",
       "      <td>7.714286</td>\n",
       "      <td>0.081633</td>\n",
       "    </tr>\n",
       "    <tr>\n",
       "      <th>História</th>\n",
       "      <td>6.0</td>\n",
       "      <td>-1.714286</td>\n",
       "      <td>1.714286</td>\n",
       "      <td>7.714286</td>\n",
       "      <td>2.938776</td>\n",
       "    </tr>\n",
       "    <tr>\n",
       "      <th>Física</th>\n",
       "      <td>10.0</td>\n",
       "      <td>2.285714</td>\n",
       "      <td>2.285714</td>\n",
       "      <td>7.714286</td>\n",
       "      <td>5.224490</td>\n",
       "    </tr>\n",
       "    <tr>\n",
       "      <th>Química</th>\n",
       "      <td>8.0</td>\n",
       "      <td>0.285714</td>\n",
       "      <td>0.285714</td>\n",
       "      <td>7.714286</td>\n",
       "      <td>0.081633</td>\n",
       "    </tr>\n",
       "  </tbody>\n",
       "</table>\n",
       "</div>"
      ],
      "text/plain": [
       "Alunos      Fulano    Desvio  |Desvio|     Média  (Desvio)^2\n",
       "Matérias                                                    \n",
       "Matemática     8.0  0.285714  0.285714  7.714286    0.081633\n",
       "Português     10.0  2.285714  2.285714  7.714286    5.224490\n",
       "Inglês         4.0 -3.714286  3.714286  7.714286   13.795918\n",
       "Geografia      8.0  0.285714  0.285714  7.714286    0.081633\n",
       "História       6.0 -1.714286  1.714286  7.714286    2.938776\n",
       "Física        10.0  2.285714  2.285714  7.714286    5.224490\n",
       "Química        8.0  0.285714  0.285714  7.714286    0.081633"
      ]
     },
     "execution_count": 66,
     "metadata": {},
     "output_type": "execute_result"
    }
   ],
   "source": [
    "notas_fulano['(Desvio)^2'] = notas_fulano['Desvio'].pow(2)\n",
    "notas_fulano"
   ]
  },
  {
   "cell_type": "code",
   "execution_count": 67,
   "id": "7277521a",
   "metadata": {},
   "outputs": [
    {
     "data": {
      "text/plain": [
       "np.float64(4.57142857142857)"
      ]
     },
     "execution_count": 67,
     "metadata": {},
     "output_type": "execute_result"
    }
   ],
   "source": [
    "notas_fulano['(Desvio)^2'].sum() / (len(notas_fulano) - 1)"
   ]
  },
  {
   "cell_type": "code",
   "execution_count": 68,
   "id": "849b01b3",
   "metadata": {},
   "outputs": [
    {
     "data": {
      "text/plain": [
       "np.float64(4.57142857142857)"
      ]
     },
     "execution_count": 68,
     "metadata": {},
     "output_type": "execute_result"
    }
   ],
   "source": [
    "variancia = notas_fulano['Fulano'].var()\n",
    "variancia"
   ]
  },
  {
   "cell_type": "markdown",
   "id": "e16b115d",
   "metadata": {},
   "source": [
    "### Desvio Padrão"
   ]
  },
  {
   "cell_type": "markdown",
   "id": "9bb203d5",
   "metadata": {},
   "source": [
    "- Uma das restrições da variância é o fato de fornecer medidas em quadrados das unidades originais - a variância de medidas de comprimento, por exemplo, é em unidades de área. Logo, o fato de as unidades serem diferentes dificulta a comparação da dispersão com as variáveis que a definem. Um modo de eliminar essa dificuldade é considerar sua raiz quadrada."
   ]
  },
  {
   "cell_type": "markdown",
   "id": "fcda3b26",
   "metadata": {},
   "source": [
    "- Desvio padrão populacional\n",
    "\n",
    "$$\\sigma = \\sqrt{\\frac 1n\\sum_{i=1}^{n}(X_i-\\mu)^2} \\Longrightarrow \\sigma = \\sqrt{\\sigma^2}$$\n",
    "\n",
    "- Desvio padrão amostral\n",
    "\n",
    "$$S = \\sqrt{\\frac 1{n-1}\\sum_{i=1}^{n}(X_i-\\bar{X})^2} \\Longrightarrow S = \\sqrt{S^2}$$"
   ]
  },
  {
   "cell_type": "code",
   "execution_count": 69,
   "id": "cf689556",
   "metadata": {},
   "outputs": [
    {
     "data": {
      "text/plain": [
       "np.float64(2.1380899352993947)"
      ]
     },
     "execution_count": 69,
     "metadata": {},
     "output_type": "execute_result"
    }
   ],
   "source": [
    "np.sqrt(variancia)"
   ]
  },
  {
   "cell_type": "code",
   "execution_count": 70,
   "id": "c3fc2b05",
   "metadata": {},
   "outputs": [
    {
     "data": {
      "text/plain": [
       "np.float64(2.1380899352993947)"
      ]
     },
     "execution_count": 70,
     "metadata": {},
     "output_type": "execute_result"
    }
   ],
   "source": [
    "desvio_padrao = notas_fulano['Fulano'].std()\n",
    "desvio_padrao"
   ]
  },
  {
   "cell_type": "markdown",
   "id": "b509a395",
   "metadata": {},
   "source": [
    "## <font color=green>6 Distribuilções de Probabilidade</font>"
   ]
  },
  {
   "cell_type": "markdown",
   "id": "fc167dd4",
   "metadata": {},
   "source": [
    "### Distribuição Binomial"
   ]
  },
  {
   "cell_type": "code",
   "execution_count": null,
   "id": "5bd4a75a",
   "metadata": {},
   "outputs": [],
   "source": []
  },
  {
   "cell_type": "markdown",
   "id": "b1ccdc7b",
   "metadata": {},
   "source": [
    "### Distribuição Poisson"
   ]
  },
  {
   "cell_type": "code",
   "execution_count": null,
   "id": "b2db1969",
   "metadata": {},
   "outputs": [],
   "source": []
  },
  {
   "cell_type": "markdown",
   "id": "c168f4e5",
   "metadata": {},
   "source": [
    "### Distribuição Normal"
   ]
  },
  {
   "cell_type": "code",
   "execution_count": null,
   "id": "df40f5bf",
   "metadata": {},
   "outputs": [],
   "source": []
  },
  {
   "cell_type": "markdown",
   "id": "0455130a",
   "metadata": {},
   "source": [
    "## <font color=green>7 Amostragem</font>"
   ]
  },
  {
   "cell_type": "markdown",
   "id": "076ad554",
   "metadata": {},
   "source": [
    "### População e Amostra"
   ]
  },
  {
   "cell_type": "code",
   "execution_count": null,
   "id": "d8ff245e",
   "metadata": {},
   "outputs": [],
   "source": []
  },
  {
   "cell_type": "markdown",
   "id": "dc429dca",
   "metadata": {},
   "source": [
    "### Quando utiliza uma amostra?"
   ]
  },
  {
   "cell_type": "code",
   "execution_count": null,
   "id": "ac6c0799",
   "metadata": {},
   "outputs": [],
   "source": []
  },
  {
   "cell_type": "markdown",
   "id": "44a02b83",
   "metadata": {},
   "source": [
    "### Amostragem Aleatória Simples"
   ]
  },
  {
   "cell_type": "code",
   "execution_count": null,
   "id": "067d2217",
   "metadata": {},
   "outputs": [],
   "source": []
  },
  {
   "cell_type": "markdown",
   "id": "143b5361",
   "metadata": {},
   "source": [
    "### Amostragem Estratificada"
   ]
  },
  {
   "cell_type": "code",
   "execution_count": null,
   "id": "16bd4193",
   "metadata": {},
   "outputs": [],
   "source": []
  },
  {
   "cell_type": "markdown",
   "id": "68b8bd0a",
   "metadata": {},
   "source": [
    "### Amostragem por Conglomerados"
   ]
  },
  {
   "cell_type": "code",
   "execution_count": null,
   "id": "c04bf243",
   "metadata": {},
   "outputs": [],
   "source": []
  },
  {
   "cell_type": "markdown",
   "id": "206a0ae3",
   "metadata": {},
   "source": [
    "## <font color=green>8 Estimação</font>"
   ]
  },
  {
   "cell_type": "markdown",
   "id": "ae645d71",
   "metadata": {},
   "source": [
    "### Teorama do limite central"
   ]
  },
  {
   "cell_type": "code",
   "execution_count": null,
   "id": "6079b6ae",
   "metadata": {},
   "outputs": [],
   "source": []
  },
  {
   "cell_type": "markdown",
   "id": "69212d11",
   "metadata": {},
   "source": [
    "### Níveis de confiança e significância"
   ]
  },
  {
   "cell_type": "code",
   "execution_count": null,
   "id": "9cbadeea",
   "metadata": {},
   "outputs": [],
   "source": []
  },
  {
   "cell_type": "markdown",
   "id": "222bc474",
   "metadata": {},
   "source": [
    "### Erro inferencial"
   ]
  },
  {
   "cell_type": "code",
   "execution_count": null,
   "id": "4d3c91e2",
   "metadata": {},
   "outputs": [],
   "source": []
  },
  {
   "cell_type": "markdown",
   "id": "1bccfded",
   "metadata": {},
   "source": [
    "### Intervalos de confiança"
   ]
  },
  {
   "cell_type": "code",
   "execution_count": null,
   "id": "594f02ef",
   "metadata": {},
   "outputs": [],
   "source": []
  },
  {
   "cell_type": "markdown",
   "id": "19f567a2",
   "metadata": {},
   "source": [
    "## <font color=green>9 Cálculo do Tamanho da Amostra</font>"
   ]
  },
  {
   "cell_type": "markdown",
   "id": "8d20a0a1",
   "metadata": {},
   "source": [
    "### Variáveis quantitativas e população infinita"
   ]
  },
  {
   "cell_type": "code",
   "execution_count": null,
   "id": "f199b47b",
   "metadata": {},
   "outputs": [],
   "source": []
  },
  {
   "cell_type": "markdown",
   "id": "e3d57211",
   "metadata": {},
   "source": [
    "### Variáveis qunatitativas e população finita"
   ]
  },
  {
   "cell_type": "code",
   "execution_count": null,
   "id": "a9c30373",
   "metadata": {},
   "outputs": [],
   "source": []
  },
  {
   "cell_type": "markdown",
   "id": "005c5e1c",
   "metadata": {},
   "source": [
    "## <font color=green> Correlação e covariância"
   ]
  },
  {
   "cell_type": "markdown",
   "id": "4ec0356d",
   "metadata": {},
   "source": [
    "Algumas estatísticas de resumo, como **correlação** e **covariância**, são calculadas a partir de pares de argumentos.    \n",
    "> - correlação: resume o grau de relacionamento entre duas variáveis (X e Y, por exemplo).\n",
    "> ***\n",
    "\n",
    "|Correlação|Negativa|Positiva|\n",
    "|---|---|---|\n",
    "|Baixa|de -0,5 à 0|de 0 à 0,5|\n",
    "|Alta|de -1 à -0,5|de 0,5 à 1|\n",
    "\n",
    "> - covariância: é uma medida do grau de interdependência (ou inter-relação) numérica entre duas variáveis.\n",
    "> ***\n",
    "\n"
   ]
  },
  {
   "cell_type": "code",
   "execution_count": 71,
   "id": "d2a58c29",
   "metadata": {},
   "outputs": [],
   "source": [
    "import pandas as pd\n",
    "import numpy as np"
   ]
  },
  {
   "cell_type": "markdown",
   "id": "daa272b4",
   "metadata": {},
   "source": [
    "- Vamos carregar um dataset com o preço de ações de algumas *Big Techs*"
   ]
  },
  {
   "cell_type": "code",
   "execution_count": 72,
   "id": "8ec4bf77",
   "metadata": {},
   "outputs": [
    {
     "data": {
      "application/vnd.microsoft.datawrangler.viewer.v0+json": {
       "columns": [
        {
         "name": "Date",
         "rawType": "object",
         "type": "string"
        },
        {
         "name": "AAPL",
         "rawType": "float64",
         "type": "float"
        },
        {
         "name": "IBM",
         "rawType": "float64",
         "type": "float"
        },
        {
         "name": "MSFT",
         "rawType": "float64",
         "type": "float"
        },
        {
         "name": "GOOG",
         "rawType": "float64",
         "type": "float"
        }
       ],
       "ref": "bb199fc6-7648-4a4d-be3c-63585342f9de",
       "rows": [
        [
         "2010-01-04",
         "6.57",
         "91.51",
         "23.99",
         "312.2"
        ],
        [
         "2010-01-05",
         "6.58",
         "90.4",
         "24.0",
         "310.83"
        ],
        [
         "2010-01-06",
         "6.48",
         "89.81",
         "23.86",
         "302.99"
        ],
        [
         "2010-01-07",
         "6.47",
         "89.5",
         "23.61",
         "295.94"
        ],
        [
         "2010-01-08",
         "6.51",
         "90.4",
         "23.77",
         "299.89"
        ]
       ],
       "shape": {
        "columns": 4,
        "rows": 5
       }
      },
      "text/html": [
       "<div>\n",
       "<style scoped>\n",
       "    .dataframe tbody tr th:only-of-type {\n",
       "        vertical-align: middle;\n",
       "    }\n",
       "\n",
       "    .dataframe tbody tr th {\n",
       "        vertical-align: top;\n",
       "    }\n",
       "\n",
       "    .dataframe thead th {\n",
       "        text-align: right;\n",
       "    }\n",
       "</style>\n",
       "<table border=\"1\" class=\"dataframe\">\n",
       "  <thead>\n",
       "    <tr style=\"text-align: right;\">\n",
       "      <th></th>\n",
       "      <th>AAPL</th>\n",
       "      <th>IBM</th>\n",
       "      <th>MSFT</th>\n",
       "      <th>GOOG</th>\n",
       "    </tr>\n",
       "    <tr>\n",
       "      <th>Date</th>\n",
       "      <th></th>\n",
       "      <th></th>\n",
       "      <th></th>\n",
       "      <th></th>\n",
       "    </tr>\n",
       "  </thead>\n",
       "  <tbody>\n",
       "    <tr>\n",
       "      <th>2010-01-04</th>\n",
       "      <td>6.57</td>\n",
       "      <td>91.51</td>\n",
       "      <td>23.99</td>\n",
       "      <td>312.20</td>\n",
       "    </tr>\n",
       "    <tr>\n",
       "      <th>2010-01-05</th>\n",
       "      <td>6.58</td>\n",
       "      <td>90.40</td>\n",
       "      <td>24.00</td>\n",
       "      <td>310.83</td>\n",
       "    </tr>\n",
       "    <tr>\n",
       "      <th>2010-01-06</th>\n",
       "      <td>6.48</td>\n",
       "      <td>89.81</td>\n",
       "      <td>23.86</td>\n",
       "      <td>302.99</td>\n",
       "    </tr>\n",
       "    <tr>\n",
       "      <th>2010-01-07</th>\n",
       "      <td>6.47</td>\n",
       "      <td>89.50</td>\n",
       "      <td>23.61</td>\n",
       "      <td>295.94</td>\n",
       "    </tr>\n",
       "    <tr>\n",
       "      <th>2010-01-08</th>\n",
       "      <td>6.51</td>\n",
       "      <td>90.40</td>\n",
       "      <td>23.77</td>\n",
       "      <td>299.89</td>\n",
       "    </tr>\n",
       "  </tbody>\n",
       "</table>\n",
       "</div>"
      ],
      "text/plain": [
       "            AAPL    IBM   MSFT    GOOG\n",
       "Date                                  \n",
       "2010-01-04  6.57  91.51  23.99  312.20\n",
       "2010-01-05  6.58  90.40  24.00  310.83\n",
       "2010-01-06  6.48  89.81  23.86  302.99\n",
       "2010-01-07  6.47  89.50  23.61  295.94\n",
       "2010-01-08  6.51  90.40  23.77  299.89"
      ]
     },
     "execution_count": 72,
     "metadata": {},
     "output_type": "execute_result"
    }
   ],
   "source": [
    "price = pd.read_csv('datasets/price_stocks.csv',index_col='Date')\n",
    "price.head()"
   ]
  },
  {
   "cell_type": "code",
   "execution_count": 73,
   "id": "a73103eb",
   "metadata": {},
   "outputs": [
    {
     "data": {
      "text/plain": [
       "<Axes: xlabel='Date'>"
      ]
     },
     "execution_count": 73,
     "metadata": {},
     "output_type": "execute_result"
    },
    {
     "data": {
      "image/png": "[encoded data removed]",
      "text/plain": [
       "<Figure size 1500x600 with 1 Axes>"
      ]
     },
     "metadata": {},
     "output_type": "display_data"
    }
   ],
   "source": [
    "price.plot(style=['r-','g-','b-','y-'], rot=45, figsize=(15,6))"
   ]
  },
  {
   "cell_type": "code",
   "execution_count": 74,
   "id": "61f9063e",
   "metadata": {},
   "outputs": [
    {
     "data": {
      "application/vnd.microsoft.datawrangler.viewer.v0+json": {
       "columns": [
        {
         "name": "Date",
         "rawType": "object",
         "type": "string"
        },
        {
         "name": "AAPL",
         "rawType": "int64",
         "type": "integer"
        },
        {
         "name": "IBM",
         "rawType": "int64",
         "type": "integer"
        },
        {
         "name": "MSFT",
         "rawType": "int64",
         "type": "integer"
        },
        {
         "name": "GOOG",
         "rawType": "int64",
         "type": "integer"
        }
       ],
       "ref": "0811e4dd-0b85-4267-9d00-16a127193598",
       "rows": [
        [
         "2010-01-04",
         "493729600",
         "6155300",
         "38409100",
         "3927065"
        ],
        [
         "2010-01-05",
         "601904800",
         "6841400",
         "49749600",
         "6031925"
        ],
        [
         "2010-01-06",
         "552160000",
         "5605300",
         "58182400",
         "7987226"
        ],
        [
         "2010-01-07",
         "477131200",
         "5840600",
         "50559700",
         "12876685"
        ],
        [
         "2010-01-08",
         "447610800",
         "4197200",
         "51197400",
         "9484016"
        ]
       ],
       "shape": {
        "columns": 4,
        "rows": 5
       }
      },
      "text/html": [
       "<div>\n",
       "<style scoped>\n",
       "    .dataframe tbody tr th:only-of-type {\n",
       "        vertical-align: middle;\n",
       "    }\n",
       "\n",
       "    .dataframe tbody tr th {\n",
       "        vertical-align: top;\n",
       "    }\n",
       "\n",
       "    .dataframe thead th {\n",
       "        text-align: right;\n",
       "    }\n",
       "</style>\n",
       "<table border=\"1\" class=\"dataframe\">\n",
       "  <thead>\n",
       "    <tr style=\"text-align: right;\">\n",
       "      <th></th>\n",
       "      <th>AAPL</th>\n",
       "      <th>IBM</th>\n",
       "      <th>MSFT</th>\n",
       "      <th>GOOG</th>\n",
       "    </tr>\n",
       "    <tr>\n",
       "      <th>Date</th>\n",
       "      <th></th>\n",
       "      <th></th>\n",
       "      <th></th>\n",
       "      <th></th>\n",
       "    </tr>\n",
       "  </thead>\n",
       "  <tbody>\n",
       "    <tr>\n",
       "      <th>2010-01-04</th>\n",
       "      <td>493729600</td>\n",
       "      <td>6155300</td>\n",
       "      <td>38409100</td>\n",
       "      <td>3927065</td>\n",
       "    </tr>\n",
       "    <tr>\n",
       "      <th>2010-01-05</th>\n",
       "      <td>601904800</td>\n",
       "      <td>6841400</td>\n",
       "      <td>49749600</td>\n",
       "      <td>6031925</td>\n",
       "    </tr>\n",
       "    <tr>\n",
       "      <th>2010-01-06</th>\n",
       "      <td>552160000</td>\n",
       "      <td>5605300</td>\n",
       "      <td>58182400</td>\n",
       "      <td>7987226</td>\n",
       "    </tr>\n",
       "    <tr>\n",
       "      <th>2010-01-07</th>\n",
       "      <td>477131200</td>\n",
       "      <td>5840600</td>\n",
       "      <td>50559700</td>\n",
       "      <td>12876685</td>\n",
       "    </tr>\n",
       "    <tr>\n",
       "      <th>2010-01-08</th>\n",
       "      <td>447610800</td>\n",
       "      <td>4197200</td>\n",
       "      <td>51197400</td>\n",
       "      <td>9484016</td>\n",
       "    </tr>\n",
       "  </tbody>\n",
       "</table>\n",
       "</div>"
      ],
      "text/plain": [
       "                 AAPL      IBM      MSFT      GOOG\n",
       "Date                                              \n",
       "2010-01-04  493729600  6155300  38409100   3927065\n",
       "2010-01-05  601904800  6841400  49749600   6031925\n",
       "2010-01-06  552160000  5605300  58182400   7987226\n",
       "2010-01-07  477131200  5840600  50559700  12876685\n",
       "2010-01-08  447610800  4197200  51197400   9484016"
      ]
     },
     "execution_count": 74,
     "metadata": {},
     "output_type": "execute_result"
    }
   ],
   "source": [
    "volume = pd.read_csv('datasets/volume_stocks.csv',index_col='Date')\n",
    "volume.head()"
   ]
  },
  {
   "cell_type": "code",
   "execution_count": 75,
   "id": "29ce5046",
   "metadata": {},
   "outputs": [
    {
     "data": {
      "text/plain": [
       "<Axes: xlabel='Date'>"
      ]
     },
     "execution_count": 75,
     "metadata": {},
     "output_type": "execute_result"
    },
    {
     "data": {
      "image/png": "[encoded data removed]",
      "text/plain": [
       "<Figure size 1500x600 with 1 Axes>"
      ]
     },
     "metadata": {},
     "output_type": "display_data"
    }
   ],
   "source": [
    "volume.plot(style=['r-','g-','b-','y-'], rot=45, figsize=(15,6))"
   ]
  },
  {
   "cell_type": "markdown",
   "id": "8cd70f0a",
   "metadata": {},
   "source": [
    "- Vamos agora calcular as mudanças percentuais nos preços."
   ]
  },
  {
   "cell_type": "code",
   "execution_count": 76,
   "id": "55b9ef09",
   "metadata": {},
   "outputs": [
    {
     "data": {
      "application/vnd.microsoft.datawrangler.viewer.v0+json": {
       "columns": [
        {
         "name": "Date",
         "rawType": "object",
         "type": "string"
        },
        {
         "name": "AAPL",
         "rawType": "float64",
         "type": "float"
        },
        {
         "name": "IBM",
         "rawType": "float64",
         "type": "float"
        },
        {
         "name": "MSFT",
         "rawType": "float64",
         "type": "float"
        },
        {
         "name": "GOOG",
         "rawType": "float64",
         "type": "float"
        }
       ],
       "ref": "b131bf32-83fc-4cf4-bb1c-b7a0bc8eac5d",
       "rows": [
        [
         "2015-12-24",
         "-0.005582137161084466",
         "-0.0021147480691431353",
         "-0.002564102564102666",
         "-0.0025456144793485347"
        ],
        [
         "2015-12-28",
         "-0.01122694466720131",
         "-0.00460702110015665",
         "0.0049436424757760555",
         "0.018853554249064652"
        ],
        [
         "2015-12-29",
         "0.018248175182481674",
         "0.015736369526983207",
         "0.010822510822510845",
         "0.01847844618431238"
        ],
        [
         "2015-12-30",
         "-0.01314217443249699",
         "-0.0030985145356785537",
         "-0.004282655246252709",
         "-0.0072109193922225145"
        ],
        [
         "2015-12-31",
         "-0.01937046004842613",
         "-0.012341164640277902",
         "-0.014858260019550262",
         "-0.015719844357976687"
        ]
       ],
       "shape": {
        "columns": 4,
        "rows": 5
       }
      },
      "text/html": [
       "<div>\n",
       "<style scoped>\n",
       "    .dataframe tbody tr th:only-of-type {\n",
       "        vertical-align: middle;\n",
       "    }\n",
       "\n",
       "    .dataframe tbody tr th {\n",
       "        vertical-align: top;\n",
       "    }\n",
       "\n",
       "    .dataframe thead th {\n",
       "        text-align: right;\n",
       "    }\n",
       "</style>\n",
       "<table border=\"1\" class=\"dataframe\">\n",
       "  <thead>\n",
       "    <tr style=\"text-align: right;\">\n",
       "      <th></th>\n",
       "      <th>AAPL</th>\n",
       "      <th>IBM</th>\n",
       "      <th>MSFT</th>\n",
       "      <th>GOOG</th>\n",
       "    </tr>\n",
       "    <tr>\n",
       "      <th>Date</th>\n",
       "      <th></th>\n",
       "      <th></th>\n",
       "      <th></th>\n",
       "      <th></th>\n",
       "    </tr>\n",
       "  </thead>\n",
       "  <tbody>\n",
       "    <tr>\n",
       "      <th>2015-12-24</th>\n",
       "      <td>-0.005582</td>\n",
       "      <td>-0.002115</td>\n",
       "      <td>-0.002564</td>\n",
       "      <td>-0.002546</td>\n",
       "    </tr>\n",
       "    <tr>\n",
       "      <th>2015-12-28</th>\n",
       "      <td>-0.011227</td>\n",
       "      <td>-0.004607</td>\n",
       "      <td>0.004944</td>\n",
       "      <td>0.018854</td>\n",
       "    </tr>\n",
       "    <tr>\n",
       "      <th>2015-12-29</th>\n",
       "      <td>0.018248</td>\n",
       "      <td>0.015736</td>\n",
       "      <td>0.010823</td>\n",
       "      <td>0.018478</td>\n",
       "    </tr>\n",
       "    <tr>\n",
       "      <th>2015-12-30</th>\n",
       "      <td>-0.013142</td>\n",
       "      <td>-0.003099</td>\n",
       "      <td>-0.004283</td>\n",
       "      <td>-0.007211</td>\n",
       "    </tr>\n",
       "    <tr>\n",
       "      <th>2015-12-31</th>\n",
       "      <td>-0.019370</td>\n",
       "      <td>-0.012341</td>\n",
       "      <td>-0.014858</td>\n",
       "      <td>-0.015720</td>\n",
       "    </tr>\n",
       "  </tbody>\n",
       "</table>\n",
       "</div>"
      ],
      "text/plain": [
       "                AAPL       IBM      MSFT      GOOG\n",
       "Date                                              \n",
       "2015-12-24 -0.005582 -0.002115 -0.002564 -0.002546\n",
       "2015-12-28 -0.011227 -0.004607  0.004944  0.018854\n",
       "2015-12-29  0.018248  0.015736  0.010823  0.018478\n",
       "2015-12-30 -0.013142 -0.003099 -0.004283 -0.007211\n",
       "2015-12-31 -0.019370 -0.012341 -0.014858 -0.015720"
      ]
     },
     "execution_count": 76,
     "metadata": {},
     "output_type": "execute_result"
    }
   ],
   "source": [
    "returns = price.pct_change()\n",
    "returns.tail()"
   ]
  },
  {
   "cell_type": "markdown",
   "id": "36ea1590",
   "metadata": {},
   "source": [
    "- O método corr de Series calcula a correlação entre os valores diferentes de NA de duas Series, alinhados pelo índice e que se sobrepõem."
   ]
  },
  {
   "cell_type": "code",
   "execution_count": 77,
   "id": "2e019a1e",
   "metadata": {},
   "outputs": [
    {
     "data": {
      "text/plain": [
       "np.float64(0.5080444874087223)"
      ]
     },
     "execution_count": 77,
     "metadata": {},
     "output_type": "execute_result"
    }
   ],
   "source": [
    "returns['MSFT'].corr(returns['IBM'])"
   ]
  },
  {
   "cell_type": "markdown",
   "id": "d51d5d47",
   "metadata": {},
   "source": [
    "- De forma relaciona, cov calcula a covariância"
   ]
  },
  {
   "cell_type": "code",
   "execution_count": 78,
   "id": "f47fd8f4",
   "metadata": {},
   "outputs": [
    {
     "data": {
      "text/plain": [
       "np.float64(8.901383608936152e-05)"
      ]
     },
     "execution_count": 78,
     "metadata": {},
     "output_type": "execute_result"
    }
   ],
   "source": [
    "returns['MSFT'].cov(returns['IBM'])"
   ]
  },
  {
   "cell_type": "markdown",
   "id": "ed0c271f",
   "metadata": {},
   "source": [
    "- Os métodos corr e cov de DataFrame, por outro lado, devolvem uma matriz completa de correlação ou de covariância como um DataFrame, respectivamente."
   ]
  },
  {
   "cell_type": "code",
   "execution_count": 79,
   "id": "2ecbff50",
   "metadata": {},
   "outputs": [
    {
     "data": {
      "application/vnd.microsoft.datawrangler.viewer.v0+json": {
       "columns": [
        {
         "name": "index",
         "rawType": "object",
         "type": "string"
        },
        {
         "name": "AAPL",
         "rawType": "float64",
         "type": "float"
        },
        {
         "name": "IBM",
         "rawType": "float64",
         "type": "float"
        },
        {
         "name": "MSFT",
         "rawType": "float64",
         "type": "float"
        },
        {
         "name": "GOOG",
         "rawType": "float64",
         "type": "float"
        }
       ],
       "ref": "dbe179de-ab24-4c18-9373-3addada35e4f",
       "rows": [
        [
         "AAPL",
         "1.0",
         "0.39768582392345403",
         "0.37940193849845266",
         "0.4053953010591168"
        ],
        [
         "IBM",
         "0.39768582392345403",
         "1.0",
         "0.5080444874087215",
         "0.4133059872508975"
        ],
        [
         "MSFT",
         "0.37940193849845266",
         "0.5080444874087215",
         "1.0",
         "0.444554909748165"
        ],
        [
         "GOOG",
         "0.4053953010591168",
         "0.4133059872508975",
         "0.444554909748165",
         "1.0"
        ]
       ],
       "shape": {
        "columns": 4,
        "rows": 4
       }
      },
      "text/html": [
       "<div>\n",
       "<style scoped>\n",
       "    .dataframe tbody tr th:only-of-type {\n",
       "        vertical-align: middle;\n",
       "    }\n",
       "\n",
       "    .dataframe tbody tr th {\n",
       "        vertical-align: top;\n",
       "    }\n",
       "\n",
       "    .dataframe thead th {\n",
       "        text-align: right;\n",
       "    }\n",
       "</style>\n",
       "<table border=\"1\" class=\"dataframe\">\n",
       "  <thead>\n",
       "    <tr style=\"text-align: right;\">\n",
       "      <th></th>\n",
       "      <th>AAPL</th>\n",
       "      <th>IBM</th>\n",
       "      <th>MSFT</th>\n",
       "      <th>GOOG</th>\n",
       "    </tr>\n",
       "  </thead>\n",
       "  <tbody>\n",
       "    <tr>\n",
       "      <th>AAPL</th>\n",
       "      <td>1.000000</td>\n",
       "      <td>0.397686</td>\n",
       "      <td>0.379402</td>\n",
       "      <td>0.405395</td>\n",
       "    </tr>\n",
       "    <tr>\n",
       "      <th>IBM</th>\n",
       "      <td>0.397686</td>\n",
       "      <td>1.000000</td>\n",
       "      <td>0.508044</td>\n",
       "      <td>0.413306</td>\n",
       "    </tr>\n",
       "    <tr>\n",
       "      <th>MSFT</th>\n",
       "      <td>0.379402</td>\n",
       "      <td>0.508044</td>\n",
       "      <td>1.000000</td>\n",
       "      <td>0.444555</td>\n",
       "    </tr>\n",
       "    <tr>\n",
       "      <th>GOOG</th>\n",
       "      <td>0.405395</td>\n",
       "      <td>0.413306</td>\n",
       "      <td>0.444555</td>\n",
       "      <td>1.000000</td>\n",
       "    </tr>\n",
       "  </tbody>\n",
       "</table>\n",
       "</div>"
      ],
      "text/plain": [
       "          AAPL       IBM      MSFT      GOOG\n",
       "AAPL  1.000000  0.397686  0.379402  0.405395\n",
       "IBM   0.397686  1.000000  0.508044  0.413306\n",
       "MSFT  0.379402  0.508044  1.000000  0.444555\n",
       "GOOG  0.405395  0.413306  0.444555  1.000000"
      ]
     },
     "execution_count": 79,
     "metadata": {},
     "output_type": "execute_result"
    }
   ],
   "source": [
    "returns.corr()"
   ]
  },
  {
   "cell_type": "code",
   "execution_count": 80,
   "id": "b0b80388",
   "metadata": {},
   "outputs": [
    {
     "data": {
      "application/vnd.microsoft.datawrangler.viewer.v0+json": {
       "columns": [
        {
         "name": "index",
         "rawType": "object",
         "type": "string"
        },
        {
         "name": "AAPL",
         "rawType": "float64",
         "type": "float"
        },
        {
         "name": "IBM",
         "rawType": "float64",
         "type": "float"
        },
        {
         "name": "MSFT",
         "rawType": "float64",
         "type": "float"
        },
        {
         "name": "GOOG",
         "rawType": "float64",
         "type": "float"
        }
       ],
       "ref": "2304cf66-4d9b-4de9-8d31-8eaabefe4876",
       "rows": [
        [
         "AAPL",
         "0.0002821162418744678",
         "7.99637777002331e-05",
         "9.326747440939569e-05",
         "0.00011034511057541001"
        ],
        [
         "IBM",
         "7.99637777002331e-05",
         "0.00014331059396230686",
         "8.901383608936145e-05",
         "8.018094738652295e-05"
        ],
        [
         "MSFT",
         "9.326747440939569e-05",
         "8.901383608936145e-05",
         "0.00021420679949699906",
         "0.0001054392664938593"
        ],
        [
         "GOOG",
         "0.00011034511057541001",
         "8.018094738652295e-05",
         "0.0001054392664938593",
         "0.0002626156948858456"
        ]
       ],
       "shape": {
        "columns": 4,
        "rows": 4
       }
      },
      "text/html": [
       "<div>\n",
       "<style scoped>\n",
       "    .dataframe tbody tr th:only-of-type {\n",
       "        vertical-align: middle;\n",
       "    }\n",
       "\n",
       "    .dataframe tbody tr th {\n",
       "        vertical-align: top;\n",
       "    }\n",
       "\n",
       "    .dataframe thead th {\n",
       "        text-align: right;\n",
       "    }\n",
       "</style>\n",
       "<table border=\"1\" class=\"dataframe\">\n",
       "  <thead>\n",
       "    <tr style=\"text-align: right;\">\n",
       "      <th></th>\n",
       "      <th>AAPL</th>\n",
       "      <th>IBM</th>\n",
       "      <th>MSFT</th>\n",
       "      <th>GOOG</th>\n",
       "    </tr>\n",
       "  </thead>\n",
       "  <tbody>\n",
       "    <tr>\n",
       "      <th>AAPL</th>\n",
       "      <td>0.000282</td>\n",
       "      <td>0.000080</td>\n",
       "      <td>0.000093</td>\n",
       "      <td>0.000110</td>\n",
       "    </tr>\n",
       "    <tr>\n",
       "      <th>IBM</th>\n",
       "      <td>0.000080</td>\n",
       "      <td>0.000143</td>\n",
       "      <td>0.000089</td>\n",
       "      <td>0.000080</td>\n",
       "    </tr>\n",
       "    <tr>\n",
       "      <th>MSFT</th>\n",
       "      <td>0.000093</td>\n",
       "      <td>0.000089</td>\n",
       "      <td>0.000214</td>\n",
       "      <td>0.000105</td>\n",
       "    </tr>\n",
       "    <tr>\n",
       "      <th>GOOG</th>\n",
       "      <td>0.000110</td>\n",
       "      <td>0.000080</td>\n",
       "      <td>0.000105</td>\n",
       "      <td>0.000263</td>\n",
       "    </tr>\n",
       "  </tbody>\n",
       "</table>\n",
       "</div>"
      ],
      "text/plain": [
       "          AAPL       IBM      MSFT      GOOG\n",
       "AAPL  0.000282  0.000080  0.000093  0.000110\n",
       "IBM   0.000080  0.000143  0.000089  0.000080\n",
       "MSFT  0.000093  0.000089  0.000214  0.000105\n",
       "GOOG  0.000110  0.000080  0.000105  0.000263"
      ]
     },
     "execution_count": 80,
     "metadata": {},
     "output_type": "execute_result"
    }
   ],
   "source": [
    "returns.cov()"
   ]
  },
  {
   "cell_type": "code",
   "execution_count": 81,
   "id": "926c8fea",
   "metadata": {},
   "outputs": [
    {
     "data": {
      "text/plain": [
       "<Axes: xlabel='Date'>"
      ]
     },
     "execution_count": 81,
     "metadata": {},
     "output_type": "execute_result"
    },
    {
     "data": {
      "image/png": "[encoded data removed]",
      "text/plain": [
       "<Figure size 1500x600 with 1 Axes>"
      ]
     },
     "metadata": {},
     "output_type": "display_data"
    }
   ],
   "source": [
    "price[['IBM', 'MSFT']].plot(style=['-','r-'], rot=45, figsize=(15,6))"
   ]
  },
  {
   "cell_type": "markdown",
   "id": "b6c60d49",
   "metadata": {},
   "source": [
    "- Ao usar o método corrwith de DataFrame, podemos calcular correlações de pares entre as colunas ou linhas de um DataFrame com outra Series ou um DataFrame. Passar uma Series devolve uma Series com o valor das correlações calculado para outra coluna."
   ]
  },
  {
   "cell_type": "code",
   "execution_count": 82,
   "id": "029dfd21",
   "metadata": {},
   "outputs": [
    {
     "data": {
      "application/vnd.microsoft.datawrangler.viewer.v0+json": {
       "columns": [
        {
         "name": "index",
         "rawType": "object",
         "type": "string"
        },
        {
         "name": "0",
         "rawType": "float64",
         "type": "float"
        }
       ],
       "ref": "43e1a304-59e1-4283-b0be-dd7bb0a024de",
       "rows": [
        [
         "AAPL",
         "0.3976858239234539"
        ],
        [
         "IBM",
         "1.0"
        ],
        [
         "MSFT",
         "0.5080444874087222"
        ],
        [
         "GOOG",
         "0.413305987250897"
        ]
       ],
       "shape": {
        "columns": 1,
        "rows": 4
       }
      },
      "text/plain": [
       "AAPL    0.397686\n",
       "IBM     1.000000\n",
       "MSFT    0.508044\n",
       "GOOG    0.413306\n",
       "dtype: float64"
      ]
     },
     "execution_count": 82,
     "metadata": {},
     "output_type": "execute_result"
    }
   ],
   "source": [
    "returns.corrwith(returns['IBM'])"
   ]
  },
  {
   "cell_type": "markdown",
   "id": "779260eb",
   "metadata": {},
   "source": [
    "- Passar um DataFrame calcula as correlações entre os nomes de coluna correspondentes. Nesse caso, calculei as correlações entre as mudanças percentuais e o volume"
   ]
  },
  {
   "cell_type": "code",
   "execution_count": 83,
   "id": "48bf3e72",
   "metadata": {},
   "outputs": [
    {
     "data": {
      "application/vnd.microsoft.datawrangler.viewer.v0+json": {
       "columns": [
        {
         "name": "index",
         "rawType": "object",
         "type": "string"
        },
        {
         "name": "0",
         "rawType": "float64",
         "type": "float"
        }
       ],
       "ref": "b1c2cb74-77d4-4497-845c-081e0d7de6e0",
       "rows": [
        [
         "AAPL",
         "-0.0826916490036555"
        ],
        [
         "IBM",
         "-0.20210853807781498"
        ],
        [
         "MSFT",
         "-0.08328864699306754"
        ],
        [
         "GOOG",
         "-0.00019186851587908762"
        ]
       ],
       "shape": {
        "columns": 1,
        "rows": 4
       }
      },
      "text/plain": [
       "AAPL   -0.082692\n",
       "IBM    -0.202109\n",
       "MSFT   -0.083289\n",
       "GOOG   -0.000192\n",
       "dtype: float64"
      ]
     },
     "execution_count": 83,
     "metadata": {},
     "output_type": "execute_result"
    }
   ],
   "source": [
    "returns.corrwith(volume)"
   ]
  }
 ],
 "metadata": {
  "hide_input": false,
  "kernelspec": {
   "display_name": ".venv",
   "language": "python",
   "name": "python3"
  },
  "language_info": {
   "codemirror_mode": {
    "name": "ipython",
    "version": 3
   },
   "file_extension": ".py",
   "mimetype": "text/x-python",
   "name": "python",
   "nbconvert_exporter": "python",
   "pygments_lexer": "ipython3",
   "version": "3.12.6"
  }
 },
 "nbformat": 4,
 "nbformat_minor": 5
}
