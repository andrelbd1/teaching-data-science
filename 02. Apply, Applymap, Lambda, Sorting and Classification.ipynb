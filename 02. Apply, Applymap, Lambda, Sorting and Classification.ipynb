{
 "cells": [
  {
   "cell_type": "markdown",
   "id": "a4b3d97a",
   "metadata": {},
   "source": [
    "## <font color=green> Aplicação de funções e mapeamento"
   ]
  },
  {
   "cell_type": "code",
   "execution_count": 1,
   "id": "73975c67",
   "metadata": {},
   "outputs": [],
   "source": [
    "import pandas as pd\n",
    "import numpy as np"
   ]
  },
  {
   "cell_type": "markdown",
   "id": "571b93a5",
   "metadata": {},
   "source": [
    "- Uma operação frequente consiste em aplicar uma função em arrays unidimensionais para cada coluna ou linha. O método apply faz exatamente isso."
   ]
  },
  {
   "cell_type": "code",
   "execution_count": 2,
   "id": "5ff6a0a1",
   "metadata": {},
   "outputs": [
    {
     "data": {
      "application/vnd.microsoft.datawrangler.viewer.v0+json": {
       "columns": [
        {
         "name": "index",
         "rawType": "object",
         "type": "string"
        },
        {
         "name": "Ohio",
         "rawType": "int64",
         "type": "integer"
        },
        {
         "name": "Texas",
         "rawType": "int64",
         "type": "integer"
        },
        {
         "name": "California",
         "rawType": "int64",
         "type": "integer"
        }
       ],
       "ref": "b827c24a-20f6-4153-b829-70d0e1f91b90",
       "rows": [
        [
         "a",
         "0",
         "1",
         "2"
        ],
        [
         "c",
         "3",
         "4",
         "5"
        ],
        [
         "d",
         "6",
         "7",
         "8"
        ]
       ],
       "shape": {
        "columns": 3,
        "rows": 3
       }
      },
      "text/html": [
       "<div>\n",
       "<style scoped>\n",
       "    .dataframe tbody tr th:only-of-type {\n",
       "        vertical-align: middle;\n",
       "    }\n",
       "\n",
       "    .dataframe tbody tr th {\n",
       "        vertical-align: top;\n",
       "    }\n",
       "\n",
       "    .dataframe thead th {\n",
       "        text-align: right;\n",
       "    }\n",
       "</style>\n",
       "<table border=\"1\" class=\"dataframe\">\n",
       "  <thead>\n",
       "    <tr style=\"text-align: right;\">\n",
       "      <th></th>\n",
       "      <th>Ohio</th>\n",
       "      <th>Texas</th>\n",
       "      <th>California</th>\n",
       "    </tr>\n",
       "  </thead>\n",
       "  <tbody>\n",
       "    <tr>\n",
       "      <th>a</th>\n",
       "      <td>0</td>\n",
       "      <td>1</td>\n",
       "      <td>2</td>\n",
       "    </tr>\n",
       "    <tr>\n",
       "      <th>c</th>\n",
       "      <td>3</td>\n",
       "      <td>4</td>\n",
       "      <td>5</td>\n",
       "    </tr>\n",
       "    <tr>\n",
       "      <th>d</th>\n",
       "      <td>6</td>\n",
       "      <td>7</td>\n",
       "      <td>8</td>\n",
       "    </tr>\n",
       "  </tbody>\n",
       "</table>\n",
       "</div>"
      ],
      "text/plain": [
       "   Ohio  Texas  California\n",
       "a     0      1           2\n",
       "c     3      4           5\n",
       "d     6      7           8"
      ]
     },
     "execution_count": 2,
     "metadata": {},
     "output_type": "execute_result"
    }
   ],
   "source": [
    "frame = pd.DataFrame(np.arange(9).reshape((3,3)), \n",
    "                        index=['a','c','d'], \n",
    "                        columns=['Ohio', 'Texas', 'California'])\n",
    "frame"
   ]
  },
  {
   "cell_type": "markdown",
   "id": "5266dfe1",
   "metadata": {},
   "source": [
    "- Nesse caso, a função f, que calcula a diferença entre o máximo e o mínimo de uma Series, é chamada uma vez em cada coluna de frame. O resultado é uma Series com as colunas de frame como seu índice."
   ]
  },
  {
   "cell_type": "code",
   "execution_count": 3,
   "id": "6636b0b6",
   "metadata": {},
   "outputs": [
    {
     "data": {
      "application/vnd.microsoft.datawrangler.viewer.v0+json": {
       "columns": [
        {
         "name": "index",
         "rawType": "object",
         "type": "string"
        },
        {
         "name": "0",
         "rawType": "int64",
         "type": "integer"
        }
       ],
       "ref": "61efd36b-91e9-4f6c-970b-df65c8e0d1cb",
       "rows": [
        [
         "Ohio",
         "6"
        ],
        [
         "Texas",
         "6"
        ],
        [
         "California",
         "6"
        ]
       ],
       "shape": {
        "columns": 1,
        "rows": 3
       }
      },
      "text/plain": [
       "Ohio          6\n",
       "Texas         6\n",
       "California    6\n",
       "dtype: int64"
      ]
     },
     "execution_count": 3,
     "metadata": {},
     "output_type": "execute_result"
    }
   ],
   "source": [
    "f = lambda x: x.max() - x.min()\n",
    "frame.apply(f)"
   ]
  },
  {
   "cell_type": "markdown",
   "id": "ee622957",
   "metadata": {},
   "source": [
    "- Se você passar axis='columns' para apply, a função será chamada uma vez por linha"
   ]
  },
  {
   "cell_type": "code",
   "execution_count": 4,
   "id": "a39a0967",
   "metadata": {},
   "outputs": [
    {
     "data": {
      "application/vnd.microsoft.datawrangler.viewer.v0+json": {
       "columns": [
        {
         "name": "index",
         "rawType": "object",
         "type": "string"
        },
        {
         "name": "0",
         "rawType": "int64",
         "type": "integer"
        }
       ],
       "ref": "742ba974-ccb0-4b07-a80f-ef19866720c8",
       "rows": [
        [
         "a",
         "2"
        ],
        [
         "c",
         "2"
        ],
        [
         "d",
         "2"
        ]
       ],
       "shape": {
        "columns": 1,
        "rows": 3
       }
      },
      "text/plain": [
       "a    2\n",
       "c    2\n",
       "d    2\n",
       "dtype: int64"
      ]
     },
     "execution_count": 4,
     "metadata": {},
     "output_type": "execute_result"
    }
   ],
   "source": [
    "frame.apply(f, axis='columns')"
   ]
  },
  {
   "cell_type": "markdown",
   "id": "86728133",
   "metadata": {},
   "source": [
    "- Podemos atribuir uma nova coluna que recebe o valor do processamento do apply"
   ]
  },
  {
   "cell_type": "code",
   "execution_count": 5,
   "id": "ba104f0e",
   "metadata": {},
   "outputs": [
    {
     "data": {
      "application/vnd.microsoft.datawrangler.viewer.v0+json": {
       "columns": [
        {
         "name": "index",
         "rawType": "object",
         "type": "string"
        },
        {
         "name": "Ohio",
         "rawType": "int64",
         "type": "integer"
        },
        {
         "name": "Texas",
         "rawType": "int64",
         "type": "integer"
        },
        {
         "name": "California",
         "rawType": "int64",
         "type": "integer"
        },
        {
         "name": "total",
         "rawType": "int64",
         "type": "integer"
        }
       ],
       "ref": "fcd955dd-e887-4cec-b886-59b7a1324156",
       "rows": [
        [
         "a",
         "0",
         "1",
         "2",
         "3"
        ],
        [
         "c",
         "3",
         "4",
         "5",
         "12"
        ],
        [
         "d",
         "6",
         "7",
         "8",
         "21"
        ]
       ],
       "shape": {
        "columns": 4,
        "rows": 3
       }
      },
      "text/html": [
       "<div>\n",
       "<style scoped>\n",
       "    .dataframe tbody tr th:only-of-type {\n",
       "        vertical-align: middle;\n",
       "    }\n",
       "\n",
       "    .dataframe tbody tr th {\n",
       "        vertical-align: top;\n",
       "    }\n",
       "\n",
       "    .dataframe thead th {\n",
       "        text-align: right;\n",
       "    }\n",
       "</style>\n",
       "<table border=\"1\" class=\"dataframe\">\n",
       "  <thead>\n",
       "    <tr style=\"text-align: right;\">\n",
       "      <th></th>\n",
       "      <th>Ohio</th>\n",
       "      <th>Texas</th>\n",
       "      <th>California</th>\n",
       "      <th>total</th>\n",
       "    </tr>\n",
       "  </thead>\n",
       "  <tbody>\n",
       "    <tr>\n",
       "      <th>a</th>\n",
       "      <td>0</td>\n",
       "      <td>1</td>\n",
       "      <td>2</td>\n",
       "      <td>3</td>\n",
       "    </tr>\n",
       "    <tr>\n",
       "      <th>c</th>\n",
       "      <td>3</td>\n",
       "      <td>4</td>\n",
       "      <td>5</td>\n",
       "      <td>12</td>\n",
       "    </tr>\n",
       "    <tr>\n",
       "      <th>d</th>\n",
       "      <td>6</td>\n",
       "      <td>7</td>\n",
       "      <td>8</td>\n",
       "      <td>21</td>\n",
       "    </tr>\n",
       "  </tbody>\n",
       "</table>\n",
       "</div>"
      ],
      "text/plain": [
       "   Ohio  Texas  California  total\n",
       "a     0      1           2      3\n",
       "c     3      4           5     12\n",
       "d     6      7           8     21"
      ]
     },
     "execution_count": 5,
     "metadata": {},
     "output_type": "execute_result"
    }
   ],
   "source": [
    "frame['total'] = frame.apply(lambda x: x.sum(), axis='columns')\n",
    "frame"
   ]
  },
  {
   "cell_type": "code",
   "execution_count": 6,
   "id": "a33339a3",
   "metadata": {},
   "outputs": [
    {
     "data": {
      "application/vnd.microsoft.datawrangler.viewer.v0+json": {
       "columns": [
        {
         "name": "index",
         "rawType": "object",
         "type": "string"
        },
        {
         "name": "Ohio",
         "rawType": "int64",
         "type": "integer"
        },
        {
         "name": "Texas",
         "rawType": "int64",
         "type": "integer"
        },
        {
         "name": "California",
         "rawType": "int64",
         "type": "integer"
        },
        {
         "name": "total",
         "rawType": "int64",
         "type": "integer"
        },
        {
         "name": "category",
         "rawType": "object",
         "type": "string"
        }
       ],
       "ref": "015e126f-1259-4b7f-84f0-45a91b544f83",
       "rows": [
        [
         "a",
         "0",
         "1",
         "2",
         "3",
         "impar"
        ],
        [
         "c",
         "3",
         "4",
         "5",
         "12",
         "par"
        ],
        [
         "d",
         "6",
         "7",
         "8",
         "21",
         "impar"
        ]
       ],
       "shape": {
        "columns": 5,
        "rows": 3
       }
      },
      "text/html": [
       "<div>\n",
       "<style scoped>\n",
       "    .dataframe tbody tr th:only-of-type {\n",
       "        vertical-align: middle;\n",
       "    }\n",
       "\n",
       "    .dataframe tbody tr th {\n",
       "        vertical-align: top;\n",
       "    }\n",
       "\n",
       "    .dataframe thead th {\n",
       "        text-align: right;\n",
       "    }\n",
       "</style>\n",
       "<table border=\"1\" class=\"dataframe\">\n",
       "  <thead>\n",
       "    <tr style=\"text-align: right;\">\n",
       "      <th></th>\n",
       "      <th>Ohio</th>\n",
       "      <th>Texas</th>\n",
       "      <th>California</th>\n",
       "      <th>total</th>\n",
       "      <th>category</th>\n",
       "    </tr>\n",
       "  </thead>\n",
       "  <tbody>\n",
       "    <tr>\n",
       "      <th>a</th>\n",
       "      <td>0</td>\n",
       "      <td>1</td>\n",
       "      <td>2</td>\n",
       "      <td>3</td>\n",
       "      <td>impar</td>\n",
       "    </tr>\n",
       "    <tr>\n",
       "      <th>c</th>\n",
       "      <td>3</td>\n",
       "      <td>4</td>\n",
       "      <td>5</td>\n",
       "      <td>12</td>\n",
       "      <td>par</td>\n",
       "    </tr>\n",
       "    <tr>\n",
       "      <th>d</th>\n",
       "      <td>6</td>\n",
       "      <td>7</td>\n",
       "      <td>8</td>\n",
       "      <td>21</td>\n",
       "      <td>impar</td>\n",
       "    </tr>\n",
       "  </tbody>\n",
       "</table>\n",
       "</div>"
      ],
      "text/plain": [
       "   Ohio  Texas  California  total category\n",
       "a     0      1           2      3    impar\n",
       "c     3      4           5     12      par\n",
       "d     6      7           8     21    impar"
      ]
     },
     "execution_count": 6,
     "metadata": {},
     "output_type": "execute_result"
    }
   ],
   "source": [
    "frame['category'] = frame['total'].apply(lambda x: 'impar' if x%2 else 'par')\n",
    "frame"
   ]
  },
  {
   "cell_type": "markdown",
   "id": "9909f982",
   "metadata": {},
   "source": [
    "- A função passada para apply não precisa devolver um valor escalar. Ela também pode devolver uma Series com múltiplos valores"
   ]
  },
  {
   "cell_type": "code",
   "execution_count": 7,
   "id": "54b92a98",
   "metadata": {},
   "outputs": [
    {
     "data": {
      "application/vnd.microsoft.datawrangler.viewer.v0+json": {
       "columns": [
        {
         "name": "index",
         "rawType": "object",
         "type": "string"
        },
        {
         "name": "Ohio",
         "rawType": "int64",
         "type": "integer"
        },
        {
         "name": "Texas",
         "rawType": "int64",
         "type": "integer"
        },
        {
         "name": "California",
         "rawType": "int64",
         "type": "integer"
        },
        {
         "name": "total",
         "rawType": "int64",
         "type": "integer"
        },
        {
         "name": "category",
         "rawType": "object",
         "type": "string"
        }
       ],
       "ref": "f1434b9e-fa2a-4b55-902c-6fd3f7129bf0",
       "rows": [
        [
         "min",
         "0",
         "1",
         "2",
         "3",
         "impar"
        ],
        [
         "max",
         "6",
         "7",
         "8",
         "21",
         "par"
        ]
       ],
       "shape": {
        "columns": 5,
        "rows": 2
       }
      },
      "text/html": [
       "<div>\n",
       "<style scoped>\n",
       "    .dataframe tbody tr th:only-of-type {\n",
       "        vertical-align: middle;\n",
       "    }\n",
       "\n",
       "    .dataframe tbody tr th {\n",
       "        vertical-align: top;\n",
       "    }\n",
       "\n",
       "    .dataframe thead th {\n",
       "        text-align: right;\n",
       "    }\n",
       "</style>\n",
       "<table border=\"1\" class=\"dataframe\">\n",
       "  <thead>\n",
       "    <tr style=\"text-align: right;\">\n",
       "      <th></th>\n",
       "      <th>Ohio</th>\n",
       "      <th>Texas</th>\n",
       "      <th>California</th>\n",
       "      <th>total</th>\n",
       "      <th>category</th>\n",
       "    </tr>\n",
       "  </thead>\n",
       "  <tbody>\n",
       "    <tr>\n",
       "      <th>min</th>\n",
       "      <td>0</td>\n",
       "      <td>1</td>\n",
       "      <td>2</td>\n",
       "      <td>3</td>\n",
       "      <td>impar</td>\n",
       "    </tr>\n",
       "    <tr>\n",
       "      <th>max</th>\n",
       "      <td>6</td>\n",
       "      <td>7</td>\n",
       "      <td>8</td>\n",
       "      <td>21</td>\n",
       "      <td>par</td>\n",
       "    </tr>\n",
       "  </tbody>\n",
       "</table>\n",
       "</div>"
      ],
      "text/plain": [
       "     Ohio  Texas  California  total category\n",
       "min     0      1           2      3    impar\n",
       "max     6      7           8     21      par"
      ]
     },
     "execution_count": 7,
     "metadata": {},
     "output_type": "execute_result"
    }
   ],
   "source": [
    "def f(x):\n",
    "    return pd.Series([x.min(), x.max()], index=['min', 'max'])\n",
    "\n",
    "frame.apply(f)"
   ]
  },
  {
   "cell_type": "markdown",
   "id": "67fc20b2",
   "metadata": {},
   "source": [
    "- É possível também retornar mais de um valor na função apply"
   ]
  },
  {
   "cell_type": "code",
   "execution_count": 8,
   "id": "8657b997",
   "metadata": {},
   "outputs": [
    {
     "data": {
      "application/vnd.microsoft.datawrangler.viewer.v0+json": {
       "columns": [
        {
         "name": "index",
         "rawType": "object",
         "type": "string"
        },
        {
         "name": "Ohio",
         "rawType": "int64",
         "type": "integer"
        },
        {
         "name": "Texas",
         "rawType": "int64",
         "type": "integer"
        },
        {
         "name": "California",
         "rawType": "int64",
         "type": "integer"
        },
        {
         "name": "total",
         "rawType": "int64",
         "type": "integer"
        },
        {
         "name": "category",
         "rawType": "object",
         "type": "string"
        },
        {
         "name": "min",
         "rawType": "int64",
         "type": "integer"
        },
        {
         "name": "max",
         "rawType": "int64",
         "type": "integer"
        }
       ],
       "ref": "49abdbcc-738b-4db4-a73f-f3c3cb83936d",
       "rows": [
        [
         "a",
         "0",
         "1",
         "2",
         "3",
         "impar",
         "0",
         "2"
        ],
        [
         "c",
         "3",
         "4",
         "5",
         "12",
         "par",
         "3",
         "5"
        ],
        [
         "d",
         "6",
         "7",
         "8",
         "21",
         "impar",
         "6",
         "8"
        ]
       ],
       "shape": {
        "columns": 7,
        "rows": 3
       }
      },
      "text/html": [
       "<div>\n",
       "<style scoped>\n",
       "    .dataframe tbody tr th:only-of-type {\n",
       "        vertical-align: middle;\n",
       "    }\n",
       "\n",
       "    .dataframe tbody tr th {\n",
       "        vertical-align: top;\n",
       "    }\n",
       "\n",
       "    .dataframe thead th {\n",
       "        text-align: right;\n",
       "    }\n",
       "</style>\n",
       "<table border=\"1\" class=\"dataframe\">\n",
       "  <thead>\n",
       "    <tr style=\"text-align: right;\">\n",
       "      <th></th>\n",
       "      <th>Ohio</th>\n",
       "      <th>Texas</th>\n",
       "      <th>California</th>\n",
       "      <th>total</th>\n",
       "      <th>category</th>\n",
       "      <th>min</th>\n",
       "      <th>max</th>\n",
       "    </tr>\n",
       "  </thead>\n",
       "  <tbody>\n",
       "    <tr>\n",
       "      <th>a</th>\n",
       "      <td>0</td>\n",
       "      <td>1</td>\n",
       "      <td>2</td>\n",
       "      <td>3</td>\n",
       "      <td>impar</td>\n",
       "      <td>0</td>\n",
       "      <td>2</td>\n",
       "    </tr>\n",
       "    <tr>\n",
       "      <th>c</th>\n",
       "      <td>3</td>\n",
       "      <td>4</td>\n",
       "      <td>5</td>\n",
       "      <td>12</td>\n",
       "      <td>par</td>\n",
       "      <td>3</td>\n",
       "      <td>5</td>\n",
       "    </tr>\n",
       "    <tr>\n",
       "      <th>d</th>\n",
       "      <td>6</td>\n",
       "      <td>7</td>\n",
       "      <td>8</td>\n",
       "      <td>21</td>\n",
       "      <td>impar</td>\n",
       "      <td>6</td>\n",
       "      <td>8</td>\n",
       "    </tr>\n",
       "  </tbody>\n",
       "</table>\n",
       "</div>"
      ],
      "text/plain": [
       "   Ohio  Texas  California  total category  min  max\n",
       "a     0      1           2      3    impar    0    2\n",
       "c     3      4           5     12      par    3    5\n",
       "d     6      7           8     21    impar    6    8"
      ]
     },
     "execution_count": 8,
     "metadata": {},
     "output_type": "execute_result"
    }
   ],
   "source": [
    "frame['min'], frame['max'] = zip(*frame[['Ohio','Texas','California']].apply(lambda row: (min(row), max(row)), axis=1))\n",
    "frame"
   ]
  },
  {
   "cell_type": "markdown",
   "id": "e235cb77",
   "metadata": {},
   "source": [
    "- Suponha que você quisesse calcular uma string formatada para cada valor de ponto flutuante em frame. Isso poderia ser feito com applymap\n",
    "- O motivo para o nome applymap está no fato de Series ter um método map para aplicar uma função em todos os elementos"
   ]
  },
  {
   "cell_type": "code",
   "execution_count": 9,
   "id": "b33be849",
   "metadata": {},
   "outputs": [
    {
     "data": {
      "application/vnd.microsoft.datawrangler.viewer.v0+json": {
       "columns": [
        {
         "name": "index",
         "rawType": "object",
         "type": "string"
        },
        {
         "name": "a",
         "rawType": "float64",
         "type": "float"
        },
        {
         "name": "b",
         "rawType": "float64",
         "type": "float"
        },
        {
         "name": "c",
         "rawType": "float64",
         "type": "float"
        }
       ],
       "ref": "b0f9b352-46b8-4865-803b-a7c2500a4dd8",
       "rows": [
        [
         "c1",
         "-0.09211413268495976",
         "-0.2744896143880488",
         "-0.7676745038071301"
        ],
        [
         "c2",
         "-1.0650448475526317",
         "-2.569703518662218",
         "0.6687659679597483"
        ],
        [
         "c3",
         "-0.46170838172843265",
         "-0.9132420633652997",
         "-0.474358265304821"
        ],
        [
         "c4",
         "-1.5982433131576441",
         "-2.0729256808087517",
         "1.6043110153216815"
        ]
       ],
       "shape": {
        "columns": 3,
        "rows": 4
       }
      },
      "text/html": [
       "<div>\n",
       "<style scoped>\n",
       "    .dataframe tbody tr th:only-of-type {\n",
       "        vertical-align: middle;\n",
       "    }\n",
       "\n",
       "    .dataframe tbody tr th {\n",
       "        vertical-align: top;\n",
       "    }\n",
       "\n",
       "    .dataframe thead th {\n",
       "        text-align: right;\n",
       "    }\n",
       "</style>\n",
       "<table border=\"1\" class=\"dataframe\">\n",
       "  <thead>\n",
       "    <tr style=\"text-align: right;\">\n",
       "      <th></th>\n",
       "      <th>a</th>\n",
       "      <th>b</th>\n",
       "      <th>c</th>\n",
       "    </tr>\n",
       "  </thead>\n",
       "  <tbody>\n",
       "    <tr>\n",
       "      <th>c1</th>\n",
       "      <td>-0.092114</td>\n",
       "      <td>-0.274490</td>\n",
       "      <td>-0.767675</td>\n",
       "    </tr>\n",
       "    <tr>\n",
       "      <th>c2</th>\n",
       "      <td>-1.065045</td>\n",
       "      <td>-2.569704</td>\n",
       "      <td>0.668766</td>\n",
       "    </tr>\n",
       "    <tr>\n",
       "      <th>c3</th>\n",
       "      <td>-0.461708</td>\n",
       "      <td>-0.913242</td>\n",
       "      <td>-0.474358</td>\n",
       "    </tr>\n",
       "    <tr>\n",
       "      <th>c4</th>\n",
       "      <td>-1.598243</td>\n",
       "      <td>-2.072926</td>\n",
       "      <td>1.604311</td>\n",
       "    </tr>\n",
       "  </tbody>\n",
       "</table>\n",
       "</div>"
      ],
      "text/plain": [
       "           a         b         c\n",
       "c1 -0.092114 -0.274490 -0.767675\n",
       "c2 -1.065045 -2.569704  0.668766\n",
       "c3 -0.461708 -0.913242 -0.474358\n",
       "c4 -1.598243 -2.072926  1.604311"
      ]
     },
     "execution_count": 9,
     "metadata": {},
     "output_type": "execute_result"
    }
   ],
   "source": [
    "numbers = pd.DataFrame(np.random.randn(4,3), columns=list('abc'), index=['c1', 'c2', 'c3', 'c4'])\n",
    "numbers"
   ]
  },
  {
   "cell_type": "code",
   "execution_count": 10,
   "id": "dc5eea2e",
   "metadata": {},
   "outputs": [
    {
     "name": "stderr",
     "output_type": "stream",
     "text": [
      "/tmp/ipykernel_805355/2501985992.py:2: FutureWarning: DataFrame.applymap has been deprecated. Use DataFrame.map instead.\n",
      "  numbers.applymap(format)\n"
     ]
    },
    {
     "data": {
      "application/vnd.microsoft.datawrangler.viewer.v0+json": {
       "columns": [
        {
         "name": "index",
         "rawType": "object",
         "type": "string"
        },
        {
         "name": "a",
         "rawType": "object",
         "type": "string"
        },
        {
         "name": "b",
         "rawType": "object",
         "type": "string"
        },
        {
         "name": "c",
         "rawType": "object",
         "type": "string"
        }
       ],
       "ref": "10bbc640-b5f6-4176-8bb8-299108cfb038",
       "rows": [
        [
         "c1",
         "-0.09",
         "-0.27",
         "-0.77"
        ],
        [
         "c2",
         "-1.07",
         "-2.57",
         "0.67"
        ],
        [
         "c3",
         "-0.46",
         "-0.91",
         "-0.47"
        ],
        [
         "c4",
         "-1.60",
         "-2.07",
         "1.60"
        ]
       ],
       "shape": {
        "columns": 3,
        "rows": 4
       }
      },
      "text/html": [
       "<div>\n",
       "<style scoped>\n",
       "    .dataframe tbody tr th:only-of-type {\n",
       "        vertical-align: middle;\n",
       "    }\n",
       "\n",
       "    .dataframe tbody tr th {\n",
       "        vertical-align: top;\n",
       "    }\n",
       "\n",
       "    .dataframe thead th {\n",
       "        text-align: right;\n",
       "    }\n",
       "</style>\n",
       "<table border=\"1\" class=\"dataframe\">\n",
       "  <thead>\n",
       "    <tr style=\"text-align: right;\">\n",
       "      <th></th>\n",
       "      <th>a</th>\n",
       "      <th>b</th>\n",
       "      <th>c</th>\n",
       "    </tr>\n",
       "  </thead>\n",
       "  <tbody>\n",
       "    <tr>\n",
       "      <th>c1</th>\n",
       "      <td>-0.09</td>\n",
       "      <td>-0.27</td>\n",
       "      <td>-0.77</td>\n",
       "    </tr>\n",
       "    <tr>\n",
       "      <th>c2</th>\n",
       "      <td>-1.07</td>\n",
       "      <td>-2.57</td>\n",
       "      <td>0.67</td>\n",
       "    </tr>\n",
       "    <tr>\n",
       "      <th>c3</th>\n",
       "      <td>-0.46</td>\n",
       "      <td>-0.91</td>\n",
       "      <td>-0.47</td>\n",
       "    </tr>\n",
       "    <tr>\n",
       "      <th>c4</th>\n",
       "      <td>-1.60</td>\n",
       "      <td>-2.07</td>\n",
       "      <td>1.60</td>\n",
       "    </tr>\n",
       "  </tbody>\n",
       "</table>\n",
       "</div>"
      ],
      "text/plain": [
       "        a      b      c\n",
       "c1  -0.09  -0.27  -0.77\n",
       "c2  -1.07  -2.57   0.67\n",
       "c3  -0.46  -0.91  -0.47\n",
       "c4  -1.60  -2.07   1.60"
      ]
     },
     "execution_count": 10,
     "metadata": {},
     "output_type": "execute_result"
    }
   ],
   "source": [
    "format = lambda x: '%.2f' % x\n",
    "numbers.applymap(format)"
   ]
  },
  {
   "cell_type": "code",
   "execution_count": 11,
   "id": "80854e3c",
   "metadata": {},
   "outputs": [
    {
     "data": {
      "application/vnd.microsoft.datawrangler.viewer.v0+json": {
       "columns": [
        {
         "name": "index",
         "rawType": "object",
         "type": "string"
        },
        {
         "name": "c",
         "rawType": "object",
         "type": "string"
        }
       ],
       "ref": "bd02b1da-e3f1-4264-9f01-4de9c1bd8fc0",
       "rows": [
        [
         "c1",
         "-0.77"
        ],
        [
         "c2",
         "0.67"
        ],
        [
         "c3",
         "-0.47"
        ],
        [
         "c4",
         "1.60"
        ]
       ],
       "shape": {
        "columns": 1,
        "rows": 4
       }
      },
      "text/plain": [
       "c1    -0.77\n",
       "c2     0.67\n",
       "c3    -0.47\n",
       "c4     1.60\n",
       "Name: c, dtype: object"
      ]
     },
     "execution_count": 11,
     "metadata": {},
     "output_type": "execute_result"
    }
   ],
   "source": [
    "numbers['c'].map(format)"
   ]
  },
  {
   "cell_type": "markdown",
   "id": "3891330a",
   "metadata": {},
   "source": [
    "- Suponha que você quisesse exibir os valores menores que 0 na cor vermelha e o restante na cor azul. Isso também pode ser feito com applymap"
   ]
  },
  {
   "cell_type": "code",
   "execution_count": 12,
   "id": "31ddf199",
   "metadata": {},
   "outputs": [],
   "source": [
    "def color_df(val):\n",
    "    color = 'red' if val < 0 else 'blue'\n",
    "    return 'color: ' + color"
   ]
  },
  {
   "cell_type": "code",
   "execution_count": 13,
   "id": "00b43526",
   "metadata": {},
   "outputs": [
    {
     "name": "stderr",
     "output_type": "stream",
     "text": [
      "/tmp/ipykernel_805355/3181525855.py:1: FutureWarning: Styler.applymap has been deprecated. Use Styler.map instead.\n",
      "  numbers.style.applymap(color_df)\n"
     ]
    },
    {
     "data": {
      "text/html": [
       "<style type=\"text/css\">\n",
       "#T_b11e9_row0_col0, #T_b11e9_row0_col1, #T_b11e9_row0_col2, #T_b11e9_row1_col0, #T_b11e9_row1_col1, #T_b11e9_row2_col0, #T_b11e9_row2_col1, #T_b11e9_row2_col2, #T_b11e9_row3_col0, #T_b11e9_row3_col1 {\n",
       "  color: red;\n",
       "}\n",
       "#T_b11e9_row1_col2, #T_b11e9_row3_col2 {\n",
       "  color: blue;\n",
       "}\n",
       "</style>\n",
       "<table id=\"T_b11e9\">\n",
       "  <thead>\n",
       "    <tr>\n",
       "      <th class=\"blank level0\" >&nbsp;</th>\n",
       "      <th id=\"T_b11e9_level0_col0\" class=\"col_heading level0 col0\" >a</th>\n",
       "      <th id=\"T_b11e9_level0_col1\" class=\"col_heading level0 col1\" >b</th>\n",
       "      <th id=\"T_b11e9_level0_col2\" class=\"col_heading level0 col2\" >c</th>\n",
       "    </tr>\n",
       "  </thead>\n",
       "  <tbody>\n",
       "    <tr>\n",
       "      <th id=\"T_b11e9_level0_row0\" class=\"row_heading level0 row0\" >c1</th>\n",
       "      <td id=\"T_b11e9_row0_col0\" class=\"data row0 col0\" >-0.092114</td>\n",
       "      <td id=\"T_b11e9_row0_col1\" class=\"data row0 col1\" >-0.274490</td>\n",
       "      <td id=\"T_b11e9_row0_col2\" class=\"data row0 col2\" >-0.767675</td>\n",
       "    </tr>\n",
       "    <tr>\n",
       "      <th id=\"T_b11e9_level0_row1\" class=\"row_heading level0 row1\" >c2</th>\n",
       "      <td id=\"T_b11e9_row1_col0\" class=\"data row1 col0\" >-1.065045</td>\n",
       "      <td id=\"T_b11e9_row1_col1\" class=\"data row1 col1\" >-2.569704</td>\n",
       "      <td id=\"T_b11e9_row1_col2\" class=\"data row1 col2\" >0.668766</td>\n",
       "    </tr>\n",
       "    <tr>\n",
       "      <th id=\"T_b11e9_level0_row2\" class=\"row_heading level0 row2\" >c3</th>\n",
       "      <td id=\"T_b11e9_row2_col0\" class=\"data row2 col0\" >-0.461708</td>\n",
       "      <td id=\"T_b11e9_row2_col1\" class=\"data row2 col1\" >-0.913242</td>\n",
       "      <td id=\"T_b11e9_row2_col2\" class=\"data row2 col2\" >-0.474358</td>\n",
       "    </tr>\n",
       "    <tr>\n",
       "      <th id=\"T_b11e9_level0_row3\" class=\"row_heading level0 row3\" >c4</th>\n",
       "      <td id=\"T_b11e9_row3_col0\" class=\"data row3 col0\" >-1.598243</td>\n",
       "      <td id=\"T_b11e9_row3_col1\" class=\"data row3 col1\" >-2.072926</td>\n",
       "      <td id=\"T_b11e9_row3_col2\" class=\"data row3 col2\" >1.604311</td>\n",
       "    </tr>\n",
       "  </tbody>\n",
       "</table>\n"
      ],
      "text/plain": [
       "<pandas.io.formats.style.Styler at 0x722489318830>"
      ]
     },
     "execution_count": 13,
     "metadata": {},
     "output_type": "execute_result"
    }
   ],
   "source": [
    "numbers.style.applymap(color_df)"
   ]
  },
  {
   "cell_type": "markdown",
   "id": "6c48c306",
   "metadata": {},
   "source": [
    "## <font color=green> Ordenação e classificação"
   ]
  },
  {
   "cell_type": "markdown",
   "id": "61fc76ef",
   "metadata": {},
   "source": [
    "- Para ordenar de modo lexicográfico pelo índice da linha ou da coluna, utilize o método sort_index, que devolve um novo objeto ordenado"
   ]
  },
  {
   "cell_type": "code",
   "execution_count": 14,
   "id": "98ef709e",
   "metadata": {},
   "outputs": [
    {
     "data": {
      "application/vnd.microsoft.datawrangler.viewer.v0+json": {
       "columns": [
        {
         "name": "index",
         "rawType": "object",
         "type": "string"
        },
        {
         "name": "0",
         "rawType": "int64",
         "type": "integer"
        }
       ],
       "ref": "0eba7373-dd68-4cea-8f3a-9a0d1e53832a",
       "rows": [
        [
         "d",
         "0"
        ],
        [
         "a",
         "1"
        ],
        [
         "b",
         "2"
        ],
        [
         "c",
         "3"
        ]
       ],
       "shape": {
        "columns": 1,
        "rows": 4
       }
      },
      "text/plain": [
       "d    0\n",
       "a    1\n",
       "b    2\n",
       "c    3\n",
       "dtype: int64"
      ]
     },
     "execution_count": 14,
     "metadata": {},
     "output_type": "execute_result"
    }
   ],
   "source": [
    "obj = pd.Series(range(4), index=['d', 'a', 'b', 'c'])\n",
    "obj"
   ]
  },
  {
   "cell_type": "code",
   "execution_count": 15,
   "id": "56bcb694",
   "metadata": {},
   "outputs": [
    {
     "data": {
      "application/vnd.microsoft.datawrangler.viewer.v0+json": {
       "columns": [
        {
         "name": "index",
         "rawType": "object",
         "type": "string"
        },
        {
         "name": "0",
         "rawType": "int64",
         "type": "integer"
        }
       ],
       "ref": "de061028-432e-4e70-accd-475f449a4b72",
       "rows": [
        [
         "a",
         "1"
        ],
        [
         "b",
         "2"
        ],
        [
         "c",
         "3"
        ],
        [
         "d",
         "0"
        ]
       ],
       "shape": {
        "columns": 1,
        "rows": 4
       }
      },
      "text/plain": [
       "a    1\n",
       "b    2\n",
       "c    3\n",
       "d    0\n",
       "dtype: int64"
      ]
     },
     "execution_count": 15,
     "metadata": {},
     "output_type": "execute_result"
    }
   ],
   "source": [
    "obj.sort_index()"
   ]
  },
  {
   "cell_type": "markdown",
   "id": "b6b30b80",
   "metadata": {},
   "source": [
    "- Com um DataFrame, você pode ordenar pelo índice em qualquer eixo"
   ]
  },
  {
   "cell_type": "code",
   "execution_count": 16,
   "id": "4f4e8227",
   "metadata": {},
   "outputs": [],
   "source": [
    "frame = pd.DataFrame(np.arange(8).reshape((2,4)), index=['three', 'one'], columns=['d', 'a', 'b', 'c'])"
   ]
  },
  {
   "cell_type": "code",
   "execution_count": 17,
   "id": "686874d3",
   "metadata": {},
   "outputs": [
    {
     "data": {
      "application/vnd.microsoft.datawrangler.viewer.v0+json": {
       "columns": [
        {
         "name": "index",
         "rawType": "object",
         "type": "string"
        },
        {
         "name": "d",
         "rawType": "int64",
         "type": "integer"
        },
        {
         "name": "a",
         "rawType": "int64",
         "type": "integer"
        },
        {
         "name": "b",
         "rawType": "int64",
         "type": "integer"
        },
        {
         "name": "c",
         "rawType": "int64",
         "type": "integer"
        }
       ],
       "ref": "53a36d72-300a-441e-8446-fe381296b2b9",
       "rows": [
        [
         "one",
         "4",
         "5",
         "6",
         "7"
        ],
        [
         "three",
         "0",
         "1",
         "2",
         "3"
        ]
       ],
       "shape": {
        "columns": 4,
        "rows": 2
       }
      },
      "text/html": [
       "<div>\n",
       "<style scoped>\n",
       "    .dataframe tbody tr th:only-of-type {\n",
       "        vertical-align: middle;\n",
       "    }\n",
       "\n",
       "    .dataframe tbody tr th {\n",
       "        vertical-align: top;\n",
       "    }\n",
       "\n",
       "    .dataframe thead th {\n",
       "        text-align: right;\n",
       "    }\n",
       "</style>\n",
       "<table border=\"1\" class=\"dataframe\">\n",
       "  <thead>\n",
       "    <tr style=\"text-align: right;\">\n",
       "      <th></th>\n",
       "      <th>d</th>\n",
       "      <th>a</th>\n",
       "      <th>b</th>\n",
       "      <th>c</th>\n",
       "    </tr>\n",
       "  </thead>\n",
       "  <tbody>\n",
       "    <tr>\n",
       "      <th>one</th>\n",
       "      <td>4</td>\n",
       "      <td>5</td>\n",
       "      <td>6</td>\n",
       "      <td>7</td>\n",
       "    </tr>\n",
       "    <tr>\n",
       "      <th>three</th>\n",
       "      <td>0</td>\n",
       "      <td>1</td>\n",
       "      <td>2</td>\n",
       "      <td>3</td>\n",
       "    </tr>\n",
       "  </tbody>\n",
       "</table>\n",
       "</div>"
      ],
      "text/plain": [
       "       d  a  b  c\n",
       "one    4  5  6  7\n",
       "three  0  1  2  3"
      ]
     },
     "execution_count": 17,
     "metadata": {},
     "output_type": "execute_result"
    }
   ],
   "source": [
    "frame.sort_index()"
   ]
  },
  {
   "cell_type": "code",
   "execution_count": 18,
   "id": "ebcaed7c",
   "metadata": {},
   "outputs": [
    {
     "data": {
      "application/vnd.microsoft.datawrangler.viewer.v0+json": {
       "columns": [
        {
         "name": "index",
         "rawType": "object",
         "type": "string"
        },
        {
         "name": "a",
         "rawType": "int64",
         "type": "integer"
        },
        {
         "name": "b",
         "rawType": "int64",
         "type": "integer"
        },
        {
         "name": "c",
         "rawType": "int64",
         "type": "integer"
        },
        {
         "name": "d",
         "rawType": "int64",
         "type": "integer"
        }
       ],
       "ref": "94ec7386-85c2-45f3-b2f3-7756a3b65832",
       "rows": [
        [
         "three",
         "1",
         "2",
         "3",
         "0"
        ],
        [
         "one",
         "5",
         "6",
         "7",
         "4"
        ]
       ],
       "shape": {
        "columns": 4,
        "rows": 2
       }
      },
      "text/html": [
       "<div>\n",
       "<style scoped>\n",
       "    .dataframe tbody tr th:only-of-type {\n",
       "        vertical-align: middle;\n",
       "    }\n",
       "\n",
       "    .dataframe tbody tr th {\n",
       "        vertical-align: top;\n",
       "    }\n",
       "\n",
       "    .dataframe thead th {\n",
       "        text-align: right;\n",
       "    }\n",
       "</style>\n",
       "<table border=\"1\" class=\"dataframe\">\n",
       "  <thead>\n",
       "    <tr style=\"text-align: right;\">\n",
       "      <th></th>\n",
       "      <th>a</th>\n",
       "      <th>b</th>\n",
       "      <th>c</th>\n",
       "      <th>d</th>\n",
       "    </tr>\n",
       "  </thead>\n",
       "  <tbody>\n",
       "    <tr>\n",
       "      <th>three</th>\n",
       "      <td>1</td>\n",
       "      <td>2</td>\n",
       "      <td>3</td>\n",
       "      <td>0</td>\n",
       "    </tr>\n",
       "    <tr>\n",
       "      <th>one</th>\n",
       "      <td>5</td>\n",
       "      <td>6</td>\n",
       "      <td>7</td>\n",
       "      <td>4</td>\n",
       "    </tr>\n",
       "  </tbody>\n",
       "</table>\n",
       "</div>"
      ],
      "text/plain": [
       "       a  b  c  d\n",
       "three  1  2  3  0\n",
       "one    5  6  7  4"
      ]
     },
     "execution_count": 18,
     "metadata": {},
     "output_type": "execute_result"
    }
   ],
   "source": [
    "frame.sort_index(axis='columns')"
   ]
  },
  {
   "cell_type": "markdown",
   "id": "bdea88fc",
   "metadata": {},
   "source": [
    "- Os dados são ordenados em ordem crescente por padrão, mas podem ser ordenados também em ordem decrescente"
   ]
  },
  {
   "cell_type": "code",
   "execution_count": 19,
   "id": "aabb1cce",
   "metadata": {},
   "outputs": [
    {
     "data": {
      "application/vnd.microsoft.datawrangler.viewer.v0+json": {
       "columns": [
        {
         "name": "index",
         "rawType": "object",
         "type": "string"
        },
        {
         "name": "d",
         "rawType": "int64",
         "type": "integer"
        },
        {
         "name": "c",
         "rawType": "int64",
         "type": "integer"
        },
        {
         "name": "b",
         "rawType": "int64",
         "type": "integer"
        },
        {
         "name": "a",
         "rawType": "int64",
         "type": "integer"
        }
       ],
       "ref": "36a94c3f-7401-400a-b760-8b6dd1200b9e",
       "rows": [
        [
         "three",
         "0",
         "3",
         "2",
         "1"
        ],
        [
         "one",
         "4",
         "7",
         "6",
         "5"
        ]
       ],
       "shape": {
        "columns": 4,
        "rows": 2
       }
      },
      "text/html": [
       "<div>\n",
       "<style scoped>\n",
       "    .dataframe tbody tr th:only-of-type {\n",
       "        vertical-align: middle;\n",
       "    }\n",
       "\n",
       "    .dataframe tbody tr th {\n",
       "        vertical-align: top;\n",
       "    }\n",
       "\n",
       "    .dataframe thead th {\n",
       "        text-align: right;\n",
       "    }\n",
       "</style>\n",
       "<table border=\"1\" class=\"dataframe\">\n",
       "  <thead>\n",
       "    <tr style=\"text-align: right;\">\n",
       "      <th></th>\n",
       "      <th>d</th>\n",
       "      <th>c</th>\n",
       "      <th>b</th>\n",
       "      <th>a</th>\n",
       "    </tr>\n",
       "  </thead>\n",
       "  <tbody>\n",
       "    <tr>\n",
       "      <th>three</th>\n",
       "      <td>0</td>\n",
       "      <td>3</td>\n",
       "      <td>2</td>\n",
       "      <td>1</td>\n",
       "    </tr>\n",
       "    <tr>\n",
       "      <th>one</th>\n",
       "      <td>4</td>\n",
       "      <td>7</td>\n",
       "      <td>6</td>\n",
       "      <td>5</td>\n",
       "    </tr>\n",
       "  </tbody>\n",
       "</table>\n",
       "</div>"
      ],
      "text/plain": [
       "       d  c  b  a\n",
       "three  0  3  2  1\n",
       "one    4  7  6  5"
      ]
     },
     "execution_count": 19,
     "metadata": {},
     "output_type": "execute_result"
    }
   ],
   "source": [
    "frame.sort_index(axis='columns', ascending=False)"
   ]
  },
  {
   "cell_type": "markdown",
   "id": "88d4be44",
   "metadata": {},
   "source": [
    "- Para ordenar uma Series de acordo com seus valores, utiliza o seu método sort_values"
   ]
  },
  {
   "cell_type": "code",
   "execution_count": 20,
   "id": "cba2ea78",
   "metadata": {},
   "outputs": [
    {
     "data": {
      "application/vnd.microsoft.datawrangler.viewer.v0+json": {
       "columns": [
        {
         "name": "index",
         "rawType": "int64",
         "type": "integer"
        },
        {
         "name": "0",
         "rawType": "int64",
         "type": "integer"
        }
       ],
       "ref": "536ab25e-e1e2-4a3d-82ca-a7ce90ba11e8",
       "rows": [
        [
         "0",
         "4"
        ],
        [
         "1",
         "7"
        ],
        [
         "2",
         "-3"
        ],
        [
         "3",
         "2"
        ]
       ],
       "shape": {
        "columns": 1,
        "rows": 4
       }
      },
      "text/plain": [
       "0    4\n",
       "1    7\n",
       "2   -3\n",
       "3    2\n",
       "dtype: int64"
      ]
     },
     "execution_count": 20,
     "metadata": {},
     "output_type": "execute_result"
    }
   ],
   "source": [
    "obj = pd.Series([4,7,-3,2])\n",
    "obj"
   ]
  },
  {
   "cell_type": "code",
   "execution_count": 21,
   "id": "4abcfa45",
   "metadata": {},
   "outputs": [
    {
     "data": {
      "application/vnd.microsoft.datawrangler.viewer.v0+json": {
       "columns": [
        {
         "name": "index",
         "rawType": "int64",
         "type": "integer"
        },
        {
         "name": "0",
         "rawType": "int64",
         "type": "integer"
        }
       ],
       "ref": "c6c01387-e7e8-4ffb-aff4-d9558f172b17",
       "rows": [
        [
         "2",
         "-3"
        ],
        [
         "3",
         "2"
        ],
        [
         "0",
         "4"
        ],
        [
         "1",
         "7"
        ]
       ],
       "shape": {
        "columns": 1,
        "rows": 4
       }
      },
      "text/plain": [
       "2   -3\n",
       "3    2\n",
       "0    4\n",
       "1    7\n",
       "dtype: int64"
      ]
     },
     "execution_count": 21,
     "metadata": {},
     "output_type": "execute_result"
    }
   ],
   "source": [
    "obj.sort_values()"
   ]
  },
  {
   "cell_type": "markdown",
   "id": "15ceab28",
   "metadata": {},
   "source": [
    "- Qualquer valor indicativo de ausência será ordenado no final da Series, por padrão"
   ]
  },
  {
   "cell_type": "code",
   "execution_count": 22,
   "id": "f628ff32",
   "metadata": {},
   "outputs": [
    {
     "data": {
      "application/vnd.microsoft.datawrangler.viewer.v0+json": {
       "columns": [
        {
         "name": "index",
         "rawType": "int64",
         "type": "integer"
        },
        {
         "name": "0",
         "rawType": "float64",
         "type": "float"
        }
       ],
       "ref": "9f478e58-6a03-4c90-a91f-5c810b0e4f91",
       "rows": [
        [
         "0",
         "4.0"
        ],
        [
         "1",
         null
        ],
        [
         "2",
         "7.0"
        ],
        [
         "3",
         null
        ],
        [
         "4",
         "-3.0"
        ],
        [
         "5",
         "2.0"
        ]
       ],
       "shape": {
        "columns": 1,
        "rows": 6
       }
      },
      "text/plain": [
       "0    4.0\n",
       "1    NaN\n",
       "2    7.0\n",
       "3    NaN\n",
       "4   -3.0\n",
       "5    2.0\n",
       "dtype: float64"
      ]
     },
     "execution_count": 22,
     "metadata": {},
     "output_type": "execute_result"
    }
   ],
   "source": [
    "obj = pd.Series([4, np.nan, 7, np.nan, -3, 2])\n",
    "obj"
   ]
  },
  {
   "cell_type": "code",
   "execution_count": 23,
   "id": "96395bc6",
   "metadata": {},
   "outputs": [
    {
     "data": {
      "application/vnd.microsoft.datawrangler.viewer.v0+json": {
       "columns": [
        {
         "name": "index",
         "rawType": "int64",
         "type": "integer"
        },
        {
         "name": "0",
         "rawType": "float64",
         "type": "float"
        }
       ],
       "ref": "650a50fe-811c-4b7d-a1b3-38e819e02e13",
       "rows": [
        [
         "4",
         "-3.0"
        ],
        [
         "5",
         "2.0"
        ],
        [
         "0",
         "4.0"
        ],
        [
         "2",
         "7.0"
        ],
        [
         "1",
         null
        ],
        [
         "3",
         null
        ]
       ],
       "shape": {
        "columns": 1,
        "rows": 6
       }
      },
      "text/plain": [
       "4   -3.0\n",
       "5    2.0\n",
       "0    4.0\n",
       "2    7.0\n",
       "1    NaN\n",
       "3    NaN\n",
       "dtype: float64"
      ]
     },
     "execution_count": 23,
     "metadata": {},
     "output_type": "execute_result"
    }
   ],
   "source": [
    "obj.sort_values()"
   ]
  },
  {
   "cell_type": "markdown",
   "id": "1ed43aed",
   "metadata": {},
   "source": [
    "- Quando ordenar um DataFrame, você poderá usar os dados de uma ou mais colunas como chaves de ordenação. Para isso, passe um ou mais nomes de coluna para a opção by de sort_values"
   ]
  },
  {
   "cell_type": "code",
   "execution_count": 24,
   "id": "86368d5c",
   "metadata": {},
   "outputs": [
    {
     "data": {
      "application/vnd.microsoft.datawrangler.viewer.v0+json": {
       "columns": [
        {
         "name": "index",
         "rawType": "int64",
         "type": "integer"
        },
        {
         "name": "b",
         "rawType": "int64",
         "type": "integer"
        },
        {
         "name": "a",
         "rawType": "int64",
         "type": "integer"
        }
       ],
       "ref": "e26122b9-a1b5-41ac-a9b9-309cfab0684d",
       "rows": [
        [
         "0",
         "4",
         "0"
        ],
        [
         "1",
         "7",
         "1"
        ],
        [
         "2",
         "-3",
         "0"
        ],
        [
         "3",
         "2",
         "1"
        ]
       ],
       "shape": {
        "columns": 2,
        "rows": 4
       }
      },
      "text/html": [
       "<div>\n",
       "<style scoped>\n",
       "    .dataframe tbody tr th:only-of-type {\n",
       "        vertical-align: middle;\n",
       "    }\n",
       "\n",
       "    .dataframe tbody tr th {\n",
       "        vertical-align: top;\n",
       "    }\n",
       "\n",
       "    .dataframe thead th {\n",
       "        text-align: right;\n",
       "    }\n",
       "</style>\n",
       "<table border=\"1\" class=\"dataframe\">\n",
       "  <thead>\n",
       "    <tr style=\"text-align: right;\">\n",
       "      <th></th>\n",
       "      <th>b</th>\n",
       "      <th>a</th>\n",
       "    </tr>\n",
       "  </thead>\n",
       "  <tbody>\n",
       "    <tr>\n",
       "      <th>0</th>\n",
       "      <td>4</td>\n",
       "      <td>0</td>\n",
       "    </tr>\n",
       "    <tr>\n",
       "      <th>1</th>\n",
       "      <td>7</td>\n",
       "      <td>1</td>\n",
       "    </tr>\n",
       "    <tr>\n",
       "      <th>2</th>\n",
       "      <td>-3</td>\n",
       "      <td>0</td>\n",
       "    </tr>\n",
       "    <tr>\n",
       "      <th>3</th>\n",
       "      <td>2</td>\n",
       "      <td>1</td>\n",
       "    </tr>\n",
       "  </tbody>\n",
       "</table>\n",
       "</div>"
      ],
      "text/plain": [
       "   b  a\n",
       "0  4  0\n",
       "1  7  1\n",
       "2 -3  0\n",
       "3  2  1"
      ]
     },
     "execution_count": 24,
     "metadata": {},
     "output_type": "execute_result"
    }
   ],
   "source": [
    "frame = pd.DataFrame({'b': [4, 7, -3, 2], 'a': [0, 1, 0, 1]})\n",
    "frame"
   ]
  },
  {
   "cell_type": "code",
   "execution_count": 25,
   "id": "39b0ed65",
   "metadata": {},
   "outputs": [
    {
     "data": {
      "application/vnd.microsoft.datawrangler.viewer.v0+json": {
       "columns": [
        {
         "name": "index",
         "rawType": "int64",
         "type": "integer"
        },
        {
         "name": "b",
         "rawType": "int64",
         "type": "integer"
        },
        {
         "name": "a",
         "rawType": "int64",
         "type": "integer"
        }
       ],
       "ref": "82fbce7c-5723-4085-a945-a7f6d20780ef",
       "rows": [
        [
         "2",
         "-3",
         "0"
        ],
        [
         "3",
         "2",
         "1"
        ],
        [
         "0",
         "4",
         "0"
        ],
        [
         "1",
         "7",
         "1"
        ]
       ],
       "shape": {
        "columns": 2,
        "rows": 4
       }
      },
      "text/html": [
       "<div>\n",
       "<style scoped>\n",
       "    .dataframe tbody tr th:only-of-type {\n",
       "        vertical-align: middle;\n",
       "    }\n",
       "\n",
       "    .dataframe tbody tr th {\n",
       "        vertical-align: top;\n",
       "    }\n",
       "\n",
       "    .dataframe thead th {\n",
       "        text-align: right;\n",
       "    }\n",
       "</style>\n",
       "<table border=\"1\" class=\"dataframe\">\n",
       "  <thead>\n",
       "    <tr style=\"text-align: right;\">\n",
       "      <th></th>\n",
       "      <th>b</th>\n",
       "      <th>a</th>\n",
       "    </tr>\n",
       "  </thead>\n",
       "  <tbody>\n",
       "    <tr>\n",
       "      <th>2</th>\n",
       "      <td>-3</td>\n",
       "      <td>0</td>\n",
       "    </tr>\n",
       "    <tr>\n",
       "      <th>3</th>\n",
       "      <td>2</td>\n",
       "      <td>1</td>\n",
       "    </tr>\n",
       "    <tr>\n",
       "      <th>0</th>\n",
       "      <td>4</td>\n",
       "      <td>0</td>\n",
       "    </tr>\n",
       "    <tr>\n",
       "      <th>1</th>\n",
       "      <td>7</td>\n",
       "      <td>1</td>\n",
       "    </tr>\n",
       "  </tbody>\n",
       "</table>\n",
       "</div>"
      ],
      "text/plain": [
       "   b  a\n",
       "2 -3  0\n",
       "3  2  1\n",
       "0  4  0\n",
       "1  7  1"
      ]
     },
     "execution_count": 25,
     "metadata": {},
     "output_type": "execute_result"
    }
   ],
   "source": [
    "frame.sort_values(by='b')"
   ]
  },
  {
   "cell_type": "markdown",
   "id": "e3725a2c",
   "metadata": {},
   "source": [
    "- Para ordenar de acordo com várias colunas, passe uma lista de nomes"
   ]
  },
  {
   "cell_type": "code",
   "execution_count": 26,
   "id": "6e44393d",
   "metadata": {},
   "outputs": [
    {
     "data": {
      "application/vnd.microsoft.datawrangler.viewer.v0+json": {
       "columns": [
        {
         "name": "index",
         "rawType": "int64",
         "type": "integer"
        },
        {
         "name": "b",
         "rawType": "int64",
         "type": "integer"
        },
        {
         "name": "a",
         "rawType": "int64",
         "type": "integer"
        }
       ],
       "ref": "1fb22def-8e97-4bb7-8b79-fef8a3ee8f31",
       "rows": [
        [
         "2",
         "-3",
         "0"
        ],
        [
         "0",
         "4",
         "0"
        ],
        [
         "3",
         "2",
         "1"
        ],
        [
         "1",
         "7",
         "1"
        ]
       ],
       "shape": {
        "columns": 2,
        "rows": 4
       }
      },
      "text/html": [
       "<div>\n",
       "<style scoped>\n",
       "    .dataframe tbody tr th:only-of-type {\n",
       "        vertical-align: middle;\n",
       "    }\n",
       "\n",
       "    .dataframe tbody tr th {\n",
       "        vertical-align: top;\n",
       "    }\n",
       "\n",
       "    .dataframe thead th {\n",
       "        text-align: right;\n",
       "    }\n",
       "</style>\n",
       "<table border=\"1\" class=\"dataframe\">\n",
       "  <thead>\n",
       "    <tr style=\"text-align: right;\">\n",
       "      <th></th>\n",
       "      <th>b</th>\n",
       "      <th>a</th>\n",
       "    </tr>\n",
       "  </thead>\n",
       "  <tbody>\n",
       "    <tr>\n",
       "      <th>2</th>\n",
       "      <td>-3</td>\n",
       "      <td>0</td>\n",
       "    </tr>\n",
       "    <tr>\n",
       "      <th>0</th>\n",
       "      <td>4</td>\n",
       "      <td>0</td>\n",
       "    </tr>\n",
       "    <tr>\n",
       "      <th>3</th>\n",
       "      <td>2</td>\n",
       "      <td>1</td>\n",
       "    </tr>\n",
       "    <tr>\n",
       "      <th>1</th>\n",
       "      <td>7</td>\n",
       "      <td>1</td>\n",
       "    </tr>\n",
       "  </tbody>\n",
       "</table>\n",
       "</div>"
      ],
      "text/plain": [
       "   b  a\n",
       "2 -3  0\n",
       "0  4  0\n",
       "3  2  1\n",
       "1  7  1"
      ]
     },
     "execution_count": 26,
     "metadata": {},
     "output_type": "execute_result"
    }
   ],
   "source": [
    "frame.sort_values(by=['a','b'])"
   ]
  },
  {
   "cell_type": "markdown",
   "id": "c5c8db68",
   "metadata": {},
   "source": [
    "- Outra forma de ordenação é através dos métodos nlargest e nsmallest que retornam respectivamente os maiors e menores valores de uma ou mais coluna."
   ]
  },
  {
   "cell_type": "code",
   "execution_count": 27,
   "id": "a454d2e3",
   "metadata": {},
   "outputs": [
    {
     "data": {
      "application/vnd.microsoft.datawrangler.viewer.v0+json": {
       "columns": [
        {
         "name": "index",
         "rawType": "int64",
         "type": "integer"
        },
        {
         "name": "Title",
         "rawType": "object",
         "type": "string"
        },
        {
         "name": "title_year",
         "rawType": "int64",
         "type": "integer"
        },
        {
         "name": "budget",
         "rawType": "int64",
         "type": "integer"
        },
        {
         "name": "Gross",
         "rawType": "int64",
         "type": "integer"
        },
        {
         "name": "IMDb_rating",
         "rawType": "float64",
         "type": "float"
        }
       ],
       "ref": "348669cd-8979-4418-b9d6-2c46e0ffd1b4",
       "rows": [
        [
         "0",
         "La La Land",
         "2016",
         "30000000",
         "151101803",
         "8.2"
        ],
        [
         "1",
         "Zootopia",
         "2016",
         "150000000",
         "341268248",
         "8.1"
        ],
        [
         "2",
         "Lion",
         "2016",
         "12000000",
         "51738905",
         "8.1"
        ],
        [
         "3",
         "Arrival",
         "2016",
         "47000000",
         "100546139",
         "8.0"
        ],
        [
         "4",
         "Manchester by the Sea",
         "2016",
         "9000000",
         "47695371",
         "7.9"
        ],
        [
         "5",
         "Hell or High Water",
         "2016",
         "12000000",
         "27007844",
         "7.7"
        ],
        [
         "6",
         "Doctor Strange",
         "2016",
         "165000000",
         "232641920",
         "7.6"
        ],
        [
         "7",
         "Tangled",
         "2010",
         "260000000",
         "200807262",
         "7.8"
        ],
        [
         "8",
         "The Dark Knight Rises",
         "2012",
         "250000000",
         "448130642",
         "8.4"
        ],
        [
         "9",
         "Captain America: Civil War",
         "2016",
         "250000000",
         "407197282",
         "7.9"
        ],
        [
         "10",
         "The Hobbit: The Desolation of Smaug",
         "2013",
         "225000000",
         "258355354",
         "7.9"
        ],
        [
         "11",
         "The Avengers",
         "2012",
         "220000000",
         "623279547",
         "8.1"
        ],
        [
         "12",
         "Toy Story 3",
         "2010",
         "200000000",
         "414984497",
         "8.3"
        ],
        [
         "13",
         "Skyfall",
         "2012",
         "200000000",
         "304360277",
         "7.8"
        ],
        [
         "14",
         "X-Men: Days of Future Past",
         "2014",
         "200000000",
         "233914986",
         "8.0"
        ],
        [
         "15",
         "Star Trek Into Darkness",
         "2013",
         "190000000",
         "228756232",
         "7.8"
        ],
        [
         "16",
         "The Hobbit: An Unexpected Journey",
         "2012",
         "180000000",
         "303001229",
         "7.9"
        ],
        [
         "17",
         "Edge of Tomorrow",
         "2014",
         "178000000",
         "100189501",
         "7.9"
        ],
        [
         "18",
         "Inside Out",
         "2015",
         "175000000",
         "356454367",
         "8.2"
        ],
        [
         "19",
         "Guardians of the Galaxy",
         "2014",
         "170000000",
         "333130696",
         "8.1"
        ],
        [
         "20",
         "Captain America: The Winter Soldier",
         "2014",
         "170000000",
         "259746958",
         "7.8"
        ],
        [
         "21",
         "Dawn of the Planet of the Apes",
         "2014",
         "170000000",
         "208543795",
         "7.6"
        ],
        [
         "22",
         "Hugo",
         "2011",
         "170000000",
         "73820094",
         "7.5"
        ],
        [
         "23",
         "Big Hero 6",
         "2014",
         "165000000",
         "222487711",
         "7.8"
        ],
        [
         "24",
         "How to Train Your Dragon",
         "2010",
         "165000000",
         "217387997",
         "8.1"
        ],
        [
         "25",
         "Wreck-It Ralph",
         "2012",
         "165000000",
         "189412677",
         "7.7"
        ],
        [
         "26",
         "Interstellar",
         "2014",
         "165000000",
         "187991439",
         "8.6"
        ],
        [
         "27",
         "Inception",
         "2010",
         "160000000",
         "292568851",
         "8.8"
        ],
        [
         "28",
         "X-Men: First Class",
         "2011",
         "160000000",
         "146405371",
         "7.8"
        ],
        [
         "29",
         "Mad Max: Fury Road",
         "2015",
         "150000000",
         "153629485",
         "8.1"
        ],
        [
         "30",
         "How to Train Your Dragon 2",
         "2014",
         "145000000",
         "176997107",
         "7.9"
        ],
        [
         "31",
         "The Revenant",
         "2015",
         "135000000",
         "183635922",
         "8.0"
        ],
        [
         "32",
         "The Hunger Games: Catching Fire",
         "2013",
         "130000000",
         "424645577",
         "7.6"
        ],
        [
         "33",
         "The Martian",
         "2015",
         "108000000",
         "228430993",
         "8.0"
        ],
        [
         "34",
         "Gravity",
         "2013",
         "100000000",
         "274084951",
         "7.8"
        ],
        [
         "35",
         "Django Unchained",
         "2012",
         "100000000",
         "162804648",
         "8.4"
        ],
        [
         "36",
         "The Wolf of Wall Street",
         "2013",
         "100000000",
         "116866727",
         "8.2"
        ],
        [
         "37",
         "Rise of the Planet of the Apes",
         "2011",
         "93000000",
         "176740650",
         "7.6"
        ],
        [
         "38",
         "The Girl with the Dragon Tattoo",
         "2011",
         "90000000",
         "102515793",
         "7.8"
        ],
        [
         "39",
         "The Little Prince",
         "2015",
         "81200000",
         "1339152",
         "7.8"
        ],
        [
         "40",
         "Shutter Island",
         "2010",
         "80000000",
         "127968405",
         "8.1"
        ],
        [
         "41",
         "Despicable Me",
         "2010",
         "69000000",
         "251501645",
         "7.7"
        ],
        [
         "42",
         "Fury",
         "2014",
         "68000000",
         "85707116",
         "7.6"
        ],
        [
         "43",
         "Gone Girl",
         "2014",
         "61000000",
         "167735396",
         "8.1"
        ],
        [
         "44",
         "Les MisÃ©rables",
         "2012",
         "61000000",
         "148775460",
         "7.6"
        ],
        [
         "45",
         "The Lego Movie",
         "2014",
         "60000000",
         "257756197",
         "7.8"
        ],
        [
         "46",
         "Scott Pilgrim vs. the World",
         "2010",
         "60000000",
         "31494270",
         "7.5"
        ],
        [
         "47",
         "Deadpool",
         "2016",
         "58000000",
         "363024263",
         "8.0"
        ],
        [
         "48",
         "Captain Phillips",
         "2013",
         "55000000",
         "107100855",
         "7.8"
        ],
        [
         "49",
         "Moneyball",
         "2011",
         "50000000",
         "75605492",
         "7.6"
        ]
       ],
       "shape": {
        "columns": 5,
        "rows": 100
       }
      },
      "text/html": [
       "<div>\n",
       "<style scoped>\n",
       "    .dataframe tbody tr th:only-of-type {\n",
       "        vertical-align: middle;\n",
       "    }\n",
       "\n",
       "    .dataframe tbody tr th {\n",
       "        vertical-align: top;\n",
       "    }\n",
       "\n",
       "    .dataframe thead th {\n",
       "        text-align: right;\n",
       "    }\n",
       "</style>\n",
       "<table border=\"1\" class=\"dataframe\">\n",
       "  <thead>\n",
       "    <tr style=\"text-align: right;\">\n",
       "      <th></th>\n",
       "      <th>Title</th>\n",
       "      <th>title_year</th>\n",
       "      <th>budget</th>\n",
       "      <th>Gross</th>\n",
       "      <th>IMDb_rating</th>\n",
       "    </tr>\n",
       "  </thead>\n",
       "  <tbody>\n",
       "    <tr>\n",
       "      <th>0</th>\n",
       "      <td>La La Land</td>\n",
       "      <td>2016</td>\n",
       "      <td>30000000</td>\n",
       "      <td>151101803</td>\n",
       "      <td>8.2</td>\n",
       "    </tr>\n",
       "    <tr>\n",
       "      <th>1</th>\n",
       "      <td>Zootopia</td>\n",
       "      <td>2016</td>\n",
       "      <td>150000000</td>\n",
       "      <td>341268248</td>\n",
       "      <td>8.1</td>\n",
       "    </tr>\n",
       "    <tr>\n",
       "      <th>2</th>\n",
       "      <td>Lion</td>\n",
       "      <td>2016</td>\n",
       "      <td>12000000</td>\n",
       "      <td>51738905</td>\n",
       "      <td>8.1</td>\n",
       "    </tr>\n",
       "    <tr>\n",
       "      <th>3</th>\n",
       "      <td>Arrival</td>\n",
       "      <td>2016</td>\n",
       "      <td>47000000</td>\n",
       "      <td>100546139</td>\n",
       "      <td>8.0</td>\n",
       "    </tr>\n",
       "    <tr>\n",
       "      <th>4</th>\n",
       "      <td>Manchester by the Sea</td>\n",
       "      <td>2016</td>\n",
       "      <td>9000000</td>\n",
       "      <td>47695371</td>\n",
       "      <td>7.9</td>\n",
       "    </tr>\n",
       "    <tr>\n",
       "      <th>...</th>\n",
       "      <td>...</td>\n",
       "      <td>...</td>\n",
       "      <td>...</td>\n",
       "      <td>...</td>\n",
       "      <td>...</td>\n",
       "    </tr>\n",
       "    <tr>\n",
       "      <th>95</th>\n",
       "      <td>Whiplash</td>\n",
       "      <td>2014</td>\n",
       "      <td>3300000</td>\n",
       "      <td>13092000</td>\n",
       "      <td>8.5</td>\n",
       "    </tr>\n",
       "    <tr>\n",
       "      <th>96</th>\n",
       "      <td>Before Midnight</td>\n",
       "      <td>2013</td>\n",
       "      <td>3000000</td>\n",
       "      <td>8114507</td>\n",
       "      <td>7.9</td>\n",
       "    </tr>\n",
       "    <tr>\n",
       "      <th>97</th>\n",
       "      <td>Star Wars: Episode VII - The Force Awakens</td>\n",
       "      <td>2015</td>\n",
       "      <td>245000000</td>\n",
       "      <td>936662225</td>\n",
       "      <td>8.1</td>\n",
       "    </tr>\n",
       "    <tr>\n",
       "      <th>98</th>\n",
       "      <td>Harry Potter and the Deathly Hallows: Part I</td>\n",
       "      <td>2010</td>\n",
       "      <td>150000000</td>\n",
       "      <td>296347721</td>\n",
       "      <td>7.7</td>\n",
       "    </tr>\n",
       "    <tr>\n",
       "      <th>99</th>\n",
       "      <td>Tucker and Dale vs Evil</td>\n",
       "      <td>2010</td>\n",
       "      <td>5000000</td>\n",
       "      <td>223838</td>\n",
       "      <td>7.6</td>\n",
       "    </tr>\n",
       "  </tbody>\n",
       "</table>\n",
       "<p>100 rows × 5 columns</p>\n",
       "</div>"
      ],
      "text/plain": [
       "                                           Title  title_year     budget  \\\n",
       "0                                     La La Land        2016   30000000   \n",
       "1                                       Zootopia        2016  150000000   \n",
       "2                                           Lion        2016   12000000   \n",
       "3                                        Arrival        2016   47000000   \n",
       "4                          Manchester by the Sea        2016    9000000   \n",
       "..                                           ...         ...        ...   \n",
       "95                                      Whiplash        2014    3300000   \n",
       "96                               Before Midnight        2013    3000000   \n",
       "97    Star Wars: Episode VII - The Force Awakens        2015  245000000   \n",
       "98  Harry Potter and the Deathly Hallows: Part I        2010  150000000   \n",
       "99                       Tucker and Dale vs Evil        2010    5000000   \n",
       "\n",
       "        Gross  IMDb_rating  \n",
       "0   151101803          8.2  \n",
       "1   341268248          8.1  \n",
       "2    51738905          8.1  \n",
       "3   100546139          8.0  \n",
       "4    47695371          7.9  \n",
       "..        ...          ...  \n",
       "95   13092000          8.5  \n",
       "96    8114507          7.9  \n",
       "97  936662225          8.1  \n",
       "98  296347721          7.7  \n",
       "99     223838          7.6  \n",
       "\n",
       "[100 rows x 5 columns]"
      ]
     },
     "execution_count": 27,
     "metadata": {},
     "output_type": "execute_result"
    }
   ],
   "source": [
    "df_movie = pd.read_csv(\"datasets/Movie+Assignment+Data.csv\", usecols=[\"Title\",\"title_year\",\"IMDb_rating\",\"budget\",\"Gross\"])\n",
    "df_movie"
   ]
  },
  {
   "cell_type": "code",
   "execution_count": 28,
   "id": "c8794279",
   "metadata": {},
   "outputs": [
    {
     "data": {
      "application/vnd.microsoft.datawrangler.viewer.v0+json": {
       "columns": [
        {
         "name": "index",
         "rawType": "int64",
         "type": "integer"
        },
        {
         "name": "Title",
         "rawType": "object",
         "type": "string"
        },
        {
         "name": "title_year",
         "rawType": "int64",
         "type": "integer"
        },
        {
         "name": "budget",
         "rawType": "int64",
         "type": "integer"
        },
        {
         "name": "Gross",
         "rawType": "int64",
         "type": "integer"
        },
        {
         "name": "IMDb_rating",
         "rawType": "float64",
         "type": "float"
        }
       ],
       "ref": "ffb623f4-f124-4ec8-b59d-5e01ed71912d",
       "rows": [
        [
         "22",
         "Hugo",
         "2011",
         "170000000",
         "73820094",
         "7.5"
        ],
        [
         "46",
         "Scott Pilgrim vs. the World",
         "2010",
         "60000000",
         "31494270",
         "7.5"
        ],
        [
         "52",
         "Lone Survivor",
         "2013",
         "40000000",
         "125069696",
         "7.5"
        ],
        [
         "6",
         "Doctor Strange",
         "2016",
         "165000000",
         "232641920",
         "7.6"
        ]
       ],
       "shape": {
        "columns": 5,
        "rows": 4
       }
      },
      "text/html": [
       "<div>\n",
       "<style scoped>\n",
       "    .dataframe tbody tr th:only-of-type {\n",
       "        vertical-align: middle;\n",
       "    }\n",
       "\n",
       "    .dataframe tbody tr th {\n",
       "        vertical-align: top;\n",
       "    }\n",
       "\n",
       "    .dataframe thead th {\n",
       "        text-align: right;\n",
       "    }\n",
       "</style>\n",
       "<table border=\"1\" class=\"dataframe\">\n",
       "  <thead>\n",
       "    <tr style=\"text-align: right;\">\n",
       "      <th></th>\n",
       "      <th>Title</th>\n",
       "      <th>title_year</th>\n",
       "      <th>budget</th>\n",
       "      <th>Gross</th>\n",
       "      <th>IMDb_rating</th>\n",
       "    </tr>\n",
       "  </thead>\n",
       "  <tbody>\n",
       "    <tr>\n",
       "      <th>22</th>\n",
       "      <td>Hugo</td>\n",
       "      <td>2011</td>\n",
       "      <td>170000000</td>\n",
       "      <td>73820094</td>\n",
       "      <td>7.5</td>\n",
       "    </tr>\n",
       "    <tr>\n",
       "      <th>46</th>\n",
       "      <td>Scott Pilgrim vs. the World</td>\n",
       "      <td>2010</td>\n",
       "      <td>60000000</td>\n",
       "      <td>31494270</td>\n",
       "      <td>7.5</td>\n",
       "    </tr>\n",
       "    <tr>\n",
       "      <th>52</th>\n",
       "      <td>Lone Survivor</td>\n",
       "      <td>2013</td>\n",
       "      <td>40000000</td>\n",
       "      <td>125069696</td>\n",
       "      <td>7.5</td>\n",
       "    </tr>\n",
       "    <tr>\n",
       "      <th>6</th>\n",
       "      <td>Doctor Strange</td>\n",
       "      <td>2016</td>\n",
       "      <td>165000000</td>\n",
       "      <td>232641920</td>\n",
       "      <td>7.6</td>\n",
       "    </tr>\n",
       "  </tbody>\n",
       "</table>\n",
       "</div>"
      ],
      "text/plain": [
       "                          Title  title_year     budget      Gross  IMDb_rating\n",
       "22                         Hugo        2011  170000000   73820094          7.5\n",
       "46  Scott Pilgrim vs. the World        2010   60000000   31494270          7.5\n",
       "52                Lone Survivor        2013   40000000  125069696          7.5\n",
       "6                Doctor Strange        2016  165000000  232641920          7.6"
      ]
     },
     "execution_count": 28,
     "metadata": {},
     "output_type": "execute_result"
    }
   ],
   "source": [
    "df_movie.nsmallest(4, \"IMDb_rating\")"
   ]
  },
  {
   "cell_type": "code",
   "execution_count": 29,
   "id": "e25560af",
   "metadata": {},
   "outputs": [
    {
     "data": {
      "application/vnd.microsoft.datawrangler.viewer.v0+json": {
       "columns": [
        {
         "name": "index",
         "rawType": "int64",
         "type": "integer"
        },
        {
         "name": "Title",
         "rawType": "object",
         "type": "string"
        },
        {
         "name": "title_year",
         "rawType": "int64",
         "type": "integer"
        },
        {
         "name": "budget",
         "rawType": "int64",
         "type": "integer"
        },
        {
         "name": "Gross",
         "rawType": "int64",
         "type": "integer"
        },
        {
         "name": "IMDb_rating",
         "rawType": "float64",
         "type": "float"
        }
       ],
       "ref": "92d5d153-86e2-4fca-8eaf-f86e3f3f1ed2",
       "rows": [
        [
         "27",
         "Inception",
         "2010",
         "160000000",
         "292568851",
         "8.8"
        ],
        [
         "26",
         "Interstellar",
         "2014",
         "165000000",
         "187991439",
         "8.6"
        ],
        [
         "95",
         "Whiplash",
         "2014",
         "3300000",
         "13092000",
         "8.5"
        ],
        [
         "8",
         "The Dark Knight Rises",
         "2012",
         "250000000",
         "448130642",
         "8.4"
        ]
       ],
       "shape": {
        "columns": 5,
        "rows": 4
       }
      },
      "text/html": [
       "<div>\n",
       "<style scoped>\n",
       "    .dataframe tbody tr th:only-of-type {\n",
       "        vertical-align: middle;\n",
       "    }\n",
       "\n",
       "    .dataframe tbody tr th {\n",
       "        vertical-align: top;\n",
       "    }\n",
       "\n",
       "    .dataframe thead th {\n",
       "        text-align: right;\n",
       "    }\n",
       "</style>\n",
       "<table border=\"1\" class=\"dataframe\">\n",
       "  <thead>\n",
       "    <tr style=\"text-align: right;\">\n",
       "      <th></th>\n",
       "      <th>Title</th>\n",
       "      <th>title_year</th>\n",
       "      <th>budget</th>\n",
       "      <th>Gross</th>\n",
       "      <th>IMDb_rating</th>\n",
       "    </tr>\n",
       "  </thead>\n",
       "  <tbody>\n",
       "    <tr>\n",
       "      <th>27</th>\n",
       "      <td>Inception</td>\n",
       "      <td>2010</td>\n",
       "      <td>160000000</td>\n",
       "      <td>292568851</td>\n",
       "      <td>8.8</td>\n",
       "    </tr>\n",
       "    <tr>\n",
       "      <th>26</th>\n",
       "      <td>Interstellar</td>\n",
       "      <td>2014</td>\n",
       "      <td>165000000</td>\n",
       "      <td>187991439</td>\n",
       "      <td>8.6</td>\n",
       "    </tr>\n",
       "    <tr>\n",
       "      <th>95</th>\n",
       "      <td>Whiplash</td>\n",
       "      <td>2014</td>\n",
       "      <td>3300000</td>\n",
       "      <td>13092000</td>\n",
       "      <td>8.5</td>\n",
       "    </tr>\n",
       "    <tr>\n",
       "      <th>8</th>\n",
       "      <td>The Dark Knight Rises</td>\n",
       "      <td>2012</td>\n",
       "      <td>250000000</td>\n",
       "      <td>448130642</td>\n",
       "      <td>8.4</td>\n",
       "    </tr>\n",
       "  </tbody>\n",
       "</table>\n",
       "</div>"
      ],
      "text/plain": [
       "                    Title  title_year     budget      Gross  IMDb_rating\n",
       "27              Inception        2010  160000000  292568851          8.8\n",
       "26           Interstellar        2014  165000000  187991439          8.6\n",
       "95               Whiplash        2014    3300000   13092000          8.5\n",
       "8   The Dark Knight Rises        2012  250000000  448130642          8.4"
      ]
     },
     "execution_count": 29,
     "metadata": {},
     "output_type": "execute_result"
    }
   ],
   "source": [
    "df_movie.nlargest(4, \"IMDb_rating\")"
   ]
  },
  {
   "cell_type": "markdown",
   "id": "f08849de",
   "metadata": {},
   "source": [
    "- Usando keep='all' todos os itens duplicados são mantidos"
   ]
  },
  {
   "cell_type": "code",
   "execution_count": 30,
   "id": "3c4c5b6b",
   "metadata": {},
   "outputs": [
    {
     "data": {
      "application/vnd.microsoft.datawrangler.viewer.v0+json": {
       "columns": [
        {
         "name": "index",
         "rawType": "int64",
         "type": "integer"
        },
        {
         "name": "Title",
         "rawType": "object",
         "type": "string"
        },
        {
         "name": "title_year",
         "rawType": "int64",
         "type": "integer"
        },
        {
         "name": "budget",
         "rawType": "int64",
         "type": "integer"
        },
        {
         "name": "Gross",
         "rawType": "int64",
         "type": "integer"
        },
        {
         "name": "IMDb_rating",
         "rawType": "float64",
         "type": "float"
        }
       ],
       "ref": "21526ccd-9bed-44b3-87ef-95b1a4251960",
       "rows": [
        [
         "22",
         "Hugo",
         "2011",
         "170000000",
         "73820094",
         "7.5"
        ],
        [
         "46",
         "Scott Pilgrim vs. the World",
         "2010",
         "60000000",
         "31494270",
         "7.5"
        ],
        [
         "52",
         "Lone Survivor",
         "2013",
         "40000000",
         "125069696",
         "7.5"
        ],
        [
         "6",
         "Doctor Strange",
         "2016",
         "165000000",
         "232641920",
         "7.6"
        ],
        [
         "21",
         "Dawn of the Planet of the Apes",
         "2014",
         "170000000",
         "208543795",
         "7.6"
        ],
        [
         "32",
         "The Hunger Games: Catching Fire",
         "2013",
         "130000000",
         "424645577",
         "7.6"
        ],
        [
         "37",
         "Rise of the Planet of the Apes",
         "2011",
         "93000000",
         "176740650",
         "7.6"
        ],
        [
         "42",
         "Fury",
         "2014",
         "68000000",
         "85707116",
         "7.6"
        ],
        [
         "44",
         "Les MisÃ©rables",
         "2012",
         "61000000",
         "148775460",
         "7.6"
        ],
        [
         "49",
         "Moneyball",
         "2011",
         "50000000",
         "75605492",
         "7.6"
        ],
        [
         "54",
         "Bridge of Spies",
         "2015",
         "40000000",
         "72306065",
         "7.6"
        ],
        [
         "55",
         "True Grit",
         "2010",
         "38000000",
         "171031347",
         "7.6"
        ],
        [
         "57",
         "The Town",
         "2010",
         "37000000",
         "92173235",
         "7.6"
        ],
        [
         "58",
         "Creed",
         "2015",
         "35000000",
         "109712885",
         "7.6"
        ],
        [
         "60",
         "Sicario",
         "2015",
         "30000000",
         "46875468",
         "7.6"
        ],
        [
         "71",
         "The Book Thief",
         "2013",
         "19000000",
         "21483154",
         "7.6"
        ],
        [
         "73",
         "127 Hours",
         "2010",
         "18000000",
         "18329466",
         "7.6"
        ],
        [
         "86",
         "Philomena",
         "2013",
         "12000000",
         "37707719",
         "7.6"
        ],
        [
         "99",
         "Tucker and Dale vs Evil",
         "2010",
         "5000000",
         "223838",
         "7.6"
        ]
       ],
       "shape": {
        "columns": 5,
        "rows": 19
       }
      },
      "text/html": [
       "<div>\n",
       "<style scoped>\n",
       "    .dataframe tbody tr th:only-of-type {\n",
       "        vertical-align: middle;\n",
       "    }\n",
       "\n",
       "    .dataframe tbody tr th {\n",
       "        vertical-align: top;\n",
       "    }\n",
       "\n",
       "    .dataframe thead th {\n",
       "        text-align: right;\n",
       "    }\n",
       "</style>\n",
       "<table border=\"1\" class=\"dataframe\">\n",
       "  <thead>\n",
       "    <tr style=\"text-align: right;\">\n",
       "      <th></th>\n",
       "      <th>Title</th>\n",
       "      <th>title_year</th>\n",
       "      <th>budget</th>\n",
       "      <th>Gross</th>\n",
       "      <th>IMDb_rating</th>\n",
       "    </tr>\n",
       "  </thead>\n",
       "  <tbody>\n",
       "    <tr>\n",
       "      <th>22</th>\n",
       "      <td>Hugo</td>\n",
       "      <td>2011</td>\n",
       "      <td>170000000</td>\n",
       "      <td>73820094</td>\n",
       "      <td>7.5</td>\n",
       "    </tr>\n",
       "    <tr>\n",
       "      <th>46</th>\n",
       "      <td>Scott Pilgrim vs. the World</td>\n",
       "      <td>2010</td>\n",
       "      <td>60000000</td>\n",
       "      <td>31494270</td>\n",
       "      <td>7.5</td>\n",
       "    </tr>\n",
       "    <tr>\n",
       "      <th>52</th>\n",
       "      <td>Lone Survivor</td>\n",
       "      <td>2013</td>\n",
       "      <td>40000000</td>\n",
       "      <td>125069696</td>\n",
       "      <td>7.5</td>\n",
       "    </tr>\n",
       "    <tr>\n",
       "      <th>6</th>\n",
       "      <td>Doctor Strange</td>\n",
       "      <td>2016</td>\n",
       "      <td>165000000</td>\n",
       "      <td>232641920</td>\n",
       "      <td>7.6</td>\n",
       "    </tr>\n",
       "    <tr>\n",
       "      <th>21</th>\n",
       "      <td>Dawn of the Planet of the Apes</td>\n",
       "      <td>2014</td>\n",
       "      <td>170000000</td>\n",
       "      <td>208543795</td>\n",
       "      <td>7.6</td>\n",
       "    </tr>\n",
       "    <tr>\n",
       "      <th>32</th>\n",
       "      <td>The Hunger Games: Catching Fire</td>\n",
       "      <td>2013</td>\n",
       "      <td>130000000</td>\n",
       "      <td>424645577</td>\n",
       "      <td>7.6</td>\n",
       "    </tr>\n",
       "    <tr>\n",
       "      <th>37</th>\n",
       "      <td>Rise of the Planet of the Apes</td>\n",
       "      <td>2011</td>\n",
       "      <td>93000000</td>\n",
       "      <td>176740650</td>\n",
       "      <td>7.6</td>\n",
       "    </tr>\n",
       "    <tr>\n",
       "      <th>42</th>\n",
       "      <td>Fury</td>\n",
       "      <td>2014</td>\n",
       "      <td>68000000</td>\n",
       "      <td>85707116</td>\n",
       "      <td>7.6</td>\n",
       "    </tr>\n",
       "    <tr>\n",
       "      <th>44</th>\n",
       "      <td>Les MisÃ©rables</td>\n",
       "      <td>2012</td>\n",
       "      <td>61000000</td>\n",
       "      <td>148775460</td>\n",
       "      <td>7.6</td>\n",
       "    </tr>\n",
       "    <tr>\n",
       "      <th>49</th>\n",
       "      <td>Moneyball</td>\n",
       "      <td>2011</td>\n",
       "      <td>50000000</td>\n",
       "      <td>75605492</td>\n",
       "      <td>7.6</td>\n",
       "    </tr>\n",
       "    <tr>\n",
       "      <th>54</th>\n",
       "      <td>Bridge of Spies</td>\n",
       "      <td>2015</td>\n",
       "      <td>40000000</td>\n",
       "      <td>72306065</td>\n",
       "      <td>7.6</td>\n",
       "    </tr>\n",
       "    <tr>\n",
       "      <th>55</th>\n",
       "      <td>True Grit</td>\n",
       "      <td>2010</td>\n",
       "      <td>38000000</td>\n",
       "      <td>171031347</td>\n",
       "      <td>7.6</td>\n",
       "    </tr>\n",
       "    <tr>\n",
       "      <th>57</th>\n",
       "      <td>The Town</td>\n",
       "      <td>2010</td>\n",
       "      <td>37000000</td>\n",
       "      <td>92173235</td>\n",
       "      <td>7.6</td>\n",
       "    </tr>\n",
       "    <tr>\n",
       "      <th>58</th>\n",
       "      <td>Creed</td>\n",
       "      <td>2015</td>\n",
       "      <td>35000000</td>\n",
       "      <td>109712885</td>\n",
       "      <td>7.6</td>\n",
       "    </tr>\n",
       "    <tr>\n",
       "      <th>60</th>\n",
       "      <td>Sicario</td>\n",
       "      <td>2015</td>\n",
       "      <td>30000000</td>\n",
       "      <td>46875468</td>\n",
       "      <td>7.6</td>\n",
       "    </tr>\n",
       "    <tr>\n",
       "      <th>71</th>\n",
       "      <td>The Book Thief</td>\n",
       "      <td>2013</td>\n",
       "      <td>19000000</td>\n",
       "      <td>21483154</td>\n",
       "      <td>7.6</td>\n",
       "    </tr>\n",
       "    <tr>\n",
       "      <th>73</th>\n",
       "      <td>127 Hours</td>\n",
       "      <td>2010</td>\n",
       "      <td>18000000</td>\n",
       "      <td>18329466</td>\n",
       "      <td>7.6</td>\n",
       "    </tr>\n",
       "    <tr>\n",
       "      <th>86</th>\n",
       "      <td>Philomena</td>\n",
       "      <td>2013</td>\n",
       "      <td>12000000</td>\n",
       "      <td>37707719</td>\n",
       "      <td>7.6</td>\n",
       "    </tr>\n",
       "    <tr>\n",
       "      <th>99</th>\n",
       "      <td>Tucker and Dale vs Evil</td>\n",
       "      <td>2010</td>\n",
       "      <td>5000000</td>\n",
       "      <td>223838</td>\n",
       "      <td>7.6</td>\n",
       "    </tr>\n",
       "  </tbody>\n",
       "</table>\n",
       "</div>"
      ],
      "text/plain": [
       "                              Title  title_year     budget      Gross  \\\n",
       "22                             Hugo        2011  170000000   73820094   \n",
       "46      Scott Pilgrim vs. the World        2010   60000000   31494270   \n",
       "52                    Lone Survivor        2013   40000000  125069696   \n",
       "6                    Doctor Strange        2016  165000000  232641920   \n",
       "21   Dawn of the Planet of the Apes        2014  170000000  208543795   \n",
       "32  The Hunger Games: Catching Fire        2013  130000000  424645577   \n",
       "37   Rise of the Planet of the Apes        2011   93000000  176740650   \n",
       "42                             Fury        2014   68000000   85707116   \n",
       "44                  Les MisÃ©rables        2012   61000000  148775460   \n",
       "49                        Moneyball        2011   50000000   75605492   \n",
       "54                  Bridge of Spies        2015   40000000   72306065   \n",
       "55                        True Grit        2010   38000000  171031347   \n",
       "57                         The Town        2010   37000000   92173235   \n",
       "58                            Creed        2015   35000000  109712885   \n",
       "60                          Sicario        2015   30000000   46875468   \n",
       "71                   The Book Thief        2013   19000000   21483154   \n",
       "73                        127 Hours        2010   18000000   18329466   \n",
       "86                        Philomena        2013   12000000   37707719   \n",
       "99          Tucker and Dale vs Evil        2010    5000000     223838   \n",
       "\n",
       "    IMDb_rating  \n",
       "22          7.5  \n",
       "46          7.5  \n",
       "52          7.5  \n",
       "6           7.6  \n",
       "21          7.6  \n",
       "32          7.6  \n",
       "37          7.6  \n",
       "42          7.6  \n",
       "44          7.6  \n",
       "49          7.6  \n",
       "54          7.6  \n",
       "55          7.6  \n",
       "57          7.6  \n",
       "58          7.6  \n",
       "60          7.6  \n",
       "71          7.6  \n",
       "73          7.6  \n",
       "86          7.6  \n",
       "99          7.6  "
      ]
     },
     "execution_count": 30,
     "metadata": {},
     "output_type": "execute_result"
    }
   ],
   "source": [
    "df_movie.nsmallest(4, \"IMDb_rating\", keep='all')"
   ]
  },
  {
   "cell_type": "code",
   "execution_count": 31,
   "id": "a288d5a4",
   "metadata": {},
   "outputs": [
    {
     "data": {
      "application/vnd.microsoft.datawrangler.viewer.v0+json": {
       "columns": [
        {
         "name": "index",
         "rawType": "int64",
         "type": "integer"
        },
        {
         "name": "Title",
         "rawType": "object",
         "type": "string"
        },
        {
         "name": "title_year",
         "rawType": "int64",
         "type": "integer"
        },
        {
         "name": "budget",
         "rawType": "int64",
         "type": "integer"
        },
        {
         "name": "Gross",
         "rawType": "int64",
         "type": "integer"
        },
        {
         "name": "IMDb_rating",
         "rawType": "float64",
         "type": "float"
        }
       ],
       "ref": "92155706-8af6-4332-8545-628598cceac6",
       "rows": [
        [
         "27",
         "Inception",
         "2010",
         "160000000",
         "292568851",
         "8.8"
        ],
        [
         "26",
         "Interstellar",
         "2014",
         "165000000",
         "187991439",
         "8.6"
        ],
        [
         "95",
         "Whiplash",
         "2014",
         "3300000",
         "13092000",
         "8.5"
        ],
        [
         "8",
         "The Dark Knight Rises",
         "2012",
         "250000000",
         "448130642",
         "8.4"
        ],
        [
         "35",
         "Django Unchained",
         "2012",
         "100000000",
         "162804648",
         "8.4"
        ]
       ],
       "shape": {
        "columns": 5,
        "rows": 5
       }
      },
      "text/html": [
       "<div>\n",
       "<style scoped>\n",
       "    .dataframe tbody tr th:only-of-type {\n",
       "        vertical-align: middle;\n",
       "    }\n",
       "\n",
       "    .dataframe tbody tr th {\n",
       "        vertical-align: top;\n",
       "    }\n",
       "\n",
       "    .dataframe thead th {\n",
       "        text-align: right;\n",
       "    }\n",
       "</style>\n",
       "<table border=\"1\" class=\"dataframe\">\n",
       "  <thead>\n",
       "    <tr style=\"text-align: right;\">\n",
       "      <th></th>\n",
       "      <th>Title</th>\n",
       "      <th>title_year</th>\n",
       "      <th>budget</th>\n",
       "      <th>Gross</th>\n",
       "      <th>IMDb_rating</th>\n",
       "    </tr>\n",
       "  </thead>\n",
       "  <tbody>\n",
       "    <tr>\n",
       "      <th>27</th>\n",
       "      <td>Inception</td>\n",
       "      <td>2010</td>\n",
       "      <td>160000000</td>\n",
       "      <td>292568851</td>\n",
       "      <td>8.8</td>\n",
       "    </tr>\n",
       "    <tr>\n",
       "      <th>26</th>\n",
       "      <td>Interstellar</td>\n",
       "      <td>2014</td>\n",
       "      <td>165000000</td>\n",
       "      <td>187991439</td>\n",
       "      <td>8.6</td>\n",
       "    </tr>\n",
       "    <tr>\n",
       "      <th>95</th>\n",
       "      <td>Whiplash</td>\n",
       "      <td>2014</td>\n",
       "      <td>3300000</td>\n",
       "      <td>13092000</td>\n",
       "      <td>8.5</td>\n",
       "    </tr>\n",
       "    <tr>\n",
       "      <th>8</th>\n",
       "      <td>The Dark Knight Rises</td>\n",
       "      <td>2012</td>\n",
       "      <td>250000000</td>\n",
       "      <td>448130642</td>\n",
       "      <td>8.4</td>\n",
       "    </tr>\n",
       "    <tr>\n",
       "      <th>35</th>\n",
       "      <td>Django Unchained</td>\n",
       "      <td>2012</td>\n",
       "      <td>100000000</td>\n",
       "      <td>162804648</td>\n",
       "      <td>8.4</td>\n",
       "    </tr>\n",
       "  </tbody>\n",
       "</table>\n",
       "</div>"
      ],
      "text/plain": [
       "                    Title  title_year     budget      Gross  IMDb_rating\n",
       "27              Inception        2010  160000000  292568851          8.8\n",
       "26           Interstellar        2014  165000000  187991439          8.6\n",
       "95               Whiplash        2014    3300000   13092000          8.5\n",
       "8   The Dark Knight Rises        2012  250000000  448130642          8.4\n",
       "35       Django Unchained        2012  100000000  162804648          8.4"
      ]
     },
     "execution_count": 31,
     "metadata": {},
     "output_type": "execute_result"
    }
   ],
   "source": [
    "df_movie.nlargest(4, \"IMDb_rating\", keep='all')"
   ]
  },
  {
   "cell_type": "markdown",
   "id": "6a8f3f5f",
   "metadata": {},
   "source": [
    "- É possível especificar mais de uma coluna como critério de ordenação"
   ]
  },
  {
   "cell_type": "code",
   "execution_count": 32,
   "id": "5f902a01",
   "metadata": {},
   "outputs": [
    {
     "data": {
      "application/vnd.microsoft.datawrangler.viewer.v0+json": {
       "columns": [
        {
         "name": "index",
         "rawType": "int64",
         "type": "integer"
        },
        {
         "name": "Title",
         "rawType": "object",
         "type": "string"
        },
        {
         "name": "title_year",
         "rawType": "int64",
         "type": "integer"
        },
        {
         "name": "budget",
         "rawType": "int64",
         "type": "integer"
        },
        {
         "name": "Gross",
         "rawType": "int64",
         "type": "integer"
        },
        {
         "name": "IMDb_rating",
         "rawType": "float64",
         "type": "float"
        }
       ],
       "ref": "337fad3c-1205-48df-bd6b-b9d907979a5b",
       "rows": [
        [
         "46",
         "Scott Pilgrim vs. the World",
         "2010",
         "60000000",
         "31494270",
         "7.5"
        ],
        [
         "22",
         "Hugo",
         "2011",
         "170000000",
         "73820094",
         "7.5"
        ],
        [
         "52",
         "Lone Survivor",
         "2013",
         "40000000",
         "125069696",
         "7.5"
        ],
        [
         "99",
         "Tucker and Dale vs Evil",
         "2010",
         "5000000",
         "223838",
         "7.6"
        ]
       ],
       "shape": {
        "columns": 5,
        "rows": 4
       }
      },
      "text/html": [
       "<div>\n",
       "<style scoped>\n",
       "    .dataframe tbody tr th:only-of-type {\n",
       "        vertical-align: middle;\n",
       "    }\n",
       "\n",
       "    .dataframe tbody tr th {\n",
       "        vertical-align: top;\n",
       "    }\n",
       "\n",
       "    .dataframe thead th {\n",
       "        text-align: right;\n",
       "    }\n",
       "</style>\n",
       "<table border=\"1\" class=\"dataframe\">\n",
       "  <thead>\n",
       "    <tr style=\"text-align: right;\">\n",
       "      <th></th>\n",
       "      <th>Title</th>\n",
       "      <th>title_year</th>\n",
       "      <th>budget</th>\n",
       "      <th>Gross</th>\n",
       "      <th>IMDb_rating</th>\n",
       "    </tr>\n",
       "  </thead>\n",
       "  <tbody>\n",
       "    <tr>\n",
       "      <th>46</th>\n",
       "      <td>Scott Pilgrim vs. the World</td>\n",
       "      <td>2010</td>\n",
       "      <td>60000000</td>\n",
       "      <td>31494270</td>\n",
       "      <td>7.5</td>\n",
       "    </tr>\n",
       "    <tr>\n",
       "      <th>22</th>\n",
       "      <td>Hugo</td>\n",
       "      <td>2011</td>\n",
       "      <td>170000000</td>\n",
       "      <td>73820094</td>\n",
       "      <td>7.5</td>\n",
       "    </tr>\n",
       "    <tr>\n",
       "      <th>52</th>\n",
       "      <td>Lone Survivor</td>\n",
       "      <td>2013</td>\n",
       "      <td>40000000</td>\n",
       "      <td>125069696</td>\n",
       "      <td>7.5</td>\n",
       "    </tr>\n",
       "    <tr>\n",
       "      <th>99</th>\n",
       "      <td>Tucker and Dale vs Evil</td>\n",
       "      <td>2010</td>\n",
       "      <td>5000000</td>\n",
       "      <td>223838</td>\n",
       "      <td>7.6</td>\n",
       "    </tr>\n",
       "  </tbody>\n",
       "</table>\n",
       "</div>"
      ],
      "text/plain": [
       "                          Title  title_year     budget      Gross  IMDb_rating\n",
       "46  Scott Pilgrim vs. the World        2010   60000000   31494270          7.5\n",
       "22                         Hugo        2011  170000000   73820094          7.5\n",
       "52                Lone Survivor        2013   40000000  125069696          7.5\n",
       "99      Tucker and Dale vs Evil        2010    5000000     223838          7.6"
      ]
     },
     "execution_count": 32,
     "metadata": {},
     "output_type": "execute_result"
    }
   ],
   "source": [
    "df_movie.nsmallest(4, [\"IMDb_rating\", \"Gross\"])"
   ]
  },
  {
   "cell_type": "code",
   "execution_count": 33,
   "id": "5a942b54",
   "metadata": {},
   "outputs": [
    {
     "data": {
      "application/vnd.microsoft.datawrangler.viewer.v0+json": {
       "columns": [
        {
         "name": "index",
         "rawType": "int64",
         "type": "integer"
        },
        {
         "name": "Title",
         "rawType": "object",
         "type": "string"
        },
        {
         "name": "title_year",
         "rawType": "int64",
         "type": "integer"
        },
        {
         "name": "budget",
         "rawType": "int64",
         "type": "integer"
        },
        {
         "name": "Gross",
         "rawType": "int64",
         "type": "integer"
        },
        {
         "name": "IMDb_rating",
         "rawType": "float64",
         "type": "float"
        }
       ],
       "ref": "a4e82d05-3433-483b-b12c-0fd33482d525",
       "rows": [
        [
         "7",
         "Tangled",
         "2010",
         "260000000",
         "200807262",
         "7.8"
        ],
        [
         "8",
         "The Dark Knight Rises",
         "2012",
         "250000000",
         "448130642",
         "8.4"
        ],
        [
         "9",
         "Captain America: Civil War",
         "2016",
         "250000000",
         "407197282",
         "7.9"
        ],
        [
         "97",
         "Star Wars: Episode VII - The Force Awakens",
         "2015",
         "245000000",
         "936662225",
         "8.1"
        ]
       ],
       "shape": {
        "columns": 5,
        "rows": 4
       }
      },
      "text/html": [
       "<div>\n",
       "<style scoped>\n",
       "    .dataframe tbody tr th:only-of-type {\n",
       "        vertical-align: middle;\n",
       "    }\n",
       "\n",
       "    .dataframe tbody tr th {\n",
       "        vertical-align: top;\n",
       "    }\n",
       "\n",
       "    .dataframe thead th {\n",
       "        text-align: right;\n",
       "    }\n",
       "</style>\n",
       "<table border=\"1\" class=\"dataframe\">\n",
       "  <thead>\n",
       "    <tr style=\"text-align: right;\">\n",
       "      <th></th>\n",
       "      <th>Title</th>\n",
       "      <th>title_year</th>\n",
       "      <th>budget</th>\n",
       "      <th>Gross</th>\n",
       "      <th>IMDb_rating</th>\n",
       "    </tr>\n",
       "  </thead>\n",
       "  <tbody>\n",
       "    <tr>\n",
       "      <th>7</th>\n",
       "      <td>Tangled</td>\n",
       "      <td>2010</td>\n",
       "      <td>260000000</td>\n",
       "      <td>200807262</td>\n",
       "      <td>7.8</td>\n",
       "    </tr>\n",
       "    <tr>\n",
       "      <th>8</th>\n",
       "      <td>The Dark Knight Rises</td>\n",
       "      <td>2012</td>\n",
       "      <td>250000000</td>\n",
       "      <td>448130642</td>\n",
       "      <td>8.4</td>\n",
       "    </tr>\n",
       "    <tr>\n",
       "      <th>9</th>\n",
       "      <td>Captain America: Civil War</td>\n",
       "      <td>2016</td>\n",
       "      <td>250000000</td>\n",
       "      <td>407197282</td>\n",
       "      <td>7.9</td>\n",
       "    </tr>\n",
       "    <tr>\n",
       "      <th>97</th>\n",
       "      <td>Star Wars: Episode VII - The Force Awakens</td>\n",
       "      <td>2015</td>\n",
       "      <td>245000000</td>\n",
       "      <td>936662225</td>\n",
       "      <td>8.1</td>\n",
       "    </tr>\n",
       "  </tbody>\n",
       "</table>\n",
       "</div>"
      ],
      "text/plain": [
       "                                         Title  title_year     budget  \\\n",
       "7                                      Tangled        2010  260000000   \n",
       "8                        The Dark Knight Rises        2012  250000000   \n",
       "9                   Captain America: Civil War        2016  250000000   \n",
       "97  Star Wars: Episode VII - The Force Awakens        2015  245000000   \n",
       "\n",
       "        Gross  IMDb_rating  \n",
       "7   200807262          7.8  \n",
       "8   448130642          8.4  \n",
       "9   407197282          7.9  \n",
       "97  936662225          8.1  "
      ]
     },
     "execution_count": 33,
     "metadata": {},
     "output_type": "execute_result"
    }
   ],
   "source": [
    "df_movie.nlargest(4, [\"budget\", \"Gross\"])"
   ]
  },
  {
   "cell_type": "markdown",
   "id": "fa3008e8",
   "metadata": {},
   "source": [
    "- O método rank permite ranquear o dataset através dos seus dados numéricos"
   ]
  },
  {
   "cell_type": "code",
   "execution_count": 34,
   "id": "32c8aeda",
   "metadata": {},
   "outputs": [
    {
     "data": {
      "application/vnd.microsoft.datawrangler.viewer.v0+json": {
       "columns": [
        {
         "name": "index",
         "rawType": "int64",
         "type": "integer"
        },
        {
         "name": "Animal",
         "rawType": "object",
         "type": "string"
        },
        {
         "name": "Number_legs",
         "rawType": "float64",
         "type": "float"
        }
       ],
       "ref": "bc4adc3e-2d92-47a9-8db4-2d093d522dca",
       "rows": [
        [
         "0",
         "cat",
         "4.0"
        ],
        [
         "1",
         "penguin",
         "2.0"
        ],
        [
         "2",
         "dog",
         "4.0"
        ],
        [
         "3",
         "spider",
         "8.0"
        ],
        [
         "4",
         "snake",
         null
        ]
       ],
       "shape": {
        "columns": 2,
        "rows": 5
       }
      },
      "text/html": [
       "<div>\n",
       "<style scoped>\n",
       "    .dataframe tbody tr th:only-of-type {\n",
       "        vertical-align: middle;\n",
       "    }\n",
       "\n",
       "    .dataframe tbody tr th {\n",
       "        vertical-align: top;\n",
       "    }\n",
       "\n",
       "    .dataframe thead th {\n",
       "        text-align: right;\n",
       "    }\n",
       "</style>\n",
       "<table border=\"1\" class=\"dataframe\">\n",
       "  <thead>\n",
       "    <tr style=\"text-align: right;\">\n",
       "      <th></th>\n",
       "      <th>Animal</th>\n",
       "      <th>Number_legs</th>\n",
       "    </tr>\n",
       "  </thead>\n",
       "  <tbody>\n",
       "    <tr>\n",
       "      <th>0</th>\n",
       "      <td>cat</td>\n",
       "      <td>4.0</td>\n",
       "    </tr>\n",
       "    <tr>\n",
       "      <th>1</th>\n",
       "      <td>penguin</td>\n",
       "      <td>2.0</td>\n",
       "    </tr>\n",
       "    <tr>\n",
       "      <th>2</th>\n",
       "      <td>dog</td>\n",
       "      <td>4.0</td>\n",
       "    </tr>\n",
       "    <tr>\n",
       "      <th>3</th>\n",
       "      <td>spider</td>\n",
       "      <td>8.0</td>\n",
       "    </tr>\n",
       "    <tr>\n",
       "      <th>4</th>\n",
       "      <td>snake</td>\n",
       "      <td>NaN</td>\n",
       "    </tr>\n",
       "  </tbody>\n",
       "</table>\n",
       "</div>"
      ],
      "text/plain": [
       "    Animal  Number_legs\n",
       "0      cat          4.0\n",
       "1  penguin          2.0\n",
       "2      dog          4.0\n",
       "3   spider          8.0\n",
       "4    snake          NaN"
      ]
     },
     "execution_count": 34,
     "metadata": {},
     "output_type": "execute_result"
    }
   ],
   "source": [
    "df_aux = pd.DataFrame(data={'Animal': ['cat', 'penguin', 'dog',\n",
    "                                   'spider', 'snake'],\n",
    "                        'Number_legs': [4, 2, 4, 8, np.nan]})\n",
    "df_aux"
   ]
  },
  {
   "cell_type": "markdown",
   "id": "0c34df39",
   "metadata": {},
   "source": [
    "- O parâmetro method permite desempatar o ranqueamento pela:\n",
    "    - média do grupo, usando o argumento average\n",
    "    - valor mais baixo do grupo, usando o argumento min\n",
    "    - valor mais alto do grupo, usando o argumento max\n",
    "    - atribuição da ordem que aparece no array, usando o argumento first\n",
    "    - valor mais baixo do grupo, mas a próxima posição é aumentado em 1, usando o argumento dense"
   ]
  },
  {
   "cell_type": "code",
   "execution_count": 35,
   "id": "145bea5e",
   "metadata": {},
   "outputs": [
    {
     "data": {
      "application/vnd.microsoft.datawrangler.viewer.v0+json": {
       "columns": [
        {
         "name": "index",
         "rawType": "int64",
         "type": "integer"
        },
        {
         "name": "Animal",
         "rawType": "object",
         "type": "string"
        },
        {
         "name": "Number_legs",
         "rawType": "float64",
         "type": "float"
        },
        {
         "name": "average_rank",
         "rawType": "float64",
         "type": "float"
        },
        {
         "name": "min_rank",
         "rawType": "float64",
         "type": "float"
        },
        {
         "name": "max_rank",
         "rawType": "float64",
         "type": "float"
        },
        {
         "name": "first_rank",
         "rawType": "float64",
         "type": "float"
        },
        {
         "name": "dense_rank",
         "rawType": "float64",
         "type": "float"
        }
       ],
       "ref": "7bc41c04-6c91-4cca-8264-200198b21aef",
       "rows": [
        [
         "0",
         "cat",
         "4.0",
         "2.5",
         "2.0",
         "3.0",
         "2.0",
         "2.0"
        ],
        [
         "1",
         "penguin",
         "2.0",
         "1.0",
         "1.0",
         "1.0",
         "1.0",
         "1.0"
        ],
        [
         "2",
         "dog",
         "4.0",
         "2.5",
         "2.0",
         "3.0",
         "3.0",
         "2.0"
        ],
        [
         "3",
         "spider",
         "8.0",
         "4.0",
         "4.0",
         "4.0",
         "4.0",
         "3.0"
        ],
        [
         "4",
         "snake",
         null,
         null,
         null,
         null,
         null,
         null
        ]
       ],
       "shape": {
        "columns": 7,
        "rows": 5
       }
      },
      "text/html": [
       "<div>\n",
       "<style scoped>\n",
       "    .dataframe tbody tr th:only-of-type {\n",
       "        vertical-align: middle;\n",
       "    }\n",
       "\n",
       "    .dataframe tbody tr th {\n",
       "        vertical-align: top;\n",
       "    }\n",
       "\n",
       "    .dataframe thead th {\n",
       "        text-align: right;\n",
       "    }\n",
       "</style>\n",
       "<table border=\"1\" class=\"dataframe\">\n",
       "  <thead>\n",
       "    <tr style=\"text-align: right;\">\n",
       "      <th></th>\n",
       "      <th>Animal</th>\n",
       "      <th>Number_legs</th>\n",
       "      <th>average_rank</th>\n",
       "      <th>min_rank</th>\n",
       "      <th>max_rank</th>\n",
       "      <th>first_rank</th>\n",
       "      <th>dense_rank</th>\n",
       "    </tr>\n",
       "  </thead>\n",
       "  <tbody>\n",
       "    <tr>\n",
       "      <th>0</th>\n",
       "      <td>cat</td>\n",
       "      <td>4.0</td>\n",
       "      <td>2.5</td>\n",
       "      <td>2.0</td>\n",
       "      <td>3.0</td>\n",
       "      <td>2.0</td>\n",
       "      <td>2.0</td>\n",
       "    </tr>\n",
       "    <tr>\n",
       "      <th>1</th>\n",
       "      <td>penguin</td>\n",
       "      <td>2.0</td>\n",
       "      <td>1.0</td>\n",
       "      <td>1.0</td>\n",
       "      <td>1.0</td>\n",
       "      <td>1.0</td>\n",
       "      <td>1.0</td>\n",
       "    </tr>\n",
       "    <tr>\n",
       "      <th>2</th>\n",
       "      <td>dog</td>\n",
       "      <td>4.0</td>\n",
       "      <td>2.5</td>\n",
       "      <td>2.0</td>\n",
       "      <td>3.0</td>\n",
       "      <td>3.0</td>\n",
       "      <td>2.0</td>\n",
       "    </tr>\n",
       "    <tr>\n",
       "      <th>3</th>\n",
       "      <td>spider</td>\n",
       "      <td>8.0</td>\n",
       "      <td>4.0</td>\n",
       "      <td>4.0</td>\n",
       "      <td>4.0</td>\n",
       "      <td>4.0</td>\n",
       "      <td>3.0</td>\n",
       "    </tr>\n",
       "    <tr>\n",
       "      <th>4</th>\n",
       "      <td>snake</td>\n",
       "      <td>NaN</td>\n",
       "      <td>NaN</td>\n",
       "      <td>NaN</td>\n",
       "      <td>NaN</td>\n",
       "      <td>NaN</td>\n",
       "      <td>NaN</td>\n",
       "    </tr>\n",
       "  </tbody>\n",
       "</table>\n",
       "</div>"
      ],
      "text/plain": [
       "    Animal  Number_legs  average_rank  min_rank  max_rank  first_rank  \\\n",
       "0      cat          4.0           2.5       2.0       3.0         2.0   \n",
       "1  penguin          2.0           1.0       1.0       1.0         1.0   \n",
       "2      dog          4.0           2.5       2.0       3.0         3.0   \n",
       "3   spider          8.0           4.0       4.0       4.0         4.0   \n",
       "4    snake          NaN           NaN       NaN       NaN         NaN   \n",
       "\n",
       "   dense_rank  \n",
       "0         2.0  \n",
       "1         1.0  \n",
       "2         2.0  \n",
       "3         3.0  \n",
       "4         NaN  "
      ]
     },
     "execution_count": 35,
     "metadata": {},
     "output_type": "execute_result"
    }
   ],
   "source": [
    "df_aux['average_rank'] = df_aux['Number_legs'].rank(method='average') \n",
    "df_aux['min_rank'] = df_aux['Number_legs'].rank(method='min')\n",
    "df_aux['max_rank'] = df_aux['Number_legs'].rank(method='max')\n",
    "df_aux['first_rank'] = df_aux['Number_legs'].rank(method='first')\n",
    "df_aux['dense_rank'] = df_aux['Number_legs'].rank(method='dense')\n",
    "df_aux"
   ]
  },
  {
   "cell_type": "markdown",
   "id": "18c8c0dc",
   "metadata": {},
   "source": [
    "- O parâmetro na_option define como o ranqueamento lida com os valores NaN pela:\n",
    "    - manutenção do NaN como NaN, usando o argumento keep\n",
    "    - atribuição do valor mais baixo, usando o argumento top\n",
    "    - atribuição do valor mais alto, usando o argumento bottom"
   ]
  },
  {
   "cell_type": "code",
   "execution_count": 36,
   "id": "acf981fd",
   "metadata": {},
   "outputs": [
    {
     "data": {
      "application/vnd.microsoft.datawrangler.viewer.v0+json": {
       "columns": [
        {
         "name": "index",
         "rawType": "int64",
         "type": "integer"
        },
        {
         "name": "Animal",
         "rawType": "object",
         "type": "string"
        },
        {
         "name": "Number_legs",
         "rawType": "float64",
         "type": "float"
        },
        {
         "name": "average_rank",
         "rawType": "float64",
         "type": "float"
        },
        {
         "name": "min_rank",
         "rawType": "float64",
         "type": "float"
        },
        {
         "name": "max_rank",
         "rawType": "float64",
         "type": "float"
        },
        {
         "name": "first_rank",
         "rawType": "float64",
         "type": "float"
        },
        {
         "name": "dense_rank",
         "rawType": "float64",
         "type": "float"
        },
        {
         "name": "NA_keep",
         "rawType": "float64",
         "type": "float"
        },
        {
         "name": "NA_top",
         "rawType": "float64",
         "type": "float"
        },
        {
         "name": "NA_bottom",
         "rawType": "float64",
         "type": "float"
        }
       ],
       "ref": "e0259cef-3577-47d8-a0b5-a86fc20b45c0",
       "rows": [
        [
         "0",
         "cat",
         "4.0",
         "2.5",
         "2.0",
         "3.0",
         "2.0",
         "2.0",
         "2.5",
         "3.5",
         "2.5"
        ],
        [
         "1",
         "penguin",
         "2.0",
         "1.0",
         "1.0",
         "1.0",
         "1.0",
         "1.0",
         "1.0",
         "2.0",
         "1.0"
        ],
        [
         "2",
         "dog",
         "4.0",
         "2.5",
         "2.0",
         "3.0",
         "3.0",
         "2.0",
         "2.5",
         "3.5",
         "2.5"
        ],
        [
         "3",
         "spider",
         "8.0",
         "4.0",
         "4.0",
         "4.0",
         "4.0",
         "3.0",
         "4.0",
         "5.0",
         "4.0"
        ],
        [
         "4",
         "snake",
         null,
         null,
         null,
         null,
         null,
         null,
         null,
         "1.0",
         "5.0"
        ]
       ],
       "shape": {
        "columns": 10,
        "rows": 5
       }
      },
      "text/html": [
       "<div>\n",
       "<style scoped>\n",
       "    .dataframe tbody tr th:only-of-type {\n",
       "        vertical-align: middle;\n",
       "    }\n",
       "\n",
       "    .dataframe tbody tr th {\n",
       "        vertical-align: top;\n",
       "    }\n",
       "\n",
       "    .dataframe thead th {\n",
       "        text-align: right;\n",
       "    }\n",
       "</style>\n",
       "<table border=\"1\" class=\"dataframe\">\n",
       "  <thead>\n",
       "    <tr style=\"text-align: right;\">\n",
       "      <th></th>\n",
       "      <th>Animal</th>\n",
       "      <th>Number_legs</th>\n",
       "      <th>average_rank</th>\n",
       "      <th>min_rank</th>\n",
       "      <th>max_rank</th>\n",
       "      <th>first_rank</th>\n",
       "      <th>dense_rank</th>\n",
       "      <th>NA_keep</th>\n",
       "      <th>NA_top</th>\n",
       "      <th>NA_bottom</th>\n",
       "    </tr>\n",
       "  </thead>\n",
       "  <tbody>\n",
       "    <tr>\n",
       "      <th>0</th>\n",
       "      <td>cat</td>\n",
       "      <td>4.0</td>\n",
       "      <td>2.5</td>\n",
       "      <td>2.0</td>\n",
       "      <td>3.0</td>\n",
       "      <td>2.0</td>\n",
       "      <td>2.0</td>\n",
       "      <td>2.5</td>\n",
       "      <td>3.5</td>\n",
       "      <td>2.5</td>\n",
       "    </tr>\n",
       "    <tr>\n",
       "      <th>1</th>\n",
       "      <td>penguin</td>\n",
       "      <td>2.0</td>\n",
       "      <td>1.0</td>\n",
       "      <td>1.0</td>\n",
       "      <td>1.0</td>\n",
       "      <td>1.0</td>\n",
       "      <td>1.0</td>\n",
       "      <td>1.0</td>\n",
       "      <td>2.0</td>\n",
       "      <td>1.0</td>\n",
       "    </tr>\n",
       "    <tr>\n",
       "      <th>2</th>\n",
       "      <td>dog</td>\n",
       "      <td>4.0</td>\n",
       "      <td>2.5</td>\n",
       "      <td>2.0</td>\n",
       "      <td>3.0</td>\n",
       "      <td>3.0</td>\n",
       "      <td>2.0</td>\n",
       "      <td>2.5</td>\n",
       "      <td>3.5</td>\n",
       "      <td>2.5</td>\n",
       "    </tr>\n",
       "    <tr>\n",
       "      <th>3</th>\n",
       "      <td>spider</td>\n",
       "      <td>8.0</td>\n",
       "      <td>4.0</td>\n",
       "      <td>4.0</td>\n",
       "      <td>4.0</td>\n",
       "      <td>4.0</td>\n",
       "      <td>3.0</td>\n",
       "      <td>4.0</td>\n",
       "      <td>5.0</td>\n",
       "      <td>4.0</td>\n",
       "    </tr>\n",
       "    <tr>\n",
       "      <th>4</th>\n",
       "      <td>snake</td>\n",
       "      <td>NaN</td>\n",
       "      <td>NaN</td>\n",
       "      <td>NaN</td>\n",
       "      <td>NaN</td>\n",
       "      <td>NaN</td>\n",
       "      <td>NaN</td>\n",
       "      <td>NaN</td>\n",
       "      <td>1.0</td>\n",
       "      <td>5.0</td>\n",
       "    </tr>\n",
       "  </tbody>\n",
       "</table>\n",
       "</div>"
      ],
      "text/plain": [
       "    Animal  Number_legs  average_rank  min_rank  max_rank  first_rank  \\\n",
       "0      cat          4.0           2.5       2.0       3.0         2.0   \n",
       "1  penguin          2.0           1.0       1.0       1.0         1.0   \n",
       "2      dog          4.0           2.5       2.0       3.0         3.0   \n",
       "3   spider          8.0           4.0       4.0       4.0         4.0   \n",
       "4    snake          NaN           NaN       NaN       NaN         NaN   \n",
       "\n",
       "   dense_rank  NA_keep  NA_top  NA_bottom  \n",
       "0         2.0      2.5     3.5        2.5  \n",
       "1         1.0      1.0     2.0        1.0  \n",
       "2         2.0      2.5     3.5        2.5  \n",
       "3         3.0      4.0     5.0        4.0  \n",
       "4         NaN      NaN     1.0        5.0  "
      ]
     },
     "execution_count": 36,
     "metadata": {},
     "output_type": "execute_result"
    }
   ],
   "source": [
    "df_aux['NA_keep'] = df_aux['Number_legs'].rank(na_option='keep')\n",
    "df_aux['NA_top'] = df_aux['Number_legs'].rank(na_option='top')\n",
    "df_aux['NA_bottom'] = df_aux['Number_legs'].rank(na_option='bottom')\n",
    "df_aux"
   ]
  },
  {
   "cell_type": "markdown",
   "id": "8e410d26",
   "metadata": {},
   "source": [
    "\n",
    "- O parâmetro pct exibe o ranqueamento em forma percentual"
   ]
  },
  {
   "cell_type": "code",
   "execution_count": 37,
   "id": "8aaace6b",
   "metadata": {},
   "outputs": [
    {
     "data": {
      "application/vnd.microsoft.datawrangler.viewer.v0+json": {
       "columns": [
        {
         "name": "index",
         "rawType": "int64",
         "type": "integer"
        },
        {
         "name": "Animal",
         "rawType": "object",
         "type": "string"
        },
        {
         "name": "Number_legs",
         "rawType": "float64",
         "type": "float"
        },
        {
         "name": "average_rank",
         "rawType": "float64",
         "type": "float"
        },
        {
         "name": "min_rank",
         "rawType": "float64",
         "type": "float"
        },
        {
         "name": "max_rank",
         "rawType": "float64",
         "type": "float"
        },
        {
         "name": "first_rank",
         "rawType": "float64",
         "type": "float"
        },
        {
         "name": "dense_rank",
         "rawType": "float64",
         "type": "float"
        },
        {
         "name": "NA_keep",
         "rawType": "float64",
         "type": "float"
        },
        {
         "name": "NA_top",
         "rawType": "float64",
         "type": "float"
        },
        {
         "name": "NA_bottom",
         "rawType": "float64",
         "type": "float"
        },
        {
         "name": "pct_rank",
         "rawType": "float64",
         "type": "float"
        }
       ],
       "ref": "fee3f3ad-f13a-4b43-a858-e741e44fe7ac",
       "rows": [
        [
         "0",
         "cat",
         "4.0",
         "2.5",
         "2.0",
         "3.0",
         "2.0",
         "2.0",
         "2.5",
         "3.5",
         "2.5",
         "0.625"
        ],
        [
         "1",
         "penguin",
         "2.0",
         "1.0",
         "1.0",
         "1.0",
         "1.0",
         "1.0",
         "1.0",
         "2.0",
         "1.0",
         "0.25"
        ],
        [
         "2",
         "dog",
         "4.0",
         "2.5",
         "2.0",
         "3.0",
         "3.0",
         "2.0",
         "2.5",
         "3.5",
         "2.5",
         "0.625"
        ],
        [
         "3",
         "spider",
         "8.0",
         "4.0",
         "4.0",
         "4.0",
         "4.0",
         "3.0",
         "4.0",
         "5.0",
         "4.0",
         "1.0"
        ],
        [
         "4",
         "snake",
         null,
         null,
         null,
         null,
         null,
         null,
         null,
         "1.0",
         "5.0",
         null
        ]
       ],
       "shape": {
        "columns": 11,
        "rows": 5
       }
      },
      "text/html": [
       "<div>\n",
       "<style scoped>\n",
       "    .dataframe tbody tr th:only-of-type {\n",
       "        vertical-align: middle;\n",
       "    }\n",
       "\n",
       "    .dataframe tbody tr th {\n",
       "        vertical-align: top;\n",
       "    }\n",
       "\n",
       "    .dataframe thead th {\n",
       "        text-align: right;\n",
       "    }\n",
       "</style>\n",
       "<table border=\"1\" class=\"dataframe\">\n",
       "  <thead>\n",
       "    <tr style=\"text-align: right;\">\n",
       "      <th></th>\n",
       "      <th>Animal</th>\n",
       "      <th>Number_legs</th>\n",
       "      <th>average_rank</th>\n",
       "      <th>min_rank</th>\n",
       "      <th>max_rank</th>\n",
       "      <th>first_rank</th>\n",
       "      <th>dense_rank</th>\n",
       "      <th>NA_keep</th>\n",
       "      <th>NA_top</th>\n",
       "      <th>NA_bottom</th>\n",
       "      <th>pct_rank</th>\n",
       "    </tr>\n",
       "  </thead>\n",
       "  <tbody>\n",
       "    <tr>\n",
       "      <th>0</th>\n",
       "      <td>cat</td>\n",
       "      <td>4.0</td>\n",
       "      <td>2.5</td>\n",
       "      <td>2.0</td>\n",
       "      <td>3.0</td>\n",
       "      <td>2.0</td>\n",
       "      <td>2.0</td>\n",
       "      <td>2.5</td>\n",
       "      <td>3.5</td>\n",
       "      <td>2.5</td>\n",
       "      <td>0.625</td>\n",
       "    </tr>\n",
       "    <tr>\n",
       "      <th>1</th>\n",
       "      <td>penguin</td>\n",
       "      <td>2.0</td>\n",
       "      <td>1.0</td>\n",
       "      <td>1.0</td>\n",
       "      <td>1.0</td>\n",
       "      <td>1.0</td>\n",
       "      <td>1.0</td>\n",
       "      <td>1.0</td>\n",
       "      <td>2.0</td>\n",
       "      <td>1.0</td>\n",
       "      <td>0.250</td>\n",
       "    </tr>\n",
       "    <tr>\n",
       "      <th>2</th>\n",
       "      <td>dog</td>\n",
       "      <td>4.0</td>\n",
       "      <td>2.5</td>\n",
       "      <td>2.0</td>\n",
       "      <td>3.0</td>\n",
       "      <td>3.0</td>\n",
       "      <td>2.0</td>\n",
       "      <td>2.5</td>\n",
       "      <td>3.5</td>\n",
       "      <td>2.5</td>\n",
       "      <td>0.625</td>\n",
       "    </tr>\n",
       "    <tr>\n",
       "      <th>3</th>\n",
       "      <td>spider</td>\n",
       "      <td>8.0</td>\n",
       "      <td>4.0</td>\n",
       "      <td>4.0</td>\n",
       "      <td>4.0</td>\n",
       "      <td>4.0</td>\n",
       "      <td>3.0</td>\n",
       "      <td>4.0</td>\n",
       "      <td>5.0</td>\n",
       "      <td>4.0</td>\n",
       "      <td>1.000</td>\n",
       "    </tr>\n",
       "    <tr>\n",
       "      <th>4</th>\n",
       "      <td>snake</td>\n",
       "      <td>NaN</td>\n",
       "      <td>NaN</td>\n",
       "      <td>NaN</td>\n",
       "      <td>NaN</td>\n",
       "      <td>NaN</td>\n",
       "      <td>NaN</td>\n",
       "      <td>NaN</td>\n",
       "      <td>1.0</td>\n",
       "      <td>5.0</td>\n",
       "      <td>NaN</td>\n",
       "    </tr>\n",
       "  </tbody>\n",
       "</table>\n",
       "</div>"
      ],
      "text/plain": [
       "    Animal  Number_legs  average_rank  min_rank  max_rank  first_rank  \\\n",
       "0      cat          4.0           2.5       2.0       3.0         2.0   \n",
       "1  penguin          2.0           1.0       1.0       1.0         1.0   \n",
       "2      dog          4.0           2.5       2.0       3.0         3.0   \n",
       "3   spider          8.0           4.0       4.0       4.0         4.0   \n",
       "4    snake          NaN           NaN       NaN       NaN         NaN   \n",
       "\n",
       "   dense_rank  NA_keep  NA_top  NA_bottom  pct_rank  \n",
       "0         2.0      2.5     3.5        2.5     0.625  \n",
       "1         1.0      1.0     2.0        1.0     0.250  \n",
       "2         2.0      2.5     3.5        2.5     0.625  \n",
       "3         3.0      4.0     5.0        4.0     1.000  \n",
       "4         NaN      NaN     1.0        5.0       NaN  "
      ]
     },
     "execution_count": 37,
     "metadata": {},
     "output_type": "execute_result"
    }
   ],
   "source": [
    "df_aux['pct_rank'] = df_aux['Number_legs'].rank(pct=True)\n",
    "df_aux"
   ]
  }
 ],
 "metadata": {
  "hide_input": false,
  "kernelspec": {
   "display_name": ".venv",
   "language": "python",
   "name": "python3"
  },
  "language_info": {
   "codemirror_mode": {
    "name": "ipython",
    "version": 3
   },
   "file_extension": ".py",
   "mimetype": "text/x-python",
   "name": "python",
   "nbconvert_exporter": "python",
   "pygments_lexer": "ipython3",
   "version": "3.12.6"
  }
 },
 "nbformat": 4,
 "nbformat_minor": 5
}
