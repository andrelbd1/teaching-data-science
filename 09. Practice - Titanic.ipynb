{
 "cells": [
  {
   "cell_type": "markdown",
   "id": "702082cc",
   "metadata": {},
   "source": [
    "## <font color=green> Praticando: Analisando o Dataset do Titanic"
   ]
  },
  {
   "cell_type": "code",
   "execution_count": 1,
   "id": "a0560f68",
   "metadata": {},
   "outputs": [],
   "source": [
    "import pandas as pd\n",
    "import numpy as np"
   ]
  },
  {
   "cell_type": "code",
   "execution_count": 2,
   "id": "35d5e420",
   "metadata": {},
   "outputs": [],
   "source": [
    "%config Completer.use_jedi = False"
   ]
  },
  {
   "cell_type": "markdown",
   "id": "449aecf2",
   "metadata": {},
   "source": [
    "### Carregando Dataset"
   ]
  },
  {
   "cell_type": "code",
   "execution_count": 3,
   "id": "9df8de49",
   "metadata": {},
   "outputs": [
    {
     "data": {
      "text/plain": [
       "(1309, 12)"
      ]
     },
     "execution_count": 3,
     "metadata": {},
     "output_type": "execute_result"
    }
   ],
   "source": [
    "df_titanic = pd.read_csv('datasets/titanic.csv')\n",
    "df_titanic.shape"
   ]
  },
  {
   "cell_type": "code",
   "execution_count": 4,
   "id": "7df1b73b",
   "metadata": {},
   "outputs": [
    {
     "data": {
      "application/vnd.microsoft.datawrangler.viewer.v0+json": {
       "columns": [
        {
         "name": "index",
         "rawType": "int64",
         "type": "integer"
        },
        {
         "name": "PassengerId",
         "rawType": "int64",
         "type": "integer"
        },
        {
         "name": "Survived",
         "rawType": "int64",
         "type": "integer"
        },
        {
         "name": "Pclass",
         "rawType": "int64",
         "type": "integer"
        },
        {
         "name": "Name",
         "rawType": "object",
         "type": "string"
        },
        {
         "name": "Sex",
         "rawType": "object",
         "type": "string"
        },
        {
         "name": "Age",
         "rawType": "float64",
         "type": "float"
        },
        {
         "name": "SibSp",
         "rawType": "int64",
         "type": "integer"
        },
        {
         "name": "Parch",
         "rawType": "int64",
         "type": "integer"
        },
        {
         "name": "Ticket",
         "rawType": "object",
         "type": "string"
        },
        {
         "name": "Fare",
         "rawType": "float64",
         "type": "float"
        },
        {
         "name": "Cabin",
         "rawType": "object",
         "type": "unknown"
        },
        {
         "name": "Embarked",
         "rawType": "object",
         "type": "string"
        }
       ],
       "ref": "82836634-40c2-4287-ae94-332b84434f1e",
       "rows": [
        [
         "0",
         "1",
         "0",
         "3",
         "Braund, Mr. Owen Harris",
         "male",
         "22.0",
         "1",
         "0",
         "A/5 21171",
         "7.25",
         null,
         "S"
        ],
        [
         "1",
         "2",
         "1",
         "1",
         "Cumings, Mrs. John Bradley (Florence Briggs Thayer)",
         "female",
         "38.0",
         "1",
         "0",
         "PC 17599",
         "71.2833",
         "C85",
         "C"
        ],
        [
         "2",
         "3",
         "1",
         "3",
         "Heikkinen, Miss. Laina",
         "female",
         "26.0",
         "0",
         "0",
         "STON/O2. 3101282",
         "7925.0",
         null,
         "S"
        ],
        [
         "3",
         "4",
         "1",
         "1",
         "Futrelle, Mrs. Jacques Heath (Lily May Peel)",
         "female",
         "35.0",
         "1",
         "0",
         "113803",
         "53.1",
         "C123",
         "S"
        ],
        [
         "4",
         "5",
         "0",
         "3",
         "Allen, Mr. William Henry",
         "male",
         "35.0",
         "0",
         "0",
         "373450",
         "8.05",
         null,
         "S"
        ]
       ],
       "shape": {
        "columns": 12,
        "rows": 5
       }
      },
      "text/html": [
       "<div>\n",
       "<style scoped>\n",
       "    .dataframe tbody tr th:only-of-type {\n",
       "        vertical-align: middle;\n",
       "    }\n",
       "\n",
       "    .dataframe tbody tr th {\n",
       "        vertical-align: top;\n",
       "    }\n",
       "\n",
       "    .dataframe thead th {\n",
       "        text-align: right;\n",
       "    }\n",
       "</style>\n",
       "<table border=\"1\" class=\"dataframe\">\n",
       "  <thead>\n",
       "    <tr style=\"text-align: right;\">\n",
       "      <th></th>\n",
       "      <th>PassengerId</th>\n",
       "      <th>Survived</th>\n",
       "      <th>Pclass</th>\n",
       "      <th>Name</th>\n",
       "      <th>Sex</th>\n",
       "      <th>Age</th>\n",
       "      <th>SibSp</th>\n",
       "      <th>Parch</th>\n",
       "      <th>Ticket</th>\n",
       "      <th>Fare</th>\n",
       "      <th>Cabin</th>\n",
       "      <th>Embarked</th>\n",
       "    </tr>\n",
       "  </thead>\n",
       "  <tbody>\n",
       "    <tr>\n",
       "      <th>0</th>\n",
       "      <td>1</td>\n",
       "      <td>0</td>\n",
       "      <td>3</td>\n",
       "      <td>Braund, Mr. Owen Harris</td>\n",
       "      <td>male</td>\n",
       "      <td>22.0</td>\n",
       "      <td>1</td>\n",
       "      <td>0</td>\n",
       "      <td>A/5 21171</td>\n",
       "      <td>7.2500</td>\n",
       "      <td>NaN</td>\n",
       "      <td>S</td>\n",
       "    </tr>\n",
       "    <tr>\n",
       "      <th>1</th>\n",
       "      <td>2</td>\n",
       "      <td>1</td>\n",
       "      <td>1</td>\n",
       "      <td>Cumings, Mrs. John Bradley (Florence Briggs Th...</td>\n",
       "      <td>female</td>\n",
       "      <td>38.0</td>\n",
       "      <td>1</td>\n",
       "      <td>0</td>\n",
       "      <td>PC 17599</td>\n",
       "      <td>71.2833</td>\n",
       "      <td>C85</td>\n",
       "      <td>C</td>\n",
       "    </tr>\n",
       "    <tr>\n",
       "      <th>2</th>\n",
       "      <td>3</td>\n",
       "      <td>1</td>\n",
       "      <td>3</td>\n",
       "      <td>Heikkinen, Miss. Laina</td>\n",
       "      <td>female</td>\n",
       "      <td>26.0</td>\n",
       "      <td>0</td>\n",
       "      <td>0</td>\n",
       "      <td>STON/O2. 3101282</td>\n",
       "      <td>7925.0000</td>\n",
       "      <td>NaN</td>\n",
       "      <td>S</td>\n",
       "    </tr>\n",
       "    <tr>\n",
       "      <th>3</th>\n",
       "      <td>4</td>\n",
       "      <td>1</td>\n",
       "      <td>1</td>\n",
       "      <td>Futrelle, Mrs. Jacques Heath (Lily May Peel)</td>\n",
       "      <td>female</td>\n",
       "      <td>35.0</td>\n",
       "      <td>1</td>\n",
       "      <td>0</td>\n",
       "      <td>113803</td>\n",
       "      <td>53.1000</td>\n",
       "      <td>C123</td>\n",
       "      <td>S</td>\n",
       "    </tr>\n",
       "    <tr>\n",
       "      <th>4</th>\n",
       "      <td>5</td>\n",
       "      <td>0</td>\n",
       "      <td>3</td>\n",
       "      <td>Allen, Mr. William Henry</td>\n",
       "      <td>male</td>\n",
       "      <td>35.0</td>\n",
       "      <td>0</td>\n",
       "      <td>0</td>\n",
       "      <td>373450</td>\n",
       "      <td>8.0500</td>\n",
       "      <td>NaN</td>\n",
       "      <td>S</td>\n",
       "    </tr>\n",
       "  </tbody>\n",
       "</table>\n",
       "</div>"
      ],
      "text/plain": [
       "   PassengerId  Survived  Pclass  \\\n",
       "0            1         0       3   \n",
       "1            2         1       1   \n",
       "2            3         1       3   \n",
       "3            4         1       1   \n",
       "4            5         0       3   \n",
       "\n",
       "                                                Name     Sex   Age  SibSp  \\\n",
       "0                            Braund, Mr. Owen Harris    male  22.0      1   \n",
       "1  Cumings, Mrs. John Bradley (Florence Briggs Th...  female  38.0      1   \n",
       "2                             Heikkinen, Miss. Laina  female  26.0      0   \n",
       "3       Futrelle, Mrs. Jacques Heath (Lily May Peel)  female  35.0      1   \n",
       "4                           Allen, Mr. William Henry    male  35.0      0   \n",
       "\n",
       "   Parch            Ticket       Fare Cabin Embarked  \n",
       "0      0         A/5 21171     7.2500   NaN        S  \n",
       "1      0          PC 17599    71.2833   C85        C  \n",
       "2      0  STON/O2. 3101282  7925.0000   NaN        S  \n",
       "3      0            113803    53.1000  C123        S  \n",
       "4      0            373450     8.0500   NaN        S  "
      ]
     },
     "execution_count": 4,
     "metadata": {},
     "output_type": "execute_result"
    }
   ],
   "source": [
    "df_titanic.head()"
   ]
  },
  {
   "cell_type": "markdown",
   "id": "b2bf46d4",
   "metadata": {},
   "source": [
    "- **Passengerid**: ID do passageiro do navio (código primário).\n",
    "- **Survived**: Se sobreviveu ao naufrágio estará como 1 e caso esteja com 0 (zero) não sobreviveu.\n",
    "- **Pclass**: Tipo de classe de passagem (Do 1 ao 3), sendo 1 a melhor classe e 3 a pior classe.\n",
    "- **Name**: Nome do passageiro\n",
    "- **Sex**: Gênero do passageiro, sendo masculino e feminino.\n",
    "- **Age**: Idade do passageiro na data da ocorrência do naufrágio.\n",
    "- **SibSp**: Número de irmãos / cônjuges a bordo.\n",
    "- **Parch**: Número de pais / filhos a bordo.\n",
    "- **Ticket**: Código do ticket.\n",
    "- **Fare**: Valor da passagem.\n",
    "- **Cabin**: Código de identificação da Cabine.\n",
    "- **Embarked**: Local onde o passageiro embarcou no navio."
   ]
  },
  {
   "cell_type": "markdown",
   "id": "837cb876",
   "metadata": {},
   "source": [
    "### Verificando os tipos de dados contidos no Dataset"
   ]
  },
  {
   "cell_type": "code",
   "execution_count": 5,
   "id": "b17f1ebf",
   "metadata": {},
   "outputs": [
    {
     "data": {
      "application/vnd.microsoft.datawrangler.viewer.v0+json": {
       "columns": [
        {
         "name": "index",
         "rawType": "object",
         "type": "string"
        },
        {
         "name": "0",
         "rawType": "object",
         "type": "unknown"
        }
       ],
       "ref": "4d4c9e59-dfda-46ad-bdca-efff0e19529f",
       "rows": [
        [
         "PassengerId",
         "int64"
        ],
        [
         "Survived",
         "int64"
        ],
        [
         "Pclass",
         "int64"
        ],
        [
         "Name",
         "object"
        ],
        [
         "Sex",
         "object"
        ],
        [
         "Age",
         "float64"
        ],
        [
         "SibSp",
         "int64"
        ],
        [
         "Parch",
         "int64"
        ],
        [
         "Ticket",
         "object"
        ],
        [
         "Fare",
         "float64"
        ],
        [
         "Cabin",
         "object"
        ],
        [
         "Embarked",
         "object"
        ]
       ],
       "shape": {
        "columns": 1,
        "rows": 12
       }
      },
      "text/plain": [
       "PassengerId      int64\n",
       "Survived         int64\n",
       "Pclass           int64\n",
       "Name            object\n",
       "Sex             object\n",
       "Age            float64\n",
       "SibSp            int64\n",
       "Parch            int64\n",
       "Ticket          object\n",
       "Fare           float64\n",
       "Cabin           object\n",
       "Embarked        object\n",
       "dtype: object"
      ]
     },
     "execution_count": 5,
     "metadata": {},
     "output_type": "execute_result"
    }
   ],
   "source": [
    "df_titanic.dtypes"
   ]
  },
  {
   "cell_type": "code",
   "execution_count": 6,
   "id": "de90aff6",
   "metadata": {},
   "outputs": [
    {
     "data": {
      "application/vnd.microsoft.datawrangler.viewer.v0+json": {
       "columns": [
        {
         "name": "index",
         "rawType": "object",
         "type": "string"
        },
        {
         "name": "count",
         "rawType": "float64",
         "type": "float"
        },
        {
         "name": "mean",
         "rawType": "float64",
         "type": "float"
        },
        {
         "name": "std",
         "rawType": "float64",
         "type": "float"
        },
        {
         "name": "min",
         "rawType": "float64",
         "type": "float"
        },
        {
         "name": "25%",
         "rawType": "float64",
         "type": "float"
        },
        {
         "name": "50%",
         "rawType": "float64",
         "type": "float"
        },
        {
         "name": "75%",
         "rawType": "float64",
         "type": "float"
        },
        {
         "name": "max",
         "rawType": "float64",
         "type": "float"
        }
       ],
       "ref": "23eca72a-6653-4503-9287-9605c61ed37c",
       "rows": [
        [
         "PassengerId",
         "1309.0",
         "655.0",
         "378.0200611960517",
         "1.0",
         "328.0",
         "655.0",
         "982.0",
         "1309.0"
        ],
        [
         "Survived",
         "1309.0",
         "0.37738731856378915",
         "0.48491831071362723",
         "0.0",
         "0.0",
         "0.0",
         "1.0",
         "1.0"
        ],
        [
         "Pclass",
         "1309.0",
         "2.294881588999236",
         "0.8378360189701275",
         "1.0",
         "2.0",
         "3.0",
         "3.0",
         "3.0"
        ],
        [
         "Age",
         "1046.0",
         "29.881137667304014",
         "14.413493211271321",
         "0.17",
         "21.0",
         "28.0",
         "39.0",
         "80.0"
        ],
        [
         "SibSp",
         "1309.0",
         "0.4988540870893812",
         "1.041658390596102",
         "0.0",
         "0.0",
         "0.0",
         "1.0",
         "8.0"
        ],
        [
         "Parch",
         "1309.0",
         "0.3850267379679144",
         "0.8655602753495147",
         "0.0",
         "0.0",
         "0.0",
         "0.0",
         "9.0"
        ],
        [
         "Fare",
         "1309.0",
         "4425.079522689076",
         "25407.65235022585",
         "0.0",
         "8.05",
         "20.2125",
         "57.9792",
         "262375.0"
        ]
       ],
       "shape": {
        "columns": 8,
        "rows": 7
       }
      },
      "text/html": [
       "<div>\n",
       "<style scoped>\n",
       "    .dataframe tbody tr th:only-of-type {\n",
       "        vertical-align: middle;\n",
       "    }\n",
       "\n",
       "    .dataframe tbody tr th {\n",
       "        vertical-align: top;\n",
       "    }\n",
       "\n",
       "    .dataframe thead th {\n",
       "        text-align: right;\n",
       "    }\n",
       "</style>\n",
       "<table border=\"1\" class=\"dataframe\">\n",
       "  <thead>\n",
       "    <tr style=\"text-align: right;\">\n",
       "      <th></th>\n",
       "      <th>count</th>\n",
       "      <th>mean</th>\n",
       "      <th>std</th>\n",
       "      <th>min</th>\n",
       "      <th>25%</th>\n",
       "      <th>50%</th>\n",
       "      <th>75%</th>\n",
       "      <th>max</th>\n",
       "    </tr>\n",
       "  </thead>\n",
       "  <tbody>\n",
       "    <tr>\n",
       "      <th>PassengerId</th>\n",
       "      <td>1309.0</td>\n",
       "      <td>655.000000</td>\n",
       "      <td>378.020061</td>\n",
       "      <td>1.00</td>\n",
       "      <td>328.00</td>\n",
       "      <td>655.0000</td>\n",
       "      <td>982.0000</td>\n",
       "      <td>1309.0</td>\n",
       "    </tr>\n",
       "    <tr>\n",
       "      <th>Survived</th>\n",
       "      <td>1309.0</td>\n",
       "      <td>0.377387</td>\n",
       "      <td>0.484918</td>\n",
       "      <td>0.00</td>\n",
       "      <td>0.00</td>\n",
       "      <td>0.0000</td>\n",
       "      <td>1.0000</td>\n",
       "      <td>1.0</td>\n",
       "    </tr>\n",
       "    <tr>\n",
       "      <th>Pclass</th>\n",
       "      <td>1309.0</td>\n",
       "      <td>2.294882</td>\n",
       "      <td>0.837836</td>\n",
       "      <td>1.00</td>\n",
       "      <td>2.00</td>\n",
       "      <td>3.0000</td>\n",
       "      <td>3.0000</td>\n",
       "      <td>3.0</td>\n",
       "    </tr>\n",
       "    <tr>\n",
       "      <th>Age</th>\n",
       "      <td>1046.0</td>\n",
       "      <td>29.881138</td>\n",
       "      <td>14.413493</td>\n",
       "      <td>0.17</td>\n",
       "      <td>21.00</td>\n",
       "      <td>28.0000</td>\n",
       "      <td>39.0000</td>\n",
       "      <td>80.0</td>\n",
       "    </tr>\n",
       "    <tr>\n",
       "      <th>SibSp</th>\n",
       "      <td>1309.0</td>\n",
       "      <td>0.498854</td>\n",
       "      <td>1.041658</td>\n",
       "      <td>0.00</td>\n",
       "      <td>0.00</td>\n",
       "      <td>0.0000</td>\n",
       "      <td>1.0000</td>\n",
       "      <td>8.0</td>\n",
       "    </tr>\n",
       "    <tr>\n",
       "      <th>Parch</th>\n",
       "      <td>1309.0</td>\n",
       "      <td>0.385027</td>\n",
       "      <td>0.865560</td>\n",
       "      <td>0.00</td>\n",
       "      <td>0.00</td>\n",
       "      <td>0.0000</td>\n",
       "      <td>0.0000</td>\n",
       "      <td>9.0</td>\n",
       "    </tr>\n",
       "    <tr>\n",
       "      <th>Fare</th>\n",
       "      <td>1309.0</td>\n",
       "      <td>4425.079523</td>\n",
       "      <td>25407.652350</td>\n",
       "      <td>0.00</td>\n",
       "      <td>8.05</td>\n",
       "      <td>20.2125</td>\n",
       "      <td>57.9792</td>\n",
       "      <td>262375.0</td>\n",
       "    </tr>\n",
       "  </tbody>\n",
       "</table>\n",
       "</div>"
      ],
      "text/plain": [
       "              count         mean           std   min     25%       50%  \\\n",
       "PassengerId  1309.0   655.000000    378.020061  1.00  328.00  655.0000   \n",
       "Survived     1309.0     0.377387      0.484918  0.00    0.00    0.0000   \n",
       "Pclass       1309.0     2.294882      0.837836  1.00    2.00    3.0000   \n",
       "Age          1046.0    29.881138     14.413493  0.17   21.00   28.0000   \n",
       "SibSp        1309.0     0.498854      1.041658  0.00    0.00    0.0000   \n",
       "Parch        1309.0     0.385027      0.865560  0.00    0.00    0.0000   \n",
       "Fare         1309.0  4425.079523  25407.652350  0.00    8.05   20.2125   \n",
       "\n",
       "                  75%       max  \n",
       "PassengerId  982.0000    1309.0  \n",
       "Survived       1.0000       1.0  \n",
       "Pclass         3.0000       3.0  \n",
       "Age           39.0000      80.0  \n",
       "SibSp          1.0000       8.0  \n",
       "Parch          0.0000       9.0  \n",
       "Fare          57.9792  262375.0  "
      ]
     },
     "execution_count": 6,
     "metadata": {},
     "output_type": "execute_result"
    }
   ],
   "source": [
    "df_titanic.describe().T"
   ]
  },
  {
   "cell_type": "markdown",
   "id": "b6bcdb0a",
   "metadata": {},
   "source": [
    "- A variável idade tem como valor máximo 80. Contudo o 3º quartil mostra a idade de 39 anos, o que indica que há outliers\n",
    "- Quanto a coluna Fare (valor da passagem), temos outliers distorcendo a distribuição dos valores desta variável, puxando a média para 4428.39 sendo que a mediana está em 20.08"
   ]
  },
  {
   "cell_type": "markdown",
   "id": "c9759faf",
   "metadata": {},
   "source": [
    "### Explorando os dados categóricos e numéricos"
   ]
  },
  {
   "cell_type": "code",
   "execution_count": 7,
   "id": "15ccabee",
   "metadata": {},
   "outputs": [
    {
     "data": {
      "application/vnd.microsoft.datawrangler.viewer.v0+json": {
       "columns": [
        {
         "name": "index",
         "rawType": "int64",
         "type": "integer"
        },
        {
         "name": "Name",
         "rawType": "object",
         "type": "string"
        },
        {
         "name": "Sex",
         "rawType": "object",
         "type": "string"
        },
        {
         "name": "Ticket",
         "rawType": "object",
         "type": "string"
        },
        {
         "name": "Cabin",
         "rawType": "object",
         "type": "unknown"
        },
        {
         "name": "Embarked",
         "rawType": "object",
         "type": "string"
        }
       ],
       "ref": "768e39f4-51dd-436e-bd41-f97a13c9787e",
       "rows": [
        [
         "0",
         "Braund, Mr. Owen Harris",
         "male",
         "A/5 21171",
         null,
         "S"
        ],
        [
         "1",
         "Cumings, Mrs. John Bradley (Florence Briggs Thayer)",
         "female",
         "PC 17599",
         "C85",
         "C"
        ],
        [
         "2",
         "Heikkinen, Miss. Laina",
         "female",
         "STON/O2. 3101282",
         null,
         "S"
        ],
        [
         "3",
         "Futrelle, Mrs. Jacques Heath (Lily May Peel)",
         "female",
         "113803",
         "C123",
         "S"
        ],
        [
         "4",
         "Allen, Mr. William Henry",
         "male",
         "373450",
         null,
         "S"
        ]
       ],
       "shape": {
        "columns": 5,
        "rows": 5
       }
      },
      "text/html": [
       "<div>\n",
       "<style scoped>\n",
       "    .dataframe tbody tr th:only-of-type {\n",
       "        vertical-align: middle;\n",
       "    }\n",
       "\n",
       "    .dataframe tbody tr th {\n",
       "        vertical-align: top;\n",
       "    }\n",
       "\n",
       "    .dataframe thead th {\n",
       "        text-align: right;\n",
       "    }\n",
       "</style>\n",
       "<table border=\"1\" class=\"dataframe\">\n",
       "  <thead>\n",
       "    <tr style=\"text-align: right;\">\n",
       "      <th></th>\n",
       "      <th>Name</th>\n",
       "      <th>Sex</th>\n",
       "      <th>Ticket</th>\n",
       "      <th>Cabin</th>\n",
       "      <th>Embarked</th>\n",
       "    </tr>\n",
       "  </thead>\n",
       "  <tbody>\n",
       "    <tr>\n",
       "      <th>0</th>\n",
       "      <td>Braund, Mr. Owen Harris</td>\n",
       "      <td>male</td>\n",
       "      <td>A/5 21171</td>\n",
       "      <td>NaN</td>\n",
       "      <td>S</td>\n",
       "    </tr>\n",
       "    <tr>\n",
       "      <th>1</th>\n",
       "      <td>Cumings, Mrs. John Bradley (Florence Briggs Th...</td>\n",
       "      <td>female</td>\n",
       "      <td>PC 17599</td>\n",
       "      <td>C85</td>\n",
       "      <td>C</td>\n",
       "    </tr>\n",
       "    <tr>\n",
       "      <th>2</th>\n",
       "      <td>Heikkinen, Miss. Laina</td>\n",
       "      <td>female</td>\n",
       "      <td>STON/O2. 3101282</td>\n",
       "      <td>NaN</td>\n",
       "      <td>S</td>\n",
       "    </tr>\n",
       "    <tr>\n",
       "      <th>3</th>\n",
       "      <td>Futrelle, Mrs. Jacques Heath (Lily May Peel)</td>\n",
       "      <td>female</td>\n",
       "      <td>113803</td>\n",
       "      <td>C123</td>\n",
       "      <td>S</td>\n",
       "    </tr>\n",
       "    <tr>\n",
       "      <th>4</th>\n",
       "      <td>Allen, Mr. William Henry</td>\n",
       "      <td>male</td>\n",
       "      <td>373450</td>\n",
       "      <td>NaN</td>\n",
       "      <td>S</td>\n",
       "    </tr>\n",
       "  </tbody>\n",
       "</table>\n",
       "</div>"
      ],
      "text/plain": [
       "                                                Name     Sex  \\\n",
       "0                            Braund, Mr. Owen Harris    male   \n",
       "1  Cumings, Mrs. John Bradley (Florence Briggs Th...  female   \n",
       "2                             Heikkinen, Miss. Laina  female   \n",
       "3       Futrelle, Mrs. Jacques Heath (Lily May Peel)  female   \n",
       "4                           Allen, Mr. William Henry    male   \n",
       "\n",
       "             Ticket Cabin Embarked  \n",
       "0         A/5 21171   NaN        S  \n",
       "1          PC 17599   C85        C  \n",
       "2  STON/O2. 3101282   NaN        S  \n",
       "3            113803  C123        S  \n",
       "4            373450   NaN        S  "
      ]
     },
     "execution_count": 7,
     "metadata": {},
     "output_type": "execute_result"
    }
   ],
   "source": [
    "cat_col = [var for var in df_titanic.columns if df_titanic[var].dtype == 'O']\n",
    "df_titanic.loc[:,cat_col].head()"
   ]
  },
  {
   "cell_type": "code",
   "execution_count": 8,
   "id": "f945b5ea",
   "metadata": {},
   "outputs": [
    {
     "data": {
      "application/vnd.microsoft.datawrangler.viewer.v0+json": {
       "columns": [
        {
         "name": "index",
         "rawType": "int64",
         "type": "integer"
        },
        {
         "name": "PassengerId",
         "rawType": "int64",
         "type": "integer"
        },
        {
         "name": "Survived",
         "rawType": "int64",
         "type": "integer"
        },
        {
         "name": "Pclass",
         "rawType": "int64",
         "type": "integer"
        },
        {
         "name": "Age",
         "rawType": "float64",
         "type": "float"
        },
        {
         "name": "SibSp",
         "rawType": "int64",
         "type": "integer"
        },
        {
         "name": "Parch",
         "rawType": "int64",
         "type": "integer"
        },
        {
         "name": "Fare",
         "rawType": "float64",
         "type": "float"
        }
       ],
       "ref": "5ba05956-8090-4365-a086-38c5bd4763b2",
       "rows": [
        [
         "0",
         "1",
         "0",
         "3",
         "22.0",
         "1",
         "0",
         "7.25"
        ],
        [
         "1",
         "2",
         "1",
         "1",
         "38.0",
         "1",
         "0",
         "71.2833"
        ],
        [
         "2",
         "3",
         "1",
         "3",
         "26.0",
         "0",
         "0",
         "7925.0"
        ],
        [
         "3",
         "4",
         "1",
         "1",
         "35.0",
         "1",
         "0",
         "53.1"
        ],
        [
         "4",
         "5",
         "0",
         "3",
         "35.0",
         "0",
         "0",
         "8.05"
        ]
       ],
       "shape": {
        "columns": 7,
        "rows": 5
       }
      },
      "text/html": [
       "<div>\n",
       "<style scoped>\n",
       "    .dataframe tbody tr th:only-of-type {\n",
       "        vertical-align: middle;\n",
       "    }\n",
       "\n",
       "    .dataframe tbody tr th {\n",
       "        vertical-align: top;\n",
       "    }\n",
       "\n",
       "    .dataframe thead th {\n",
       "        text-align: right;\n",
       "    }\n",
       "</style>\n",
       "<table border=\"1\" class=\"dataframe\">\n",
       "  <thead>\n",
       "    <tr style=\"text-align: right;\">\n",
       "      <th></th>\n",
       "      <th>PassengerId</th>\n",
       "      <th>Survived</th>\n",
       "      <th>Pclass</th>\n",
       "      <th>Age</th>\n",
       "      <th>SibSp</th>\n",
       "      <th>Parch</th>\n",
       "      <th>Fare</th>\n",
       "    </tr>\n",
       "  </thead>\n",
       "  <tbody>\n",
       "    <tr>\n",
       "      <th>0</th>\n",
       "      <td>1</td>\n",
       "      <td>0</td>\n",
       "      <td>3</td>\n",
       "      <td>22.0</td>\n",
       "      <td>1</td>\n",
       "      <td>0</td>\n",
       "      <td>7.2500</td>\n",
       "    </tr>\n",
       "    <tr>\n",
       "      <th>1</th>\n",
       "      <td>2</td>\n",
       "      <td>1</td>\n",
       "      <td>1</td>\n",
       "      <td>38.0</td>\n",
       "      <td>1</td>\n",
       "      <td>0</td>\n",
       "      <td>71.2833</td>\n",
       "    </tr>\n",
       "    <tr>\n",
       "      <th>2</th>\n",
       "      <td>3</td>\n",
       "      <td>1</td>\n",
       "      <td>3</td>\n",
       "      <td>26.0</td>\n",
       "      <td>0</td>\n",
       "      <td>0</td>\n",
       "      <td>7925.0000</td>\n",
       "    </tr>\n",
       "    <tr>\n",
       "      <th>3</th>\n",
       "      <td>4</td>\n",
       "      <td>1</td>\n",
       "      <td>1</td>\n",
       "      <td>35.0</td>\n",
       "      <td>1</td>\n",
       "      <td>0</td>\n",
       "      <td>53.1000</td>\n",
       "    </tr>\n",
       "    <tr>\n",
       "      <th>4</th>\n",
       "      <td>5</td>\n",
       "      <td>0</td>\n",
       "      <td>3</td>\n",
       "      <td>35.0</td>\n",
       "      <td>0</td>\n",
       "      <td>0</td>\n",
       "      <td>8.0500</td>\n",
       "    </tr>\n",
       "  </tbody>\n",
       "</table>\n",
       "</div>"
      ],
      "text/plain": [
       "   PassengerId  Survived  Pclass   Age  SibSp  Parch       Fare\n",
       "0            1         0       3  22.0      1      0     7.2500\n",
       "1            2         1       1  38.0      1      0    71.2833\n",
       "2            3         1       3  26.0      0      0  7925.0000\n",
       "3            4         1       1  35.0      1      0    53.1000\n",
       "4            5         0       3  35.0      0      0     8.0500"
      ]
     },
     "execution_count": 8,
     "metadata": {},
     "output_type": "execute_result"
    }
   ],
   "source": [
    "num_col = [var for var in df_titanic.columns if df_titanic[var].dtype != 'O']\n",
    "df_titanic.loc[:,num_col].head()"
   ]
  },
  {
   "cell_type": "markdown",
   "id": "998b3463",
   "metadata": {},
   "source": [
    "- 3 variáveis discretas: Pclass, SibSp e Parch\n",
    "- 2 variáveis contínuas: Fare e Age\n",
    "- 1 variável Id: PassengerId (chave primária).\n",
    "- 1 binário: Survived (booleano)."
   ]
  },
  {
   "cell_type": "markdown",
   "id": "1689a89a",
   "metadata": {},
   "source": [
    "- Percentual de dados faltantes na base de treino"
   ]
  },
  {
   "cell_type": "code",
   "execution_count": 9,
   "id": "2dbe1b99",
   "metadata": {},
   "outputs": [
    {
     "data": {
      "application/vnd.microsoft.datawrangler.viewer.v0+json": {
       "columns": [
        {
         "name": "index",
         "rawType": "object",
         "type": "string"
        },
        {
         "name": "0",
         "rawType": "float64",
         "type": "float"
        }
       ],
       "ref": "56ee5603-bcac-4c47-a0b1-6d54b49bdd18",
       "rows": [
        [
         "PassengerId",
         "0.0"
        ],
        [
         "Survived",
         "0.0"
        ],
        [
         "Pclass",
         "0.0"
        ],
        [
         "Name",
         "0.0"
        ],
        [
         "Sex",
         "10.92"
        ],
        [
         "Age",
         "20.09"
        ],
        [
         "SibSp",
         "0.0"
        ],
        [
         "Parch",
         "0.0"
        ],
        [
         "Ticket",
         "0.0"
        ],
        [
         "Fare",
         "0.0"
        ],
        [
         "Cabin",
         "77.46"
        ],
        [
         "Embarked",
         "0.0"
        ]
       ],
       "shape": {
        "columns": 1,
        "rows": 12
       }
      },
      "text/plain": [
       "PassengerId     0.00\n",
       "Survived        0.00\n",
       "Pclass          0.00\n",
       "Name            0.00\n",
       "Sex            10.92\n",
       "Age            20.09\n",
       "SibSp           0.00\n",
       "Parch           0.00\n",
       "Ticket          0.00\n",
       "Fare            0.00\n",
       "Cabin          77.46\n",
       "Embarked        0.00\n",
       "dtype: float64"
      ]
     },
     "execution_count": 9,
     "metadata": {},
     "output_type": "execute_result"
    }
   ],
   "source": [
    "round(df_titanic.isnull().mean()*100, 2)"
   ]
  },
  {
   "cell_type": "markdown",
   "id": "16fdc69f",
   "metadata": {},
   "source": [
    "- Podemos observar que há 3 colunas com dados faltantes: Sex, Age e Cabin"
   ]
  },
  {
   "cell_type": "markdown",
   "id": "f034d967",
   "metadata": {},
   "source": [
    "## Vamos explorar o dataset para analisar o que é possível fazer para preencher os dados faltantes"
   ]
  },
  {
   "cell_type": "markdown",
   "id": "ae628688",
   "metadata": {},
   "source": [
    "- Total de Passageiros"
   ]
  },
  {
   "cell_type": "code",
   "execution_count": 10,
   "id": "e38e51df",
   "metadata": {},
   "outputs": [
    {
     "data": {
      "text/plain": [
       "1309"
      ]
     },
     "execution_count": 10,
     "metadata": {},
     "output_type": "execute_result"
    }
   ],
   "source": [
    "df_titanic.shape[0]"
   ]
  },
  {
   "cell_type": "markdown",
   "id": "15dfce94",
   "metadata": {},
   "source": [
    "- Total de Passageiros com todos os registros preenchidos (linhas)"
   ]
  },
  {
   "cell_type": "code",
   "execution_count": 11,
   "id": "1b146247",
   "metadata": {},
   "outputs": [
    {
     "data": {
      "text/plain": [
       "232"
      ]
     },
     "execution_count": 11,
     "metadata": {},
     "output_type": "execute_result"
    }
   ],
   "source": [
    "df_titanic.dropna().shape[0]"
   ]
  },
  {
   "cell_type": "markdown",
   "id": "3162a8f3",
   "metadata": {},
   "source": [
    "- Percentual de dados com 100% do preenchimento dos dados"
   ]
  },
  {
   "cell_type": "code",
   "execution_count": 12,
   "id": "ceb41129",
   "metadata": {},
   "outputs": [
    {
     "data": {
      "text/plain": [
       "17.72"
      ]
     },
     "execution_count": 12,
     "metadata": {},
     "output_type": "execute_result"
    }
   ],
   "source": [
    "round(df_titanic.dropna().shape[0] / len(df_titanic)*100, 2)"
   ]
  },
  {
   "cell_type": "markdown",
   "id": "612294a0",
   "metadata": {},
   "source": [
    "- Selecionando os registros com dados ausentes para a coluna Pclass"
   ]
  },
  {
   "cell_type": "code",
   "execution_count": 13,
   "id": "fe2d09b7",
   "metadata": {},
   "outputs": [
    {
     "data": {
      "text/plain": [
       "0"
      ]
     },
     "execution_count": 13,
     "metadata": {},
     "output_type": "execute_result"
    }
   ],
   "source": [
    "df_titanic[df_titanic['Pclass'].isnull()].shape[0]"
   ]
  },
  {
   "cell_type": "markdown",
   "id": "1ac77348",
   "metadata": {},
   "source": [
    "- Não temos nenhum registro faltante para a coluna Pclass"
   ]
  },
  {
   "cell_type": "markdown",
   "id": "5970ca4e",
   "metadata": {},
   "source": [
    "- É interessante conseguir extrair os títulos dos nomes para verificar se temos realmente correlação entre as variáveis"
   ]
  },
  {
   "cell_type": "code",
   "execution_count": 14,
   "id": "338ff0aa",
   "metadata": {},
   "outputs": [],
   "source": [
    "def extrai_titulo(df):\n",
    "    df['Título'] = df['Name'].apply(lambda x: x.split(',')[1].split('.')[0].strip().lower())\n",
    "\n",
    "extrai_titulo(df_titanic)"
   ]
  },
  {
   "cell_type": "markdown",
   "id": "afc31264",
   "metadata": {},
   "source": [
    "- Checando se a coluna Título foi criada corretamente"
   ]
  },
  {
   "cell_type": "code",
   "execution_count": 15,
   "id": "0d7fab67",
   "metadata": {},
   "outputs": [
    {
     "data": {
      "application/vnd.microsoft.datawrangler.viewer.v0+json": {
       "columns": [
        {
         "name": "index",
         "rawType": "int64",
         "type": "integer"
        },
        {
         "name": "PassengerId",
         "rawType": "int64",
         "type": "integer"
        },
        {
         "name": "Survived",
         "rawType": "int64",
         "type": "integer"
        },
        {
         "name": "Pclass",
         "rawType": "int64",
         "type": "integer"
        },
        {
         "name": "Name",
         "rawType": "object",
         "type": "string"
        },
        {
         "name": "Sex",
         "rawType": "object",
         "type": "string"
        },
        {
         "name": "Age",
         "rawType": "float64",
         "type": "float"
        },
        {
         "name": "SibSp",
         "rawType": "int64",
         "type": "integer"
        },
        {
         "name": "Parch",
         "rawType": "int64",
         "type": "integer"
        },
        {
         "name": "Ticket",
         "rawType": "object",
         "type": "string"
        },
        {
         "name": "Fare",
         "rawType": "float64",
         "type": "float"
        },
        {
         "name": "Cabin",
         "rawType": "object",
         "type": "unknown"
        },
        {
         "name": "Embarked",
         "rawType": "object",
         "type": "string"
        },
        {
         "name": "Título",
         "rawType": "object",
         "type": "string"
        }
       ],
       "ref": "6d652180-5503-48fd-a641-aae08c3d805a",
       "rows": [
        [
         "0",
         "1",
         "0",
         "3",
         "Braund, Mr. Owen Harris",
         "male",
         "22.0",
         "1",
         "0",
         "A/5 21171",
         "7.25",
         null,
         "S",
         "mr"
        ],
        [
         "1",
         "2",
         "1",
         "1",
         "Cumings, Mrs. John Bradley (Florence Briggs Thayer)",
         "female",
         "38.0",
         "1",
         "0",
         "PC 17599",
         "71.2833",
         "C85",
         "C",
         "mrs"
        ],
        [
         "2",
         "3",
         "1",
         "3",
         "Heikkinen, Miss. Laina",
         "female",
         "26.0",
         "0",
         "0",
         "STON/O2. 3101282",
         "7925.0",
         null,
         "S",
         "miss"
        ],
        [
         "3",
         "4",
         "1",
         "1",
         "Futrelle, Mrs. Jacques Heath (Lily May Peel)",
         "female",
         "35.0",
         "1",
         "0",
         "113803",
         "53.1",
         "C123",
         "S",
         "mrs"
        ],
        [
         "4",
         "5",
         "0",
         "3",
         "Allen, Mr. William Henry",
         "male",
         "35.0",
         "0",
         "0",
         "373450",
         "8.05",
         null,
         "S",
         "mr"
        ]
       ],
       "shape": {
        "columns": 13,
        "rows": 5
       }
      },
      "text/html": [
       "<div>\n",
       "<style scoped>\n",
       "    .dataframe tbody tr th:only-of-type {\n",
       "        vertical-align: middle;\n",
       "    }\n",
       "\n",
       "    .dataframe tbody tr th {\n",
       "        vertical-align: top;\n",
       "    }\n",
       "\n",
       "    .dataframe thead th {\n",
       "        text-align: right;\n",
       "    }\n",
       "</style>\n",
       "<table border=\"1\" class=\"dataframe\">\n",
       "  <thead>\n",
       "    <tr style=\"text-align: right;\">\n",
       "      <th></th>\n",
       "      <th>PassengerId</th>\n",
       "      <th>Survived</th>\n",
       "      <th>Pclass</th>\n",
       "      <th>Name</th>\n",
       "      <th>Sex</th>\n",
       "      <th>Age</th>\n",
       "      <th>SibSp</th>\n",
       "      <th>Parch</th>\n",
       "      <th>Ticket</th>\n",
       "      <th>Fare</th>\n",
       "      <th>Cabin</th>\n",
       "      <th>Embarked</th>\n",
       "      <th>Título</th>\n",
       "    </tr>\n",
       "  </thead>\n",
       "  <tbody>\n",
       "    <tr>\n",
       "      <th>0</th>\n",
       "      <td>1</td>\n",
       "      <td>0</td>\n",
       "      <td>3</td>\n",
       "      <td>Braund, Mr. Owen Harris</td>\n",
       "      <td>male</td>\n",
       "      <td>22.0</td>\n",
       "      <td>1</td>\n",
       "      <td>0</td>\n",
       "      <td>A/5 21171</td>\n",
       "      <td>7.2500</td>\n",
       "      <td>NaN</td>\n",
       "      <td>S</td>\n",
       "      <td>mr</td>\n",
       "    </tr>\n",
       "    <tr>\n",
       "      <th>1</th>\n",
       "      <td>2</td>\n",
       "      <td>1</td>\n",
       "      <td>1</td>\n",
       "      <td>Cumings, Mrs. John Bradley (Florence Briggs Th...</td>\n",
       "      <td>female</td>\n",
       "      <td>38.0</td>\n",
       "      <td>1</td>\n",
       "      <td>0</td>\n",
       "      <td>PC 17599</td>\n",
       "      <td>71.2833</td>\n",
       "      <td>C85</td>\n",
       "      <td>C</td>\n",
       "      <td>mrs</td>\n",
       "    </tr>\n",
       "    <tr>\n",
       "      <th>2</th>\n",
       "      <td>3</td>\n",
       "      <td>1</td>\n",
       "      <td>3</td>\n",
       "      <td>Heikkinen, Miss. Laina</td>\n",
       "      <td>female</td>\n",
       "      <td>26.0</td>\n",
       "      <td>0</td>\n",
       "      <td>0</td>\n",
       "      <td>STON/O2. 3101282</td>\n",
       "      <td>7925.0000</td>\n",
       "      <td>NaN</td>\n",
       "      <td>S</td>\n",
       "      <td>miss</td>\n",
       "    </tr>\n",
       "    <tr>\n",
       "      <th>3</th>\n",
       "      <td>4</td>\n",
       "      <td>1</td>\n",
       "      <td>1</td>\n",
       "      <td>Futrelle, Mrs. Jacques Heath (Lily May Peel)</td>\n",
       "      <td>female</td>\n",
       "      <td>35.0</td>\n",
       "      <td>1</td>\n",
       "      <td>0</td>\n",
       "      <td>113803</td>\n",
       "      <td>53.1000</td>\n",
       "      <td>C123</td>\n",
       "      <td>S</td>\n",
       "      <td>mrs</td>\n",
       "    </tr>\n",
       "    <tr>\n",
       "      <th>4</th>\n",
       "      <td>5</td>\n",
       "      <td>0</td>\n",
       "      <td>3</td>\n",
       "      <td>Allen, Mr. William Henry</td>\n",
       "      <td>male</td>\n",
       "      <td>35.0</td>\n",
       "      <td>0</td>\n",
       "      <td>0</td>\n",
       "      <td>373450</td>\n",
       "      <td>8.0500</td>\n",
       "      <td>NaN</td>\n",
       "      <td>S</td>\n",
       "      <td>mr</td>\n",
       "    </tr>\n",
       "  </tbody>\n",
       "</table>\n",
       "</div>"
      ],
      "text/plain": [
       "   PassengerId  Survived  Pclass  \\\n",
       "0            1         0       3   \n",
       "1            2         1       1   \n",
       "2            3         1       3   \n",
       "3            4         1       1   \n",
       "4            5         0       3   \n",
       "\n",
       "                                                Name     Sex   Age  SibSp  \\\n",
       "0                            Braund, Mr. Owen Harris    male  22.0      1   \n",
       "1  Cumings, Mrs. John Bradley (Florence Briggs Th...  female  38.0      1   \n",
       "2                             Heikkinen, Miss. Laina  female  26.0      0   \n",
       "3       Futrelle, Mrs. Jacques Heath (Lily May Peel)  female  35.0      1   \n",
       "4                           Allen, Mr. William Henry    male  35.0      0   \n",
       "\n",
       "   Parch            Ticket       Fare Cabin Embarked Título  \n",
       "0      0         A/5 21171     7.2500   NaN        S     mr  \n",
       "1      0          PC 17599    71.2833   C85        C    mrs  \n",
       "2      0  STON/O2. 3101282  7925.0000   NaN        S   miss  \n",
       "3      0            113803    53.1000  C123        S    mrs  \n",
       "4      0            373450     8.0500   NaN        S     mr  "
      ]
     },
     "execution_count": 15,
     "metadata": {},
     "output_type": "execute_result"
    }
   ],
   "source": [
    "df_titanic.head()"
   ]
  },
  {
   "cell_type": "markdown",
   "id": "5712cbee",
   "metadata": {},
   "source": [
    "- Checando se há algum registro sem título"
   ]
  },
  {
   "cell_type": "code",
   "execution_count": 16,
   "id": "26c1d25f",
   "metadata": {},
   "outputs": [
    {
     "data": {
      "text/plain": [
       "0"
      ]
     },
     "execution_count": 16,
     "metadata": {},
     "output_type": "execute_result"
    }
   ],
   "source": [
    "df_titanic[df_titanic['Título'].isnull()].shape[0]"
   ]
  },
  {
   "cell_type": "code",
   "execution_count": 17,
   "id": "f7c97e93",
   "metadata": {},
   "outputs": [
    {
     "data": {
      "application/vnd.microsoft.datawrangler.viewer.v0+json": {
       "columns": [
        {
         "name": "Título",
         "rawType": "object",
         "type": "string"
        },
        {
         "name": "count",
         "rawType": "int64",
         "type": "integer"
        }
       ],
       "ref": "086a1544-1161-4c84-a1b7-0d3050d6523a",
       "rows": [
        [
         "mr",
         "757"
        ],
        [
         "miss",
         "260"
        ],
        [
         "mrs",
         "197"
        ],
        [
         "master",
         "61"
        ],
        [
         "rev",
         "8"
        ],
        [
         "dr",
         "8"
        ],
        [
         "col",
         "4"
        ],
        [
         "major",
         "2"
        ],
        [
         "mlle",
         "2"
        ],
        [
         "ms",
         "2"
        ],
        [
         "mme",
         "1"
        ],
        [
         "don",
         "1"
        ],
        [
         "sir",
         "1"
        ],
        [
         "lady",
         "1"
        ],
        [
         "capt",
         "1"
        ],
        [
         "the countess",
         "1"
        ],
        [
         "jonkheer",
         "1"
        ],
        [
         "dona",
         "1"
        ]
       ],
       "shape": {
        "columns": 1,
        "rows": 18
       }
      },
      "text/plain": [
       "Título\n",
       "mr              757\n",
       "miss            260\n",
       "mrs             197\n",
       "master           61\n",
       "rev               8\n",
       "dr                8\n",
       "col               4\n",
       "major             2\n",
       "mlle              2\n",
       "ms                2\n",
       "mme               1\n",
       "don               1\n",
       "sir               1\n",
       "lady              1\n",
       "capt              1\n",
       "the countess      1\n",
       "jonkheer          1\n",
       "dona              1\n",
       "Name: count, dtype: int64"
      ]
     },
     "execution_count": 17,
     "metadata": {},
     "output_type": "execute_result"
    },
    {
     "data": {
      "image/png": "[encoded data removed]",
      "text/plain": [
       "<Figure size 1100x600 with 1 Axes>"
      ]
     },
     "metadata": {},
     "output_type": "display_data"
    }
   ],
   "source": [
    "fig = df_titanic['Título'].value_counts().plot.barh(figsize=(11,6))\n",
    "fig.set_title('Abreviações dos Títulos dos Passageiros')\n",
    "fig.set_ylabel('Nome dos Títulos')\n",
    "fig.set_xlabel('Quantidade por Título')\n",
    "\n",
    "df_titanic['Título'].value_counts()"
   ]
  },
  {
   "cell_type": "markdown",
   "id": "62368eb3",
   "metadata": {},
   "source": [
    "- Conforme o gráfico acima, temos vários títulos"
   ]
  },
  {
   "cell_type": "markdown",
   "id": "2a1465ad",
   "metadata": {},
   "source": [
    "- Vamos investigar os outliers como já identificamos acima nas variáveis Age e Fare. Para isso, vamos utilizar o boxplot."
   ]
  },
  {
   "cell_type": "code",
   "execution_count": 18,
   "id": "0e177c28",
   "metadata": {},
   "outputs": [
    {
     "data": {
      "text/plain": [
       "<Axes: >"
      ]
     },
     "execution_count": 18,
     "metadata": {},
     "output_type": "execute_result"
    },
    {
     "data": {
      "image/png": "[encoded data removed]",
      "text/plain": [
       "<Figure size 1500x200 with 1 Axes>"
      ]
     },
     "metadata": {},
     "output_type": "display_data"
    }
   ],
   "source": [
    "df_titanic['Age'].plot.box(vert=False, figsize=(15,2))"
   ]
  },
  {
   "cell_type": "code",
   "execution_count": 19,
   "id": "8e8b1fe6",
   "metadata": {},
   "outputs": [
    {
     "data": {
      "text/plain": [
       "<Axes: >"
      ]
     },
     "execution_count": 19,
     "metadata": {},
     "output_type": "execute_result"
    },
    {
     "data": {
      "image/png": "[encoded data removed]",
      "text/plain": [
       "<Figure size 1500x200 with 1 Axes>"
      ]
     },
     "metadata": {},
     "output_type": "display_data"
    }
   ],
   "source": [
    "df_titanic['Fare'].plot.box(vert=False, figsize=(15,2))"
   ]
  },
  {
   "cell_type": "markdown",
   "id": "4a609422",
   "metadata": {},
   "source": [
    "- Como já esperado, diversos Outliers"
   ]
  },
  {
   "cell_type": "markdown",
   "id": "999a1f05",
   "metadata": {},
   "source": [
    "- Para a coluna Fare, a quantidade de outiliers é tão grande que não conseguimos visualizar o box. Portanto, vamos filtrar por Fare menor que 500."
   ]
  },
  {
   "cell_type": "code",
   "execution_count": 20,
   "id": "0b7edd53",
   "metadata": {},
   "outputs": [
    {
     "data": {
      "text/plain": [
       "<Axes: >"
      ]
     },
     "execution_count": 20,
     "metadata": {},
     "output_type": "execute_result"
    },
    {
     "data": {
      "image/png": "[encoded data removed]",
      "text/plain": [
       "<Figure size 1500x200 with 1 Axes>"
      ]
     },
     "metadata": {},
     "output_type": "display_data"
    }
   ],
   "source": [
    "df_titanic['Fare'].loc[df_titanic['Fare'] < 500].plot.box(vert=False, figsize=(15,2))"
   ]
  },
  {
   "cell_type": "markdown",
   "id": "c1b48f47",
   "metadata": {},
   "source": [
    "- Analisando a distribuição das variáveis para descobrir se elas são gaussianas (normais) ou distorcidas (assimétricas)"
   ]
  },
  {
   "cell_type": "code",
   "execution_count": 21,
   "id": "dce96bd4",
   "metadata": {},
   "outputs": [
    {
     "data": {
      "text/plain": [
       "<Axes: >"
      ]
     },
     "execution_count": 21,
     "metadata": {},
     "output_type": "execute_result"
    },
    {
     "data": {
      "image/png": "[encoded data removed]",
      "text/plain": [
       "<Figure size 1200x600 with 1 Axes>"
      ]
     },
     "metadata": {},
     "output_type": "display_data"
    }
   ],
   "source": [
    "df_titanic['Age'].hist(bins = 25, figsize=(12,6))"
   ]
  },
  {
   "cell_type": "code",
   "execution_count": 22,
   "id": "14dafccf",
   "metadata": {},
   "outputs": [
    {
     "data": {
      "text/plain": [
       "<Axes: >"
      ]
     },
     "execution_count": 22,
     "metadata": {},
     "output_type": "execute_result"
    },
    {
     "data": {
      "image/png": "[encoded data removed]",
      "text/plain": [
       "<Figure size 1200x600 with 1 Axes>"
      ]
     },
     "metadata": {},
     "output_type": "display_data"
    }
   ],
   "source": [
    "df_titanic['Fare'].loc[df_titanic['Fare'] < 500].hist(bins = 25, figsize=(12,6))"
   ]
  },
  {
   "cell_type": "markdown",
   "id": "a12b6a39",
   "metadata": {},
   "source": [
    "- Vamos ver a distribuição de pessoas por tipo de classe de passagem"
   ]
  },
  {
   "cell_type": "code",
   "execution_count": 23,
   "id": "fa3dc50e",
   "metadata": {},
   "outputs": [
    {
     "data": {
      "text/plain": [
       "<Axes: ylabel='Pclass'>"
      ]
     },
     "execution_count": 23,
     "metadata": {},
     "output_type": "execute_result"
    },
    {
     "data": {
      "image/png": "[encoded data removed]",
      "text/plain": [
       "<Figure size 1100x600 with 1 Axes>"
      ]
     },
     "metadata": {},
     "output_type": "display_data"
    }
   ],
   "source": [
    "df_titanic['Pclass'].value_counts().plot.barh(figsize=(11,6))"
   ]
  },
  {
   "cell_type": "markdown",
   "id": "c0a47ae4",
   "metadata": {},
   "source": [
    "- Vamos identificar qual o nosso *threshold* de valor da passagem pago apenas pelos passageiros da Primeira Classe"
   ]
  },
  {
   "cell_type": "code",
   "execution_count": 24,
   "id": "8f70ad9d",
   "metadata": {},
   "outputs": [
    {
     "data": {
      "application/vnd.microsoft.datawrangler.viewer.v0+json": {
       "columns": [
        {
         "name": "('Pclass', 'Fare')",
         "rawType": "object",
         "type": "unknown"
        },
        {
         "name": "PassengerId",
         "rawType": "int64",
         "type": "integer"
        }
       ],
       "ref": "9233c287-b367-46b2-8a8c-cad5184b4829",
       "rows": [
        [
         "(np.int64(1), np.float64(25925.0))",
         "1"
        ],
        [
         "(np.int64(1), np.float64(40125.0))",
         "1"
        ],
        [
         "(np.int64(1), np.float64(61175.0))",
         "2"
        ],
        [
         "(np.int64(1), np.float64(83475.0))",
         "2"
        ],
        [
         "(np.int64(1), np.float64(106425.0))",
         "3"
        ],
        [
         "(np.int64(1), np.float64(113275.0))",
         "3"
        ],
        [
         "(np.int64(1), np.float64(227525.0))",
         "5"
        ],
        [
         "(np.int64(1), np.float64(262375.0))",
         "7"
        ],
        [
         "(np.int64(2), np.float64(12275.0))",
         "1"
        ],
        [
         "(np.int64(2), np.float64(12525.0))",
         "1"
        ],
        [
         "(np.int64(2), np.float64(12875.0))",
         "2"
        ],
        [
         "(np.int64(3), np.float64(12475.0))",
         "4"
        ],
        [
         "(np.int64(3), np.float64(13775.0))",
         "3"
        ],
        [
         "(np.int64(3), np.float64(20525.0))",
         "3"
        ],
        [
         "(np.int64(3), np.float64(20575.0))",
         "4"
        ],
        [
         "(np.int64(3), np.float64(21075.0))",
         "5"
        ],
        [
         "(np.int64(3), np.float64(22025.0))",
         "3"
        ],
        [
         "(np.int64(3), np.float64(22525.0))",
         "3"
        ],
        [
         "(np.int64(3), np.float64(29125.0))",
         "6"
        ],
        [
         "(np.int64(3), np.float64(31275.0))",
         "7"
        ],
        [
         "(np.int64(3), np.float64(34375.0))",
         "5"
        ]
       ],
       "shape": {
        "columns": 1,
        "rows": 21
       }
      },
      "text/html": [
       "<div>\n",
       "<style scoped>\n",
       "    .dataframe tbody tr th:only-of-type {\n",
       "        vertical-align: middle;\n",
       "    }\n",
       "\n",
       "    .dataframe tbody tr th {\n",
       "        vertical-align: top;\n",
       "    }\n",
       "\n",
       "    .dataframe thead th {\n",
       "        text-align: right;\n",
       "    }\n",
       "</style>\n",
       "<table border=\"1\" class=\"dataframe\">\n",
       "  <thead>\n",
       "    <tr style=\"text-align: right;\">\n",
       "      <th></th>\n",
       "      <th></th>\n",
       "      <th>PassengerId</th>\n",
       "    </tr>\n",
       "    <tr>\n",
       "      <th>Pclass</th>\n",
       "      <th>Fare</th>\n",
       "      <th></th>\n",
       "    </tr>\n",
       "  </thead>\n",
       "  <tbody>\n",
       "    <tr>\n",
       "      <th rowspan=\"8\" valign=\"top\">1</th>\n",
       "      <th>25925.0</th>\n",
       "      <td>1</td>\n",
       "    </tr>\n",
       "    <tr>\n",
       "      <th>40125.0</th>\n",
       "      <td>1</td>\n",
       "    </tr>\n",
       "    <tr>\n",
       "      <th>61175.0</th>\n",
       "      <td>2</td>\n",
       "    </tr>\n",
       "    <tr>\n",
       "      <th>83475.0</th>\n",
       "      <td>2</td>\n",
       "    </tr>\n",
       "    <tr>\n",
       "      <th>106425.0</th>\n",
       "      <td>3</td>\n",
       "    </tr>\n",
       "    <tr>\n",
       "      <th>113275.0</th>\n",
       "      <td>3</td>\n",
       "    </tr>\n",
       "    <tr>\n",
       "      <th>227525.0</th>\n",
       "      <td>5</td>\n",
       "    </tr>\n",
       "    <tr>\n",
       "      <th>262375.0</th>\n",
       "      <td>7</td>\n",
       "    </tr>\n",
       "    <tr>\n",
       "      <th rowspan=\"3\" valign=\"top\">2</th>\n",
       "      <th>12275.0</th>\n",
       "      <td>1</td>\n",
       "    </tr>\n",
       "    <tr>\n",
       "      <th>12525.0</th>\n",
       "      <td>1</td>\n",
       "    </tr>\n",
       "    <tr>\n",
       "      <th>12875.0</th>\n",
       "      <td>2</td>\n",
       "    </tr>\n",
       "    <tr>\n",
       "      <th rowspan=\"10\" valign=\"top\">3</th>\n",
       "      <th>12475.0</th>\n",
       "      <td>4</td>\n",
       "    </tr>\n",
       "    <tr>\n",
       "      <th>13775.0</th>\n",
       "      <td>3</td>\n",
       "    </tr>\n",
       "    <tr>\n",
       "      <th>20525.0</th>\n",
       "      <td>3</td>\n",
       "    </tr>\n",
       "    <tr>\n",
       "      <th>20575.0</th>\n",
       "      <td>4</td>\n",
       "    </tr>\n",
       "    <tr>\n",
       "      <th>21075.0</th>\n",
       "      <td>5</td>\n",
       "    </tr>\n",
       "    <tr>\n",
       "      <th>22025.0</th>\n",
       "      <td>3</td>\n",
       "    </tr>\n",
       "    <tr>\n",
       "      <th>22525.0</th>\n",
       "      <td>3</td>\n",
       "    </tr>\n",
       "    <tr>\n",
       "      <th>29125.0</th>\n",
       "      <td>6</td>\n",
       "    </tr>\n",
       "    <tr>\n",
       "      <th>31275.0</th>\n",
       "      <td>7</td>\n",
       "    </tr>\n",
       "    <tr>\n",
       "      <th>34375.0</th>\n",
       "      <td>5</td>\n",
       "    </tr>\n",
       "  </tbody>\n",
       "</table>\n",
       "</div>"
      ],
      "text/plain": [
       "                 PassengerId\n",
       "Pclass Fare                 \n",
       "1      25925.0             1\n",
       "       40125.0             1\n",
       "       61175.0             2\n",
       "       83475.0             2\n",
       "       106425.0            3\n",
       "       113275.0            3\n",
       "       227525.0            5\n",
       "       262375.0            7\n",
       "2      12275.0             1\n",
       "       12525.0             1\n",
       "       12875.0             2\n",
       "3      12475.0             4\n",
       "       13775.0             3\n",
       "       20525.0             3\n",
       "       20575.0             4\n",
       "       21075.0             5\n",
       "       22025.0             3\n",
       "       22525.0             3\n",
       "       29125.0             6\n",
       "       31275.0             7\n",
       "       34375.0             5"
      ]
     },
     "execution_count": 24,
     "metadata": {},
     "output_type": "execute_result"
    }
   ],
   "source": [
    "df_titanic.loc[df_titanic['Fare'] > 10000].groupby(['Pclass','Fare'])[['PassengerId']].count()"
   ]
  },
  {
   "cell_type": "markdown",
   "id": "1b24edc7",
   "metadata": {},
   "source": [
    "- Podemos perceber que o valor mais alto pago na terceira classe foi de 34375. Ou seja, todo mundo que pagou um valor acima desse está na primeira classe."
   ]
  },
  {
   "cell_type": "markdown",
   "id": "78ba3599",
   "metadata": {},
   "source": [
    "- Vamos identificar agora a distribuição das classes das pessoas pelos seus títulos"
   ]
  },
  {
   "cell_type": "code",
   "execution_count": 25,
   "id": "b057b984",
   "metadata": {},
   "outputs": [
    {
     "data": {
      "application/vnd.microsoft.datawrangler.viewer.v0+json": {
       "columns": [
        {
         "name": "('Título', 'Pclass')",
         "rawType": "object",
         "type": "unknown"
        },
        {
         "name": "PassengerId",
         "rawType": "int64",
         "type": "integer"
        },
        {
         "name": "Survived",
         "rawType": "int64",
         "type": "integer"
        },
        {
         "name": "Name",
         "rawType": "int64",
         "type": "integer"
        },
        {
         "name": "Sex",
         "rawType": "int64",
         "type": "integer"
        },
        {
         "name": "Age",
         "rawType": "int64",
         "type": "integer"
        },
        {
         "name": "SibSp",
         "rawType": "int64",
         "type": "integer"
        },
        {
         "name": "Parch",
         "rawType": "int64",
         "type": "integer"
        },
        {
         "name": "Ticket",
         "rawType": "int64",
         "type": "integer"
        },
        {
         "name": "Fare",
         "rawType": "int64",
         "type": "integer"
        },
        {
         "name": "Cabin",
         "rawType": "int64",
         "type": "integer"
        },
        {
         "name": "Embarked",
         "rawType": "int64",
         "type": "integer"
        }
       ],
       "ref": "0519c1ee-04b6-4a02-a369-6cecf755e454",
       "rows": [
        [
         "('capt', np.int64(1))",
         "1",
         "1",
         "1",
         "1",
         "1",
         "1",
         "1",
         "1",
         "1",
         "1",
         "1"
        ],
        [
         "('col', np.int64(1))",
         "4",
         "4",
         "4",
         "4",
         "4",
         "4",
         "4",
         "4",
         "4",
         "3",
         "4"
        ],
        [
         "('don', np.int64(1))",
         "1",
         "1",
         "1",
         "0",
         "1",
         "1",
         "1",
         "1",
         "1",
         "0",
         "1"
        ],
        [
         "('dona', np.int64(1))",
         "1",
         "1",
         "1",
         "1",
         "1",
         "1",
         "1",
         "1",
         "1",
         "1",
         "1"
        ],
        [
         "('dr', np.int64(1))",
         "6",
         "6",
         "6",
         "6",
         "5",
         "6",
         "6",
         "6",
         "6",
         "4",
         "6"
        ],
        [
         "('dr', np.int64(2))",
         "2",
         "2",
         "2",
         "1",
         "2",
         "2",
         "2",
         "2",
         "2",
         "0",
         "2"
        ],
        [
         "('jonkheer', np.int64(1))",
         "1",
         "1",
         "1",
         "1",
         "1",
         "1",
         "1",
         "1",
         "1",
         "0",
         "1"
        ],
        [
         "('lady', np.int64(1))",
         "1",
         "1",
         "1",
         "1",
         "1",
         "1",
         "1",
         "1",
         "1",
         "1",
         "1"
        ],
        [
         "('major', np.int64(1))",
         "2",
         "2",
         "2",
         "2",
         "2",
         "2",
         "2",
         "2",
         "2",
         "2",
         "2"
        ],
        [
         "('master', np.int64(1))",
         "5",
         "5",
         "5",
         "5",
         "5",
         "5",
         "5",
         "5",
         "5",
         "5",
         "5"
        ],
        [
         "('master', np.int64(2))",
         "11",
         "11",
         "11",
         "10",
         "11",
         "11",
         "11",
         "11",
         "11",
         "3",
         "11"
        ],
        [
         "('master', np.int64(3))",
         "45",
         "45",
         "45",
         "39",
         "37",
         "45",
         "45",
         "45",
         "45",
         "1",
         "45"
        ],
        [
         "('miss', np.int64(1))",
         "60",
         "60",
         "60",
         "49",
         "59",
         "60",
         "60",
         "60",
         "60",
         "48",
         "60"
        ],
        [
         "('miss', np.int64(2))",
         "50",
         "50",
         "50",
         "47",
         "48",
         "50",
         "50",
         "50",
         "50",
         "6",
         "50"
        ],
        [
         "('miss', np.int64(3))",
         "150",
         "150",
         "150",
         "135",
         "103",
         "150",
         "150",
         "150",
         "150",
         "4",
         "150"
        ],
        [
         "('mlle', np.int64(1))",
         "2",
         "2",
         "2",
         "2",
         "2",
         "2",
         "2",
         "2",
         "2",
         "2",
         "2"
        ],
        [
         "('mme', np.int64(1))",
         "1",
         "1",
         "1",
         "1",
         "1",
         "1",
         "1",
         "1",
         "1",
         "1",
         "1"
        ],
        [
         "('mr', np.int64(1))",
         "159",
         "159",
         "159",
         "139",
         "132",
         "159",
         "159",
         "159",
         "159",
         "120",
         "159"
        ],
        [
         "('mr', np.int64(2))",
         "150",
         "150",
         "150",
         "130",
         "137",
         "150",
         "150",
         "150",
         "150",
         "7",
         "150"
        ],
        [
         "('mr', np.int64(3))",
         "448",
         "448",
         "448",
         "411",
         "312",
         "448",
         "448",
         "448",
         "448",
         "8",
         "448"
        ],
        [
         "('mrs', np.int64(1))",
         "77",
         "77",
         "77",
         "65",
         "67",
         "77",
         "77",
         "77",
         "77",
         "66",
         "77"
        ],
        [
         "('mrs', np.int64(2))",
         "55",
         "55",
         "55",
         "48",
         "54",
         "55",
         "55",
         "55",
         "55",
         "7",
         "55"
        ],
        [
         "('mrs', np.int64(3))",
         "65",
         "65",
         "65",
         "57",
         "49",
         "65",
         "65",
         "65",
         "65",
         "3",
         "65"
        ],
        [
         "('ms', np.int64(2))",
         "1",
         "1",
         "1",
         "1",
         "1",
         "1",
         "1",
         "1",
         "1",
         "0",
         "1"
        ],
        [
         "('ms', np.int64(3))",
         "1",
         "1",
         "1",
         "1",
         "0",
         "1",
         "1",
         "1",
         "1",
         "0",
         "1"
        ],
        [
         "('rev', np.int64(2))",
         "8",
         "8",
         "8",
         "7",
         "8",
         "8",
         "8",
         "8",
         "8",
         "0",
         "8"
        ],
        [
         "('sir', np.int64(1))",
         "1",
         "1",
         "1",
         "1",
         "1",
         "1",
         "1",
         "1",
         "1",
         "1",
         "1"
        ],
        [
         "('the countess', np.int64(1))",
         "1",
         "1",
         "1",
         "1",
         "1",
         "1",
         "1",
         "1",
         "1",
         "1",
         "1"
        ]
       ],
       "shape": {
        "columns": 11,
        "rows": 28
       }
      },
      "text/html": [
       "<div>\n",
       "<style scoped>\n",
       "    .dataframe tbody tr th:only-of-type {\n",
       "        vertical-align: middle;\n",
       "    }\n",
       "\n",
       "    .dataframe tbody tr th {\n",
       "        vertical-align: top;\n",
       "    }\n",
       "\n",
       "    .dataframe thead th {\n",
       "        text-align: right;\n",
       "    }\n",
       "</style>\n",
       "<table border=\"1\" class=\"dataframe\">\n",
       "  <thead>\n",
       "    <tr style=\"text-align: right;\">\n",
       "      <th></th>\n",
       "      <th></th>\n",
       "      <th>PassengerId</th>\n",
       "      <th>Survived</th>\n",
       "      <th>Name</th>\n",
       "      <th>Sex</th>\n",
       "      <th>Age</th>\n",
       "      <th>SibSp</th>\n",
       "      <th>Parch</th>\n",
       "      <th>Ticket</th>\n",
       "      <th>Fare</th>\n",
       "      <th>Cabin</th>\n",
       "      <th>Embarked</th>\n",
       "    </tr>\n",
       "    <tr>\n",
       "      <th>Título</th>\n",
       "      <th>Pclass</th>\n",
       "      <th></th>\n",
       "      <th></th>\n",
       "      <th></th>\n",
       "      <th></th>\n",
       "      <th></th>\n",
       "      <th></th>\n",
       "      <th></th>\n",
       "      <th></th>\n",
       "      <th></th>\n",
       "      <th></th>\n",
       "      <th></th>\n",
       "    </tr>\n",
       "  </thead>\n",
       "  <tbody>\n",
       "    <tr>\n",
       "      <th>capt</th>\n",
       "      <th>1</th>\n",
       "      <td>1</td>\n",
       "      <td>1</td>\n",
       "      <td>1</td>\n",
       "      <td>1</td>\n",
       "      <td>1</td>\n",
       "      <td>1</td>\n",
       "      <td>1</td>\n",
       "      <td>1</td>\n",
       "      <td>1</td>\n",
       "      <td>1</td>\n",
       "      <td>1</td>\n",
       "    </tr>\n",
       "    <tr>\n",
       "      <th>col</th>\n",
       "      <th>1</th>\n",
       "      <td>4</td>\n",
       "      <td>4</td>\n",
       "      <td>4</td>\n",
       "      <td>4</td>\n",
       "      <td>4</td>\n",
       "      <td>4</td>\n",
       "      <td>4</td>\n",
       "      <td>4</td>\n",
       "      <td>4</td>\n",
       "      <td>3</td>\n",
       "      <td>4</td>\n",
       "    </tr>\n",
       "    <tr>\n",
       "      <th>don</th>\n",
       "      <th>1</th>\n",
       "      <td>1</td>\n",
       "      <td>1</td>\n",
       "      <td>1</td>\n",
       "      <td>0</td>\n",
       "      <td>1</td>\n",
       "      <td>1</td>\n",
       "      <td>1</td>\n",
       "      <td>1</td>\n",
       "      <td>1</td>\n",
       "      <td>0</td>\n",
       "      <td>1</td>\n",
       "    </tr>\n",
       "    <tr>\n",
       "      <th>dona</th>\n",
       "      <th>1</th>\n",
       "      <td>1</td>\n",
       "      <td>1</td>\n",
       "      <td>1</td>\n",
       "      <td>1</td>\n",
       "      <td>1</td>\n",
       "      <td>1</td>\n",
       "      <td>1</td>\n",
       "      <td>1</td>\n",
       "      <td>1</td>\n",
       "      <td>1</td>\n",
       "      <td>1</td>\n",
       "    </tr>\n",
       "    <tr>\n",
       "      <th rowspan=\"2\" valign=\"top\">dr</th>\n",
       "      <th>1</th>\n",
       "      <td>6</td>\n",
       "      <td>6</td>\n",
       "      <td>6</td>\n",
       "      <td>6</td>\n",
       "      <td>5</td>\n",
       "      <td>6</td>\n",
       "      <td>6</td>\n",
       "      <td>6</td>\n",
       "      <td>6</td>\n",
       "      <td>4</td>\n",
       "      <td>6</td>\n",
       "    </tr>\n",
       "    <tr>\n",
       "      <th>2</th>\n",
       "      <td>2</td>\n",
       "      <td>2</td>\n",
       "      <td>2</td>\n",
       "      <td>1</td>\n",
       "      <td>2</td>\n",
       "      <td>2</td>\n",
       "      <td>2</td>\n",
       "      <td>2</td>\n",
       "      <td>2</td>\n",
       "      <td>0</td>\n",
       "      <td>2</td>\n",
       "    </tr>\n",
       "    <tr>\n",
       "      <th>jonkheer</th>\n",
       "      <th>1</th>\n",
       "      <td>1</td>\n",
       "      <td>1</td>\n",
       "      <td>1</td>\n",
       "      <td>1</td>\n",
       "      <td>1</td>\n",
       "      <td>1</td>\n",
       "      <td>1</td>\n",
       "      <td>1</td>\n",
       "      <td>1</td>\n",
       "      <td>0</td>\n",
       "      <td>1</td>\n",
       "    </tr>\n",
       "    <tr>\n",
       "      <th>lady</th>\n",
       "      <th>1</th>\n",
       "      <td>1</td>\n",
       "      <td>1</td>\n",
       "      <td>1</td>\n",
       "      <td>1</td>\n",
       "      <td>1</td>\n",
       "      <td>1</td>\n",
       "      <td>1</td>\n",
       "      <td>1</td>\n",
       "      <td>1</td>\n",
       "      <td>1</td>\n",
       "      <td>1</td>\n",
       "    </tr>\n",
       "    <tr>\n",
       "      <th>major</th>\n",
       "      <th>1</th>\n",
       "      <td>2</td>\n",
       "      <td>2</td>\n",
       "      <td>2</td>\n",
       "      <td>2</td>\n",
       "      <td>2</td>\n",
       "      <td>2</td>\n",
       "      <td>2</td>\n",
       "      <td>2</td>\n",
       "      <td>2</td>\n",
       "      <td>2</td>\n",
       "      <td>2</td>\n",
       "    </tr>\n",
       "    <tr>\n",
       "      <th rowspan=\"3\" valign=\"top\">master</th>\n",
       "      <th>1</th>\n",
       "      <td>5</td>\n",
       "      <td>5</td>\n",
       "      <td>5</td>\n",
       "      <td>5</td>\n",
       "      <td>5</td>\n",
       "      <td>5</td>\n",
       "      <td>5</td>\n",
       "      <td>5</td>\n",
       "      <td>5</td>\n",
       "      <td>5</td>\n",
       "      <td>5</td>\n",
       "    </tr>\n",
       "    <tr>\n",
       "      <th>2</th>\n",
       "      <td>11</td>\n",
       "      <td>11</td>\n",
       "      <td>11</td>\n",
       "      <td>10</td>\n",
       "      <td>11</td>\n",
       "      <td>11</td>\n",
       "      <td>11</td>\n",
       "      <td>11</td>\n",
       "      <td>11</td>\n",
       "      <td>3</td>\n",
       "      <td>11</td>\n",
       "    </tr>\n",
       "    <tr>\n",
       "      <th>3</th>\n",
       "      <td>45</td>\n",
       "      <td>45</td>\n",
       "      <td>45</td>\n",
       "      <td>39</td>\n",
       "      <td>37</td>\n",
       "      <td>45</td>\n",
       "      <td>45</td>\n",
       "      <td>45</td>\n",
       "      <td>45</td>\n",
       "      <td>1</td>\n",
       "      <td>45</td>\n",
       "    </tr>\n",
       "    <tr>\n",
       "      <th rowspan=\"3\" valign=\"top\">miss</th>\n",
       "      <th>1</th>\n",
       "      <td>60</td>\n",
       "      <td>60</td>\n",
       "      <td>60</td>\n",
       "      <td>49</td>\n",
       "      <td>59</td>\n",
       "      <td>60</td>\n",
       "      <td>60</td>\n",
       "      <td>60</td>\n",
       "      <td>60</td>\n",
       "      <td>48</td>\n",
       "      <td>60</td>\n",
       "    </tr>\n",
       "    <tr>\n",
       "      <th>2</th>\n",
       "      <td>50</td>\n",
       "      <td>50</td>\n",
       "      <td>50</td>\n",
       "      <td>47</td>\n",
       "      <td>48</td>\n",
       "      <td>50</td>\n",
       "      <td>50</td>\n",
       "      <td>50</td>\n",
       "      <td>50</td>\n",
       "      <td>6</td>\n",
       "      <td>50</td>\n",
       "    </tr>\n",
       "    <tr>\n",
       "      <th>3</th>\n",
       "      <td>150</td>\n",
       "      <td>150</td>\n",
       "      <td>150</td>\n",
       "      <td>135</td>\n",
       "      <td>103</td>\n",
       "      <td>150</td>\n",
       "      <td>150</td>\n",
       "      <td>150</td>\n",
       "      <td>150</td>\n",
       "      <td>4</td>\n",
       "      <td>150</td>\n",
       "    </tr>\n",
       "    <tr>\n",
       "      <th>mlle</th>\n",
       "      <th>1</th>\n",
       "      <td>2</td>\n",
       "      <td>2</td>\n",
       "      <td>2</td>\n",
       "      <td>2</td>\n",
       "      <td>2</td>\n",
       "      <td>2</td>\n",
       "      <td>2</td>\n",
       "      <td>2</td>\n",
       "      <td>2</td>\n",
       "      <td>2</td>\n",
       "      <td>2</td>\n",
       "    </tr>\n",
       "    <tr>\n",
       "      <th>mme</th>\n",
       "      <th>1</th>\n",
       "      <td>1</td>\n",
       "      <td>1</td>\n",
       "      <td>1</td>\n",
       "      <td>1</td>\n",
       "      <td>1</td>\n",
       "      <td>1</td>\n",
       "      <td>1</td>\n",
       "      <td>1</td>\n",
       "      <td>1</td>\n",
       "      <td>1</td>\n",
       "      <td>1</td>\n",
       "    </tr>\n",
       "    <tr>\n",
       "      <th rowspan=\"3\" valign=\"top\">mr</th>\n",
       "      <th>1</th>\n",
       "      <td>159</td>\n",
       "      <td>159</td>\n",
       "      <td>159</td>\n",
       "      <td>139</td>\n",
       "      <td>132</td>\n",
       "      <td>159</td>\n",
       "      <td>159</td>\n",
       "      <td>159</td>\n",
       "      <td>159</td>\n",
       "      <td>120</td>\n",
       "      <td>159</td>\n",
       "    </tr>\n",
       "    <tr>\n",
       "      <th>2</th>\n",
       "      <td>150</td>\n",
       "      <td>150</td>\n",
       "      <td>150</td>\n",
       "      <td>130</td>\n",
       "      <td>137</td>\n",
       "      <td>150</td>\n",
       "      <td>150</td>\n",
       "      <td>150</td>\n",
       "      <td>150</td>\n",
       "      <td>7</td>\n",
       "      <td>150</td>\n",
       "    </tr>\n",
       "    <tr>\n",
       "      <th>3</th>\n",
       "      <td>448</td>\n",
       "      <td>448</td>\n",
       "      <td>448</td>\n",
       "      <td>411</td>\n",
       "      <td>312</td>\n",
       "      <td>448</td>\n",
       "      <td>448</td>\n",
       "      <td>448</td>\n",
       "      <td>448</td>\n",
       "      <td>8</td>\n",
       "      <td>448</td>\n",
       "    </tr>\n",
       "    <tr>\n",
       "      <th rowspan=\"3\" valign=\"top\">mrs</th>\n",
       "      <th>1</th>\n",
       "      <td>77</td>\n",
       "      <td>77</td>\n",
       "      <td>77</td>\n",
       "      <td>65</td>\n",
       "      <td>67</td>\n",
       "      <td>77</td>\n",
       "      <td>77</td>\n",
       "      <td>77</td>\n",
       "      <td>77</td>\n",
       "      <td>66</td>\n",
       "      <td>77</td>\n",
       "    </tr>\n",
       "    <tr>\n",
       "      <th>2</th>\n",
       "      <td>55</td>\n",
       "      <td>55</td>\n",
       "      <td>55</td>\n",
       "      <td>48</td>\n",
       "      <td>54</td>\n",
       "      <td>55</td>\n",
       "      <td>55</td>\n",
       "      <td>55</td>\n",
       "      <td>55</td>\n",
       "      <td>7</td>\n",
       "      <td>55</td>\n",
       "    </tr>\n",
       "    <tr>\n",
       "      <th>3</th>\n",
       "      <td>65</td>\n",
       "      <td>65</td>\n",
       "      <td>65</td>\n",
       "      <td>57</td>\n",
       "      <td>49</td>\n",
       "      <td>65</td>\n",
       "      <td>65</td>\n",
       "      <td>65</td>\n",
       "      <td>65</td>\n",
       "      <td>3</td>\n",
       "      <td>65</td>\n",
       "    </tr>\n",
       "    <tr>\n",
       "      <th rowspan=\"2\" valign=\"top\">ms</th>\n",
       "      <th>2</th>\n",
       "      <td>1</td>\n",
       "      <td>1</td>\n",
       "      <td>1</td>\n",
       "      <td>1</td>\n",
       "      <td>1</td>\n",
       "      <td>1</td>\n",
       "      <td>1</td>\n",
       "      <td>1</td>\n",
       "      <td>1</td>\n",
       "      <td>0</td>\n",
       "      <td>1</td>\n",
       "    </tr>\n",
       "    <tr>\n",
       "      <th>3</th>\n",
       "      <td>1</td>\n",
       "      <td>1</td>\n",
       "      <td>1</td>\n",
       "      <td>1</td>\n",
       "      <td>0</td>\n",
       "      <td>1</td>\n",
       "      <td>1</td>\n",
       "      <td>1</td>\n",
       "      <td>1</td>\n",
       "      <td>0</td>\n",
       "      <td>1</td>\n",
       "    </tr>\n",
       "    <tr>\n",
       "      <th>rev</th>\n",
       "      <th>2</th>\n",
       "      <td>8</td>\n",
       "      <td>8</td>\n",
       "      <td>8</td>\n",
       "      <td>7</td>\n",
       "      <td>8</td>\n",
       "      <td>8</td>\n",
       "      <td>8</td>\n",
       "      <td>8</td>\n",
       "      <td>8</td>\n",
       "      <td>0</td>\n",
       "      <td>8</td>\n",
       "    </tr>\n",
       "    <tr>\n",
       "      <th>sir</th>\n",
       "      <th>1</th>\n",
       "      <td>1</td>\n",
       "      <td>1</td>\n",
       "      <td>1</td>\n",
       "      <td>1</td>\n",
       "      <td>1</td>\n",
       "      <td>1</td>\n",
       "      <td>1</td>\n",
       "      <td>1</td>\n",
       "      <td>1</td>\n",
       "      <td>1</td>\n",
       "      <td>1</td>\n",
       "    </tr>\n",
       "    <tr>\n",
       "      <th>the countess</th>\n",
       "      <th>1</th>\n",
       "      <td>1</td>\n",
       "      <td>1</td>\n",
       "      <td>1</td>\n",
       "      <td>1</td>\n",
       "      <td>1</td>\n",
       "      <td>1</td>\n",
       "      <td>1</td>\n",
       "      <td>1</td>\n",
       "      <td>1</td>\n",
       "      <td>1</td>\n",
       "      <td>1</td>\n",
       "    </tr>\n",
       "  </tbody>\n",
       "</table>\n",
       "</div>"
      ],
      "text/plain": [
       "                     PassengerId  Survived  Name  Sex  Age  SibSp  Parch  \\\n",
       "Título       Pclass                                                        \n",
       "capt         1                 1         1     1    1    1      1      1   \n",
       "col          1                 4         4     4    4    4      4      4   \n",
       "don          1                 1         1     1    0    1      1      1   \n",
       "dona         1                 1         1     1    1    1      1      1   \n",
       "dr           1                 6         6     6    6    5      6      6   \n",
       "             2                 2         2     2    1    2      2      2   \n",
       "jonkheer     1                 1         1     1    1    1      1      1   \n",
       "lady         1                 1         1     1    1    1      1      1   \n",
       "major        1                 2         2     2    2    2      2      2   \n",
       "master       1                 5         5     5    5    5      5      5   \n",
       "             2                11        11    11   10   11     11     11   \n",
       "             3                45        45    45   39   37     45     45   \n",
       "miss         1                60        60    60   49   59     60     60   \n",
       "             2                50        50    50   47   48     50     50   \n",
       "             3               150       150   150  135  103    150    150   \n",
       "mlle         1                 2         2     2    2    2      2      2   \n",
       "mme          1                 1         1     1    1    1      1      1   \n",
       "mr           1               159       159   159  139  132    159    159   \n",
       "             2               150       150   150  130  137    150    150   \n",
       "             3               448       448   448  411  312    448    448   \n",
       "mrs          1                77        77    77   65   67     77     77   \n",
       "             2                55        55    55   48   54     55     55   \n",
       "             3                65        65    65   57   49     65     65   \n",
       "ms           2                 1         1     1    1    1      1      1   \n",
       "             3                 1         1     1    1    0      1      1   \n",
       "rev          2                 8         8     8    7    8      8      8   \n",
       "sir          1                 1         1     1    1    1      1      1   \n",
       "the countess 1                 1         1     1    1    1      1      1   \n",
       "\n",
       "                     Ticket  Fare  Cabin  Embarked  \n",
       "Título       Pclass                                 \n",
       "capt         1            1     1      1         1  \n",
       "col          1            4     4      3         4  \n",
       "don          1            1     1      0         1  \n",
       "dona         1            1     1      1         1  \n",
       "dr           1            6     6      4         6  \n",
       "             2            2     2      0         2  \n",
       "jonkheer     1            1     1      0         1  \n",
       "lady         1            1     1      1         1  \n",
       "major        1            2     2      2         2  \n",
       "master       1            5     5      5         5  \n",
       "             2           11    11      3        11  \n",
       "             3           45    45      1        45  \n",
       "miss         1           60    60     48        60  \n",
       "             2           50    50      6        50  \n",
       "             3          150   150      4       150  \n",
       "mlle         1            2     2      2         2  \n",
       "mme          1            1     1      1         1  \n",
       "mr           1          159   159    120       159  \n",
       "             2          150   150      7       150  \n",
       "             3          448   448      8       448  \n",
       "mrs          1           77    77     66        77  \n",
       "             2           55    55      7        55  \n",
       "             3           65    65      3        65  \n",
       "ms           2            1     1      0         1  \n",
       "             3            1     1      0         1  \n",
       "rev          2            8     8      0         8  \n",
       "sir          1            1     1      1         1  \n",
       "the countess 1            1     1      1         1  "
      ]
     },
     "execution_count": 25,
     "metadata": {},
     "output_type": "execute_result"
    }
   ],
   "source": [
    "df_titanic.groupby(['Título','Pclass']).count()"
   ]
  },
  {
   "cell_type": "markdown",
   "id": "549a3a10",
   "metadata": {},
   "source": [
    "- Todos que estão na terceira classe possuem o título de ms, mrs, mr e master. Todos os outros estão na segunda ou primeira classe."
   ]
  },
  {
   "cell_type": "code",
   "execution_count": 26,
   "id": "68769440",
   "metadata": {},
   "outputs": [
    {
     "data": {
      "application/vnd.microsoft.datawrangler.viewer.v0+json": {
       "columns": [
        {
         "name": "Pclass",
         "rawType": "int64",
         "type": "integer"
        },
        {
         "name": "count",
         "rawType": "int64",
         "type": "integer"
        }
       ],
       "ref": "7d859571-58a2-4ce1-a171-717dff1198ae",
       "rows": [
        [
         "1",
         "22"
        ]
       ],
       "shape": {
        "columns": 1,
        "rows": 1
       }
      },
      "text/plain": [
       "Pclass\n",
       "1    22\n",
       "Name: count, dtype: int64"
      ]
     },
     "execution_count": 26,
     "metadata": {},
     "output_type": "execute_result"
    }
   ],
   "source": [
    "df_titanic.loc[df_titanic['Fare'] > 50000]['Pclass'].value_counts()"
   ]
  },
  {
   "cell_type": "markdown",
   "id": "05db7b16",
   "metadata": {},
   "source": [
    "- Vamos encontrar a média de preço para os passageiros da primeira, segunda e terceira classe (exlcuindo os Outliers para não subir a média)"
   ]
  },
  {
   "cell_type": "markdown",
   "id": "2fd38ac8",
   "metadata": {},
   "source": [
    "- 1ª classe"
   ]
  },
  {
   "cell_type": "code",
   "execution_count": 27,
   "id": "d6fc8139",
   "metadata": {},
   "outputs": [
    {
     "data": {
      "text/plain": [
       "<Axes: >"
      ]
     },
     "execution_count": 27,
     "metadata": {},
     "output_type": "execute_result"
    },
    {
     "data": {
      "image/png": "[encoded data removed]",
      "text/plain": [
       "<Figure size 1500x200 with 1 Axes>"
      ]
     },
     "metadata": {},
     "output_type": "display_data"
    }
   ],
   "source": [
    "df_titanic['Fare'].loc[(df_titanic['Fare'] < 500) & (df_titanic['Pclass'] == 1)].plot.box(vert=False, figsize=(15,2))"
   ]
  },
  {
   "cell_type": "code",
   "execution_count": 28,
   "id": "9b80abeb",
   "metadata": {},
   "outputs": [
    {
     "data": {
      "text/plain": [
       "np.float64(62.69911465201465)"
      ]
     },
     "execution_count": 28,
     "metadata": {},
     "output_type": "execute_result"
    }
   ],
   "source": [
    "df_titanic['Fare'].loc[(df_titanic['Fare'] < 200) & (df_titanic['Pclass'] == 1)].mean()"
   ]
  },
  {
   "cell_type": "markdown",
   "id": "83e4f6e1",
   "metadata": {},
   "source": [
    "- 2ª classe"
   ]
  },
  {
   "cell_type": "code",
   "execution_count": 29,
   "id": "368e71a2",
   "metadata": {},
   "outputs": [
    {
     "data": {
      "text/plain": [
       "<Axes: >"
      ]
     },
     "execution_count": 29,
     "metadata": {},
     "output_type": "execute_result"
    },
    {
     "data": {
      "image/png": "[encoded data removed]",
      "text/plain": [
       "<Figure size 1500x200 with 1 Axes>"
      ]
     },
     "metadata": {},
     "output_type": "display_data"
    }
   ],
   "source": [
    "df_titanic['Fare'].loc[(df_titanic['Fare'] < 500) & (df_titanic['Pclass'] == 2)].plot.box(vert=False, figsize=(15,2))"
   ]
  },
  {
   "cell_type": "code",
   "execution_count": 30,
   "id": "ca94404b",
   "metadata": {},
   "outputs": [
    {
     "data": {
      "text/plain": [
       "np.float64(19.067384674329503)"
      ]
     },
     "execution_count": 30,
     "metadata": {},
     "output_type": "execute_result"
    }
   ],
   "source": [
    "df_titanic['Fare'].loc[(df_titanic['Fare'] < 60) & (df_titanic['Pclass'] == 2)].mean()"
   ]
  },
  {
   "cell_type": "markdown",
   "id": "0a655466",
   "metadata": {},
   "source": [
    "- 3ª classe"
   ]
  },
  {
   "cell_type": "code",
   "execution_count": 31,
   "id": "ac1dcf2b",
   "metadata": {},
   "outputs": [
    {
     "data": {
      "text/plain": [
       "<Axes: >"
      ]
     },
     "execution_count": 31,
     "metadata": {},
     "output_type": "execute_result"
    },
    {
     "data": {
      "image/png": "[encoded data removed]",
      "text/plain": [
       "<Figure size 1500x200 with 1 Axes>"
      ]
     },
     "metadata": {},
     "output_type": "display_data"
    }
   ],
   "source": [
    "df_titanic['Fare'].loc[(df_titanic['Fare'] < 500) & (df_titanic['Pclass'] == 3)].plot.box(vert=False, figsize=(15,2))"
   ]
  },
  {
   "cell_type": "code",
   "execution_count": 32,
   "id": "b698ca4b",
   "metadata": {},
   "outputs": [
    {
     "data": {
      "text/plain": [
       "np.float64(10.45326592178771)"
      ]
     },
     "execution_count": 32,
     "metadata": {},
     "output_type": "execute_result"
    }
   ],
   "source": [
    "df_titanic['Fare'].loc[(df_titanic['Fare'] < 30) & (df_titanic['Pclass'] == 3)].mean()"
   ]
  },
  {
   "cell_type": "markdown",
   "id": "5c65c8c4",
   "metadata": {},
   "source": [
    "### Tratando dados ausentes da coluna Sex"
   ]
  },
  {
   "cell_type": "markdown",
   "id": "62d88ffe",
   "metadata": {},
   "source": [
    "- Como poderíamos fazer isso?"
   ]
  },
  {
   "cell_type": "markdown",
   "id": "454d4585",
   "metadata": {},
   "source": [
    "- Uma alternativa é identicar seu gênero de acordo com o título do passageiro"
   ]
  },
  {
   "cell_type": "code",
   "execution_count": 33,
   "id": "306f3c14",
   "metadata": {},
   "outputs": [
    {
     "data": {
      "text/plain": [
       "array(['mr', 'mrs', 'miss', 'master', 'don', 'rev', 'dr', 'mme', 'ms',\n",
       "       'major', 'lady', 'sir', 'mlle', 'col', 'capt', 'the countess',\n",
       "       'jonkheer', 'dona'], dtype=object)"
      ]
     },
     "execution_count": 33,
     "metadata": {},
     "output_type": "execute_result"
    }
   ],
   "source": [
    "df_titanic['Título'].unique()"
   ]
  },
  {
   "cell_type": "markdown",
   "id": "7de76f5c",
   "metadata": {},
   "source": [
    "- Verificando se há algum passageiro que não possui título"
   ]
  },
  {
   "cell_type": "code",
   "execution_count": 34,
   "id": "e5ecc097",
   "metadata": {},
   "outputs": [
    {
     "data": {
      "text/plain": [
       "0"
      ]
     },
     "execution_count": 34,
     "metadata": {},
     "output_type": "execute_result"
    }
   ],
   "source": [
    "df_titanic[df_titanic['Título'].isnull()].shape[0]"
   ]
  },
  {
   "cell_type": "markdown",
   "id": "5a5575a9",
   "metadata": {},
   "source": [
    "- Listando títulos masculinos"
   ]
  },
  {
   "cell_type": "code",
   "execution_count": 35,
   "id": "9a4e3de6",
   "metadata": {},
   "outputs": [],
   "source": [
    "list_male = ['mr', 'master', 'don', 'rev', 'dr', 'major', 'sir', 'col', 'capt', 'jonkheer']"
   ]
  },
  {
   "cell_type": "markdown",
   "id": "28596565",
   "metadata": {},
   "source": [
    "- Filtrando resultado que não possuem definição na coluna Sex"
   ]
  },
  {
   "cell_type": "code",
   "execution_count": 36,
   "id": "d8b03702",
   "metadata": {},
   "outputs": [
    {
     "data": {
      "application/vnd.microsoft.datawrangler.viewer.v0+json": {
       "columns": [
        {
         "name": "index",
         "rawType": "int64",
         "type": "integer"
        },
        {
         "name": "PassengerId",
         "rawType": "int64",
         "type": "integer"
        },
        {
         "name": "Survived",
         "rawType": "int64",
         "type": "integer"
        },
        {
         "name": "Pclass",
         "rawType": "int64",
         "type": "integer"
        },
        {
         "name": "Name",
         "rawType": "object",
         "type": "string"
        },
        {
         "name": "Sex",
         "rawType": "object",
         "type": "unknown"
        },
        {
         "name": "Age",
         "rawType": "float64",
         "type": "float"
        },
        {
         "name": "SibSp",
         "rawType": "int64",
         "type": "integer"
        },
        {
         "name": "Parch",
         "rawType": "int64",
         "type": "integer"
        },
        {
         "name": "Ticket",
         "rawType": "object",
         "type": "string"
        },
        {
         "name": "Fare",
         "rawType": "float64",
         "type": "float"
        },
        {
         "name": "Cabin",
         "rawType": "object",
         "type": "unknown"
        },
        {
         "name": "Embarked",
         "rawType": "object",
         "type": "string"
        },
        {
         "name": "Título",
         "rawType": "object",
         "type": "string"
        }
       ],
       "ref": "d86f2c5f-1047-426a-917e-7d8524c531d9",
       "rows": [
        [
         "11",
         "12",
         "1",
         "1",
         "Bonnell, Miss. Elizabeth",
         null,
         "58.0",
         "0",
         "0",
         "113783",
         "26.55",
         "C103",
         "S",
         "miss"
        ],
        [
         "12",
         "13",
         "0",
         "3",
         "Saundercock, Mr. William Henry",
         null,
         "20.0",
         "0",
         "0",
         "A/5. 2151",
         "8.05",
         null,
         "S",
         "mr"
        ],
        [
         "13",
         "14",
         "0",
         "3",
         "Andersson, Mr. Anders Johan",
         null,
         "39.0",
         "1",
         "5",
         "347082",
         "31275.0",
         null,
         "S",
         "mr"
        ],
        [
         "14",
         "15",
         "0",
         "3",
         "Vestrom, Miss. Hulda Amanda Adolfina",
         null,
         "14.0",
         "0",
         "0",
         "350406",
         "7.8542",
         null,
         "S",
         "miss"
        ],
        [
         "15",
         "16",
         "1",
         "2",
         "Hewlett, Mrs. (Mary D Kingcome) ",
         null,
         "55.0",
         "0",
         "0",
         "248706",
         "16.0",
         null,
         "S",
         "mrs"
        ],
        [
         "16",
         "17",
         "0",
         "3",
         "Rice, Master. Eugene",
         null,
         "2.0",
         "4",
         "1",
         "382652",
         "29125.0",
         null,
         "Q",
         "master"
        ],
        [
         "17",
         "18",
         "1",
         "2",
         "Williams, Mr. Charles Eugene",
         null,
         null,
         "0",
         "0",
         "244373",
         "13.0",
         null,
         "S",
         "mr"
        ],
        [
         "18",
         "19",
         "0",
         "3",
         "Vander Planke, Mrs. Julius (Emelia Maria Vandemoortele)",
         null,
         "31.0",
         "1",
         "0",
         "345763",
         "18.0",
         null,
         "S",
         "mrs"
        ],
        [
         "19",
         "20",
         "1",
         "3",
         "Masselmani, Mrs. Fatima",
         null,
         null,
         "0",
         "0",
         "2649",
         "7225.0",
         null,
         "C",
         "mrs"
        ],
        [
         "20",
         "21",
         "0",
         "2",
         "Fynney, Mr. Joseph J",
         null,
         "35.0",
         "0",
         "0",
         "239865",
         "26.0",
         null,
         "S",
         "mr"
        ],
        [
         "21",
         "22",
         "1",
         "2",
         "Beesley, Mr. Lawrence",
         null,
         "34.0",
         "0",
         "0",
         "248698",
         "13.0",
         "D56",
         "S",
         "mr"
        ],
        [
         "22",
         "23",
         "1",
         "3",
         "McGowan, Miss. Anna \"Annie\"",
         null,
         "15.0",
         "0",
         "0",
         "330923",
         "8.0292",
         null,
         "Q",
         "miss"
        ],
        [
         "23",
         "24",
         "1",
         "1",
         "Sloper, Mr. William Thompson",
         null,
         "28.0",
         "0",
         "0",
         "113788",
         "35.5",
         "A6",
         "S",
         "mr"
        ],
        [
         "24",
         "25",
         "0",
         "3",
         "Palsson, Miss. Torborg Danira",
         null,
         "8.0",
         "3",
         "1",
         "349909",
         "21075.0",
         null,
         "S",
         "miss"
        ],
        [
         "25",
         "26",
         "1",
         "3",
         "Asplund, Mrs. Carl Oscar (Selma Augusta Emilia Johansson)",
         null,
         "38.0",
         "1",
         "5",
         "347077",
         "31.3875",
         null,
         "S",
         "mrs"
        ],
        [
         "26",
         "27",
         "0",
         "3",
         "Emir, Mr. Farred Chehab",
         null,
         null,
         "0",
         "0",
         "2631",
         "7225.0",
         null,
         "C",
         "mr"
        ],
        [
         "27",
         "28",
         "0",
         "1",
         "Fortune, Mr. Charles Alexander",
         null,
         "19.0",
         "3",
         "2",
         "19950",
         "263.0",
         "C23 C25 C27",
         "S",
         "mr"
        ],
        [
         "28",
         "29",
         "1",
         "3",
         "O'Dwyer, Miss. Ellen \"Nellie\"",
         null,
         null,
         "0",
         "0",
         "330959",
         "7.8792",
         null,
         "Q",
         "miss"
        ],
        [
         "29",
         "30",
         "0",
         "3",
         "Todoroff, Mr. Lalio",
         null,
         null,
         "0",
         "0",
         "349216",
         "7.8958",
         null,
         "S",
         "mr"
        ],
        [
         "30",
         "31",
         "0",
         "1",
         "Uruchurtu, Don. Manuel E",
         null,
         "40.0",
         "0",
         "0",
         "PC 17601",
         "27.7208",
         null,
         "C",
         "don"
        ],
        [
         "315",
         "316",
         "1",
         "3",
         "Nilsson, Miss. Helmina Josefina",
         null,
         "26.0",
         "0",
         "0",
         "347470",
         "7.8542",
         null,
         "S",
         "miss"
        ],
        [
         "316",
         "317",
         "1",
         "2",
         "Kantor, Mrs. Sinai (Miriam Sternin)",
         null,
         "24.0",
         "1",
         "0",
         "244367",
         "26.0",
         null,
         "S",
         "mrs"
        ],
        [
         "317",
         "318",
         "0",
         "2",
         "Moraweck, Dr. Ernest",
         null,
         "54.0",
         "0",
         "0",
         "29011",
         "14.0",
         null,
         "S",
         "dr"
        ],
        [
         "318",
         "319",
         "1",
         "1",
         "Wick, Miss. Mary Natalie",
         null,
         "31.0",
         "0",
         "2",
         "36928",
         "164.8667",
         "C7",
         "S",
         "miss"
        ],
        [
         "319",
         "320",
         "1",
         "1",
         "Spedden, Mrs. Frederic Oakley (Margaretta Corning Stone)",
         null,
         "40.0",
         "1",
         "1",
         "16966",
         "134.5",
         "E34",
         "C",
         "mrs"
        ],
        [
         "320",
         "321",
         "0",
         "3",
         "Dennis, Mr. Samuel",
         null,
         "22.0",
         "0",
         "0",
         "A/5 21172",
         "7.25",
         null,
         "S",
         "mr"
        ],
        [
         "321",
         "322",
         "0",
         "3",
         "Danoff, Mr. Yoto",
         null,
         "27.0",
         "0",
         "0",
         "349219",
         "7.8958",
         null,
         "S",
         "mr"
        ],
        [
         "322",
         "323",
         "1",
         "2",
         "Slayter, Miss. Hilda Mary",
         null,
         "30.0",
         "0",
         "0",
         "234818",
         "12.35",
         null,
         "Q",
         "miss"
        ],
        [
         "323",
         "324",
         "1",
         "2",
         "Caldwell, Mrs. Albert Francis (Sylvia Mae Harbaugh)",
         null,
         "22.0",
         "1",
         "1",
         "248738",
         "29.0",
         null,
         "S",
         "mrs"
        ],
        [
         "324",
         "325",
         "0",
         "3",
         "Sage, Mr. George John Jr",
         null,
         null,
         "8",
         "2",
         "CA. 2343",
         "69.55",
         null,
         "S",
         "mr"
        ],
        [
         "325",
         "326",
         "1",
         "1",
         "Young, Miss. Marie Grice",
         null,
         "36.0",
         "0",
         "0",
         "PC 17760",
         "135.6333",
         "C32",
         "C",
         "miss"
        ],
        [
         "326",
         "327",
         "0",
         "3",
         "Nysveen, Mr. Johan Hansen",
         null,
         "61.0",
         "0",
         "0",
         "345364",
         "6.2375",
         null,
         "S",
         "mr"
        ],
        [
         "327",
         "328",
         "1",
         "2",
         "Ball, Mrs. (Ada E Hall)",
         null,
         "36.0",
         "0",
         "0",
         "28551",
         "13.0",
         "D",
         "S",
         "mrs"
        ],
        [
         "328",
         "329",
         "1",
         "3",
         "Goldsmith, Mrs. Frank John (Emily Alice Brown)",
         null,
         "31.0",
         "1",
         "1",
         "363291",
         "20525.0",
         null,
         "S",
         "mrs"
        ],
        [
         "329",
         "330",
         "1",
         "1",
         "Hippach, Miss. Jean Gertrude",
         null,
         "16.0",
         "0",
         "1",
         "111361",
         "57.9792",
         "B18",
         "C",
         "miss"
        ],
        [
         "330",
         "331",
         "1",
         "3",
         "McCoy, Miss. Agnes",
         null,
         null,
         "2",
         "0",
         "367226",
         "23.25",
         null,
         "Q",
         "miss"
        ],
        [
         "331",
         "332",
         "0",
         "1",
         "Partner, Mr. Austen",
         null,
         "45.5",
         "0",
         "0",
         "113043",
         "28.5",
         "C124",
         "S",
         "mr"
        ],
        [
         "332",
         "333",
         "0",
         "1",
         "Graham, Mr. George Edward",
         null,
         "38.0",
         "0",
         "1",
         "PC 17582",
         "153.4625",
         "C91",
         "S",
         "mr"
        ],
        [
         "333",
         "334",
         "0",
         "3",
         "Vander Planke, Mr. Leo Edmondus",
         null,
         "16.0",
         "2",
         "0",
         "345764",
         "18.0",
         null,
         "S",
         "mr"
        ],
        [
         "334",
         "335",
         "1",
         "1",
         "Frauenthal, Mrs. Henry William (Clara Heinsheimer)",
         null,
         null,
         "1",
         "0",
         "PC 17611",
         "133.65",
         null,
         "S",
         "mrs"
        ],
        [
         "335",
         "336",
         "0",
         "3",
         "Denkoff, Mr. Mitto",
         null,
         null,
         "0",
         "0",
         "349225",
         "7.8958",
         null,
         "S",
         "mr"
        ],
        [
         "336",
         "337",
         "0",
         "1",
         "Pears, Mr. Thomas Clinton",
         null,
         "29.0",
         "1",
         "0",
         "113776",
         "66.6",
         "C2",
         "S",
         "mr"
        ],
        [
         "337",
         "338",
         "1",
         "1",
         "Burns, Miss. Elizabeth Margaret",
         null,
         "41.0",
         "0",
         "0",
         "16966",
         "134.5",
         "E40",
         "C",
         "miss"
        ],
        [
         "338",
         "339",
         "1",
         "3",
         "Dahl, Mr. Karl Edwart",
         null,
         "45.0",
         "0",
         "0",
         "7598",
         "8.05",
         null,
         "S",
         "mr"
        ],
        [
         "339",
         "340",
         "0",
         "1",
         "Blackwell, Mr. Stephen Weart",
         null,
         "45.0",
         "0",
         "0",
         "113784",
         "35.5",
         "T",
         "S",
         "mr"
        ],
        [
         "340",
         "341",
         "1",
         "2",
         "Navratil, Master. Edmond Roger",
         null,
         "2.0",
         "1",
         "1",
         "230080",
         "26.0",
         "F2",
         "S",
         "master"
        ],
        [
         "341",
         "342",
         "1",
         "1",
         "Fortune, Miss. Alice Elizabeth",
         null,
         "24.0",
         "3",
         "2",
         "19950",
         "263.0",
         "C23 C25 C27",
         "S",
         "miss"
        ],
        [
         "342",
         "343",
         "0",
         "2",
         "Collander, Mr. Erik Gustaf",
         null,
         "28.0",
         "0",
         "0",
         "248740",
         "13.0",
         null,
         "S",
         "mr"
        ],
        [
         "343",
         "344",
         "0",
         "2",
         "Sedgwick, Mr. Charles Frederick Waddington",
         null,
         "25.0",
         "0",
         "0",
         "244361",
         "13.0",
         null,
         "S",
         "mr"
        ],
        [
         "839",
         "840",
         "1",
         "1",
         "Marechal, Mr. Pierre",
         null,
         null,
         "0",
         "0",
         "11774",
         "29.7",
         "C47",
         "C",
         "mr"
        ]
       ],
       "shape": {
        "columns": 13,
        "rows": 143
       }
      },
      "text/html": [
       "<div>\n",
       "<style scoped>\n",
       "    .dataframe tbody tr th:only-of-type {\n",
       "        vertical-align: middle;\n",
       "    }\n",
       "\n",
       "    .dataframe tbody tr th {\n",
       "        vertical-align: top;\n",
       "    }\n",
       "\n",
       "    .dataframe thead th {\n",
       "        text-align: right;\n",
       "    }\n",
       "</style>\n",
       "<table border=\"1\" class=\"dataframe\">\n",
       "  <thead>\n",
       "    <tr style=\"text-align: right;\">\n",
       "      <th></th>\n",
       "      <th>PassengerId</th>\n",
       "      <th>Survived</th>\n",
       "      <th>Pclass</th>\n",
       "      <th>Name</th>\n",
       "      <th>Sex</th>\n",
       "      <th>Age</th>\n",
       "      <th>SibSp</th>\n",
       "      <th>Parch</th>\n",
       "      <th>Ticket</th>\n",
       "      <th>Fare</th>\n",
       "      <th>Cabin</th>\n",
       "      <th>Embarked</th>\n",
       "      <th>Título</th>\n",
       "    </tr>\n",
       "  </thead>\n",
       "  <tbody>\n",
       "    <tr>\n",
       "      <th>11</th>\n",
       "      <td>12</td>\n",
       "      <td>1</td>\n",
       "      <td>1</td>\n",
       "      <td>Bonnell, Miss. Elizabeth</td>\n",
       "      <td>NaN</td>\n",
       "      <td>58.0</td>\n",
       "      <td>0</td>\n",
       "      <td>0</td>\n",
       "      <td>113783</td>\n",
       "      <td>26.5500</td>\n",
       "      <td>C103</td>\n",
       "      <td>S</td>\n",
       "      <td>miss</td>\n",
       "    </tr>\n",
       "    <tr>\n",
       "      <th>12</th>\n",
       "      <td>13</td>\n",
       "      <td>0</td>\n",
       "      <td>3</td>\n",
       "      <td>Saundercock, Mr. William Henry</td>\n",
       "      <td>NaN</td>\n",
       "      <td>20.0</td>\n",
       "      <td>0</td>\n",
       "      <td>0</td>\n",
       "      <td>A/5. 2151</td>\n",
       "      <td>8.0500</td>\n",
       "      <td>NaN</td>\n",
       "      <td>S</td>\n",
       "      <td>mr</td>\n",
       "    </tr>\n",
       "    <tr>\n",
       "      <th>13</th>\n",
       "      <td>14</td>\n",
       "      <td>0</td>\n",
       "      <td>3</td>\n",
       "      <td>Andersson, Mr. Anders Johan</td>\n",
       "      <td>NaN</td>\n",
       "      <td>39.0</td>\n",
       "      <td>1</td>\n",
       "      <td>5</td>\n",
       "      <td>347082</td>\n",
       "      <td>31275.0000</td>\n",
       "      <td>NaN</td>\n",
       "      <td>S</td>\n",
       "      <td>mr</td>\n",
       "    </tr>\n",
       "    <tr>\n",
       "      <th>14</th>\n",
       "      <td>15</td>\n",
       "      <td>0</td>\n",
       "      <td>3</td>\n",
       "      <td>Vestrom, Miss. Hulda Amanda Adolfina</td>\n",
       "      <td>NaN</td>\n",
       "      <td>14.0</td>\n",
       "      <td>0</td>\n",
       "      <td>0</td>\n",
       "      <td>350406</td>\n",
       "      <td>7.8542</td>\n",
       "      <td>NaN</td>\n",
       "      <td>S</td>\n",
       "      <td>miss</td>\n",
       "    </tr>\n",
       "    <tr>\n",
       "      <th>15</th>\n",
       "      <td>16</td>\n",
       "      <td>1</td>\n",
       "      <td>2</td>\n",
       "      <td>Hewlett, Mrs. (Mary D Kingcome)</td>\n",
       "      <td>NaN</td>\n",
       "      <td>55.0</td>\n",
       "      <td>0</td>\n",
       "      <td>0</td>\n",
       "      <td>248706</td>\n",
       "      <td>16.0000</td>\n",
       "      <td>NaN</td>\n",
       "      <td>S</td>\n",
       "      <td>mrs</td>\n",
       "    </tr>\n",
       "    <tr>\n",
       "      <th>...</th>\n",
       "      <td>...</td>\n",
       "      <td>...</td>\n",
       "      <td>...</td>\n",
       "      <td>...</td>\n",
       "      <td>...</td>\n",
       "      <td>...</td>\n",
       "      <td>...</td>\n",
       "      <td>...</td>\n",
       "      <td>...</td>\n",
       "      <td>...</td>\n",
       "      <td>...</td>\n",
       "      <td>...</td>\n",
       "      <td>...</td>\n",
       "    </tr>\n",
       "    <tr>\n",
       "      <th>1299</th>\n",
       "      <td>1300</td>\n",
       "      <td>1</td>\n",
       "      <td>3</td>\n",
       "      <td>Riordan, Miss. Johanna Hannah\"\"</td>\n",
       "      <td>NaN</td>\n",
       "      <td>NaN</td>\n",
       "      <td>0</td>\n",
       "      <td>0</td>\n",
       "      <td>334915</td>\n",
       "      <td>7.7208</td>\n",
       "      <td>NaN</td>\n",
       "      <td>Q</td>\n",
       "      <td>miss</td>\n",
       "    </tr>\n",
       "    <tr>\n",
       "      <th>1300</th>\n",
       "      <td>1301</td>\n",
       "      <td>1</td>\n",
       "      <td>3</td>\n",
       "      <td>Peacock, Miss. Treasteall</td>\n",
       "      <td>NaN</td>\n",
       "      <td>3.0</td>\n",
       "      <td>1</td>\n",
       "      <td>1</td>\n",
       "      <td>SOTON/O.Q. 3101315</td>\n",
       "      <td>13775.0000</td>\n",
       "      <td>NaN</td>\n",
       "      <td>S</td>\n",
       "      <td>miss</td>\n",
       "    </tr>\n",
       "    <tr>\n",
       "      <th>1301</th>\n",
       "      <td>1302</td>\n",
       "      <td>1</td>\n",
       "      <td>3</td>\n",
       "      <td>Naughton, Miss. Hannah</td>\n",
       "      <td>NaN</td>\n",
       "      <td>NaN</td>\n",
       "      <td>0</td>\n",
       "      <td>0</td>\n",
       "      <td>365237</td>\n",
       "      <td>7.7500</td>\n",
       "      <td>NaN</td>\n",
       "      <td>Q</td>\n",
       "      <td>miss</td>\n",
       "    </tr>\n",
       "    <tr>\n",
       "      <th>1302</th>\n",
       "      <td>1303</td>\n",
       "      <td>1</td>\n",
       "      <td>1</td>\n",
       "      <td>Minahan, Mrs. William Edward (Lillian E Thorpe)</td>\n",
       "      <td>NaN</td>\n",
       "      <td>37.0</td>\n",
       "      <td>1</td>\n",
       "      <td>0</td>\n",
       "      <td>19928</td>\n",
       "      <td>90.0000</td>\n",
       "      <td>C78</td>\n",
       "      <td>Q</td>\n",
       "      <td>mrs</td>\n",
       "    </tr>\n",
       "    <tr>\n",
       "      <th>1303</th>\n",
       "      <td>1304</td>\n",
       "      <td>1</td>\n",
       "      <td>3</td>\n",
       "      <td>Henriksson, Miss. Jenny Lovisa</td>\n",
       "      <td>NaN</td>\n",
       "      <td>28.0</td>\n",
       "      <td>0</td>\n",
       "      <td>0</td>\n",
       "      <td>347086</td>\n",
       "      <td>7775.0000</td>\n",
       "      <td>NaN</td>\n",
       "      <td>S</td>\n",
       "      <td>miss</td>\n",
       "    </tr>\n",
       "  </tbody>\n",
       "</table>\n",
       "<p>143 rows × 13 columns</p>\n",
       "</div>"
      ],
      "text/plain": [
       "      PassengerId  Survived  Pclass  \\\n",
       "11             12         1       1   \n",
       "12             13         0       3   \n",
       "13             14         0       3   \n",
       "14             15         0       3   \n",
       "15             16         1       2   \n",
       "...           ...       ...     ...   \n",
       "1299         1300         1       3   \n",
       "1300         1301         1       3   \n",
       "1301         1302         1       3   \n",
       "1302         1303         1       1   \n",
       "1303         1304         1       3   \n",
       "\n",
       "                                                 Name  Sex   Age  SibSp  \\\n",
       "11                           Bonnell, Miss. Elizabeth  NaN  58.0      0   \n",
       "12                     Saundercock, Mr. William Henry  NaN  20.0      0   \n",
       "13                        Andersson, Mr. Anders Johan  NaN  39.0      1   \n",
       "14               Vestrom, Miss. Hulda Amanda Adolfina  NaN  14.0      0   \n",
       "15                   Hewlett, Mrs. (Mary D Kingcome)   NaN  55.0      0   \n",
       "...                                               ...  ...   ...    ...   \n",
       "1299                  Riordan, Miss. Johanna Hannah\"\"  NaN   NaN      0   \n",
       "1300                        Peacock, Miss. Treasteall  NaN   3.0      1   \n",
       "1301                           Naughton, Miss. Hannah  NaN   NaN      0   \n",
       "1302  Minahan, Mrs. William Edward (Lillian E Thorpe)  NaN  37.0      1   \n",
       "1303                   Henriksson, Miss. Jenny Lovisa  NaN  28.0      0   \n",
       "\n",
       "      Parch              Ticket        Fare Cabin Embarked Título  \n",
       "11        0              113783     26.5500  C103        S   miss  \n",
       "12        0           A/5. 2151      8.0500   NaN        S     mr  \n",
       "13        5              347082  31275.0000   NaN        S     mr  \n",
       "14        0              350406      7.8542   NaN        S   miss  \n",
       "15        0              248706     16.0000   NaN        S    mrs  \n",
       "...     ...                 ...         ...   ...      ...    ...  \n",
       "1299      0              334915      7.7208   NaN        Q   miss  \n",
       "1300      1  SOTON/O.Q. 3101315  13775.0000   NaN        S   miss  \n",
       "1301      0              365237      7.7500   NaN        Q   miss  \n",
       "1302      0               19928     90.0000   C78        Q    mrs  \n",
       "1303      0              347086   7775.0000   NaN        S   miss  \n",
       "\n",
       "[143 rows x 13 columns]"
      ]
     },
     "execution_count": 36,
     "metadata": {},
     "output_type": "execute_result"
    }
   ],
   "source": [
    "df_aux = df_titanic[df_titanic['Sex'].isnull()]\n",
    "df_aux"
   ]
  },
  {
   "cell_type": "markdown",
   "id": "bd1b3c59",
   "metadata": {},
   "source": [
    "- Atribuindo o gênero do passageiro de acordo com o seu título"
   ]
  },
  {
   "cell_type": "code",
   "execution_count": 37,
   "id": "e0e36b5a",
   "metadata": {},
   "outputs": [
    {
     "name": "stderr",
     "output_type": "stream",
     "text": [
      "/tmp/ipykernel_1047277/2219334617.py:1: SettingWithCopyWarning: \n",
      "A value is trying to be set on a copy of a slice from a DataFrame.\n",
      "Try using .loc[row_indexer,col_indexer] = value instead\n",
      "\n",
      "See the caveats in the documentation: https://pandas.pydata.org/pandas-docs/stable/user_guide/indexing.html#returning-a-view-versus-a-copy\n",
      "  df_aux['Sex'] = df_aux['Título'].apply(lambda x: 'male' if x in list_male else 'female')\n"
     ]
    },
    {
     "data": {
      "application/vnd.microsoft.datawrangler.viewer.v0+json": {
       "columns": [
        {
         "name": "index",
         "rawType": "int64",
         "type": "integer"
        },
        {
         "name": "PassengerId",
         "rawType": "int64",
         "type": "integer"
        },
        {
         "name": "Survived",
         "rawType": "int64",
         "type": "integer"
        },
        {
         "name": "Pclass",
         "rawType": "int64",
         "type": "integer"
        },
        {
         "name": "Name",
         "rawType": "object",
         "type": "string"
        },
        {
         "name": "Sex",
         "rawType": "object",
         "type": "string"
        },
        {
         "name": "Age",
         "rawType": "float64",
         "type": "float"
        },
        {
         "name": "SibSp",
         "rawType": "int64",
         "type": "integer"
        },
        {
         "name": "Parch",
         "rawType": "int64",
         "type": "integer"
        },
        {
         "name": "Ticket",
         "rawType": "object",
         "type": "string"
        },
        {
         "name": "Fare",
         "rawType": "float64",
         "type": "float"
        },
        {
         "name": "Cabin",
         "rawType": "object",
         "type": "unknown"
        },
        {
         "name": "Embarked",
         "rawType": "object",
         "type": "string"
        },
        {
         "name": "Título",
         "rawType": "object",
         "type": "string"
        }
       ],
       "ref": "db715a80-6e28-47f9-ad0c-334c204911af",
       "rows": [
        [
         "11",
         "12",
         "1",
         "1",
         "Bonnell, Miss. Elizabeth",
         "female",
         "58.0",
         "0",
         "0",
         "113783",
         "26.55",
         "C103",
         "S",
         "miss"
        ],
        [
         "12",
         "13",
         "0",
         "3",
         "Saundercock, Mr. William Henry",
         "male",
         "20.0",
         "0",
         "0",
         "A/5. 2151",
         "8.05",
         null,
         "S",
         "mr"
        ],
        [
         "13",
         "14",
         "0",
         "3",
         "Andersson, Mr. Anders Johan",
         "male",
         "39.0",
         "1",
         "5",
         "347082",
         "31275.0",
         null,
         "S",
         "mr"
        ],
        [
         "14",
         "15",
         "0",
         "3",
         "Vestrom, Miss. Hulda Amanda Adolfina",
         "female",
         "14.0",
         "0",
         "0",
         "350406",
         "7.8542",
         null,
         "S",
         "miss"
        ],
        [
         "15",
         "16",
         "1",
         "2",
         "Hewlett, Mrs. (Mary D Kingcome) ",
         "female",
         "55.0",
         "0",
         "0",
         "248706",
         "16.0",
         null,
         "S",
         "mrs"
        ],
        [
         "16",
         "17",
         "0",
         "3",
         "Rice, Master. Eugene",
         "male",
         "2.0",
         "4",
         "1",
         "382652",
         "29125.0",
         null,
         "Q",
         "master"
        ],
        [
         "17",
         "18",
         "1",
         "2",
         "Williams, Mr. Charles Eugene",
         "male",
         null,
         "0",
         "0",
         "244373",
         "13.0",
         null,
         "S",
         "mr"
        ],
        [
         "18",
         "19",
         "0",
         "3",
         "Vander Planke, Mrs. Julius (Emelia Maria Vandemoortele)",
         "female",
         "31.0",
         "1",
         "0",
         "345763",
         "18.0",
         null,
         "S",
         "mrs"
        ],
        [
         "19",
         "20",
         "1",
         "3",
         "Masselmani, Mrs. Fatima",
         "female",
         null,
         "0",
         "0",
         "2649",
         "7225.0",
         null,
         "C",
         "mrs"
        ],
        [
         "20",
         "21",
         "0",
         "2",
         "Fynney, Mr. Joseph J",
         "male",
         "35.0",
         "0",
         "0",
         "239865",
         "26.0",
         null,
         "S",
         "mr"
        ],
        [
         "21",
         "22",
         "1",
         "2",
         "Beesley, Mr. Lawrence",
         "male",
         "34.0",
         "0",
         "0",
         "248698",
         "13.0",
         "D56",
         "S",
         "mr"
        ],
        [
         "22",
         "23",
         "1",
         "3",
         "McGowan, Miss. Anna \"Annie\"",
         "female",
         "15.0",
         "0",
         "0",
         "330923",
         "8.0292",
         null,
         "Q",
         "miss"
        ],
        [
         "23",
         "24",
         "1",
         "1",
         "Sloper, Mr. William Thompson",
         "male",
         "28.0",
         "0",
         "0",
         "113788",
         "35.5",
         "A6",
         "S",
         "mr"
        ],
        [
         "24",
         "25",
         "0",
         "3",
         "Palsson, Miss. Torborg Danira",
         "female",
         "8.0",
         "3",
         "1",
         "349909",
         "21075.0",
         null,
         "S",
         "miss"
        ],
        [
         "25",
         "26",
         "1",
         "3",
         "Asplund, Mrs. Carl Oscar (Selma Augusta Emilia Johansson)",
         "female",
         "38.0",
         "1",
         "5",
         "347077",
         "31.3875",
         null,
         "S",
         "mrs"
        ],
        [
         "26",
         "27",
         "0",
         "3",
         "Emir, Mr. Farred Chehab",
         "male",
         null,
         "0",
         "0",
         "2631",
         "7225.0",
         null,
         "C",
         "mr"
        ],
        [
         "27",
         "28",
         "0",
         "1",
         "Fortune, Mr. Charles Alexander",
         "male",
         "19.0",
         "3",
         "2",
         "19950",
         "263.0",
         "C23 C25 C27",
         "S",
         "mr"
        ],
        [
         "28",
         "29",
         "1",
         "3",
         "O'Dwyer, Miss. Ellen \"Nellie\"",
         "female",
         null,
         "0",
         "0",
         "330959",
         "7.8792",
         null,
         "Q",
         "miss"
        ],
        [
         "29",
         "30",
         "0",
         "3",
         "Todoroff, Mr. Lalio",
         "male",
         null,
         "0",
         "0",
         "349216",
         "7.8958",
         null,
         "S",
         "mr"
        ],
        [
         "30",
         "31",
         "0",
         "1",
         "Uruchurtu, Don. Manuel E",
         "male",
         "40.0",
         "0",
         "0",
         "PC 17601",
         "27.7208",
         null,
         "C",
         "don"
        ],
        [
         "315",
         "316",
         "1",
         "3",
         "Nilsson, Miss. Helmina Josefina",
         "female",
         "26.0",
         "0",
         "0",
         "347470",
         "7.8542",
         null,
         "S",
         "miss"
        ],
        [
         "316",
         "317",
         "1",
         "2",
         "Kantor, Mrs. Sinai (Miriam Sternin)",
         "female",
         "24.0",
         "1",
         "0",
         "244367",
         "26.0",
         null,
         "S",
         "mrs"
        ],
        [
         "317",
         "318",
         "0",
         "2",
         "Moraweck, Dr. Ernest",
         "male",
         "54.0",
         "0",
         "0",
         "29011",
         "14.0",
         null,
         "S",
         "dr"
        ],
        [
         "318",
         "319",
         "1",
         "1",
         "Wick, Miss. Mary Natalie",
         "female",
         "31.0",
         "0",
         "2",
         "36928",
         "164.8667",
         "C7",
         "S",
         "miss"
        ],
        [
         "319",
         "320",
         "1",
         "1",
         "Spedden, Mrs. Frederic Oakley (Margaretta Corning Stone)",
         "female",
         "40.0",
         "1",
         "1",
         "16966",
         "134.5",
         "E34",
         "C",
         "mrs"
        ],
        [
         "320",
         "321",
         "0",
         "3",
         "Dennis, Mr. Samuel",
         "male",
         "22.0",
         "0",
         "0",
         "A/5 21172",
         "7.25",
         null,
         "S",
         "mr"
        ],
        [
         "321",
         "322",
         "0",
         "3",
         "Danoff, Mr. Yoto",
         "male",
         "27.0",
         "0",
         "0",
         "349219",
         "7.8958",
         null,
         "S",
         "mr"
        ],
        [
         "322",
         "323",
         "1",
         "2",
         "Slayter, Miss. Hilda Mary",
         "female",
         "30.0",
         "0",
         "0",
         "234818",
         "12.35",
         null,
         "Q",
         "miss"
        ],
        [
         "323",
         "324",
         "1",
         "2",
         "Caldwell, Mrs. Albert Francis (Sylvia Mae Harbaugh)",
         "female",
         "22.0",
         "1",
         "1",
         "248738",
         "29.0",
         null,
         "S",
         "mrs"
        ],
        [
         "324",
         "325",
         "0",
         "3",
         "Sage, Mr. George John Jr",
         "male",
         null,
         "8",
         "2",
         "CA. 2343",
         "69.55",
         null,
         "S",
         "mr"
        ],
        [
         "325",
         "326",
         "1",
         "1",
         "Young, Miss. Marie Grice",
         "female",
         "36.0",
         "0",
         "0",
         "PC 17760",
         "135.6333",
         "C32",
         "C",
         "miss"
        ],
        [
         "326",
         "327",
         "0",
         "3",
         "Nysveen, Mr. Johan Hansen",
         "male",
         "61.0",
         "0",
         "0",
         "345364",
         "6.2375",
         null,
         "S",
         "mr"
        ],
        [
         "327",
         "328",
         "1",
         "2",
         "Ball, Mrs. (Ada E Hall)",
         "female",
         "36.0",
         "0",
         "0",
         "28551",
         "13.0",
         "D",
         "S",
         "mrs"
        ],
        [
         "328",
         "329",
         "1",
         "3",
         "Goldsmith, Mrs. Frank John (Emily Alice Brown)",
         "female",
         "31.0",
         "1",
         "1",
         "363291",
         "20525.0",
         null,
         "S",
         "mrs"
        ],
        [
         "329",
         "330",
         "1",
         "1",
         "Hippach, Miss. Jean Gertrude",
         "female",
         "16.0",
         "0",
         "1",
         "111361",
         "57.9792",
         "B18",
         "C",
         "miss"
        ],
        [
         "330",
         "331",
         "1",
         "3",
         "McCoy, Miss. Agnes",
         "female",
         null,
         "2",
         "0",
         "367226",
         "23.25",
         null,
         "Q",
         "miss"
        ],
        [
         "331",
         "332",
         "0",
         "1",
         "Partner, Mr. Austen",
         "male",
         "45.5",
         "0",
         "0",
         "113043",
         "28.5",
         "C124",
         "S",
         "mr"
        ],
        [
         "332",
         "333",
         "0",
         "1",
         "Graham, Mr. George Edward",
         "male",
         "38.0",
         "0",
         "1",
         "PC 17582",
         "153.4625",
         "C91",
         "S",
         "mr"
        ],
        [
         "333",
         "334",
         "0",
         "3",
         "Vander Planke, Mr. Leo Edmondus",
         "male",
         "16.0",
         "2",
         "0",
         "345764",
         "18.0",
         null,
         "S",
         "mr"
        ],
        [
         "334",
         "335",
         "1",
         "1",
         "Frauenthal, Mrs. Henry William (Clara Heinsheimer)",
         "female",
         null,
         "1",
         "0",
         "PC 17611",
         "133.65",
         null,
         "S",
         "mrs"
        ],
        [
         "335",
         "336",
         "0",
         "3",
         "Denkoff, Mr. Mitto",
         "male",
         null,
         "0",
         "0",
         "349225",
         "7.8958",
         null,
         "S",
         "mr"
        ],
        [
         "336",
         "337",
         "0",
         "1",
         "Pears, Mr. Thomas Clinton",
         "male",
         "29.0",
         "1",
         "0",
         "113776",
         "66.6",
         "C2",
         "S",
         "mr"
        ],
        [
         "337",
         "338",
         "1",
         "1",
         "Burns, Miss. Elizabeth Margaret",
         "female",
         "41.0",
         "0",
         "0",
         "16966",
         "134.5",
         "E40",
         "C",
         "miss"
        ],
        [
         "338",
         "339",
         "1",
         "3",
         "Dahl, Mr. Karl Edwart",
         "male",
         "45.0",
         "0",
         "0",
         "7598",
         "8.05",
         null,
         "S",
         "mr"
        ],
        [
         "339",
         "340",
         "0",
         "1",
         "Blackwell, Mr. Stephen Weart",
         "male",
         "45.0",
         "0",
         "0",
         "113784",
         "35.5",
         "T",
         "S",
         "mr"
        ],
        [
         "340",
         "341",
         "1",
         "2",
         "Navratil, Master. Edmond Roger",
         "male",
         "2.0",
         "1",
         "1",
         "230080",
         "26.0",
         "F2",
         "S",
         "master"
        ],
        [
         "341",
         "342",
         "1",
         "1",
         "Fortune, Miss. Alice Elizabeth",
         "female",
         "24.0",
         "3",
         "2",
         "19950",
         "263.0",
         "C23 C25 C27",
         "S",
         "miss"
        ],
        [
         "342",
         "343",
         "0",
         "2",
         "Collander, Mr. Erik Gustaf",
         "male",
         "28.0",
         "0",
         "0",
         "248740",
         "13.0",
         null,
         "S",
         "mr"
        ],
        [
         "343",
         "344",
         "0",
         "2",
         "Sedgwick, Mr. Charles Frederick Waddington",
         "male",
         "25.0",
         "0",
         "0",
         "244361",
         "13.0",
         null,
         "S",
         "mr"
        ],
        [
         "839",
         "840",
         "1",
         "1",
         "Marechal, Mr. Pierre",
         "male",
         null,
         "0",
         "0",
         "11774",
         "29.7",
         "C47",
         "C",
         "mr"
        ]
       ],
       "shape": {
        "columns": 13,
        "rows": 143
       }
      },
      "text/html": [
       "<div>\n",
       "<style scoped>\n",
       "    .dataframe tbody tr th:only-of-type {\n",
       "        vertical-align: middle;\n",
       "    }\n",
       "\n",
       "    .dataframe tbody tr th {\n",
       "        vertical-align: top;\n",
       "    }\n",
       "\n",
       "    .dataframe thead th {\n",
       "        text-align: right;\n",
       "    }\n",
       "</style>\n",
       "<table border=\"1\" class=\"dataframe\">\n",
       "  <thead>\n",
       "    <tr style=\"text-align: right;\">\n",
       "      <th></th>\n",
       "      <th>PassengerId</th>\n",
       "      <th>Survived</th>\n",
       "      <th>Pclass</th>\n",
       "      <th>Name</th>\n",
       "      <th>Sex</th>\n",
       "      <th>Age</th>\n",
       "      <th>SibSp</th>\n",
       "      <th>Parch</th>\n",
       "      <th>Ticket</th>\n",
       "      <th>Fare</th>\n",
       "      <th>Cabin</th>\n",
       "      <th>Embarked</th>\n",
       "      <th>Título</th>\n",
       "    </tr>\n",
       "  </thead>\n",
       "  <tbody>\n",
       "    <tr>\n",
       "      <th>11</th>\n",
       "      <td>12</td>\n",
       "      <td>1</td>\n",
       "      <td>1</td>\n",
       "      <td>Bonnell, Miss. Elizabeth</td>\n",
       "      <td>female</td>\n",
       "      <td>58.0</td>\n",
       "      <td>0</td>\n",
       "      <td>0</td>\n",
       "      <td>113783</td>\n",
       "      <td>26.5500</td>\n",
       "      <td>C103</td>\n",
       "      <td>S</td>\n",
       "      <td>miss</td>\n",
       "    </tr>\n",
       "    <tr>\n",
       "      <th>12</th>\n",
       "      <td>13</td>\n",
       "      <td>0</td>\n",
       "      <td>3</td>\n",
       "      <td>Saundercock, Mr. William Henry</td>\n",
       "      <td>male</td>\n",
       "      <td>20.0</td>\n",
       "      <td>0</td>\n",
       "      <td>0</td>\n",
       "      <td>A/5. 2151</td>\n",
       "      <td>8.0500</td>\n",
       "      <td>NaN</td>\n",
       "      <td>S</td>\n",
       "      <td>mr</td>\n",
       "    </tr>\n",
       "    <tr>\n",
       "      <th>13</th>\n",
       "      <td>14</td>\n",
       "      <td>0</td>\n",
       "      <td>3</td>\n",
       "      <td>Andersson, Mr. Anders Johan</td>\n",
       "      <td>male</td>\n",
       "      <td>39.0</td>\n",
       "      <td>1</td>\n",
       "      <td>5</td>\n",
       "      <td>347082</td>\n",
       "      <td>31275.0000</td>\n",
       "      <td>NaN</td>\n",
       "      <td>S</td>\n",
       "      <td>mr</td>\n",
       "    </tr>\n",
       "    <tr>\n",
       "      <th>14</th>\n",
       "      <td>15</td>\n",
       "      <td>0</td>\n",
       "      <td>3</td>\n",
       "      <td>Vestrom, Miss. Hulda Amanda Adolfina</td>\n",
       "      <td>female</td>\n",
       "      <td>14.0</td>\n",
       "      <td>0</td>\n",
       "      <td>0</td>\n",
       "      <td>350406</td>\n",
       "      <td>7.8542</td>\n",
       "      <td>NaN</td>\n",
       "      <td>S</td>\n",
       "      <td>miss</td>\n",
       "    </tr>\n",
       "    <tr>\n",
       "      <th>15</th>\n",
       "      <td>16</td>\n",
       "      <td>1</td>\n",
       "      <td>2</td>\n",
       "      <td>Hewlett, Mrs. (Mary D Kingcome)</td>\n",
       "      <td>female</td>\n",
       "      <td>55.0</td>\n",
       "      <td>0</td>\n",
       "      <td>0</td>\n",
       "      <td>248706</td>\n",
       "      <td>16.0000</td>\n",
       "      <td>NaN</td>\n",
       "      <td>S</td>\n",
       "      <td>mrs</td>\n",
       "    </tr>\n",
       "    <tr>\n",
       "      <th>...</th>\n",
       "      <td>...</td>\n",
       "      <td>...</td>\n",
       "      <td>...</td>\n",
       "      <td>...</td>\n",
       "      <td>...</td>\n",
       "      <td>...</td>\n",
       "      <td>...</td>\n",
       "      <td>...</td>\n",
       "      <td>...</td>\n",
       "      <td>...</td>\n",
       "      <td>...</td>\n",
       "      <td>...</td>\n",
       "      <td>...</td>\n",
       "    </tr>\n",
       "    <tr>\n",
       "      <th>1299</th>\n",
       "      <td>1300</td>\n",
       "      <td>1</td>\n",
       "      <td>3</td>\n",
       "      <td>Riordan, Miss. Johanna Hannah\"\"</td>\n",
       "      <td>female</td>\n",
       "      <td>NaN</td>\n",
       "      <td>0</td>\n",
       "      <td>0</td>\n",
       "      <td>334915</td>\n",
       "      <td>7.7208</td>\n",
       "      <td>NaN</td>\n",
       "      <td>Q</td>\n",
       "      <td>miss</td>\n",
       "    </tr>\n",
       "    <tr>\n",
       "      <th>1300</th>\n",
       "      <td>1301</td>\n",
       "      <td>1</td>\n",
       "      <td>3</td>\n",
       "      <td>Peacock, Miss. Treasteall</td>\n",
       "      <td>female</td>\n",
       "      <td>3.0</td>\n",
       "      <td>1</td>\n",
       "      <td>1</td>\n",
       "      <td>SOTON/O.Q. 3101315</td>\n",
       "      <td>13775.0000</td>\n",
       "      <td>NaN</td>\n",
       "      <td>S</td>\n",
       "      <td>miss</td>\n",
       "    </tr>\n",
       "    <tr>\n",
       "      <th>1301</th>\n",
       "      <td>1302</td>\n",
       "      <td>1</td>\n",
       "      <td>3</td>\n",
       "      <td>Naughton, Miss. Hannah</td>\n",
       "      <td>female</td>\n",
       "      <td>NaN</td>\n",
       "      <td>0</td>\n",
       "      <td>0</td>\n",
       "      <td>365237</td>\n",
       "      <td>7.7500</td>\n",
       "      <td>NaN</td>\n",
       "      <td>Q</td>\n",
       "      <td>miss</td>\n",
       "    </tr>\n",
       "    <tr>\n",
       "      <th>1302</th>\n",
       "      <td>1303</td>\n",
       "      <td>1</td>\n",
       "      <td>1</td>\n",
       "      <td>Minahan, Mrs. William Edward (Lillian E Thorpe)</td>\n",
       "      <td>female</td>\n",
       "      <td>37.0</td>\n",
       "      <td>1</td>\n",
       "      <td>0</td>\n",
       "      <td>19928</td>\n",
       "      <td>90.0000</td>\n",
       "      <td>C78</td>\n",
       "      <td>Q</td>\n",
       "      <td>mrs</td>\n",
       "    </tr>\n",
       "    <tr>\n",
       "      <th>1303</th>\n",
       "      <td>1304</td>\n",
       "      <td>1</td>\n",
       "      <td>3</td>\n",
       "      <td>Henriksson, Miss. Jenny Lovisa</td>\n",
       "      <td>female</td>\n",
       "      <td>28.0</td>\n",
       "      <td>0</td>\n",
       "      <td>0</td>\n",
       "      <td>347086</td>\n",
       "      <td>7775.0000</td>\n",
       "      <td>NaN</td>\n",
       "      <td>S</td>\n",
       "      <td>miss</td>\n",
       "    </tr>\n",
       "  </tbody>\n",
       "</table>\n",
       "<p>143 rows × 13 columns</p>\n",
       "</div>"
      ],
      "text/plain": [
       "      PassengerId  Survived  Pclass  \\\n",
       "11             12         1       1   \n",
       "12             13         0       3   \n",
       "13             14         0       3   \n",
       "14             15         0       3   \n",
       "15             16         1       2   \n",
       "...           ...       ...     ...   \n",
       "1299         1300         1       3   \n",
       "1300         1301         1       3   \n",
       "1301         1302         1       3   \n",
       "1302         1303         1       1   \n",
       "1303         1304         1       3   \n",
       "\n",
       "                                                 Name     Sex   Age  SibSp  \\\n",
       "11                           Bonnell, Miss. Elizabeth  female  58.0      0   \n",
       "12                     Saundercock, Mr. William Henry    male  20.0      0   \n",
       "13                        Andersson, Mr. Anders Johan    male  39.0      1   \n",
       "14               Vestrom, Miss. Hulda Amanda Adolfina  female  14.0      0   \n",
       "15                   Hewlett, Mrs. (Mary D Kingcome)   female  55.0      0   \n",
       "...                                               ...     ...   ...    ...   \n",
       "1299                  Riordan, Miss. Johanna Hannah\"\"  female   NaN      0   \n",
       "1300                        Peacock, Miss. Treasteall  female   3.0      1   \n",
       "1301                           Naughton, Miss. Hannah  female   NaN      0   \n",
       "1302  Minahan, Mrs. William Edward (Lillian E Thorpe)  female  37.0      1   \n",
       "1303                   Henriksson, Miss. Jenny Lovisa  female  28.0      0   \n",
       "\n",
       "      Parch              Ticket        Fare Cabin Embarked Título  \n",
       "11        0              113783     26.5500  C103        S   miss  \n",
       "12        0           A/5. 2151      8.0500   NaN        S     mr  \n",
       "13        5              347082  31275.0000   NaN        S     mr  \n",
       "14        0              350406      7.8542   NaN        S   miss  \n",
       "15        0              248706     16.0000   NaN        S    mrs  \n",
       "...     ...                 ...         ...   ...      ...    ...  \n",
       "1299      0              334915      7.7208   NaN        Q   miss  \n",
       "1300      1  SOTON/O.Q. 3101315  13775.0000   NaN        S   miss  \n",
       "1301      0              365237      7.7500   NaN        Q   miss  \n",
       "1302      0               19928     90.0000   C78        Q    mrs  \n",
       "1303      0              347086   7775.0000   NaN        S   miss  \n",
       "\n",
       "[143 rows x 13 columns]"
      ]
     },
     "execution_count": 37,
     "metadata": {},
     "output_type": "execute_result"
    }
   ],
   "source": [
    "df_aux['Sex'] = df_aux['Título'].apply(lambda x: 'male' if x in list_male else 'female')\n",
    "df_aux"
   ]
  },
  {
   "cell_type": "markdown",
   "id": "eac70c61",
   "metadata": {},
   "source": [
    "- Combinando os dois dataframes"
   ]
  },
  {
   "cell_type": "code",
   "execution_count": 38,
   "id": "5dc762cc",
   "metadata": {},
   "outputs": [],
   "source": [
    "df_titanic = df_titanic.combine_first(df_aux)"
   ]
  },
  {
   "cell_type": "code",
   "execution_count": 39,
   "id": "930e75bb",
   "metadata": {},
   "outputs": [
    {
     "data": {
      "text/plain": [
       "0"
      ]
     },
     "execution_count": 39,
     "metadata": {},
     "output_type": "execute_result"
    }
   ],
   "source": [
    "df_titanic[df_titanic['Sex'].isnull()].shape[0]"
   ]
  },
  {
   "cell_type": "markdown",
   "id": "8f92b502",
   "metadata": {},
   "source": [
    "- Podemos observar que todos os passageiros possui o registro de gênero"
   ]
  },
  {
   "cell_type": "markdown",
   "id": "18a73107",
   "metadata": {},
   "source": [
    "### Tratando a coluna Age (Idade) para valores faltantes"
   ]
  },
  {
   "cell_type": "code",
   "execution_count": 40,
   "id": "cdda0017",
   "metadata": {},
   "outputs": [
    {
     "data": {
      "text/plain": [
       "263"
      ]
     },
     "execution_count": 40,
     "metadata": {},
     "output_type": "execute_result"
    }
   ],
   "source": [
    "df_titanic[df_titanic[\"Age\"].isnull()].shape[0]"
   ]
  },
  {
   "cell_type": "markdown",
   "id": "5eb1126d",
   "metadata": {},
   "source": [
    "- Temos 263 passageiros sem idade"
   ]
  },
  {
   "cell_type": "markdown",
   "id": "7ec686cb",
   "metadata": {},
   "source": [
    "- Podemos inserir as faixas de idades conforme classe e gênero"
   ]
  },
  {
   "cell_type": "code",
   "execution_count": 41,
   "id": "163660d0",
   "metadata": {},
   "outputs": [
    {
     "data": {
      "application/vnd.microsoft.datawrangler.viewer.v0+json": {
       "columns": [
        {
         "name": "('Pclass', 'Sex')",
         "rawType": "object",
         "type": "unknown"
        },
        {
         "name": "Age",
         "rawType": "float64",
         "type": "float"
        }
       ],
       "ref": "c2390e7b-1710-433e-9c0e-15dba0230b7e",
       "rows": [
        [
         "(np.int64(1), 'female')",
         "37.037593984962406"
        ],
        [
         "(np.int64(1), 'male')",
         "41.02927152317881"
        ],
        [
         "(np.int64(2), 'female')",
         "27.499223300970876"
        ],
        [
         "(np.int64(2), 'male')",
         "30.815379746835443"
        ],
        [
         "(np.int64(3), 'female')",
         "22.185328947368422"
        ],
        [
         "(np.int64(3), 'male')",
         "25.962263610315187"
        ]
       ],
       "shape": {
        "columns": 1,
        "rows": 6
       }
      },
      "text/html": [
       "<div>\n",
       "<style scoped>\n",
       "    .dataframe tbody tr th:only-of-type {\n",
       "        vertical-align: middle;\n",
       "    }\n",
       "\n",
       "    .dataframe tbody tr th {\n",
       "        vertical-align: top;\n",
       "    }\n",
       "\n",
       "    .dataframe thead th {\n",
       "        text-align: right;\n",
       "    }\n",
       "</style>\n",
       "<table border=\"1\" class=\"dataframe\">\n",
       "  <thead>\n",
       "    <tr style=\"text-align: right;\">\n",
       "      <th></th>\n",
       "      <th></th>\n",
       "      <th>Age</th>\n",
       "    </tr>\n",
       "    <tr>\n",
       "      <th>Pclass</th>\n",
       "      <th>Sex</th>\n",
       "      <th></th>\n",
       "    </tr>\n",
       "  </thead>\n",
       "  <tbody>\n",
       "    <tr>\n",
       "      <th rowspan=\"2\" valign=\"top\">1</th>\n",
       "      <th>female</th>\n",
       "      <td>37.037594</td>\n",
       "    </tr>\n",
       "    <tr>\n",
       "      <th>male</th>\n",
       "      <td>41.029272</td>\n",
       "    </tr>\n",
       "    <tr>\n",
       "      <th rowspan=\"2\" valign=\"top\">2</th>\n",
       "      <th>female</th>\n",
       "      <td>27.499223</td>\n",
       "    </tr>\n",
       "    <tr>\n",
       "      <th>male</th>\n",
       "      <td>30.815380</td>\n",
       "    </tr>\n",
       "    <tr>\n",
       "      <th rowspan=\"2\" valign=\"top\">3</th>\n",
       "      <th>female</th>\n",
       "      <td>22.185329</td>\n",
       "    </tr>\n",
       "    <tr>\n",
       "      <th>male</th>\n",
       "      <td>25.962264</td>\n",
       "    </tr>\n",
       "  </tbody>\n",
       "</table>\n",
       "</div>"
      ],
      "text/plain": [
       "                     Age\n",
       "Pclass Sex              \n",
       "1      female  37.037594\n",
       "       male    41.029272\n",
       "2      female  27.499223\n",
       "       male    30.815380\n",
       "3      female  22.185329\n",
       "       male    25.962264"
      ]
     },
     "execution_count": 41,
     "metadata": {},
     "output_type": "execute_result"
    }
   ],
   "source": [
    "df_titanic.groupby(['Pclass','Sex'])[['Age']].mean()"
   ]
  },
  {
   "cell_type": "markdown",
   "id": "70267ce3",
   "metadata": {},
   "source": [
    "- Ou podemos tratar a idade por classe e título. Irá dar mais trabalho, mas ficará mais próximo da realidade."
   ]
  },
  {
   "cell_type": "code",
   "execution_count": 42,
   "id": "f37b8256",
   "metadata": {},
   "outputs": [
    {
     "data": {
      "application/vnd.microsoft.datawrangler.viewer.v0+json": {
       "columns": [
        {
         "name": "index",
         "rawType": "int64",
         "type": "integer"
        },
        {
         "name": "Pclass",
         "rawType": "int64",
         "type": "integer"
        },
        {
         "name": "Título",
         "rawType": "object",
         "type": "string"
        },
        {
         "name": "Age",
         "rawType": "float64",
         "type": "float"
        }
       ],
       "ref": "5ee6f70d-509b-4f8d-be18-73dc8c3719b5",
       "rows": [
        [
         "0",
         "1",
         "capt",
         "70.0"
        ],
        [
         "1",
         "1",
         "col",
         "54.0"
        ],
        [
         "2",
         "1",
         "don",
         "40.0"
        ],
        [
         "3",
         "1",
         "dona",
         "39.0"
        ],
        [
         "4",
         "1",
         "dr",
         "45.6"
        ],
        [
         "5",
         "1",
         "jonkheer",
         "38.0"
        ],
        [
         "6",
         "1",
         "lady",
         "48.0"
        ],
        [
         "7",
         "1",
         "major",
         "48.5"
        ],
        [
         "8",
         "1",
         "master",
         "6.984"
        ],
        [
         "9",
         "1",
         "miss",
         "30.338983050847457"
        ],
        [
         "10",
         "1",
         "mlle",
         "24.0"
        ],
        [
         "11",
         "1",
         "mme",
         "24.0"
        ],
        [
         "12",
         "1",
         "mr",
         "41.45075757575758"
        ],
        [
         "13",
         "1",
         "mrs",
         "43.208955223880594"
        ],
        [
         "14",
         "1",
         "sir",
         "49.0"
        ],
        [
         "15",
         "1",
         "the countess",
         "33.0"
        ],
        [
         "16",
         "2",
         "dr",
         "38.5"
        ],
        [
         "17",
         "2",
         "master",
         "2.7572727272727273"
        ],
        [
         "18",
         "2",
         "miss",
         "20.71708333333333"
        ],
        [
         "19",
         "2",
         "mr",
         "32.346715328467155"
        ],
        [
         "20",
         "2",
         "mrs",
         "33.51851851851852"
        ],
        [
         "21",
         "2",
         "ms",
         "28.0"
        ],
        [
         "22",
         "2",
         "rev",
         "41.25"
        ],
        [
         "23",
         "3",
         "master",
         "6.090000000000001"
        ],
        [
         "24",
         "3",
         "miss",
         "17.36087378640777"
        ],
        [
         "25",
         "3",
         "mr",
         "28.318910256410255"
        ],
        [
         "26",
         "3",
         "mrs",
         "32.326530612244895"
        ],
        [
         "27",
         "3",
         "ms",
         null
        ]
       ],
       "shape": {
        "columns": 3,
        "rows": 28
       }
      },
      "text/html": [
       "<div>\n",
       "<style scoped>\n",
       "    .dataframe tbody tr th:only-of-type {\n",
       "        vertical-align: middle;\n",
       "    }\n",
       "\n",
       "    .dataframe tbody tr th {\n",
       "        vertical-align: top;\n",
       "    }\n",
       "\n",
       "    .dataframe thead th {\n",
       "        text-align: right;\n",
       "    }\n",
       "</style>\n",
       "<table border=\"1\" class=\"dataframe\">\n",
       "  <thead>\n",
       "    <tr style=\"text-align: right;\">\n",
       "      <th></th>\n",
       "      <th>Pclass</th>\n",
       "      <th>Título</th>\n",
       "      <th>Age</th>\n",
       "    </tr>\n",
       "  </thead>\n",
       "  <tbody>\n",
       "    <tr>\n",
       "      <th>0</th>\n",
       "      <td>1</td>\n",
       "      <td>capt</td>\n",
       "      <td>70.000000</td>\n",
       "    </tr>\n",
       "    <tr>\n",
       "      <th>1</th>\n",
       "      <td>1</td>\n",
       "      <td>col</td>\n",
       "      <td>54.000000</td>\n",
       "    </tr>\n",
       "    <tr>\n",
       "      <th>2</th>\n",
       "      <td>1</td>\n",
       "      <td>don</td>\n",
       "      <td>40.000000</td>\n",
       "    </tr>\n",
       "    <tr>\n",
       "      <th>3</th>\n",
       "      <td>1</td>\n",
       "      <td>dona</td>\n",
       "      <td>39.000000</td>\n",
       "    </tr>\n",
       "    <tr>\n",
       "      <th>4</th>\n",
       "      <td>1</td>\n",
       "      <td>dr</td>\n",
       "      <td>45.600000</td>\n",
       "    </tr>\n",
       "    <tr>\n",
       "      <th>5</th>\n",
       "      <td>1</td>\n",
       "      <td>jonkheer</td>\n",
       "      <td>38.000000</td>\n",
       "    </tr>\n",
       "    <tr>\n",
       "      <th>6</th>\n",
       "      <td>1</td>\n",
       "      <td>lady</td>\n",
       "      <td>48.000000</td>\n",
       "    </tr>\n",
       "    <tr>\n",
       "      <th>7</th>\n",
       "      <td>1</td>\n",
       "      <td>major</td>\n",
       "      <td>48.500000</td>\n",
       "    </tr>\n",
       "    <tr>\n",
       "      <th>8</th>\n",
       "      <td>1</td>\n",
       "      <td>master</td>\n",
       "      <td>6.984000</td>\n",
       "    </tr>\n",
       "    <tr>\n",
       "      <th>9</th>\n",
       "      <td>1</td>\n",
       "      <td>miss</td>\n",
       "      <td>30.338983</td>\n",
       "    </tr>\n",
       "    <tr>\n",
       "      <th>10</th>\n",
       "      <td>1</td>\n",
       "      <td>mlle</td>\n",
       "      <td>24.000000</td>\n",
       "    </tr>\n",
       "    <tr>\n",
       "      <th>11</th>\n",
       "      <td>1</td>\n",
       "      <td>mme</td>\n",
       "      <td>24.000000</td>\n",
       "    </tr>\n",
       "    <tr>\n",
       "      <th>12</th>\n",
       "      <td>1</td>\n",
       "      <td>mr</td>\n",
       "      <td>41.450758</td>\n",
       "    </tr>\n",
       "    <tr>\n",
       "      <th>13</th>\n",
       "      <td>1</td>\n",
       "      <td>mrs</td>\n",
       "      <td>43.208955</td>\n",
       "    </tr>\n",
       "    <tr>\n",
       "      <th>14</th>\n",
       "      <td>1</td>\n",
       "      <td>sir</td>\n",
       "      <td>49.000000</td>\n",
       "    </tr>\n",
       "    <tr>\n",
       "      <th>15</th>\n",
       "      <td>1</td>\n",
       "      <td>the countess</td>\n",
       "      <td>33.000000</td>\n",
       "    </tr>\n",
       "    <tr>\n",
       "      <th>16</th>\n",
       "      <td>2</td>\n",
       "      <td>dr</td>\n",
       "      <td>38.500000</td>\n",
       "    </tr>\n",
       "    <tr>\n",
       "      <th>17</th>\n",
       "      <td>2</td>\n",
       "      <td>master</td>\n",
       "      <td>2.757273</td>\n",
       "    </tr>\n",
       "    <tr>\n",
       "      <th>18</th>\n",
       "      <td>2</td>\n",
       "      <td>miss</td>\n",
       "      <td>20.717083</td>\n",
       "    </tr>\n",
       "    <tr>\n",
       "      <th>19</th>\n",
       "      <td>2</td>\n",
       "      <td>mr</td>\n",
       "      <td>32.346715</td>\n",
       "    </tr>\n",
       "    <tr>\n",
       "      <th>20</th>\n",
       "      <td>2</td>\n",
       "      <td>mrs</td>\n",
       "      <td>33.518519</td>\n",
       "    </tr>\n",
       "    <tr>\n",
       "      <th>21</th>\n",
       "      <td>2</td>\n",
       "      <td>ms</td>\n",
       "      <td>28.000000</td>\n",
       "    </tr>\n",
       "    <tr>\n",
       "      <th>22</th>\n",
       "      <td>2</td>\n",
       "      <td>rev</td>\n",
       "      <td>41.250000</td>\n",
       "    </tr>\n",
       "    <tr>\n",
       "      <th>23</th>\n",
       "      <td>3</td>\n",
       "      <td>master</td>\n",
       "      <td>6.090000</td>\n",
       "    </tr>\n",
       "    <tr>\n",
       "      <th>24</th>\n",
       "      <td>3</td>\n",
       "      <td>miss</td>\n",
       "      <td>17.360874</td>\n",
       "    </tr>\n",
       "    <tr>\n",
       "      <th>25</th>\n",
       "      <td>3</td>\n",
       "      <td>mr</td>\n",
       "      <td>28.318910</td>\n",
       "    </tr>\n",
       "    <tr>\n",
       "      <th>26</th>\n",
       "      <td>3</td>\n",
       "      <td>mrs</td>\n",
       "      <td>32.326531</td>\n",
       "    </tr>\n",
       "    <tr>\n",
       "      <th>27</th>\n",
       "      <td>3</td>\n",
       "      <td>ms</td>\n",
       "      <td>NaN</td>\n",
       "    </tr>\n",
       "  </tbody>\n",
       "</table>\n",
       "</div>"
      ],
      "text/plain": [
       "    Pclass        Título        Age\n",
       "0        1          capt  70.000000\n",
       "1        1           col  54.000000\n",
       "2        1           don  40.000000\n",
       "3        1          dona  39.000000\n",
       "4        1            dr  45.600000\n",
       "5        1      jonkheer  38.000000\n",
       "6        1          lady  48.000000\n",
       "7        1         major  48.500000\n",
       "8        1        master   6.984000\n",
       "9        1          miss  30.338983\n",
       "10       1          mlle  24.000000\n",
       "11       1           mme  24.000000\n",
       "12       1            mr  41.450758\n",
       "13       1           mrs  43.208955\n",
       "14       1           sir  49.000000\n",
       "15       1  the countess  33.000000\n",
       "16       2            dr  38.500000\n",
       "17       2        master   2.757273\n",
       "18       2          miss  20.717083\n",
       "19       2            mr  32.346715\n",
       "20       2           mrs  33.518519\n",
       "21       2            ms  28.000000\n",
       "22       2           rev  41.250000\n",
       "23       3        master   6.090000\n",
       "24       3          miss  17.360874\n",
       "25       3            mr  28.318910\n",
       "26       3           mrs  32.326531\n",
       "27       3            ms        NaN"
      ]
     },
     "execution_count": 42,
     "metadata": {},
     "output_type": "execute_result"
    }
   ],
   "source": [
    "df_aux = df_titanic.groupby(['Pclass','Título'], as_index=False)[['Age']].mean()\n",
    "df_aux"
   ]
  },
  {
   "cell_type": "markdown",
   "id": "bd4b86f1",
   "metadata": {},
   "source": [
    "- Como pode ser visto, apena ms da terceira classe não possui idade. Vamos assumir então para essa situação o valor de ms da segunda classe."
   ]
  },
  {
   "cell_type": "code",
   "execution_count": 43,
   "id": "55d38823",
   "metadata": {},
   "outputs": [
    {
     "name": "stderr",
     "output_type": "stream",
     "text": [
      "/tmp/ipykernel_1047277/3070663308.py:1: FutureWarning: ChainedAssignmentError: behaviour will change in pandas 3.0!\n",
      "You are setting values through chained assignment. Currently this works in certain cases, but when using Copy-on-Write (which will become the default behaviour in pandas 3.0) this will never work to update the original DataFrame or Series, because the intermediate object on which we are setting values will behave as a copy.\n",
      "A typical example is when you are setting values in a column of a DataFrame, like:\n",
      "\n",
      "df[\"col\"][row_indexer] = value\n",
      "\n",
      "Use `df.loc[row_indexer, \"col\"] = values` instead, to perform the assignment in a single step and ensure this keeps updating the original `df`.\n",
      "\n",
      "See the caveats in the documentation: https://pandas.pydata.org/pandas-docs/stable/user_guide/indexing.html#returning-a-view-versus-a-copy\n",
      "\n",
      "  df_aux['Age'].loc[27] = df_aux['Age'].loc[21]\n",
      "/tmp/ipykernel_1047277/3070663308.py:1: SettingWithCopyWarning: \n",
      "A value is trying to be set on a copy of a slice from a DataFrame\n",
      "\n",
      "See the caveats in the documentation: https://pandas.pydata.org/pandas-docs/stable/user_guide/indexing.html#returning-a-view-versus-a-copy\n",
      "  df_aux['Age'].loc[27] = df_aux['Age'].loc[21]\n"
     ]
    },
    {
     "data": {
      "application/vnd.microsoft.datawrangler.viewer.v0+json": {
       "columns": [
        {
         "name": "index",
         "rawType": "int64",
         "type": "integer"
        },
        {
         "name": "Pclass",
         "rawType": "int64",
         "type": "integer"
        },
        {
         "name": "Título",
         "rawType": "object",
         "type": "string"
        },
        {
         "name": "Age",
         "rawType": "float64",
         "type": "float"
        }
       ],
       "ref": "fc17859f-d9f8-4ff9-9f7f-993358f1eede",
       "rows": [
        [
         "0",
         "1",
         "capt",
         "70.0"
        ],
        [
         "1",
         "1",
         "col",
         "54.0"
        ],
        [
         "2",
         "1",
         "don",
         "40.0"
        ],
        [
         "3",
         "1",
         "dona",
         "39.0"
        ],
        [
         "4",
         "1",
         "dr",
         "45.6"
        ],
        [
         "5",
         "1",
         "jonkheer",
         "38.0"
        ],
        [
         "6",
         "1",
         "lady",
         "48.0"
        ],
        [
         "7",
         "1",
         "major",
         "48.5"
        ],
        [
         "8",
         "1",
         "master",
         "6.984"
        ],
        [
         "9",
         "1",
         "miss",
         "30.338983050847457"
        ],
        [
         "10",
         "1",
         "mlle",
         "24.0"
        ],
        [
         "11",
         "1",
         "mme",
         "24.0"
        ],
        [
         "12",
         "1",
         "mr",
         "41.45075757575758"
        ],
        [
         "13",
         "1",
         "mrs",
         "43.208955223880594"
        ],
        [
         "14",
         "1",
         "sir",
         "49.0"
        ],
        [
         "15",
         "1",
         "the countess",
         "33.0"
        ],
        [
         "16",
         "2",
         "dr",
         "38.5"
        ],
        [
         "17",
         "2",
         "master",
         "2.7572727272727273"
        ],
        [
         "18",
         "2",
         "miss",
         "20.71708333333333"
        ],
        [
         "19",
         "2",
         "mr",
         "32.346715328467155"
        ],
        [
         "20",
         "2",
         "mrs",
         "33.51851851851852"
        ],
        [
         "21",
         "2",
         "ms",
         "28.0"
        ],
        [
         "22",
         "2",
         "rev",
         "41.25"
        ],
        [
         "23",
         "3",
         "master",
         "6.090000000000001"
        ],
        [
         "24",
         "3",
         "miss",
         "17.36087378640777"
        ],
        [
         "25",
         "3",
         "mr",
         "28.318910256410255"
        ],
        [
         "26",
         "3",
         "mrs",
         "32.326530612244895"
        ],
        [
         "27",
         "3",
         "ms",
         "28.0"
        ]
       ],
       "shape": {
        "columns": 3,
        "rows": 28
       }
      },
      "text/html": [
       "<div>\n",
       "<style scoped>\n",
       "    .dataframe tbody tr th:only-of-type {\n",
       "        vertical-align: middle;\n",
       "    }\n",
       "\n",
       "    .dataframe tbody tr th {\n",
       "        vertical-align: top;\n",
       "    }\n",
       "\n",
       "    .dataframe thead th {\n",
       "        text-align: right;\n",
       "    }\n",
       "</style>\n",
       "<table border=\"1\" class=\"dataframe\">\n",
       "  <thead>\n",
       "    <tr style=\"text-align: right;\">\n",
       "      <th></th>\n",
       "      <th>Pclass</th>\n",
       "      <th>Título</th>\n",
       "      <th>Age</th>\n",
       "    </tr>\n",
       "  </thead>\n",
       "  <tbody>\n",
       "    <tr>\n",
       "      <th>0</th>\n",
       "      <td>1</td>\n",
       "      <td>capt</td>\n",
       "      <td>70.000000</td>\n",
       "    </tr>\n",
       "    <tr>\n",
       "      <th>1</th>\n",
       "      <td>1</td>\n",
       "      <td>col</td>\n",
       "      <td>54.000000</td>\n",
       "    </tr>\n",
       "    <tr>\n",
       "      <th>2</th>\n",
       "      <td>1</td>\n",
       "      <td>don</td>\n",
       "      <td>40.000000</td>\n",
       "    </tr>\n",
       "    <tr>\n",
       "      <th>3</th>\n",
       "      <td>1</td>\n",
       "      <td>dona</td>\n",
       "      <td>39.000000</td>\n",
       "    </tr>\n",
       "    <tr>\n",
       "      <th>4</th>\n",
       "      <td>1</td>\n",
       "      <td>dr</td>\n",
       "      <td>45.600000</td>\n",
       "    </tr>\n",
       "    <tr>\n",
       "      <th>5</th>\n",
       "      <td>1</td>\n",
       "      <td>jonkheer</td>\n",
       "      <td>38.000000</td>\n",
       "    </tr>\n",
       "    <tr>\n",
       "      <th>6</th>\n",
       "      <td>1</td>\n",
       "      <td>lady</td>\n",
       "      <td>48.000000</td>\n",
       "    </tr>\n",
       "    <tr>\n",
       "      <th>7</th>\n",
       "      <td>1</td>\n",
       "      <td>major</td>\n",
       "      <td>48.500000</td>\n",
       "    </tr>\n",
       "    <tr>\n",
       "      <th>8</th>\n",
       "      <td>1</td>\n",
       "      <td>master</td>\n",
       "      <td>6.984000</td>\n",
       "    </tr>\n",
       "    <tr>\n",
       "      <th>9</th>\n",
       "      <td>1</td>\n",
       "      <td>miss</td>\n",
       "      <td>30.338983</td>\n",
       "    </tr>\n",
       "    <tr>\n",
       "      <th>10</th>\n",
       "      <td>1</td>\n",
       "      <td>mlle</td>\n",
       "      <td>24.000000</td>\n",
       "    </tr>\n",
       "    <tr>\n",
       "      <th>11</th>\n",
       "      <td>1</td>\n",
       "      <td>mme</td>\n",
       "      <td>24.000000</td>\n",
       "    </tr>\n",
       "    <tr>\n",
       "      <th>12</th>\n",
       "      <td>1</td>\n",
       "      <td>mr</td>\n",
       "      <td>41.450758</td>\n",
       "    </tr>\n",
       "    <tr>\n",
       "      <th>13</th>\n",
       "      <td>1</td>\n",
       "      <td>mrs</td>\n",
       "      <td>43.208955</td>\n",
       "    </tr>\n",
       "    <tr>\n",
       "      <th>14</th>\n",
       "      <td>1</td>\n",
       "      <td>sir</td>\n",
       "      <td>49.000000</td>\n",
       "    </tr>\n",
       "    <tr>\n",
       "      <th>15</th>\n",
       "      <td>1</td>\n",
       "      <td>the countess</td>\n",
       "      <td>33.000000</td>\n",
       "    </tr>\n",
       "    <tr>\n",
       "      <th>16</th>\n",
       "      <td>2</td>\n",
       "      <td>dr</td>\n",
       "      <td>38.500000</td>\n",
       "    </tr>\n",
       "    <tr>\n",
       "      <th>17</th>\n",
       "      <td>2</td>\n",
       "      <td>master</td>\n",
       "      <td>2.757273</td>\n",
       "    </tr>\n",
       "    <tr>\n",
       "      <th>18</th>\n",
       "      <td>2</td>\n",
       "      <td>miss</td>\n",
       "      <td>20.717083</td>\n",
       "    </tr>\n",
       "    <tr>\n",
       "      <th>19</th>\n",
       "      <td>2</td>\n",
       "      <td>mr</td>\n",
       "      <td>32.346715</td>\n",
       "    </tr>\n",
       "    <tr>\n",
       "      <th>20</th>\n",
       "      <td>2</td>\n",
       "      <td>mrs</td>\n",
       "      <td>33.518519</td>\n",
       "    </tr>\n",
       "    <tr>\n",
       "      <th>21</th>\n",
       "      <td>2</td>\n",
       "      <td>ms</td>\n",
       "      <td>28.000000</td>\n",
       "    </tr>\n",
       "    <tr>\n",
       "      <th>22</th>\n",
       "      <td>2</td>\n",
       "      <td>rev</td>\n",
       "      <td>41.250000</td>\n",
       "    </tr>\n",
       "    <tr>\n",
       "      <th>23</th>\n",
       "      <td>3</td>\n",
       "      <td>master</td>\n",
       "      <td>6.090000</td>\n",
       "    </tr>\n",
       "    <tr>\n",
       "      <th>24</th>\n",
       "      <td>3</td>\n",
       "      <td>miss</td>\n",
       "      <td>17.360874</td>\n",
       "    </tr>\n",
       "    <tr>\n",
       "      <th>25</th>\n",
       "      <td>3</td>\n",
       "      <td>mr</td>\n",
       "      <td>28.318910</td>\n",
       "    </tr>\n",
       "    <tr>\n",
       "      <th>26</th>\n",
       "      <td>3</td>\n",
       "      <td>mrs</td>\n",
       "      <td>32.326531</td>\n",
       "    </tr>\n",
       "    <tr>\n",
       "      <th>27</th>\n",
       "      <td>3</td>\n",
       "      <td>ms</td>\n",
       "      <td>28.000000</td>\n",
       "    </tr>\n",
       "  </tbody>\n",
       "</table>\n",
       "</div>"
      ],
      "text/plain": [
       "    Pclass        Título        Age\n",
       "0        1          capt  70.000000\n",
       "1        1           col  54.000000\n",
       "2        1           don  40.000000\n",
       "3        1          dona  39.000000\n",
       "4        1            dr  45.600000\n",
       "5        1      jonkheer  38.000000\n",
       "6        1          lady  48.000000\n",
       "7        1         major  48.500000\n",
       "8        1        master   6.984000\n",
       "9        1          miss  30.338983\n",
       "10       1          mlle  24.000000\n",
       "11       1           mme  24.000000\n",
       "12       1            mr  41.450758\n",
       "13       1           mrs  43.208955\n",
       "14       1           sir  49.000000\n",
       "15       1  the countess  33.000000\n",
       "16       2            dr  38.500000\n",
       "17       2        master   2.757273\n",
       "18       2          miss  20.717083\n",
       "19       2            mr  32.346715\n",
       "20       2           mrs  33.518519\n",
       "21       2            ms  28.000000\n",
       "22       2           rev  41.250000\n",
       "23       3        master   6.090000\n",
       "24       3          miss  17.360874\n",
       "25       3            mr  28.318910\n",
       "26       3           mrs  32.326531\n",
       "27       3            ms  28.000000"
      ]
     },
     "execution_count": 43,
     "metadata": {},
     "output_type": "execute_result"
    }
   ],
   "source": [
    "df_aux['Age'].loc[27] = df_aux['Age'].loc[21]\n",
    "df_aux"
   ]
  },
  {
   "cell_type": "code",
   "execution_count": 44,
   "id": "603fd943",
   "metadata": {},
   "outputs": [
    {
     "data": {
      "text/plain": [
       "263"
      ]
     },
     "execution_count": 44,
     "metadata": {},
     "output_type": "execute_result"
    }
   ],
   "source": [
    "df_titanic[df_titanic['Age'].isnull()].shape[0]"
   ]
  },
  {
   "cell_type": "markdown",
   "id": "966d3cd3",
   "metadata": {},
   "source": [
    "- Podemos ver que há 263 registros sem Age"
   ]
  },
  {
   "cell_type": "markdown",
   "id": "3648c0ba",
   "metadata": {},
   "source": [
    "- Vamos utilizar uma função que retorna a média de idade baseada na média de idade de classe e título."
   ]
  },
  {
   "cell_type": "code",
   "execution_count": 45,
   "id": "de6d8903",
   "metadata": {},
   "outputs": [],
   "source": [
    "def impute_age(age_pclass_titulo):\n",
    "    age = age_pclass_titulo[0]\n",
    "    pclass = age_pclass_titulo[1]\n",
    "    titulo = age_pclass_titulo[2]\n",
    "    if pd.isnull(age):\n",
    "        return df_aux['Age'].loc[(df_aux['Pclass']==pclass) & (df_aux['Título']==titulo)].values[0]\n",
    "    else:\n",
    "        return age"
   ]
  },
  {
   "cell_type": "code",
   "execution_count": 46,
   "id": "cb4de415",
   "metadata": {},
   "outputs": [
    {
     "name": "stderr",
     "output_type": "stream",
     "text": [
      "/tmp/ipykernel_1047277/1665821771.py:2: FutureWarning: Series.__getitem__ treating keys as positions is deprecated. In a future version, integer keys will always be treated as labels (consistent with DataFrame behavior). To access a value by position, use `ser.iloc[pos]`\n",
      "  age = age_pclass_titulo[0]\n",
      "/tmp/ipykernel_1047277/1665821771.py:3: FutureWarning: Series.__getitem__ treating keys as positions is deprecated. In a future version, integer keys will always be treated as labels (consistent with DataFrame behavior). To access a value by position, use `ser.iloc[pos]`\n",
      "  pclass = age_pclass_titulo[1]\n",
      "/tmp/ipykernel_1047277/1665821771.py:4: FutureWarning: Series.__getitem__ treating keys as positions is deprecated. In a future version, integer keys will always be treated as labels (consistent with DataFrame behavior). To access a value by position, use `ser.iloc[pos]`\n",
      "  titulo = age_pclass_titulo[2]\n"
     ]
    }
   ],
   "source": [
    "df_titanic['Age'] = df_titanic[['Age','Pclass','Título']].apply(impute_age, axis = 1)"
   ]
  },
  {
   "cell_type": "code",
   "execution_count": 47,
   "id": "8354a7d1",
   "metadata": {},
   "outputs": [
    {
     "data": {
      "text/plain": [
       "0"
      ]
     },
     "execution_count": 47,
     "metadata": {},
     "output_type": "execute_result"
    }
   ],
   "source": [
    "df_titanic[df_titanic['Age'].isnull()].shape[0]"
   ]
  },
  {
   "cell_type": "markdown",
   "id": "7b2c1c37",
   "metadata": {},
   "source": [
    "### Tratando a coluna Cabin"
   ]
  },
  {
   "cell_type": "markdown",
   "id": "072d0f51",
   "metadata": {},
   "source": [
    "- Agora só temos a coluna Cabin com dados faltantes que possui ~33% dos dados"
   ]
  },
  {
   "cell_type": "code",
   "execution_count": 48,
   "id": "d1fa8a5b",
   "metadata": {},
   "outputs": [
    {
     "data": {
      "application/vnd.microsoft.datawrangler.viewer.v0+json": {
       "columns": [
        {
         "name": "index",
         "rawType": "object",
         "type": "string"
        },
        {
         "name": "0",
         "rawType": "float64",
         "type": "float"
        }
       ],
       "ref": "9877827b-11e7-4707-958c-f5f0aba162fd",
       "rows": [
        [
         "PassengerId",
         "0.0"
        ],
        [
         "Survived",
         "0.0"
        ],
        [
         "Pclass",
         "0.0"
        ],
        [
         "Name",
         "0.0"
        ],
        [
         "Sex",
         "0.0"
        ],
        [
         "Age",
         "0.0"
        ],
        [
         "SibSp",
         "0.0"
        ],
        [
         "Parch",
         "0.0"
        ],
        [
         "Ticket",
         "0.0"
        ],
        [
         "Fare",
         "0.0"
        ],
        [
         "Cabin",
         "77.46"
        ],
        [
         "Embarked",
         "0.0"
        ],
        [
         "Título",
         "0.0"
        ]
       ],
       "shape": {
        "columns": 1,
        "rows": 13
       }
      },
      "text/plain": [
       "PassengerId     0.00\n",
       "Survived        0.00\n",
       "Pclass          0.00\n",
       "Name            0.00\n",
       "Sex             0.00\n",
       "Age             0.00\n",
       "SibSp           0.00\n",
       "Parch           0.00\n",
       "Ticket          0.00\n",
       "Fare            0.00\n",
       "Cabin          77.46\n",
       "Embarked        0.00\n",
       "Título          0.00\n",
       "dtype: float64"
      ]
     },
     "execution_count": 48,
     "metadata": {},
     "output_type": "execute_result"
    }
   ],
   "source": [
    "round(df_titanic.isnull().mean()*100, 2)"
   ]
  },
  {
   "cell_type": "code",
   "execution_count": 49,
   "id": "c5f62851",
   "metadata": {},
   "outputs": [
    {
     "data": {
      "application/vnd.microsoft.datawrangler.viewer.v0+json": {
       "columns": [
        {
         "name": "index",
         "rawType": "int64",
         "type": "integer"
        },
        {
         "name": "PassengerId",
         "rawType": "int64",
         "type": "integer"
        },
        {
         "name": "Survived",
         "rawType": "int64",
         "type": "integer"
        },
        {
         "name": "Pclass",
         "rawType": "int64",
         "type": "integer"
        },
        {
         "name": "Name",
         "rawType": "object",
         "type": "string"
        },
        {
         "name": "Sex",
         "rawType": "object",
         "type": "string"
        },
        {
         "name": "Age",
         "rawType": "float64",
         "type": "float"
        },
        {
         "name": "SibSp",
         "rawType": "int64",
         "type": "integer"
        },
        {
         "name": "Parch",
         "rawType": "int64",
         "type": "integer"
        },
        {
         "name": "Ticket",
         "rawType": "object",
         "type": "string"
        },
        {
         "name": "Fare",
         "rawType": "float64",
         "type": "float"
        },
        {
         "name": "Cabin",
         "rawType": "object",
         "type": "unknown"
        },
        {
         "name": "Embarked",
         "rawType": "object",
         "type": "string"
        },
        {
         "name": "Título",
         "rawType": "object",
         "type": "string"
        }
       ],
       "ref": "2841ae08-a960-436b-99bb-cb9faef526fb",
       "rows": [
        [
         "0",
         "1",
         "0",
         "3",
         "Braund, Mr. Owen Harris",
         "male",
         "22.0",
         "1",
         "0",
         "A/5 21171",
         "7.25",
         null,
         "S",
         "mr"
        ],
        [
         "1",
         "2",
         "1",
         "1",
         "Cumings, Mrs. John Bradley (Florence Briggs Thayer)",
         "female",
         "38.0",
         "1",
         "0",
         "PC 17599",
         "71.2833",
         "C85",
         "C",
         "mrs"
        ],
        [
         "2",
         "3",
         "1",
         "3",
         "Heikkinen, Miss. Laina",
         "female",
         "26.0",
         "0",
         "0",
         "STON/O2. 3101282",
         "7925.0",
         null,
         "S",
         "miss"
        ],
        [
         "3",
         "4",
         "1",
         "1",
         "Futrelle, Mrs. Jacques Heath (Lily May Peel)",
         "female",
         "35.0",
         "1",
         "0",
         "113803",
         "53.1",
         "C123",
         "S",
         "mrs"
        ],
        [
         "4",
         "5",
         "0",
         "3",
         "Allen, Mr. William Henry",
         "male",
         "35.0",
         "0",
         "0",
         "373450",
         "8.05",
         null,
         "S",
         "mr"
        ],
        [
         "5",
         "6",
         "0",
         "3",
         "Moran, Mr. James",
         "male",
         "28.318910256410255",
         "0",
         "0",
         "330877",
         "8.4583",
         null,
         "Q",
         "mr"
        ],
        [
         "6",
         "7",
         "0",
         "1",
         "McCarthy, Mr. Timothy J",
         "male",
         "54.0",
         "0",
         "0",
         "17463",
         "51.8625",
         "E46",
         "S",
         "mr"
        ],
        [
         "7",
         "8",
         "0",
         "3",
         "Palsson, Master. Gosta Leonard",
         "male",
         "2.0",
         "3",
         "1",
         "349909",
         "21075.0",
         null,
         "S",
         "master"
        ],
        [
         "8",
         "9",
         "1",
         "3",
         "Johnson, Mrs. Oscar W (Elisabeth Vilhelmina Berg)",
         "female",
         "27.0",
         "0",
         "2",
         "347742",
         "11.1333",
         null,
         "S",
         "mrs"
        ],
        [
         "9",
         "10",
         "1",
         "2",
         "Nasser, Mrs. Nicholas (Adele Achem)",
         "female",
         "14.0",
         "1",
         "0",
         "237736",
         "30.0708",
         null,
         "C",
         "mrs"
        ]
       ],
       "shape": {
        "columns": 13,
        "rows": 10
       }
      },
      "text/html": [
       "<div>\n",
       "<style scoped>\n",
       "    .dataframe tbody tr th:only-of-type {\n",
       "        vertical-align: middle;\n",
       "    }\n",
       "\n",
       "    .dataframe tbody tr th {\n",
       "        vertical-align: top;\n",
       "    }\n",
       "\n",
       "    .dataframe thead th {\n",
       "        text-align: right;\n",
       "    }\n",
       "</style>\n",
       "<table border=\"1\" class=\"dataframe\">\n",
       "  <thead>\n",
       "    <tr style=\"text-align: right;\">\n",
       "      <th></th>\n",
       "      <th>PassengerId</th>\n",
       "      <th>Survived</th>\n",
       "      <th>Pclass</th>\n",
       "      <th>Name</th>\n",
       "      <th>Sex</th>\n",
       "      <th>Age</th>\n",
       "      <th>SibSp</th>\n",
       "      <th>Parch</th>\n",
       "      <th>Ticket</th>\n",
       "      <th>Fare</th>\n",
       "      <th>Cabin</th>\n",
       "      <th>Embarked</th>\n",
       "      <th>Título</th>\n",
       "    </tr>\n",
       "  </thead>\n",
       "  <tbody>\n",
       "    <tr>\n",
       "      <th>0</th>\n",
       "      <td>1</td>\n",
       "      <td>0</td>\n",
       "      <td>3</td>\n",
       "      <td>Braund, Mr. Owen Harris</td>\n",
       "      <td>male</td>\n",
       "      <td>22.00000</td>\n",
       "      <td>1</td>\n",
       "      <td>0</td>\n",
       "      <td>A/5 21171</td>\n",
       "      <td>7.2500</td>\n",
       "      <td>NaN</td>\n",
       "      <td>S</td>\n",
       "      <td>mr</td>\n",
       "    </tr>\n",
       "    <tr>\n",
       "      <th>1</th>\n",
       "      <td>2</td>\n",
       "      <td>1</td>\n",
       "      <td>1</td>\n",
       "      <td>Cumings, Mrs. John Bradley (Florence Briggs Th...</td>\n",
       "      <td>female</td>\n",
       "      <td>38.00000</td>\n",
       "      <td>1</td>\n",
       "      <td>0</td>\n",
       "      <td>PC 17599</td>\n",
       "      <td>71.2833</td>\n",
       "      <td>C85</td>\n",
       "      <td>C</td>\n",
       "      <td>mrs</td>\n",
       "    </tr>\n",
       "    <tr>\n",
       "      <th>2</th>\n",
       "      <td>3</td>\n",
       "      <td>1</td>\n",
       "      <td>3</td>\n",
       "      <td>Heikkinen, Miss. Laina</td>\n",
       "      <td>female</td>\n",
       "      <td>26.00000</td>\n",
       "      <td>0</td>\n",
       "      <td>0</td>\n",
       "      <td>STON/O2. 3101282</td>\n",
       "      <td>7925.0000</td>\n",
       "      <td>NaN</td>\n",
       "      <td>S</td>\n",
       "      <td>miss</td>\n",
       "    </tr>\n",
       "    <tr>\n",
       "      <th>3</th>\n",
       "      <td>4</td>\n",
       "      <td>1</td>\n",
       "      <td>1</td>\n",
       "      <td>Futrelle, Mrs. Jacques Heath (Lily May Peel)</td>\n",
       "      <td>female</td>\n",
       "      <td>35.00000</td>\n",
       "      <td>1</td>\n",
       "      <td>0</td>\n",
       "      <td>113803</td>\n",
       "      <td>53.1000</td>\n",
       "      <td>C123</td>\n",
       "      <td>S</td>\n",
       "      <td>mrs</td>\n",
       "    </tr>\n",
       "    <tr>\n",
       "      <th>4</th>\n",
       "      <td>5</td>\n",
       "      <td>0</td>\n",
       "      <td>3</td>\n",
       "      <td>Allen, Mr. William Henry</td>\n",
       "      <td>male</td>\n",
       "      <td>35.00000</td>\n",
       "      <td>0</td>\n",
       "      <td>0</td>\n",
       "      <td>373450</td>\n",
       "      <td>8.0500</td>\n",
       "      <td>NaN</td>\n",
       "      <td>S</td>\n",
       "      <td>mr</td>\n",
       "    </tr>\n",
       "    <tr>\n",
       "      <th>5</th>\n",
       "      <td>6</td>\n",
       "      <td>0</td>\n",
       "      <td>3</td>\n",
       "      <td>Moran, Mr. James</td>\n",
       "      <td>male</td>\n",
       "      <td>28.31891</td>\n",
       "      <td>0</td>\n",
       "      <td>0</td>\n",
       "      <td>330877</td>\n",
       "      <td>8.4583</td>\n",
       "      <td>NaN</td>\n",
       "      <td>Q</td>\n",
       "      <td>mr</td>\n",
       "    </tr>\n",
       "    <tr>\n",
       "      <th>6</th>\n",
       "      <td>7</td>\n",
       "      <td>0</td>\n",
       "      <td>1</td>\n",
       "      <td>McCarthy, Mr. Timothy J</td>\n",
       "      <td>male</td>\n",
       "      <td>54.00000</td>\n",
       "      <td>0</td>\n",
       "      <td>0</td>\n",
       "      <td>17463</td>\n",
       "      <td>51.8625</td>\n",
       "      <td>E46</td>\n",
       "      <td>S</td>\n",
       "      <td>mr</td>\n",
       "    </tr>\n",
       "    <tr>\n",
       "      <th>7</th>\n",
       "      <td>8</td>\n",
       "      <td>0</td>\n",
       "      <td>3</td>\n",
       "      <td>Palsson, Master. Gosta Leonard</td>\n",
       "      <td>male</td>\n",
       "      <td>2.00000</td>\n",
       "      <td>3</td>\n",
       "      <td>1</td>\n",
       "      <td>349909</td>\n",
       "      <td>21075.0000</td>\n",
       "      <td>NaN</td>\n",
       "      <td>S</td>\n",
       "      <td>master</td>\n",
       "    </tr>\n",
       "    <tr>\n",
       "      <th>8</th>\n",
       "      <td>9</td>\n",
       "      <td>1</td>\n",
       "      <td>3</td>\n",
       "      <td>Johnson, Mrs. Oscar W (Elisabeth Vilhelmina Berg)</td>\n",
       "      <td>female</td>\n",
       "      <td>27.00000</td>\n",
       "      <td>0</td>\n",
       "      <td>2</td>\n",
       "      <td>347742</td>\n",
       "      <td>11.1333</td>\n",
       "      <td>NaN</td>\n",
       "      <td>S</td>\n",
       "      <td>mrs</td>\n",
       "    </tr>\n",
       "    <tr>\n",
       "      <th>9</th>\n",
       "      <td>10</td>\n",
       "      <td>1</td>\n",
       "      <td>2</td>\n",
       "      <td>Nasser, Mrs. Nicholas (Adele Achem)</td>\n",
       "      <td>female</td>\n",
       "      <td>14.00000</td>\n",
       "      <td>1</td>\n",
       "      <td>0</td>\n",
       "      <td>237736</td>\n",
       "      <td>30.0708</td>\n",
       "      <td>NaN</td>\n",
       "      <td>C</td>\n",
       "      <td>mrs</td>\n",
       "    </tr>\n",
       "  </tbody>\n",
       "</table>\n",
       "</div>"
      ],
      "text/plain": [
       "   PassengerId  Survived  Pclass  \\\n",
       "0            1         0       3   \n",
       "1            2         1       1   \n",
       "2            3         1       3   \n",
       "3            4         1       1   \n",
       "4            5         0       3   \n",
       "5            6         0       3   \n",
       "6            7         0       1   \n",
       "7            8         0       3   \n",
       "8            9         1       3   \n",
       "9           10         1       2   \n",
       "\n",
       "                                                Name     Sex       Age  SibSp  \\\n",
       "0                            Braund, Mr. Owen Harris    male  22.00000      1   \n",
       "1  Cumings, Mrs. John Bradley (Florence Briggs Th...  female  38.00000      1   \n",
       "2                             Heikkinen, Miss. Laina  female  26.00000      0   \n",
       "3       Futrelle, Mrs. Jacques Heath (Lily May Peel)  female  35.00000      1   \n",
       "4                           Allen, Mr. William Henry    male  35.00000      0   \n",
       "5                                   Moran, Mr. James    male  28.31891      0   \n",
       "6                            McCarthy, Mr. Timothy J    male  54.00000      0   \n",
       "7                     Palsson, Master. Gosta Leonard    male   2.00000      3   \n",
       "8  Johnson, Mrs. Oscar W (Elisabeth Vilhelmina Berg)  female  27.00000      0   \n",
       "9                Nasser, Mrs. Nicholas (Adele Achem)  female  14.00000      1   \n",
       "\n",
       "   Parch            Ticket        Fare Cabin Embarked  Título  \n",
       "0      0         A/5 21171      7.2500   NaN        S      mr  \n",
       "1      0          PC 17599     71.2833   C85        C     mrs  \n",
       "2      0  STON/O2. 3101282   7925.0000   NaN        S    miss  \n",
       "3      0            113803     53.1000  C123        S     mrs  \n",
       "4      0            373450      8.0500   NaN        S      mr  \n",
       "5      0            330877      8.4583   NaN        Q      mr  \n",
       "6      0             17463     51.8625   E46        S      mr  \n",
       "7      1            349909  21075.0000   NaN        S  master  \n",
       "8      2            347742     11.1333   NaN        S     mrs  \n",
       "9      0            237736     30.0708   NaN        C     mrs  "
      ]
     },
     "execution_count": 49,
     "metadata": {},
     "output_type": "execute_result"
    }
   ],
   "source": [
    "df_titanic.head(10)"
   ]
  },
  {
   "cell_type": "markdown",
   "id": "89e7f163",
   "metadata": {},
   "source": [
    "- Vamos verificar como estão distribuídas as cabines por classe, selecionando apenas a letra inicial de cada observação"
   ]
  },
  {
   "cell_type": "code",
   "execution_count": 50,
   "id": "20e67407",
   "metadata": {},
   "outputs": [],
   "source": [
    "df_titanic['Ale_cabin'] = df_titanic['Cabin'].str[0].str.lower().str.strip()"
   ]
  },
  {
   "cell_type": "code",
   "execution_count": 51,
   "id": "44016d35",
   "metadata": {},
   "outputs": [
    {
     "data": {
      "application/vnd.microsoft.datawrangler.viewer.v0+json": {
       "columns": [
        {
         "name": "('Pclass', 'Ale_cabin')",
         "rawType": "object",
         "type": "unknown"
        },
        {
         "name": "count",
         "rawType": "int64",
         "type": "integer"
        }
       ],
       "ref": "daaee54e-5126-42a2-a38f-852d1f8881fa",
       "rows": [
        [
         "(np.int64(1), 'c')",
         "94"
        ],
        [
         "(np.int64(1), 'b')",
         "65"
        ],
        [
         "(np.int64(1), 'd')",
         "40"
        ],
        [
         "(np.int64(1), 'e')",
         "34"
        ],
        [
         "(np.int64(1), 'a')",
         "22"
        ],
        [
         "(np.int64(1), 't')",
         "1"
        ],
        [
         "(np.int64(2), 'f')",
         "13"
        ],
        [
         "(np.int64(2), 'd')",
         "6"
        ],
        [
         "(np.int64(2), 'e')",
         "4"
        ],
        [
         "(np.int64(3), 'f')",
         "8"
        ],
        [
         "(np.int64(3), 'g')",
         "5"
        ],
        [
         "(np.int64(3), 'e')",
         "3"
        ]
       ],
       "shape": {
        "columns": 1,
        "rows": 12
       }
      },
      "text/plain": [
       "Pclass  Ale_cabin\n",
       "1       c            94\n",
       "        b            65\n",
       "        d            40\n",
       "        e            34\n",
       "        a            22\n",
       "        t             1\n",
       "2       f            13\n",
       "        d             6\n",
       "        e             4\n",
       "3       f             8\n",
       "        g             5\n",
       "        e             3\n",
       "Name: count, dtype: int64"
      ]
     },
     "execution_count": 51,
     "metadata": {},
     "output_type": "execute_result"
    }
   ],
   "source": [
    "df_titanic.groupby('Pclass')['Ale_cabin'].value_counts()"
   ]
  },
  {
   "cell_type": "markdown",
   "id": "e059256f",
   "metadata": {},
   "source": [
    "- Temos a seguinte distribuição das cabines por classe:\n",
    "    - Classe 1 = a, b, c, d, e, t\n",
    "    - Classe 2 = d, e, f\n",
    "    - Classe 3 = e, g, f"
   ]
  },
  {
   "cell_type": "markdown",
   "id": "122d224d",
   "metadata": {},
   "source": [
    "- Podemos remover a coluna Ale_cabin pois ja extraimos o que precisamos"
   ]
  },
  {
   "cell_type": "code",
   "execution_count": 52,
   "id": "310777d9",
   "metadata": {},
   "outputs": [],
   "source": [
    "del df_titanic['Ale_cabin']"
   ]
  },
  {
   "cell_type": "markdown",
   "id": "fecf3219",
   "metadata": {},
   "source": [
    "- Vamos criar um dicionário onde a chave é a classe e os valores são as possíveis letras das cabines"
   ]
  },
  {
   "cell_type": "code",
   "execution_count": 53,
   "id": "78e0a322",
   "metadata": {},
   "outputs": [],
   "source": [
    "dict_classe = {1:['a', 'b', 'c', 'd', 'e', 't'],\n",
    "               2:['d', 'e', 'f'],\n",
    "               3:['e', 'g', 'h']}"
   ]
  },
  {
   "cell_type": "markdown",
   "id": "c50d379d",
   "metadata": {},
   "source": [
    "- Filtrando registros de Cabin nula"
   ]
  },
  {
   "cell_type": "code",
   "execution_count": 54,
   "id": "4eb16fcd",
   "metadata": {},
   "outputs": [
    {
     "data": {
      "application/vnd.microsoft.datawrangler.viewer.v0+json": {
       "columns": [
        {
         "name": "index",
         "rawType": "int64",
         "type": "integer"
        },
        {
         "name": "PassengerId",
         "rawType": "int64",
         "type": "integer"
        },
        {
         "name": "Survived",
         "rawType": "int64",
         "type": "integer"
        },
        {
         "name": "Pclass",
         "rawType": "int64",
         "type": "integer"
        },
        {
         "name": "Name",
         "rawType": "object",
         "type": "string"
        },
        {
         "name": "Sex",
         "rawType": "object",
         "type": "string"
        },
        {
         "name": "Age",
         "rawType": "float64",
         "type": "float"
        },
        {
         "name": "SibSp",
         "rawType": "int64",
         "type": "integer"
        },
        {
         "name": "Parch",
         "rawType": "int64",
         "type": "integer"
        },
        {
         "name": "Ticket",
         "rawType": "object",
         "type": "string"
        },
        {
         "name": "Fare",
         "rawType": "float64",
         "type": "float"
        },
        {
         "name": "Cabin",
         "rawType": "object",
         "type": "unknown"
        },
        {
         "name": "Embarked",
         "rawType": "object",
         "type": "string"
        },
        {
         "name": "Título",
         "rawType": "object",
         "type": "string"
        }
       ],
       "ref": "c079665e-b23a-48e2-81ba-7e4f6ca6337c",
       "rows": [
        [
         "0",
         "1",
         "0",
         "3",
         "Braund, Mr. Owen Harris",
         "male",
         "22.0",
         "1",
         "0",
         "A/5 21171",
         "7.25",
         null,
         "S",
         "mr"
        ],
        [
         "2",
         "3",
         "1",
         "3",
         "Heikkinen, Miss. Laina",
         "female",
         "26.0",
         "0",
         "0",
         "STON/O2. 3101282",
         "7925.0",
         null,
         "S",
         "miss"
        ],
        [
         "4",
         "5",
         "0",
         "3",
         "Allen, Mr. William Henry",
         "male",
         "35.0",
         "0",
         "0",
         "373450",
         "8.05",
         null,
         "S",
         "mr"
        ],
        [
         "5",
         "6",
         "0",
         "3",
         "Moran, Mr. James",
         "male",
         "28.318910256410255",
         "0",
         "0",
         "330877",
         "8.4583",
         null,
         "Q",
         "mr"
        ],
        [
         "7",
         "8",
         "0",
         "3",
         "Palsson, Master. Gosta Leonard",
         "male",
         "2.0",
         "3",
         "1",
         "349909",
         "21075.0",
         null,
         "S",
         "master"
        ],
        [
         "8",
         "9",
         "1",
         "3",
         "Johnson, Mrs. Oscar W (Elisabeth Vilhelmina Berg)",
         "female",
         "27.0",
         "0",
         "2",
         "347742",
         "11.1333",
         null,
         "S",
         "mrs"
        ],
        [
         "9",
         "10",
         "1",
         "2",
         "Nasser, Mrs. Nicholas (Adele Achem)",
         "female",
         "14.0",
         "1",
         "0",
         "237736",
         "30.0708",
         null,
         "C",
         "mrs"
        ],
        [
         "12",
         "13",
         "0",
         "3",
         "Saundercock, Mr. William Henry",
         "male",
         "20.0",
         "0",
         "0",
         "A/5. 2151",
         "8.05",
         null,
         "S",
         "mr"
        ],
        [
         "13",
         "14",
         "0",
         "3",
         "Andersson, Mr. Anders Johan",
         "male",
         "39.0",
         "1",
         "5",
         "347082",
         "31275.0",
         null,
         "S",
         "mr"
        ],
        [
         "14",
         "15",
         "0",
         "3",
         "Vestrom, Miss. Hulda Amanda Adolfina",
         "female",
         "14.0",
         "0",
         "0",
         "350406",
         "7.8542",
         null,
         "S",
         "miss"
        ],
        [
         "15",
         "16",
         "1",
         "2",
         "Hewlett, Mrs. (Mary D Kingcome) ",
         "female",
         "55.0",
         "0",
         "0",
         "248706",
         "16.0",
         null,
         "S",
         "mrs"
        ],
        [
         "16",
         "17",
         "0",
         "3",
         "Rice, Master. Eugene",
         "male",
         "2.0",
         "4",
         "1",
         "382652",
         "29125.0",
         null,
         "Q",
         "master"
        ],
        [
         "17",
         "18",
         "1",
         "2",
         "Williams, Mr. Charles Eugene",
         "male",
         "32.346715328467155",
         "0",
         "0",
         "244373",
         "13.0",
         null,
         "S",
         "mr"
        ],
        [
         "18",
         "19",
         "0",
         "3",
         "Vander Planke, Mrs. Julius (Emelia Maria Vandemoortele)",
         "female",
         "31.0",
         "1",
         "0",
         "345763",
         "18.0",
         null,
         "S",
         "mrs"
        ],
        [
         "19",
         "20",
         "1",
         "3",
         "Masselmani, Mrs. Fatima",
         "female",
         "32.326530612244895",
         "0",
         "0",
         "2649",
         "7225.0",
         null,
         "C",
         "mrs"
        ],
        [
         "20",
         "21",
         "0",
         "2",
         "Fynney, Mr. Joseph J",
         "male",
         "35.0",
         "0",
         "0",
         "239865",
         "26.0",
         null,
         "S",
         "mr"
        ],
        [
         "22",
         "23",
         "1",
         "3",
         "McGowan, Miss. Anna \"Annie\"",
         "female",
         "15.0",
         "0",
         "0",
         "330923",
         "8.0292",
         null,
         "Q",
         "miss"
        ],
        [
         "24",
         "25",
         "0",
         "3",
         "Palsson, Miss. Torborg Danira",
         "female",
         "8.0",
         "3",
         "1",
         "349909",
         "21075.0",
         null,
         "S",
         "miss"
        ],
        [
         "25",
         "26",
         "1",
         "3",
         "Asplund, Mrs. Carl Oscar (Selma Augusta Emilia Johansson)",
         "female",
         "38.0",
         "1",
         "5",
         "347077",
         "31.3875",
         null,
         "S",
         "mrs"
        ],
        [
         "26",
         "27",
         "0",
         "3",
         "Emir, Mr. Farred Chehab",
         "male",
         "28.318910256410255",
         "0",
         "0",
         "2631",
         "7225.0",
         null,
         "C",
         "mr"
        ],
        [
         "28",
         "29",
         "1",
         "3",
         "O'Dwyer, Miss. Ellen \"Nellie\"",
         "female",
         "17.36087378640777",
         "0",
         "0",
         "330959",
         "7.8792",
         null,
         "Q",
         "miss"
        ],
        [
         "29",
         "30",
         "0",
         "3",
         "Todoroff, Mr. Lalio",
         "male",
         "28.318910256410255",
         "0",
         "0",
         "349216",
         "7.8958",
         null,
         "S",
         "mr"
        ],
        [
         "30",
         "31",
         "0",
         "1",
         "Uruchurtu, Don. Manuel E",
         "male",
         "40.0",
         "0",
         "0",
         "PC 17601",
         "27.7208",
         null,
         "C",
         "don"
        ],
        [
         "32",
         "33",
         "1",
         "3",
         "Glynn, Miss. Mary Agatha",
         "female",
         "17.36087378640777",
         "0",
         "0",
         "335677",
         "7.75",
         null,
         "Q",
         "miss"
        ],
        [
         "33",
         "34",
         "0",
         "2",
         "Wheadon, Mr. Edward H",
         "male",
         "66.0",
         "0",
         "0",
         "C.A. 24579",
         "10.5",
         null,
         "S",
         "mr"
        ],
        [
         "34",
         "35",
         "0",
         "1",
         "Meyer, Mr. Edgar Joseph",
         "male",
         "28.0",
         "1",
         "0",
         "PC 17604",
         "82.1708",
         null,
         "C",
         "mr"
        ],
        [
         "35",
         "36",
         "0",
         "1",
         "Holverson, Mr. Alexander Oskar",
         "male",
         "42.0",
         "1",
         "0",
         "113789",
         "52.0",
         null,
         "S",
         "mr"
        ],
        [
         "36",
         "37",
         "1",
         "3",
         "Mamee, Mr. Hanna",
         "male",
         "28.318910256410255",
         "0",
         "0",
         "2677",
         "7.2292",
         null,
         "C",
         "mr"
        ],
        [
         "37",
         "38",
         "0",
         "3",
         "Cann, Mr. Ernest Charles",
         "male",
         "21.0",
         "0",
         "0",
         "A./5. 2152",
         "8.05",
         null,
         "S",
         "mr"
        ],
        [
         "38",
         "39",
         "0",
         "3",
         "Vander Planke, Miss. Augusta Maria",
         "female",
         "18.0",
         "2",
         "0",
         "345764",
         "18.0",
         null,
         "S",
         "miss"
        ],
        [
         "39",
         "40",
         "1",
         "3",
         "Nicola-Yarred, Miss. Jamila",
         "female",
         "14.0",
         "1",
         "0",
         "2651",
         "11.2417",
         null,
         "C",
         "miss"
        ],
        [
         "40",
         "41",
         "0",
         "3",
         "Ahlin, Mrs. Johan (Johanna Persdotter Larsson)",
         "female",
         "40.0",
         "1",
         "0",
         "7546",
         "9475.0",
         null,
         "S",
         "mrs"
        ],
        [
         "41",
         "42",
         "0",
         "2",
         "Turpin, Mrs. William John Robert (Dorothy Ann Wonnacott)",
         "female",
         "27.0",
         "1",
         "0",
         "11668",
         "21.0",
         null,
         "S",
         "mrs"
        ],
        [
         "42",
         "43",
         "0",
         "3",
         "Kraeff, Mr. Theodor",
         "male",
         "28.318910256410255",
         "0",
         "0",
         "349253",
         "7.8958",
         null,
         "C",
         "mr"
        ],
        [
         "43",
         "44",
         "1",
         "2",
         "Laroche, Miss. Simonne Marie Anne Andree",
         "female",
         "3.0",
         "1",
         "2",
         "SC/Paris 2123",
         "41.5792",
         null,
         "C",
         "miss"
        ],
        [
         "44",
         "45",
         "1",
         "3",
         "Devaney, Miss. Margaret Delia",
         "female",
         "19.0",
         "0",
         "0",
         "330958",
         "7.8792",
         null,
         "Q",
         "miss"
        ],
        [
         "45",
         "46",
         "0",
         "3",
         "Rogers, Mr. William John",
         "male",
         "28.318910256410255",
         "0",
         "0",
         "S.C./A.4. 23567",
         "8.05",
         null,
         "S",
         "mr"
        ],
        [
         "46",
         "47",
         "0",
         "3",
         "Lennon, Mr. Denis",
         "male",
         "28.318910256410255",
         "1",
         "0",
         "370371",
         "15.5",
         null,
         "Q",
         "mr"
        ],
        [
         "47",
         "48",
         "1",
         "3",
         "O'Driscoll, Miss. Bridget",
         "female",
         "17.36087378640777",
         "0",
         "0",
         "14311",
         "7.75",
         null,
         "Q",
         "miss"
        ],
        [
         "48",
         "49",
         "0",
         "3",
         "Samaan, Mr. Youssef",
         "male",
         "28.318910256410255",
         "2",
         "0",
         "2662",
         "21.6792",
         null,
         "C",
         "mr"
        ],
        [
         "49",
         "50",
         "0",
         "3",
         "Arnold-Franchi, Mrs. Josef (Josefine Franchi)",
         "female",
         "18.0",
         "1",
         "0",
         "349237",
         "17.8",
         null,
         "S",
         "mrs"
        ],
        [
         "50",
         "51",
         "0",
         "3",
         "Panula, Master. Juha Niilo",
         "male",
         "7.0",
         "4",
         "1",
         "3101295",
         "39.6875",
         null,
         "S",
         "master"
        ],
        [
         "51",
         "52",
         "0",
         "3",
         "Nosworthy, Mr. Richard Cater",
         "male",
         "21.0",
         "0",
         "0",
         "A/4. 39886",
         "7.8",
         null,
         "S",
         "mr"
        ],
        [
         "53",
         "54",
         "1",
         "2",
         "Faunthorpe, Mrs. Lizzie (Elizabeth Anne Wilkinson)",
         "female",
         "29.0",
         "1",
         "0",
         "2926",
         "26.0",
         null,
         "S",
         "mrs"
        ],
        [
         "56",
         "57",
         "1",
         "2",
         "Rugg, Miss. Emily",
         "female",
         "21.0",
         "0",
         "0",
         "C.A. 31026",
         "10.5",
         null,
         "S",
         "miss"
        ],
        [
         "57",
         "58",
         "0",
         "3",
         "Novel, Mr. Mansouer",
         "male",
         "28.5",
         "0",
         "0",
         "2697",
         "7.2292",
         null,
         "C",
         "mr"
        ],
        [
         "58",
         "59",
         "1",
         "2",
         "West, Miss. Constance Mirium",
         "female",
         "5.0",
         "1",
         "2",
         "C.A. 34651",
         "27.75",
         null,
         "S",
         "miss"
        ],
        [
         "59",
         "60",
         "0",
         "3",
         "Goodwin, Master. William Frederick",
         "male",
         "11.0",
         "5",
         "2",
         "CA 2144",
         "46.9",
         null,
         "S",
         "master"
        ],
        [
         "60",
         "61",
         "0",
         "3",
         "Sirayanian, Mr. Orsen",
         "male",
         "22.0",
         "0",
         "0",
         "2669",
         "7.2292",
         null,
         "C",
         "mr"
        ],
        [
         "63",
         "64",
         "0",
         "3",
         "Skoog, Master. Harald",
         "male",
         "4.0",
         "3",
         "2",
         "347088",
         "27.9",
         null,
         "S",
         "master"
        ]
       ],
       "shape": {
        "columns": 13,
        "rows": 1014
       }
      },
      "text/html": [
       "<div>\n",
       "<style scoped>\n",
       "    .dataframe tbody tr th:only-of-type {\n",
       "        vertical-align: middle;\n",
       "    }\n",
       "\n",
       "    .dataframe tbody tr th {\n",
       "        vertical-align: top;\n",
       "    }\n",
       "\n",
       "    .dataframe thead th {\n",
       "        text-align: right;\n",
       "    }\n",
       "</style>\n",
       "<table border=\"1\" class=\"dataframe\">\n",
       "  <thead>\n",
       "    <tr style=\"text-align: right;\">\n",
       "      <th></th>\n",
       "      <th>PassengerId</th>\n",
       "      <th>Survived</th>\n",
       "      <th>Pclass</th>\n",
       "      <th>Name</th>\n",
       "      <th>Sex</th>\n",
       "      <th>Age</th>\n",
       "      <th>SibSp</th>\n",
       "      <th>Parch</th>\n",
       "      <th>Ticket</th>\n",
       "      <th>Fare</th>\n",
       "      <th>Cabin</th>\n",
       "      <th>Embarked</th>\n",
       "      <th>Título</th>\n",
       "    </tr>\n",
       "  </thead>\n",
       "  <tbody>\n",
       "    <tr>\n",
       "      <th>0</th>\n",
       "      <td>1</td>\n",
       "      <td>0</td>\n",
       "      <td>3</td>\n",
       "      <td>Braund, Mr. Owen Harris</td>\n",
       "      <td>male</td>\n",
       "      <td>22.00000</td>\n",
       "      <td>1</td>\n",
       "      <td>0</td>\n",
       "      <td>A/5 21171</td>\n",
       "      <td>7.2500</td>\n",
       "      <td>NaN</td>\n",
       "      <td>S</td>\n",
       "      <td>mr</td>\n",
       "    </tr>\n",
       "    <tr>\n",
       "      <th>2</th>\n",
       "      <td>3</td>\n",
       "      <td>1</td>\n",
       "      <td>3</td>\n",
       "      <td>Heikkinen, Miss. Laina</td>\n",
       "      <td>female</td>\n",
       "      <td>26.00000</td>\n",
       "      <td>0</td>\n",
       "      <td>0</td>\n",
       "      <td>STON/O2. 3101282</td>\n",
       "      <td>7925.0000</td>\n",
       "      <td>NaN</td>\n",
       "      <td>S</td>\n",
       "      <td>miss</td>\n",
       "    </tr>\n",
       "    <tr>\n",
       "      <th>4</th>\n",
       "      <td>5</td>\n",
       "      <td>0</td>\n",
       "      <td>3</td>\n",
       "      <td>Allen, Mr. William Henry</td>\n",
       "      <td>male</td>\n",
       "      <td>35.00000</td>\n",
       "      <td>0</td>\n",
       "      <td>0</td>\n",
       "      <td>373450</td>\n",
       "      <td>8.0500</td>\n",
       "      <td>NaN</td>\n",
       "      <td>S</td>\n",
       "      <td>mr</td>\n",
       "    </tr>\n",
       "    <tr>\n",
       "      <th>5</th>\n",
       "      <td>6</td>\n",
       "      <td>0</td>\n",
       "      <td>3</td>\n",
       "      <td>Moran, Mr. James</td>\n",
       "      <td>male</td>\n",
       "      <td>28.31891</td>\n",
       "      <td>0</td>\n",
       "      <td>0</td>\n",
       "      <td>330877</td>\n",
       "      <td>8.4583</td>\n",
       "      <td>NaN</td>\n",
       "      <td>Q</td>\n",
       "      <td>mr</td>\n",
       "    </tr>\n",
       "    <tr>\n",
       "      <th>7</th>\n",
       "      <td>8</td>\n",
       "      <td>0</td>\n",
       "      <td>3</td>\n",
       "      <td>Palsson, Master. Gosta Leonard</td>\n",
       "      <td>male</td>\n",
       "      <td>2.00000</td>\n",
       "      <td>3</td>\n",
       "      <td>1</td>\n",
       "      <td>349909</td>\n",
       "      <td>21075.0000</td>\n",
       "      <td>NaN</td>\n",
       "      <td>S</td>\n",
       "      <td>master</td>\n",
       "    </tr>\n",
       "    <tr>\n",
       "      <th>...</th>\n",
       "      <td>...</td>\n",
       "      <td>...</td>\n",
       "      <td>...</td>\n",
       "      <td>...</td>\n",
       "      <td>...</td>\n",
       "      <td>...</td>\n",
       "      <td>...</td>\n",
       "      <td>...</td>\n",
       "      <td>...</td>\n",
       "      <td>...</td>\n",
       "      <td>...</td>\n",
       "      <td>...</td>\n",
       "      <td>...</td>\n",
       "    </tr>\n",
       "    <tr>\n",
       "      <th>1303</th>\n",
       "      <td>1304</td>\n",
       "      <td>1</td>\n",
       "      <td>3</td>\n",
       "      <td>Henriksson, Miss. Jenny Lovisa</td>\n",
       "      <td>female</td>\n",
       "      <td>28.00000</td>\n",
       "      <td>0</td>\n",
       "      <td>0</td>\n",
       "      <td>347086</td>\n",
       "      <td>7775.0000</td>\n",
       "      <td>NaN</td>\n",
       "      <td>S</td>\n",
       "      <td>miss</td>\n",
       "    </tr>\n",
       "    <tr>\n",
       "      <th>1304</th>\n",
       "      <td>1305</td>\n",
       "      <td>0</td>\n",
       "      <td>3</td>\n",
       "      <td>Spector, Mr. Woolf</td>\n",
       "      <td>male</td>\n",
       "      <td>28.31891</td>\n",
       "      <td>0</td>\n",
       "      <td>0</td>\n",
       "      <td>A.5. 3236</td>\n",
       "      <td>8.0500</td>\n",
       "      <td>NaN</td>\n",
       "      <td>S</td>\n",
       "      <td>mr</td>\n",
       "    </tr>\n",
       "    <tr>\n",
       "      <th>1306</th>\n",
       "      <td>1307</td>\n",
       "      <td>0</td>\n",
       "      <td>3</td>\n",
       "      <td>Saether, Mr. Simon Sivertsen</td>\n",
       "      <td>male</td>\n",
       "      <td>38.50000</td>\n",
       "      <td>0</td>\n",
       "      <td>0</td>\n",
       "      <td>SOTON/O.Q. 3101262</td>\n",
       "      <td>7.2500</td>\n",
       "      <td>NaN</td>\n",
       "      <td>S</td>\n",
       "      <td>mr</td>\n",
       "    </tr>\n",
       "    <tr>\n",
       "      <th>1307</th>\n",
       "      <td>1308</td>\n",
       "      <td>0</td>\n",
       "      <td>3</td>\n",
       "      <td>Ware, Mr. Frederick</td>\n",
       "      <td>male</td>\n",
       "      <td>28.31891</td>\n",
       "      <td>0</td>\n",
       "      <td>0</td>\n",
       "      <td>359309</td>\n",
       "      <td>8.0500</td>\n",
       "      <td>NaN</td>\n",
       "      <td>S</td>\n",
       "      <td>mr</td>\n",
       "    </tr>\n",
       "    <tr>\n",
       "      <th>1308</th>\n",
       "      <td>1309</td>\n",
       "      <td>0</td>\n",
       "      <td>3</td>\n",
       "      <td>Peter, Master. Michael J</td>\n",
       "      <td>male</td>\n",
       "      <td>6.09000</td>\n",
       "      <td>1</td>\n",
       "      <td>1</td>\n",
       "      <td>2668</td>\n",
       "      <td>22.3583</td>\n",
       "      <td>NaN</td>\n",
       "      <td>C</td>\n",
       "      <td>master</td>\n",
       "    </tr>\n",
       "  </tbody>\n",
       "</table>\n",
       "<p>1014 rows × 13 columns</p>\n",
       "</div>"
      ],
      "text/plain": [
       "      PassengerId  Survived  Pclass                            Name     Sex  \\\n",
       "0               1         0       3         Braund, Mr. Owen Harris    male   \n",
       "2               3         1       3          Heikkinen, Miss. Laina  female   \n",
       "4               5         0       3        Allen, Mr. William Henry    male   \n",
       "5               6         0       3                Moran, Mr. James    male   \n",
       "7               8         0       3  Palsson, Master. Gosta Leonard    male   \n",
       "...           ...       ...     ...                             ...     ...   \n",
       "1303         1304         1       3  Henriksson, Miss. Jenny Lovisa  female   \n",
       "1304         1305         0       3              Spector, Mr. Woolf    male   \n",
       "1306         1307         0       3    Saether, Mr. Simon Sivertsen    male   \n",
       "1307         1308         0       3             Ware, Mr. Frederick    male   \n",
       "1308         1309         0       3        Peter, Master. Michael J    male   \n",
       "\n",
       "           Age  SibSp  Parch              Ticket        Fare Cabin Embarked  \\\n",
       "0     22.00000      1      0           A/5 21171      7.2500   NaN        S   \n",
       "2     26.00000      0      0    STON/O2. 3101282   7925.0000   NaN        S   \n",
       "4     35.00000      0      0              373450      8.0500   NaN        S   \n",
       "5     28.31891      0      0              330877      8.4583   NaN        Q   \n",
       "7      2.00000      3      1              349909  21075.0000   NaN        S   \n",
       "...        ...    ...    ...                 ...         ...   ...      ...   \n",
       "1303  28.00000      0      0              347086   7775.0000   NaN        S   \n",
       "1304  28.31891      0      0           A.5. 3236      8.0500   NaN        S   \n",
       "1306  38.50000      0      0  SOTON/O.Q. 3101262      7.2500   NaN        S   \n",
       "1307  28.31891      0      0              359309      8.0500   NaN        S   \n",
       "1308   6.09000      1      1                2668     22.3583   NaN        C   \n",
       "\n",
       "      Título  \n",
       "0         mr  \n",
       "2       miss  \n",
       "4         mr  \n",
       "5         mr  \n",
       "7     master  \n",
       "...      ...  \n",
       "1303    miss  \n",
       "1304      mr  \n",
       "1306      mr  \n",
       "1307      mr  \n",
       "1308  master  \n",
       "\n",
       "[1014 rows x 13 columns]"
      ]
     },
     "execution_count": 54,
     "metadata": {},
     "output_type": "execute_result"
    }
   ],
   "source": [
    "df_aux = df_titanic[df_titanic['Cabin'].isnull()]\n",
    "df_aux"
   ]
  },
  {
   "cell_type": "markdown",
   "id": "088cab4d",
   "metadata": {},
   "source": [
    "- Vamos imputar os dados com a função choice do numpy"
   ]
  },
  {
   "cell_type": "code",
   "execution_count": 55,
   "id": "2ff68458",
   "metadata": {},
   "outputs": [
    {
     "name": "stderr",
     "output_type": "stream",
     "text": [
      "/tmp/ipykernel_1047277/654337835.py:1: SettingWithCopyWarning: \n",
      "A value is trying to be set on a copy of a slice from a DataFrame.\n",
      "Try using .loc[row_indexer,col_indexer] = value instead\n",
      "\n",
      "See the caveats in the documentation: https://pandas.pydata.org/pandas-docs/stable/user_guide/indexing.html#returning-a-view-versus-a-copy\n",
      "  df_aux['Cabin'] = df_titanic['Pclass'].apply(lambda x: np.random.choice(dict_classe[x], size=1)[0])\n"
     ]
    }
   ],
   "source": [
    "df_aux['Cabin'] = df_titanic['Pclass'].apply(lambda x: np.random.choice(dict_classe[x], size=1)[0])"
   ]
  },
  {
   "cell_type": "code",
   "execution_count": 56,
   "id": "d3b07c99",
   "metadata": {},
   "outputs": [
    {
     "data": {
      "application/vnd.microsoft.datawrangler.viewer.v0+json": {
       "columns": [
        {
         "name": "index",
         "rawType": "int64",
         "type": "integer"
        },
        {
         "name": "PassengerId",
         "rawType": "int64",
         "type": "integer"
        },
        {
         "name": "Survived",
         "rawType": "int64",
         "type": "integer"
        },
        {
         "name": "Pclass",
         "rawType": "int64",
         "type": "integer"
        },
        {
         "name": "Name",
         "rawType": "object",
         "type": "string"
        },
        {
         "name": "Sex",
         "rawType": "object",
         "type": "string"
        },
        {
         "name": "Age",
         "rawType": "float64",
         "type": "float"
        },
        {
         "name": "SibSp",
         "rawType": "int64",
         "type": "integer"
        },
        {
         "name": "Parch",
         "rawType": "int64",
         "type": "integer"
        },
        {
         "name": "Ticket",
         "rawType": "object",
         "type": "string"
        },
        {
         "name": "Fare",
         "rawType": "float64",
         "type": "float"
        },
        {
         "name": "Cabin",
         "rawType": "object",
         "type": "string"
        },
        {
         "name": "Embarked",
         "rawType": "object",
         "type": "string"
        },
        {
         "name": "Título",
         "rawType": "object",
         "type": "string"
        }
       ],
       "ref": "25b4ff86-d3ff-495f-b7d8-f612f4b4fcc4",
       "rows": [
        [
         "0",
         "1",
         "0",
         "3",
         "Braund, Mr. Owen Harris",
         "male",
         "22.0",
         "1",
         "0",
         "A/5 21171",
         "7.25",
         "g",
         "S",
         "mr"
        ],
        [
         "2",
         "3",
         "1",
         "3",
         "Heikkinen, Miss. Laina",
         "female",
         "26.0",
         "0",
         "0",
         "STON/O2. 3101282",
         "7925.0",
         "h",
         "S",
         "miss"
        ],
        [
         "4",
         "5",
         "0",
         "3",
         "Allen, Mr. William Henry",
         "male",
         "35.0",
         "0",
         "0",
         "373450",
         "8.05",
         "g",
         "S",
         "mr"
        ],
        [
         "5",
         "6",
         "0",
         "3",
         "Moran, Mr. James",
         "male",
         "28.318910256410255",
         "0",
         "0",
         "330877",
         "8.4583",
         "e",
         "Q",
         "mr"
        ],
        [
         "7",
         "8",
         "0",
         "3",
         "Palsson, Master. Gosta Leonard",
         "male",
         "2.0",
         "3",
         "1",
         "349909",
         "21075.0",
         "e",
         "S",
         "master"
        ]
       ],
       "shape": {
        "columns": 13,
        "rows": 5
       }
      },
      "text/html": [
       "<div>\n",
       "<style scoped>\n",
       "    .dataframe tbody tr th:only-of-type {\n",
       "        vertical-align: middle;\n",
       "    }\n",
       "\n",
       "    .dataframe tbody tr th {\n",
       "        vertical-align: top;\n",
       "    }\n",
       "\n",
       "    .dataframe thead th {\n",
       "        text-align: right;\n",
       "    }\n",
       "</style>\n",
       "<table border=\"1\" class=\"dataframe\">\n",
       "  <thead>\n",
       "    <tr style=\"text-align: right;\">\n",
       "      <th></th>\n",
       "      <th>PassengerId</th>\n",
       "      <th>Survived</th>\n",
       "      <th>Pclass</th>\n",
       "      <th>Name</th>\n",
       "      <th>Sex</th>\n",
       "      <th>Age</th>\n",
       "      <th>SibSp</th>\n",
       "      <th>Parch</th>\n",
       "      <th>Ticket</th>\n",
       "      <th>Fare</th>\n",
       "      <th>Cabin</th>\n",
       "      <th>Embarked</th>\n",
       "      <th>Título</th>\n",
       "    </tr>\n",
       "  </thead>\n",
       "  <tbody>\n",
       "    <tr>\n",
       "      <th>0</th>\n",
       "      <td>1</td>\n",
       "      <td>0</td>\n",
       "      <td>3</td>\n",
       "      <td>Braund, Mr. Owen Harris</td>\n",
       "      <td>male</td>\n",
       "      <td>22.00000</td>\n",
       "      <td>1</td>\n",
       "      <td>0</td>\n",
       "      <td>A/5 21171</td>\n",
       "      <td>7.2500</td>\n",
       "      <td>g</td>\n",
       "      <td>S</td>\n",
       "      <td>mr</td>\n",
       "    </tr>\n",
       "    <tr>\n",
       "      <th>2</th>\n",
       "      <td>3</td>\n",
       "      <td>1</td>\n",
       "      <td>3</td>\n",
       "      <td>Heikkinen, Miss. Laina</td>\n",
       "      <td>female</td>\n",
       "      <td>26.00000</td>\n",
       "      <td>0</td>\n",
       "      <td>0</td>\n",
       "      <td>STON/O2. 3101282</td>\n",
       "      <td>7925.0000</td>\n",
       "      <td>h</td>\n",
       "      <td>S</td>\n",
       "      <td>miss</td>\n",
       "    </tr>\n",
       "    <tr>\n",
       "      <th>4</th>\n",
       "      <td>5</td>\n",
       "      <td>0</td>\n",
       "      <td>3</td>\n",
       "      <td>Allen, Mr. William Henry</td>\n",
       "      <td>male</td>\n",
       "      <td>35.00000</td>\n",
       "      <td>0</td>\n",
       "      <td>0</td>\n",
       "      <td>373450</td>\n",
       "      <td>8.0500</td>\n",
       "      <td>g</td>\n",
       "      <td>S</td>\n",
       "      <td>mr</td>\n",
       "    </tr>\n",
       "    <tr>\n",
       "      <th>5</th>\n",
       "      <td>6</td>\n",
       "      <td>0</td>\n",
       "      <td>3</td>\n",
       "      <td>Moran, Mr. James</td>\n",
       "      <td>male</td>\n",
       "      <td>28.31891</td>\n",
       "      <td>0</td>\n",
       "      <td>0</td>\n",
       "      <td>330877</td>\n",
       "      <td>8.4583</td>\n",
       "      <td>e</td>\n",
       "      <td>Q</td>\n",
       "      <td>mr</td>\n",
       "    </tr>\n",
       "    <tr>\n",
       "      <th>7</th>\n",
       "      <td>8</td>\n",
       "      <td>0</td>\n",
       "      <td>3</td>\n",
       "      <td>Palsson, Master. Gosta Leonard</td>\n",
       "      <td>male</td>\n",
       "      <td>2.00000</td>\n",
       "      <td>3</td>\n",
       "      <td>1</td>\n",
       "      <td>349909</td>\n",
       "      <td>21075.0000</td>\n",
       "      <td>e</td>\n",
       "      <td>S</td>\n",
       "      <td>master</td>\n",
       "    </tr>\n",
       "  </tbody>\n",
       "</table>\n",
       "</div>"
      ],
      "text/plain": [
       "   PassengerId  Survived  Pclass                            Name     Sex  \\\n",
       "0            1         0       3         Braund, Mr. Owen Harris    male   \n",
       "2            3         1       3          Heikkinen, Miss. Laina  female   \n",
       "4            5         0       3        Allen, Mr. William Henry    male   \n",
       "5            6         0       3                Moran, Mr. James    male   \n",
       "7            8         0       3  Palsson, Master. Gosta Leonard    male   \n",
       "\n",
       "        Age  SibSp  Parch            Ticket        Fare Cabin Embarked  Título  \n",
       "0  22.00000      1      0         A/5 21171      7.2500     g        S      mr  \n",
       "2  26.00000      0      0  STON/O2. 3101282   7925.0000     h        S    miss  \n",
       "4  35.00000      0      0            373450      8.0500     g        S      mr  \n",
       "5  28.31891      0      0            330877      8.4583     e        Q      mr  \n",
       "7   2.00000      3      1            349909  21075.0000     e        S  master  "
      ]
     },
     "execution_count": 56,
     "metadata": {},
     "output_type": "execute_result"
    }
   ],
   "source": [
    "df_aux.head(5)"
   ]
  },
  {
   "cell_type": "markdown",
   "id": "e386a27f",
   "metadata": {},
   "source": [
    "- Combinando os dois dataframes"
   ]
  },
  {
   "cell_type": "code",
   "execution_count": 57,
   "id": "d1944474",
   "metadata": {},
   "outputs": [],
   "source": [
    "df_titanic = df_titanic.combine_first(df_aux)"
   ]
  },
  {
   "cell_type": "code",
   "execution_count": 58,
   "id": "9b78886e",
   "metadata": {},
   "outputs": [
    {
     "data": {
      "text/plain": [
       "0"
      ]
     },
     "execution_count": 58,
     "metadata": {},
     "output_type": "execute_result"
    }
   ],
   "source": [
    "df_titanic[df_titanic['Cabin'].isnull()].shape[0]"
   ]
  },
  {
   "cell_type": "markdown",
   "id": "23f7808d",
   "metadata": {},
   "source": [
    "- Podemos observar que todos os registros de Cabin possuem pelo menos um letra associada"
   ]
  },
  {
   "cell_type": "code",
   "execution_count": 59,
   "id": "733b848a",
   "metadata": {},
   "outputs": [
    {
     "data": {
      "application/vnd.microsoft.datawrangler.viewer.v0+json": {
       "columns": [
        {
         "name": "index",
         "rawType": "object",
         "type": "string"
        },
        {
         "name": "0",
         "rawType": "float64",
         "type": "float"
        }
       ],
       "ref": "6b2cbfda-4d61-45c7-8f1b-7b5fc8839a83",
       "rows": [
        [
         "PassengerId",
         "0.0"
        ],
        [
         "Survived",
         "0.0"
        ],
        [
         "Pclass",
         "0.0"
        ],
        [
         "Name",
         "0.0"
        ],
        [
         "Sex",
         "0.0"
        ],
        [
         "Age",
         "0.0"
        ],
        [
         "SibSp",
         "0.0"
        ],
        [
         "Parch",
         "0.0"
        ],
        [
         "Ticket",
         "0.0"
        ],
        [
         "Fare",
         "0.0"
        ],
        [
         "Cabin",
         "0.0"
        ],
        [
         "Embarked",
         "0.0"
        ],
        [
         "Título",
         "0.0"
        ]
       ],
       "shape": {
        "columns": 1,
        "rows": 13
       }
      },
      "text/plain": [
       "PassengerId    0.0\n",
       "Survived       0.0\n",
       "Pclass         0.0\n",
       "Name           0.0\n",
       "Sex            0.0\n",
       "Age            0.0\n",
       "SibSp          0.0\n",
       "Parch          0.0\n",
       "Ticket         0.0\n",
       "Fare           0.0\n",
       "Cabin          0.0\n",
       "Embarked       0.0\n",
       "Título         0.0\n",
       "dtype: float64"
      ]
     },
     "execution_count": 59,
     "metadata": {},
     "output_type": "execute_result"
    }
   ],
   "source": [
    "round(df_titanic.isnull().mean()*100, 2)"
   ]
  },
  {
   "cell_type": "markdown",
   "id": "fa5a37d6",
   "metadata": {},
   "source": [
    "- E com isso, finalizamos nossa atividade de limpeza dos dados. Todas as colunas possuem dados."
   ]
  },
  {
   "cell_type": "markdown",
   "id": "851ce9e8",
   "metadata": {},
   "source": [
    "- Vamos explorar visualmente nossos dados. Vamos visualizar as pessoas que sobreviveram baseado na classe e gênero"
   ]
  },
  {
   "cell_type": "markdown",
   "id": "42ab169b",
   "metadata": {},
   "source": [
    "- Pessoas que sobreviveram"
   ]
  },
  {
   "cell_type": "code",
   "execution_count": 60,
   "id": "798025d4",
   "metadata": {},
   "outputs": [
    {
     "data": {
      "text/plain": [
       "<Axes: xlabel='Pclass'>"
      ]
     },
     "execution_count": 60,
     "metadata": {},
     "output_type": "execute_result"
    },
    {
     "data": {
      "image/png": "[encoded data removed]",
      "text/plain": [
       "<Figure size 640x480 with 1 Axes>"
      ]
     },
     "metadata": {},
     "output_type": "display_data"
    }
   ],
   "source": [
    "survived = df_titanic.loc[df_titanic['Survived'] == 1]\n",
    "percentual = pd.crosstab(survived.Sex,\n",
    "                         survived.Pclass,\n",
    "                         aggfunc = 'count',\n",
    "                         values = survived.Survived)\n",
    "\n",
    "percentual.T.plot.bar(rot=0)"
   ]
  },
  {
   "cell_type": "markdown",
   "id": "f7f1cae4",
   "metadata": {},
   "source": [
    "- Pessoas que não sobreviveram"
   ]
  },
  {
   "cell_type": "code",
   "execution_count": 61,
   "id": "7944e8d4",
   "metadata": {},
   "outputs": [
    {
     "data": {
      "text/plain": [
       "<Axes: xlabel='Pclass'>"
      ]
     },
     "execution_count": 61,
     "metadata": {},
     "output_type": "execute_result"
    },
    {
     "data": {
      "image/png": "[encoded data removed]",
      "text/plain": [
       "<Figure size 640x480 with 1 Axes>"
      ]
     },
     "metadata": {},
     "output_type": "display_data"
    }
   ],
   "source": [
    "not_survived = df_titanic.loc[df_titanic['Survived'] == 0]\n",
    "percentual = pd.crosstab(not_survived.Sex,\n",
    "                         not_survived.Pclass,\n",
    "                         aggfunc = 'count',\n",
    "                         values = not_survived.Survived)\n",
    "\n",
    "percentual.T.plot.bar(rot=0)"
   ]
  },
  {
   "cell_type": "markdown",
   "id": "022bd2d1",
   "metadata": {},
   "source": [
    "- Conforme nosso gráfico acima, em todas as classes o percentual de mulheres sobrevivente é superior aos homens e fica mais expressivo quando olhamos para a primeria e segunda classe.\n"
   ]
  },
  {
   "cell_type": "markdown",
   "id": "c3505c3b",
   "metadata": {},
   "source": [
    "- Média de idade dos que sobreviveram e dos que morreram"
   ]
  },
  {
   "cell_type": "code",
   "execution_count": 62,
   "id": "b99b6490",
   "metadata": {},
   "outputs": [
    {
     "data": {
      "application/vnd.microsoft.datawrangler.viewer.v0+json": {
       "columns": [
        {
         "name": "Survived",
         "rawType": "int64",
         "type": "integer"
        },
        {
         "name": "Age",
         "rawType": "float64",
         "type": "float"
        }
       ],
       "ref": "690bd5c2-6c61-46fe-97de-f4f3b1073723",
       "rows": [
        [
         "0",
         "30.10362181988119"
        ],
        [
         "1",
         "28.552944420477882"
        ]
       ],
       "shape": {
        "columns": 1,
        "rows": 2
       }
      },
      "text/html": [
       "<div>\n",
       "<style scoped>\n",
       "    .dataframe tbody tr th:only-of-type {\n",
       "        vertical-align: middle;\n",
       "    }\n",
       "\n",
       "    .dataframe tbody tr th {\n",
       "        vertical-align: top;\n",
       "    }\n",
       "\n",
       "    .dataframe thead th {\n",
       "        text-align: right;\n",
       "    }\n",
       "</style>\n",
       "<table border=\"1\" class=\"dataframe\">\n",
       "  <thead>\n",
       "    <tr style=\"text-align: right;\">\n",
       "      <th></th>\n",
       "      <th>Age</th>\n",
       "    </tr>\n",
       "    <tr>\n",
       "      <th>Survived</th>\n",
       "      <th></th>\n",
       "    </tr>\n",
       "  </thead>\n",
       "  <tbody>\n",
       "    <tr>\n",
       "      <th>0</th>\n",
       "      <td>30.103622</td>\n",
       "    </tr>\n",
       "    <tr>\n",
       "      <th>1</th>\n",
       "      <td>28.552944</td>\n",
       "    </tr>\n",
       "  </tbody>\n",
       "</table>\n",
       "</div>"
      ],
      "text/plain": [
       "                Age\n",
       "Survived           \n",
       "0         30.103622\n",
       "1         28.552944"
      ]
     },
     "execution_count": 62,
     "metadata": {},
     "output_type": "execute_result"
    }
   ],
   "source": [
    "df_titanic.groupby('Survived')[['Age']].mean()"
   ]
  }
 ],
 "metadata": {
  "hide_input": false,
  "kernelspec": {
   "display_name": ".venv",
   "language": "python",
   "name": "python3"
  },
  "language_info": {
   "codemirror_mode": {
    "name": "ipython",
    "version": 3
   },
   "file_extension": ".py",
   "mimetype": "text/x-python",
   "name": "python",
   "nbconvert_exporter": "python",
   "pygments_lexer": "ipython3",
   "version": "3.12.6"
  }
 },
 "nbformat": 4,
 "nbformat_minor": 5
}
