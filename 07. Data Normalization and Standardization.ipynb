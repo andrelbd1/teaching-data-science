{
 "cells": [
  {
   "cell_type": "markdown",
   "id": "96609bf6",
   "metadata": {},
   "source": [
    "## <font color=green> Normalização e Padronização de dados"
   ]
  },
  {
   "cell_type": "code",
   "execution_count": 1,
   "id": "6d88ce4f",
   "metadata": {},
   "outputs": [],
   "source": [
    "import pandas as pd"
   ]
  },
  {
   "cell_type": "code",
   "execution_count": 2,
   "id": "7894308e",
   "metadata": {},
   "outputs": [],
   "source": [
    "wine_data = pd.read_csv(\"datasets/wine.csv\")"
   ]
  },
  {
   "cell_type": "code",
   "execution_count": 3,
   "id": "c7ce0078",
   "metadata": {},
   "outputs": [
    {
     "data": {
      "application/vnd.microsoft.datawrangler.viewer.v0+json": {
       "columns": [
        {
         "name": "index",
         "rawType": "int64",
         "type": "integer"
        },
        {
         "name": "Class",
         "rawType": "int64",
         "type": "integer"
        },
        {
         "name": "Alcohol",
         "rawType": "float64",
         "type": "float"
        },
        {
         "name": "Malic",
         "rawType": "float64",
         "type": "float"
        }
       ],
       "ref": "b237d78b-ea9c-4fb4-a6a3-81117cb1d47e",
       "rows": [
        [
         "0",
         "1",
         "13.2",
         "1.78"
        ],
        [
         "1",
         "1",
         "13.16",
         "2.36"
        ],
        [
         "2",
         "1",
         "14.37",
         "1.95"
        ],
        [
         "3",
         "1",
         "13.24",
         "2.59"
        ],
        [
         "4",
         "1",
         "14.2",
         "1.76"
        ]
       ],
       "shape": {
        "columns": 3,
        "rows": 5
       }
      },
      "text/html": [
       "<div>\n",
       "<style scoped>\n",
       "    .dataframe tbody tr th:only-of-type {\n",
       "        vertical-align: middle;\n",
       "    }\n",
       "\n",
       "    .dataframe tbody tr th {\n",
       "        vertical-align: top;\n",
       "    }\n",
       "\n",
       "    .dataframe thead th {\n",
       "        text-align: right;\n",
       "    }\n",
       "</style>\n",
       "<table border=\"1\" class=\"dataframe\">\n",
       "  <thead>\n",
       "    <tr style=\"text-align: right;\">\n",
       "      <th></th>\n",
       "      <th>Class</th>\n",
       "      <th>Alcohol</th>\n",
       "      <th>Malic</th>\n",
       "    </tr>\n",
       "  </thead>\n",
       "  <tbody>\n",
       "    <tr>\n",
       "      <th>0</th>\n",
       "      <td>1</td>\n",
       "      <td>13.20</td>\n",
       "      <td>1.78</td>\n",
       "    </tr>\n",
       "    <tr>\n",
       "      <th>1</th>\n",
       "      <td>1</td>\n",
       "      <td>13.16</td>\n",
       "      <td>2.36</td>\n",
       "    </tr>\n",
       "    <tr>\n",
       "      <th>2</th>\n",
       "      <td>1</td>\n",
       "      <td>14.37</td>\n",
       "      <td>1.95</td>\n",
       "    </tr>\n",
       "    <tr>\n",
       "      <th>3</th>\n",
       "      <td>1</td>\n",
       "      <td>13.24</td>\n",
       "      <td>2.59</td>\n",
       "    </tr>\n",
       "    <tr>\n",
       "      <th>4</th>\n",
       "      <td>1</td>\n",
       "      <td>14.20</td>\n",
       "      <td>1.76</td>\n",
       "    </tr>\n",
       "  </tbody>\n",
       "</table>\n",
       "</div>"
      ],
      "text/plain": [
       "   Class  Alcohol  Malic\n",
       "0      1    13.20   1.78\n",
       "1      1    13.16   2.36\n",
       "2      1    14.37   1.95\n",
       "3      1    13.24   2.59\n",
       "4      1    14.20   1.76"
      ]
     },
     "execution_count": 3,
     "metadata": {},
     "output_type": "execute_result"
    }
   ],
   "source": [
    "wine_data.head()"
   ]
  },
  {
   "cell_type": "markdown",
   "id": "08a79080",
   "metadata": {},
   "source": [
    "- Vamos explorar cada coluna em detalhe"
   ]
  },
  {
   "cell_type": "code",
   "execution_count": 4,
   "id": "c348075c",
   "metadata": {},
   "outputs": [
    {
     "data": {
      "text/plain": [
       "<Axes: >"
      ]
     },
     "execution_count": 4,
     "metadata": {},
     "output_type": "execute_result"
    },
    {
     "data": {
      "image/png": "[encoded data removed]",
      "text/plain": [
       "<Figure size 1500x200 with 1 Axes>"
      ]
     },
     "metadata": {},
     "output_type": "display_data"
    }
   ],
   "source": [
    "wine_data['Alcohol'].plot.box(vert=False, figsize=(15,2))"
   ]
  },
  {
   "cell_type": "markdown",
   "id": "eb5a48d4",
   "metadata": {},
   "source": [
    "- Podemos observar que os valores da *feature Alcohol* varia aproximadamente de 11 à 15 "
   ]
  },
  {
   "cell_type": "code",
   "execution_count": 5,
   "id": "08b60318",
   "metadata": {},
   "outputs": [
    {
     "data": {
      "application/vnd.microsoft.datawrangler.viewer.v0+json": {
       "columns": [
        {
         "name": "index",
         "rawType": "object",
         "type": "string"
        },
        {
         "name": "Alcohol",
         "rawType": "float64",
         "type": "float"
        }
       ],
       "ref": "8bf8f0f2-ccac-4671-a7f9-ecf2a66decd1",
       "rows": [
        [
         "count",
         "177.0"
        ],
        [
         "mean",
         "12.993672316384181"
        ],
        [
         "std",
         "0.8088084424378919"
        ],
        [
         "min",
         "11.03"
        ],
        [
         "25%",
         "12.36"
        ],
        [
         "50%",
         "13.05"
        ],
        [
         "75%",
         "13.67"
        ],
        [
         "max",
         "14.83"
        ]
       ],
       "shape": {
        "columns": 1,
        "rows": 8
       }
      },
      "text/plain": [
       "count    177.000000\n",
       "mean      12.993672\n",
       "std        0.808808\n",
       "min       11.030000\n",
       "25%       12.360000\n",
       "50%       13.050000\n",
       "75%       13.670000\n",
       "max       14.830000\n",
       "Name: Alcohol, dtype: float64"
      ]
     },
     "execution_count": 5,
     "metadata": {},
     "output_type": "execute_result"
    }
   ],
   "source": [
    "wine_data['Alcohol'].describe()"
   ]
  },
  {
   "cell_type": "markdown",
   "id": "9b4cde3e",
   "metadata": {},
   "source": [
    "- Claramente podemos visualizar que o valor mínimo é 11.03 e o valor máximo é 14.83"
   ]
  },
  {
   "cell_type": "code",
   "execution_count": 6,
   "id": "181a37bb",
   "metadata": {},
   "outputs": [
    {
     "data": {
      "text/plain": [
       "<Axes: >"
      ]
     },
     "execution_count": 6,
     "metadata": {},
     "output_type": "execute_result"
    },
    {
     "data": {
      "image/png": "[encoded data removed]",
      "text/plain": [
       "<Figure size 1500x200 with 1 Axes>"
      ]
     },
     "metadata": {},
     "output_type": "display_data"
    }
   ],
   "source": [
    "wine_data['Malic'].plot.box(vert=False, figsize=(15,2))"
   ]
  },
  {
   "cell_type": "markdown",
   "id": "99f5d093",
   "metadata": {},
   "source": [
    "- Podemos observar também que os valores da *feature Malic* varia aproximadamente de 1 à 6 com poucos outliers"
   ]
  },
  {
   "cell_type": "code",
   "execution_count": 7,
   "id": "cbb13ee8",
   "metadata": {},
   "outputs": [
    {
     "data": {
      "application/vnd.microsoft.datawrangler.viewer.v0+json": {
       "columns": [
        {
         "name": "index",
         "rawType": "object",
         "type": "string"
        },
        {
         "name": "Malic",
         "rawType": "float64",
         "type": "float"
        }
       ],
       "ref": "ff5dc240-411d-4721-9703-11e867cf5123",
       "rows": [
        [
         "count",
         "177.0"
        ],
        [
         "mean",
         "2.339887005649717"
        ],
        [
         "std",
         "1.119314415116238"
        ],
        [
         "min",
         "0.74"
        ],
        [
         "25%",
         "1.6"
        ],
        [
         "50%",
         "1.87"
        ],
        [
         "75%",
         "3.1"
        ],
        [
         "max",
         "5.8"
        ]
       ],
       "shape": {
        "columns": 1,
        "rows": 8
       }
      },
      "text/plain": [
       "count    177.000000\n",
       "mean       2.339887\n",
       "std        1.119314\n",
       "min        0.740000\n",
       "25%        1.600000\n",
       "50%        1.870000\n",
       "75%        3.100000\n",
       "max        5.800000\n",
       "Name: Malic, dtype: float64"
      ]
     },
     "execution_count": 7,
     "metadata": {},
     "output_type": "execute_result"
    }
   ],
   "source": [
    "wine_data['Malic'].describe()"
   ]
  },
  {
   "cell_type": "markdown",
   "id": "b3c88ac6",
   "metadata": {},
   "source": [
    "- Claramente podemos visualizar que o valor mínimo é 0.74 e o valor máximo é 5.8"
   ]
  },
  {
   "cell_type": "markdown",
   "id": "a01a834d",
   "metadata": {},
   "source": [
    "- Alterar a escala da *feature* muitas vezes é essencial para uma melhor visualização dos dados. Além disso, com algumas exceções, algoritmos de *Machine Learning* não performam bem quando os dados estão em diferentes escalas."
   ]
  },
  {
   "cell_type": "markdown",
   "id": "493b93d4",
   "metadata": {},
   "source": [
    "### Aplicando Normalização"
   ]
  },
  {
   "cell_type": "markdown",
   "id": "1a3031ab",
   "metadata": {},
   "source": [
    "- Normalizar tem como objetivo colocar as variáveis dentro do intervalo de 0 e 1, caso tenha resultado negativo -1 e 1. A normalização dos dados é feita usando Min-Max:"
   ]
  },
  {
   "cell_type": "markdown",
   "id": "9fba92ec",
   "metadata": {},
   "source": [
    "$$ x_{changed} = \\frac{x - x_{min}}{x_{max} - x_{min}} $$"
   ]
  },
  {
   "cell_type": "markdown",
   "id": "fc7830d1",
   "metadata": {},
   "source": [
    "- Nomalização pode ser calculada utilizando *MinMaxScaler* da biblioteca scikit-learn"
   ]
  },
  {
   "cell_type": "code",
   "execution_count": 8,
   "id": "e4ccca3a",
   "metadata": {},
   "outputs": [],
   "source": [
    "from sklearn.preprocessing import MinMaxScaler"
   ]
  },
  {
   "cell_type": "code",
   "execution_count": 9,
   "id": "9b78061c",
   "metadata": {},
   "outputs": [],
   "source": [
    "minmax_scale = MinMaxScaler(feature_range=(0,1)) # O parâmetro feature_range=(0,1) é o default\n",
    "df_minmax = minmax_scale.fit_transform(wine_data[['Alcohol', 'Malic']])"
   ]
  },
  {
   "cell_type": "code",
   "execution_count": 10,
   "id": "6bc34b1e",
   "metadata": {},
   "outputs": [
    {
     "name": "stdout",
     "output_type": "stream",
     "text": [
      "Valor mínimo depois de normalizar:\n",
      "Alcohol=0.00, Malic acid=0.00\n",
      "\n",
      "Valor máximo depois de normalizar:\n",
      "Alcohol=1.00, Malic acid=1.00\n"
     ]
    }
   ],
   "source": [
    "print('Valor mínimo depois de normalizar:\\nAlcohol={:.2f}, Malic acid={:.2f}'\n",
    "      .format(df_minmax[:,0].min(), df_minmax[:,1].min()))\n",
    "print('\\nValor máximo depois de normalizar:\\nAlcohol={:.2f}, Malic acid={:.2f}'\n",
    "      .format(df_minmax[:,0].max(), df_minmax[:,1].max()))"
   ]
  },
  {
   "cell_type": "markdown",
   "id": "3bdf4b4a",
   "metadata": {},
   "source": [
    "### Aplicando Padronização"
   ]
  },
  {
   "cell_type": "markdown",
   "id": "642008b9",
   "metadata": {},
   "source": [
    "- Padronizar as variáveis irá resultar em uma média igual a 0 e um desvio padrão igual a 1. Normalmente é feita usando a fórmula z-score:"
   ]
  },
  {
   "cell_type": "markdown",
   "id": "b2add63a",
   "metadata": {},
   "source": [
    "$$ z = \\frac{x - \\mu}{\\sigma} $$"
   ]
  },
  {
   "cell_type": "markdown",
   "id": "00b90eea",
   "metadata": {},
   "source": [
    "- Padronização pode ser calculada utilizando *StandardScaler* da biblioteca scikit-learn"
   ]
  },
  {
   "cell_type": "code",
   "execution_count": 11,
   "id": "6be9b185",
   "metadata": {},
   "outputs": [],
   "source": [
    "from sklearn.preprocessing import StandardScaler"
   ]
  },
  {
   "cell_type": "code",
   "execution_count": 12,
   "id": "6aea2f59",
   "metadata": {},
   "outputs": [],
   "source": [
    "std_scale = StandardScaler()\n",
    "df_std = std_scale.fit_transform(wine_data[['Alcohol', 'Malic']])"
   ]
  },
  {
   "cell_type": "code",
   "execution_count": 13,
   "id": "839ec2e0",
   "metadata": {},
   "outputs": [
    {
     "name": "stdout",
     "output_type": "stream",
     "text": [
      "Média dos valores depois de padronizar:\n",
      "Alcohol=-0.00, Malic acid=0.00\n",
      "\n",
      "Desvio padrão dos valores depois de padronizar:\n",
      "Alcohol=1.00, Malic acid=1.00\n"
     ]
    }
   ],
   "source": [
    "print('Média dos valores depois de padronizar:\\nAlcohol={:.2f}, Malic acid={:.2f}'\n",
    "      .format(df_std[:,0].mean(), df_std[:,1].mean()))\n",
    "print('\\nDesvio padrão dos valores depois de padronizar:\\nAlcohol={:.2f}, Malic acid={:.2f}'\n",
    "      .format(df_std[:,0].std(), df_std[:,1].std()))"
   ]
  },
  {
   "cell_type": "markdown",
   "id": "89a7a3bf",
   "metadata": {},
   "source": [
    "### Comparando os resultados"
   ]
  },
  {
   "cell_type": "code",
   "execution_count": 14,
   "id": "a4e701dd",
   "metadata": {},
   "outputs": [],
   "source": [
    "wine_data_normalized = wine_data.copy()\n",
    "wine_data_normalized['Alcohol'] = df_minmax[:,0]\n",
    "wine_data_normalized['Malic'] = df_minmax[:,1]"
   ]
  },
  {
   "cell_type": "code",
   "execution_count": 15,
   "id": "0ac6d8b9",
   "metadata": {},
   "outputs": [],
   "source": [
    "wine_data_standardized = wine_data.copy()\n",
    "wine_data_standardized['Alcohol'] = df_std[:,0]\n",
    "wine_data_standardized['Malic'] = df_std[:,1]"
   ]
  },
  {
   "cell_type": "code",
   "execution_count": 16,
   "id": "a4bfd8a1",
   "metadata": {},
   "outputs": [
    {
     "data": {
      "text/plain": [
       "<Axes: title={'center': 'Input scale'}, xlabel='Alcohol', ylabel='Malic'>"
      ]
     },
     "execution_count": 16,
     "metadata": {},
     "output_type": "execute_result"
    },
    {
     "data": {
      "image/png": "[encoded data removed]",
      "text/plain": [
       "<Figure size 640x480 with 1 Axes>"
      ]
     },
     "metadata": {},
     "output_type": "display_data"
    }
   ],
   "source": [
    "ax = wine_data[wine_data['Class']==1].plot.scatter(x=\"Alcohol\", y=\"Malic\", color=\"Red\", label=\"Class 1\")\n",
    "ax = wine_data[wine_data['Class']==2].plot.scatter(x=\"Alcohol\", y=\"Malic\", color=\"Blue\", label=\"Class 2\", ax=ax)\n",
    "wine_data[wine_data['Class']==3].plot.scatter(x=\"Alcohol\", y=\"Malic\", color=\"Green\", label=\"Class 3\", ax=ax, grid=True, title = \"Input scale\")"
   ]
  },
  {
   "cell_type": "code",
   "execution_count": 17,
   "id": "c004a7be",
   "metadata": {},
   "outputs": [
    {
     "data": {
      "text/plain": [
       "<Axes: title={'center': 'Normalized'}, xlabel='Alcohol', ylabel='Malic'>"
      ]
     },
     "execution_count": 17,
     "metadata": {},
     "output_type": "execute_result"
    },
    {
     "data": {
      "image/png": "[encoded data removed]",
      "text/plain": [
       "<Figure size 640x480 with 1 Axes>"
      ]
     },
     "metadata": {},
     "output_type": "display_data"
    }
   ],
   "source": [
    "ax = wine_data_normalized[wine_data_normalized['Class']==1].plot.scatter(x=\"Alcohol\", y=\"Malic\", color=\"Red\", label=\"Class 1\")\n",
    "ax = wine_data_normalized[wine_data_normalized['Class']==2].plot.scatter(x=\"Alcohol\", y=\"Malic\", color=\"Blue\", label=\"Class 2\", ax=ax)\n",
    "wine_data_normalized[wine_data_normalized['Class']==3].plot.scatter(x=\"Alcohol\", y=\"Malic\", color=\"Green\", label=\"Class 3\", ax=ax, grid=True, title = \"Normalized\")"
   ]
  },
  {
   "cell_type": "code",
   "execution_count": 18,
   "id": "1149663d",
   "metadata": {},
   "outputs": [
    {
     "data": {
      "text/plain": [
       "<Axes: title={'center': 'Standardized'}, xlabel='Alcohol', ylabel='Malic'>"
      ]
     },
     "execution_count": 18,
     "metadata": {},
     "output_type": "execute_result"
    },
    {
     "data": {
      "image/png": "[encoded data removed]",
      "text/plain": [
       "<Figure size 640x480 with 1 Axes>"
      ]
     },
     "metadata": {},
     "output_type": "display_data"
    }
   ],
   "source": [
    "ax = wine_data_standardized[wine_data_standardized['Class']==1].plot.scatter(x=\"Alcohol\", y=\"Malic\", color=\"Red\", label=\"Class 1\")\n",
    "ax = wine_data_standardized[wine_data_standardized['Class']==2].plot.scatter(x=\"Alcohol\", y=\"Malic\", color=\"Blue\", label=\"Class 2\", ax=ax)\n",
    "wine_data_standardized[wine_data_standardized['Class']==3].plot.scatter(x=\"Alcohol\", y=\"Malic\", color=\"Green\", label=\"Class 3\", ax=ax, grid=True, title = \"Standardized\")"
   ]
  },
  {
   "cell_type": "markdown",
   "id": "6e616196",
   "metadata": {},
   "source": [
    "- No **\"*Input scale*\"**, os valores da *feature alcohol* variam entre 11 e 15, e da *feature malic* entre 0 e 6\n",
    "- No **\"*Normalized*\"**, ambos os valores da *feature alcohol* e *feature malic* entre 0 e 1\n",
    "- No **\"*Standardized*\"**, ambos os valores da *feature alcohol* e *feature malic* estão centralizados em 0"
   ]
  },
  {
   "cell_type": "markdown",
   "id": "dc522650",
   "metadata": {},
   "source": [
    "- A padronização de dados pode ser um problema para alguns algoritmos de *Machine Learning* (*e.g.*, redes neurais geralmente performam melhor com dados de entrada no intervalo de 0 e 1)\n",
    "- Se a distribuição não é Gaussiana ou o desvio padrão é muito pequeno, normalizar os dados é uma escolha a ser tomada\n",
    "- Contudo, a padronização de dados é menos afetada por outliers"
   ]
  },
  {
   "cell_type": "markdown",
   "id": "fe7024d6",
   "metadata": {},
   "source": [
    "## <font color=green> Tipos de dados e ferramentas para data e hora"
   ]
  },
  {
   "cell_type": "markdown",
   "id": "2d515a68",
   "metadata": {},
   "source": [
    "- A biblioteca-padrão de Python inclui tipos de dados para data e horas, assim como funcionalidades relacionadas ao calendário.\n",
    "- Os módulos datetime, time e calendar são os principais\n",
    "- datetime é amplamente utilizado"
   ]
  },
  {
   "cell_type": "code",
   "execution_count": 19,
   "id": "fdfb2935",
   "metadata": {},
   "outputs": [],
   "source": [
    "from datetime import datetime"
   ]
  },
  {
   "cell_type": "code",
   "execution_count": 20,
   "id": "fbf31457",
   "metadata": {},
   "outputs": [
    {
     "data": {
      "text/plain": [
       "datetime.datetime(2025, 10, 20, 12, 23, 31, 441492)"
      ]
     },
     "execution_count": 20,
     "metadata": {},
     "output_type": "execute_result"
    }
   ],
   "source": [
    "now = datetime.now()\n",
    "now"
   ]
  },
  {
   "cell_type": "code",
   "execution_count": 21,
   "id": "c93ce6ae",
   "metadata": {},
   "outputs": [
    {
     "data": {
      "text/plain": [
       "(2025, 10, 20)"
      ]
     },
     "execution_count": 21,
     "metadata": {},
     "output_type": "execute_result"
    }
   ],
   "source": [
    "now.year, now.month, now.day"
   ]
  },
  {
   "cell_type": "markdown",
   "id": "fb58b80e",
   "metadata": {},
   "source": [
    "- datetime armazena tanto a data quanto a hora, até o nível de microssegundos. timedelta representa a diferença de tempo entre dois objetos datetime"
   ]
  },
  {
   "cell_type": "code",
   "execution_count": 22,
   "id": "8edfa44e",
   "metadata": {},
   "outputs": [
    {
     "data": {
      "text/plain": [
       "datetime.timedelta(days=5211, seconds=44611, microseconds=441492)"
      ]
     },
     "execution_count": 22,
     "metadata": {},
     "output_type": "execute_result"
    }
   ],
   "source": [
    "delta = now - datetime(2011, 7, 15)\n",
    "delta"
   ]
  },
  {
   "cell_type": "code",
   "execution_count": 23,
   "id": "b305ed70",
   "metadata": {},
   "outputs": [
    {
     "data": {
      "text/plain": [
       "5211"
      ]
     },
     "execution_count": 23,
     "metadata": {},
     "output_type": "execute_result"
    }
   ],
   "source": [
    "delta.days"
   ]
  },
  {
   "cell_type": "code",
   "execution_count": 24,
   "id": "b87954fe",
   "metadata": {},
   "outputs": [
    {
     "data": {
      "text/plain": [
       "44611"
      ]
     },
     "execution_count": 24,
     "metadata": {},
     "output_type": "execute_result"
    }
   ],
   "source": [
    "delta.seconds"
   ]
  },
  {
   "cell_type": "markdown",
   "id": "0a5561cd",
   "metadata": {},
   "source": [
    "- Podemos somar um timedelta ou um múltiplo dele a um objeto datetime (ou subtrair desse objeto), o que resultará em um novo objeto deslocado"
   ]
  },
  {
   "cell_type": "code",
   "execution_count": 25,
   "id": "32b04361",
   "metadata": {},
   "outputs": [],
   "source": [
    "from datetime import timedelta"
   ]
  },
  {
   "cell_type": "code",
   "execution_count": 26,
   "id": "80d5f11c",
   "metadata": {},
   "outputs": [],
   "source": [
    "start = datetime(2011, 7, 15)"
   ]
  },
  {
   "cell_type": "markdown",
   "id": "6348ba22",
   "metadata": {},
   "source": [
    "- Somando 12 dias"
   ]
  },
  {
   "cell_type": "code",
   "execution_count": 27,
   "id": "9be9c73c",
   "metadata": {},
   "outputs": [
    {
     "data": {
      "text/plain": [
       "datetime.datetime(2011, 7, 27, 0, 0)"
      ]
     },
     "execution_count": 27,
     "metadata": {},
     "output_type": "execute_result"
    }
   ],
   "source": [
    "start + timedelta(12)"
   ]
  },
  {
   "cell_type": "markdown",
   "id": "6d595574",
   "metadata": {},
   "source": [
    "### Conversão entre string e datetime"
   ]
  },
  {
   "cell_type": "markdown",
   "id": "c8607b96",
   "metadata": {},
   "source": [
    "- Podemos formatar objetos datetime e objetos Timestamp do pandas como strings, usando str ou o método strftime, passando uma especificação de formato"
   ]
  },
  {
   "cell_type": "code",
   "execution_count": 28,
   "id": "01c63a09",
   "metadata": {},
   "outputs": [
    {
     "data": {
      "text/plain": [
       "datetime.datetime(2011, 1, 3, 0, 0)"
      ]
     },
     "execution_count": 28,
     "metadata": {},
     "output_type": "execute_result"
    }
   ],
   "source": [
    "stamp = datetime(2011, 1, 3)\n",
    "stamp"
   ]
  },
  {
   "cell_type": "code",
   "execution_count": 29,
   "id": "d7ffd403",
   "metadata": {},
   "outputs": [
    {
     "data": {
      "text/plain": [
       "'2011-01-03'"
      ]
     },
     "execution_count": 29,
     "metadata": {},
     "output_type": "execute_result"
    }
   ],
   "source": [
    "stamp.strftime('%Y-%m-%d')"
   ]
  },
  {
   "cell_type": "markdown",
   "id": "441fbc7e",
   "metadata": {},
   "source": [
    "- Podemos usar esses mesmos códigos de formato para converter strings em datas usando datetime.strptime"
   ]
  },
  {
   "cell_type": "code",
   "execution_count": 30,
   "id": "69e19599",
   "metadata": {},
   "outputs": [],
   "source": [
    "value = '2021-07-10'"
   ]
  },
  {
   "cell_type": "code",
   "execution_count": 31,
   "id": "3a3ac334",
   "metadata": {},
   "outputs": [
    {
     "data": {
      "text/plain": [
       "datetime.datetime(2021, 7, 10, 0, 0)"
      ]
     },
     "execution_count": 31,
     "metadata": {},
     "output_type": "execute_result"
    }
   ],
   "source": [
    "datetime.strptime(value, '%Y-%m-%d')"
   ]
  },
  {
   "cell_type": "code",
   "execution_count": 32,
   "id": "f4bf4a74",
   "metadata": {},
   "outputs": [],
   "source": [
    "date_lst = ['7/7/2021', '15/7/2021']"
   ]
  },
  {
   "cell_type": "code",
   "execution_count": 33,
   "id": "76e33d47",
   "metadata": {},
   "outputs": [
    {
     "data": {
      "text/plain": [
       "[datetime.datetime(2021, 7, 7, 0, 0), datetime.datetime(2021, 7, 15, 0, 0)]"
      ]
     },
     "execution_count": 33,
     "metadata": {},
     "output_type": "execute_result"
    }
   ],
   "source": [
    "[datetime.strptime(x, '%d/%m/%Y') for x in date_lst]"
   ]
  },
  {
   "cell_type": "markdown",
   "id": "22d79c07",
   "metadata": {},
   "source": [
    "- Podemos usar também o método parser.parse do pacote de terceitos dateutil"
   ]
  },
  {
   "cell_type": "code",
   "execution_count": 34,
   "id": "1e0042b3",
   "metadata": {},
   "outputs": [],
   "source": [
    "from dateutil.parser import parse"
   ]
  },
  {
   "cell_type": "code",
   "execution_count": 35,
   "id": "143fffd5",
   "metadata": {},
   "outputs": [
    {
     "data": {
      "text/plain": [
       "datetime.datetime(2021, 1, 3, 0, 0)"
      ]
     },
     "execution_count": 35,
     "metadata": {},
     "output_type": "execute_result"
    }
   ],
   "source": [
    "parse('2021-01-03')"
   ]
  },
  {
   "cell_type": "markdown",
   "id": "85199085",
   "metadata": {},
   "source": [
    "- Ele é capaz de fazer parse da maior parte das representações de data legíveis aos seres humanos"
   ]
  },
  {
   "cell_type": "code",
   "execution_count": 36,
   "id": "860b66e3",
   "metadata": {},
   "outputs": [
    {
     "data": {
      "text/plain": [
       "datetime.datetime(2019, 1, 31, 22, 45)"
      ]
     },
     "execution_count": 36,
     "metadata": {},
     "output_type": "execute_result"
    }
   ],
   "source": [
    "parse('Jan 31, 2019 10:45 PM')"
   ]
  },
  {
   "cell_type": "markdown",
   "id": "52133992",
   "metadata": {},
   "source": [
    "- Fora dos Estados Unidos, o dia estar antes do mês é bem comum, portanto podemos passar dayfirst=True para sinalizar esse fato"
   ]
  },
  {
   "cell_type": "code",
   "execution_count": 37,
   "id": "8a66fbd5",
   "metadata": {},
   "outputs": [
    {
     "data": {
      "text/plain": [
       "datetime.datetime(2020, 12, 6, 0, 0)"
      ]
     },
     "execution_count": 37,
     "metadata": {},
     "output_type": "execute_result"
    }
   ],
   "source": [
    "parse('6/12/2020', dayfirst=True)"
   ]
  },
  {
   "cell_type": "markdown",
   "id": "bd193ce2",
   "metadata": {},
   "source": [
    "- O parse também lida com valores que devam ser indicativos de dados ausentes (None, string vazia, etc.)"
   ]
  },
  {
   "cell_type": "code",
   "execution_count": 38,
   "id": "80684ae5",
   "metadata": {},
   "outputs": [],
   "source": [
    "idx = pd.to_datetime(date_lst+[None], dayfirst=True)"
   ]
  },
  {
   "cell_type": "code",
   "execution_count": 39,
   "id": "b91d1b12",
   "metadata": {},
   "outputs": [
    {
     "data": {
      "text/plain": [
       "DatetimeIndex(['2021-07-07', '2021-07-15', 'NaT'], dtype='datetime64[ns]', freq=None)"
      ]
     },
     "execution_count": 39,
     "metadata": {},
     "output_type": "execute_result"
    }
   ],
   "source": [
    "idx"
   ]
  },
  {
   "cell_type": "code",
   "execution_count": 40,
   "id": "8ac3e1f5",
   "metadata": {},
   "outputs": [
    {
     "data": {
      "text/plain": [
       "NaT"
      ]
     },
     "execution_count": 40,
     "metadata": {},
     "output_type": "execute_result"
    }
   ],
   "source": [
    "idx[2]"
   ]
  },
  {
   "cell_type": "markdown",
   "id": "ec03cb2e",
   "metadata": {},
   "source": [
    "- NaT (Not a Time) é o valor nulo do pandas para dados de timestamp"
   ]
  },
  {
   "cell_type": "code",
   "execution_count": 41,
   "id": "502725bf",
   "metadata": {},
   "outputs": [
    {
     "data": {
      "text/plain": [
       "array([False, False,  True])"
      ]
     },
     "execution_count": 41,
     "metadata": {},
     "output_type": "execute_result"
    }
   ],
   "source": [
    "pd.isnull(idx)"
   ]
  }
 ],
 "metadata": {
  "hide_input": false,
  "kernelspec": {
   "display_name": ".venv",
   "language": "python",
   "name": "python3"
  },
  "language_info": {
   "codemirror_mode": {
    "name": "ipython",
    "version": 3
   },
   "file_extension": ".py",
   "mimetype": "text/x-python",
   "name": "python",
   "nbconvert_exporter": "python",
   "pygments_lexer": "ipython3",
   "version": "3.12.6"
  }
 },
 "nbformat": 4,
 "nbformat_minor": 5
}
